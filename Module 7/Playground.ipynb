{
 "cells": [
  {
   "cell_type": "code",
   "execution_count": 1,
   "id": "a8f5c05b-f3fe-4649-9e65-fd62f1609da0",
   "metadata": {},
   "outputs": [],
   "source": [
    "import seaborn as sns\n",
    "import pandas as pd\n",
    "import plotly.express as px\n",
    "import numpy as np"
   ]
  },
  {
   "cell_type": "code",
   "execution_count": 2,
   "id": "f421b759-33fd-4c49-b0de-5993e47ffb4e",
   "metadata": {},
   "outputs": [
    {
     "data": {
      "text/html": [
       "<div>\n",
       "<style scoped>\n",
       "    .dataframe tbody tr th:only-of-type {\n",
       "        vertical-align: middle;\n",
       "    }\n",
       "\n",
       "    .dataframe tbody tr th {\n",
       "        vertical-align: top;\n",
       "    }\n",
       "\n",
       "    .dataframe thead th {\n",
       "        text-align: right;\n",
       "    }\n",
       "</style>\n",
       "<table border=\"1\" class=\"dataframe\">\n",
       "  <thead>\n",
       "    <tr style=\"text-align: right;\">\n",
       "      <th></th>\n",
       "      <th>total_bill</th>\n",
       "      <th>tip</th>\n",
       "      <th>sex</th>\n",
       "      <th>smoker</th>\n",
       "      <th>day</th>\n",
       "      <th>time</th>\n",
       "      <th>size</th>\n",
       "    </tr>\n",
       "  </thead>\n",
       "  <tbody>\n",
       "    <tr>\n",
       "      <th>0</th>\n",
       "      <td>16.99</td>\n",
       "      <td>1.01</td>\n",
       "      <td>Female</td>\n",
       "      <td>No</td>\n",
       "      <td>Sun</td>\n",
       "      <td>Dinner</td>\n",
       "      <td>2</td>\n",
       "    </tr>\n",
       "    <tr>\n",
       "      <th>1</th>\n",
       "      <td>10.34</td>\n",
       "      <td>1.66</td>\n",
       "      <td>Male</td>\n",
       "      <td>No</td>\n",
       "      <td>Sun</td>\n",
       "      <td>Dinner</td>\n",
       "      <td>3</td>\n",
       "    </tr>\n",
       "    <tr>\n",
       "      <th>2</th>\n",
       "      <td>21.01</td>\n",
       "      <td>3.50</td>\n",
       "      <td>Male</td>\n",
       "      <td>No</td>\n",
       "      <td>Sun</td>\n",
       "      <td>Dinner</td>\n",
       "      <td>3</td>\n",
       "    </tr>\n",
       "    <tr>\n",
       "      <th>3</th>\n",
       "      <td>23.68</td>\n",
       "      <td>3.31</td>\n",
       "      <td>Male</td>\n",
       "      <td>No</td>\n",
       "      <td>Sun</td>\n",
       "      <td>Dinner</td>\n",
       "      <td>2</td>\n",
       "    </tr>\n",
       "    <tr>\n",
       "      <th>4</th>\n",
       "      <td>24.59</td>\n",
       "      <td>3.61</td>\n",
       "      <td>Female</td>\n",
       "      <td>No</td>\n",
       "      <td>Sun</td>\n",
       "      <td>Dinner</td>\n",
       "      <td>4</td>\n",
       "    </tr>\n",
       "  </tbody>\n",
       "</table>\n",
       "</div>"
      ],
      "text/plain": [
       "   total_bill   tip     sex smoker  day    time  size\n",
       "0       16.99  1.01  Female     No  Sun  Dinner     2\n",
       "1       10.34  1.66    Male     No  Sun  Dinner     3\n",
       "2       21.01  3.50    Male     No  Sun  Dinner     3\n",
       "3       23.68  3.31    Male     No  Sun  Dinner     2\n",
       "4       24.59  3.61  Female     No  Sun  Dinner     4"
      ]
     },
     "execution_count": 2,
     "metadata": {},
     "output_type": "execute_result"
    }
   ],
   "source": [
    "data = sns.load_dataset(\"tips\")\n",
    "data.head(5)"
   ]
  },
  {
   "cell_type": "code",
   "execution_count": 8,
   "id": "90eaccc0-8c9d-4d8f-bc91-21ae2147edbc",
   "metadata": {},
   "outputs": [],
   "source": [
    "features = data[['total_bill']]\n",
    "tip = data['tip']"
   ]
  },
  {
   "cell_type": "code",
   "execution_count": 14,
   "id": "e0a959af-dc15-465c-87e4-c03f70f59ae3",
   "metadata": {},
   "outputs": [
    {
     "data": {
      "text/html": [
       "<style>#sk-container-id-2 {color: black;background-color: white;}#sk-container-id-2 pre{padding: 0;}#sk-container-id-2 div.sk-toggleable {background-color: white;}#sk-container-id-2 label.sk-toggleable__label {cursor: pointer;display: block;width: 100%;margin-bottom: 0;padding: 0.3em;box-sizing: border-box;text-align: center;}#sk-container-id-2 label.sk-toggleable__label-arrow:before {content: \"▸\";float: left;margin-right: 0.25em;color: #696969;}#sk-container-id-2 label.sk-toggleable__label-arrow:hover:before {color: black;}#sk-container-id-2 div.sk-estimator:hover label.sk-toggleable__label-arrow:before {color: black;}#sk-container-id-2 div.sk-toggleable__content {max-height: 0;max-width: 0;overflow: hidden;text-align: left;background-color: #f0f8ff;}#sk-container-id-2 div.sk-toggleable__content pre {margin: 0.2em;color: black;border-radius: 0.25em;background-color: #f0f8ff;}#sk-container-id-2 input.sk-toggleable__control:checked~div.sk-toggleable__content {max-height: 200px;max-width: 100%;overflow: auto;}#sk-container-id-2 input.sk-toggleable__control:checked~label.sk-toggleable__label-arrow:before {content: \"▾\";}#sk-container-id-2 div.sk-estimator input.sk-toggleable__control:checked~label.sk-toggleable__label {background-color: #d4ebff;}#sk-container-id-2 div.sk-label input.sk-toggleable__control:checked~label.sk-toggleable__label {background-color: #d4ebff;}#sk-container-id-2 input.sk-hidden--visually {border: 0;clip: rect(1px 1px 1px 1px);clip: rect(1px, 1px, 1px, 1px);height: 1px;margin: -1px;overflow: hidden;padding: 0;position: absolute;width: 1px;}#sk-container-id-2 div.sk-estimator {font-family: monospace;background-color: #f0f8ff;border: 1px dotted black;border-radius: 0.25em;box-sizing: border-box;margin-bottom: 0.5em;}#sk-container-id-2 div.sk-estimator:hover {background-color: #d4ebff;}#sk-container-id-2 div.sk-parallel-item::after {content: \"\";width: 100%;border-bottom: 1px solid gray;flex-grow: 1;}#sk-container-id-2 div.sk-label:hover label.sk-toggleable__label {background-color: #d4ebff;}#sk-container-id-2 div.sk-serial::before {content: \"\";position: absolute;border-left: 1px solid gray;box-sizing: border-box;top: 0;bottom: 0;left: 50%;z-index: 0;}#sk-container-id-2 div.sk-serial {display: flex;flex-direction: column;align-items: center;background-color: white;padding-right: 0.2em;padding-left: 0.2em;position: relative;}#sk-container-id-2 div.sk-item {position: relative;z-index: 1;}#sk-container-id-2 div.sk-parallel {display: flex;align-items: stretch;justify-content: center;background-color: white;position: relative;}#sk-container-id-2 div.sk-item::before, #sk-container-id-2 div.sk-parallel-item::before {content: \"\";position: absolute;border-left: 1px solid gray;box-sizing: border-box;top: 0;bottom: 0;left: 50%;z-index: -1;}#sk-container-id-2 div.sk-parallel-item {display: flex;flex-direction: column;z-index: 1;position: relative;background-color: white;}#sk-container-id-2 div.sk-parallel-item:first-child::after {align-self: flex-end;width: 50%;}#sk-container-id-2 div.sk-parallel-item:last-child::after {align-self: flex-start;width: 50%;}#sk-container-id-2 div.sk-parallel-item:only-child::after {width: 0;}#sk-container-id-2 div.sk-dashed-wrapped {border: 1px dashed gray;margin: 0 0.4em 0.5em 0.4em;box-sizing: border-box;padding-bottom: 0.4em;background-color: white;}#sk-container-id-2 div.sk-label label {font-family: monospace;font-weight: bold;display: inline-block;line-height: 1.2em;}#sk-container-id-2 div.sk-label-container {text-align: center;}#sk-container-id-2 div.sk-container {/* jupyter's `normalize.less` sets `[hidden] { display: none; }` but bootstrap.min.css set `[hidden] { display: none !important; }` so we also need the `!important` here to be able to override the default hidden behavior on the sphinx rendered scikit-learn.org. See: https://github.com/scikit-learn/scikit-learn/issues/21755 */display: inline-block !important;position: relative;}#sk-container-id-2 div.sk-text-repr-fallback {display: none;}</style><div id=\"sk-container-id-2\" class=\"sk-top-container\"><div class=\"sk-text-repr-fallback\"><pre>LinearRegression(fit_intercept=False)</pre><b>In a Jupyter environment, please rerun this cell to show the HTML representation or trust the notebook. <br />On GitHub, the HTML representation is unable to render, please try loading this page with nbviewer.org.</b></div><div class=\"sk-container\" hidden><div class=\"sk-item\"><div class=\"sk-estimator sk-toggleable\"><input class=\"sk-toggleable__control sk-hidden--visually\" id=\"sk-estimator-id-2\" type=\"checkbox\" checked><label for=\"sk-estimator-id-2\" class=\"sk-toggleable__label sk-toggleable__label-arrow\">LinearRegression</label><div class=\"sk-toggleable__content\"><pre>LinearRegression(fit_intercept=False)</pre></div></div></div></div></div>"
      ],
      "text/plain": [
       "LinearRegression(fit_intercept=False)"
      ]
     },
     "execution_count": 14,
     "metadata": {},
     "output_type": "execute_result"
    }
   ],
   "source": [
    "from sklearn import linear_model\n",
    "\n",
    "f = linear_model.LinearRegression(fit_intercept=False)\n",
    "f.fit(features.values, tip)"
   ]
  },
  {
   "cell_type": "code",
   "execution_count": 15,
   "id": "b07507d6-3226-493c-9c05-43984c4cb3d0",
   "metadata": {},
   "outputs": [
    {
     "data": {
      "text/plain": [
       "array([14.37318953])"
      ]
     },
     "execution_count": 15,
     "metadata": {},
     "output_type": "execute_result"
    }
   ],
   "source": [
    "f.predict([[100]])"
   ]
  },
  {
   "cell_type": "code",
   "execution_count": 16,
   "id": "c8a82305-a58d-4527-a4fa-a33e7d2434ce",
   "metadata": {},
   "outputs": [
    {
     "data": {
      "text/plain": [
       "array([10.65340808])"
      ]
     },
     "execution_count": 16,
     "metadata": {},
     "output_type": "execute_result"
    }
   ],
   "source": [
    "f.predict([[74.12]])"
   ]
  },
  {
   "cell_type": "code",
   "execution_count": 19,
   "id": "3ae47291-bd58-4469-9339-d58eb2de3a47",
   "metadata": {},
   "outputs": [
    {
     "data": {
      "text/html": [
       "<div>\n",
       "<style scoped>\n",
       "    .dataframe tbody tr th:only-of-type {\n",
       "        vertical-align: middle;\n",
       "    }\n",
       "\n",
       "    .dataframe tbody tr th {\n",
       "        vertical-align: top;\n",
       "    }\n",
       "\n",
       "    .dataframe thead th {\n",
       "        text-align: right;\n",
       "    }\n",
       "</style>\n",
       "<table border=\"1\" class=\"dataframe\">\n",
       "  <thead>\n",
       "    <tr style=\"text-align: right;\">\n",
       "      <th></th>\n",
       "      <th>total_bill</th>\n",
       "      <th>tip</th>\n",
       "      <th>sex</th>\n",
       "      <th>smoker</th>\n",
       "      <th>day</th>\n",
       "      <th>time</th>\n",
       "      <th>size</th>\n",
       "      <th>prediction</th>\n",
       "    </tr>\n",
       "  </thead>\n",
       "  <tbody>\n",
       "    <tr>\n",
       "      <th>0</th>\n",
       "      <td>16.99</td>\n",
       "      <td>1.01</td>\n",
       "      <td>Female</td>\n",
       "      <td>No</td>\n",
       "      <td>Sun</td>\n",
       "      <td>Dinner</td>\n",
       "      <td>2</td>\n",
       "      <td>2.442005</td>\n",
       "    </tr>\n",
       "    <tr>\n",
       "      <th>1</th>\n",
       "      <td>10.34</td>\n",
       "      <td>1.66</td>\n",
       "      <td>Male</td>\n",
       "      <td>No</td>\n",
       "      <td>Sun</td>\n",
       "      <td>Dinner</td>\n",
       "      <td>3</td>\n",
       "      <td>1.486188</td>\n",
       "    </tr>\n",
       "    <tr>\n",
       "      <th>2</th>\n",
       "      <td>21.01</td>\n",
       "      <td>3.50</td>\n",
       "      <td>Male</td>\n",
       "      <td>No</td>\n",
       "      <td>Sun</td>\n",
       "      <td>Dinner</td>\n",
       "      <td>3</td>\n",
       "      <td>3.019807</td>\n",
       "    </tr>\n",
       "    <tr>\n",
       "      <th>3</th>\n",
       "      <td>23.68</td>\n",
       "      <td>3.31</td>\n",
       "      <td>Male</td>\n",
       "      <td>No</td>\n",
       "      <td>Sun</td>\n",
       "      <td>Dinner</td>\n",
       "      <td>2</td>\n",
       "      <td>3.403571</td>\n",
       "    </tr>\n",
       "    <tr>\n",
       "      <th>4</th>\n",
       "      <td>24.59</td>\n",
       "      <td>3.61</td>\n",
       "      <td>Female</td>\n",
       "      <td>No</td>\n",
       "      <td>Sun</td>\n",
       "      <td>Dinner</td>\n",
       "      <td>4</td>\n",
       "      <td>3.534367</td>\n",
       "    </tr>\n",
       "    <tr>\n",
       "      <th>...</th>\n",
       "      <td>...</td>\n",
       "      <td>...</td>\n",
       "      <td>...</td>\n",
       "      <td>...</td>\n",
       "      <td>...</td>\n",
       "      <td>...</td>\n",
       "      <td>...</td>\n",
       "      <td>...</td>\n",
       "    </tr>\n",
       "    <tr>\n",
       "      <th>239</th>\n",
       "      <td>29.03</td>\n",
       "      <td>5.92</td>\n",
       "      <td>Male</td>\n",
       "      <td>No</td>\n",
       "      <td>Sat</td>\n",
       "      <td>Dinner</td>\n",
       "      <td>3</td>\n",
       "      <td>4.172537</td>\n",
       "    </tr>\n",
       "    <tr>\n",
       "      <th>240</th>\n",
       "      <td>27.18</td>\n",
       "      <td>2.00</td>\n",
       "      <td>Female</td>\n",
       "      <td>Yes</td>\n",
       "      <td>Sat</td>\n",
       "      <td>Dinner</td>\n",
       "      <td>2</td>\n",
       "      <td>3.906633</td>\n",
       "    </tr>\n",
       "    <tr>\n",
       "      <th>241</th>\n",
       "      <td>22.67</td>\n",
       "      <td>2.00</td>\n",
       "      <td>Male</td>\n",
       "      <td>Yes</td>\n",
       "      <td>Sat</td>\n",
       "      <td>Dinner</td>\n",
       "      <td>2</td>\n",
       "      <td>3.258402</td>\n",
       "    </tr>\n",
       "    <tr>\n",
       "      <th>242</th>\n",
       "      <td>17.82</td>\n",
       "      <td>1.75</td>\n",
       "      <td>Male</td>\n",
       "      <td>No</td>\n",
       "      <td>Sat</td>\n",
       "      <td>Dinner</td>\n",
       "      <td>2</td>\n",
       "      <td>2.561302</td>\n",
       "    </tr>\n",
       "    <tr>\n",
       "      <th>243</th>\n",
       "      <td>18.78</td>\n",
       "      <td>3.00</td>\n",
       "      <td>Female</td>\n",
       "      <td>No</td>\n",
       "      <td>Thur</td>\n",
       "      <td>Dinner</td>\n",
       "      <td>2</td>\n",
       "      <td>2.699285</td>\n",
       "    </tr>\n",
       "  </tbody>\n",
       "</table>\n",
       "<p>244 rows × 8 columns</p>\n",
       "</div>"
      ],
      "text/plain": [
       "     total_bill   tip     sex smoker   day    time  size  prediction\n",
       "0         16.99  1.01  Female     No   Sun  Dinner     2    2.442005\n",
       "1         10.34  1.66    Male     No   Sun  Dinner     3    1.486188\n",
       "2         21.01  3.50    Male     No   Sun  Dinner     3    3.019807\n",
       "3         23.68  3.31    Male     No   Sun  Dinner     2    3.403571\n",
       "4         24.59  3.61  Female     No   Sun  Dinner     4    3.534367\n",
       "..          ...   ...     ...    ...   ...     ...   ...         ...\n",
       "239       29.03  5.92    Male     No   Sat  Dinner     3    4.172537\n",
       "240       27.18  2.00  Female    Yes   Sat  Dinner     2    3.906633\n",
       "241       22.67  2.00    Male    Yes   Sat  Dinner     2    3.258402\n",
       "242       17.82  1.75    Male     No   Sat  Dinner     2    2.561302\n",
       "243       18.78  3.00  Female     No  Thur  Dinner     2    2.699285\n",
       "\n",
       "[244 rows x 8 columns]"
      ]
     },
     "execution_count": 19,
     "metadata": {},
     "output_type": "execute_result"
    }
   ],
   "source": [
    "data['prediction'] = f.predict(features.values)\n",
    "data"
   ]
  },
  {
   "cell_type": "code",
   "execution_count": 20,
   "id": "0693533a-58be-467b-9f70-1556a0f14aa8",
   "metadata": {},
   "outputs": [
    {
     "data": {
      "application/vnd.plotly.v1+json": {
       "config": {
        "plotlyServerURL": "https://plot.ly"
       },
       "data": [
        {
         "mode": "markers",
         "name": "actual",
         "type": "scatter",
         "x": {
          "bdata": "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",
          "dtype": "f8"
         },
         "y": {
          "bdata": "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",
          "dtype": "f8"
         }
        },
        {
         "mode": "lines",
         "name": "predicted",
         "type": "scatter",
         "x": {
          "bdata": "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",
          "dtype": "f8"
         },
         "y": {
          "bdata": "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",
          "dtype": "f8"
         }
        }
       ],
       "layout": {
        "font": {
         "size": 20
        },
        "template": {
         "data": {
          "bar": [
           {
            "error_x": {
             "color": "#2a3f5f"
            },
            "error_y": {
             "color": "#2a3f5f"
            },
            "marker": {
             "line": {
              "color": "#E5ECF6",
              "width": 0.5
             },
             "pattern": {
              "fillmode": "overlay",
              "size": 10,
              "solidity": 0.2
             }
            },
            "type": "bar"
           }
          ],
          "barpolar": [
           {
            "marker": {
             "line": {
              "color": "#E5ECF6",
              "width": 0.5
             },
             "pattern": {
              "fillmode": "overlay",
              "size": 10,
              "solidity": 0.2
             }
            },
            "type": "barpolar"
           }
          ],
          "carpet": [
           {
            "aaxis": {
             "endlinecolor": "#2a3f5f",
             "gridcolor": "white",
             "linecolor": "white",
             "minorgridcolor": "white",
             "startlinecolor": "#2a3f5f"
            },
            "baxis": {
             "endlinecolor": "#2a3f5f",
             "gridcolor": "white",
             "linecolor": "white",
             "minorgridcolor": "white",
             "startlinecolor": "#2a3f5f"
            },
            "type": "carpet"
           }
          ],
          "choropleth": [
           {
            "colorbar": {
             "outlinewidth": 0,
             "ticks": ""
            },
            "type": "choropleth"
           }
          ],
          "contour": [
           {
            "colorbar": {
             "outlinewidth": 0,
             "ticks": ""
            },
            "colorscale": [
             [
              0,
              "#0d0887"
             ],
             [
              0.1111111111111111,
              "#46039f"
             ],
             [
              0.2222222222222222,
              "#7201a8"
             ],
             [
              0.3333333333333333,
              "#9c179e"
             ],
             [
              0.4444444444444444,
              "#bd3786"
             ],
             [
              0.5555555555555556,
              "#d8576b"
             ],
             [
              0.6666666666666666,
              "#ed7953"
             ],
             [
              0.7777777777777778,
              "#fb9f3a"
             ],
             [
              0.8888888888888888,
              "#fdca26"
             ],
             [
              1,
              "#f0f921"
             ]
            ],
            "type": "contour"
           }
          ],
          "contourcarpet": [
           {
            "colorbar": {
             "outlinewidth": 0,
             "ticks": ""
            },
            "type": "contourcarpet"
           }
          ],
          "heatmap": [
           {
            "colorbar": {
             "outlinewidth": 0,
             "ticks": ""
            },
            "colorscale": [
             [
              0,
              "#0d0887"
             ],
             [
              0.1111111111111111,
              "#46039f"
             ],
             [
              0.2222222222222222,
              "#7201a8"
             ],
             [
              0.3333333333333333,
              "#9c179e"
             ],
             [
              0.4444444444444444,
              "#bd3786"
             ],
             [
              0.5555555555555556,
              "#d8576b"
             ],
             [
              0.6666666666666666,
              "#ed7953"
             ],
             [
              0.7777777777777778,
              "#fb9f3a"
             ],
             [
              0.8888888888888888,
              "#fdca26"
             ],
             [
              1,
              "#f0f921"
             ]
            ],
            "type": "heatmap"
           }
          ],
          "histogram": [
           {
            "marker": {
             "pattern": {
              "fillmode": "overlay",
              "size": 10,
              "solidity": 0.2
             }
            },
            "type": "histogram"
           }
          ],
          "histogram2d": [
           {
            "colorbar": {
             "outlinewidth": 0,
             "ticks": ""
            },
            "colorscale": [
             [
              0,
              "#0d0887"
             ],
             [
              0.1111111111111111,
              "#46039f"
             ],
             [
              0.2222222222222222,
              "#7201a8"
             ],
             [
              0.3333333333333333,
              "#9c179e"
             ],
             [
              0.4444444444444444,
              "#bd3786"
             ],
             [
              0.5555555555555556,
              "#d8576b"
             ],
             [
              0.6666666666666666,
              "#ed7953"
             ],
             [
              0.7777777777777778,
              "#fb9f3a"
             ],
             [
              0.8888888888888888,
              "#fdca26"
             ],
             [
              1,
              "#f0f921"
             ]
            ],
            "type": "histogram2d"
           }
          ],
          "histogram2dcontour": [
           {
            "colorbar": {
             "outlinewidth": 0,
             "ticks": ""
            },
            "colorscale": [
             [
              0,
              "#0d0887"
             ],
             [
              0.1111111111111111,
              "#46039f"
             ],
             [
              0.2222222222222222,
              "#7201a8"
             ],
             [
              0.3333333333333333,
              "#9c179e"
             ],
             [
              0.4444444444444444,
              "#bd3786"
             ],
             [
              0.5555555555555556,
              "#d8576b"
             ],
             [
              0.6666666666666666,
              "#ed7953"
             ],
             [
              0.7777777777777778,
              "#fb9f3a"
             ],
             [
              0.8888888888888888,
              "#fdca26"
             ],
             [
              1,
              "#f0f921"
             ]
            ],
            "type": "histogram2dcontour"
           }
          ],
          "mesh3d": [
           {
            "colorbar": {
             "outlinewidth": 0,
             "ticks": ""
            },
            "type": "mesh3d"
           }
          ],
          "parcoords": [
           {
            "line": {
             "colorbar": {
              "outlinewidth": 0,
              "ticks": ""
             }
            },
            "type": "parcoords"
           }
          ],
          "pie": [
           {
            "automargin": true,
            "type": "pie"
           }
          ],
          "scatter": [
           {
            "fillpattern": {
             "fillmode": "overlay",
             "size": 10,
             "solidity": 0.2
            },
            "type": "scatter"
           }
          ],
          "scatter3d": [
           {
            "line": {
             "colorbar": {
              "outlinewidth": 0,
              "ticks": ""
             }
            },
            "marker": {
             "colorbar": {
              "outlinewidth": 0,
              "ticks": ""
             }
            },
            "type": "scatter3d"
           }
          ],
          "scattercarpet": [
           {
            "marker": {
             "colorbar": {
              "outlinewidth": 0,
              "ticks": ""
             }
            },
            "type": "scattercarpet"
           }
          ],
          "scattergeo": [
           {
            "marker": {
             "colorbar": {
              "outlinewidth": 0,
              "ticks": ""
             }
            },
            "type": "scattergeo"
           }
          ],
          "scattergl": [
           {
            "marker": {
             "colorbar": {
              "outlinewidth": 0,
              "ticks": ""
             }
            },
            "type": "scattergl"
           }
          ],
          "scattermap": [
           {
            "marker": {
             "colorbar": {
              "outlinewidth": 0,
              "ticks": ""
             }
            },
            "type": "scattermap"
           }
          ],
          "scattermapbox": [
           {
            "marker": {
             "colorbar": {
              "outlinewidth": 0,
              "ticks": ""
             }
            },
            "type": "scattermapbox"
           }
          ],
          "scatterpolar": [
           {
            "marker": {
             "colorbar": {
              "outlinewidth": 0,
              "ticks": ""
             }
            },
            "type": "scatterpolar"
           }
          ],
          "scatterpolargl": [
           {
            "marker": {
             "colorbar": {
              "outlinewidth": 0,
              "ticks": ""
             }
            },
            "type": "scatterpolargl"
           }
          ],
          "scatterternary": [
           {
            "marker": {
             "colorbar": {
              "outlinewidth": 0,
              "ticks": ""
             }
            },
            "type": "scatterternary"
           }
          ],
          "surface": [
           {
            "colorbar": {
             "outlinewidth": 0,
             "ticks": ""
            },
            "colorscale": [
             [
              0,
              "#0d0887"
             ],
             [
              0.1111111111111111,
              "#46039f"
             ],
             [
              0.2222222222222222,
              "#7201a8"
             ],
             [
              0.3333333333333333,
              "#9c179e"
             ],
             [
              0.4444444444444444,
              "#bd3786"
             ],
             [
              0.5555555555555556,
              "#d8576b"
             ],
             [
              0.6666666666666666,
              "#ed7953"
             ],
             [
              0.7777777777777778,
              "#fb9f3a"
             ],
             [
              0.8888888888888888,
              "#fdca26"
             ],
             [
              1,
              "#f0f921"
             ]
            ],
            "type": "surface"
           }
          ],
          "table": [
           {
            "cells": {
             "fill": {
              "color": "#EBF0F8"
             },
             "line": {
              "color": "white"
             }
            },
            "header": {
             "fill": {
              "color": "#C8D4E3"
             },
             "line": {
              "color": "white"
             }
            },
            "type": "table"
           }
          ]
         },
         "layout": {
          "annotationdefaults": {
           "arrowcolor": "#2a3f5f",
           "arrowhead": 0,
           "arrowwidth": 1
          },
          "autotypenumbers": "strict",
          "coloraxis": {
           "colorbar": {
            "outlinewidth": 0,
            "ticks": ""
           }
          },
          "colorscale": {
           "diverging": [
            [
             0,
             "#8e0152"
            ],
            [
             0.1,
             "#c51b7d"
            ],
            [
             0.2,
             "#de77ae"
            ],
            [
             0.3,
             "#f1b6da"
            ],
            [
             0.4,
             "#fde0ef"
            ],
            [
             0.5,
             "#f7f7f7"
            ],
            [
             0.6,
             "#e6f5d0"
            ],
            [
             0.7,
             "#b8e186"
            ],
            [
             0.8,
             "#7fbc41"
            ],
            [
             0.9,
             "#4d9221"
            ],
            [
             1,
             "#276419"
            ]
           ],
           "sequential": [
            [
             0,
             "#0d0887"
            ],
            [
             0.1111111111111111,
             "#46039f"
            ],
            [
             0.2222222222222222,
             "#7201a8"
            ],
            [
             0.3333333333333333,
             "#9c179e"
            ],
            [
             0.4444444444444444,
             "#bd3786"
            ],
            [
             0.5555555555555556,
             "#d8576b"
            ],
            [
             0.6666666666666666,
             "#ed7953"
            ],
            [
             0.7777777777777778,
             "#fb9f3a"
            ],
            [
             0.8888888888888888,
             "#fdca26"
            ],
            [
             1,
             "#f0f921"
            ]
           ],
           "sequentialminus": [
            [
             0,
             "#0d0887"
            ],
            [
             0.1111111111111111,
             "#46039f"
            ],
            [
             0.2222222222222222,
             "#7201a8"
            ],
            [
             0.3333333333333333,
             "#9c179e"
            ],
            [
             0.4444444444444444,
             "#bd3786"
            ],
            [
             0.5555555555555556,
             "#d8576b"
            ],
            [
             0.6666666666666666,
             "#ed7953"
            ],
            [
             0.7777777777777778,
             "#fb9f3a"
            ],
            [
             0.8888888888888888,
             "#fdca26"
            ],
            [
             1,
             "#f0f921"
            ]
           ]
          },
          "colorway": [
           "#636efa",
           "#EF553B",
           "#00cc96",
           "#ab63fa",
           "#FFA15A",
           "#19d3f3",
           "#FF6692",
           "#B6E880",
           "#FF97FF",
           "#FECB52"
          ],
          "font": {
           "color": "#2a3f5f"
          },
          "geo": {
           "bgcolor": "white",
           "lakecolor": "white",
           "landcolor": "#E5ECF6",
           "showlakes": true,
           "showland": true,
           "subunitcolor": "white"
          },
          "hoverlabel": {
           "align": "left"
          },
          "hovermode": "closest",
          "mapbox": {
           "style": "light"
          },
          "paper_bgcolor": "white",
          "plot_bgcolor": "#E5ECF6",
          "polar": {
           "angularaxis": {
            "gridcolor": "white",
            "linecolor": "white",
            "ticks": ""
           },
           "bgcolor": "#E5ECF6",
           "radialaxis": {
            "gridcolor": "white",
            "linecolor": "white",
            "ticks": ""
           }
          },
          "scene": {
           "xaxis": {
            "backgroundcolor": "#E5ECF6",
            "gridcolor": "white",
            "gridwidth": 2,
            "linecolor": "white",
            "showbackground": true,
            "ticks": "",
            "zerolinecolor": "white"
           },
           "yaxis": {
            "backgroundcolor": "#E5ECF6",
            "gridcolor": "white",
            "gridwidth": 2,
            "linecolor": "white",
            "showbackground": true,
            "ticks": "",
            "zerolinecolor": "white"
           },
           "zaxis": {
            "backgroundcolor": "#E5ECF6",
            "gridcolor": "white",
            "gridwidth": 2,
            "linecolor": "white",
            "showbackground": true,
            "ticks": "",
            "zerolinecolor": "white"
           }
          },
          "shapedefaults": {
           "line": {
            "color": "#2a3f5f"
           }
          },
          "ternary": {
           "aaxis": {
            "gridcolor": "white",
            "linecolor": "white",
            "ticks": ""
           },
           "baxis": {
            "gridcolor": "white",
            "linecolor": "white",
            "ticks": ""
           },
           "bgcolor": "#E5ECF6",
           "caxis": {
            "gridcolor": "white",
            "linecolor": "white",
            "ticks": ""
           }
          },
          "title": {
           "x": 0.05
          },
          "xaxis": {
           "automargin": true,
           "gridcolor": "white",
           "linecolor": "white",
           "ticks": "",
           "title": {
            "standoff": 15
           },
           "zerolinecolor": "white",
           "zerolinewidth": 2
          },
          "yaxis": {
           "automargin": true,
           "gridcolor": "white",
           "linecolor": "white",
           "ticks": "",
           "title": {
            "standoff": 15
           },
           "zerolinecolor": "white",
           "zerolinewidth": 2
          }
         }
        }
       }
      },
      "image/png": "[encoded data removed]"
     },
     "metadata": {},
     "output_type": "display_data"
    }
   ],
   "source": [
    "import plotly.graph_objects as go\n",
    "\n",
    "fig = go.Figure()\n",
    "fig.add_trace(go.Scatter(x=data['total_bill'], y=data['tip'], mode='markers', name='actual'))\n",
    "fig.add_trace(go.Scatter(x=data['total_bill'], y=data['prediction'], mode='lines', name='predicted'))\n",
    "fig.update_layout(font_size=20)"
   ]
  },
  {
   "cell_type": "code",
   "execution_count": 22,
   "id": "61438787-9baa-4db0-80fb-4559a704e8c6",
   "metadata": {},
   "outputs": [
    {
     "data": {
      "text/plain": [
       "(array([0.1437319]), 0.0)"
      ]
     },
     "execution_count": 22,
     "metadata": {},
     "output_type": "execute_result"
    }
   ],
   "source": [
    "(f.coef_, f.intercept_)"
   ]
  },
  {
   "cell_type": "code",
   "execution_count": 23,
   "id": "5f4e7592-5637-4f48-afe4-bae1b15d1fb9",
   "metadata": {},
   "outputs": [
    {
     "data": {
      "text/html": [
       "<style>#sk-container-id-3 {color: black;background-color: white;}#sk-container-id-3 pre{padding: 0;}#sk-container-id-3 div.sk-toggleable {background-color: white;}#sk-container-id-3 label.sk-toggleable__label {cursor: pointer;display: block;width: 100%;margin-bottom: 0;padding: 0.3em;box-sizing: border-box;text-align: center;}#sk-container-id-3 label.sk-toggleable__label-arrow:before {content: \"▸\";float: left;margin-right: 0.25em;color: #696969;}#sk-container-id-3 label.sk-toggleable__label-arrow:hover:before {color: black;}#sk-container-id-3 div.sk-estimator:hover label.sk-toggleable__label-arrow:before {color: black;}#sk-container-id-3 div.sk-toggleable__content {max-height: 0;max-width: 0;overflow: hidden;text-align: left;background-color: #f0f8ff;}#sk-container-id-3 div.sk-toggleable__content pre {margin: 0.2em;color: black;border-radius: 0.25em;background-color: #f0f8ff;}#sk-container-id-3 input.sk-toggleable__control:checked~div.sk-toggleable__content {max-height: 200px;max-width: 100%;overflow: auto;}#sk-container-id-3 input.sk-toggleable__control:checked~label.sk-toggleable__label-arrow:before {content: \"▾\";}#sk-container-id-3 div.sk-estimator input.sk-toggleable__control:checked~label.sk-toggleable__label {background-color: #d4ebff;}#sk-container-id-3 div.sk-label input.sk-toggleable__control:checked~label.sk-toggleable__label {background-color: #d4ebff;}#sk-container-id-3 input.sk-hidden--visually {border: 0;clip: rect(1px 1px 1px 1px);clip: rect(1px, 1px, 1px, 1px);height: 1px;margin: -1px;overflow: hidden;padding: 0;position: absolute;width: 1px;}#sk-container-id-3 div.sk-estimator {font-family: monospace;background-color: #f0f8ff;border: 1px dotted black;border-radius: 0.25em;box-sizing: border-box;margin-bottom: 0.5em;}#sk-container-id-3 div.sk-estimator:hover {background-color: #d4ebff;}#sk-container-id-3 div.sk-parallel-item::after {content: \"\";width: 100%;border-bottom: 1px solid gray;flex-grow: 1;}#sk-container-id-3 div.sk-label:hover label.sk-toggleable__label {background-color: #d4ebff;}#sk-container-id-3 div.sk-serial::before {content: \"\";position: absolute;border-left: 1px solid gray;box-sizing: border-box;top: 0;bottom: 0;left: 50%;z-index: 0;}#sk-container-id-3 div.sk-serial {display: flex;flex-direction: column;align-items: center;background-color: white;padding-right: 0.2em;padding-left: 0.2em;position: relative;}#sk-container-id-3 div.sk-item {position: relative;z-index: 1;}#sk-container-id-3 div.sk-parallel {display: flex;align-items: stretch;justify-content: center;background-color: white;position: relative;}#sk-container-id-3 div.sk-item::before, #sk-container-id-3 div.sk-parallel-item::before {content: \"\";position: absolute;border-left: 1px solid gray;box-sizing: border-box;top: 0;bottom: 0;left: 50%;z-index: -1;}#sk-container-id-3 div.sk-parallel-item {display: flex;flex-direction: column;z-index: 1;position: relative;background-color: white;}#sk-container-id-3 div.sk-parallel-item:first-child::after {align-self: flex-end;width: 50%;}#sk-container-id-3 div.sk-parallel-item:last-child::after {align-self: flex-start;width: 50%;}#sk-container-id-3 div.sk-parallel-item:only-child::after {width: 0;}#sk-container-id-3 div.sk-dashed-wrapped {border: 1px dashed gray;margin: 0 0.4em 0.5em 0.4em;box-sizing: border-box;padding-bottom: 0.4em;background-color: white;}#sk-container-id-3 div.sk-label label {font-family: monospace;font-weight: bold;display: inline-block;line-height: 1.2em;}#sk-container-id-3 div.sk-label-container {text-align: center;}#sk-container-id-3 div.sk-container {/* jupyter's `normalize.less` sets `[hidden] { display: none; }` but bootstrap.min.css set `[hidden] { display: none !important; }` so we also need the `!important` here to be able to override the default hidden behavior on the sphinx rendered scikit-learn.org. See: https://github.com/scikit-learn/scikit-learn/issues/21755 */display: inline-block !important;position: relative;}#sk-container-id-3 div.sk-text-repr-fallback {display: none;}</style><div id=\"sk-container-id-3\" class=\"sk-top-container\"><div class=\"sk-text-repr-fallback\"><pre>LinearRegression()</pre><b>In a Jupyter environment, please rerun this cell to show the HTML representation or trust the notebook. <br />On GitHub, the HTML representation is unable to render, please try loading this page with nbviewer.org.</b></div><div class=\"sk-container\" hidden><div class=\"sk-item\"><div class=\"sk-estimator sk-toggleable\"><input class=\"sk-toggleable__control sk-hidden--visually\" id=\"sk-estimator-id-3\" type=\"checkbox\" checked><label for=\"sk-estimator-id-3\" class=\"sk-toggleable__label sk-toggleable__label-arrow\">LinearRegression</label><div class=\"sk-toggleable__content\"><pre>LinearRegression()</pre></div></div></div></div></div>"
      ],
      "text/plain": [
       "LinearRegression()"
      ]
     },
     "execution_count": 23,
     "metadata": {},
     "output_type": "execute_result"
    }
   ],
   "source": [
    "f_w_int = linear_model.LinearRegression(fit_intercept=True)\n",
    "f_w_int.fit(features.values, tip)"
   ]
  },
  {
   "cell_type": "code",
   "execution_count": 26,
   "id": "6a1d269e-6a4d-478b-949b-496310c70118",
   "metadata": {},
   "outputs": [
    {
     "data": {
      "text/plain": [
       "array([11.42272135,  0.92026961])"
      ]
     },
     "execution_count": 26,
     "metadata": {},
     "output_type": "execute_result"
    }
   ],
   "source": [
    "f_w_int.predict([[100], [0]])"
   ]
  },
  {
   "cell_type": "code",
   "execution_count": 27,
   "id": "745b55c4-eb1b-486f-b1bd-f8c42d047dd7",
   "metadata": {},
   "outputs": [
    {
     "data": {
      "text/plain": [
       "array([14.37318953,  0.        ])"
      ]
     },
     "execution_count": 27,
     "metadata": {},
     "output_type": "execute_result"
    }
   ],
   "source": [
    "f.predict([[100], [0]])"
   ]
  },
  {
   "cell_type": "code",
   "execution_count": 28,
   "id": "36029ee0-873e-47ff-8980-de434449b85a",
   "metadata": {},
   "outputs": [],
   "source": [
    "data['prediction_with_intercept'] = f_w_int.predict(data[['total_bill']].values)"
   ]
  },
  {
   "cell_type": "code",
   "execution_count": 29,
   "id": "4cf6d8e7-de95-4eb2-89c0-b30af82417f2",
   "metadata": {},
   "outputs": [
    {
     "data": {
      "application/vnd.plotly.v1+json": {
       "config": {
        "plotlyServerURL": "https://plot.ly"
       },
       "data": [
        {
         "mode": "markers",
         "name": "actual",
         "type": "scatter",
         "x": {
          "bdata": "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",
          "dtype": "f8"
         },
         "y": {
          "bdata": "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",
          "dtype": "f8"
         }
        },
        {
         "mode": "lines",
         "name": "prediction (b = 0)",
         "type": "scatter",
         "x": {
          "bdata": "PQrXo3D9MECuR+F6FK4kQMP1KFyPAjVArkfhehSuN0DXo3A9Cpc4QArXo3A9SjlACtejcD2KIUDhehSuR+E6QBSuR+F6FC5Aj8L1KFyPLUAK16NwPYokQOF6FK5HoUFA16NwPQrXLkCuR+F6FG4yQClcj8L1qC1AFK5H4XqUNUApXI/C9agkQArXo3A9SjBAuB6F61H4MEBmZmZmZqY0QOxRuB6F6zFACtejcD1KNEAK16NwPYovQPYoXI/CtUNAUrgehevRM0CPwvUoXM8xQD0K16NwvSpA4XoUrkdhKUAzMzMzM7M1QGZmZmZmpjNAmpmZmZkZI0CamZmZmVkyQB+F61G4Hi5AcT0K16OwNEBI4XoUrscxQI/C9ShcDzhAj8L1KFxPMECuR+F6FO4wQHE9CtejsDJAhetRuB5FP0AK16NwPQowQPYoXI/CdTFA4XoUrkfhK0Bcj8L1KFwjQGZmZmZmZj5ACtejcD1KMkB7FK5H4To2QDMzMzMzM0BAzczMzMyMPEAK16NwPQoyQBSuR+F6FClAFK5H4XqUJEBI4XoUrmdBQOF6FK5H4SNAj8L1KFyPOUA9CtejcH0zQOF6FK5HAUNAKVyPwvVoOkB7FK5H4XomQMP1KFyPIkhACtejcD1KNEAfhetRuJ4rQArXo3A9CiZACtejcD1KMkDXo3A9CpcxQBSuR+F6FDRAMzMzMzNzMECPwvUoXI8IQHsUrkfhOjRAhetRuB4FLkAK16NwPQooQFK4HoXrETFAXI/C9SjcOkBI4XoUrkc5QPYoXI/CdS1AhetRuB4FJUDsUbgehesxQDMzMzMzMztAw/UoXI/CNkAK16NwPUoxQHE9CtejcDNAKVyPwvWoMECkcD0K1yMkQNejcD0KV0BA9ihcj8L1L0AK16NwPWpBQI/C9ShcDypASOF6FK5HMkD2KFyPwrU4QClcj8L1KDVAuB6F61H4PEA9CtejcH02QAAAAAAAABdAUrgehetRMEAAAAAAAMA2QPYoXI/CFURASOF6FK5HO0CPwvUoXA8oQMP1KFyPAjVA7FG4HoXrKEAzMzMzM7MmQMP1KFyPwi5AZmZmZmYmRkDsUbgehWs2QOxRuB6F6zRAuB6F61G4LkA9CtejcH00QPYoXI/CNTlAPQrXo3A9MkAfhetRuJ4sQAAAAAAAACxAAAAAAAAAHUApXI/C9QhDQDMzMzMz8zdA9ihcj8K1OUCPwvUoXE8xQK5H4XoU7j1AzczMzMxMJUBcj8L1KNwoQBSuR+F6FDhA4XoUrkdhJ0DXo3A9CtcqQIXrUbgehSxAZmZmZmbmL0D2KFyPwvUoQM3MzMzMzD1ACtejcD0KIUAK16NwPQotQMP1KFyPwiZAUrgehevRNkAUrkfhehQzQIXrUbgeRTRA16NwPQpXJkCF61G4HoUoQMP1KFyPQjJAhetRuB4FIUApXI/C9agkQM3MzMzMTCxAAAAAAAAAMEBSuB6F61EqQLgehetReDFAZmZmZmYmQUC4HoXrUZhEQM3MzMzMDDtArkfhehRuMEAzMzMzM7MgQKRwPQrXozJAPQrXo3C9J0CPwvUoXI8jQArXo3A9Ch5ApHA9CtcjLEDD9Shcj0IqQMP1KFyPQjFAzczMzMyMOECF61G4HsUzQJqZmZmZ2T1A9ihcj8IVSEAAAAAAAAA5QEjhehSuxypAPQrXo3B9MEAAAAAAAIA1QFK4HoXrUSlA9ihcj8I1MEAfhetRuJ4rQMP1KFyPgjFAhetRuB6FOEDD9Shcj8I0QPYoXI/CtT9ArkfhehQuJUDD9Shcj0IlQEjhehSuZ0lAH4XrUbieL0AAAAAAAAAdQJqZmZmZ2T9AUrgehevRMEAzMzMzM3NAQKRwPQrX4zFA9ihcj8L1LEAzMzMzMzMjQHE9CtejUEFAMzMzMzNTQUAUrkfhelQ3QM3MzMzMrEZA7FG4HoUrN0BmZmZmZkZEQHE9CtejsDRAZmZmZmbmNED2KFyPwnU+QGZmZmZmJjJAmpmZmZkZN0DhehSuR2EvQI/C9ShczzNAcT0K16NwPED2KFyPwvUuQBSuR+F6lDBAPQrXo3A9HkCuR+F6FK4kQK5H4XoUjkVAAAAAAAAAKkCF61G4HgUrQPYoXI/CtTJAexSuR+F6KUAAAAAAAAAqQGZmZmZmZjBASOF6FK6HNEC4HoXrUXgwQNejcD0KlzpAPQrXo3BdQ0CF61G4HkU4QIXrUbgehSlAj8L1KFwPPkCkcD0K1+M5QArXo3A9KkhACtejcD2KKkDsUbgehSs8QM3MzMzMzClAZmZmZmYmPECuR+F6FC4nQPYoXI/C9R5ApHA9CtcjPkBSuB6F61EoQNejcD0K1ypAKVyPwvUoIUD2KFyPwvUvQNejcD0K1ypAhetRuB5FMECuR+F6FC4kQDMzMzMzczRAj8L1KFyPKkAfhetRuB42QMP1KFyPAjhA4XoUrkdhL0C4HoXrUTgnQArXo3A9iiVAj8L1KFwPL0CkcD0K1yMkQDMzMzMzMylACtejcD1qQEAK16NwPepBQEjhehSuBz1ArkfhehQuO0DsUbgehas2QFK4HoXr0TFASOF6FK7HMkA=",
          "dtype": "f8"
         },
         "y": {
          "bdata": "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",
          "dtype": "f8"
         }
        },
        {
         "mode": "lines",
         "name": "prediction (b != 0)",
         "type": "scatter",
         "x": {
          "bdata": "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",
          "dtype": "f8"
         },
         "y": {
          "bdata": "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",
          "dtype": "f8"
         }
        }
       ],
       "layout": {
        "font": {
         "size": 20
        },
        "template": {
         "data": {
          "bar": [
           {
            "error_x": {
             "color": "#2a3f5f"
            },
            "error_y": {
             "color": "#2a3f5f"
            },
            "marker": {
             "line": {
              "color": "#E5ECF6",
              "width": 0.5
             },
             "pattern": {
              "fillmode": "overlay",
              "size": 10,
              "solidity": 0.2
             }
            },
            "type": "bar"
           }
          ],
          "barpolar": [
           {
            "marker": {
             "line": {
              "color": "#E5ECF6",
              "width": 0.5
             },
             "pattern": {
              "fillmode": "overlay",
              "size": 10,
              "solidity": 0.2
             }
            },
            "type": "barpolar"
           }
          ],
          "carpet": [
           {
            "aaxis": {
             "endlinecolor": "#2a3f5f",
             "gridcolor": "white",
             "linecolor": "white",
             "minorgridcolor": "white",
             "startlinecolor": "#2a3f5f"
            },
            "baxis": {
             "endlinecolor": "#2a3f5f",
             "gridcolor": "white",
             "linecolor": "white",
             "minorgridcolor": "white",
             "startlinecolor": "#2a3f5f"
            },
            "type": "carpet"
           }
          ],
          "choropleth": [
           {
            "colorbar": {
             "outlinewidth": 0,
             "ticks": ""
            },
            "type": "choropleth"
           }
          ],
          "contour": [
           {
            "colorbar": {
             "outlinewidth": 0,
             "ticks": ""
            },
            "colorscale": [
             [
              0,
              "#0d0887"
             ],
             [
              0.1111111111111111,
              "#46039f"
             ],
             [
              0.2222222222222222,
              "#7201a8"
             ],
             [
              0.3333333333333333,
              "#9c179e"
             ],
             [
              0.4444444444444444,
              "#bd3786"
             ],
             [
              0.5555555555555556,
              "#d8576b"
             ],
             [
              0.6666666666666666,
              "#ed7953"
             ],
             [
              0.7777777777777778,
              "#fb9f3a"
             ],
             [
              0.8888888888888888,
              "#fdca26"
             ],
             [
              1,
              "#f0f921"
             ]
            ],
            "type": "contour"
           }
          ],
          "contourcarpet": [
           {
            "colorbar": {
             "outlinewidth": 0,
             "ticks": ""
            },
            "type": "contourcarpet"
           }
          ],
          "heatmap": [
           {
            "colorbar": {
             "outlinewidth": 0,
             "ticks": ""
            },
            "colorscale": [
             [
              0,
              "#0d0887"
             ],
             [
              0.1111111111111111,
              "#46039f"
             ],
             [
              0.2222222222222222,
              "#7201a8"
             ],
             [
              0.3333333333333333,
              "#9c179e"
             ],
             [
              0.4444444444444444,
              "#bd3786"
             ],
             [
              0.5555555555555556,
              "#d8576b"
             ],
             [
              0.6666666666666666,
              "#ed7953"
             ],
             [
              0.7777777777777778,
              "#fb9f3a"
             ],
             [
              0.8888888888888888,
              "#fdca26"
             ],
             [
              1,
              "#f0f921"
             ]
            ],
            "type": "heatmap"
           }
          ],
          "histogram": [
           {
            "marker": {
             "pattern": {
              "fillmode": "overlay",
              "size": 10,
              "solidity": 0.2
             }
            },
            "type": "histogram"
           }
          ],
          "histogram2d": [
           {
            "colorbar": {
             "outlinewidth": 0,
             "ticks": ""
            },
            "colorscale": [
             [
              0,
              "#0d0887"
             ],
             [
              0.1111111111111111,
              "#46039f"
             ],
             [
              0.2222222222222222,
              "#7201a8"
             ],
             [
              0.3333333333333333,
              "#9c179e"
             ],
             [
              0.4444444444444444,
              "#bd3786"
             ],
             [
              0.5555555555555556,
              "#d8576b"
             ],
             [
              0.6666666666666666,
              "#ed7953"
             ],
             [
              0.7777777777777778,
              "#fb9f3a"
             ],
             [
              0.8888888888888888,
              "#fdca26"
             ],
             [
              1,
              "#f0f921"
             ]
            ],
            "type": "histogram2d"
           }
          ],
          "histogram2dcontour": [
           {
            "colorbar": {
             "outlinewidth": 0,
             "ticks": ""
            },
            "colorscale": [
             [
              0,
              "#0d0887"
             ],
             [
              0.1111111111111111,
              "#46039f"
             ],
             [
              0.2222222222222222,
              "#7201a8"
             ],
             [
              0.3333333333333333,
              "#9c179e"
             ],
             [
              0.4444444444444444,
              "#bd3786"
             ],
             [
              0.5555555555555556,
              "#d8576b"
             ],
             [
              0.6666666666666666,
              "#ed7953"
             ],
             [
              0.7777777777777778,
              "#fb9f3a"
             ],
             [
              0.8888888888888888,
              "#fdca26"
             ],
             [
              1,
              "#f0f921"
             ]
            ],
            "type": "histogram2dcontour"
           }
          ],
          "mesh3d": [
           {
            "colorbar": {
             "outlinewidth": 0,
             "ticks": ""
            },
            "type": "mesh3d"
           }
          ],
          "parcoords": [
           {
            "line": {
             "colorbar": {
              "outlinewidth": 0,
              "ticks": ""
             }
            },
            "type": "parcoords"
           }
          ],
          "pie": [
           {
            "automargin": true,
            "type": "pie"
           }
          ],
          "scatter": [
           {
            "fillpattern": {
             "fillmode": "overlay",
             "size": 10,
             "solidity": 0.2
            },
            "type": "scatter"
           }
          ],
          "scatter3d": [
           {
            "line": {
             "colorbar": {
              "outlinewidth": 0,
              "ticks": ""
             }
            },
            "marker": {
             "colorbar": {
              "outlinewidth": 0,
              "ticks": ""
             }
            },
            "type": "scatter3d"
           }
          ],
          "scattercarpet": [
           {
            "marker": {
             "colorbar": {
              "outlinewidth": 0,
              "ticks": ""
             }
            },
            "type": "scattercarpet"
           }
          ],
          "scattergeo": [
           {
            "marker": {
             "colorbar": {
              "outlinewidth": 0,
              "ticks": ""
             }
            },
            "type": "scattergeo"
           }
          ],
          "scattergl": [
           {
            "marker": {
             "colorbar": {
              "outlinewidth": 0,
              "ticks": ""
             }
            },
            "type": "scattergl"
           }
          ],
          "scattermap": [
           {
            "marker": {
             "colorbar": {
              "outlinewidth": 0,
              "ticks": ""
             }
            },
            "type": "scattermap"
           }
          ],
          "scattermapbox": [
           {
            "marker": {
             "colorbar": {
              "outlinewidth": 0,
              "ticks": ""
             }
            },
            "type": "scattermapbox"
           }
          ],
          "scatterpolar": [
           {
            "marker": {
             "colorbar": {
              "outlinewidth": 0,
              "ticks": ""
             }
            },
            "type": "scatterpolar"
           }
          ],
          "scatterpolargl": [
           {
            "marker": {
             "colorbar": {
              "outlinewidth": 0,
              "ticks": ""
             }
            },
            "type": "scatterpolargl"
           }
          ],
          "scatterternary": [
           {
            "marker": {
             "colorbar": {
              "outlinewidth": 0,
              "ticks": ""
             }
            },
            "type": "scatterternary"
           }
          ],
          "surface": [
           {
            "colorbar": {
             "outlinewidth": 0,
             "ticks": ""
            },
            "colorscale": [
             [
              0,
              "#0d0887"
             ],
             [
              0.1111111111111111,
              "#46039f"
             ],
             [
              0.2222222222222222,
              "#7201a8"
             ],
             [
              0.3333333333333333,
              "#9c179e"
             ],
             [
              0.4444444444444444,
              "#bd3786"
             ],
             [
              0.5555555555555556,
              "#d8576b"
             ],
             [
              0.6666666666666666,
              "#ed7953"
             ],
             [
              0.7777777777777778,
              "#fb9f3a"
             ],
             [
              0.8888888888888888,
              "#fdca26"
             ],
             [
              1,
              "#f0f921"
             ]
            ],
            "type": "surface"
           }
          ],
          "table": [
           {
            "cells": {
             "fill": {
              "color": "#EBF0F8"
             },
             "line": {
              "color": "white"
             }
            },
            "header": {
             "fill": {
              "color": "#C8D4E3"
             },
             "line": {
              "color": "white"
             }
            },
            "type": "table"
           }
          ]
         },
         "layout": {
          "annotationdefaults": {
           "arrowcolor": "#2a3f5f",
           "arrowhead": 0,
           "arrowwidth": 1
          },
          "autotypenumbers": "strict",
          "coloraxis": {
           "colorbar": {
            "outlinewidth": 0,
            "ticks": ""
           }
          },
          "colorscale": {
           "diverging": [
            [
             0,
             "#8e0152"
            ],
            [
             0.1,
             "#c51b7d"
            ],
            [
             0.2,
             "#de77ae"
            ],
            [
             0.3,
             "#f1b6da"
            ],
            [
             0.4,
             "#fde0ef"
            ],
            [
             0.5,
             "#f7f7f7"
            ],
            [
             0.6,
             "#e6f5d0"
            ],
            [
             0.7,
             "#b8e186"
            ],
            [
             0.8,
             "#7fbc41"
            ],
            [
             0.9,
             "#4d9221"
            ],
            [
             1,
             "#276419"
            ]
           ],
           "sequential": [
            [
             0,
             "#0d0887"
            ],
            [
             0.1111111111111111,
             "#46039f"
            ],
            [
             0.2222222222222222,
             "#7201a8"
            ],
            [
             0.3333333333333333,
             "#9c179e"
            ],
            [
             0.4444444444444444,
             "#bd3786"
            ],
            [
             0.5555555555555556,
             "#d8576b"
            ],
            [
             0.6666666666666666,
             "#ed7953"
            ],
            [
             0.7777777777777778,
             "#fb9f3a"
            ],
            [
             0.8888888888888888,
             "#fdca26"
            ],
            [
             1,
             "#f0f921"
            ]
           ],
           "sequentialminus": [
            [
             0,
             "#0d0887"
            ],
            [
             0.1111111111111111,
             "#46039f"
            ],
            [
             0.2222222222222222,
             "#7201a8"
            ],
            [
             0.3333333333333333,
             "#9c179e"
            ],
            [
             0.4444444444444444,
             "#bd3786"
            ],
            [
             0.5555555555555556,
             "#d8576b"
            ],
            [
             0.6666666666666666,
             "#ed7953"
            ],
            [
             0.7777777777777778,
             "#fb9f3a"
            ],
            [
             0.8888888888888888,
             "#fdca26"
            ],
            [
             1,
             "#f0f921"
            ]
           ]
          },
          "colorway": [
           "#636efa",
           "#EF553B",
           "#00cc96",
           "#ab63fa",
           "#FFA15A",
           "#19d3f3",
           "#FF6692",
           "#B6E880",
           "#FF97FF",
           "#FECB52"
          ],
          "font": {
           "color": "#2a3f5f"
          },
          "geo": {
           "bgcolor": "white",
           "lakecolor": "white",
           "landcolor": "#E5ECF6",
           "showlakes": true,
           "showland": true,
           "subunitcolor": "white"
          },
          "hoverlabel": {
           "align": "left"
          },
          "hovermode": "closest",
          "mapbox": {
           "style": "light"
          },
          "paper_bgcolor": "white",
          "plot_bgcolor": "#E5ECF6",
          "polar": {
           "angularaxis": {
            "gridcolor": "white",
            "linecolor": "white",
            "ticks": ""
           },
           "bgcolor": "#E5ECF6",
           "radialaxis": {
            "gridcolor": "white",
            "linecolor": "white",
            "ticks": ""
           }
          },
          "scene": {
           "xaxis": {
            "backgroundcolor": "#E5ECF6",
            "gridcolor": "white",
            "gridwidth": 2,
            "linecolor": "white",
            "showbackground": true,
            "ticks": "",
            "zerolinecolor": "white"
           },
           "yaxis": {
            "backgroundcolor": "#E5ECF6",
            "gridcolor": "white",
            "gridwidth": 2,
            "linecolor": "white",
            "showbackground": true,
            "ticks": "",
            "zerolinecolor": "white"
           },
           "zaxis": {
            "backgroundcolor": "#E5ECF6",
            "gridcolor": "white",
            "gridwidth": 2,
            "linecolor": "white",
            "showbackground": true,
            "ticks": "",
            "zerolinecolor": "white"
           }
          },
          "shapedefaults": {
           "line": {
            "color": "#2a3f5f"
           }
          },
          "ternary": {
           "aaxis": {
            "gridcolor": "white",
            "linecolor": "white",
            "ticks": ""
           },
           "baxis": {
            "gridcolor": "white",
            "linecolor": "white",
            "ticks": ""
           },
           "bgcolor": "#E5ECF6",
           "caxis": {
            "gridcolor": "white",
            "linecolor": "white",
            "ticks": ""
           }
          },
          "title": {
           "x": 0.05
          },
          "xaxis": {
           "automargin": true,
           "gridcolor": "white",
           "linecolor": "white",
           "ticks": "",
           "title": {
            "standoff": 15
           },
           "zerolinecolor": "white",
           "zerolinewidth": 2
          },
          "yaxis": {
           "automargin": true,
           "gridcolor": "white",
           "linecolor": "white",
           "ticks": "",
           "title": {
            "standoff": 15
           },
           "zerolinecolor": "white",
           "zerolinewidth": 2
          }
         }
        }
       }
      },
      "image/png": "[encoded data removed]"
     },
     "metadata": {},
     "output_type": "display_data"
    }
   ],
   "source": [
    "fig = go.Figure()\n",
    "fig.add_trace(go.Scatter(x=data['total_bill'], y=data['tip'], mode='markers', name='actual'))\n",
    "fig.add_trace(go.Scatter(x=data['total_bill'], y=data['prediction'], mode='lines', name='prediction (b = 0)'))\n",
    "fig.add_trace(go.Scatter(x=data['total_bill'], y=data['prediction_with_intercept'], mode='lines', name='prediction (b != 0)'))\n",
    "fig.update_layout(font_size=20)"
   ]
  },
  {
   "cell_type": "code",
   "execution_count": 31,
   "id": "68f1c72c-bf29-4509-9ea2-b52e0e10b382",
   "metadata": {},
   "outputs": [
    {
     "data": {
      "text/html": [
       "<div>\n",
       "<style scoped>\n",
       "    .dataframe tbody tr th:only-of-type {\n",
       "        vertical-align: middle;\n",
       "    }\n",
       "\n",
       "    .dataframe tbody tr th {\n",
       "        vertical-align: top;\n",
       "    }\n",
       "\n",
       "    .dataframe thead th {\n",
       "        text-align: right;\n",
       "    }\n",
       "</style>\n",
       "<table border=\"1\" class=\"dataframe\">\n",
       "  <thead>\n",
       "    <tr style=\"text-align: right;\">\n",
       "      <th></th>\n",
       "      <th>total_bill</th>\n",
       "      <th>tip</th>\n",
       "      <th>sex</th>\n",
       "      <th>smoker</th>\n",
       "      <th>day</th>\n",
       "      <th>time</th>\n",
       "      <th>size</th>\n",
       "      <th>prediction</th>\n",
       "      <th>prediction_with_intercept</th>\n",
       "      <th>l2_loss</th>\n",
       "    </tr>\n",
       "  </thead>\n",
       "  <tbody>\n",
       "    <tr>\n",
       "      <th>0</th>\n",
       "      <td>16.99</td>\n",
       "      <td>1.01</td>\n",
       "      <td>Female</td>\n",
       "      <td>No</td>\n",
       "      <td>Sun</td>\n",
       "      <td>Dinner</td>\n",
       "      <td>2</td>\n",
       "      <td>2.442005</td>\n",
       "      <td>2.704636</td>\n",
       "      <td>2.050638</td>\n",
       "    </tr>\n",
       "    <tr>\n",
       "      <th>1</th>\n",
       "      <td>10.34</td>\n",
       "      <td>1.66</td>\n",
       "      <td>Male</td>\n",
       "      <td>No</td>\n",
       "      <td>Sun</td>\n",
       "      <td>Dinner</td>\n",
       "      <td>3</td>\n",
       "      <td>1.486188</td>\n",
       "      <td>2.006223</td>\n",
       "      <td>0.030211</td>\n",
       "    </tr>\n",
       "    <tr>\n",
       "      <th>2</th>\n",
       "      <td>21.01</td>\n",
       "      <td>3.50</td>\n",
       "      <td>Male</td>\n",
       "      <td>No</td>\n",
       "      <td>Sun</td>\n",
       "      <td>Dinner</td>\n",
       "      <td>3</td>\n",
       "      <td>3.019807</td>\n",
       "      <td>3.126835</td>\n",
       "      <td>0.230585</td>\n",
       "    </tr>\n",
       "    <tr>\n",
       "      <th>3</th>\n",
       "      <td>23.68</td>\n",
       "      <td>3.31</td>\n",
       "      <td>Male</td>\n",
       "      <td>No</td>\n",
       "      <td>Sun</td>\n",
       "      <td>Dinner</td>\n",
       "      <td>2</td>\n",
       "      <td>3.403571</td>\n",
       "      <td>3.407250</td>\n",
       "      <td>0.008756</td>\n",
       "    </tr>\n",
       "    <tr>\n",
       "      <th>4</th>\n",
       "      <td>24.59</td>\n",
       "      <td>3.61</td>\n",
       "      <td>Female</td>\n",
       "      <td>No</td>\n",
       "      <td>Sun</td>\n",
       "      <td>Dinner</td>\n",
       "      <td>4</td>\n",
       "      <td>3.534367</td>\n",
       "      <td>3.502822</td>\n",
       "      <td>0.005720</td>\n",
       "    </tr>\n",
       "  </tbody>\n",
       "</table>\n",
       "</div>"
      ],
      "text/plain": [
       "   total_bill   tip     sex smoker  day    time  size  prediction  \\\n",
       "0       16.99  1.01  Female     No  Sun  Dinner     2    2.442005   \n",
       "1       10.34  1.66    Male     No  Sun  Dinner     3    1.486188   \n",
       "2       21.01  3.50    Male     No  Sun  Dinner     3    3.019807   \n",
       "3       23.68  3.31    Male     No  Sun  Dinner     2    3.403571   \n",
       "4       24.59  3.61  Female     No  Sun  Dinner     4    3.534367   \n",
       "\n",
       "   prediction_with_intercept   l2_loss  \n",
       "0                   2.704636  2.050638  \n",
       "1                   2.006223  0.030211  \n",
       "2                   3.126835  0.230585  \n",
       "3                   3.407250  0.008756  \n",
       "4                   3.502822  0.005720  "
      ]
     },
     "execution_count": 31,
     "metadata": {},
     "output_type": "execute_result"
    }
   ],
   "source": [
    "data['l2_loss'] = (data['tip'] - data['prediction']) ** 2\n",
    "data.head(5)"
   ]
  },
  {
   "cell_type": "code",
   "execution_count": 33,
   "id": "30f50b2f-eb70-46b6-be86-2a91acc2de59",
   "metadata": {},
   "outputs": [
    {
     "data": {
      "text/plain": [
       "1.1781161154513173"
      ]
     },
     "execution_count": 33,
     "metadata": {},
     "output_type": "execute_result"
    }
   ],
   "source": [
    "data['l2_loss'].mean()"
   ]
  },
  {
   "cell_type": "code",
   "execution_count": 35,
   "id": "464b220b-41f6-4dc4-bd1b-a0a4b65a0249",
   "metadata": {},
   "outputs": [
    {
     "data": {
      "text/plain": [
       "1.1781161154513173"
      ]
     },
     "execution_count": 35,
     "metadata": {},
     "output_type": "execute_result"
    }
   ],
   "source": [
    "from sklearn.metrics import mean_squared_error\n",
    "mean_squared_error(data['tip'], f.predict(data[['total_bill']].values))"
   ]
  },
  {
   "cell_type": "code",
   "execution_count": 36,
   "id": "2439889f-08c5-482f-a401-b5276cf4efa8",
   "metadata": {},
   "outputs": [
    {
     "data": {
      "text/plain": [
       "1.036019442011377"
      ]
     },
     "execution_count": 36,
     "metadata": {},
     "output_type": "execute_result"
    }
   ],
   "source": [
    "mean_squared_error(data['tip'], f_w_int.predict(data[['total_bill']].values))"
   ]
  },
  {
   "cell_type": "code",
   "execution_count": 45,
   "id": "c2848bcc-1bac-4890-99cf-59eb41652991",
   "metadata": {},
   "outputs": [
    {
     "data": {
      "text/plain": [
       "1.7133696722540983"
      ]
     },
     "execution_count": 45,
     "metadata": {},
     "output_type": "execute_result"
    }
   ],
   "source": [
    "mean_squared_error(data['tip'], data['total_bill'] * 0.11)"
   ]
  },
  {
   "cell_type": "code",
   "execution_count": 46,
   "id": "bce8fe8e-2a63-426c-aeaa-e12152ff3dd6",
   "metadata": {},
   "outputs": [],
   "source": [
    "def mse_given_theta(theta):\n",
    "    return mean_squared_error(data['tip'], data['total_bill'] * theta)"
   ]
  },
  {
   "cell_type": "code",
   "execution_count": 47,
   "id": "a17be8ff-0b7b-4737-adfb-88fd5b12393a",
   "metadata": {},
   "outputs": [
    {
     "data": {
      "text/plain": [
       "2.667486278688525"
      ]
     },
     "execution_count": 47,
     "metadata": {},
     "output_type": "execute_result"
    }
   ],
   "source": [
    "mse_given_theta(0.2)"
   ]
  },
  {
   "cell_type": "code",
   "execution_count": 49,
   "id": "870b40b6-91c2-4dec-85d4-c8b2c9b2bb11",
   "metadata": {},
   "outputs": [
    {
     "data": {
      "text/plain": [
       "array([0.1       , 0.1010101 , 0.1020202 , 0.1030303 , 0.1040404 ,\n",
       "       0.10505051, 0.10606061, 0.10707071, 0.10808081, 0.10909091,\n",
       "       0.11010101, 0.11111111, 0.11212121, 0.11313131, 0.11414141,\n",
       "       0.11515152, 0.11616162, 0.11717172, 0.11818182, 0.11919192,\n",
       "       0.12020202, 0.12121212, 0.12222222, 0.12323232, 0.12424242,\n",
       "       0.12525253, 0.12626263, 0.12727273, 0.12828283, 0.12929293,\n",
       "       0.13030303, 0.13131313, 0.13232323, 0.13333333, 0.13434343,\n",
       "       0.13535354, 0.13636364, 0.13737374, 0.13838384, 0.13939394,\n",
       "       0.14040404, 0.14141414, 0.14242424, 0.14343434, 0.14444444,\n",
       "       0.14545455, 0.14646465, 0.14747475, 0.14848485, 0.14949495,\n",
       "       0.15050505, 0.15151515, 0.15252525, 0.15353535, 0.15454545,\n",
       "       0.15555556, 0.15656566, 0.15757576, 0.15858586, 0.15959596,\n",
       "       0.16060606, 0.16161616, 0.16262626, 0.16363636, 0.16464646,\n",
       "       0.16565657, 0.16666667, 0.16767677, 0.16868687, 0.16969697,\n",
       "       0.17070707, 0.17171717, 0.17272727, 0.17373737, 0.17474747,\n",
       "       0.17575758, 0.17676768, 0.17777778, 0.17878788, 0.17979798,\n",
       "       0.18080808, 0.18181818, 0.18282828, 0.18383838, 0.18484848,\n",
       "       0.18585859, 0.18686869, 0.18787879, 0.18888889, 0.18989899,\n",
       "       0.19090909, 0.19191919, 0.19292929, 0.19393939, 0.19494949,\n",
       "       0.1959596 , 0.1969697 , 0.1979798 , 0.1989899 , 0.2       ])"
      ]
     },
     "execution_count": 49,
     "metadata": {},
     "output_type": "execute_result"
    }
   ],
   "source": [
    "thetas = np.linspace(0.1, 0.2, 100)\n",
    "thetas"
   ]
  },
  {
   "cell_type": "code",
   "execution_count": 50,
   "id": "655eca6f-d7ec-4ef0-a8e5-a89b4c5877e2",
   "metadata": {},
   "outputs": [
    {
     "data": {
      "text/plain": [
       "[2.0777683729508194,\n",
       " 2.0366887534058913,\n",
       " 1.996569059699077,\n",
       " 1.9574092918303747,\n",
       " 1.919209449799786,\n",
       " 1.8819695336073097,\n",
       " 1.8456895432529465,\n",
       " 1.8103694787366964,\n",
       " 1.7760093400585586,\n",
       " 1.7426091272185338,\n",
       " 1.7101688402166224,\n",
       " 1.678688479052823,\n",
       " 1.6481680437271375,\n",
       " 1.6186075342395636,\n",
       " 1.5900069505901033,\n",
       " 1.5623662927787565,\n",
       " 1.5356855608055218,\n",
       " 1.5099647546704,\n",
       " 1.4852038743733909,\n",
       " 1.461402919914495,\n",
       " 1.4385618912937121,\n",
       " 1.4166807885110417,\n",
       " 1.3957596115664843,\n",
       " 1.37579836046004,\n",
       " 1.3567970351917082,\n",
       " 1.3387556357614898,\n",
       " 1.3216741621693837,\n",
       " 1.3055526144153906,\n",
       " 1.2903909924995107,\n",
       " 1.2761892964217436,\n",
       " 1.262947526182089,\n",
       " 1.2506656817805475,\n",
       " 1.2393437632171185,\n",
       " 1.2289817704918033,\n",
       " 1.2195797036046003,\n",
       " 1.2111375625555103,\n",
       " 1.2036553473445333,\n",
       " 1.197133057971669,\n",
       " 1.1915706944369175,\n",
       " 1.1869682567402793,\n",
       " 1.1833257448817533,\n",
       " 1.1806431588613406,\n",
       " 1.1789204986790405,\n",
       " 1.1781577643348538,\n",
       " 1.1783549558287796,\n",
       " 1.1795120731608182,\n",
       " 1.18162911633097,\n",
       " 1.1847060853392344,\n",
       " 1.1887429801856118,\n",
       " 1.193739800870102,\n",
       " 1.1996965473927048,\n",
       " 1.206613219753421,\n",
       " 1.21448981795225,\n",
       " 1.2233263419891915,\n",
       " 1.233122791864246,\n",
       " 1.2438791675774135,\n",
       " 1.255595469128694,\n",
       " 1.2682716965180871,\n",
       " 1.2819078497455934,\n",
       " 1.2965039288112117,\n",
       " 1.312059933714944,\n",
       " 1.3285758644567889,\n",
       " 1.3460517210367458,\n",
       " 1.3644875034548163,\n",
       " 1.3838832117109996,\n",
       " 1.4042388458052961,\n",
       " 1.4255544057377052,\n",
       " 1.4478298915082273,\n",
       " 1.471065303116862,\n",
       " 1.4952606405636095,\n",
       " 1.5204159038484695,\n",
       " 1.5465310929714433,\n",
       " 1.5736062079325297,\n",
       " 1.6016412487317289,\n",
       " 1.630636215369041,\n",
       " 1.6605911078444662,\n",
       " 1.6915059261580032,\n",
       " 1.7233806703096541,\n",
       " 1.7562153402994167,\n",
       " 1.7900099361272936,\n",
       " 1.824764457793283,\n",
       " 1.8604789052973851,\n",
       " 1.8971532786396006,\n",
       " 1.9347875778199284,\n",
       " 1.97338180283837,\n",
       " 2.0129359536949227,\n",
       " 2.053450030389589,\n",
       " 2.0949240329223673,\n",
       " 2.13735796129326,\n",
       " 2.1807518155022656,\n",
       " 2.225105595549384,\n",
       " 2.270419301434615,\n",
       " 2.316692933157959,\n",
       " 2.3639264907194146,\n",
       " 2.4121199741189843,\n",
       " 2.461273383356666,\n",
       " 2.5113867184324614,\n",
       " 2.56245997934637,\n",
       " 2.614493166098391,\n",
       " 2.667486278688525]"
      ]
     },
     "execution_count": 50,
     "metadata": {},
     "output_type": "execute_result"
    }
   ],
   "source": [
    "mses = [mse_given_theta(theta) for theta in thetas]\n",
    "mses"
   ]
  },
  {
   "cell_type": "code",
   "execution_count": 54,
   "id": "63ca1c91-d4d9-4e34-8a13-ac021df00e4e",
   "metadata": {},
   "outputs": [
    {
     "data": {
      "application/vnd.plotly.v1+json": {
       "config": {
        "plotlyServerURL": "https://plot.ly"
       },
       "data": [
        {
         "hovertemplate": "x=%{x}<br>y=%{y}<extra></extra>",
         "legendgroup": "",
         "line": {
          "color": "#636efa",
          "dash": "solid"
         },
         "marker": {
          "symbol": "circle"
         },
         "mode": "lines",
         "name": "",
         "orientation": "v",
         "showlegend": false,
         "type": "scatter",
         "x": {
          "bdata": "mpmZmZmZuT8yb2dIzNu5P8lENff+Hbo/YRoDpjFguj/479BUZKK6P5DFngOX5Lo/J5tssskmuz+/cDph/Gi7P1ZGCBAvq7s/7hvWvmHtuz+F8aNtlC+8Px3HcRzHcbw/tJw/y/mzvD9Mcg16LPa8P+RH2yhfOL0/ex2p15F6vT8S83aGxLy9P6rIRDX3/r0/Qp4S5ClBvj/Zc+CSXIO+P3BJrkGPxb4/CB988MEHvz+g9Emf9Em/PzfKF04njL8/z5/l/FnOvz+zutlVRgjAP3+lQK1fKcA/S5CnBHlKwD8Wew5ckmvAP+JldbOrjMA/rlDcCsWtwD96O0Ni3s7AP0Ymqrn378A/ERERERERwT/d+3doKjLBP6nm3r9DU8E/dNFFF110wT9AvKxudpXBPwynE8aPtsE/2JF6HanXwT+kfOF0wvjBP3BnSMzbGcI/O1KvI/U6wj8HPRZ7DlzCP9MnfdInfcI/nhLkKUGewj9q/UqBWr/CPzbosdhz4MI/AtMYMI0Bwz/OvX+HpiLDP5mo5t6/Q8M/ZZNNNtlkwz8xfrSN8oXDP/xoG+ULp8M/yFOCPCXIwz+UPumTPunDP2ApUOtXCsQ/LBS3QnErxD/4/h2aikzEP8PphPGjbcQ/j9TrSL2OxD9bv1Kg1q/EPyaquffv0MQ/8pQgTwnyxD++f4emIhPFP4pq7v07NMU/VlVVVVVVxT8iQLysbnbFP+0qIwSIl8U/uRWKW6G4xT+EAPGyutnFP1DrVwrU+sU/HNa+Ye0bxj/owCW5Bj3GP7SrjBAgXsY/gJbzZzl/xj9LgVq/UqDGPxdswRZswcY/4lYoboXixj+uQY/FngPHP3os9hy4JMc/RhdddNFFxz8SAsTL6mbHP97sKiMEiMc/qteReh2pxz91wvjRNsrHP0GtXylQ68c/DJjGgGkMyD/Ygi3Ygi3IP6RtlC+cTsg/cFj7hrVvyD88Q2LezpDIPwguyTXoscg/0xgwjQHTyD+fA5fkGvTIP2ru/Ts0Fck/Ntlkk002yT8CxMvqZlfJP86uMkKAeMk/mpmZmZmZyT8=",
          "dtype": "f8"
         },
         "xaxis": "x",
         "y": {
          "bdata": "LOVTBkWfAEASEyB5I0sAQOHO+WXy8f8/hsTUZ4xR/z8bB9H3FLX+P5qW7hWMHP4/B3MtwvGH/T9hnI38Rff8P6USD8WIavw/1tWxG7rh+z/25XUA2lz7P/5CW3Po2/o/+OxhdOVe+j/Y44kD0eX5P6gn0yCrcPk/Z7g9zHP/+D8PlskFK5L4P6TAds3QKPg/JDhFI2XD9z+S/DQH6GH3P+4NRnlZBPc/NGx4ebmq9j9nF8wHCFX2P4cPQSRFA/Y/k1TXznC19T+N5o4Hi2v1P3HFZ86TJfU/QvFhI4vj9D8Ban0GcaX0P6wvundFa/Q/QkIYdwg19D/FoZcEugL0PzNOOCBa1PM/kkf6yeip8z/ajd0BZoPzPw8h4sfRYPM/MQEIHCxC8z8/Lk/+dCfzPzmot26sEPM/IW9BbdL98j/zguz55u7yP7PjuBTq4/I/XpGmvdvc8j/4i7X0u9nyP33T5bmK2vI/7mc3DUjf8j9NSaru8+fyP5d3Pl6O9PI/zvLzWxcF8z/xusrnjhnzPwDQwgH1MfM//THcqUlO8z/n4BbgjG7zP7vccqS+kvM/fCXw9t668z8qu47X7ebzP8WdTkbrFvQ/TM0vQ9dK9D/ASTLOsYL0Px0TVud6vvQ/aymbjjL+9D+ljAHE2EH1P8c8iYdtifU/2Tky2fDU9T/Xg/y4YiT2P8Ma6CbDd/Y/mv70IhLP9j9eLyOtTyr3Pw2tcsV7ifc/qXfja5bs9z8vj3Wgn1P4P6bzKGOXvvg/CKX9s30t+T9Wo/OSUqD5P5HuCgAWF/o/uYZD+8eR+j/Ja52EaBD7P8qdGJz3kvs/shy1QXUZ/D+N6HJ14aP8P1IBUjc8Mv0/BGdSh4XE/T+kGXRlvVr+Py4Zt9Hj9P4/qWUbzPiS/z+Ef1AqfhoAQKvyozV3bQBARwwIiGfCAEBczHwhTxkBQOgyAgIucgFA6j+YKQTNAUBh8z6Y0SkCQE9N9k2WiAJAsE2+SlLpAkCK9JaOBUwDQNhBgBmwsANAnzV661EXBEDcz4QE638EQI8QoGR76gRAuPfLCwNXBUA=",
          "dtype": "f8"
         },
         "yaxis": "y"
        }
       ],
       "layout": {
        "font": {
         "size": 20
        },
        "legend": {
         "tracegroupgap": 0
        },
        "margin": {
         "t": 60
        },
        "template": {
         "data": {
          "bar": [
           {
            "error_x": {
             "color": "#2a3f5f"
            },
            "error_y": {
             "color": "#2a3f5f"
            },
            "marker": {
             "line": {
              "color": "#E5ECF6",
              "width": 0.5
             },
             "pattern": {
              "fillmode": "overlay",
              "size": 10,
              "solidity": 0.2
             }
            },
            "type": "bar"
           }
          ],
          "barpolar": [
           {
            "marker": {
             "line": {
              "color": "#E5ECF6",
              "width": 0.5
             },
             "pattern": {
              "fillmode": "overlay",
              "size": 10,
              "solidity": 0.2
             }
            },
            "type": "barpolar"
           }
          ],
          "carpet": [
           {
            "aaxis": {
             "endlinecolor": "#2a3f5f",
             "gridcolor": "white",
             "linecolor": "white",
             "minorgridcolor": "white",
             "startlinecolor": "#2a3f5f"
            },
            "baxis": {
             "endlinecolor": "#2a3f5f",
             "gridcolor": "white",
             "linecolor": "white",
             "minorgridcolor": "white",
             "startlinecolor": "#2a3f5f"
            },
            "type": "carpet"
           }
          ],
          "choropleth": [
           {
            "colorbar": {
             "outlinewidth": 0,
             "ticks": ""
            },
            "type": "choropleth"
           }
          ],
          "contour": [
           {
            "colorbar": {
             "outlinewidth": 0,
             "ticks": ""
            },
            "colorscale": [
             [
              0,
              "#0d0887"
             ],
             [
              0.1111111111111111,
              "#46039f"
             ],
             [
              0.2222222222222222,
              "#7201a8"
             ],
             [
              0.3333333333333333,
              "#9c179e"
             ],
             [
              0.4444444444444444,
              "#bd3786"
             ],
             [
              0.5555555555555556,
              "#d8576b"
             ],
             [
              0.6666666666666666,
              "#ed7953"
             ],
             [
              0.7777777777777778,
              "#fb9f3a"
             ],
             [
              0.8888888888888888,
              "#fdca26"
             ],
             [
              1,
              "#f0f921"
             ]
            ],
            "type": "contour"
           }
          ],
          "contourcarpet": [
           {
            "colorbar": {
             "outlinewidth": 0,
             "ticks": ""
            },
            "type": "contourcarpet"
           }
          ],
          "heatmap": [
           {
            "colorbar": {
             "outlinewidth": 0,
             "ticks": ""
            },
            "colorscale": [
             [
              0,
              "#0d0887"
             ],
             [
              0.1111111111111111,
              "#46039f"
             ],
             [
              0.2222222222222222,
              "#7201a8"
             ],
             [
              0.3333333333333333,
              "#9c179e"
             ],
             [
              0.4444444444444444,
              "#bd3786"
             ],
             [
              0.5555555555555556,
              "#d8576b"
             ],
             [
              0.6666666666666666,
              "#ed7953"
             ],
             [
              0.7777777777777778,
              "#fb9f3a"
             ],
             [
              0.8888888888888888,
              "#fdca26"
             ],
             [
              1,
              "#f0f921"
             ]
            ],
            "type": "heatmap"
           }
          ],
          "histogram": [
           {
            "marker": {
             "pattern": {
              "fillmode": "overlay",
              "size": 10,
              "solidity": 0.2
             }
            },
            "type": "histogram"
           }
          ],
          "histogram2d": [
           {
            "colorbar": {
             "outlinewidth": 0,
             "ticks": ""
            },
            "colorscale": [
             [
              0,
              "#0d0887"
             ],
             [
              0.1111111111111111,
              "#46039f"
             ],
             [
              0.2222222222222222,
              "#7201a8"
             ],
             [
              0.3333333333333333,
              "#9c179e"
             ],
             [
              0.4444444444444444,
              "#bd3786"
             ],
             [
              0.5555555555555556,
              "#d8576b"
             ],
             [
              0.6666666666666666,
              "#ed7953"
             ],
             [
              0.7777777777777778,
              "#fb9f3a"
             ],
             [
              0.8888888888888888,
              "#fdca26"
             ],
             [
              1,
              "#f0f921"
             ]
            ],
            "type": "histogram2d"
           }
          ],
          "histogram2dcontour": [
           {
            "colorbar": {
             "outlinewidth": 0,
             "ticks": ""
            },
            "colorscale": [
             [
              0,
              "#0d0887"
             ],
             [
              0.1111111111111111,
              "#46039f"
             ],
             [
              0.2222222222222222,
              "#7201a8"
             ],
             [
              0.3333333333333333,
              "#9c179e"
             ],
             [
              0.4444444444444444,
              "#bd3786"
             ],
             [
              0.5555555555555556,
              "#d8576b"
             ],
             [
              0.6666666666666666,
              "#ed7953"
             ],
             [
              0.7777777777777778,
              "#fb9f3a"
             ],
             [
              0.8888888888888888,
              "#fdca26"
             ],
             [
              1,
              "#f0f921"
             ]
            ],
            "type": "histogram2dcontour"
           }
          ],
          "mesh3d": [
           {
            "colorbar": {
             "outlinewidth": 0,
             "ticks": ""
            },
            "type": "mesh3d"
           }
          ],
          "parcoords": [
           {
            "line": {
             "colorbar": {
              "outlinewidth": 0,
              "ticks": ""
             }
            },
            "type": "parcoords"
           }
          ],
          "pie": [
           {
            "automargin": true,
            "type": "pie"
           }
          ],
          "scatter": [
           {
            "fillpattern": {
             "fillmode": "overlay",
             "size": 10,
             "solidity": 0.2
            },
            "type": "scatter"
           }
          ],
          "scatter3d": [
           {
            "line": {
             "colorbar": {
              "outlinewidth": 0,
              "ticks": ""
             }
            },
            "marker": {
             "colorbar": {
              "outlinewidth": 0,
              "ticks": ""
             }
            },
            "type": "scatter3d"
           }
          ],
          "scattercarpet": [
           {
            "marker": {
             "colorbar": {
              "outlinewidth": 0,
              "ticks": ""
             }
            },
            "type": "scattercarpet"
           }
          ],
          "scattergeo": [
           {
            "marker": {
             "colorbar": {
              "outlinewidth": 0,
              "ticks": ""
             }
            },
            "type": "scattergeo"
           }
          ],
          "scattergl": [
           {
            "marker": {
             "colorbar": {
              "outlinewidth": 0,
              "ticks": ""
             }
            },
            "type": "scattergl"
           }
          ],
          "scattermap": [
           {
            "marker": {
             "colorbar": {
              "outlinewidth": 0,
              "ticks": ""
             }
            },
            "type": "scattermap"
           }
          ],
          "scattermapbox": [
           {
            "marker": {
             "colorbar": {
              "outlinewidth": 0,
              "ticks": ""
             }
            },
            "type": "scattermapbox"
           }
          ],
          "scatterpolar": [
           {
            "marker": {
             "colorbar": {
              "outlinewidth": 0,
              "ticks": ""
             }
            },
            "type": "scatterpolar"
           }
          ],
          "scatterpolargl": [
           {
            "marker": {
             "colorbar": {
              "outlinewidth": 0,
              "ticks": ""
             }
            },
            "type": "scatterpolargl"
           }
          ],
          "scatterternary": [
           {
            "marker": {
             "colorbar": {
              "outlinewidth": 0,
              "ticks": ""
             }
            },
            "type": "scatterternary"
           }
          ],
          "surface": [
           {
            "colorbar": {
             "outlinewidth": 0,
             "ticks": ""
            },
            "colorscale": [
             [
              0,
              "#0d0887"
             ],
             [
              0.1111111111111111,
              "#46039f"
             ],
             [
              0.2222222222222222,
              "#7201a8"
             ],
             [
              0.3333333333333333,
              "#9c179e"
             ],
             [
              0.4444444444444444,
              "#bd3786"
             ],
             [
              0.5555555555555556,
              "#d8576b"
             ],
             [
              0.6666666666666666,
              "#ed7953"
             ],
             [
              0.7777777777777778,
              "#fb9f3a"
             ],
             [
              0.8888888888888888,
              "#fdca26"
             ],
             [
              1,
              "#f0f921"
             ]
            ],
            "type": "surface"
           }
          ],
          "table": [
           {
            "cells": {
             "fill": {
              "color": "#EBF0F8"
             },
             "line": {
              "color": "white"
             }
            },
            "header": {
             "fill": {
              "color": "#C8D4E3"
             },
             "line": {
              "color": "white"
             }
            },
            "type": "table"
           }
          ]
         },
         "layout": {
          "annotationdefaults": {
           "arrowcolor": "#2a3f5f",
           "arrowhead": 0,
           "arrowwidth": 1
          },
          "autotypenumbers": "strict",
          "coloraxis": {
           "colorbar": {
            "outlinewidth": 0,
            "ticks": ""
           }
          },
          "colorscale": {
           "diverging": [
            [
             0,
             "#8e0152"
            ],
            [
             0.1,
             "#c51b7d"
            ],
            [
             0.2,
             "#de77ae"
            ],
            [
             0.3,
             "#f1b6da"
            ],
            [
             0.4,
             "#fde0ef"
            ],
            [
             0.5,
             "#f7f7f7"
            ],
            [
             0.6,
             "#e6f5d0"
            ],
            [
             0.7,
             "#b8e186"
            ],
            [
             0.8,
             "#7fbc41"
            ],
            [
             0.9,
             "#4d9221"
            ],
            [
             1,
             "#276419"
            ]
           ],
           "sequential": [
            [
             0,
             "#0d0887"
            ],
            [
             0.1111111111111111,
             "#46039f"
            ],
            [
             0.2222222222222222,
             "#7201a8"
            ],
            [
             0.3333333333333333,
             "#9c179e"
            ],
            [
             0.4444444444444444,
             "#bd3786"
            ],
            [
             0.5555555555555556,
             "#d8576b"
            ],
            [
             0.6666666666666666,
             "#ed7953"
            ],
            [
             0.7777777777777778,
             "#fb9f3a"
            ],
            [
             0.8888888888888888,
             "#fdca26"
            ],
            [
             1,
             "#f0f921"
            ]
           ],
           "sequentialminus": [
            [
             0,
             "#0d0887"
            ],
            [
             0.1111111111111111,
             "#46039f"
            ],
            [
             0.2222222222222222,
             "#7201a8"
            ],
            [
             0.3333333333333333,
             "#9c179e"
            ],
            [
             0.4444444444444444,
             "#bd3786"
            ],
            [
             0.5555555555555556,
             "#d8576b"
            ],
            [
             0.6666666666666666,
             "#ed7953"
            ],
            [
             0.7777777777777778,
             "#fb9f3a"
            ],
            [
             0.8888888888888888,
             "#fdca26"
            ],
            [
             1,
             "#f0f921"
            ]
           ]
          },
          "colorway": [
           "#636efa",
           "#EF553B",
           "#00cc96",
           "#ab63fa",
           "#FFA15A",
           "#19d3f3",
           "#FF6692",
           "#B6E880",
           "#FF97FF",
           "#FECB52"
          ],
          "font": {
           "color": "#2a3f5f"
          },
          "geo": {
           "bgcolor": "white",
           "lakecolor": "white",
           "landcolor": "#E5ECF6",
           "showlakes": true,
           "showland": true,
           "subunitcolor": "white"
          },
          "hoverlabel": {
           "align": "left"
          },
          "hovermode": "closest",
          "mapbox": {
           "style": "light"
          },
          "paper_bgcolor": "white",
          "plot_bgcolor": "#E5ECF6",
          "polar": {
           "angularaxis": {
            "gridcolor": "white",
            "linecolor": "white",
            "ticks": ""
           },
           "bgcolor": "#E5ECF6",
           "radialaxis": {
            "gridcolor": "white",
            "linecolor": "white",
            "ticks": ""
           }
          },
          "scene": {
           "xaxis": {
            "backgroundcolor": "#E5ECF6",
            "gridcolor": "white",
            "gridwidth": 2,
            "linecolor": "white",
            "showbackground": true,
            "ticks": "",
            "zerolinecolor": "white"
           },
           "yaxis": {
            "backgroundcolor": "#E5ECF6",
            "gridcolor": "white",
            "gridwidth": 2,
            "linecolor": "white",
            "showbackground": true,
            "ticks": "",
            "zerolinecolor": "white"
           },
           "zaxis": {
            "backgroundcolor": "#E5ECF6",
            "gridcolor": "white",
            "gridwidth": 2,
            "linecolor": "white",
            "showbackground": true,
            "ticks": "",
            "zerolinecolor": "white"
           }
          },
          "shapedefaults": {
           "line": {
            "color": "#2a3f5f"
           }
          },
          "ternary": {
           "aaxis": {
            "gridcolor": "white",
            "linecolor": "white",
            "ticks": ""
           },
           "baxis": {
            "gridcolor": "white",
            "linecolor": "white",
            "ticks": ""
           },
           "bgcolor": "#E5ECF6",
           "caxis": {
            "gridcolor": "white",
            "linecolor": "white",
            "ticks": ""
           }
          },
          "title": {
           "x": 0.05
          },
          "xaxis": {
           "automargin": true,
           "gridcolor": "white",
           "linecolor": "white",
           "ticks": "",
           "title": {
            "standoff": 15
           },
           "zerolinecolor": "white",
           "zerolinewidth": 2
          },
          "yaxis": {
           "automargin": true,
           "gridcolor": "white",
           "linecolor": "white",
           "ticks": "",
           "title": {
            "standoff": 15
           },
           "zerolinecolor": "white",
           "zerolinewidth": 2
          }
         }
        },
        "xaxis": {
         "anchor": "y",
         "domain": [
          0,
          1
         ],
         "title": {
          "text": "θ"
         }
        },
        "yaxis": {
         "anchor": "x",
         "domain": [
          0,
          1
         ],
         "title": {
          "text": "MSE"
         }
        }
       }
      },
      "image/png": "[encoded data removed]"
     },
     "metadata": {},
     "output_type": "display_data"
    }
   ],
   "source": [
    "fig = px.line(x=thetas, y=mses)\n",
    "fig.update_layout(\n",
    "    xaxis_title='θ',\n",
    "    yaxis_title='MSE',\n",
    "    font_size=20,\n",
    ")"
   ]
  },
  {
   "cell_type": "code",
   "execution_count": 72,
   "id": "edf22dbf-e414-4191-8f7c-1d2c8a2d51e6",
   "metadata": {},
   "outputs": [
    {
     "data": {
      "application/vnd.plotly.v1+json": {
       "config": {
        "plotlyServerURL": "https://plot.ly"
       },
       "data": [
        {
         "hovertemplate": "x=%{x}<br>y=%{y}<extra></extra>",
         "legendgroup": "",
         "line": {
          "color": "#636efa",
          "dash": "solid"
         },
         "marker": {
          "symbol": "circle"
         },
         "mode": "lines",
         "name": "",
         "orientation": "v",
         "showlegend": false,
         "type": "scatter",
         "x": {
          "bdata": "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",
          "dtype": "f8"
         },
         "xaxis": "x",
         "y": {
          "bdata": "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",
          "dtype": "f8"
         },
         "yaxis": "y"
        }
       ],
       "layout": {
        "legend": {
         "tracegroupgap": 0
        },
        "margin": {
         "t": 60
        },
        "template": {
         "data": {
          "bar": [
           {
            "error_x": {
             "color": "#2a3f5f"
            },
            "error_y": {
             "color": "#2a3f5f"
            },
            "marker": {
             "line": {
              "color": "#E5ECF6",
              "width": 0.5
             },
             "pattern": {
              "fillmode": "overlay",
              "size": 10,
              "solidity": 0.2
             }
            },
            "type": "bar"
           }
          ],
          "barpolar": [
           {
            "marker": {
             "line": {
              "color": "#E5ECF6",
              "width": 0.5
             },
             "pattern": {
              "fillmode": "overlay",
              "size": 10,
              "solidity": 0.2
             }
            },
            "type": "barpolar"
           }
          ],
          "carpet": [
           {
            "aaxis": {
             "endlinecolor": "#2a3f5f",
             "gridcolor": "white",
             "linecolor": "white",
             "minorgridcolor": "white",
             "startlinecolor": "#2a3f5f"
            },
            "baxis": {
             "endlinecolor": "#2a3f5f",
             "gridcolor": "white",
             "linecolor": "white",
             "minorgridcolor": "white",
             "startlinecolor": "#2a3f5f"
            },
            "type": "carpet"
           }
          ],
          "choropleth": [
           {
            "colorbar": {
             "outlinewidth": 0,
             "ticks": ""
            },
            "type": "choropleth"
           }
          ],
          "contour": [
           {
            "colorbar": {
             "outlinewidth": 0,
             "ticks": ""
            },
            "colorscale": [
             [
              0,
              "#0d0887"
             ],
             [
              0.1111111111111111,
              "#46039f"
             ],
             [
              0.2222222222222222,
              "#7201a8"
             ],
             [
              0.3333333333333333,
              "#9c179e"
             ],
             [
              0.4444444444444444,
              "#bd3786"
             ],
             [
              0.5555555555555556,
              "#d8576b"
             ],
             [
              0.6666666666666666,
              "#ed7953"
             ],
             [
              0.7777777777777778,
              "#fb9f3a"
             ],
             [
              0.8888888888888888,
              "#fdca26"
             ],
             [
              1,
              "#f0f921"
             ]
            ],
            "type": "contour"
           }
          ],
          "contourcarpet": [
           {
            "colorbar": {
             "outlinewidth": 0,
             "ticks": ""
            },
            "type": "contourcarpet"
           }
          ],
          "heatmap": [
           {
            "colorbar": {
             "outlinewidth": 0,
             "ticks": ""
            },
            "colorscale": [
             [
              0,
              "#0d0887"
             ],
             [
              0.1111111111111111,
              "#46039f"
             ],
             [
              0.2222222222222222,
              "#7201a8"
             ],
             [
              0.3333333333333333,
              "#9c179e"
             ],
             [
              0.4444444444444444,
              "#bd3786"
             ],
             [
              0.5555555555555556,
              "#d8576b"
             ],
             [
              0.6666666666666666,
              "#ed7953"
             ],
             [
              0.7777777777777778,
              "#fb9f3a"
             ],
             [
              0.8888888888888888,
              "#fdca26"
             ],
             [
              1,
              "#f0f921"
             ]
            ],
            "type": "heatmap"
           }
          ],
          "histogram": [
           {
            "marker": {
             "pattern": {
              "fillmode": "overlay",
              "size": 10,
              "solidity": 0.2
             }
            },
            "type": "histogram"
           }
          ],
          "histogram2d": [
           {
            "colorbar": {
             "outlinewidth": 0,
             "ticks": ""
            },
            "colorscale": [
             [
              0,
              "#0d0887"
             ],
             [
              0.1111111111111111,
              "#46039f"
             ],
             [
              0.2222222222222222,
              "#7201a8"
             ],
             [
              0.3333333333333333,
              "#9c179e"
             ],
             [
              0.4444444444444444,
              "#bd3786"
             ],
             [
              0.5555555555555556,
              "#d8576b"
             ],
             [
              0.6666666666666666,
              "#ed7953"
             ],
             [
              0.7777777777777778,
              "#fb9f3a"
             ],
             [
              0.8888888888888888,
              "#fdca26"
             ],
             [
              1,
              "#f0f921"
             ]
            ],
            "type": "histogram2d"
           }
          ],
          "histogram2dcontour": [
           {
            "colorbar": {
             "outlinewidth": 0,
             "ticks": ""
            },
            "colorscale": [
             [
              0,
              "#0d0887"
             ],
             [
              0.1111111111111111,
              "#46039f"
             ],
             [
              0.2222222222222222,
              "#7201a8"
             ],
             [
              0.3333333333333333,
              "#9c179e"
             ],
             [
              0.4444444444444444,
              "#bd3786"
             ],
             [
              0.5555555555555556,
              "#d8576b"
             ],
             [
              0.6666666666666666,
              "#ed7953"
             ],
             [
              0.7777777777777778,
              "#fb9f3a"
             ],
             [
              0.8888888888888888,
              "#fdca26"
             ],
             [
              1,
              "#f0f921"
             ]
            ],
            "type": "histogram2dcontour"
           }
          ],
          "mesh3d": [
           {
            "colorbar": {
             "outlinewidth": 0,
             "ticks": ""
            },
            "type": "mesh3d"
           }
          ],
          "parcoords": [
           {
            "line": {
             "colorbar": {
              "outlinewidth": 0,
              "ticks": ""
             }
            },
            "type": "parcoords"
           }
          ],
          "pie": [
           {
            "automargin": true,
            "type": "pie"
           }
          ],
          "scatter": [
           {
            "fillpattern": {
             "fillmode": "overlay",
             "size": 10,
             "solidity": 0.2
            },
            "type": "scatter"
           }
          ],
          "scatter3d": [
           {
            "line": {
             "colorbar": {
              "outlinewidth": 0,
              "ticks": ""
             }
            },
            "marker": {
             "colorbar": {
              "outlinewidth": 0,
              "ticks": ""
             }
            },
            "type": "scatter3d"
           }
          ],
          "scattercarpet": [
           {
            "marker": {
             "colorbar": {
              "outlinewidth": 0,
              "ticks": ""
             }
            },
            "type": "scattercarpet"
           }
          ],
          "scattergeo": [
           {
            "marker": {
             "colorbar": {
              "outlinewidth": 0,
              "ticks": ""
             }
            },
            "type": "scattergeo"
           }
          ],
          "scattergl": [
           {
            "marker": {
             "colorbar": {
              "outlinewidth": 0,
              "ticks": ""
             }
            },
            "type": "scattergl"
           }
          ],
          "scattermap": [
           {
            "marker": {
             "colorbar": {
              "outlinewidth": 0,
              "ticks": ""
             }
            },
            "type": "scattermap"
           }
          ],
          "scattermapbox": [
           {
            "marker": {
             "colorbar": {
              "outlinewidth": 0,
              "ticks": ""
             }
            },
            "type": "scattermapbox"
           }
          ],
          "scatterpolar": [
           {
            "marker": {
             "colorbar": {
              "outlinewidth": 0,
              "ticks": ""
             }
            },
            "type": "scatterpolar"
           }
          ],
          "scatterpolargl": [
           {
            "marker": {
             "colorbar": {
              "outlinewidth": 0,
              "ticks": ""
             }
            },
            "type": "scatterpolargl"
           }
          ],
          "scatterternary": [
           {
            "marker": {
             "colorbar": {
              "outlinewidth": 0,
              "ticks": ""
             }
            },
            "type": "scatterternary"
           }
          ],
          "surface": [
           {
            "colorbar": {
             "outlinewidth": 0,
             "ticks": ""
            },
            "colorscale": [
             [
              0,
              "#0d0887"
             ],
             [
              0.1111111111111111,
              "#46039f"
             ],
             [
              0.2222222222222222,
              "#7201a8"
             ],
             [
              0.3333333333333333,
              "#9c179e"
             ],
             [
              0.4444444444444444,
              "#bd3786"
             ],
             [
              0.5555555555555556,
              "#d8576b"
             ],
             [
              0.6666666666666666,
              "#ed7953"
             ],
             [
              0.7777777777777778,
              "#fb9f3a"
             ],
             [
              0.8888888888888888,
              "#fdca26"
             ],
             [
              1,
              "#f0f921"
             ]
            ],
            "type": "surface"
           }
          ],
          "table": [
           {
            "cells": {
             "fill": {
              "color": "#EBF0F8"
             },
             "line": {
              "color": "white"
             }
            },
            "header": {
             "fill": {
              "color": "#C8D4E3"
             },
             "line": {
              "color": "white"
             }
            },
            "type": "table"
           }
          ]
         },
         "layout": {
          "annotationdefaults": {
           "arrowcolor": "#2a3f5f",
           "arrowhead": 0,
           "arrowwidth": 1
          },
          "autotypenumbers": "strict",
          "coloraxis": {
           "colorbar": {
            "outlinewidth": 0,
            "ticks": ""
           }
          },
          "colorscale": {
           "diverging": [
            [
             0,
             "#8e0152"
            ],
            [
             0.1,
             "#c51b7d"
            ],
            [
             0.2,
             "#de77ae"
            ],
            [
             0.3,
             "#f1b6da"
            ],
            [
             0.4,
             "#fde0ef"
            ],
            [
             0.5,
             "#f7f7f7"
            ],
            [
             0.6,
             "#e6f5d0"
            ],
            [
             0.7,
             "#b8e186"
            ],
            [
             0.8,
             "#7fbc41"
            ],
            [
             0.9,
             "#4d9221"
            ],
            [
             1,
             "#276419"
            ]
           ],
           "sequential": [
            [
             0,
             "#0d0887"
            ],
            [
             0.1111111111111111,
             "#46039f"
            ],
            [
             0.2222222222222222,
             "#7201a8"
            ],
            [
             0.3333333333333333,
             "#9c179e"
            ],
            [
             0.4444444444444444,
             "#bd3786"
            ],
            [
             0.5555555555555556,
             "#d8576b"
            ],
            [
             0.6666666666666666,
             "#ed7953"
            ],
            [
             0.7777777777777778,
             "#fb9f3a"
            ],
            [
             0.8888888888888888,
             "#fdca26"
            ],
            [
             1,
             "#f0f921"
            ]
           ],
           "sequentialminus": [
            [
             0,
             "#0d0887"
            ],
            [
             0.1111111111111111,
             "#46039f"
            ],
            [
             0.2222222222222222,
             "#7201a8"
            ],
            [
             0.3333333333333333,
             "#9c179e"
            ],
            [
             0.4444444444444444,
             "#bd3786"
            ],
            [
             0.5555555555555556,
             "#d8576b"
            ],
            [
             0.6666666666666666,
             "#ed7953"
            ],
            [
             0.7777777777777778,
             "#fb9f3a"
            ],
            [
             0.8888888888888888,
             "#fdca26"
            ],
            [
             1,
             "#f0f921"
            ]
           ]
          },
          "colorway": [
           "#636efa",
           "#EF553B",
           "#00cc96",
           "#ab63fa",
           "#FFA15A",
           "#19d3f3",
           "#FF6692",
           "#B6E880",
           "#FF97FF",
           "#FECB52"
          ],
          "font": {
           "color": "#2a3f5f"
          },
          "geo": {
           "bgcolor": "white",
           "lakecolor": "white",
           "landcolor": "#E5ECF6",
           "showlakes": true,
           "showland": true,
           "subunitcolor": "white"
          },
          "hoverlabel": {
           "align": "left"
          },
          "hovermode": "closest",
          "mapbox": {
           "style": "light"
          },
          "paper_bgcolor": "white",
          "plot_bgcolor": "#E5ECF6",
          "polar": {
           "angularaxis": {
            "gridcolor": "white",
            "linecolor": "white",
            "ticks": ""
           },
           "bgcolor": "#E5ECF6",
           "radialaxis": {
            "gridcolor": "white",
            "linecolor": "white",
            "ticks": ""
           }
          },
          "scene": {
           "xaxis": {
            "backgroundcolor": "#E5ECF6",
            "gridcolor": "white",
            "gridwidth": 2,
            "linecolor": "white",
            "showbackground": true,
            "ticks": "",
            "zerolinecolor": "white"
           },
           "yaxis": {
            "backgroundcolor": "#E5ECF6",
            "gridcolor": "white",
            "gridwidth": 2,
            "linecolor": "white",
            "showbackground": true,
            "ticks": "",
            "zerolinecolor": "white"
           },
           "zaxis": {
            "backgroundcolor": "#E5ECF6",
            "gridcolor": "white",
            "gridwidth": 2,
            "linecolor": "white",
            "showbackground": true,
            "ticks": "",
            "zerolinecolor": "white"
           }
          },
          "shapedefaults": {
           "line": {
            "color": "#2a3f5f"
           }
          },
          "ternary": {
           "aaxis": {
            "gridcolor": "white",
            "linecolor": "white",
            "ticks": ""
           },
           "baxis": {
            "gridcolor": "white",
            "linecolor": "white",
            "ticks": ""
           },
           "bgcolor": "#E5ECF6",
           "caxis": {
            "gridcolor": "white",
            "linecolor": "white",
            "ticks": ""
           }
          },
          "title": {
           "x": 0.05
          },
          "xaxis": {
           "automargin": true,
           "gridcolor": "white",
           "linecolor": "white",
           "ticks": "",
           "title": {
            "standoff": 15
           },
           "zerolinecolor": "white",
           "zerolinewidth": 2
          },
          "yaxis": {
           "automargin": true,
           "gridcolor": "white",
           "linecolor": "white",
           "ticks": "",
           "title": {
            "standoff": 15
           },
           "zerolinecolor": "white",
           "zerolinewidth": 2
          }
         }
        },
        "xaxis": {
         "anchor": "y",
         "domain": [
          0,
          1
         ],
         "title": {
          "text": "x"
         }
        },
        "yaxis": {
         "anchor": "x",
         "domain": [
          0,
          1
         ],
         "title": {
          "text": "y"
         }
        }
       }
      },
      "image/png": "[encoded data removed]"
     },
     "metadata": {},
     "output_type": "display_data"
    }
   ],
   "source": [
    "import scipy.optimize\n",
    "\n",
    "def g(x):\n",
    "    return x**3 + x**2 - 3*x + 2\n",
    "\n",
    "x = np.linspace(-3, 2, 1000)\n",
    "px.line(x=x, y=np.vectorize(g)(x))"
   ]
  },
  {
   "cell_type": "code",
   "execution_count": 70,
   "id": "2864756f-f9a3-4ea9-8148-aed85d8fd9fd",
   "metadata": {},
   "outputs": [
    {
     "data": {
      "text/plain": [
       "  message: Optimization terminated successfully.\n",
       "  success: True\n",
       "   status: 0\n",
       "      fun: 0.7316461776530541\n",
       "        x: [ 7.208e-01]\n",
       "      nit: 20\n",
       "      jac: [ 1.788e-07]\n",
       " hess_inv: [[ 1.580e-01]]\n",
       "     nfev: 48\n",
       "     njev: 24"
      ]
     },
     "execution_count": 70,
     "metadata": {},
     "output_type": "execute_result"
    }
   ],
   "source": [
    "scipy.optimize.minimize(g, x0=1000)"
   ]
  },
  {
   "cell_type": "code",
   "execution_count": 78,
   "id": "b701f315-1735-4828-bf31-5b611c616ae8",
   "metadata": {},
   "outputs": [
    {
     "data": {
      "text/plain": [
       "  message: Optimization terminated successfully.\n",
       "  success: True\n",
       "   status: 0\n",
       "      fun: 1.1781161154513287\n",
       "        x: [ 1.437e-01]\n",
       "      nit: 1\n",
       "      jac: [ 2.384e-06]\n",
       " hess_inv: [[1]]\n",
       "     nfev: 6\n",
       "     njev: 3"
      ]
     },
     "execution_count": 78,
     "metadata": {},
     "output_type": "execute_result"
    }
   ],
   "source": [
    "scipy.optimize.minimize(mse_given_theta, x0=0.2)"
   ]
  },
  {
   "cell_type": "code",
   "execution_count": 75,
   "id": "143e4f75-4b3f-41a6-b7a6-13db52645353",
   "metadata": {},
   "outputs": [
    {
     "data": {
      "text/plain": [
       "  message: Desired error not necessarily achieved due to precision loss.\n",
       "  success: False\n",
       "   status: 2\n",
       "      fun: -1114853117.349824\n",
       "        x: [-1.037e+03]\n",
       "      nit: 1\n",
       "      jac: [ 3.226e+06]\n",
       " hess_inv: [[-3.206e-04]]\n",
       "     nfev: 236\n",
       "     njev: 112"
      ]
     },
     "execution_count": 75,
     "metadata": {},
     "output_type": "execute_result"
    }
   ],
   "source": [
    "scipy.optimize.minimize(g, x0=-3)"
   ]
  }
 ],
 "metadata": {
  "kernelspec": {
   "display_name": "Python 3 (ipykernel)",
   "language": "python",
   "name": "python3"
  },
  "language_info": {
   "codemirror_mode": {
    "name": "ipython",
    "version": 3
   },
   "file_extension": ".py",
   "mimetype": "text/x-python",
   "name": "python",
   "nbconvert_exporter": "python",
   "pygments_lexer": "ipython3",
   "version": "3.9.23"
  }
 },
 "nbformat": 4,
 "nbformat_minor": 5
}
