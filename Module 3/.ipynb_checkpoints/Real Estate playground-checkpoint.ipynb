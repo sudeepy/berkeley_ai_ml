{
 "cells": [
  {
   "cell_type": "code",
   "execution_count": 5,
   "id": "91d203e1-1ffa-4188-b1b3-1b9ae0bd4997",
   "metadata": {},
   "outputs": [],
   "source": [
    "import pandas as pd\n",
    "import seaborn as sns\n",
    "import matplotlib.pyplot as plt\n",
    "import plotly.express as px\n",
    "\n",
    "pd.options.display.max_rows = 10"
   ]
  },
  {
   "cell_type": "code",
   "execution_count": 6,
   "id": "03d8936a-206d-4716-b31d-e2be1fb09fce",
   "metadata": {
    "jupyter": {
     "source_hidden": true
    }
   },
   "outputs": [],
   "source": [
    "states = {'Alabama': 'AL',\n",
    "        'Alaska': 'AK',\n",
    "        'Arizona': 'AZ',\n",
    "        'Arkansas': 'AR',\n",
    "        'California': 'CA',\n",
    "        'Colorado': 'CO',\n",
    "        'Connecticut': 'CT',\n",
    "        'Delaware': 'DE',\n",
    "        'District of Columbia': 'DC',\n",
    "        'Florida': 'FL',\n",
    "        'Georgia': 'GA',\n",
    "        'Hawaii': 'HI',\n",
    "        'Idaho': 'ID',\n",
    "        'Illinois': 'IL',\n",
    "        'Indiana': 'IN',\n",
    "        'Iowa': 'IA',\n",
    "        'Kansas': 'KS',\n",
    "        'Kentucky': 'KY',\n",
    "        'Louisiana': 'LA',\n",
    "        'Maine': 'ME',\n",
    "        'Maryland': 'MD',\n",
    "        'Massachusetts': 'MA',\n",
    "        'Michigan': 'MI',\n",
    "        'Minnesota': 'MN',\n",
    "        'Mississippi': 'MS',\n",
    "        'Missouri': 'MO',\n",
    "        'Montana': 'MT',\n",
    "        'Nebraska': 'NE',\n",
    "        'Nevada': 'NV',\n",
    "        'New Hampshire': 'NH',\n",
    "        'New Jersey': 'NJ',\n",
    "        'New Mexico': 'NM',\n",
    "        'New York': 'NY',\n",
    "        'North Carolina': 'NC',\n",
    "        'North Dakota': 'ND',\n",
    "        'Ohio': 'OH',\n",
    "        'Oklahoma': 'OK',\n",
    "        'Oregon': 'OR',\n",
    "        'Pennsylvania': 'PA',\n",
    "        'Rhode Island': 'RI',\n",
    "        'South Carolina': 'SC',\n",
    "        'South Dakota': 'SD',\n",
    "        'Tennessee': 'TN',\n",
    "        'Texas': 'TX',\n",
    "        'Utah': 'UT',\n",
    "        'Vermont': 'VT',\n",
    "        'Virginia': 'VA',\n",
    "        'Washington': 'WA',\n",
    "        'West Virginia': 'WV',\n",
    "        'Wisconsin': 'WI',\n",
    "        'Wyoming': 'WY'}"
   ]
  },
  {
   "cell_type": "code",
   "execution_count": 7,
   "id": "630f1736-46c7-4ae0-8d64-710c884f1037",
   "metadata": {},
   "outputs": [
    {
     "name": "stdout",
     "output_type": "stream",
     "text": [
      "<class 'pandas.core.frame.DataFrame'>\n",
      "RangeIndex: 3000 entries, 0 to 2999\n",
      "Data columns (total 18 columns):\n",
      " #   Column          Non-Null Count  Dtype \n",
      "---  ------          --------------  ----- \n",
      " 0   Price           3000 non-null   object\n",
      " 1   Address         3000 non-null   object\n",
      " 2   City            3000 non-null   object\n",
      " 3   Zipcode         3000 non-null   int64 \n",
      " 4   State           3000 non-null   object\n",
      " 5   Bedrooms        3000 non-null   object\n",
      " 6   Bathrooms       3000 non-null   object\n",
      " 7   Area (Sqft)     3000 non-null   object\n",
      " 8   Lot Size        3000 non-null   object\n",
      " 9   Year Built      3000 non-null   int64 \n",
      " 10  Days on Market  3000 non-null   int64 \n",
      " 11  Property Type   3000 non-null   object\n",
      " 12  MLS ID          3000 non-null   object\n",
      " 13  Listing Agent   3000 non-null   object\n",
      " 14  Status          3000 non-null   object\n",
      " 15  Listing URL     3000 non-null   object\n",
      " 16  price           3000 non-null   int64 \n",
      " 17  state           0 non-null      object\n",
      "dtypes: int64(4), object(14)\n",
      "memory usage: 422.0+ KB\n"
     ]
    }
   ],
   "source": [
    "df = pd.read_csv('data/us_house_Sales_data.csv')\n",
    "df['price'] = pd.to_numeric(df['Price'].astype(str).str.replace('$', '').str.replace(',', ''))\n",
    "df['state'] = df['State'].map(states)\n",
    "df.info()"
   ]
  },
  {
   "cell_type": "code",
   "execution_count": 8,
   "id": "915051ee-9bb4-4e04-bf71-db01a2491f31",
   "metadata": {},
   "outputs": [
    {
     "data": {
      "text/html": [
       "<div>\n",
       "<style scoped>\n",
       "    .dataframe tbody tr th:only-of-type {\n",
       "        vertical-align: middle;\n",
       "    }\n",
       "\n",
       "    .dataframe tbody tr th {\n",
       "        vertical-align: top;\n",
       "    }\n",
       "\n",
       "    .dataframe thead th {\n",
       "        text-align: right;\n",
       "    }\n",
       "</style>\n",
       "<table border=\"1\" class=\"dataframe\">\n",
       "  <thead>\n",
       "    <tr style=\"text-align: right;\">\n",
       "      <th></th>\n",
       "      <th>Price</th>\n",
       "      <th>Address</th>\n",
       "      <th>City</th>\n",
       "      <th>Zipcode</th>\n",
       "      <th>State</th>\n",
       "      <th>Bedrooms</th>\n",
       "      <th>Bathrooms</th>\n",
       "      <th>Area (Sqft)</th>\n",
       "      <th>Lot Size</th>\n",
       "      <th>Year Built</th>\n",
       "      <th>Days on Market</th>\n",
       "      <th>Property Type</th>\n",
       "      <th>MLS ID</th>\n",
       "      <th>Listing Agent</th>\n",
       "      <th>Status</th>\n",
       "      <th>Listing URL</th>\n",
       "      <th>price</th>\n",
       "      <th>state</th>\n",
       "    </tr>\n",
       "  </thead>\n",
       "  <tbody>\n",
       "    <tr>\n",
       "      <th>0</th>\n",
       "      <td>$554,217</td>\n",
       "      <td>5926 Oak Ave, San Diego, CA 65383</td>\n",
       "      <td>San Diego</td>\n",
       "      <td>65383</td>\n",
       "      <td>CA</td>\n",
       "      <td>1 bds</td>\n",
       "      <td>3 ba</td>\n",
       "      <td>772 sqft</td>\n",
       "      <td>4757 sqft</td>\n",
       "      <td>1959</td>\n",
       "      <td>101</td>\n",
       "      <td>Townhouse</td>\n",
       "      <td>Z104635</td>\n",
       "      <td>Alex Johnson - Compass</td>\n",
       "      <td>For Sale</td>\n",
       "      <td>https://www.zillow.com/homedetails/80374762_zpid/</td>\n",
       "      <td>554217</td>\n",
       "      <td>NaN</td>\n",
       "    </tr>\n",
       "    <tr>\n",
       "      <th>1</th>\n",
       "      <td>$164,454</td>\n",
       "      <td>9583 Oak Ave, Fresno, IL 79339</td>\n",
       "      <td>Fresno</td>\n",
       "      <td>79339</td>\n",
       "      <td>IL</td>\n",
       "      <td>1 bds</td>\n",
       "      <td>1 ba</td>\n",
       "      <td>2348 sqft</td>\n",
       "      <td>3615 sqft</td>\n",
       "      <td>1969</td>\n",
       "      <td>46</td>\n",
       "      <td>Apartment</td>\n",
       "      <td>Z535721</td>\n",
       "      <td>Emily Davis - Century 21</td>\n",
       "      <td>Sold</td>\n",
       "      <td>https://www.zillow.com/homedetails/86143665_zpid/</td>\n",
       "      <td>164454</td>\n",
       "      <td>NaN</td>\n",
       "    </tr>\n",
       "    <tr>\n",
       "      <th>2</th>\n",
       "      <td>$1,249,331</td>\n",
       "      <td>8224 Oak Ave, Sacramento, TX 87393</td>\n",
       "      <td>Sacramento</td>\n",
       "      <td>87393</td>\n",
       "      <td>TX</td>\n",
       "      <td>6 bds</td>\n",
       "      <td>1 ba</td>\n",
       "      <td>3630 sqft</td>\n",
       "      <td>9369 sqft</td>\n",
       "      <td>1990</td>\n",
       "      <td>59</td>\n",
       "      <td>Townhouse</td>\n",
       "      <td>Z900458</td>\n",
       "      <td>Mike Lee - Coldwell Banker</td>\n",
       "      <td>For Sale</td>\n",
       "      <td>https://www.zillow.com/homedetails/37082403_zpid/</td>\n",
       "      <td>1249331</td>\n",
       "      <td>NaN</td>\n",
       "    </tr>\n",
       "    <tr>\n",
       "      <th>3</th>\n",
       "      <td>$189,267</td>\n",
       "      <td>232 Oak Ave, Fresno, TX 38666</td>\n",
       "      <td>Fresno</td>\n",
       "      <td>38666</td>\n",
       "      <td>TX</td>\n",
       "      <td>2 bds</td>\n",
       "      <td>1 ba</td>\n",
       "      <td>605 sqft</td>\n",
       "      <td>8804 sqft</td>\n",
       "      <td>1958</td>\n",
       "      <td>119</td>\n",
       "      <td>Apartment</td>\n",
       "      <td>Z318589</td>\n",
       "      <td>John Doe - RE/MAX</td>\n",
       "      <td>Pending</td>\n",
       "      <td>https://www.zillow.com/homedetails/39318132_zpid/</td>\n",
       "      <td>189267</td>\n",
       "      <td>NaN</td>\n",
       "    </tr>\n",
       "    <tr>\n",
       "      <th>4</th>\n",
       "      <td>$465,778</td>\n",
       "      <td>5446 Pine Rd, Los Angeles, CA 23989</td>\n",
       "      <td>Los Angeles</td>\n",
       "      <td>23989</td>\n",
       "      <td>CA</td>\n",
       "      <td>3 bds</td>\n",
       "      <td>2 ba</td>\n",
       "      <td>1711 sqft</td>\n",
       "      <td>9260 sqft</td>\n",
       "      <td>2020</td>\n",
       "      <td>26</td>\n",
       "      <td>Townhouse</td>\n",
       "      <td>Z899716</td>\n",
       "      <td>John Doe - RE/MAX</td>\n",
       "      <td>Pending</td>\n",
       "      <td>https://www.zillow.com/homedetails/22454634_zpid/</td>\n",
       "      <td>465778</td>\n",
       "      <td>NaN</td>\n",
       "    </tr>\n",
       "  </tbody>\n",
       "</table>\n",
       "</div>"
      ],
      "text/plain": [
       "        Price                              Address         City  Zipcode  \\\n",
       "0    $554,217    5926 Oak Ave, San Diego, CA 65383    San Diego    65383   \n",
       "1    $164,454       9583 Oak Ave, Fresno, IL 79339       Fresno    79339   \n",
       "2  $1,249,331   8224 Oak Ave, Sacramento, TX 87393   Sacramento    87393   \n",
       "3    $189,267        232 Oak Ave, Fresno, TX 38666       Fresno    38666   \n",
       "4    $465,778  5446 Pine Rd, Los Angeles, CA 23989  Los Angeles    23989   \n",
       "\n",
       "  State Bedrooms Bathrooms Area (Sqft)   Lot Size  Year Built  Days on Market  \\\n",
       "0    CA    1 bds      3 ba    772 sqft  4757 sqft        1959             101   \n",
       "1    IL    1 bds      1 ba   2348 sqft  3615 sqft        1969              46   \n",
       "2    TX    6 bds      1 ba   3630 sqft  9369 sqft        1990              59   \n",
       "3    TX    2 bds      1 ba    605 sqft  8804 sqft        1958             119   \n",
       "4    CA    3 bds      2 ba   1711 sqft  9260 sqft        2020              26   \n",
       "\n",
       "  Property Type   MLS ID               Listing Agent    Status  \\\n",
       "0     Townhouse  Z104635      Alex Johnson - Compass  For Sale   \n",
       "1     Apartment  Z535721    Emily Davis - Century 21      Sold   \n",
       "2     Townhouse  Z900458  Mike Lee - Coldwell Banker  For Sale   \n",
       "3     Apartment  Z318589           John Doe - RE/MAX   Pending   \n",
       "4     Townhouse  Z899716           John Doe - RE/MAX   Pending   \n",
       "\n",
       "                                         Listing URL    price state  \n",
       "0  https://www.zillow.com/homedetails/80374762_zpid/   554217   NaN  \n",
       "1  https://www.zillow.com/homedetails/86143665_zpid/   164454   NaN  \n",
       "2  https://www.zillow.com/homedetails/37082403_zpid/  1249331   NaN  \n",
       "3  https://www.zillow.com/homedetails/39318132_zpid/   189267   NaN  \n",
       "4  https://www.zillow.com/homedetails/22454634_zpid/   465778   NaN  "
      ]
     },
     "execution_count": 8,
     "metadata": {},
     "output_type": "execute_result"
    }
   ],
   "source": [
    "df.head()"
   ]
  },
  {
   "cell_type": "code",
   "execution_count": 9,
   "id": "34e85dc2-6354-48e8-9fab-fe104d053a78",
   "metadata": {},
   "outputs": [
    {
     "data": {
      "text/html": [
       "<div>\n",
       "<style scoped>\n",
       "    .dataframe tbody tr th:only-of-type {\n",
       "        vertical-align: middle;\n",
       "    }\n",
       "\n",
       "    .dataframe tbody tr th {\n",
       "        vertical-align: top;\n",
       "    }\n",
       "\n",
       "    .dataframe thead th {\n",
       "        text-align: right;\n",
       "    }\n",
       "</style>\n",
       "<table border=\"1\" class=\"dataframe\">\n",
       "  <thead>\n",
       "    <tr style=\"text-align: right;\">\n",
       "      <th></th>\n",
       "      <th>Price</th>\n",
       "      <th>Address</th>\n",
       "      <th>City</th>\n",
       "      <th>Zipcode</th>\n",
       "      <th>State</th>\n",
       "      <th>Bedrooms</th>\n",
       "      <th>Bathrooms</th>\n",
       "      <th>Area (Sqft)</th>\n",
       "      <th>Lot Size</th>\n",
       "      <th>Year Built</th>\n",
       "      <th>Days on Market</th>\n",
       "      <th>Property Type</th>\n",
       "      <th>MLS ID</th>\n",
       "      <th>Listing Agent</th>\n",
       "      <th>Status</th>\n",
       "      <th>Listing URL</th>\n",
       "      <th>price</th>\n",
       "      <th>state</th>\n",
       "    </tr>\n",
       "  </thead>\n",
       "  <tbody>\n",
       "    <tr>\n",
       "      <th>611</th>\n",
       "      <td>$906,038</td>\n",
       "      <td>7041 Oak Ave, Fresno, IL 28975</td>\n",
       "      <td>Fresno</td>\n",
       "      <td>28975</td>\n",
       "      <td>IL</td>\n",
       "      <td>2 bds</td>\n",
       "      <td>4 ba</td>\n",
       "      <td>1516 sqft</td>\n",
       "      <td>4527 sqft</td>\n",
       "      <td>1951</td>\n",
       "      <td>101</td>\n",
       "      <td>Multi-Family</td>\n",
       "      <td>Z697828</td>\n",
       "      <td>John Doe - RE/MAX</td>\n",
       "      <td>Sold</td>\n",
       "      <td>https://www.zillow.com/homedetails/46063956_zpid/</td>\n",
       "      <td>906038</td>\n",
       "      <td>NaN</td>\n",
       "    </tr>\n",
       "    <tr>\n",
       "      <th>2198</th>\n",
       "      <td>$1,056,968</td>\n",
       "      <td>3112 Elm St, San Diego, IL 71107</td>\n",
       "      <td>San Diego</td>\n",
       "      <td>71107</td>\n",
       "      <td>IL</td>\n",
       "      <td>4 bds</td>\n",
       "      <td>2 ba</td>\n",
       "      <td>1973 sqft</td>\n",
       "      <td>3867 sqft</td>\n",
       "      <td>1968</td>\n",
       "      <td>33</td>\n",
       "      <td>Single Family</td>\n",
       "      <td>Z294646</td>\n",
       "      <td>Emily Davis - Century 21</td>\n",
       "      <td>Sold</td>\n",
       "      <td>https://www.zillow.com/homedetails/86905797_zpid/</td>\n",
       "      <td>1056968</td>\n",
       "      <td>NaN</td>\n",
       "    </tr>\n",
       "    <tr>\n",
       "      <th>2062</th>\n",
       "      <td>$1,327,823</td>\n",
       "      <td>829 Elm St, Los Angeles, IL 41731</td>\n",
       "      <td>Los Angeles</td>\n",
       "      <td>41731</td>\n",
       "      <td>IL</td>\n",
       "      <td>4 bds</td>\n",
       "      <td>1 ba</td>\n",
       "      <td>1198 sqft</td>\n",
       "      <td>9580 sqft</td>\n",
       "      <td>1999</td>\n",
       "      <td>95</td>\n",
       "      <td>Single Family</td>\n",
       "      <td>Z665001</td>\n",
       "      <td>Mike Lee - Coldwell Banker</td>\n",
       "      <td>Sold</td>\n",
       "      <td>https://www.zillow.com/homedetails/28952761_zpid/</td>\n",
       "      <td>1327823</td>\n",
       "      <td>NaN</td>\n",
       "    </tr>\n",
       "    <tr>\n",
       "      <th>920</th>\n",
       "      <td>$241,211</td>\n",
       "      <td>6724 Elm St, Sacramento, CA 59994</td>\n",
       "      <td>Sacramento</td>\n",
       "      <td>59994</td>\n",
       "      <td>CA</td>\n",
       "      <td>1 bds</td>\n",
       "      <td>1 ba</td>\n",
       "      <td>1779 sqft</td>\n",
       "      <td>3156 sqft</td>\n",
       "      <td>2019</td>\n",
       "      <td>10</td>\n",
       "      <td>Townhouse</td>\n",
       "      <td>Z893157</td>\n",
       "      <td>Mike Lee - Coldwell Banker</td>\n",
       "      <td>Pending</td>\n",
       "      <td>https://www.zillow.com/homedetails/41380796_zpid/</td>\n",
       "      <td>241211</td>\n",
       "      <td>NaN</td>\n",
       "    </tr>\n",
       "    <tr>\n",
       "      <th>1665</th>\n",
       "      <td>$668,647</td>\n",
       "      <td>3300 Oak Ave, San Francisco, CA 20111</td>\n",
       "      <td>San Francisco</td>\n",
       "      <td>20111</td>\n",
       "      <td>CA</td>\n",
       "      <td>6 bds</td>\n",
       "      <td>3 ba</td>\n",
       "      <td>2843 sqft</td>\n",
       "      <td>6095 sqft</td>\n",
       "      <td>2008</td>\n",
       "      <td>100</td>\n",
       "      <td>Apartment</td>\n",
       "      <td>Z172814</td>\n",
       "      <td>Alex Johnson - Compass</td>\n",
       "      <td>Sold</td>\n",
       "      <td>https://www.zillow.com/homedetails/67523788_zpid/</td>\n",
       "      <td>668647</td>\n",
       "      <td>NaN</td>\n",
       "    </tr>\n",
       "  </tbody>\n",
       "</table>\n",
       "</div>"
      ],
      "text/plain": [
       "           Price                                Address           City  \\\n",
       "611     $906,038         7041 Oak Ave, Fresno, IL 28975         Fresno   \n",
       "2198  $1,056,968       3112 Elm St, San Diego, IL 71107      San Diego   \n",
       "2062  $1,327,823      829 Elm St, Los Angeles, IL 41731    Los Angeles   \n",
       "920     $241,211      6724 Elm St, Sacramento, CA 59994     Sacramento   \n",
       "1665    $668,647  3300 Oak Ave, San Francisco, CA 20111  San Francisco   \n",
       "\n",
       "      Zipcode State Bedrooms Bathrooms Area (Sqft)   Lot Size  Year Built  \\\n",
       "611     28975    IL    2 bds      4 ba   1516 sqft  4527 sqft        1951   \n",
       "2198    71107    IL    4 bds      2 ba   1973 sqft  3867 sqft        1968   \n",
       "2062    41731    IL    4 bds      1 ba   1198 sqft  9580 sqft        1999   \n",
       "920     59994    CA    1 bds      1 ba   1779 sqft  3156 sqft        2019   \n",
       "1665    20111    CA    6 bds      3 ba   2843 sqft  6095 sqft        2008   \n",
       "\n",
       "      Days on Market  Property Type   MLS ID               Listing Agent  \\\n",
       "611              101   Multi-Family  Z697828           John Doe - RE/MAX   \n",
       "2198              33  Single Family  Z294646    Emily Davis - Century 21   \n",
       "2062              95  Single Family  Z665001  Mike Lee - Coldwell Banker   \n",
       "920               10      Townhouse  Z893157  Mike Lee - Coldwell Banker   \n",
       "1665             100      Apartment  Z172814      Alex Johnson - Compass   \n",
       "\n",
       "       Status                                        Listing URL    price  \\\n",
       "611      Sold  https://www.zillow.com/homedetails/46063956_zpid/   906038   \n",
       "2198     Sold  https://www.zillow.com/homedetails/86905797_zpid/  1056968   \n",
       "2062     Sold  https://www.zillow.com/homedetails/28952761_zpid/  1327823   \n",
       "920   Pending  https://www.zillow.com/homedetails/41380796_zpid/   241211   \n",
       "1665     Sold  https://www.zillow.com/homedetails/67523788_zpid/   668647   \n",
       "\n",
       "     state  \n",
       "611    NaN  \n",
       "2198   NaN  \n",
       "2062   NaN  \n",
       "920    NaN  \n",
       "1665   NaN  "
      ]
     },
     "execution_count": 9,
     "metadata": {},
     "output_type": "execute_result"
    }
   ],
   "source": [
    "df.sample(5)"
   ]
  },
  {
   "cell_type": "code",
   "execution_count": 10,
   "id": "5966b03e-b3de-4327-8df9-18f223d8a734",
   "metadata": {},
   "outputs": [
    {
     "data": {
      "text/html": [
       "<div>\n",
       "<style scoped>\n",
       "    .dataframe tbody tr th:only-of-type {\n",
       "        vertical-align: middle;\n",
       "    }\n",
       "\n",
       "    .dataframe tbody tr th {\n",
       "        vertical-align: top;\n",
       "    }\n",
       "\n",
       "    .dataframe thead th {\n",
       "        text-align: right;\n",
       "    }\n",
       "</style>\n",
       "<table border=\"1\" class=\"dataframe\">\n",
       "  <thead>\n",
       "    <tr style=\"text-align: right;\">\n",
       "      <th></th>\n",
       "      <th>State</th>\n",
       "      <th>max</th>\n",
       "      <th>mean</th>\n",
       "      <th>median</th>\n",
       "      <th>min</th>\n",
       "    </tr>\n",
       "  </thead>\n",
       "  <tbody>\n",
       "    <tr>\n",
       "      <th>0</th>\n",
       "      <td>CA</td>\n",
       "      <td>1499218</td>\n",
       "      <td>806044.661608</td>\n",
       "      <td>811641.0</td>\n",
       "      <td>100764</td>\n",
       "    </tr>\n",
       "    <tr>\n",
       "      <th>1</th>\n",
       "      <td>FL</td>\n",
       "      <td>1496345</td>\n",
       "      <td>834202.892734</td>\n",
       "      <td>859750.0</td>\n",
       "      <td>100283</td>\n",
       "    </tr>\n",
       "    <tr>\n",
       "      <th>2</th>\n",
       "      <td>IL</td>\n",
       "      <td>1496721</td>\n",
       "      <td>822910.502504</td>\n",
       "      <td>837702.0</td>\n",
       "      <td>100366</td>\n",
       "    </tr>\n",
       "    <tr>\n",
       "      <th>3</th>\n",
       "      <td>NY</td>\n",
       "      <td>1498990</td>\n",
       "      <td>797940.268781</td>\n",
       "      <td>768400.0</td>\n",
       "      <td>100866</td>\n",
       "    </tr>\n",
       "    <tr>\n",
       "      <th>4</th>\n",
       "      <td>TX</td>\n",
       "      <td>1499473</td>\n",
       "      <td>793514.649558</td>\n",
       "      <td>796329.0</td>\n",
       "      <td>102028</td>\n",
       "    </tr>\n",
       "  </tbody>\n",
       "</table>\n",
       "</div>"
      ],
      "text/plain": [
       "  State      max           mean    median     min\n",
       "0    CA  1499218  806044.661608  811641.0  100764\n",
       "1    FL  1496345  834202.892734  859750.0  100283\n",
       "2    IL  1496721  822910.502504  837702.0  100366\n",
       "3    NY  1498990  797940.268781  768400.0  100866\n",
       "4    TX  1499473  793514.649558  796329.0  102028"
      ]
     },
     "execution_count": 10,
     "metadata": {},
     "output_type": "execute_result"
    }
   ],
   "source": [
    "pivot = df.pivot_table(index='State', values='price', aggfunc={'price': ['mean', 'median', 'min', 'max']}).reset_index()\n",
    "pivot"
   ]
  },
  {
   "cell_type": "code",
   "execution_count": 13,
   "id": "09dc30f8-4ad6-4ebb-81d8-185fb728bb57",
   "metadata": {},
   "outputs": [
    {
     "data": {
      "application/vnd.plotly.v1+json": {
       "config": {
        "plotlyServerURL": "https://plot.ly"
       },
       "data": [
        {
         "coloraxis": "coloraxis",
         "customdata": {
          "bdata": "AAAAAFLgNkFZWb5SOZkoQQAAAADyxChBAAAAAMCZ+EAAAAAAGdU2QatfFMk1dSlBAAAAAMw8KkEAAAAAsHv4QAAAAACR1jZBIDpIAf0cKUEAAAAAjJApQQAAAADggPhAAAAAAG7fNkHts52J6FkoQQAAAAAgcydBAAAAACCg+EAAAAAAUeE2QbXNkkxVNyhBAAAAAFJNKEEAAAAAwOj4QA==",
          "dtype": "f8",
          "shape": "5, 4"
         },
         "geo": "geo",
         "hovertemplate": "State=%{location}<br>max=%{customdata[0]}<br>mean=%{z}<br>median=%{customdata[2]}<br>min=%{customdata[3]}<extra></extra>",
         "locationmode": "USA-states",
         "locations": [
          "CA",
          "FL",
          "IL",
          "NY",
          "TX"
         ],
         "name": "",
         "type": "choropleth",
         "z": {
          "bdata": "WVm+UjmZKEGrXxTJNXUpQSA6SAH9HClB7bOdiehZKEG1zZJMVTcoQQ==",
          "dtype": "f8"
         }
        }
       ],
       "layout": {
        "coloraxis": {
         "colorbar": {
          "title": {
           "text": "mean"
          }
         },
         "colorscale": [
          [
           0,
           "#0d0887"
          ],
          [
           0.1111111111111111,
           "#46039f"
          ],
          [
           0.2222222222222222,
           "#7201a8"
          ],
          [
           0.3333333333333333,
           "#9c179e"
          ],
          [
           0.4444444444444444,
           "#bd3786"
          ],
          [
           0.5555555555555556,
           "#d8576b"
          ],
          [
           0.6666666666666666,
           "#ed7953"
          ],
          [
           0.7777777777777778,
           "#fb9f3a"
          ],
          [
           0.8888888888888888,
           "#fdca26"
          ],
          [
           1,
           "#f0f921"
          ]
         ]
        },
        "geo": {
         "center": {},
         "domain": {
          "x": [
           0,
           1
          ],
          "y": [
           0,
           1
          ]
         },
         "scope": "usa"
        },
        "legend": {
         "tracegroupgap": 0
        },
        "margin": {
         "t": 60
        },
        "template": {
         "data": {
          "bar": [
           {
            "error_x": {
             "color": "#2a3f5f"
            },
            "error_y": {
             "color": "#2a3f5f"
            },
            "marker": {
             "line": {
              "color": "#E5ECF6",
              "width": 0.5
             },
             "pattern": {
              "fillmode": "overlay",
              "size": 10,
              "solidity": 0.2
             }
            },
            "type": "bar"
           }
          ],
          "barpolar": [
           {
            "marker": {
             "line": {
              "color": "#E5ECF6",
              "width": 0.5
             },
             "pattern": {
              "fillmode": "overlay",
              "size": 10,
              "solidity": 0.2
             }
            },
            "type": "barpolar"
           }
          ],
          "carpet": [
           {
            "aaxis": {
             "endlinecolor": "#2a3f5f",
             "gridcolor": "white",
             "linecolor": "white",
             "minorgridcolor": "white",
             "startlinecolor": "#2a3f5f"
            },
            "baxis": {
             "endlinecolor": "#2a3f5f",
             "gridcolor": "white",
             "linecolor": "white",
             "minorgridcolor": "white",
             "startlinecolor": "#2a3f5f"
            },
            "type": "carpet"
           }
          ],
          "choropleth": [
           {
            "colorbar": {
             "outlinewidth": 0,
             "ticks": ""
            },
            "type": "choropleth"
           }
          ],
          "contour": [
           {
            "colorbar": {
             "outlinewidth": 0,
             "ticks": ""
            },
            "colorscale": [
             [
              0,
              "#0d0887"
             ],
             [
              0.1111111111111111,
              "#46039f"
             ],
             [
              0.2222222222222222,
              "#7201a8"
             ],
             [
              0.3333333333333333,
              "#9c179e"
             ],
             [
              0.4444444444444444,
              "#bd3786"
             ],
             [
              0.5555555555555556,
              "#d8576b"
             ],
             [
              0.6666666666666666,
              "#ed7953"
             ],
             [
              0.7777777777777778,
              "#fb9f3a"
             ],
             [
              0.8888888888888888,
              "#fdca26"
             ],
             [
              1,
              "#f0f921"
             ]
            ],
            "type": "contour"
           }
          ],
          "contourcarpet": [
           {
            "colorbar": {
             "outlinewidth": 0,
             "ticks": ""
            },
            "type": "contourcarpet"
           }
          ],
          "heatmap": [
           {
            "colorbar": {
             "outlinewidth": 0,
             "ticks": ""
            },
            "colorscale": [
             [
              0,
              "#0d0887"
             ],
             [
              0.1111111111111111,
              "#46039f"
             ],
             [
              0.2222222222222222,
              "#7201a8"
             ],
             [
              0.3333333333333333,
              "#9c179e"
             ],
             [
              0.4444444444444444,
              "#bd3786"
             ],
             [
              0.5555555555555556,
              "#d8576b"
             ],
             [
              0.6666666666666666,
              "#ed7953"
             ],
             [
              0.7777777777777778,
              "#fb9f3a"
             ],
             [
              0.8888888888888888,
              "#fdca26"
             ],
             [
              1,
              "#f0f921"
             ]
            ],
            "type": "heatmap"
           }
          ],
          "histogram": [
           {
            "marker": {
             "pattern": {
              "fillmode": "overlay",
              "size": 10,
              "solidity": 0.2
             }
            },
            "type": "histogram"
           }
          ],
          "histogram2d": [
           {
            "colorbar": {
             "outlinewidth": 0,
             "ticks": ""
            },
            "colorscale": [
             [
              0,
              "#0d0887"
             ],
             [
              0.1111111111111111,
              "#46039f"
             ],
             [
              0.2222222222222222,
              "#7201a8"
             ],
             [
              0.3333333333333333,
              "#9c179e"
             ],
             [
              0.4444444444444444,
              "#bd3786"
             ],
             [
              0.5555555555555556,
              "#d8576b"
             ],
             [
              0.6666666666666666,
              "#ed7953"
             ],
             [
              0.7777777777777778,
              "#fb9f3a"
             ],
             [
              0.8888888888888888,
              "#fdca26"
             ],
             [
              1,
              "#f0f921"
             ]
            ],
            "type": "histogram2d"
           }
          ],
          "histogram2dcontour": [
           {
            "colorbar": {
             "outlinewidth": 0,
             "ticks": ""
            },
            "colorscale": [
             [
              0,
              "#0d0887"
             ],
             [
              0.1111111111111111,
              "#46039f"
             ],
             [
              0.2222222222222222,
              "#7201a8"
             ],
             [
              0.3333333333333333,
              "#9c179e"
             ],
             [
              0.4444444444444444,
              "#bd3786"
             ],
             [
              0.5555555555555556,
              "#d8576b"
             ],
             [
              0.6666666666666666,
              "#ed7953"
             ],
             [
              0.7777777777777778,
              "#fb9f3a"
             ],
             [
              0.8888888888888888,
              "#fdca26"
             ],
             [
              1,
              "#f0f921"
             ]
            ],
            "type": "histogram2dcontour"
           }
          ],
          "mesh3d": [
           {
            "colorbar": {
             "outlinewidth": 0,
             "ticks": ""
            },
            "type": "mesh3d"
           }
          ],
          "parcoords": [
           {
            "line": {
             "colorbar": {
              "outlinewidth": 0,
              "ticks": ""
             }
            },
            "type": "parcoords"
           }
          ],
          "pie": [
           {
            "automargin": true,
            "type": "pie"
           }
          ],
          "scatter": [
           {
            "fillpattern": {
             "fillmode": "overlay",
             "size": 10,
             "solidity": 0.2
            },
            "type": "scatter"
           }
          ],
          "scatter3d": [
           {
            "line": {
             "colorbar": {
              "outlinewidth": 0,
              "ticks": ""
             }
            },
            "marker": {
             "colorbar": {
              "outlinewidth": 0,
              "ticks": ""
             }
            },
            "type": "scatter3d"
           }
          ],
          "scattercarpet": [
           {
            "marker": {
             "colorbar": {
              "outlinewidth": 0,
              "ticks": ""
             }
            },
            "type": "scattercarpet"
           }
          ],
          "scattergeo": [
           {
            "marker": {
             "colorbar": {
              "outlinewidth": 0,
              "ticks": ""
             }
            },
            "type": "scattergeo"
           }
          ],
          "scattergl": [
           {
            "marker": {
             "colorbar": {
              "outlinewidth": 0,
              "ticks": ""
             }
            },
            "type": "scattergl"
           }
          ],
          "scattermap": [
           {
            "marker": {
             "colorbar": {
              "outlinewidth": 0,
              "ticks": ""
             }
            },
            "type": "scattermap"
           }
          ],
          "scattermapbox": [
           {
            "marker": {
             "colorbar": {
              "outlinewidth": 0,
              "ticks": ""
             }
            },
            "type": "scattermapbox"
           }
          ],
          "scatterpolar": [
           {
            "marker": {
             "colorbar": {
              "outlinewidth": 0,
              "ticks": ""
             }
            },
            "type": "scatterpolar"
           }
          ],
          "scatterpolargl": [
           {
            "marker": {
             "colorbar": {
              "outlinewidth": 0,
              "ticks": ""
             }
            },
            "type": "scatterpolargl"
           }
          ],
          "scatterternary": [
           {
            "marker": {
             "colorbar": {
              "outlinewidth": 0,
              "ticks": ""
             }
            },
            "type": "scatterternary"
           }
          ],
          "surface": [
           {
            "colorbar": {
             "outlinewidth": 0,
             "ticks": ""
            },
            "colorscale": [
             [
              0,
              "#0d0887"
             ],
             [
              0.1111111111111111,
              "#46039f"
             ],
             [
              0.2222222222222222,
              "#7201a8"
             ],
             [
              0.3333333333333333,
              "#9c179e"
             ],
             [
              0.4444444444444444,
              "#bd3786"
             ],
             [
              0.5555555555555556,
              "#d8576b"
             ],
             [
              0.6666666666666666,
              "#ed7953"
             ],
             [
              0.7777777777777778,
              "#fb9f3a"
             ],
             [
              0.8888888888888888,
              "#fdca26"
             ],
             [
              1,
              "#f0f921"
             ]
            ],
            "type": "surface"
           }
          ],
          "table": [
           {
            "cells": {
             "fill": {
              "color": "#EBF0F8"
             },
             "line": {
              "color": "white"
             }
            },
            "header": {
             "fill": {
              "color": "#C8D4E3"
             },
             "line": {
              "color": "white"
             }
            },
            "type": "table"
           }
          ]
         },
         "layout": {
          "annotationdefaults": {
           "arrowcolor": "#2a3f5f",
           "arrowhead": 0,
           "arrowwidth": 1
          },
          "autotypenumbers": "strict",
          "coloraxis": {
           "colorbar": {
            "outlinewidth": 0,
            "ticks": ""
           }
          },
          "colorscale": {
           "diverging": [
            [
             0,
             "#8e0152"
            ],
            [
             0.1,
             "#c51b7d"
            ],
            [
             0.2,
             "#de77ae"
            ],
            [
             0.3,
             "#f1b6da"
            ],
            [
             0.4,
             "#fde0ef"
            ],
            [
             0.5,
             "#f7f7f7"
            ],
            [
             0.6,
             "#e6f5d0"
            ],
            [
             0.7,
             "#b8e186"
            ],
            [
             0.8,
             "#7fbc41"
            ],
            [
             0.9,
             "#4d9221"
            ],
            [
             1,
             "#276419"
            ]
           ],
           "sequential": [
            [
             0,
             "#0d0887"
            ],
            [
             0.1111111111111111,
             "#46039f"
            ],
            [
             0.2222222222222222,
             "#7201a8"
            ],
            [
             0.3333333333333333,
             "#9c179e"
            ],
            [
             0.4444444444444444,
             "#bd3786"
            ],
            [
             0.5555555555555556,
             "#d8576b"
            ],
            [
             0.6666666666666666,
             "#ed7953"
            ],
            [
             0.7777777777777778,
             "#fb9f3a"
            ],
            [
             0.8888888888888888,
             "#fdca26"
            ],
            [
             1,
             "#f0f921"
            ]
           ],
           "sequentialminus": [
            [
             0,
             "#0d0887"
            ],
            [
             0.1111111111111111,
             "#46039f"
            ],
            [
             0.2222222222222222,
             "#7201a8"
            ],
            [
             0.3333333333333333,
             "#9c179e"
            ],
            [
             0.4444444444444444,
             "#bd3786"
            ],
            [
             0.5555555555555556,
             "#d8576b"
            ],
            [
             0.6666666666666666,
             "#ed7953"
            ],
            [
             0.7777777777777778,
             "#fb9f3a"
            ],
            [
             0.8888888888888888,
             "#fdca26"
            ],
            [
             1,
             "#f0f921"
            ]
           ]
          },
          "colorway": [
           "#636efa",
           "#EF553B",
           "#00cc96",
           "#ab63fa",
           "#FFA15A",
           "#19d3f3",
           "#FF6692",
           "#B6E880",
           "#FF97FF",
           "#FECB52"
          ],
          "font": {
           "color": "#2a3f5f"
          },
          "geo": {
           "bgcolor": "white",
           "lakecolor": "white",
           "landcolor": "#E5ECF6",
           "showlakes": true,
           "showland": true,
           "subunitcolor": "white"
          },
          "hoverlabel": {
           "align": "left"
          },
          "hovermode": "closest",
          "mapbox": {
           "style": "light"
          },
          "paper_bgcolor": "white",
          "plot_bgcolor": "#E5ECF6",
          "polar": {
           "angularaxis": {
            "gridcolor": "white",
            "linecolor": "white",
            "ticks": ""
           },
           "bgcolor": "#E5ECF6",
           "radialaxis": {
            "gridcolor": "white",
            "linecolor": "white",
            "ticks": ""
           }
          },
          "scene": {
           "xaxis": {
            "backgroundcolor": "#E5ECF6",
            "gridcolor": "white",
            "gridwidth": 2,
            "linecolor": "white",
            "showbackground": true,
            "ticks": "",
            "zerolinecolor": "white"
           },
           "yaxis": {
            "backgroundcolor": "#E5ECF6",
            "gridcolor": "white",
            "gridwidth": 2,
            "linecolor": "white",
            "showbackground": true,
            "ticks": "",
            "zerolinecolor": "white"
           },
           "zaxis": {
            "backgroundcolor": "#E5ECF6",
            "gridcolor": "white",
            "gridwidth": 2,
            "linecolor": "white",
            "showbackground": true,
            "ticks": "",
            "zerolinecolor": "white"
           }
          },
          "shapedefaults": {
           "line": {
            "color": "#2a3f5f"
           }
          },
          "ternary": {
           "aaxis": {
            "gridcolor": "white",
            "linecolor": "white",
            "ticks": ""
           },
           "baxis": {
            "gridcolor": "white",
            "linecolor": "white",
            "ticks": ""
           },
           "bgcolor": "#E5ECF6",
           "caxis": {
            "gridcolor": "white",
            "linecolor": "white",
            "ticks": ""
           }
          },
          "title": {
           "x": 0.05
          },
          "xaxis": {
           "automargin": true,
           "gridcolor": "white",
           "linecolor": "white",
           "ticks": "",
           "title": {
            "standoff": 15
           },
           "zerolinecolor": "white",
           "zerolinewidth": 2
          },
          "yaxis": {
           "automargin": true,
           "gridcolor": "white",
           "linecolor": "white",
           "ticks": "",
           "title": {
            "standoff": 15
           },
           "zerolinecolor": "white",
           "zerolinewidth": 2
          }
         }
        }
       }
      },
      "image/png": "[encoded data removed]"
     },
     "metadata": {},
     "output_type": "display_data"
    }
   ],
   "source": [
    "fig = px.choropleth(pivot, locations='State', color='mean', locationmode='USA-states', scope='usa', hover_data=['max', 'mean', 'median', 'min'])\n",
    "fig.show()"
   ]
  },
  {
   "cell_type": "code",
   "execution_count": null,
   "id": "927b9695-924c-443d-b677-5787c7487ca4",
   "metadata": {},
   "outputs": [],
   "source": []
  }
 ],
 "metadata": {
  "kernelspec": {
   "display_name": "Python 3 (ipykernel)",
   "language": "python",
   "name": "python3"
  },
  "language_info": {
   "codemirror_mode": {
    "name": "ipython",
    "version": 3
   },
   "file_extension": ".py",
   "mimetype": "text/x-python",
   "name": "python",
   "nbconvert_exporter": "python",
   "pygments_lexer": "ipython3",
   "version": "3.9.23"
  }
 },
 "nbformat": 4,
 "nbformat_minor": 5
}
