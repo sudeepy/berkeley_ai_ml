{
 "cells": [
  {
   "cell_type": "code",
   "execution_count": 233,
   "id": "91d203e1-1ffa-4188-b1b3-1b9ae0bd4997",
   "metadata": {},
   "outputs": [],
   "source": [
    "import pandas as pd\n",
    "import seaborn as sns\n",
    "import matplotlib.pyplot as plt\n",
    "import plotly.express as px\n",
    "\n",
    "pd.options.display.max_rows = 10"
   ]
  },
  {
   "cell_type": "code",
   "execution_count": 234,
   "id": "17ad5cdb-bffc-41b4-9c49-1584d29b678a",
   "metadata": {},
   "outputs": [
    {
     "data": {
      "text/html": [
       "<div>\n",
       "<style scoped>\n",
       "    .dataframe tbody tr th:only-of-type {\n",
       "        vertical-align: middle;\n",
       "    }\n",
       "\n",
       "    .dataframe tbody tr th {\n",
       "        vertical-align: top;\n",
       "    }\n",
       "\n",
       "    .dataframe thead th {\n",
       "        text-align: right;\n",
       "    }\n",
       "</style>\n",
       "<table border=\"1\" class=\"dataframe\">\n",
       "  <thead>\n",
       "    <tr style=\"text-align: right;\">\n",
       "      <th></th>\n",
       "      <th>Entity</th>\n",
       "      <th>Code</th>\n",
       "      <th>Year</th>\n",
       "      <th>GDP (constant 2010 US$)</th>\n",
       "    </tr>\n",
       "  </thead>\n",
       "  <tbody>\n",
       "    <tr>\n",
       "      <th>0</th>\n",
       "      <td>Afghanistan</td>\n",
       "      <td>AFG</td>\n",
       "      <td>2002</td>\n",
       "      <td>8.013233e+09</td>\n",
       "    </tr>\n",
       "    <tr>\n",
       "      <th>1</th>\n",
       "      <td>Afghanistan</td>\n",
       "      <td>AFG</td>\n",
       "      <td>2003</td>\n",
       "      <td>8.689884e+09</td>\n",
       "    </tr>\n",
       "    <tr>\n",
       "      <th>2</th>\n",
       "      <td>Afghanistan</td>\n",
       "      <td>AFG</td>\n",
       "      <td>2004</td>\n",
       "      <td>8.781610e+09</td>\n",
       "    </tr>\n",
       "    <tr>\n",
       "      <th>3</th>\n",
       "      <td>Afghanistan</td>\n",
       "      <td>AFG</td>\n",
       "      <td>2005</td>\n",
       "      <td>9.762979e+09</td>\n",
       "    </tr>\n",
       "    <tr>\n",
       "      <th>4</th>\n",
       "      <td>Afghanistan</td>\n",
       "      <td>AFG</td>\n",
       "      <td>2006</td>\n",
       "      <td>1.030523e+10</td>\n",
       "    </tr>\n",
       "    <tr>\n",
       "      <th>...</th>\n",
       "      <td>...</td>\n",
       "      <td>...</td>\n",
       "      <td>...</td>\n",
       "      <td>...</td>\n",
       "    </tr>\n",
       "    <tr>\n",
       "      <th>8864</th>\n",
       "      <td>Zimbabwe</td>\n",
       "      <td>ZWE</td>\n",
       "      <td>2013</td>\n",
       "      <td>1.418193e+10</td>\n",
       "    </tr>\n",
       "    <tr>\n",
       "      <th>8865</th>\n",
       "      <td>Zimbabwe</td>\n",
       "      <td>ZWE</td>\n",
       "      <td>2014</td>\n",
       "      <td>1.448359e+10</td>\n",
       "    </tr>\n",
       "    <tr>\n",
       "      <th>8866</th>\n",
       "      <td>Zimbabwe</td>\n",
       "      <td>ZWE</td>\n",
       "      <td>2015</td>\n",
       "      <td>1.472830e+10</td>\n",
       "    </tr>\n",
       "    <tr>\n",
       "      <th>8867</th>\n",
       "      <td>Zimbabwe</td>\n",
       "      <td>ZWE</td>\n",
       "      <td>2016</td>\n",
       "      <td>1.481899e+10</td>\n",
       "    </tr>\n",
       "    <tr>\n",
       "      <th>8868</th>\n",
       "      <td>Zimbabwe</td>\n",
       "      <td>ZWE</td>\n",
       "      <td>2017</td>\n",
       "      <td>1.532981e+10</td>\n",
       "    </tr>\n",
       "  </tbody>\n",
       "</table>\n",
       "<p>8869 rows × 4 columns</p>\n",
       "</div>"
      ],
      "text/plain": [
       "           Entity Code  Year  GDP (constant 2010 US$)\n",
       "0     Afghanistan  AFG  2002             8.013233e+09\n",
       "1     Afghanistan  AFG  2003             8.689884e+09\n",
       "2     Afghanistan  AFG  2004             8.781610e+09\n",
       "3     Afghanistan  AFG  2005             9.762979e+09\n",
       "4     Afghanistan  AFG  2006             1.030523e+10\n",
       "...           ...  ...   ...                      ...\n",
       "8864     Zimbabwe  ZWE  2013             1.418193e+10\n",
       "8865     Zimbabwe  ZWE  2014             1.448359e+10\n",
       "8866     Zimbabwe  ZWE  2015             1.472830e+10\n",
       "8867     Zimbabwe  ZWE  2016             1.481899e+10\n",
       "8868     Zimbabwe  ZWE  2017             1.532981e+10\n",
       "\n",
       "[8869 rows x 4 columns]"
      ]
     },
     "execution_count": 234,
     "metadata": {},
     "output_type": "execute_result"
    }
   ],
   "source": [
    "df = pd.read_csv('data/gdp.csv')\n",
    "df"
   ]
  },
  {
   "cell_type": "code",
   "execution_count": 235,
   "id": "ea618870-f28d-47f7-a806-5318465b0e52",
   "metadata": {},
   "outputs": [
    {
     "data": {
      "text/html": [
       "<div>\n",
       "<style scoped>\n",
       "    .dataframe tbody tr th:only-of-type {\n",
       "        vertical-align: middle;\n",
       "    }\n",
       "\n",
       "    .dataframe tbody tr th {\n",
       "        vertical-align: top;\n",
       "    }\n",
       "\n",
       "    .dataframe thead th {\n",
       "        text-align: right;\n",
       "    }\n",
       "</style>\n",
       "<table border=\"1\" class=\"dataframe\">\n",
       "  <thead>\n",
       "    <tr style=\"text-align: right;\">\n",
       "      <th></th>\n",
       "      <th>Entity</th>\n",
       "      <th>Code</th>\n",
       "      <th>Year</th>\n",
       "      <th>GDP (constant 2010 US$)</th>\n",
       "    </tr>\n",
       "  </thead>\n",
       "  <tbody>\n",
       "    <tr>\n",
       "      <th>8611</th>\n",
       "      <td>Vanuatu</td>\n",
       "      <td>VUT</td>\n",
       "      <td>1992</td>\n",
       "      <td>3.979251e+08</td>\n",
       "    </tr>\n",
       "    <tr>\n",
       "      <th>4278</th>\n",
       "      <td>Jordan</td>\n",
       "      <td>JOR</td>\n",
       "      <td>1991</td>\n",
       "      <td>8.847708e+09</td>\n",
       "    </tr>\n",
       "    <tr>\n",
       "      <th>1972</th>\n",
       "      <td>Costa Rica</td>\n",
       "      <td>CRI</td>\n",
       "      <td>1994</td>\n",
       "      <td>1.905719e+10</td>\n",
       "    </tr>\n",
       "    <tr>\n",
       "      <th>3159</th>\n",
       "      <td>Ghana</td>\n",
       "      <td>GHA</td>\n",
       "      <td>1988</td>\n",
       "      <td>1.109530e+10</td>\n",
       "    </tr>\n",
       "    <tr>\n",
       "      <th>3242</th>\n",
       "      <td>Greece</td>\n",
       "      <td>GRC</td>\n",
       "      <td>2013</td>\n",
       "      <td>2.439897e+11</td>\n",
       "    </tr>\n",
       "  </tbody>\n",
       "</table>\n",
       "</div>"
      ],
      "text/plain": [
       "          Entity Code  Year  GDP (constant 2010 US$)\n",
       "8611     Vanuatu  VUT  1992             3.979251e+08\n",
       "4278      Jordan  JOR  1991             8.847708e+09\n",
       "1972  Costa Rica  CRI  1994             1.905719e+10\n",
       "3159       Ghana  GHA  1988             1.109530e+10\n",
       "3242      Greece  GRC  2013             2.439897e+11"
      ]
     },
     "execution_count": 235,
     "metadata": {},
     "output_type": "execute_result"
    }
   ],
   "source": [
    "df.sample(5)"
   ]
  },
  {
   "cell_type": "code",
   "execution_count": 236,
   "id": "6f19724c-203c-4199-a086-52b545a1fd21",
   "metadata": {},
   "outputs": [
    {
     "data": {
      "text/html": [
       "<div>\n",
       "<style scoped>\n",
       "    .dataframe tbody tr th:only-of-type {\n",
       "        vertical-align: middle;\n",
       "    }\n",
       "\n",
       "    .dataframe tbody tr th {\n",
       "        vertical-align: top;\n",
       "    }\n",
       "\n",
       "    .dataframe thead th {\n",
       "        text-align: right;\n",
       "    }\n",
       "</style>\n",
       "<table border=\"1\" class=\"dataframe\">\n",
       "  <thead>\n",
       "    <tr style=\"text-align: right;\">\n",
       "      <th></th>\n",
       "      <th>Entity</th>\n",
       "      <th>Code</th>\n",
       "      <th>Year</th>\n",
       "      <th>GDP (constant 2010 US$)</th>\n",
       "      <th>gdp</th>\n",
       "    </tr>\n",
       "  </thead>\n",
       "  <tbody>\n",
       "    <tr>\n",
       "      <th>0</th>\n",
       "      <td>Afghanistan</td>\n",
       "      <td>AFG</td>\n",
       "      <td>2002</td>\n",
       "      <td>8.013233e+09</td>\n",
       "      <td>8.013233</td>\n",
       "    </tr>\n",
       "    <tr>\n",
       "      <th>1</th>\n",
       "      <td>Afghanistan</td>\n",
       "      <td>AFG</td>\n",
       "      <td>2003</td>\n",
       "      <td>8.689884e+09</td>\n",
       "      <td>8.689884</td>\n",
       "    </tr>\n",
       "    <tr>\n",
       "      <th>2</th>\n",
       "      <td>Afghanistan</td>\n",
       "      <td>AFG</td>\n",
       "      <td>2004</td>\n",
       "      <td>8.781610e+09</td>\n",
       "      <td>8.781610</td>\n",
       "    </tr>\n",
       "    <tr>\n",
       "      <th>3</th>\n",
       "      <td>Afghanistan</td>\n",
       "      <td>AFG</td>\n",
       "      <td>2005</td>\n",
       "      <td>9.762979e+09</td>\n",
       "      <td>9.762979</td>\n",
       "    </tr>\n",
       "    <tr>\n",
       "      <th>4</th>\n",
       "      <td>Afghanistan</td>\n",
       "      <td>AFG</td>\n",
       "      <td>2006</td>\n",
       "      <td>1.030523e+10</td>\n",
       "      <td>10.305228</td>\n",
       "    </tr>\n",
       "    <tr>\n",
       "      <th>...</th>\n",
       "      <td>...</td>\n",
       "      <td>...</td>\n",
       "      <td>...</td>\n",
       "      <td>...</td>\n",
       "      <td>...</td>\n",
       "    </tr>\n",
       "    <tr>\n",
       "      <th>8864</th>\n",
       "      <td>Zimbabwe</td>\n",
       "      <td>ZWE</td>\n",
       "      <td>2013</td>\n",
       "      <td>1.418193e+10</td>\n",
       "      <td>14.181927</td>\n",
       "    </tr>\n",
       "    <tr>\n",
       "      <th>8865</th>\n",
       "      <td>Zimbabwe</td>\n",
       "      <td>ZWE</td>\n",
       "      <td>2014</td>\n",
       "      <td>1.448359e+10</td>\n",
       "      <td>14.483588</td>\n",
       "    </tr>\n",
       "    <tr>\n",
       "      <th>8866</th>\n",
       "      <td>Zimbabwe</td>\n",
       "      <td>ZWE</td>\n",
       "      <td>2015</td>\n",
       "      <td>1.472830e+10</td>\n",
       "      <td>14.728302</td>\n",
       "    </tr>\n",
       "    <tr>\n",
       "      <th>8867</th>\n",
       "      <td>Zimbabwe</td>\n",
       "      <td>ZWE</td>\n",
       "      <td>2016</td>\n",
       "      <td>1.481899e+10</td>\n",
       "      <td>14.818986</td>\n",
       "    </tr>\n",
       "    <tr>\n",
       "      <th>8868</th>\n",
       "      <td>Zimbabwe</td>\n",
       "      <td>ZWE</td>\n",
       "      <td>2017</td>\n",
       "      <td>1.532981e+10</td>\n",
       "      <td>15.329811</td>\n",
       "    </tr>\n",
       "  </tbody>\n",
       "</table>\n",
       "<p>8869 rows × 5 columns</p>\n",
       "</div>"
      ],
      "text/plain": [
       "           Entity Code  Year  GDP (constant 2010 US$)        gdp\n",
       "0     Afghanistan  AFG  2002             8.013233e+09   8.013233\n",
       "1     Afghanistan  AFG  2003             8.689884e+09   8.689884\n",
       "2     Afghanistan  AFG  2004             8.781610e+09   8.781610\n",
       "3     Afghanistan  AFG  2005             9.762979e+09   9.762979\n",
       "4     Afghanistan  AFG  2006             1.030523e+10  10.305228\n",
       "...           ...  ...   ...                      ...        ...\n",
       "8864     Zimbabwe  ZWE  2013             1.418193e+10  14.181927\n",
       "8865     Zimbabwe  ZWE  2014             1.448359e+10  14.483588\n",
       "8866     Zimbabwe  ZWE  2015             1.472830e+10  14.728302\n",
       "8867     Zimbabwe  ZWE  2016             1.481899e+10  14.818986\n",
       "8868     Zimbabwe  ZWE  2017             1.532981e+10  15.329811\n",
       "\n",
       "[8869 rows x 5 columns]"
      ]
     },
     "execution_count": 236,
     "metadata": {},
     "output_type": "execute_result"
    }
   ],
   "source": [
    "df[\"gdp\"] = df[\"GDP (constant 2010 US$)\"] / 1_000_000_000\n",
    "df"
   ]
  },
  {
   "cell_type": "code",
   "execution_count": 237,
   "id": "b54cdcc7-f365-4c59-8170-b373a6c74b51",
   "metadata": {
    "scrolled": true
   },
   "outputs": [
    {
     "data": {
      "text/html": [
       "<div>\n",
       "<style scoped>\n",
       "    .dataframe tbody tr th:only-of-type {\n",
       "        vertical-align: middle;\n",
       "    }\n",
       "\n",
       "    .dataframe tbody tr th {\n",
       "        vertical-align: top;\n",
       "    }\n",
       "\n",
       "    .dataframe thead th {\n",
       "        text-align: right;\n",
       "    }\n",
       "</style>\n",
       "<table border=\"1\" class=\"dataframe\">\n",
       "  <thead>\n",
       "    <tr style=\"text-align: right;\">\n",
       "      <th></th>\n",
       "      <th>Entity</th>\n",
       "      <th>Code</th>\n",
       "      <th>Year</th>\n",
       "      <th>GDP (constant 2010 US$)</th>\n",
       "      <th>gdp</th>\n",
       "    </tr>\n",
       "  </thead>\n",
       "  <tbody>\n",
       "    <tr>\n",
       "      <th>1726</th>\n",
       "      <td>China</td>\n",
       "      <td>CHN</td>\n",
       "      <td>1960</td>\n",
       "      <td>1.279381e+11</td>\n",
       "      <td>127.938142</td>\n",
       "    </tr>\n",
       "    <tr>\n",
       "      <th>1727</th>\n",
       "      <td>China</td>\n",
       "      <td>CHN</td>\n",
       "      <td>1961</td>\n",
       "      <td>9.304941e+10</td>\n",
       "      <td>93.049411</td>\n",
       "    </tr>\n",
       "    <tr>\n",
       "      <th>1728</th>\n",
       "      <td>China</td>\n",
       "      <td>CHN</td>\n",
       "      <td>1962</td>\n",
       "      <td>8.785725e+10</td>\n",
       "      <td>87.857254</td>\n",
       "    </tr>\n",
       "    <tr>\n",
       "      <th>1729</th>\n",
       "      <td>China</td>\n",
       "      <td>CHN</td>\n",
       "      <td>1963</td>\n",
       "      <td>9.690655e+10</td>\n",
       "      <td>96.906551</td>\n",
       "    </tr>\n",
       "    <tr>\n",
       "      <th>1730</th>\n",
       "      <td>China</td>\n",
       "      <td>CHN</td>\n",
       "      <td>1964</td>\n",
       "      <td>1.145242e+11</td>\n",
       "      <td>114.524162</td>\n",
       "    </tr>\n",
       "    <tr>\n",
       "      <th>...</th>\n",
       "      <td>...</td>\n",
       "      <td>...</td>\n",
       "      <td>...</td>\n",
       "      <td>...</td>\n",
       "      <td>...</td>\n",
       "    </tr>\n",
       "    <tr>\n",
       "      <th>1779</th>\n",
       "      <td>China</td>\n",
       "      <td>CHN</td>\n",
       "      <td>2013</td>\n",
       "      <td>7.766513e+12</td>\n",
       "      <td>7766.512756</td>\n",
       "    </tr>\n",
       "    <tr>\n",
       "      <th>1780</th>\n",
       "      <td>China</td>\n",
       "      <td>CHN</td>\n",
       "      <td>2014</td>\n",
       "      <td>8.333287e+12</td>\n",
       "      <td>8333.286913</td>\n",
       "    </tr>\n",
       "    <tr>\n",
       "      <th>1781</th>\n",
       "      <td>China</td>\n",
       "      <td>CHN</td>\n",
       "      <td>2015</td>\n",
       "      <td>8.908301e+12</td>\n",
       "      <td>8908.300778</td>\n",
       "    </tr>\n",
       "    <tr>\n",
       "      <th>1782</th>\n",
       "      <td>China</td>\n",
       "      <td>CHN</td>\n",
       "      <td>2016</td>\n",
       "      <td>9.505157e+12</td>\n",
       "      <td>9505.156931</td>\n",
       "    </tr>\n",
       "    <tr>\n",
       "      <th>1783</th>\n",
       "      <td>China</td>\n",
       "      <td>CHN</td>\n",
       "      <td>2017</td>\n",
       "      <td>1.016101e+13</td>\n",
       "      <td>10161.012759</td>\n",
       "    </tr>\n",
       "  </tbody>\n",
       "</table>\n",
       "<p>58 rows × 5 columns</p>\n",
       "</div>"
      ],
      "text/plain": [
       "     Entity Code  Year  GDP (constant 2010 US$)           gdp\n",
       "1726  China  CHN  1960             1.279381e+11    127.938142\n",
       "1727  China  CHN  1961             9.304941e+10     93.049411\n",
       "1728  China  CHN  1962             8.785725e+10     87.857254\n",
       "1729  China  CHN  1963             9.690655e+10     96.906551\n",
       "1730  China  CHN  1964             1.145242e+11    114.524162\n",
       "...     ...  ...   ...                      ...           ...\n",
       "1779  China  CHN  2013             7.766513e+12   7766.512756\n",
       "1780  China  CHN  2014             8.333287e+12   8333.286913\n",
       "1781  China  CHN  2015             8.908301e+12   8908.300778\n",
       "1782  China  CHN  2016             9.505157e+12   9505.156931\n",
       "1783  China  CHN  2017             1.016101e+13  10161.012759\n",
       "\n",
       "[58 rows x 5 columns]"
      ]
     },
     "execution_count": 237,
     "metadata": {},
     "output_type": "execute_result"
    }
   ],
   "source": [
    "df[df[\"Entity\"] == \"China\"]"
   ]
  },
  {
   "cell_type": "code",
   "execution_count": 238,
   "id": "faf0c00c-c3db-43b3-8540-531bc744f1c0",
   "metadata": {},
   "outputs": [
    {
     "data": {
      "text/plain": [
       "0       False\n",
       "1       False\n",
       "2       False\n",
       "3       False\n",
       "4       False\n",
       "        ...  \n",
       "8864    False\n",
       "8865    False\n",
       "8866    False\n",
       "8867    False\n",
       "8868    False\n",
       "Name: Entity, Length: 8869, dtype: bool"
      ]
     },
     "execution_count": 238,
     "metadata": {},
     "output_type": "execute_result"
    }
   ],
   "source": [
    "df[\"Entity\"] == \"China\""
   ]
  },
  {
   "cell_type": "code",
   "execution_count": 239,
   "id": "dcae91fa-09ea-404d-ae0b-f6a076cf98c3",
   "metadata": {},
   "outputs": [
    {
     "data": {
      "text/html": [
       "<div>\n",
       "<style scoped>\n",
       "    .dataframe tbody tr th:only-of-type {\n",
       "        vertical-align: middle;\n",
       "    }\n",
       "\n",
       "    .dataframe tbody tr th {\n",
       "        vertical-align: top;\n",
       "    }\n",
       "\n",
       "    .dataframe thead th {\n",
       "        text-align: right;\n",
       "    }\n",
       "</style>\n",
       "<table border=\"1\" class=\"dataframe\">\n",
       "  <thead>\n",
       "    <tr style=\"text-align: right;\">\n",
       "      <th></th>\n",
       "      <th>Entity</th>\n",
       "      <th>Code</th>\n",
       "      <th>Year</th>\n",
       "      <th>GDP (constant 2010 US$)</th>\n",
       "      <th>gdp</th>\n",
       "    </tr>\n",
       "  </thead>\n",
       "  <tbody>\n",
       "    <tr>\n",
       "      <th>1783</th>\n",
       "      <td>China</td>\n",
       "      <td>CHN</td>\n",
       "      <td>2017</td>\n",
       "      <td>1.016101e+13</td>\n",
       "      <td>10161.012759</td>\n",
       "    </tr>\n",
       "  </tbody>\n",
       "</table>\n",
       "</div>"
      ],
      "text/plain": [
       "     Entity Code  Year  GDP (constant 2010 US$)           gdp\n",
       "1783  China  CHN  2017             1.016101e+13  10161.012759"
      ]
     },
     "execution_count": 239,
     "metadata": {},
     "output_type": "execute_result"
    }
   ],
   "source": [
    "df[(df[\"Entity\"] == \"China\") & (df[\"Year\"] == 2017)]"
   ]
  },
  {
   "cell_type": "code",
   "execution_count": 240,
   "id": "6ce51591-61c2-41a4-b8a4-8fb6a22e4eca",
   "metadata": {},
   "outputs": [
    {
     "data": {
      "text/html": [
       "<div>\n",
       "<style scoped>\n",
       "    .dataframe tbody tr th:only-of-type {\n",
       "        vertical-align: middle;\n",
       "    }\n",
       "\n",
       "    .dataframe tbody tr th {\n",
       "        vertical-align: top;\n",
       "    }\n",
       "\n",
       "    .dataframe thead th {\n",
       "        text-align: right;\n",
       "    }\n",
       "</style>\n",
       "<table border=\"1\" class=\"dataframe\">\n",
       "  <thead>\n",
       "    <tr style=\"text-align: right;\">\n",
       "      <th></th>\n",
       "      <th>Entity</th>\n",
       "      <th>Code</th>\n",
       "      <th>Year</th>\n",
       "      <th>GDP (constant 2010 US$)</th>\n",
       "      <th>gdp</th>\n",
       "    </tr>\n",
       "  </thead>\n",
       "  <tbody>\n",
       "  </tbody>\n",
       "</table>\n",
       "</div>"
      ],
      "text/plain": [
       "Empty DataFrame\n",
       "Columns: [Entity, Code, Year, GDP (constant 2010 US$), gdp]\n",
       "Index: []"
      ]
     },
     "execution_count": 240,
     "metadata": {},
     "output_type": "execute_result"
    }
   ],
   "source": [
    "df.query('Entity == \"China\" and Year == \"2017\"')"
   ]
  },
  {
   "cell_type": "code",
   "execution_count": 241,
   "id": "0b5bb5ca-7ffd-4c3a-afe2-cb3e4f10753b",
   "metadata": {},
   "outputs": [
    {
     "data": {
      "text/html": [
       "<div>\n",
       "<style scoped>\n",
       "    .dataframe tbody tr th:only-of-type {\n",
       "        vertical-align: middle;\n",
       "    }\n",
       "\n",
       "    .dataframe tbody tr th {\n",
       "        vertical-align: top;\n",
       "    }\n",
       "\n",
       "    .dataframe thead th {\n",
       "        text-align: right;\n",
       "    }\n",
       "</style>\n",
       "<table border=\"1\" class=\"dataframe\">\n",
       "  <thead>\n",
       "    <tr style=\"text-align: right;\">\n",
       "      <th></th>\n",
       "      <th>Entity</th>\n",
       "      <th>Code</th>\n",
       "      <th>Year</th>\n",
       "      <th>GDP (constant 2010 US$)</th>\n",
       "      <th>gdp</th>\n",
       "    </tr>\n",
       "  </thead>\n",
       "  <tbody>\n",
       "    <tr>\n",
       "      <th>1726</th>\n",
       "      <td>China</td>\n",
       "      <td>CHN</td>\n",
       "      <td>1960</td>\n",
       "      <td>1.279381e+11</td>\n",
       "      <td>127.938142</td>\n",
       "    </tr>\n",
       "    <tr>\n",
       "      <th>1727</th>\n",
       "      <td>China</td>\n",
       "      <td>CHN</td>\n",
       "      <td>1961</td>\n",
       "      <td>9.304941e+10</td>\n",
       "      <td>93.049411</td>\n",
       "    </tr>\n",
       "    <tr>\n",
       "      <th>1728</th>\n",
       "      <td>China</td>\n",
       "      <td>CHN</td>\n",
       "      <td>1962</td>\n",
       "      <td>8.785725e+10</td>\n",
       "      <td>87.857254</td>\n",
       "    </tr>\n",
       "    <tr>\n",
       "      <th>1729</th>\n",
       "      <td>China</td>\n",
       "      <td>CHN</td>\n",
       "      <td>1963</td>\n",
       "      <td>9.690655e+10</td>\n",
       "      <td>96.906551</td>\n",
       "    </tr>\n",
       "    <tr>\n",
       "      <th>1730</th>\n",
       "      <td>China</td>\n",
       "      <td>CHN</td>\n",
       "      <td>1964</td>\n",
       "      <td>1.145242e+11</td>\n",
       "      <td>114.524162</td>\n",
       "    </tr>\n",
       "    <tr>\n",
       "      <th>...</th>\n",
       "      <td>...</td>\n",
       "      <td>...</td>\n",
       "      <td>...</td>\n",
       "      <td>...</td>\n",
       "      <td>...</td>\n",
       "    </tr>\n",
       "    <tr>\n",
       "      <th>8490</th>\n",
       "      <td>United States</td>\n",
       "      <td>USA</td>\n",
       "      <td>2013</td>\n",
       "      <td>1.580286e+13</td>\n",
       "      <td>15802.855301</td>\n",
       "    </tr>\n",
       "    <tr>\n",
       "      <th>8491</th>\n",
       "      <td>United States</td>\n",
       "      <td>USA</td>\n",
       "      <td>2014</td>\n",
       "      <td>1.620886e+13</td>\n",
       "      <td>16208.861247</td>\n",
       "    </tr>\n",
       "    <tr>\n",
       "      <th>8492</th>\n",
       "      <td>United States</td>\n",
       "      <td>USA</td>\n",
       "      <td>2015</td>\n",
       "      <td>1.667269e+13</td>\n",
       "      <td>16672.691918</td>\n",
       "    </tr>\n",
       "    <tr>\n",
       "      <th>8493</th>\n",
       "      <td>United States</td>\n",
       "      <td>USA</td>\n",
       "      <td>2016</td>\n",
       "      <td>1.692033e+13</td>\n",
       "      <td>16920.327942</td>\n",
       "    </tr>\n",
       "    <tr>\n",
       "      <th>8494</th>\n",
       "      <td>United States</td>\n",
       "      <td>USA</td>\n",
       "      <td>2017</td>\n",
       "      <td>1.730498e+13</td>\n",
       "      <td>17304.984279</td>\n",
       "    </tr>\n",
       "  </tbody>\n",
       "</table>\n",
       "<p>222 rows × 5 columns</p>\n",
       "</div>"
      ],
      "text/plain": [
       "             Entity Code  Year  GDP (constant 2010 US$)           gdp\n",
       "1726          China  CHN  1960             1.279381e+11    127.938142\n",
       "1727          China  CHN  1961             9.304941e+10     93.049411\n",
       "1728          China  CHN  1962             8.785725e+10     87.857254\n",
       "1729          China  CHN  1963             9.690655e+10     96.906551\n",
       "1730          China  CHN  1964             1.145242e+11    114.524162\n",
       "...             ...  ...   ...                      ...           ...\n",
       "8490  United States  USA  2013             1.580286e+13  15802.855301\n",
       "8491  United States  USA  2014             1.620886e+13  16208.861247\n",
       "8492  United States  USA  2015             1.667269e+13  16672.691918\n",
       "8493  United States  USA  2016             1.692033e+13  16920.327942\n",
       "8494  United States  USA  2017             1.730498e+13  17304.984279\n",
       "\n",
       "[222 rows x 5 columns]"
      ]
     },
     "execution_count": 241,
     "metadata": {},
     "output_type": "execute_result"
    }
   ],
   "source": [
    "list_of_countries = [\"China\", \"United States\", \"Germany\", \"Japan\"]\n",
    "df[df[\"Entity\"].isin(list_of_countries)]"
   ]
  },
  {
   "cell_type": "code",
   "execution_count": 242,
   "id": "9708cd79-6c10-45de-9917-83ba3e5d090d",
   "metadata": {
    "scrolled": true
   },
   "outputs": [
    {
     "data": {
      "text/html": [
       "<div>\n",
       "<style scoped>\n",
       "    .dataframe tbody tr th:only-of-type {\n",
       "        vertical-align: middle;\n",
       "    }\n",
       "\n",
       "    .dataframe tbody tr th {\n",
       "        vertical-align: top;\n",
       "    }\n",
       "\n",
       "    .dataframe thead th {\n",
       "        text-align: right;\n",
       "    }\n",
       "</style>\n",
       "<table border=\"1\" class=\"dataframe\">\n",
       "  <thead>\n",
       "    <tr style=\"text-align: right;\">\n",
       "      <th></th>\n",
       "      <th>Entity</th>\n",
       "      <th>Code</th>\n",
       "      <th>Year</th>\n",
       "      <th>GDP (constant 2010 US$)</th>\n",
       "      <th>gdp</th>\n",
       "    </tr>\n",
       "  </thead>\n",
       "  <tbody>\n",
       "    <tr>\n",
       "      <th>1726</th>\n",
       "      <td>China</td>\n",
       "      <td>CHN</td>\n",
       "      <td>1960</td>\n",
       "      <td>1.279381e+11</td>\n",
       "      <td>127.938142</td>\n",
       "    </tr>\n",
       "    <tr>\n",
       "      <th>1727</th>\n",
       "      <td>China</td>\n",
       "      <td>CHN</td>\n",
       "      <td>1961</td>\n",
       "      <td>9.304941e+10</td>\n",
       "      <td>93.049411</td>\n",
       "    </tr>\n",
       "    <tr>\n",
       "      <th>1728</th>\n",
       "      <td>China</td>\n",
       "      <td>CHN</td>\n",
       "      <td>1962</td>\n",
       "      <td>8.785725e+10</td>\n",
       "      <td>87.857254</td>\n",
       "    </tr>\n",
       "    <tr>\n",
       "      <th>1729</th>\n",
       "      <td>China</td>\n",
       "      <td>CHN</td>\n",
       "      <td>1963</td>\n",
       "      <td>9.690655e+10</td>\n",
       "      <td>96.906551</td>\n",
       "    </tr>\n",
       "    <tr>\n",
       "      <th>1730</th>\n",
       "      <td>China</td>\n",
       "      <td>CHN</td>\n",
       "      <td>1964</td>\n",
       "      <td>1.145242e+11</td>\n",
       "      <td>114.524162</td>\n",
       "    </tr>\n",
       "    <tr>\n",
       "      <th>...</th>\n",
       "      <td>...</td>\n",
       "      <td>...</td>\n",
       "      <td>...</td>\n",
       "      <td>...</td>\n",
       "      <td>...</td>\n",
       "    </tr>\n",
       "    <tr>\n",
       "      <th>8490</th>\n",
       "      <td>United States</td>\n",
       "      <td>USA</td>\n",
       "      <td>2013</td>\n",
       "      <td>1.580286e+13</td>\n",
       "      <td>15802.855301</td>\n",
       "    </tr>\n",
       "    <tr>\n",
       "      <th>8491</th>\n",
       "      <td>United States</td>\n",
       "      <td>USA</td>\n",
       "      <td>2014</td>\n",
       "      <td>1.620886e+13</td>\n",
       "      <td>16208.861247</td>\n",
       "    </tr>\n",
       "    <tr>\n",
       "      <th>8492</th>\n",
       "      <td>United States</td>\n",
       "      <td>USA</td>\n",
       "      <td>2015</td>\n",
       "      <td>1.667269e+13</td>\n",
       "      <td>16672.691918</td>\n",
       "    </tr>\n",
       "    <tr>\n",
       "      <th>8493</th>\n",
       "      <td>United States</td>\n",
       "      <td>USA</td>\n",
       "      <td>2016</td>\n",
       "      <td>1.692033e+13</td>\n",
       "      <td>16920.327942</td>\n",
       "    </tr>\n",
       "    <tr>\n",
       "      <th>8494</th>\n",
       "      <td>United States</td>\n",
       "      <td>USA</td>\n",
       "      <td>2017</td>\n",
       "      <td>1.730498e+13</td>\n",
       "      <td>17304.984279</td>\n",
       "    </tr>\n",
       "  </tbody>\n",
       "</table>\n",
       "<p>222 rows × 5 columns</p>\n",
       "</div>"
      ],
      "text/plain": [
       "             Entity Code  Year  GDP (constant 2010 US$)           gdp\n",
       "1726          China  CHN  1960             1.279381e+11    127.938142\n",
       "1727          China  CHN  1961             9.304941e+10     93.049411\n",
       "1728          China  CHN  1962             8.785725e+10     87.857254\n",
       "1729          China  CHN  1963             9.690655e+10     96.906551\n",
       "1730          China  CHN  1964             1.145242e+11    114.524162\n",
       "...             ...  ...   ...                      ...           ...\n",
       "8490  United States  USA  2013             1.580286e+13  15802.855301\n",
       "8491  United States  USA  2014             1.620886e+13  16208.861247\n",
       "8492  United States  USA  2015             1.667269e+13  16672.691918\n",
       "8493  United States  USA  2016             1.692033e+13  16920.327942\n",
       "8494  United States  USA  2017             1.730498e+13  17304.984279\n",
       "\n",
       "[222 rows x 5 columns]"
      ]
     },
     "execution_count": 242,
     "metadata": {},
     "output_type": "execute_result"
    }
   ],
   "source": [
    "df.query('Entity in @list_of_countries')"
   ]
  },
  {
   "cell_type": "code",
   "execution_count": 243,
   "id": "03ebb43a-625d-4cbf-8446-d2d57c8a394c",
   "metadata": {},
   "outputs": [
    {
     "data": {
      "text/html": [
       "<div>\n",
       "<style scoped>\n",
       "    .dataframe tbody tr th:only-of-type {\n",
       "        vertical-align: middle;\n",
       "    }\n",
       "\n",
       "    .dataframe tbody tr th {\n",
       "        vertical-align: top;\n",
       "    }\n",
       "\n",
       "    .dataframe thead th {\n",
       "        text-align: right;\n",
       "    }\n",
       "</style>\n",
       "<table border=\"1\" class=\"dataframe\">\n",
       "  <thead>\n",
       "    <tr style=\"text-align: right;\">\n",
       "      <th></th>\n",
       "      <th>Entity</th>\n",
       "      <th>Code</th>\n",
       "      <th>Year</th>\n",
       "      <th>GDP (constant 2010 US$)</th>\n",
       "      <th>gdp</th>\n",
       "    </tr>\n",
       "  </thead>\n",
       "  <tbody>\n",
       "    <tr>\n",
       "      <th>1783</th>\n",
       "      <td>China</td>\n",
       "      <td>CHN</td>\n",
       "      <td>2017</td>\n",
       "      <td>1.016101e+13</td>\n",
       "      <td>10161.012759</td>\n",
       "    </tr>\n",
       "    <tr>\n",
       "      <th>3130</th>\n",
       "      <td>Germany</td>\n",
       "      <td>DEU</td>\n",
       "      <td>2017</td>\n",
       "      <td>3.865759e+12</td>\n",
       "      <td>3865.759081</td>\n",
       "    </tr>\n",
       "    <tr>\n",
       "      <th>3789</th>\n",
       "      <td>India</td>\n",
       "      <td>IND</td>\n",
       "      <td>2017</td>\n",
       "      <td>2.629542e+12</td>\n",
       "      <td>2629.542212</td>\n",
       "    </tr>\n",
       "    <tr>\n",
       "      <th>4261</th>\n",
       "      <td>Japan</td>\n",
       "      <td>JPN</td>\n",
       "      <td>2017</td>\n",
       "      <td>6.156329e+12</td>\n",
       "      <td>6156.328721</td>\n",
       "    </tr>\n",
       "    <tr>\n",
       "      <th>8436</th>\n",
       "      <td>United Kingdom</td>\n",
       "      <td>GBR</td>\n",
       "      <td>2017</td>\n",
       "      <td>2.806903e+12</td>\n",
       "      <td>2806.903097</td>\n",
       "    </tr>\n",
       "    <tr>\n",
       "      <th>8494</th>\n",
       "      <td>United States</td>\n",
       "      <td>USA</td>\n",
       "      <td>2017</td>\n",
       "      <td>1.730498e+13</td>\n",
       "      <td>17304.984279</td>\n",
       "    </tr>\n",
       "  </tbody>\n",
       "</table>\n",
       "</div>"
      ],
      "text/plain": [
       "              Entity Code  Year  GDP (constant 2010 US$)           gdp\n",
       "1783           China  CHN  2017             1.016101e+13  10161.012759\n",
       "3130         Germany  DEU  2017             3.865759e+12   3865.759081\n",
       "3789           India  IND  2017             2.629542e+12   2629.542212\n",
       "4261           Japan  JPN  2017             6.156329e+12   6156.328721\n",
       "8436  United Kingdom  GBR  2017             2.806903e+12   2806.903097\n",
       "8494   United States  USA  2017             1.730498e+13  17304.984279"
      ]
     },
     "execution_count": 243,
     "metadata": {},
     "output_type": "execute_result"
    }
   ],
   "source": [
    "list_of_countries = [\"United States\", \"China\", \"Japan\", \"Germany\", \"United Kingdom\", \"India\"]\n",
    "top6 = df.query('Entity in @list_of_countries and Year == 2017')\n",
    "top6"
   ]
  },
  {
   "cell_type": "code",
   "execution_count": 244,
   "id": "a3d18786-5daf-4346-a13d-b34ffef35812",
   "metadata": {},
   "outputs": [
    {
     "data": {
      "text/plain": [
       "<Axes: xlabel='Entity'>"
      ]
     },
     "execution_count": 244,
     "metadata": {},
     "output_type": "execute_result"
    },
    {
     "data": {
      "image/png": "[encoded data removed]",
      "text/plain": [
       "<Figure size 640x480 with 1 Axes>"
      ]
     },
     "metadata": {},
     "output_type": "display_data"
    }
   ],
   "source": [
    "top6.plot(x = \"Entity\", y = \"gdp\", kind = \"bar\")"
   ]
  },
  {
   "cell_type": "code",
   "execution_count": 245,
   "id": "2e81a356-e58a-46e8-969a-7e2708938fc4",
   "metadata": {},
   "outputs": [
    {
     "data": {
      "text/plain": [
       "([0, 1, 2, 3, 4, 5],\n",
       " [Text(0, 0, 'China'),\n",
       "  Text(1, 0, 'Germany'),\n",
       "  Text(2, 0, 'India'),\n",
       "  Text(3, 0, 'Japan'),\n",
       "  Text(4, 0, 'United Kingdom'),\n",
       "  Text(5, 0, 'United States')])"
      ]
     },
     "execution_count": 245,
     "metadata": {},
     "output_type": "execute_result"
    },
    {
     "data": {
      "image/png": "[encoded data removed]",
      "text/plain": [
       "<Figure size 640x480 with 1 Axes>"
      ]
     },
     "metadata": {},
     "output_type": "display_data"
    }
   ],
   "source": [
    "sns.barplot(data=top6, x=\"Entity\", y=\"gdp\", hue=\"Entity\")\n",
    "plt.xticks(rotation=45)"
   ]
  },
  {
   "cell_type": "code",
   "execution_count": 246,
   "id": "8befe3fb-5973-46fe-824e-1364161cc2b3",
   "metadata": {},
   "outputs": [
    {
     "data": {
      "application/vnd.plotly.v1+json": {
       "config": {
        "plotlyServerURL": "https://plot.ly"
       },
       "data": [
        {
         "hovertemplate": "Entity=%{x}<br>gdp=%{y}<extra></extra>",
         "legendgroup": "China",
         "marker": {
          "color": "#3366CC",
          "pattern": {
           "shape": ""
          }
         },
         "name": "China",
         "orientation": "v",
         "showlegend": true,
         "textposition": "auto",
         "type": "bar",
         "x": [
          "China"
         ],
         "xaxis": "x",
         "y": {
          "bdata": "VikVooHYw0A=",
          "dtype": "f8"
         },
         "yaxis": "y"
        },
        {
         "hovertemplate": "Entity=%{x}<br>gdp=%{y}<extra></extra>",
         "legendgroup": "Germany",
         "marker": {
          "color": "#DC3912",
          "pattern": {
           "shape": ""
          }
         },
         "name": "Germany",
         "orientation": "v",
         "showlegend": true,
         "textposition": "auto",
         "type": "bar",
         "x": [
          "Germany"
         ],
         "xaxis": "x",
         "y": {
          "bdata": "O1VQpoQzrkA=",
          "dtype": "f8"
         },
         "yaxis": "y"
        },
        {
         "hovertemplate": "Entity=%{x}<br>gdp=%{y}<extra></extra>",
         "legendgroup": "India",
         "marker": {
          "color": "#FF9900",
          "pattern": {
           "shape": ""
          }
         },
         "name": "India",
         "orientation": "v",
         "showlegend": true,
         "textposition": "auto",
         "type": "bar",
         "x": [
          "India"
         ],
         "xaxis": "x",
         "y": {
          "bdata": "ZaLFnBWLpEA=",
          "dtype": "f8"
         },
         "yaxis": "y"
        },
        {
         "hovertemplate": "Entity=%{x}<br>gdp=%{y}<extra></extra>",
         "legendgroup": "Japan",
         "marker": {
          "color": "#109618",
          "pattern": {
           "shape": ""
          }
         },
         "name": "Japan",
         "orientation": "v",
         "showlegend": true,
         "textposition": "auto",
         "type": "bar",
         "x": [
          "Japan"
         ],
         "xaxis": "x",
         "y": {
          "bdata": "pyYIJ1QMuEA=",
          "dtype": "f8"
         },
         "yaxis": "y"
        },
        {
         "hovertemplate": "Entity=%{x}<br>gdp=%{y}<extra></extra>",
         "legendgroup": "United Kingdom",
         "marker": {
          "color": "#990099",
          "pattern": {
           "shape": ""
          }
         },
         "name": "United Kingdom",
         "orientation": "v",
         "showlegend": true,
         "textposition": "auto",
         "type": "bar",
         "x": [
          "United Kingdom"
         ],
         "xaxis": "x",
         "y": {
          "bdata": "emO3Ys7tpUA=",
          "dtype": "f8"
         },
         "yaxis": "y"
        },
        {
         "hovertemplate": "Entity=%{x}<br>gdp=%{y}<extra></extra>",
         "legendgroup": "United States",
         "marker": {
          "color": "#0099C6",
          "pattern": {
           "shape": ""
          }
         },
         "name": "United States",
         "orientation": "v",
         "showlegend": true,
         "textposition": "auto",
         "type": "bar",
         "x": [
          "United States"
         ],
         "xaxis": "x",
         "y": {
          "bdata": "SAZv/j7m0EA=",
          "dtype": "f8"
         },
         "yaxis": "y"
        }
       ],
       "layout": {
        "barmode": "relative",
        "legend": {
         "title": {
          "text": "Entity"
         },
         "tracegroupgap": 0
        },
        "margin": {
         "t": 60
        },
        "template": {
         "data": {
          "bar": [
           {
            "error_x": {
             "color": "#2a3f5f"
            },
            "error_y": {
             "color": "#2a3f5f"
            },
            "marker": {
             "line": {
              "color": "#E5ECF6",
              "width": 0.5
             },
             "pattern": {
              "fillmode": "overlay",
              "size": 10,
              "solidity": 0.2
             }
            },
            "type": "bar"
           }
          ],
          "barpolar": [
           {
            "marker": {
             "line": {
              "color": "#E5ECF6",
              "width": 0.5
             },
             "pattern": {
              "fillmode": "overlay",
              "size": 10,
              "solidity": 0.2
             }
            },
            "type": "barpolar"
           }
          ],
          "carpet": [
           {
            "aaxis": {
             "endlinecolor": "#2a3f5f",
             "gridcolor": "white",
             "linecolor": "white",
             "minorgridcolor": "white",
             "startlinecolor": "#2a3f5f"
            },
            "baxis": {
             "endlinecolor": "#2a3f5f",
             "gridcolor": "white",
             "linecolor": "white",
             "minorgridcolor": "white",
             "startlinecolor": "#2a3f5f"
            },
            "type": "carpet"
           }
          ],
          "choropleth": [
           {
            "colorbar": {
             "outlinewidth": 0,
             "ticks": ""
            },
            "type": "choropleth"
           }
          ],
          "contour": [
           {
            "colorbar": {
             "outlinewidth": 0,
             "ticks": ""
            },
            "colorscale": [
             [
              0,
              "#0d0887"
             ],
             [
              0.1111111111111111,
              "#46039f"
             ],
             [
              0.2222222222222222,
              "#7201a8"
             ],
             [
              0.3333333333333333,
              "#9c179e"
             ],
             [
              0.4444444444444444,
              "#bd3786"
             ],
             [
              0.5555555555555556,
              "#d8576b"
             ],
             [
              0.6666666666666666,
              "#ed7953"
             ],
             [
              0.7777777777777778,
              "#fb9f3a"
             ],
             [
              0.8888888888888888,
              "#fdca26"
             ],
             [
              1,
              "#f0f921"
             ]
            ],
            "type": "contour"
           }
          ],
          "contourcarpet": [
           {
            "colorbar": {
             "outlinewidth": 0,
             "ticks": ""
            },
            "type": "contourcarpet"
           }
          ],
          "heatmap": [
           {
            "colorbar": {
             "outlinewidth": 0,
             "ticks": ""
            },
            "colorscale": [
             [
              0,
              "#0d0887"
             ],
             [
              0.1111111111111111,
              "#46039f"
             ],
             [
              0.2222222222222222,
              "#7201a8"
             ],
             [
              0.3333333333333333,
              "#9c179e"
             ],
             [
              0.4444444444444444,
              "#bd3786"
             ],
             [
              0.5555555555555556,
              "#d8576b"
             ],
             [
              0.6666666666666666,
              "#ed7953"
             ],
             [
              0.7777777777777778,
              "#fb9f3a"
             ],
             [
              0.8888888888888888,
              "#fdca26"
             ],
             [
              1,
              "#f0f921"
             ]
            ],
            "type": "heatmap"
           }
          ],
          "histogram": [
           {
            "marker": {
             "pattern": {
              "fillmode": "overlay",
              "size": 10,
              "solidity": 0.2
             }
            },
            "type": "histogram"
           }
          ],
          "histogram2d": [
           {
            "colorbar": {
             "outlinewidth": 0,
             "ticks": ""
            },
            "colorscale": [
             [
              0,
              "#0d0887"
             ],
             [
              0.1111111111111111,
              "#46039f"
             ],
             [
              0.2222222222222222,
              "#7201a8"
             ],
             [
              0.3333333333333333,
              "#9c179e"
             ],
             [
              0.4444444444444444,
              "#bd3786"
             ],
             [
              0.5555555555555556,
              "#d8576b"
             ],
             [
              0.6666666666666666,
              "#ed7953"
             ],
             [
              0.7777777777777778,
              "#fb9f3a"
             ],
             [
              0.8888888888888888,
              "#fdca26"
             ],
             [
              1,
              "#f0f921"
             ]
            ],
            "type": "histogram2d"
           }
          ],
          "histogram2dcontour": [
           {
            "colorbar": {
             "outlinewidth": 0,
             "ticks": ""
            },
            "colorscale": [
             [
              0,
              "#0d0887"
             ],
             [
              0.1111111111111111,
              "#46039f"
             ],
             [
              0.2222222222222222,
              "#7201a8"
             ],
             [
              0.3333333333333333,
              "#9c179e"
             ],
             [
              0.4444444444444444,
              "#bd3786"
             ],
             [
              0.5555555555555556,
              "#d8576b"
             ],
             [
              0.6666666666666666,
              "#ed7953"
             ],
             [
              0.7777777777777778,
              "#fb9f3a"
             ],
             [
              0.8888888888888888,
              "#fdca26"
             ],
             [
              1,
              "#f0f921"
             ]
            ],
            "type": "histogram2dcontour"
           }
          ],
          "mesh3d": [
           {
            "colorbar": {
             "outlinewidth": 0,
             "ticks": ""
            },
            "type": "mesh3d"
           }
          ],
          "parcoords": [
           {
            "line": {
             "colorbar": {
              "outlinewidth": 0,
              "ticks": ""
             }
            },
            "type": "parcoords"
           }
          ],
          "pie": [
           {
            "automargin": true,
            "type": "pie"
           }
          ],
          "scatter": [
           {
            "fillpattern": {
             "fillmode": "overlay",
             "size": 10,
             "solidity": 0.2
            },
            "type": "scatter"
           }
          ],
          "scatter3d": [
           {
            "line": {
             "colorbar": {
              "outlinewidth": 0,
              "ticks": ""
             }
            },
            "marker": {
             "colorbar": {
              "outlinewidth": 0,
              "ticks": ""
             }
            },
            "type": "scatter3d"
           }
          ],
          "scattercarpet": [
           {
            "marker": {
             "colorbar": {
              "outlinewidth": 0,
              "ticks": ""
             }
            },
            "type": "scattercarpet"
           }
          ],
          "scattergeo": [
           {
            "marker": {
             "colorbar": {
              "outlinewidth": 0,
              "ticks": ""
             }
            },
            "type": "scattergeo"
           }
          ],
          "scattergl": [
           {
            "marker": {
             "colorbar": {
              "outlinewidth": 0,
              "ticks": ""
             }
            },
            "type": "scattergl"
           }
          ],
          "scattermap": [
           {
            "marker": {
             "colorbar": {
              "outlinewidth": 0,
              "ticks": ""
             }
            },
            "type": "scattermap"
           }
          ],
          "scattermapbox": [
           {
            "marker": {
             "colorbar": {
              "outlinewidth": 0,
              "ticks": ""
             }
            },
            "type": "scattermapbox"
           }
          ],
          "scatterpolar": [
           {
            "marker": {
             "colorbar": {
              "outlinewidth": 0,
              "ticks": ""
             }
            },
            "type": "scatterpolar"
           }
          ],
          "scatterpolargl": [
           {
            "marker": {
             "colorbar": {
              "outlinewidth": 0,
              "ticks": ""
             }
            },
            "type": "scatterpolargl"
           }
          ],
          "scatterternary": [
           {
            "marker": {
             "colorbar": {
              "outlinewidth": 0,
              "ticks": ""
             }
            },
            "type": "scatterternary"
           }
          ],
          "surface": [
           {
            "colorbar": {
             "outlinewidth": 0,
             "ticks": ""
            },
            "colorscale": [
             [
              0,
              "#0d0887"
             ],
             [
              0.1111111111111111,
              "#46039f"
             ],
             [
              0.2222222222222222,
              "#7201a8"
             ],
             [
              0.3333333333333333,
              "#9c179e"
             ],
             [
              0.4444444444444444,
              "#bd3786"
             ],
             [
              0.5555555555555556,
              "#d8576b"
             ],
             [
              0.6666666666666666,
              "#ed7953"
             ],
             [
              0.7777777777777778,
              "#fb9f3a"
             ],
             [
              0.8888888888888888,
              "#fdca26"
             ],
             [
              1,
              "#f0f921"
             ]
            ],
            "type": "surface"
           }
          ],
          "table": [
           {
            "cells": {
             "fill": {
              "color": "#EBF0F8"
             },
             "line": {
              "color": "white"
             }
            },
            "header": {
             "fill": {
              "color": "#C8D4E3"
             },
             "line": {
              "color": "white"
             }
            },
            "type": "table"
           }
          ]
         },
         "layout": {
          "annotationdefaults": {
           "arrowcolor": "#2a3f5f",
           "arrowhead": 0,
           "arrowwidth": 1
          },
          "autotypenumbers": "strict",
          "coloraxis": {
           "colorbar": {
            "outlinewidth": 0,
            "ticks": ""
           }
          },
          "colorscale": {
           "diverging": [
            [
             0,
             "#8e0152"
            ],
            [
             0.1,
             "#c51b7d"
            ],
            [
             0.2,
             "#de77ae"
            ],
            [
             0.3,
             "#f1b6da"
            ],
            [
             0.4,
             "#fde0ef"
            ],
            [
             0.5,
             "#f7f7f7"
            ],
            [
             0.6,
             "#e6f5d0"
            ],
            [
             0.7,
             "#b8e186"
            ],
            [
             0.8,
             "#7fbc41"
            ],
            [
             0.9,
             "#4d9221"
            ],
            [
             1,
             "#276419"
            ]
           ],
           "sequential": [
            [
             0,
             "#0d0887"
            ],
            [
             0.1111111111111111,
             "#46039f"
            ],
            [
             0.2222222222222222,
             "#7201a8"
            ],
            [
             0.3333333333333333,
             "#9c179e"
            ],
            [
             0.4444444444444444,
             "#bd3786"
            ],
            [
             0.5555555555555556,
             "#d8576b"
            ],
            [
             0.6666666666666666,
             "#ed7953"
            ],
            [
             0.7777777777777778,
             "#fb9f3a"
            ],
            [
             0.8888888888888888,
             "#fdca26"
            ],
            [
             1,
             "#f0f921"
            ]
           ],
           "sequentialminus": [
            [
             0,
             "#0d0887"
            ],
            [
             0.1111111111111111,
             "#46039f"
            ],
            [
             0.2222222222222222,
             "#7201a8"
            ],
            [
             0.3333333333333333,
             "#9c179e"
            ],
            [
             0.4444444444444444,
             "#bd3786"
            ],
            [
             0.5555555555555556,
             "#d8576b"
            ],
            [
             0.6666666666666666,
             "#ed7953"
            ],
            [
             0.7777777777777778,
             "#fb9f3a"
            ],
            [
             0.8888888888888888,
             "#fdca26"
            ],
            [
             1,
             "#f0f921"
            ]
           ]
          },
          "colorway": [
           "#636efa",
           "#EF553B",
           "#00cc96",
           "#ab63fa",
           "#FFA15A",
           "#19d3f3",
           "#FF6692",
           "#B6E880",
           "#FF97FF",
           "#FECB52"
          ],
          "font": {
           "color": "#2a3f5f"
          },
          "geo": {
           "bgcolor": "white",
           "lakecolor": "white",
           "landcolor": "#E5ECF6",
           "showlakes": true,
           "showland": true,
           "subunitcolor": "white"
          },
          "hoverlabel": {
           "align": "left"
          },
          "hovermode": "closest",
          "mapbox": {
           "style": "light"
          },
          "paper_bgcolor": "white",
          "plot_bgcolor": "#E5ECF6",
          "polar": {
           "angularaxis": {
            "gridcolor": "white",
            "linecolor": "white",
            "ticks": ""
           },
           "bgcolor": "#E5ECF6",
           "radialaxis": {
            "gridcolor": "white",
            "linecolor": "white",
            "ticks": ""
           }
          },
          "scene": {
           "xaxis": {
            "backgroundcolor": "#E5ECF6",
            "gridcolor": "white",
            "gridwidth": 2,
            "linecolor": "white",
            "showbackground": true,
            "ticks": "",
            "zerolinecolor": "white"
           },
           "yaxis": {
            "backgroundcolor": "#E5ECF6",
            "gridcolor": "white",
            "gridwidth": 2,
            "linecolor": "white",
            "showbackground": true,
            "ticks": "",
            "zerolinecolor": "white"
           },
           "zaxis": {
            "backgroundcolor": "#E5ECF6",
            "gridcolor": "white",
            "gridwidth": 2,
            "linecolor": "white",
            "showbackground": true,
            "ticks": "",
            "zerolinecolor": "white"
           }
          },
          "shapedefaults": {
           "line": {
            "color": "#2a3f5f"
           }
          },
          "ternary": {
           "aaxis": {
            "gridcolor": "white",
            "linecolor": "white",
            "ticks": ""
           },
           "baxis": {
            "gridcolor": "white",
            "linecolor": "white",
            "ticks": ""
           },
           "bgcolor": "#E5ECF6",
           "caxis": {
            "gridcolor": "white",
            "linecolor": "white",
            "ticks": ""
           }
          },
          "title": {
           "x": 0.05
          },
          "xaxis": {
           "automargin": true,
           "gridcolor": "white",
           "linecolor": "white",
           "ticks": "",
           "title": {
            "standoff": 15
           },
           "zerolinecolor": "white",
           "zerolinewidth": 2
          },
          "yaxis": {
           "automargin": true,
           "gridcolor": "white",
           "linecolor": "white",
           "ticks": "",
           "title": {
            "standoff": 15
           },
           "zerolinecolor": "white",
           "zerolinewidth": 2
          }
         }
        },
        "xaxis": {
         "anchor": "y",
         "categoryarray": [
          "China",
          "Germany",
          "India",
          "Japan",
          "United Kingdom",
          "United States"
         ],
         "categoryorder": "array",
         "domain": [
          0,
          1
         ],
         "title": {
          "text": "Entity"
         }
        },
        "yaxis": {
         "anchor": "x",
         "domain": [
          0,
          1
         ],
         "title": {
          "text": "gdp"
         }
        }
       }
      }
     },
     "metadata": {},
     "output_type": "display_data"
    }
   ],
   "source": [
    "fig = px.bar(top6, x=\"Entity\", y=\"gdp\", color=\"Entity\", color_discrete_sequence=px.colors.qualitative.G10)\n",
    "fig.show()"
   ]
  },
  {
   "cell_type": "code",
   "execution_count": 247,
   "id": "676b0654-d0e5-4952-b023-5fb7ecd4d63d",
   "metadata": {},
   "outputs": [],
   "source": [
    "df_1960 = df.query('Year == 1960')"
   ]
  },
  {
   "cell_type": "code",
   "execution_count": 248,
   "id": "5966b03e-b3de-4327-8df9-18f223d8a734",
   "metadata": {},
   "outputs": [
    {
     "data": {
      "text/plain": [
       "9025.83485442651"
      ]
     },
     "execution_count": 248,
     "metadata": {},
     "output_type": "execute_result"
    }
   ],
   "source": [
    "gdp_1960 = sum(df_1960['gdp'])\n",
    "gdp_1960"
   ]
  },
  {
   "cell_type": "code",
   "execution_count": 249,
   "id": "09dc30f8-4ad6-4ebb-81d8-185fb728bb57",
   "metadata": {},
   "outputs": [
    {
     "data": {
      "text/html": [
       "<div>\n",
       "<style scoped>\n",
       "    .dataframe tbody tr th:only-of-type {\n",
       "        vertical-align: middle;\n",
       "    }\n",
       "\n",
       "    .dataframe tbody tr th {\n",
       "        vertical-align: top;\n",
       "    }\n",
       "\n",
       "    .dataframe thead th {\n",
       "        text-align: right;\n",
       "    }\n",
       "</style>\n",
       "<table border=\"1\" class=\"dataframe\">\n",
       "  <thead>\n",
       "    <tr style=\"text-align: right;\">\n",
       "      <th></th>\n",
       "      <th>gdp</th>\n",
       "    </tr>\n",
       "    <tr>\n",
       "      <th>Year</th>\n",
       "      <th></th>\n",
       "    </tr>\n",
       "  </thead>\n",
       "  <tbody>\n",
       "    <tr>\n",
       "      <th>1960</th>\n",
       "      <td>9025.834854</td>\n",
       "    </tr>\n",
       "    <tr>\n",
       "      <th>1961</th>\n",
       "      <td>9434.021757</td>\n",
       "    </tr>\n",
       "    <tr>\n",
       "      <th>1962</th>\n",
       "      <td>9959.004555</td>\n",
       "    </tr>\n",
       "    <tr>\n",
       "      <th>1963</th>\n",
       "      <td>10477.823331</td>\n",
       "    </tr>\n",
       "    <tr>\n",
       "      <th>1964</th>\n",
       "      <td>11176.230223</td>\n",
       "    </tr>\n",
       "    <tr>\n",
       "      <th>...</th>\n",
       "      <td>...</td>\n",
       "    </tr>\n",
       "    <tr>\n",
       "      <th>2013</th>\n",
       "      <td>70951.987117</td>\n",
       "    </tr>\n",
       "    <tr>\n",
       "      <th>2014</th>\n",
       "      <td>72967.372451</td>\n",
       "    </tr>\n",
       "    <tr>\n",
       "      <th>2015</th>\n",
       "      <td>74627.950281</td>\n",
       "    </tr>\n",
       "    <tr>\n",
       "      <th>2016</th>\n",
       "      <td>76417.485962</td>\n",
       "    </tr>\n",
       "    <tr>\n",
       "      <th>2017</th>\n",
       "      <td>78709.274760</td>\n",
       "    </tr>\n",
       "  </tbody>\n",
       "</table>\n",
       "<p>58 rows × 1 columns</p>\n",
       "</div>"
      ],
      "text/plain": [
       "               gdp\n",
       "Year              \n",
       "1960   9025.834854\n",
       "1961   9434.021757\n",
       "1962   9959.004555\n",
       "1963  10477.823331\n",
       "1964  11176.230223\n",
       "...            ...\n",
       "2013  70951.987117\n",
       "2014  72967.372451\n",
       "2015  74627.950281\n",
       "2016  76417.485962\n",
       "2017  78709.274760\n",
       "\n",
       "[58 rows x 1 columns]"
      ]
     },
     "execution_count": 249,
     "metadata": {},
     "output_type": "execute_result"
    }
   ],
   "source": [
    "df.groupby('Year').agg(\"sum\")[['gdp']]"
   ]
  },
  {
   "cell_type": "code",
   "execution_count": 250,
   "id": "5549ea9e-909d-4809-903e-10f3eb5e2518",
   "metadata": {},
   "outputs": [
    {
     "data": {
      "application/vnd.plotly.v1+json": {
       "config": {
        "plotlyServerURL": "https://plot.ly"
       },
       "data": [
        {
         "hovertemplate": "variable=gdp<br>Year=%{x}<br>value=%{y}<extra></extra>",
         "legendgroup": "gdp",
         "line": {
          "color": "#636efa",
          "dash": "solid"
         },
         "marker": {
          "symbol": "circle"
         },
         "mode": "lines",
         "name": "gdp",
         "orientation": "v",
         "showlegend": true,
         "type": "scatter",
         "x": {
          "bdata": "qAepB6oHqwesB60HrgevB7AHsQeyB7MHtAe1B7YHtwe4B7kHuge7B7wHvQe+B78HwAfBB8IHwwfEB8UHxgfHB8gHyQfKB8sHzAfNB84HzwfQB9EH0gfTB9QH1QfWB9cH2AfZB9oH2wfcB90H3gffB+AH4Qc=",
          "dtype": "i2"
         },
         "xaxis": "x",
         "y": {
          "bdata": "ZIWC3OqgwUAoK+7IAm3CQEIHQ5WAc8NAPcnlYul2xECxxPR3HdTFQABAyGySFcdAj8YAfSN1yECrbTuoB4vJQEj9SmPZTctAvLSnaUX7zEAcCzcKYM7QQB+C1y1MiNFAYMUOj/aK0kBKBPqbKMLTQCCF9TSfKtRAyRa8d99g1ED4cv0X2nfVQDlaHiGaUNZAvaw+k3Ix10D71A8BnSfYQLJCs8oAA9lAdrYZsKKA2UCkFSIpDZvZQKOUKeesOdpApkoIseFt20B2J4nFr3XcQB2Zl0tAat1AsI0bVhW03kD0CP8SNxLgQC0YYU5hX+FAx4ZKwtA04kAgU6nOToLiQK69w1iH4OJAS+p2voYr40A8WPhnr7/jQOx6yzSwaeRAozX2j5wb5UDbsYHdiOPlQO9usEnYcOZAk7Y5H3Yw50DjK+EeZTnoQFIqnAZLsehAGg16U7k66UDii6Tm5vXpQPZ5MJG0HOtAn5OUjdgl7EDG7NEhiFvtQL9HHRtJmO5AgaH/hWon70Af4enO8JzuQNo2uYS97e9AZbtZJqt38ED+zEShVeHwQO71Ost/UvFAH+KO9XXQ8UDitVk0PzjyQJjYf8YXqPJAwVhqZVQ380A=",
          "dtype": "f8"
         },
         "yaxis": "y"
        }
       ],
       "layout": {
        "legend": {
         "title": {
          "text": "variable"
         },
         "tracegroupgap": 0
        },
        "margin": {
         "t": 60
        },
        "template": {
         "data": {
          "bar": [
           {
            "error_x": {
             "color": "#2a3f5f"
            },
            "error_y": {
             "color": "#2a3f5f"
            },
            "marker": {
             "line": {
              "color": "#E5ECF6",
              "width": 0.5
             },
             "pattern": {
              "fillmode": "overlay",
              "size": 10,
              "solidity": 0.2
             }
            },
            "type": "bar"
           }
          ],
          "barpolar": [
           {
            "marker": {
             "line": {
              "color": "#E5ECF6",
              "width": 0.5
             },
             "pattern": {
              "fillmode": "overlay",
              "size": 10,
              "solidity": 0.2
             }
            },
            "type": "barpolar"
           }
          ],
          "carpet": [
           {
            "aaxis": {
             "endlinecolor": "#2a3f5f",
             "gridcolor": "white",
             "linecolor": "white",
             "minorgridcolor": "white",
             "startlinecolor": "#2a3f5f"
            },
            "baxis": {
             "endlinecolor": "#2a3f5f",
             "gridcolor": "white",
             "linecolor": "white",
             "minorgridcolor": "white",
             "startlinecolor": "#2a3f5f"
            },
            "type": "carpet"
           }
          ],
          "choropleth": [
           {
            "colorbar": {
             "outlinewidth": 0,
             "ticks": ""
            },
            "type": "choropleth"
           }
          ],
          "contour": [
           {
            "colorbar": {
             "outlinewidth": 0,
             "ticks": ""
            },
            "colorscale": [
             [
              0,
              "#0d0887"
             ],
             [
              0.1111111111111111,
              "#46039f"
             ],
             [
              0.2222222222222222,
              "#7201a8"
             ],
             [
              0.3333333333333333,
              "#9c179e"
             ],
             [
              0.4444444444444444,
              "#bd3786"
             ],
             [
              0.5555555555555556,
              "#d8576b"
             ],
             [
              0.6666666666666666,
              "#ed7953"
             ],
             [
              0.7777777777777778,
              "#fb9f3a"
             ],
             [
              0.8888888888888888,
              "#fdca26"
             ],
             [
              1,
              "#f0f921"
             ]
            ],
            "type": "contour"
           }
          ],
          "contourcarpet": [
           {
            "colorbar": {
             "outlinewidth": 0,
             "ticks": ""
            },
            "type": "contourcarpet"
           }
          ],
          "heatmap": [
           {
            "colorbar": {
             "outlinewidth": 0,
             "ticks": ""
            },
            "colorscale": [
             [
              0,
              "#0d0887"
             ],
             [
              0.1111111111111111,
              "#46039f"
             ],
             [
              0.2222222222222222,
              "#7201a8"
             ],
             [
              0.3333333333333333,
              "#9c179e"
             ],
             [
              0.4444444444444444,
              "#bd3786"
             ],
             [
              0.5555555555555556,
              "#d8576b"
             ],
             [
              0.6666666666666666,
              "#ed7953"
             ],
             [
              0.7777777777777778,
              "#fb9f3a"
             ],
             [
              0.8888888888888888,
              "#fdca26"
             ],
             [
              1,
              "#f0f921"
             ]
            ],
            "type": "heatmap"
           }
          ],
          "histogram": [
           {
            "marker": {
             "pattern": {
              "fillmode": "overlay",
              "size": 10,
              "solidity": 0.2
             }
            },
            "type": "histogram"
           }
          ],
          "histogram2d": [
           {
            "colorbar": {
             "outlinewidth": 0,
             "ticks": ""
            },
            "colorscale": [
             [
              0,
              "#0d0887"
             ],
             [
              0.1111111111111111,
              "#46039f"
             ],
             [
              0.2222222222222222,
              "#7201a8"
             ],
             [
              0.3333333333333333,
              "#9c179e"
             ],
             [
              0.4444444444444444,
              "#bd3786"
             ],
             [
              0.5555555555555556,
              "#d8576b"
             ],
             [
              0.6666666666666666,
              "#ed7953"
             ],
             [
              0.7777777777777778,
              "#fb9f3a"
             ],
             [
              0.8888888888888888,
              "#fdca26"
             ],
             [
              1,
              "#f0f921"
             ]
            ],
            "type": "histogram2d"
           }
          ],
          "histogram2dcontour": [
           {
            "colorbar": {
             "outlinewidth": 0,
             "ticks": ""
            },
            "colorscale": [
             [
              0,
              "#0d0887"
             ],
             [
              0.1111111111111111,
              "#46039f"
             ],
             [
              0.2222222222222222,
              "#7201a8"
             ],
             [
              0.3333333333333333,
              "#9c179e"
             ],
             [
              0.4444444444444444,
              "#bd3786"
             ],
             [
              0.5555555555555556,
              "#d8576b"
             ],
             [
              0.6666666666666666,
              "#ed7953"
             ],
             [
              0.7777777777777778,
              "#fb9f3a"
             ],
             [
              0.8888888888888888,
              "#fdca26"
             ],
             [
              1,
              "#f0f921"
             ]
            ],
            "type": "histogram2dcontour"
           }
          ],
          "mesh3d": [
           {
            "colorbar": {
             "outlinewidth": 0,
             "ticks": ""
            },
            "type": "mesh3d"
           }
          ],
          "parcoords": [
           {
            "line": {
             "colorbar": {
              "outlinewidth": 0,
              "ticks": ""
             }
            },
            "type": "parcoords"
           }
          ],
          "pie": [
           {
            "automargin": true,
            "type": "pie"
           }
          ],
          "scatter": [
           {
            "fillpattern": {
             "fillmode": "overlay",
             "size": 10,
             "solidity": 0.2
            },
            "type": "scatter"
           }
          ],
          "scatter3d": [
           {
            "line": {
             "colorbar": {
              "outlinewidth": 0,
              "ticks": ""
             }
            },
            "marker": {
             "colorbar": {
              "outlinewidth": 0,
              "ticks": ""
             }
            },
            "type": "scatter3d"
           }
          ],
          "scattercarpet": [
           {
            "marker": {
             "colorbar": {
              "outlinewidth": 0,
              "ticks": ""
             }
            },
            "type": "scattercarpet"
           }
          ],
          "scattergeo": [
           {
            "marker": {
             "colorbar": {
              "outlinewidth": 0,
              "ticks": ""
             }
            },
            "type": "scattergeo"
           }
          ],
          "scattergl": [
           {
            "marker": {
             "colorbar": {
              "outlinewidth": 0,
              "ticks": ""
             }
            },
            "type": "scattergl"
           }
          ],
          "scattermap": [
           {
            "marker": {
             "colorbar": {
              "outlinewidth": 0,
              "ticks": ""
             }
            },
            "type": "scattermap"
           }
          ],
          "scattermapbox": [
           {
            "marker": {
             "colorbar": {
              "outlinewidth": 0,
              "ticks": ""
             }
            },
            "type": "scattermapbox"
           }
          ],
          "scatterpolar": [
           {
            "marker": {
             "colorbar": {
              "outlinewidth": 0,
              "ticks": ""
             }
            },
            "type": "scatterpolar"
           }
          ],
          "scatterpolargl": [
           {
            "marker": {
             "colorbar": {
              "outlinewidth": 0,
              "ticks": ""
             }
            },
            "type": "scatterpolargl"
           }
          ],
          "scatterternary": [
           {
            "marker": {
             "colorbar": {
              "outlinewidth": 0,
              "ticks": ""
             }
            },
            "type": "scatterternary"
           }
          ],
          "surface": [
           {
            "colorbar": {
             "outlinewidth": 0,
             "ticks": ""
            },
            "colorscale": [
             [
              0,
              "#0d0887"
             ],
             [
              0.1111111111111111,
              "#46039f"
             ],
             [
              0.2222222222222222,
              "#7201a8"
             ],
             [
              0.3333333333333333,
              "#9c179e"
             ],
             [
              0.4444444444444444,
              "#bd3786"
             ],
             [
              0.5555555555555556,
              "#d8576b"
             ],
             [
              0.6666666666666666,
              "#ed7953"
             ],
             [
              0.7777777777777778,
              "#fb9f3a"
             ],
             [
              0.8888888888888888,
              "#fdca26"
             ],
             [
              1,
              "#f0f921"
             ]
            ],
            "type": "surface"
           }
          ],
          "table": [
           {
            "cells": {
             "fill": {
              "color": "#EBF0F8"
             },
             "line": {
              "color": "white"
             }
            },
            "header": {
             "fill": {
              "color": "#C8D4E3"
             },
             "line": {
              "color": "white"
             }
            },
            "type": "table"
           }
          ]
         },
         "layout": {
          "annotationdefaults": {
           "arrowcolor": "#2a3f5f",
           "arrowhead": 0,
           "arrowwidth": 1
          },
          "autotypenumbers": "strict",
          "coloraxis": {
           "colorbar": {
            "outlinewidth": 0,
            "ticks": ""
           }
          },
          "colorscale": {
           "diverging": [
            [
             0,
             "#8e0152"
            ],
            [
             0.1,
             "#c51b7d"
            ],
            [
             0.2,
             "#de77ae"
            ],
            [
             0.3,
             "#f1b6da"
            ],
            [
             0.4,
             "#fde0ef"
            ],
            [
             0.5,
             "#f7f7f7"
            ],
            [
             0.6,
             "#e6f5d0"
            ],
            [
             0.7,
             "#b8e186"
            ],
            [
             0.8,
             "#7fbc41"
            ],
            [
             0.9,
             "#4d9221"
            ],
            [
             1,
             "#276419"
            ]
           ],
           "sequential": [
            [
             0,
             "#0d0887"
            ],
            [
             0.1111111111111111,
             "#46039f"
            ],
            [
             0.2222222222222222,
             "#7201a8"
            ],
            [
             0.3333333333333333,
             "#9c179e"
            ],
            [
             0.4444444444444444,
             "#bd3786"
            ],
            [
             0.5555555555555556,
             "#d8576b"
            ],
            [
             0.6666666666666666,
             "#ed7953"
            ],
            [
             0.7777777777777778,
             "#fb9f3a"
            ],
            [
             0.8888888888888888,
             "#fdca26"
            ],
            [
             1,
             "#f0f921"
            ]
           ],
           "sequentialminus": [
            [
             0,
             "#0d0887"
            ],
            [
             0.1111111111111111,
             "#46039f"
            ],
            [
             0.2222222222222222,
             "#7201a8"
            ],
            [
             0.3333333333333333,
             "#9c179e"
            ],
            [
             0.4444444444444444,
             "#bd3786"
            ],
            [
             0.5555555555555556,
             "#d8576b"
            ],
            [
             0.6666666666666666,
             "#ed7953"
            ],
            [
             0.7777777777777778,
             "#fb9f3a"
            ],
            [
             0.8888888888888888,
             "#fdca26"
            ],
            [
             1,
             "#f0f921"
            ]
           ]
          },
          "colorway": [
           "#636efa",
           "#EF553B",
           "#00cc96",
           "#ab63fa",
           "#FFA15A",
           "#19d3f3",
           "#FF6692",
           "#B6E880",
           "#FF97FF",
           "#FECB52"
          ],
          "font": {
           "color": "#2a3f5f"
          },
          "geo": {
           "bgcolor": "white",
           "lakecolor": "white",
           "landcolor": "#E5ECF6",
           "showlakes": true,
           "showland": true,
           "subunitcolor": "white"
          },
          "hoverlabel": {
           "align": "left"
          },
          "hovermode": "closest",
          "mapbox": {
           "style": "light"
          },
          "paper_bgcolor": "white",
          "plot_bgcolor": "#E5ECF6",
          "polar": {
           "angularaxis": {
            "gridcolor": "white",
            "linecolor": "white",
            "ticks": ""
           },
           "bgcolor": "#E5ECF6",
           "radialaxis": {
            "gridcolor": "white",
            "linecolor": "white",
            "ticks": ""
           }
          },
          "scene": {
           "xaxis": {
            "backgroundcolor": "#E5ECF6",
            "gridcolor": "white",
            "gridwidth": 2,
            "linecolor": "white",
            "showbackground": true,
            "ticks": "",
            "zerolinecolor": "white"
           },
           "yaxis": {
            "backgroundcolor": "#E5ECF6",
            "gridcolor": "white",
            "gridwidth": 2,
            "linecolor": "white",
            "showbackground": true,
            "ticks": "",
            "zerolinecolor": "white"
           },
           "zaxis": {
            "backgroundcolor": "#E5ECF6",
            "gridcolor": "white",
            "gridwidth": 2,
            "linecolor": "white",
            "showbackground": true,
            "ticks": "",
            "zerolinecolor": "white"
           }
          },
          "shapedefaults": {
           "line": {
            "color": "#2a3f5f"
           }
          },
          "ternary": {
           "aaxis": {
            "gridcolor": "white",
            "linecolor": "white",
            "ticks": ""
           },
           "baxis": {
            "gridcolor": "white",
            "linecolor": "white",
            "ticks": ""
           },
           "bgcolor": "#E5ECF6",
           "caxis": {
            "gridcolor": "white",
            "linecolor": "white",
            "ticks": ""
           }
          },
          "title": {
           "x": 0.05
          },
          "xaxis": {
           "automargin": true,
           "gridcolor": "white",
           "linecolor": "white",
           "ticks": "",
           "title": {
            "standoff": 15
           },
           "zerolinecolor": "white",
           "zerolinewidth": 2
          },
          "yaxis": {
           "automargin": true,
           "gridcolor": "white",
           "linecolor": "white",
           "ticks": "",
           "title": {
            "standoff": 15
           },
           "zerolinecolor": "white",
           "zerolinewidth": 2
          }
         }
        },
        "xaxis": {
         "anchor": "y",
         "domain": [
          0,
          1
         ],
         "title": {
          "text": "Year"
         }
        },
        "yaxis": {
         "anchor": "x",
         "domain": [
          0,
          1
         ],
         "title": {
          "text": "value"
         }
        }
       }
      }
     },
     "metadata": {},
     "output_type": "display_data"
    }
   ],
   "source": [
    "px.line(df.groupby('Year')[['gdp']].agg('sum'))"
   ]
  },
  {
   "cell_type": "code",
   "execution_count": 251,
   "id": "927b9695-924c-443d-b677-5787c7487ca4",
   "metadata": {},
   "outputs": [
    {
     "data": {
      "text/html": [
       "<div>\n",
       "<style scoped>\n",
       "    .dataframe tbody tr th:only-of-type {\n",
       "        vertical-align: middle;\n",
       "    }\n",
       "\n",
       "    .dataframe tbody tr th {\n",
       "        vertical-align: top;\n",
       "    }\n",
       "\n",
       "    .dataframe thead th {\n",
       "        text-align: right;\n",
       "    }\n",
       "</style>\n",
       "<table border=\"1\" class=\"dataframe\">\n",
       "  <thead>\n",
       "    <tr style=\"text-align: right;\">\n",
       "      <th></th>\n",
       "      <th>gdp</th>\n",
       "    </tr>\n",
       "    <tr>\n",
       "      <th>Year</th>\n",
       "      <th></th>\n",
       "    </tr>\n",
       "  </thead>\n",
       "  <tbody>\n",
       "    <tr>\n",
       "      <th>1960</th>\n",
       "      <td>3078.071080</td>\n",
       "    </tr>\n",
       "    <tr>\n",
       "      <th>1961</th>\n",
       "      <td>3148.866715</td>\n",
       "    </tr>\n",
       "    <tr>\n",
       "      <th>1962</th>\n",
       "      <td>3340.947585</td>\n",
       "    </tr>\n",
       "    <tr>\n",
       "      <th>1963</th>\n",
       "      <td>3487.949279</td>\n",
       "    </tr>\n",
       "    <tr>\n",
       "      <th>1964</th>\n",
       "      <td>3690.250337</td>\n",
       "    </tr>\n",
       "    <tr>\n",
       "      <th>...</th>\n",
       "      <td>...</td>\n",
       "    </tr>\n",
       "    <tr>\n",
       "      <th>2013</th>\n",
       "      <td>15802.855301</td>\n",
       "    </tr>\n",
       "    <tr>\n",
       "      <th>2014</th>\n",
       "      <td>16208.861247</td>\n",
       "    </tr>\n",
       "    <tr>\n",
       "      <th>2015</th>\n",
       "      <td>16672.691918</td>\n",
       "    </tr>\n",
       "    <tr>\n",
       "      <th>2016</th>\n",
       "      <td>16920.327942</td>\n",
       "    </tr>\n",
       "    <tr>\n",
       "      <th>2017</th>\n",
       "      <td>17304.984279</td>\n",
       "    </tr>\n",
       "  </tbody>\n",
       "</table>\n",
       "<p>58 rows × 1 columns</p>\n",
       "</div>"
      ],
      "text/plain": [
       "               gdp\n",
       "Year              \n",
       "1960   3078.071080\n",
       "1961   3148.866715\n",
       "1962   3340.947585\n",
       "1963   3487.949279\n",
       "1964   3690.250337\n",
       "...            ...\n",
       "2013  15802.855301\n",
       "2014  16208.861247\n",
       "2015  16672.691918\n",
       "2016  16920.327942\n",
       "2017  17304.984279\n",
       "\n",
       "[58 rows x 1 columns]"
      ]
     },
     "execution_count": 251,
     "metadata": {},
     "output_type": "execute_result"
    }
   ],
   "source": [
    "df.groupby('Year')[['gdp']].agg('max')"
   ]
  },
  {
   "cell_type": "code",
   "execution_count": 252,
   "id": "0b621d11-788c-482a-af5d-66a895c906c3",
   "metadata": {},
   "outputs": [
    {
     "data": {
      "application/vnd.plotly.v1+json": {
       "config": {
        "plotlyServerURL": "https://plot.ly"
       },
       "data": [
        {
         "hovertemplate": "variable=gdp<br>Year=%{x}<br>value=%{y}<extra></extra>",
         "legendgroup": "gdp",
         "line": {
          "color": "#636efa",
          "dash": "solid"
         },
         "marker": {
          "symbol": "circle"
         },
         "mode": "lines",
         "name": "gdp",
         "orientation": "v",
         "showlegend": true,
         "type": "scatter",
         "x": {
          "bdata": "qAepB6oHqwesB60HrgevB7AHsQeyB7MHtAe1B7YHtwe4B7kHuge7B7wHvQe+B78HwAfBB8IHwwfEB8UHxgfHB8gHyQfKB8sHzAfNB84HzwfQB9EH0gfTB9QH1QfWB9cH2AfZB9oH2wfcB90H3gffB+AH4Qc=",
          "dtype": "i2"
         },
         "xaxis": "x",
         "y": {
          "bdata": "L/SoZCQMqECedBzCu5moQIse2ynlGapAaovbB+Y/q0AdQScsgNSsQMSxpkvarK5AbF3i4aRVsEAqBohnL76wQFmuPgzsi7FA2/f58CsXskCSUnU0r6uyQEQ8yKEySbNARvWMMw5NtEA47AjxVHK1QErwhjTwVbVAe6QcJyRLtUC1WOWdvnC2QOC/1Cp/ebdALEWX3LnHuEAAo3DiLpG5QLK+3IIsgblA7NtJRJIqukD4BOSmkaq5QGkIfZ/y2rpA2K4alQHOvEC2Rqkpkga+QO3jV2J+FL9AAELatfYTwECWzodn/8DAQDX+jvLaXsFAW5VE9jS0wUBoC2Nm2bDBQCHDzyTeUcJACKV5EaXSwkCFCaNZNJXDQLFEsSaDHcRAoW9mT/vgxEC5zQr7z9DFQLOtC+RUycZAYn9+hKLax0CYZIlzh9TIQHm1N1OREslAK/Y8JDaFyUDaq4+HlTzKQCtX01DbOstAhlT2AgwkzEDmUqbiJuTMQPoBWZmyZ81AK4MPyr5RzUDk0p3Ma4HMQA4tsp0vOs1Ab/ZigwKyzUDE+lCzFFvOQN1Tg3pt3c5AYtRaPW6oz0ChmGFILEjQQH+a//wUhtBASAZv/j7m0EA=",
          "dtype": "f8"
         },
         "yaxis": "y"
        }
       ],
       "layout": {
        "legend": {
         "title": {
          "text": "variable"
         },
         "tracegroupgap": 0
        },
        "margin": {
         "t": 60
        },
        "template": {
         "data": {
          "bar": [
           {
            "error_x": {
             "color": "#2a3f5f"
            },
            "error_y": {
             "color": "#2a3f5f"
            },
            "marker": {
             "line": {
              "color": "#E5ECF6",
              "width": 0.5
             },
             "pattern": {
              "fillmode": "overlay",
              "size": 10,
              "solidity": 0.2
             }
            },
            "type": "bar"
           }
          ],
          "barpolar": [
           {
            "marker": {
             "line": {
              "color": "#E5ECF6",
              "width": 0.5
             },
             "pattern": {
              "fillmode": "overlay",
              "size": 10,
              "solidity": 0.2
             }
            },
            "type": "barpolar"
           }
          ],
          "carpet": [
           {
            "aaxis": {
             "endlinecolor": "#2a3f5f",
             "gridcolor": "white",
             "linecolor": "white",
             "minorgridcolor": "white",
             "startlinecolor": "#2a3f5f"
            },
            "baxis": {
             "endlinecolor": "#2a3f5f",
             "gridcolor": "white",
             "linecolor": "white",
             "minorgridcolor": "white",
             "startlinecolor": "#2a3f5f"
            },
            "type": "carpet"
           }
          ],
          "choropleth": [
           {
            "colorbar": {
             "outlinewidth": 0,
             "ticks": ""
            },
            "type": "choropleth"
           }
          ],
          "contour": [
           {
            "colorbar": {
             "outlinewidth": 0,
             "ticks": ""
            },
            "colorscale": [
             [
              0,
              "#0d0887"
             ],
             [
              0.1111111111111111,
              "#46039f"
             ],
             [
              0.2222222222222222,
              "#7201a8"
             ],
             [
              0.3333333333333333,
              "#9c179e"
             ],
             [
              0.4444444444444444,
              "#bd3786"
             ],
             [
              0.5555555555555556,
              "#d8576b"
             ],
             [
              0.6666666666666666,
              "#ed7953"
             ],
             [
              0.7777777777777778,
              "#fb9f3a"
             ],
             [
              0.8888888888888888,
              "#fdca26"
             ],
             [
              1,
              "#f0f921"
             ]
            ],
            "type": "contour"
           }
          ],
          "contourcarpet": [
           {
            "colorbar": {
             "outlinewidth": 0,
             "ticks": ""
            },
            "type": "contourcarpet"
           }
          ],
          "heatmap": [
           {
            "colorbar": {
             "outlinewidth": 0,
             "ticks": ""
            },
            "colorscale": [
             [
              0,
              "#0d0887"
             ],
             [
              0.1111111111111111,
              "#46039f"
             ],
             [
              0.2222222222222222,
              "#7201a8"
             ],
             [
              0.3333333333333333,
              "#9c179e"
             ],
             [
              0.4444444444444444,
              "#bd3786"
             ],
             [
              0.5555555555555556,
              "#d8576b"
             ],
             [
              0.6666666666666666,
              "#ed7953"
             ],
             [
              0.7777777777777778,
              "#fb9f3a"
             ],
             [
              0.8888888888888888,
              "#fdca26"
             ],
             [
              1,
              "#f0f921"
             ]
            ],
            "type": "heatmap"
           }
          ],
          "histogram": [
           {
            "marker": {
             "pattern": {
              "fillmode": "overlay",
              "size": 10,
              "solidity": 0.2
             }
            },
            "type": "histogram"
           }
          ],
          "histogram2d": [
           {
            "colorbar": {
             "outlinewidth": 0,
             "ticks": ""
            },
            "colorscale": [
             [
              0,
              "#0d0887"
             ],
             [
              0.1111111111111111,
              "#46039f"
             ],
             [
              0.2222222222222222,
              "#7201a8"
             ],
             [
              0.3333333333333333,
              "#9c179e"
             ],
             [
              0.4444444444444444,
              "#bd3786"
             ],
             [
              0.5555555555555556,
              "#d8576b"
             ],
             [
              0.6666666666666666,
              "#ed7953"
             ],
             [
              0.7777777777777778,
              "#fb9f3a"
             ],
             [
              0.8888888888888888,
              "#fdca26"
             ],
             [
              1,
              "#f0f921"
             ]
            ],
            "type": "histogram2d"
           }
          ],
          "histogram2dcontour": [
           {
            "colorbar": {
             "outlinewidth": 0,
             "ticks": ""
            },
            "colorscale": [
             [
              0,
              "#0d0887"
             ],
             [
              0.1111111111111111,
              "#46039f"
             ],
             [
              0.2222222222222222,
              "#7201a8"
             ],
             [
              0.3333333333333333,
              "#9c179e"
             ],
             [
              0.4444444444444444,
              "#bd3786"
             ],
             [
              0.5555555555555556,
              "#d8576b"
             ],
             [
              0.6666666666666666,
              "#ed7953"
             ],
             [
              0.7777777777777778,
              "#fb9f3a"
             ],
             [
              0.8888888888888888,
              "#fdca26"
             ],
             [
              1,
              "#f0f921"
             ]
            ],
            "type": "histogram2dcontour"
           }
          ],
          "mesh3d": [
           {
            "colorbar": {
             "outlinewidth": 0,
             "ticks": ""
            },
            "type": "mesh3d"
           }
          ],
          "parcoords": [
           {
            "line": {
             "colorbar": {
              "outlinewidth": 0,
              "ticks": ""
             }
            },
            "type": "parcoords"
           }
          ],
          "pie": [
           {
            "automargin": true,
            "type": "pie"
           }
          ],
          "scatter": [
           {
            "fillpattern": {
             "fillmode": "overlay",
             "size": 10,
             "solidity": 0.2
            },
            "type": "scatter"
           }
          ],
          "scatter3d": [
           {
            "line": {
             "colorbar": {
              "outlinewidth": 0,
              "ticks": ""
             }
            },
            "marker": {
             "colorbar": {
              "outlinewidth": 0,
              "ticks": ""
             }
            },
            "type": "scatter3d"
           }
          ],
          "scattercarpet": [
           {
            "marker": {
             "colorbar": {
              "outlinewidth": 0,
              "ticks": ""
             }
            },
            "type": "scattercarpet"
           }
          ],
          "scattergeo": [
           {
            "marker": {
             "colorbar": {
              "outlinewidth": 0,
              "ticks": ""
             }
            },
            "type": "scattergeo"
           }
          ],
          "scattergl": [
           {
            "marker": {
             "colorbar": {
              "outlinewidth": 0,
              "ticks": ""
             }
            },
            "type": "scattergl"
           }
          ],
          "scattermap": [
           {
            "marker": {
             "colorbar": {
              "outlinewidth": 0,
              "ticks": ""
             }
            },
            "type": "scattermap"
           }
          ],
          "scattermapbox": [
           {
            "marker": {
             "colorbar": {
              "outlinewidth": 0,
              "ticks": ""
             }
            },
            "type": "scattermapbox"
           }
          ],
          "scatterpolar": [
           {
            "marker": {
             "colorbar": {
              "outlinewidth": 0,
              "ticks": ""
             }
            },
            "type": "scatterpolar"
           }
          ],
          "scatterpolargl": [
           {
            "marker": {
             "colorbar": {
              "outlinewidth": 0,
              "ticks": ""
             }
            },
            "type": "scatterpolargl"
           }
          ],
          "scatterternary": [
           {
            "marker": {
             "colorbar": {
              "outlinewidth": 0,
              "ticks": ""
             }
            },
            "type": "scatterternary"
           }
          ],
          "surface": [
           {
            "colorbar": {
             "outlinewidth": 0,
             "ticks": ""
            },
            "colorscale": [
             [
              0,
              "#0d0887"
             ],
             [
              0.1111111111111111,
              "#46039f"
             ],
             [
              0.2222222222222222,
              "#7201a8"
             ],
             [
              0.3333333333333333,
              "#9c179e"
             ],
             [
              0.4444444444444444,
              "#bd3786"
             ],
             [
              0.5555555555555556,
              "#d8576b"
             ],
             [
              0.6666666666666666,
              "#ed7953"
             ],
             [
              0.7777777777777778,
              "#fb9f3a"
             ],
             [
              0.8888888888888888,
              "#fdca26"
             ],
             [
              1,
              "#f0f921"
             ]
            ],
            "type": "surface"
           }
          ],
          "table": [
           {
            "cells": {
             "fill": {
              "color": "#EBF0F8"
             },
             "line": {
              "color": "white"
             }
            },
            "header": {
             "fill": {
              "color": "#C8D4E3"
             },
             "line": {
              "color": "white"
             }
            },
            "type": "table"
           }
          ]
         },
         "layout": {
          "annotationdefaults": {
           "arrowcolor": "#2a3f5f",
           "arrowhead": 0,
           "arrowwidth": 1
          },
          "autotypenumbers": "strict",
          "coloraxis": {
           "colorbar": {
            "outlinewidth": 0,
            "ticks": ""
           }
          },
          "colorscale": {
           "diverging": [
            [
             0,
             "#8e0152"
            ],
            [
             0.1,
             "#c51b7d"
            ],
            [
             0.2,
             "#de77ae"
            ],
            [
             0.3,
             "#f1b6da"
            ],
            [
             0.4,
             "#fde0ef"
            ],
            [
             0.5,
             "#f7f7f7"
            ],
            [
             0.6,
             "#e6f5d0"
            ],
            [
             0.7,
             "#b8e186"
            ],
            [
             0.8,
             "#7fbc41"
            ],
            [
             0.9,
             "#4d9221"
            ],
            [
             1,
             "#276419"
            ]
           ],
           "sequential": [
            [
             0,
             "#0d0887"
            ],
            [
             0.1111111111111111,
             "#46039f"
            ],
            [
             0.2222222222222222,
             "#7201a8"
            ],
            [
             0.3333333333333333,
             "#9c179e"
            ],
            [
             0.4444444444444444,
             "#bd3786"
            ],
            [
             0.5555555555555556,
             "#d8576b"
            ],
            [
             0.6666666666666666,
             "#ed7953"
            ],
            [
             0.7777777777777778,
             "#fb9f3a"
            ],
            [
             0.8888888888888888,
             "#fdca26"
            ],
            [
             1,
             "#f0f921"
            ]
           ],
           "sequentialminus": [
            [
             0,
             "#0d0887"
            ],
            [
             0.1111111111111111,
             "#46039f"
            ],
            [
             0.2222222222222222,
             "#7201a8"
            ],
            [
             0.3333333333333333,
             "#9c179e"
            ],
            [
             0.4444444444444444,
             "#bd3786"
            ],
            [
             0.5555555555555556,
             "#d8576b"
            ],
            [
             0.6666666666666666,
             "#ed7953"
            ],
            [
             0.7777777777777778,
             "#fb9f3a"
            ],
            [
             0.8888888888888888,
             "#fdca26"
            ],
            [
             1,
             "#f0f921"
            ]
           ]
          },
          "colorway": [
           "#636efa",
           "#EF553B",
           "#00cc96",
           "#ab63fa",
           "#FFA15A",
           "#19d3f3",
           "#FF6692",
           "#B6E880",
           "#FF97FF",
           "#FECB52"
          ],
          "font": {
           "color": "#2a3f5f"
          },
          "geo": {
           "bgcolor": "white",
           "lakecolor": "white",
           "landcolor": "#E5ECF6",
           "showlakes": true,
           "showland": true,
           "subunitcolor": "white"
          },
          "hoverlabel": {
           "align": "left"
          },
          "hovermode": "closest",
          "mapbox": {
           "style": "light"
          },
          "paper_bgcolor": "white",
          "plot_bgcolor": "#E5ECF6",
          "polar": {
           "angularaxis": {
            "gridcolor": "white",
            "linecolor": "white",
            "ticks": ""
           },
           "bgcolor": "#E5ECF6",
           "radialaxis": {
            "gridcolor": "white",
            "linecolor": "white",
            "ticks": ""
           }
          },
          "scene": {
           "xaxis": {
            "backgroundcolor": "#E5ECF6",
            "gridcolor": "white",
            "gridwidth": 2,
            "linecolor": "white",
            "showbackground": true,
            "ticks": "",
            "zerolinecolor": "white"
           },
           "yaxis": {
            "backgroundcolor": "#E5ECF6",
            "gridcolor": "white",
            "gridwidth": 2,
            "linecolor": "white",
            "showbackground": true,
            "ticks": "",
            "zerolinecolor": "white"
           },
           "zaxis": {
            "backgroundcolor": "#E5ECF6",
            "gridcolor": "white",
            "gridwidth": 2,
            "linecolor": "white",
            "showbackground": true,
            "ticks": "",
            "zerolinecolor": "white"
           }
          },
          "shapedefaults": {
           "line": {
            "color": "#2a3f5f"
           }
          },
          "ternary": {
           "aaxis": {
            "gridcolor": "white",
            "linecolor": "white",
            "ticks": ""
           },
           "baxis": {
            "gridcolor": "white",
            "linecolor": "white",
            "ticks": ""
           },
           "bgcolor": "#E5ECF6",
           "caxis": {
            "gridcolor": "white",
            "linecolor": "white",
            "ticks": ""
           }
          },
          "title": {
           "x": 0.05
          },
          "xaxis": {
           "automargin": true,
           "gridcolor": "white",
           "linecolor": "white",
           "ticks": "",
           "title": {
            "standoff": 15
           },
           "zerolinecolor": "white",
           "zerolinewidth": 2
          },
          "yaxis": {
           "automargin": true,
           "gridcolor": "white",
           "linecolor": "white",
           "ticks": "",
           "title": {
            "standoff": 15
           },
           "zerolinecolor": "white",
           "zerolinewidth": 2
          }
         }
        },
        "xaxis": {
         "anchor": "y",
         "domain": [
          0,
          1
         ],
         "title": {
          "text": "Year"
         }
        },
        "yaxis": {
         "anchor": "x",
         "domain": [
          0,
          1
         ],
         "title": {
          "text": "value"
         }
        }
       }
      }
     },
     "metadata": {},
     "output_type": "display_data"
    }
   ],
   "source": [
    "px.line(df.groupby('Year')[['gdp']].agg('max'))"
   ]
  },
  {
   "cell_type": "code",
   "execution_count": 253,
   "id": "2ac0ec99-3677-4a46-904a-c8b1be45d735",
   "metadata": {},
   "outputs": [
    {
     "data": {
      "text/html": [
       "<div>\n",
       "<style scoped>\n",
       "    .dataframe tbody tr th:only-of-type {\n",
       "        vertical-align: middle;\n",
       "    }\n",
       "\n",
       "    .dataframe tbody tr th {\n",
       "        vertical-align: top;\n",
       "    }\n",
       "\n",
       "    .dataframe thead th {\n",
       "        text-align: right;\n",
       "    }\n",
       "</style>\n",
       "<table border=\"1\" class=\"dataframe\">\n",
       "  <thead>\n",
       "    <tr style=\"text-align: right;\">\n",
       "      <th></th>\n",
       "      <th>gdp</th>\n",
       "    </tr>\n",
       "    <tr>\n",
       "      <th>Year</th>\n",
       "      <th></th>\n",
       "    </tr>\n",
       "  </thead>\n",
       "  <tbody>\n",
       "    <tr>\n",
       "      <th>1960</th>\n",
       "      <td>0.098736</td>\n",
       "    </tr>\n",
       "    <tr>\n",
       "      <th>1961</th>\n",
       "      <td>0.103566</td>\n",
       "    </tr>\n",
       "    <tr>\n",
       "      <th>1962</th>\n",
       "      <td>0.108633</td>\n",
       "    </tr>\n",
       "    <tr>\n",
       "      <th>1963</th>\n",
       "      <td>0.114017</td>\n",
       "    </tr>\n",
       "    <tr>\n",
       "      <th>1964</th>\n",
       "      <td>0.119718</td>\n",
       "    </tr>\n",
       "    <tr>\n",
       "      <th>...</th>\n",
       "      <td>...</td>\n",
       "    </tr>\n",
       "    <tr>\n",
       "      <th>2013</th>\n",
       "      <td>0.034409</td>\n",
       "    </tr>\n",
       "    <tr>\n",
       "      <th>2014</th>\n",
       "      <td>0.034873</td>\n",
       "    </tr>\n",
       "    <tr>\n",
       "      <th>2015</th>\n",
       "      <td>0.038061</td>\n",
       "    </tr>\n",
       "    <tr>\n",
       "      <th>2016</th>\n",
       "      <td>0.039216</td>\n",
       "    </tr>\n",
       "    <tr>\n",
       "      <th>2017</th>\n",
       "      <td>0.040487</td>\n",
       "    </tr>\n",
       "  </tbody>\n",
       "</table>\n",
       "<p>58 rows × 1 columns</p>\n",
       "</div>"
      ],
      "text/plain": [
       "           gdp\n",
       "Year          \n",
       "1960  0.098736\n",
       "1961  0.103566\n",
       "1962  0.108633\n",
       "1963  0.114017\n",
       "1964  0.119718\n",
       "...        ...\n",
       "2013  0.034409\n",
       "2014  0.034873\n",
       "2015  0.038061\n",
       "2016  0.039216\n",
       "2017  0.040487\n",
       "\n",
       "[58 rows x 1 columns]"
      ]
     },
     "execution_count": 253,
     "metadata": {},
     "output_type": "execute_result"
    }
   ],
   "source": [
    "df.groupby('Year')[['gdp']].agg('min')"
   ]
  },
  {
   "cell_type": "code",
   "execution_count": 254,
   "id": "cb2525f7-adf2-4961-9e4d-21fad96e966d",
   "metadata": {},
   "outputs": [
    {
     "data": {
      "text/html": [
       "<div>\n",
       "<style scoped>\n",
       "    .dataframe tbody tr th:only-of-type {\n",
       "        vertical-align: middle;\n",
       "    }\n",
       "\n",
       "    .dataframe tbody tr th {\n",
       "        vertical-align: top;\n",
       "    }\n",
       "\n",
       "    .dataframe thead th {\n",
       "        text-align: right;\n",
       "    }\n",
       "</style>\n",
       "<table border=\"1\" class=\"dataframe\">\n",
       "  <thead>\n",
       "    <tr style=\"text-align: right;\">\n",
       "      <th></th>\n",
       "      <th>gdp</th>\n",
       "    </tr>\n",
       "    <tr>\n",
       "      <th>Year</th>\n",
       "      <th></th>\n",
       "    </tr>\n",
       "  </thead>\n",
       "  <tbody>\n",
       "    <tr>\n",
       "      <th>1960</th>\n",
       "      <td>0.098736</td>\n",
       "    </tr>\n",
       "    <tr>\n",
       "      <th>1961</th>\n",
       "      <td>0.103566</td>\n",
       "    </tr>\n",
       "    <tr>\n",
       "      <th>1962</th>\n",
       "      <td>0.108633</td>\n",
       "    </tr>\n",
       "    <tr>\n",
       "      <th>1963</th>\n",
       "      <td>0.114017</td>\n",
       "    </tr>\n",
       "    <tr>\n",
       "      <th>1964</th>\n",
       "      <td>0.119718</td>\n",
       "    </tr>\n",
       "    <tr>\n",
       "      <th>...</th>\n",
       "      <td>...</td>\n",
       "    </tr>\n",
       "    <tr>\n",
       "      <th>2013</th>\n",
       "      <td>0.034409</td>\n",
       "    </tr>\n",
       "    <tr>\n",
       "      <th>2014</th>\n",
       "      <td>0.034873</td>\n",
       "    </tr>\n",
       "    <tr>\n",
       "      <th>2015</th>\n",
       "      <td>0.038061</td>\n",
       "    </tr>\n",
       "    <tr>\n",
       "      <th>2016</th>\n",
       "      <td>0.039216</td>\n",
       "    </tr>\n",
       "    <tr>\n",
       "      <th>2017</th>\n",
       "      <td>0.040487</td>\n",
       "    </tr>\n",
       "  </tbody>\n",
       "</table>\n",
       "<p>58 rows × 1 columns</p>\n",
       "</div>"
      ],
      "text/plain": [
       "           gdp\n",
       "Year          \n",
       "1960  0.098736\n",
       "1961  0.103566\n",
       "1962  0.108633\n",
       "1963  0.114017\n",
       "1964  0.119718\n",
       "...        ...\n",
       "2013  0.034409\n",
       "2014  0.034873\n",
       "2015  0.038061\n",
       "2016  0.039216\n",
       "2017  0.040487\n",
       "\n",
       "[58 rows x 1 columns]"
      ]
     },
     "execution_count": 254,
     "metadata": {},
     "output_type": "execute_result"
    }
   ],
   "source": [
    "df.groupby('Year')[['gdp']].agg('min')"
   ]
  },
  {
   "cell_type": "code",
   "execution_count": 255,
   "id": "7b6aa4c2-20f7-49ce-bdf8-b481fed6fcda",
   "metadata": {},
   "outputs": [
    {
     "data": {
      "application/vnd.plotly.v1+json": {
       "config": {
        "plotlyServerURL": "https://plot.ly"
       },
       "data": [
        {
         "hovertemplate": "variable=gdp<br>Year=%{x}<br>value=%{y}<extra></extra>",
         "legendgroup": "gdp",
         "line": {
          "color": "#636efa",
          "dash": "solid"
         },
         "marker": {
          "symbol": "circle"
         },
         "mode": "lines",
         "name": "gdp",
         "orientation": "v",
         "showlegend": true,
         "type": "scatter",
         "x": {
          "bdata": "qAepB6oHqwesB60HrgevB7AHsQeyB7MHtAe1B7YHtwe4B7kHuge7B7wHvQe+B78HwAfBB8IHwwfEB8UHxgfHB8gHyQfKB8sHzAfNB84HzwfQB9EH0gfTB9QH1QfWB9cH2AfZB9oH2wfcB90H3gffB+AH4Qc=",
          "dtype": "i2"
         },
         "xaxis": "x",
         "y": {
          "bdata": "aSkegbtGuT+8AJJxTIO6P3/iO6Vgz7s/b5ocqj4wvT87xLwZ2aW+Pw4FKWxYFMA/3/lZ2LrYwD+XU9NC/XTBP9NKyUjol8I/FprjtxQgwz84uUif44C/Pz41K8UyyL4/NgZ4XQhAwT/NGBWBa9vEP73ILumOPsY/O0hwnkaNxD+bPoqfOq/GPyVYwwIhTcY/JL8PXJ+Jxj8szOdJNu3DPwyhDh0eo8A/gpbKwA06sj+wLEc/exuzP8kYE3QNErY/+oL/K3zstj8vIvXZRn21Py8jm3Vtw7o/JO9nd/pEvT8ftFsnnIy/PwQkjj78A78/F9JeC+L0lT+DIDD7v7+WP7RagqIqYpc/phUyRj1YmD/ZHiGBIdmaPyVciForgZk/IkzbJfH7lz+ideFXImKaP0/XB3sbeZ4/pyzuQh3/nT93R3+xlLSdP773Ag7ZMJ4/fj9q3C1JoD8Ma8tkZXyfP5R0kahnD58/HUMLAN3inT83UAmygoaeP0+PPBs5aJ4/YFegnh+HoT+Er5NLN8CgPwrVbxcsS6A/uUzg6quEoT/Dhi4vqdigP9nvYzEJnqE/hvog6NPaoT/ft0wJvHyjP+Gl8uEjFKQ/bUwKLMO6pD8=",
          "dtype": "f8"
         },
         "yaxis": "y"
        }
       ],
       "layout": {
        "legend": {
         "title": {
          "text": "variable"
         },
         "tracegroupgap": 0
        },
        "margin": {
         "t": 60
        },
        "template": {
         "data": {
          "bar": [
           {
            "error_x": {
             "color": "#2a3f5f"
            },
            "error_y": {
             "color": "#2a3f5f"
            },
            "marker": {
             "line": {
              "color": "#E5ECF6",
              "width": 0.5
             },
             "pattern": {
              "fillmode": "overlay",
              "size": 10,
              "solidity": 0.2
             }
            },
            "type": "bar"
           }
          ],
          "barpolar": [
           {
            "marker": {
             "line": {
              "color": "#E5ECF6",
              "width": 0.5
             },
             "pattern": {
              "fillmode": "overlay",
              "size": 10,
              "solidity": 0.2
             }
            },
            "type": "barpolar"
           }
          ],
          "carpet": [
           {
            "aaxis": {
             "endlinecolor": "#2a3f5f",
             "gridcolor": "white",
             "linecolor": "white",
             "minorgridcolor": "white",
             "startlinecolor": "#2a3f5f"
            },
            "baxis": {
             "endlinecolor": "#2a3f5f",
             "gridcolor": "white",
             "linecolor": "white",
             "minorgridcolor": "white",
             "startlinecolor": "#2a3f5f"
            },
            "type": "carpet"
           }
          ],
          "choropleth": [
           {
            "colorbar": {
             "outlinewidth": 0,
             "ticks": ""
            },
            "type": "choropleth"
           }
          ],
          "contour": [
           {
            "colorbar": {
             "outlinewidth": 0,
             "ticks": ""
            },
            "colorscale": [
             [
              0,
              "#0d0887"
             ],
             [
              0.1111111111111111,
              "#46039f"
             ],
             [
              0.2222222222222222,
              "#7201a8"
             ],
             [
              0.3333333333333333,
              "#9c179e"
             ],
             [
              0.4444444444444444,
              "#bd3786"
             ],
             [
              0.5555555555555556,
              "#d8576b"
             ],
             [
              0.6666666666666666,
              "#ed7953"
             ],
             [
              0.7777777777777778,
              "#fb9f3a"
             ],
             [
              0.8888888888888888,
              "#fdca26"
             ],
             [
              1,
              "#f0f921"
             ]
            ],
            "type": "contour"
           }
          ],
          "contourcarpet": [
           {
            "colorbar": {
             "outlinewidth": 0,
             "ticks": ""
            },
            "type": "contourcarpet"
           }
          ],
          "heatmap": [
           {
            "colorbar": {
             "outlinewidth": 0,
             "ticks": ""
            },
            "colorscale": [
             [
              0,
              "#0d0887"
             ],
             [
              0.1111111111111111,
              "#46039f"
             ],
             [
              0.2222222222222222,
              "#7201a8"
             ],
             [
              0.3333333333333333,
              "#9c179e"
             ],
             [
              0.4444444444444444,
              "#bd3786"
             ],
             [
              0.5555555555555556,
              "#d8576b"
             ],
             [
              0.6666666666666666,
              "#ed7953"
             ],
             [
              0.7777777777777778,
              "#fb9f3a"
             ],
             [
              0.8888888888888888,
              "#fdca26"
             ],
             [
              1,
              "#f0f921"
             ]
            ],
            "type": "heatmap"
           }
          ],
          "histogram": [
           {
            "marker": {
             "pattern": {
              "fillmode": "overlay",
              "size": 10,
              "solidity": 0.2
             }
            },
            "type": "histogram"
           }
          ],
          "histogram2d": [
           {
            "colorbar": {
             "outlinewidth": 0,
             "ticks": ""
            },
            "colorscale": [
             [
              0,
              "#0d0887"
             ],
             [
              0.1111111111111111,
              "#46039f"
             ],
             [
              0.2222222222222222,
              "#7201a8"
             ],
             [
              0.3333333333333333,
              "#9c179e"
             ],
             [
              0.4444444444444444,
              "#bd3786"
             ],
             [
              0.5555555555555556,
              "#d8576b"
             ],
             [
              0.6666666666666666,
              "#ed7953"
             ],
             [
              0.7777777777777778,
              "#fb9f3a"
             ],
             [
              0.8888888888888888,
              "#fdca26"
             ],
             [
              1,
              "#f0f921"
             ]
            ],
            "type": "histogram2d"
           }
          ],
          "histogram2dcontour": [
           {
            "colorbar": {
             "outlinewidth": 0,
             "ticks": ""
            },
            "colorscale": [
             [
              0,
              "#0d0887"
             ],
             [
              0.1111111111111111,
              "#46039f"
             ],
             [
              0.2222222222222222,
              "#7201a8"
             ],
             [
              0.3333333333333333,
              "#9c179e"
             ],
             [
              0.4444444444444444,
              "#bd3786"
             ],
             [
              0.5555555555555556,
              "#d8576b"
             ],
             [
              0.6666666666666666,
              "#ed7953"
             ],
             [
              0.7777777777777778,
              "#fb9f3a"
             ],
             [
              0.8888888888888888,
              "#fdca26"
             ],
             [
              1,
              "#f0f921"
             ]
            ],
            "type": "histogram2dcontour"
           }
          ],
          "mesh3d": [
           {
            "colorbar": {
             "outlinewidth": 0,
             "ticks": ""
            },
            "type": "mesh3d"
           }
          ],
          "parcoords": [
           {
            "line": {
             "colorbar": {
              "outlinewidth": 0,
              "ticks": ""
             }
            },
            "type": "parcoords"
           }
          ],
          "pie": [
           {
            "automargin": true,
            "type": "pie"
           }
          ],
          "scatter": [
           {
            "fillpattern": {
             "fillmode": "overlay",
             "size": 10,
             "solidity": 0.2
            },
            "type": "scatter"
           }
          ],
          "scatter3d": [
           {
            "line": {
             "colorbar": {
              "outlinewidth": 0,
              "ticks": ""
             }
            },
            "marker": {
             "colorbar": {
              "outlinewidth": 0,
              "ticks": ""
             }
            },
            "type": "scatter3d"
           }
          ],
          "scattercarpet": [
           {
            "marker": {
             "colorbar": {
              "outlinewidth": 0,
              "ticks": ""
             }
            },
            "type": "scattercarpet"
           }
          ],
          "scattergeo": [
           {
            "marker": {
             "colorbar": {
              "outlinewidth": 0,
              "ticks": ""
             }
            },
            "type": "scattergeo"
           }
          ],
          "scattergl": [
           {
            "marker": {
             "colorbar": {
              "outlinewidth": 0,
              "ticks": ""
             }
            },
            "type": "scattergl"
           }
          ],
          "scattermap": [
           {
            "marker": {
             "colorbar": {
              "outlinewidth": 0,
              "ticks": ""
             }
            },
            "type": "scattermap"
           }
          ],
          "scattermapbox": [
           {
            "marker": {
             "colorbar": {
              "outlinewidth": 0,
              "ticks": ""
             }
            },
            "type": "scattermapbox"
           }
          ],
          "scatterpolar": [
           {
            "marker": {
             "colorbar": {
              "outlinewidth": 0,
              "ticks": ""
             }
            },
            "type": "scatterpolar"
           }
          ],
          "scatterpolargl": [
           {
            "marker": {
             "colorbar": {
              "outlinewidth": 0,
              "ticks": ""
             }
            },
            "type": "scatterpolargl"
           }
          ],
          "scatterternary": [
           {
            "marker": {
             "colorbar": {
              "outlinewidth": 0,
              "ticks": ""
             }
            },
            "type": "scatterternary"
           }
          ],
          "surface": [
           {
            "colorbar": {
             "outlinewidth": 0,
             "ticks": ""
            },
            "colorscale": [
             [
              0,
              "#0d0887"
             ],
             [
              0.1111111111111111,
              "#46039f"
             ],
             [
              0.2222222222222222,
              "#7201a8"
             ],
             [
              0.3333333333333333,
              "#9c179e"
             ],
             [
              0.4444444444444444,
              "#bd3786"
             ],
             [
              0.5555555555555556,
              "#d8576b"
             ],
             [
              0.6666666666666666,
              "#ed7953"
             ],
             [
              0.7777777777777778,
              "#fb9f3a"
             ],
             [
              0.8888888888888888,
              "#fdca26"
             ],
             [
              1,
              "#f0f921"
             ]
            ],
            "type": "surface"
           }
          ],
          "table": [
           {
            "cells": {
             "fill": {
              "color": "#EBF0F8"
             },
             "line": {
              "color": "white"
             }
            },
            "header": {
             "fill": {
              "color": "#C8D4E3"
             },
             "line": {
              "color": "white"
             }
            },
            "type": "table"
           }
          ]
         },
         "layout": {
          "annotationdefaults": {
           "arrowcolor": "#2a3f5f",
           "arrowhead": 0,
           "arrowwidth": 1
          },
          "autotypenumbers": "strict",
          "coloraxis": {
           "colorbar": {
            "outlinewidth": 0,
            "ticks": ""
           }
          },
          "colorscale": {
           "diverging": [
            [
             0,
             "#8e0152"
            ],
            [
             0.1,
             "#c51b7d"
            ],
            [
             0.2,
             "#de77ae"
            ],
            [
             0.3,
             "#f1b6da"
            ],
            [
             0.4,
             "#fde0ef"
            ],
            [
             0.5,
             "#f7f7f7"
            ],
            [
             0.6,
             "#e6f5d0"
            ],
            [
             0.7,
             "#b8e186"
            ],
            [
             0.8,
             "#7fbc41"
            ],
            [
             0.9,
             "#4d9221"
            ],
            [
             1,
             "#276419"
            ]
           ],
           "sequential": [
            [
             0,
             "#0d0887"
            ],
            [
             0.1111111111111111,
             "#46039f"
            ],
            [
             0.2222222222222222,
             "#7201a8"
            ],
            [
             0.3333333333333333,
             "#9c179e"
            ],
            [
             0.4444444444444444,
             "#bd3786"
            ],
            [
             0.5555555555555556,
             "#d8576b"
            ],
            [
             0.6666666666666666,
             "#ed7953"
            ],
            [
             0.7777777777777778,
             "#fb9f3a"
            ],
            [
             0.8888888888888888,
             "#fdca26"
            ],
            [
             1,
             "#f0f921"
            ]
           ],
           "sequentialminus": [
            [
             0,
             "#0d0887"
            ],
            [
             0.1111111111111111,
             "#46039f"
            ],
            [
             0.2222222222222222,
             "#7201a8"
            ],
            [
             0.3333333333333333,
             "#9c179e"
            ],
            [
             0.4444444444444444,
             "#bd3786"
            ],
            [
             0.5555555555555556,
             "#d8576b"
            ],
            [
             0.6666666666666666,
             "#ed7953"
            ],
            [
             0.7777777777777778,
             "#fb9f3a"
            ],
            [
             0.8888888888888888,
             "#fdca26"
            ],
            [
             1,
             "#f0f921"
            ]
           ]
          },
          "colorway": [
           "#636efa",
           "#EF553B",
           "#00cc96",
           "#ab63fa",
           "#FFA15A",
           "#19d3f3",
           "#FF6692",
           "#B6E880",
           "#FF97FF",
           "#FECB52"
          ],
          "font": {
           "color": "#2a3f5f"
          },
          "geo": {
           "bgcolor": "white",
           "lakecolor": "white",
           "landcolor": "#E5ECF6",
           "showlakes": true,
           "showland": true,
           "subunitcolor": "white"
          },
          "hoverlabel": {
           "align": "left"
          },
          "hovermode": "closest",
          "mapbox": {
           "style": "light"
          },
          "paper_bgcolor": "white",
          "plot_bgcolor": "#E5ECF6",
          "polar": {
           "angularaxis": {
            "gridcolor": "white",
            "linecolor": "white",
            "ticks": ""
           },
           "bgcolor": "#E5ECF6",
           "radialaxis": {
            "gridcolor": "white",
            "linecolor": "white",
            "ticks": ""
           }
          },
          "scene": {
           "xaxis": {
            "backgroundcolor": "#E5ECF6",
            "gridcolor": "white",
            "gridwidth": 2,
            "linecolor": "white",
            "showbackground": true,
            "ticks": "",
            "zerolinecolor": "white"
           },
           "yaxis": {
            "backgroundcolor": "#E5ECF6",
            "gridcolor": "white",
            "gridwidth": 2,
            "linecolor": "white",
            "showbackground": true,
            "ticks": "",
            "zerolinecolor": "white"
           },
           "zaxis": {
            "backgroundcolor": "#E5ECF6",
            "gridcolor": "white",
            "gridwidth": 2,
            "linecolor": "white",
            "showbackground": true,
            "ticks": "",
            "zerolinecolor": "white"
           }
          },
          "shapedefaults": {
           "line": {
            "color": "#2a3f5f"
           }
          },
          "ternary": {
           "aaxis": {
            "gridcolor": "white",
            "linecolor": "white",
            "ticks": ""
           },
           "baxis": {
            "gridcolor": "white",
            "linecolor": "white",
            "ticks": ""
           },
           "bgcolor": "#E5ECF6",
           "caxis": {
            "gridcolor": "white",
            "linecolor": "white",
            "ticks": ""
           }
          },
          "title": {
           "x": 0.05
          },
          "xaxis": {
           "automargin": true,
           "gridcolor": "white",
           "linecolor": "white",
           "ticks": "",
           "title": {
            "standoff": 15
           },
           "zerolinecolor": "white",
           "zerolinewidth": 2
          },
          "yaxis": {
           "automargin": true,
           "gridcolor": "white",
           "linecolor": "white",
           "ticks": "",
           "title": {
            "standoff": 15
           },
           "zerolinecolor": "white",
           "zerolinewidth": 2
          }
         }
        },
        "xaxis": {
         "anchor": "y",
         "domain": [
          0,
          1
         ],
         "title": {
          "text": "Year"
         }
        },
        "yaxis": {
         "anchor": "x",
         "domain": [
          0,
          1
         ],
         "title": {
          "text": "value"
         }
        }
       }
      }
     },
     "metadata": {},
     "output_type": "display_data"
    }
   ],
   "source": [
    "px.line(df.groupby('Year')[['gdp']].agg('min'))"
   ]
  },
  {
   "cell_type": "code",
   "execution_count": 256,
   "id": "ef816510-de15-4253-bbe2-812811066750",
   "metadata": {},
   "outputs": [
    {
     "data": {
      "text/html": [
       "<div>\n",
       "<style scoped>\n",
       "    .dataframe tbody tr th:only-of-type {\n",
       "        vertical-align: middle;\n",
       "    }\n",
       "\n",
       "    .dataframe tbody tr th {\n",
       "        vertical-align: top;\n",
       "    }\n",
       "\n",
       "    .dataframe thead th {\n",
       "        text-align: right;\n",
       "    }\n",
       "</style>\n",
       "<table border=\"1\" class=\"dataframe\">\n",
       "  <thead>\n",
       "    <tr style=\"text-align: right;\">\n",
       "      <th></th>\n",
       "      <th>gdp</th>\n",
       "    </tr>\n",
       "    <tr>\n",
       "      <th>Year</th>\n",
       "      <th></th>\n",
       "    </tr>\n",
       "  </thead>\n",
       "  <tbody>\n",
       "    <tr>\n",
       "      <th>1960</th>\n",
       "      <td>31174.904577</td>\n",
       "    </tr>\n",
       "    <tr>\n",
       "      <th>1961</th>\n",
       "      <td>30404.457057</td>\n",
       "    </tr>\n",
       "    <tr>\n",
       "      <th>1962</th>\n",
       "      <td>30754.422037</td>\n",
       "    </tr>\n",
       "    <tr>\n",
       "      <th>1963</th>\n",
       "      <td>30591.375224</td>\n",
       "    </tr>\n",
       "    <tr>\n",
       "      <th>1964</th>\n",
       "      <td>30824.487623</td>\n",
       "    </tr>\n",
       "    <tr>\n",
       "      <th>...</th>\n",
       "      <td>...</td>\n",
       "    </tr>\n",
       "    <tr>\n",
       "      <th>2013</th>\n",
       "      <td>459267.263374</td>\n",
       "    </tr>\n",
       "    <tr>\n",
       "      <th>2014</th>\n",
       "      <td>464801.557315</td>\n",
       "    </tr>\n",
       "    <tr>\n",
       "      <th>2015</th>\n",
       "      <td>438051.587561</td>\n",
       "    </tr>\n",
       "    <tr>\n",
       "      <th>2016</th>\n",
       "      <td>431463.180414</td>\n",
       "    </tr>\n",
       "    <tr>\n",
       "      <th>2017</th>\n",
       "      <td>427416.705791</td>\n",
       "    </tr>\n",
       "  </tbody>\n",
       "</table>\n",
       "<p>58 rows × 1 columns</p>\n",
       "</div>"
      ],
      "text/plain": [
       "                gdp\n",
       "Year               \n",
       "1960   31174.904577\n",
       "1961   30404.457057\n",
       "1962   30754.422037\n",
       "1963   30591.375224\n",
       "1964   30824.487623\n",
       "...             ...\n",
       "2013  459267.263374\n",
       "2014  464801.557315\n",
       "2015  438051.587561\n",
       "2016  431463.180414\n",
       "2017  427416.705791\n",
       "\n",
       "[58 rows x 1 columns]"
      ]
     },
     "execution_count": 256,
     "metadata": {},
     "output_type": "execute_result"
    }
   ],
   "source": [
    "largest_gdps = df.groupby('Year')[['gdp']].agg('max')\n",
    "smallest_gdps = df.groupby('Year')[['gdp']].agg('min')\n",
    "\n",
    "ratio_largest_to_smallest = largest_gdps / smallest_gdps\n",
    "ratio_largest_to_smallest"
   ]
  },
  {
   "cell_type": "code",
   "execution_count": 257,
   "id": "422d28f0-c1e0-4f25-abf4-7f31a0e4fa33",
   "metadata": {},
   "outputs": [
    {
     "data": {
      "text/html": [
       "<div>\n",
       "<style scoped>\n",
       "    .dataframe tbody tr th:only-of-type {\n",
       "        vertical-align: middle;\n",
       "    }\n",
       "\n",
       "    .dataframe tbody tr th {\n",
       "        vertical-align: top;\n",
       "    }\n",
       "\n",
       "    .dataframe thead th {\n",
       "        text-align: right;\n",
       "    }\n",
       "</style>\n",
       "<table border=\"1\" class=\"dataframe\">\n",
       "  <thead>\n",
       "    <tr style=\"text-align: right;\">\n",
       "      <th></th>\n",
       "      <th>gdp</th>\n",
       "    </tr>\n",
       "    <tr>\n",
       "      <th>Year</th>\n",
       "      <th></th>\n",
       "    </tr>\n",
       "  </thead>\n",
       "  <tbody>\n",
       "    <tr>\n",
       "      <th>1960</th>\n",
       "      <td>31174.904577</td>\n",
       "    </tr>\n",
       "    <tr>\n",
       "      <th>1961</th>\n",
       "      <td>30404.457057</td>\n",
       "    </tr>\n",
       "    <tr>\n",
       "      <th>1962</th>\n",
       "      <td>30754.422037</td>\n",
       "    </tr>\n",
       "    <tr>\n",
       "      <th>1963</th>\n",
       "      <td>30591.375224</td>\n",
       "    </tr>\n",
       "    <tr>\n",
       "      <th>1964</th>\n",
       "      <td>30824.487623</td>\n",
       "    </tr>\n",
       "    <tr>\n",
       "      <th>...</th>\n",
       "      <td>...</td>\n",
       "    </tr>\n",
       "    <tr>\n",
       "      <th>2013</th>\n",
       "      <td>459267.263374</td>\n",
       "    </tr>\n",
       "    <tr>\n",
       "      <th>2014</th>\n",
       "      <td>464801.557315</td>\n",
       "    </tr>\n",
       "    <tr>\n",
       "      <th>2015</th>\n",
       "      <td>438051.587561</td>\n",
       "    </tr>\n",
       "    <tr>\n",
       "      <th>2016</th>\n",
       "      <td>431463.180414</td>\n",
       "    </tr>\n",
       "    <tr>\n",
       "      <th>2017</th>\n",
       "      <td>427416.705791</td>\n",
       "    </tr>\n",
       "  </tbody>\n",
       "</table>\n",
       "<p>58 rows × 1 columns</p>\n",
       "</div>"
      ],
      "text/plain": [
       "                gdp\n",
       "Year               \n",
       "1960   31174.904577\n",
       "1961   30404.457057\n",
       "1962   30754.422037\n",
       "1963   30591.375224\n",
       "1964   30824.487623\n",
       "...             ...\n",
       "2013  459267.263374\n",
       "2014  464801.557315\n",
       "2015  438051.587561\n",
       "2016  431463.180414\n",
       "2017  427416.705791\n",
       "\n",
       "[58 rows x 1 columns]"
      ]
     },
     "execution_count": 257,
     "metadata": {},
     "output_type": "execute_result"
    }
   ],
   "source": [
    "def ratio_of_largest_to_smallest(s):\n",
    "    largest_value = max(s)\n",
    "    smallest_value = min(s)\n",
    "\n",
    "    return largest_value / smallest_value\n",
    "\n",
    "ratio_largest_to_smallest_2 = df.groupby('Year')[['gdp']].agg(ratio_of_largest_to_smallest)\n",
    "ratio_largest_to_smallest_2"
   ]
  },
  {
   "cell_type": "code",
   "execution_count": 258,
   "id": "dbe44ce1-f0c9-4fb4-ac7c-1a6f6a2a5805",
   "metadata": {},
   "outputs": [
    {
     "data": {
      "text/plain": [
       "gdp    True\n",
       "dtype: bool"
      ]
     },
     "execution_count": 258,
     "metadata": {},
     "output_type": "execute_result"
    }
   ],
   "source": [
    "(ratio_largest_to_smallest_2 == ratio_largest_to_smallest).agg('all')"
   ]
  },
  {
   "cell_type": "code",
   "execution_count": 259,
   "id": "1256de25-d6d9-4def-b660-d747eb224da2",
   "metadata": {},
   "outputs": [
    {
     "data": {
      "text/html": [
       "<div>\n",
       "<style scoped>\n",
       "    .dataframe tbody tr th:only-of-type {\n",
       "        vertical-align: middle;\n",
       "    }\n",
       "\n",
       "    .dataframe tbody tr th {\n",
       "        vertical-align: top;\n",
       "    }\n",
       "\n",
       "    .dataframe thead th {\n",
       "        text-align: right;\n",
       "    }\n",
       "</style>\n",
       "<table border=\"1\" class=\"dataframe\">\n",
       "  <thead>\n",
       "    <tr style=\"text-align: right;\">\n",
       "      <th></th>\n",
       "      <th>Entity</th>\n",
       "      <th>Code</th>\n",
       "      <th>GDP (constant 2010 US$)</th>\n",
       "      <th>gdp</th>\n",
       "    </tr>\n",
       "    <tr>\n",
       "      <th>Year</th>\n",
       "      <th></th>\n",
       "      <th></th>\n",
       "      <th></th>\n",
       "      <th></th>\n",
       "    </tr>\n",
       "  </thead>\n",
       "  <tbody>\n",
       "    <tr>\n",
       "      <th>1960</th>\n",
       "      <td>Belize</td>\n",
       "      <td>BLZ</td>\n",
       "      <td>9.873554e+07</td>\n",
       "      <td>0.098736</td>\n",
       "    </tr>\n",
       "    <tr>\n",
       "      <th>1961</th>\n",
       "      <td>Belize</td>\n",
       "      <td>BLZ</td>\n",
       "      <td>1.035660e+08</td>\n",
       "      <td>0.103566</td>\n",
       "    </tr>\n",
       "    <tr>\n",
       "      <th>1962</th>\n",
       "      <td>Belize</td>\n",
       "      <td>BLZ</td>\n",
       "      <td>1.086331e+08</td>\n",
       "      <td>0.108633</td>\n",
       "    </tr>\n",
       "    <tr>\n",
       "      <th>1963</th>\n",
       "      <td>Belize</td>\n",
       "      <td>BLZ</td>\n",
       "      <td>1.140174e+08</td>\n",
       "      <td>0.114017</td>\n",
       "    </tr>\n",
       "    <tr>\n",
       "      <th>1964</th>\n",
       "      <td>Belize</td>\n",
       "      <td>BLZ</td>\n",
       "      <td>1.197181e+08</td>\n",
       "      <td>0.119718</td>\n",
       "    </tr>\n",
       "    <tr>\n",
       "      <th>...</th>\n",
       "      <td>...</td>\n",
       "      <td>...</td>\n",
       "      <td>...</td>\n",
       "      <td>...</td>\n",
       "    </tr>\n",
       "    <tr>\n",
       "      <th>2013</th>\n",
       "      <td>Tuvalu</td>\n",
       "      <td>TUV</td>\n",
       "      <td>3.440884e+07</td>\n",
       "      <td>0.034409</td>\n",
       "    </tr>\n",
       "    <tr>\n",
       "      <th>2014</th>\n",
       "      <td>Tuvalu</td>\n",
       "      <td>TUV</td>\n",
       "      <td>3.487265e+07</td>\n",
       "      <td>0.034873</td>\n",
       "    </tr>\n",
       "    <tr>\n",
       "      <th>2015</th>\n",
       "      <td>Tuvalu</td>\n",
       "      <td>TUV</td>\n",
       "      <td>3.806102e+07</td>\n",
       "      <td>0.038061</td>\n",
       "    </tr>\n",
       "    <tr>\n",
       "      <th>2016</th>\n",
       "      <td>Tuvalu</td>\n",
       "      <td>TUV</td>\n",
       "      <td>3.921616e+07</td>\n",
       "      <td>0.039216</td>\n",
       "    </tr>\n",
       "    <tr>\n",
       "      <th>2017</th>\n",
       "      <td>Tuvalu</td>\n",
       "      <td>TUV</td>\n",
       "      <td>4.048738e+07</td>\n",
       "      <td>0.040487</td>\n",
       "    </tr>\n",
       "  </tbody>\n",
       "</table>\n",
       "<p>58 rows × 4 columns</p>\n",
       "</div>"
      ],
      "text/plain": [
       "      Entity Code  GDP (constant 2010 US$)       gdp\n",
       "Year                                                \n",
       "1960  Belize  BLZ             9.873554e+07  0.098736\n",
       "1961  Belize  BLZ             1.035660e+08  0.103566\n",
       "1962  Belize  BLZ             1.086331e+08  0.108633\n",
       "1963  Belize  BLZ             1.140174e+08  0.114017\n",
       "1964  Belize  BLZ             1.197181e+08  0.119718\n",
       "...      ...  ...                      ...       ...\n",
       "2013  Tuvalu  TUV             3.440884e+07  0.034409\n",
       "2014  Tuvalu  TUV             3.487265e+07  0.034873\n",
       "2015  Tuvalu  TUV             3.806102e+07  0.038061\n",
       "2016  Tuvalu  TUV             3.921616e+07  0.039216\n",
       "2017  Tuvalu  TUV             4.048738e+07  0.040487\n",
       "\n",
       "[58 rows x 4 columns]"
      ]
     },
     "execution_count": 259,
     "metadata": {},
     "output_type": "execute_result"
    }
   ],
   "source": [
    "# This gives us the min gdp per year, but it doesn't tell us which country it's attributed to\n",
    "# That's because the aggregate function is applied separately to each column, so you can't use a given row\n",
    "df.groupby('Year').agg('min')\n",
    "\n",
    "# In order to keep the relevant columns, we need to sort by gdp and pick the first row\n",
    "def get_first_item(s):\n",
    "    return s.iloc[0]\n",
    "\n",
    "df.sort_values('gdp').groupby('Year').agg(get_first_item)"
   ]
  },
  {
   "cell_type": "code",
   "execution_count": 260,
   "id": "d81f9d74-23dc-40a9-af2d-f6dfba8478a5",
   "metadata": {},
   "outputs": [
    {
     "data": {
      "text/html": [
       "<div>\n",
       "<style scoped>\n",
       "    .dataframe tbody tr th:only-of-type {\n",
       "        vertical-align: middle;\n",
       "    }\n",
       "\n",
       "    .dataframe tbody tr th {\n",
       "        vertical-align: top;\n",
       "    }\n",
       "\n",
       "    .dataframe thead th {\n",
       "        text-align: right;\n",
       "    }\n",
       "</style>\n",
       "<table border=\"1\" class=\"dataframe\">\n",
       "  <thead>\n",
       "    <tr style=\"text-align: right;\">\n",
       "      <th></th>\n",
       "      <th>Entity</th>\n",
       "      <th>Code</th>\n",
       "      <th>GDP (constant 2010 US$)</th>\n",
       "      <th>gdp</th>\n",
       "    </tr>\n",
       "    <tr>\n",
       "      <th>Year</th>\n",
       "      <th></th>\n",
       "      <th></th>\n",
       "      <th></th>\n",
       "      <th></th>\n",
       "    </tr>\n",
       "  </thead>\n",
       "  <tbody>\n",
       "    <tr>\n",
       "      <th>1960</th>\n",
       "      <td>Belize</td>\n",
       "      <td>BLZ</td>\n",
       "      <td>9.873554e+07</td>\n",
       "      <td>0.098736</td>\n",
       "    </tr>\n",
       "    <tr>\n",
       "      <th>1961</th>\n",
       "      <td>Belize</td>\n",
       "      <td>BLZ</td>\n",
       "      <td>1.035660e+08</td>\n",
       "      <td>0.103566</td>\n",
       "    </tr>\n",
       "    <tr>\n",
       "      <th>1962</th>\n",
       "      <td>Belize</td>\n",
       "      <td>BLZ</td>\n",
       "      <td>1.086331e+08</td>\n",
       "      <td>0.108633</td>\n",
       "    </tr>\n",
       "    <tr>\n",
       "      <th>1963</th>\n",
       "      <td>Belize</td>\n",
       "      <td>BLZ</td>\n",
       "      <td>1.140174e+08</td>\n",
       "      <td>0.114017</td>\n",
       "    </tr>\n",
       "    <tr>\n",
       "      <th>1964</th>\n",
       "      <td>Belize</td>\n",
       "      <td>BLZ</td>\n",
       "      <td>1.197181e+08</td>\n",
       "      <td>0.119718</td>\n",
       "    </tr>\n",
       "    <tr>\n",
       "      <th>...</th>\n",
       "      <td>...</td>\n",
       "      <td>...</td>\n",
       "      <td>...</td>\n",
       "      <td>...</td>\n",
       "    </tr>\n",
       "    <tr>\n",
       "      <th>2013</th>\n",
       "      <td>Tuvalu</td>\n",
       "      <td>TUV</td>\n",
       "      <td>3.440884e+07</td>\n",
       "      <td>0.034409</td>\n",
       "    </tr>\n",
       "    <tr>\n",
       "      <th>2014</th>\n",
       "      <td>Tuvalu</td>\n",
       "      <td>TUV</td>\n",
       "      <td>3.487265e+07</td>\n",
       "      <td>0.034873</td>\n",
       "    </tr>\n",
       "    <tr>\n",
       "      <th>2015</th>\n",
       "      <td>Tuvalu</td>\n",
       "      <td>TUV</td>\n",
       "      <td>3.806102e+07</td>\n",
       "      <td>0.038061</td>\n",
       "    </tr>\n",
       "    <tr>\n",
       "      <th>2016</th>\n",
       "      <td>Tuvalu</td>\n",
       "      <td>TUV</td>\n",
       "      <td>3.921616e+07</td>\n",
       "      <td>0.039216</td>\n",
       "    </tr>\n",
       "    <tr>\n",
       "      <th>2017</th>\n",
       "      <td>Tuvalu</td>\n",
       "      <td>TUV</td>\n",
       "      <td>4.048738e+07</td>\n",
       "      <td>0.040487</td>\n",
       "    </tr>\n",
       "  </tbody>\n",
       "</table>\n",
       "<p>58 rows × 4 columns</p>\n",
       "</div>"
      ],
      "text/plain": [
       "      Entity Code  GDP (constant 2010 US$)       gdp\n",
       "Year                                                \n",
       "1960  Belize  BLZ             9.873554e+07  0.098736\n",
       "1961  Belize  BLZ             1.035660e+08  0.103566\n",
       "1962  Belize  BLZ             1.086331e+08  0.108633\n",
       "1963  Belize  BLZ             1.140174e+08  0.114017\n",
       "1964  Belize  BLZ             1.197181e+08  0.119718\n",
       "...      ...  ...                      ...       ...\n",
       "2013  Tuvalu  TUV             3.440884e+07  0.034409\n",
       "2014  Tuvalu  TUV             3.487265e+07  0.034873\n",
       "2015  Tuvalu  TUV             3.806102e+07  0.038061\n",
       "2016  Tuvalu  TUV             3.921616e+07  0.039216\n",
       "2017  Tuvalu  TUV             4.048738e+07  0.040487\n",
       "\n",
       "[58 rows x 4 columns]"
      ]
     },
     "execution_count": 260,
     "metadata": {},
     "output_type": "execute_result"
    }
   ],
   "source": [
    "# built-in way to do the above:\n",
    "\n",
    "df.sort_values('gdp').groupby('Year').first()"
   ]
  },
  {
   "cell_type": "code",
   "execution_count": 261,
   "id": "257e8df7-04df-42cb-99f4-d4aec7368198",
   "metadata": {},
   "outputs": [
    {
     "data": {
      "text/html": [
       "<div>\n",
       "<style scoped>\n",
       "    .dataframe tbody tr th:only-of-type {\n",
       "        vertical-align: middle;\n",
       "    }\n",
       "\n",
       "    .dataframe tbody tr th {\n",
       "        vertical-align: top;\n",
       "    }\n",
       "\n",
       "    .dataframe thead th {\n",
       "        text-align: right;\n",
       "    }\n",
       "</style>\n",
       "<table border=\"1\" class=\"dataframe\">\n",
       "  <thead>\n",
       "    <tr style=\"text-align: right;\">\n",
       "      <th></th>\n",
       "      <th>gdp</th>\n",
       "    </tr>\n",
       "    <tr>\n",
       "      <th>Year</th>\n",
       "      <th></th>\n",
       "    </tr>\n",
       "  </thead>\n",
       "  <tbody>\n",
       "    <tr>\n",
       "      <th>1960</th>\n",
       "      <td>0.098736</td>\n",
       "    </tr>\n",
       "    <tr>\n",
       "      <th>1961</th>\n",
       "      <td>0.103566</td>\n",
       "    </tr>\n",
       "    <tr>\n",
       "      <th>1962</th>\n",
       "      <td>0.108633</td>\n",
       "    </tr>\n",
       "    <tr>\n",
       "      <th>1963</th>\n",
       "      <td>0.114017</td>\n",
       "    </tr>\n",
       "    <tr>\n",
       "      <th>1964</th>\n",
       "      <td>0.119718</td>\n",
       "    </tr>\n",
       "    <tr>\n",
       "      <th>...</th>\n",
       "      <td>...</td>\n",
       "    </tr>\n",
       "    <tr>\n",
       "      <th>2013</th>\n",
       "      <td>0.034409</td>\n",
       "    </tr>\n",
       "    <tr>\n",
       "      <th>2014</th>\n",
       "      <td>0.034873</td>\n",
       "    </tr>\n",
       "    <tr>\n",
       "      <th>2015</th>\n",
       "      <td>0.038061</td>\n",
       "    </tr>\n",
       "    <tr>\n",
       "      <th>2016</th>\n",
       "      <td>0.039216</td>\n",
       "    </tr>\n",
       "    <tr>\n",
       "      <th>2017</th>\n",
       "      <td>0.040487</td>\n",
       "    </tr>\n",
       "  </tbody>\n",
       "</table>\n",
       "<p>58 rows × 1 columns</p>\n",
       "</div>"
      ],
      "text/plain": [
       "           gdp\n",
       "Year          \n",
       "1960  0.098736\n",
       "1961  0.103566\n",
       "1962  0.108633\n",
       "1963  0.114017\n",
       "1964  0.119718\n",
       "...        ...\n",
       "2013  0.034409\n",
       "2014  0.034873\n",
       "2015  0.038061\n",
       "2016  0.039216\n",
       "2017  0.040487\n",
       "\n",
       "[58 rows x 1 columns]"
      ]
     },
     "execution_count": 261,
     "metadata": {},
     "output_type": "execute_result"
    }
   ],
   "source": [
    "df.groupby('Year').agg({'gdp': 'min'})"
   ]
  },
  {
   "cell_type": "code",
   "execution_count": 262,
   "id": "531aa5f4-d76c-4418-9724-31b8e726f394",
   "metadata": {},
   "outputs": [
    {
     "data": {
      "text/html": [
       "<div>\n",
       "<style scoped>\n",
       "    .dataframe tbody tr th:only-of-type {\n",
       "        vertical-align: middle;\n",
       "    }\n",
       "\n",
       "    .dataframe tbody tr th {\n",
       "        vertical-align: top;\n",
       "    }\n",
       "\n",
       "    .dataframe thead th {\n",
       "        text-align: right;\n",
       "    }\n",
       "</style>\n",
       "<table border=\"1\" class=\"dataframe\">\n",
       "  <thead>\n",
       "    <tr style=\"text-align: right;\">\n",
       "      <th></th>\n",
       "      <th>Code</th>\n",
       "      <th>Entity</th>\n",
       "      <th>GDP (constant 2010 US$)</th>\n",
       "      <th>gdp</th>\n",
       "    </tr>\n",
       "    <tr>\n",
       "      <th>Year</th>\n",
       "      <th></th>\n",
       "      <th></th>\n",
       "      <th></th>\n",
       "      <th></th>\n",
       "    </tr>\n",
       "  </thead>\n",
       "  <tbody>\n",
       "    <tr>\n",
       "      <th>1960</th>\n",
       "      <td>NaN</td>\n",
       "      <td>NaN</td>\n",
       "      <td>0.014175</td>\n",
       "      <td>0.014175</td>\n",
       "    </tr>\n",
       "    <tr>\n",
       "      <th>1961</th>\n",
       "      <td>NaN</td>\n",
       "      <td>NaN</td>\n",
       "      <td>0.009863</td>\n",
       "      <td>0.009863</td>\n",
       "    </tr>\n",
       "    <tr>\n",
       "      <th>1962</th>\n",
       "      <td>NaN</td>\n",
       "      <td>NaN</td>\n",
       "      <td>0.008822</td>\n",
       "      <td>0.008822</td>\n",
       "    </tr>\n",
       "    <tr>\n",
       "      <th>1963</th>\n",
       "      <td>NaN</td>\n",
       "      <td>NaN</td>\n",
       "      <td>0.009249</td>\n",
       "      <td>0.009249</td>\n",
       "    </tr>\n",
       "    <tr>\n",
       "      <th>1964</th>\n",
       "      <td>NaN</td>\n",
       "      <td>NaN</td>\n",
       "      <td>0.010247</td>\n",
       "      <td>0.010247</td>\n",
       "    </tr>\n",
       "    <tr>\n",
       "      <th>...</th>\n",
       "      <td>...</td>\n",
       "      <td>...</td>\n",
       "      <td>...</td>\n",
       "      <td>...</td>\n",
       "    </tr>\n",
       "    <tr>\n",
       "      <th>2013</th>\n",
       "      <td>NaN</td>\n",
       "      <td>NaN</td>\n",
       "      <td>0.109462</td>\n",
       "      <td>0.109462</td>\n",
       "    </tr>\n",
       "    <tr>\n",
       "      <th>2014</th>\n",
       "      <td>NaN</td>\n",
       "      <td>NaN</td>\n",
       "      <td>0.114206</td>\n",
       "      <td>0.114206</td>\n",
       "    </tr>\n",
       "    <tr>\n",
       "      <th>2015</th>\n",
       "      <td>NaN</td>\n",
       "      <td>NaN</td>\n",
       "      <td>0.119369</td>\n",
       "      <td>0.119369</td>\n",
       "    </tr>\n",
       "    <tr>\n",
       "      <th>2016</th>\n",
       "      <td>NaN</td>\n",
       "      <td>NaN</td>\n",
       "      <td>0.124385</td>\n",
       "      <td>0.124385</td>\n",
       "    </tr>\n",
       "    <tr>\n",
       "      <th>2017</th>\n",
       "      <td>NaN</td>\n",
       "      <td>NaN</td>\n",
       "      <td>0.129095</td>\n",
       "      <td>0.129095</td>\n",
       "    </tr>\n",
       "  </tbody>\n",
       "</table>\n",
       "<p>58 rows × 4 columns</p>\n",
       "</div>"
      ],
      "text/plain": [
       "      Code  Entity  GDP (constant 2010 US$)       gdp\n",
       "Year                                                 \n",
       "1960   NaN     NaN                 0.014175  0.014175\n",
       "1961   NaN     NaN                 0.009863  0.009863\n",
       "1962   NaN     NaN                 0.008822  0.008822\n",
       "1963   NaN     NaN                 0.009249  0.009249\n",
       "1964   NaN     NaN                 0.010247  0.010247\n",
       "...    ...     ...                      ...       ...\n",
       "2013   NaN     NaN                 0.109462  0.109462\n",
       "2014   NaN     NaN                 0.114206  0.114206\n",
       "2015   NaN     NaN                 0.119369  0.119369\n",
       "2016   NaN     NaN                 0.124385  0.124385\n",
       "2017   NaN     NaN                 0.129095  0.129095\n",
       "\n",
       "[58 rows x 4 columns]"
      ]
     },
     "execution_count": 262,
     "metadata": {},
     "output_type": "execute_result"
    }
   ],
   "source": [
    "# how much of the world gdp did China produce every year\n",
    "total_gdp = df.groupby('Year').sum()[['GDP (constant 2010 US$)', 'gdp']]\n",
    "df.query('Entity == \"China\"').set_index('Year') / total_gdp"
   ]
  },
  {
   "cell_type": "code",
   "execution_count": 263,
   "id": "dca0f8e9-fc00-4b70-af3e-00c309335bbc",
   "metadata": {},
   "outputs": [
    {
     "data": {
      "application/vnd.plotly.v1+json": {
       "config": {
        "plotlyServerURL": "https://plot.ly"
       },
       "data": [
        {
         "hovertemplate": "Year=%{x}<br>gdp=%{y}<extra></extra>",
         "legendgroup": "",
         "line": {
          "color": "#636efa",
          "dash": "solid"
         },
         "marker": {
          "symbol": "circle"
         },
         "mode": "lines",
         "name": "",
         "orientation": "v",
         "showlegend": false,
         "type": "scatter",
         "x": {
          "bdata": "qAepB6oHqwesB60HrgevB7AHsQeyB7MHtAe1B7YHtwe4B7kHuge7B7wHvQe+B78HwAfBB8IHwwfEB8UHxgfHB8gHyQfKB8sHzAfNB84HzwfQB9EH0gfTB9QH1QfWB9cH2AfZB9oH2wfcB90H3gffB+AH4Qc=",
          "dtype": "i2"
         },
         "xaxis": "x",
         "y": {
          "bdata": "16YRsZoHjT97mOP8JDOEPx4JuS42EYI/rKnJbP/wgj8J/IEKcfyEP8rWavdLNYc/YRTkh+g8iD+k9Et7aN6FP4mO9t2ZnoM/RoUH2HqdhT/N+ZJz9TuGPwBx0tVh0YY/39T1ooJlhj96U2bpT6aGP51moH03tIY/ZohJVVRtiD+rRya3tNKGPwLQxM2Hnoc/Qg3vd0RgiT+mPqSJtzeKPyp9LHvCS4s/B2gZ2sUnjD+RvYbHGoyOP/nVsHpSh5A/wxFJ+xEykj/IPLPE7+STP8CwX3wJ+JQ/nNiqDupvlj8eOmV2M9eXPyXB9PdT+pY/mNfNgELIlj8VF5fqEH6YP/fybA7NbZs/Xf9YfF3Bnj9r+5qzFOCgP8PkJpgqHaI/NZ+6KrdBoz9UkrL4pUikP2Ro/8rjVaU/fWDmCt06pj+BJ3gAVhanP+w4TNDMiag/RhsbiH81qj+aCRJF5wasP6yvuxzPjK0/Bu3yHM+0rz+iDRxFHCKxPwlt3/Wvx7I/8eLjfTk5tD84uEXJ84O2PyDI2ro/4rc/cmM/P7ZcuT+DHd0akK+6Px4VuqirBbw/gT7LBZU8vT+rLYDP/46+P9qCLPmq178/DTjMfzOGwD8=",
          "dtype": "f8"
         },
         "yaxis": "y"
        }
       ],
       "layout": {
        "legend": {
         "tracegroupgap": 0
        },
        "margin": {
         "t": 60
        },
        "template": {
         "data": {
          "bar": [
           {
            "error_x": {
             "color": "#2a3f5f"
            },
            "error_y": {
             "color": "#2a3f5f"
            },
            "marker": {
             "line": {
              "color": "#E5ECF6",
              "width": 0.5
             },
             "pattern": {
              "fillmode": "overlay",
              "size": 10,
              "solidity": 0.2
             }
            },
            "type": "bar"
           }
          ],
          "barpolar": [
           {
            "marker": {
             "line": {
              "color": "#E5ECF6",
              "width": 0.5
             },
             "pattern": {
              "fillmode": "overlay",
              "size": 10,
              "solidity": 0.2
             }
            },
            "type": "barpolar"
           }
          ],
          "carpet": [
           {
            "aaxis": {
             "endlinecolor": "#2a3f5f",
             "gridcolor": "white",
             "linecolor": "white",
             "minorgridcolor": "white",
             "startlinecolor": "#2a3f5f"
            },
            "baxis": {
             "endlinecolor": "#2a3f5f",
             "gridcolor": "white",
             "linecolor": "white",
             "minorgridcolor": "white",
             "startlinecolor": "#2a3f5f"
            },
            "type": "carpet"
           }
          ],
          "choropleth": [
           {
            "colorbar": {
             "outlinewidth": 0,
             "ticks": ""
            },
            "type": "choropleth"
           }
          ],
          "contour": [
           {
            "colorbar": {
             "outlinewidth": 0,
             "ticks": ""
            },
            "colorscale": [
             [
              0,
              "#0d0887"
             ],
             [
              0.1111111111111111,
              "#46039f"
             ],
             [
              0.2222222222222222,
              "#7201a8"
             ],
             [
              0.3333333333333333,
              "#9c179e"
             ],
             [
              0.4444444444444444,
              "#bd3786"
             ],
             [
              0.5555555555555556,
              "#d8576b"
             ],
             [
              0.6666666666666666,
              "#ed7953"
             ],
             [
              0.7777777777777778,
              "#fb9f3a"
             ],
             [
              0.8888888888888888,
              "#fdca26"
             ],
             [
              1,
              "#f0f921"
             ]
            ],
            "type": "contour"
           }
          ],
          "contourcarpet": [
           {
            "colorbar": {
             "outlinewidth": 0,
             "ticks": ""
            },
            "type": "contourcarpet"
           }
          ],
          "heatmap": [
           {
            "colorbar": {
             "outlinewidth": 0,
             "ticks": ""
            },
            "colorscale": [
             [
              0,
              "#0d0887"
             ],
             [
              0.1111111111111111,
              "#46039f"
             ],
             [
              0.2222222222222222,
              "#7201a8"
             ],
             [
              0.3333333333333333,
              "#9c179e"
             ],
             [
              0.4444444444444444,
              "#bd3786"
             ],
             [
              0.5555555555555556,
              "#d8576b"
             ],
             [
              0.6666666666666666,
              "#ed7953"
             ],
             [
              0.7777777777777778,
              "#fb9f3a"
             ],
             [
              0.8888888888888888,
              "#fdca26"
             ],
             [
              1,
              "#f0f921"
             ]
            ],
            "type": "heatmap"
           }
          ],
          "histogram": [
           {
            "marker": {
             "pattern": {
              "fillmode": "overlay",
              "size": 10,
              "solidity": 0.2
             }
            },
            "type": "histogram"
           }
          ],
          "histogram2d": [
           {
            "colorbar": {
             "outlinewidth": 0,
             "ticks": ""
            },
            "colorscale": [
             [
              0,
              "#0d0887"
             ],
             [
              0.1111111111111111,
              "#46039f"
             ],
             [
              0.2222222222222222,
              "#7201a8"
             ],
             [
              0.3333333333333333,
              "#9c179e"
             ],
             [
              0.4444444444444444,
              "#bd3786"
             ],
             [
              0.5555555555555556,
              "#d8576b"
             ],
             [
              0.6666666666666666,
              "#ed7953"
             ],
             [
              0.7777777777777778,
              "#fb9f3a"
             ],
             [
              0.8888888888888888,
              "#fdca26"
             ],
             [
              1,
              "#f0f921"
             ]
            ],
            "type": "histogram2d"
           }
          ],
          "histogram2dcontour": [
           {
            "colorbar": {
             "outlinewidth": 0,
             "ticks": ""
            },
            "colorscale": [
             [
              0,
              "#0d0887"
             ],
             [
              0.1111111111111111,
              "#46039f"
             ],
             [
              0.2222222222222222,
              "#7201a8"
             ],
             [
              0.3333333333333333,
              "#9c179e"
             ],
             [
              0.4444444444444444,
              "#bd3786"
             ],
             [
              0.5555555555555556,
              "#d8576b"
             ],
             [
              0.6666666666666666,
              "#ed7953"
             ],
             [
              0.7777777777777778,
              "#fb9f3a"
             ],
             [
              0.8888888888888888,
              "#fdca26"
             ],
             [
              1,
              "#f0f921"
             ]
            ],
            "type": "histogram2dcontour"
           }
          ],
          "mesh3d": [
           {
            "colorbar": {
             "outlinewidth": 0,
             "ticks": ""
            },
            "type": "mesh3d"
           }
          ],
          "parcoords": [
           {
            "line": {
             "colorbar": {
              "outlinewidth": 0,
              "ticks": ""
             }
            },
            "type": "parcoords"
           }
          ],
          "pie": [
           {
            "automargin": true,
            "type": "pie"
           }
          ],
          "scatter": [
           {
            "fillpattern": {
             "fillmode": "overlay",
             "size": 10,
             "solidity": 0.2
            },
            "type": "scatter"
           }
          ],
          "scatter3d": [
           {
            "line": {
             "colorbar": {
              "outlinewidth": 0,
              "ticks": ""
             }
            },
            "marker": {
             "colorbar": {
              "outlinewidth": 0,
              "ticks": ""
             }
            },
            "type": "scatter3d"
           }
          ],
          "scattercarpet": [
           {
            "marker": {
             "colorbar": {
              "outlinewidth": 0,
              "ticks": ""
             }
            },
            "type": "scattercarpet"
           }
          ],
          "scattergeo": [
           {
            "marker": {
             "colorbar": {
              "outlinewidth": 0,
              "ticks": ""
             }
            },
            "type": "scattergeo"
           }
          ],
          "scattergl": [
           {
            "marker": {
             "colorbar": {
              "outlinewidth": 0,
              "ticks": ""
             }
            },
            "type": "scattergl"
           }
          ],
          "scattermap": [
           {
            "marker": {
             "colorbar": {
              "outlinewidth": 0,
              "ticks": ""
             }
            },
            "type": "scattermap"
           }
          ],
          "scattermapbox": [
           {
            "marker": {
             "colorbar": {
              "outlinewidth": 0,
              "ticks": ""
             }
            },
            "type": "scattermapbox"
           }
          ],
          "scatterpolar": [
           {
            "marker": {
             "colorbar": {
              "outlinewidth": 0,
              "ticks": ""
             }
            },
            "type": "scatterpolar"
           }
          ],
          "scatterpolargl": [
           {
            "marker": {
             "colorbar": {
              "outlinewidth": 0,
              "ticks": ""
             }
            },
            "type": "scatterpolargl"
           }
          ],
          "scatterternary": [
           {
            "marker": {
             "colorbar": {
              "outlinewidth": 0,
              "ticks": ""
             }
            },
            "type": "scatterternary"
           }
          ],
          "surface": [
           {
            "colorbar": {
             "outlinewidth": 0,
             "ticks": ""
            },
            "colorscale": [
             [
              0,
              "#0d0887"
             ],
             [
              0.1111111111111111,
              "#46039f"
             ],
             [
              0.2222222222222222,
              "#7201a8"
             ],
             [
              0.3333333333333333,
              "#9c179e"
             ],
             [
              0.4444444444444444,
              "#bd3786"
             ],
             [
              0.5555555555555556,
              "#d8576b"
             ],
             [
              0.6666666666666666,
              "#ed7953"
             ],
             [
              0.7777777777777778,
              "#fb9f3a"
             ],
             [
              0.8888888888888888,
              "#fdca26"
             ],
             [
              1,
              "#f0f921"
             ]
            ],
            "type": "surface"
           }
          ],
          "table": [
           {
            "cells": {
             "fill": {
              "color": "#EBF0F8"
             },
             "line": {
              "color": "white"
             }
            },
            "header": {
             "fill": {
              "color": "#C8D4E3"
             },
             "line": {
              "color": "white"
             }
            },
            "type": "table"
           }
          ]
         },
         "layout": {
          "annotationdefaults": {
           "arrowcolor": "#2a3f5f",
           "arrowhead": 0,
           "arrowwidth": 1
          },
          "autotypenumbers": "strict",
          "coloraxis": {
           "colorbar": {
            "outlinewidth": 0,
            "ticks": ""
           }
          },
          "colorscale": {
           "diverging": [
            [
             0,
             "#8e0152"
            ],
            [
             0.1,
             "#c51b7d"
            ],
            [
             0.2,
             "#de77ae"
            ],
            [
             0.3,
             "#f1b6da"
            ],
            [
             0.4,
             "#fde0ef"
            ],
            [
             0.5,
             "#f7f7f7"
            ],
            [
             0.6,
             "#e6f5d0"
            ],
            [
             0.7,
             "#b8e186"
            ],
            [
             0.8,
             "#7fbc41"
            ],
            [
             0.9,
             "#4d9221"
            ],
            [
             1,
             "#276419"
            ]
           ],
           "sequential": [
            [
             0,
             "#0d0887"
            ],
            [
             0.1111111111111111,
             "#46039f"
            ],
            [
             0.2222222222222222,
             "#7201a8"
            ],
            [
             0.3333333333333333,
             "#9c179e"
            ],
            [
             0.4444444444444444,
             "#bd3786"
            ],
            [
             0.5555555555555556,
             "#d8576b"
            ],
            [
             0.6666666666666666,
             "#ed7953"
            ],
            [
             0.7777777777777778,
             "#fb9f3a"
            ],
            [
             0.8888888888888888,
             "#fdca26"
            ],
            [
             1,
             "#f0f921"
            ]
           ],
           "sequentialminus": [
            [
             0,
             "#0d0887"
            ],
            [
             0.1111111111111111,
             "#46039f"
            ],
            [
             0.2222222222222222,
             "#7201a8"
            ],
            [
             0.3333333333333333,
             "#9c179e"
            ],
            [
             0.4444444444444444,
             "#bd3786"
            ],
            [
             0.5555555555555556,
             "#d8576b"
            ],
            [
             0.6666666666666666,
             "#ed7953"
            ],
            [
             0.7777777777777778,
             "#fb9f3a"
            ],
            [
             0.8888888888888888,
             "#fdca26"
            ],
            [
             1,
             "#f0f921"
            ]
           ]
          },
          "colorway": [
           "#636efa",
           "#EF553B",
           "#00cc96",
           "#ab63fa",
           "#FFA15A",
           "#19d3f3",
           "#FF6692",
           "#B6E880",
           "#FF97FF",
           "#FECB52"
          ],
          "font": {
           "color": "#2a3f5f"
          },
          "geo": {
           "bgcolor": "white",
           "lakecolor": "white",
           "landcolor": "#E5ECF6",
           "showlakes": true,
           "showland": true,
           "subunitcolor": "white"
          },
          "hoverlabel": {
           "align": "left"
          },
          "hovermode": "closest",
          "mapbox": {
           "style": "light"
          },
          "paper_bgcolor": "white",
          "plot_bgcolor": "#E5ECF6",
          "polar": {
           "angularaxis": {
            "gridcolor": "white",
            "linecolor": "white",
            "ticks": ""
           },
           "bgcolor": "#E5ECF6",
           "radialaxis": {
            "gridcolor": "white",
            "linecolor": "white",
            "ticks": ""
           }
          },
          "scene": {
           "xaxis": {
            "backgroundcolor": "#E5ECF6",
            "gridcolor": "white",
            "gridwidth": 2,
            "linecolor": "white",
            "showbackground": true,
            "ticks": "",
            "zerolinecolor": "white"
           },
           "yaxis": {
            "backgroundcolor": "#E5ECF6",
            "gridcolor": "white",
            "gridwidth": 2,
            "linecolor": "white",
            "showbackground": true,
            "ticks": "",
            "zerolinecolor": "white"
           },
           "zaxis": {
            "backgroundcolor": "#E5ECF6",
            "gridcolor": "white",
            "gridwidth": 2,
            "linecolor": "white",
            "showbackground": true,
            "ticks": "",
            "zerolinecolor": "white"
           }
          },
          "shapedefaults": {
           "line": {
            "color": "#2a3f5f"
           }
          },
          "ternary": {
           "aaxis": {
            "gridcolor": "white",
            "linecolor": "white",
            "ticks": ""
           },
           "baxis": {
            "gridcolor": "white",
            "linecolor": "white",
            "ticks": ""
           },
           "bgcolor": "#E5ECF6",
           "caxis": {
            "gridcolor": "white",
            "linecolor": "white",
            "ticks": ""
           }
          },
          "title": {
           "x": 0.05
          },
          "xaxis": {
           "automargin": true,
           "gridcolor": "white",
           "linecolor": "white",
           "ticks": "",
           "title": {
            "standoff": 15
           },
           "zerolinecolor": "white",
           "zerolinewidth": 2
          },
          "yaxis": {
           "automargin": true,
           "gridcolor": "white",
           "linecolor": "white",
           "ticks": "",
           "title": {
            "standoff": 15
           },
           "zerolinecolor": "white",
           "zerolinewidth": 2
          }
         }
        },
        "xaxis": {
         "anchor": "y",
         "domain": [
          0,
          1
         ],
         "title": {
          "text": "Year"
         }
        },
        "yaxis": {
         "anchor": "x",
         "domain": [
          0,
          1
         ],
         "title": {
          "text": "gdp"
         }
        }
       }
      },
      "image/png": "[encoded data removed]"
     },
     "metadata": {},
     "output_type": "display_data"
    }
   ],
   "source": [
    "px.line(df.query('Entity == \"China\"').set_index('Year') / total_gdp, y='gdp')"
   ]
  },
  {
   "cell_type": "code",
   "execution_count": 264,
   "id": "587dfbb0-da48-4d55-a659-9b14989034df",
   "metadata": {},
   "outputs": [
    {
     "data": {
      "text/html": [
       "<div>\n",
       "<style scoped>\n",
       "    .dataframe tbody tr th:only-of-type {\n",
       "        vertical-align: middle;\n",
       "    }\n",
       "\n",
       "    .dataframe tbody tr th {\n",
       "        vertical-align: top;\n",
       "    }\n",
       "\n",
       "    .dataframe thead th {\n",
       "        text-align: right;\n",
       "    }\n",
       "</style>\n",
       "<table border=\"1\" class=\"dataframe\">\n",
       "  <thead>\n",
       "    <tr style=\"text-align: right;\">\n",
       "      <th></th>\n",
       "      <th></th>\n",
       "      <th>Code</th>\n",
       "      <th>GDP (constant 2010 US$)</th>\n",
       "      <th>gdp</th>\n",
       "    </tr>\n",
       "    <tr>\n",
       "      <th>Year</th>\n",
       "      <th>Entity</th>\n",
       "      <th></th>\n",
       "      <th></th>\n",
       "      <th></th>\n",
       "    </tr>\n",
       "  </thead>\n",
       "  <tbody>\n",
       "    <tr>\n",
       "      <th>2002</th>\n",
       "      <th>Afghanistan</th>\n",
       "      <td>NaN</td>\n",
       "      <td>0.000155</td>\n",
       "      <td>0.000155</td>\n",
       "    </tr>\n",
       "    <tr>\n",
       "      <th>2003</th>\n",
       "      <th>Afghanistan</th>\n",
       "      <td>NaN</td>\n",
       "      <td>0.000163</td>\n",
       "      <td>0.000163</td>\n",
       "    </tr>\n",
       "    <tr>\n",
       "      <th>2004</th>\n",
       "      <th>Afghanistan</th>\n",
       "      <td>NaN</td>\n",
       "      <td>0.000158</td>\n",
       "      <td>0.000158</td>\n",
       "    </tr>\n",
       "    <tr>\n",
       "      <th>2005</th>\n",
       "      <th>Afghanistan</th>\n",
       "      <td>NaN</td>\n",
       "      <td>0.000169</td>\n",
       "      <td>0.000169</td>\n",
       "    </tr>\n",
       "    <tr>\n",
       "      <th>2006</th>\n",
       "      <th>Afghanistan</th>\n",
       "      <td>NaN</td>\n",
       "      <td>0.000171</td>\n",
       "      <td>0.000171</td>\n",
       "    </tr>\n",
       "    <tr>\n",
       "      <th>...</th>\n",
       "      <th>...</th>\n",
       "      <td>...</td>\n",
       "      <td>...</td>\n",
       "      <td>...</td>\n",
       "    </tr>\n",
       "    <tr>\n",
       "      <th>2013</th>\n",
       "      <th>Zimbabwe</th>\n",
       "      <td>NaN</td>\n",
       "      <td>0.000200</td>\n",
       "      <td>0.000200</td>\n",
       "    </tr>\n",
       "    <tr>\n",
       "      <th>2014</th>\n",
       "      <th>Zimbabwe</th>\n",
       "      <td>NaN</td>\n",
       "      <td>0.000198</td>\n",
       "      <td>0.000198</td>\n",
       "    </tr>\n",
       "    <tr>\n",
       "      <th>2015</th>\n",
       "      <th>Zimbabwe</th>\n",
       "      <td>NaN</td>\n",
       "      <td>0.000197</td>\n",
       "      <td>0.000197</td>\n",
       "    </tr>\n",
       "    <tr>\n",
       "      <th>2016</th>\n",
       "      <th>Zimbabwe</th>\n",
       "      <td>NaN</td>\n",
       "      <td>0.000194</td>\n",
       "      <td>0.000194</td>\n",
       "    </tr>\n",
       "    <tr>\n",
       "      <th>2017</th>\n",
       "      <th>Zimbabwe</th>\n",
       "      <td>NaN</td>\n",
       "      <td>0.000195</td>\n",
       "      <td>0.000195</td>\n",
       "    </tr>\n",
       "  </tbody>\n",
       "</table>\n",
       "<p>8869 rows × 3 columns</p>\n",
       "</div>"
      ],
      "text/plain": [
       "                  Code  GDP (constant 2010 US$)       gdp\n",
       "Year Entity                                              \n",
       "2002 Afghanistan   NaN                 0.000155  0.000155\n",
       "2003 Afghanistan   NaN                 0.000163  0.000163\n",
       "2004 Afghanistan   NaN                 0.000158  0.000158\n",
       "2005 Afghanistan   NaN                 0.000169  0.000169\n",
       "2006 Afghanistan   NaN                 0.000171  0.000171\n",
       "...                ...                      ...       ...\n",
       "2013 Zimbabwe      NaN                 0.000200  0.000200\n",
       "2014 Zimbabwe      NaN                 0.000198  0.000198\n",
       "2015 Zimbabwe      NaN                 0.000197  0.000197\n",
       "2016 Zimbabwe      NaN                 0.000194  0.000194\n",
       "2017 Zimbabwe      NaN                 0.000195  0.000195\n",
       "\n",
       "[8869 rows x 3 columns]"
      ]
     },
     "execution_count": 264,
     "metadata": {},
     "output_type": "execute_result"
    }
   ],
   "source": [
    "# how much each country contributed to gdp each year\n",
    "share_of_world_economy = df.set_index(['Year', 'Entity']) / total_gdp\n",
    "share_of_world_economy"
   ]
  },
  {
   "cell_type": "code",
   "execution_count": 265,
   "id": "612a0b57-b249-4670-81b9-09eb886b1ca7",
   "metadata": {},
   "outputs": [
    {
     "data": {
      "text/html": [
       "<div>\n",
       "<style scoped>\n",
       "    .dataframe tbody tr th:only-of-type {\n",
       "        vertical-align: middle;\n",
       "    }\n",
       "\n",
       "    .dataframe tbody tr th {\n",
       "        vertical-align: top;\n",
       "    }\n",
       "\n",
       "    .dataframe thead th {\n",
       "        text-align: right;\n",
       "    }\n",
       "</style>\n",
       "<table border=\"1\" class=\"dataframe\">\n",
       "  <thead>\n",
       "    <tr style=\"text-align: right;\">\n",
       "      <th></th>\n",
       "      <th>Year</th>\n",
       "      <th>Entity</th>\n",
       "      <th>Code</th>\n",
       "      <th>GDP (constant 2010 US$)</th>\n",
       "      <th>gdp</th>\n",
       "    </tr>\n",
       "  </thead>\n",
       "  <tbody>\n",
       "    <tr>\n",
       "      <th>0</th>\n",
       "      <td>2002</td>\n",
       "      <td>Afghanistan</td>\n",
       "      <td>NaN</td>\n",
       "      <td>0.000155</td>\n",
       "      <td>0.000155</td>\n",
       "    </tr>\n",
       "    <tr>\n",
       "      <th>1</th>\n",
       "      <td>2003</td>\n",
       "      <td>Afghanistan</td>\n",
       "      <td>NaN</td>\n",
       "      <td>0.000163</td>\n",
       "      <td>0.000163</td>\n",
       "    </tr>\n",
       "    <tr>\n",
       "      <th>2</th>\n",
       "      <td>2004</td>\n",
       "      <td>Afghanistan</td>\n",
       "      <td>NaN</td>\n",
       "      <td>0.000158</td>\n",
       "      <td>0.000158</td>\n",
       "    </tr>\n",
       "    <tr>\n",
       "      <th>3</th>\n",
       "      <td>2005</td>\n",
       "      <td>Afghanistan</td>\n",
       "      <td>NaN</td>\n",
       "      <td>0.000169</td>\n",
       "      <td>0.000169</td>\n",
       "    </tr>\n",
       "    <tr>\n",
       "      <th>4</th>\n",
       "      <td>2006</td>\n",
       "      <td>Afghanistan</td>\n",
       "      <td>NaN</td>\n",
       "      <td>0.000171</td>\n",
       "      <td>0.000171</td>\n",
       "    </tr>\n",
       "    <tr>\n",
       "      <th>...</th>\n",
       "      <td>...</td>\n",
       "      <td>...</td>\n",
       "      <td>...</td>\n",
       "      <td>...</td>\n",
       "      <td>...</td>\n",
       "    </tr>\n",
       "    <tr>\n",
       "      <th>8864</th>\n",
       "      <td>2013</td>\n",
       "      <td>Zimbabwe</td>\n",
       "      <td>NaN</td>\n",
       "      <td>0.000200</td>\n",
       "      <td>0.000200</td>\n",
       "    </tr>\n",
       "    <tr>\n",
       "      <th>8865</th>\n",
       "      <td>2014</td>\n",
       "      <td>Zimbabwe</td>\n",
       "      <td>NaN</td>\n",
       "      <td>0.000198</td>\n",
       "      <td>0.000198</td>\n",
       "    </tr>\n",
       "    <tr>\n",
       "      <th>8866</th>\n",
       "      <td>2015</td>\n",
       "      <td>Zimbabwe</td>\n",
       "      <td>NaN</td>\n",
       "      <td>0.000197</td>\n",
       "      <td>0.000197</td>\n",
       "    </tr>\n",
       "    <tr>\n",
       "      <th>8867</th>\n",
       "      <td>2016</td>\n",
       "      <td>Zimbabwe</td>\n",
       "      <td>NaN</td>\n",
       "      <td>0.000194</td>\n",
       "      <td>0.000194</td>\n",
       "    </tr>\n",
       "    <tr>\n",
       "      <th>8868</th>\n",
       "      <td>2017</td>\n",
       "      <td>Zimbabwe</td>\n",
       "      <td>NaN</td>\n",
       "      <td>0.000195</td>\n",
       "      <td>0.000195</td>\n",
       "    </tr>\n",
       "  </tbody>\n",
       "</table>\n",
       "<p>8869 rows × 5 columns</p>\n",
       "</div>"
      ],
      "text/plain": [
       "      Year       Entity  Code  GDP (constant 2010 US$)       gdp\n",
       "0     2002  Afghanistan   NaN                 0.000155  0.000155\n",
       "1     2003  Afghanistan   NaN                 0.000163  0.000163\n",
       "2     2004  Afghanistan   NaN                 0.000158  0.000158\n",
       "3     2005  Afghanistan   NaN                 0.000169  0.000169\n",
       "4     2006  Afghanistan   NaN                 0.000171  0.000171\n",
       "...    ...          ...   ...                      ...       ...\n",
       "8864  2013     Zimbabwe   NaN                 0.000200  0.000200\n",
       "8865  2014     Zimbabwe   NaN                 0.000198  0.000198\n",
       "8866  2015     Zimbabwe   NaN                 0.000197  0.000197\n",
       "8867  2016     Zimbabwe   NaN                 0.000194  0.000194\n",
       "8868  2017     Zimbabwe   NaN                 0.000195  0.000195\n",
       "\n",
       "[8869 rows x 5 columns]"
      ]
     },
     "execution_count": 265,
     "metadata": {},
     "output_type": "execute_result"
    }
   ],
   "source": [
    "share_of_world_economy = share_of_world_economy.reset_index()\n",
    "share_of_world_economy"
   ]
  },
  {
   "cell_type": "code",
   "execution_count": 266,
   "id": "59b13809-6094-4d93-9832-309c9239a0a1",
   "metadata": {},
   "outputs": [
    {
     "data": {
      "application/vnd.plotly.v1+json": {
       "config": {
        "plotlyServerURL": "https://plot.ly"
       },
       "data": [
        {
         "hovertemplate": "Entity=Afghanistan<br>Year=%{x}<br>gdp=%{y}<extra></extra>",
         "legendgroup": "Afghanistan",
         "line": {
          "color": "#636efa",
          "dash": "solid"
         },
         "marker": {
          "symbol": "circle"
         },
         "mode": "lines",
         "name": "Afghanistan",
         "showlegend": true,
         "type": "scattergl",
         "x": {
          "bdata": "0gfTB9QH1QfWB9cH2AfZB9oH2wfcB90H3gffB+AH4Qc=",
          "dtype": "i2"
         },
         "xaxis": "x",
         "y": {
          "bdata": "BGhp6s1TJD/XOkOySGwlPyFr9rPFuiQ/rHf9v7syJj/I1yntMHcmP2hai0DehCg/vAf2UdXyKD/CztVL9rkuP+Iod8De8S8/yNlMDVtuMD8Nrj681FcyP63aos58kjI/3EVd3o2LMj+Pi8utuV4yPxvQcn5KXTI/6LnTtd9KMj8=",
          "dtype": "f8"
         },
         "yaxis": "y"
        },
        {
         "hovertemplate": "Entity=Albania<br>Year=%{x}<br>gdp=%{y}<extra></extra>",
         "legendgroup": "Albania",
         "line": {
          "color": "#EF553B",
          "dash": "solid"
         },
         "marker": {
          "symbol": "circle"
         },
         "mode": "lines",
         "name": "Albania",
         "showlegend": true,
         "type": "scattergl",
         "x": {
          "bdata": "vAe9B74HvwfAB8EHwgfDB8QHxQfGB8cHyAfJB8oHywfMB80HzgfPB9AH0QfSB9MH1AfVB9YH1wfYB9kH2gfbB9wH3QfeB98H4AfhBw==",
          "dtype": "i2"
         },
         "xaxis": "x",
         "y": {
          "bdata": "bT2FGnrcLD/EqFbupO4tPy2d4X3LsC4/qsHKjOxLLj8aBwbZr5osP8taPD02Dyw/X/e8vrOtLD+pTJt3NUIrPwolv74rqyk/wnZmoNwUKj+KRYzMB4EmP2pq50geLB8/VC53hCldHD8YWJpbnZweP9eQUisrFyA/SwlekDCjIT9jt1xd35siP/Uc/aMGACA/HL8igDMDIT95ZDDtpa8iP+EvTwCRFCM/fOQK2mk0JD8QKxhjj5wkPy+wzqwCMCU/ZaNzQClyJT83dmDQrNYlP7CUoIVsEyY/KOORYtFuJj9ftc+H29smP49+UfrpCig/evgF7D3oJz9niOTYj8QnP3h3qkIRhCc/3VMtJiYlJz9WHphyuecmP7Y0LGx05CY/nChsDhEbJz+BDfyncEsnPw==",
          "dtype": "f8"
         },
         "yaxis": "y"
        },
        {
         "hovertemplate": "Entity=Algeria<br>Year=%{x}<br>gdp=%{y}<extra></extra>",
         "legendgroup": "Algeria",
         "line": {
          "color": "#00cc96",
          "dash": "solid"
         },
         "marker": {
          "symbol": "circle"
         },
         "mode": "lines",
         "name": "Algeria",
         "showlegend": true,
         "type": "scattergl",
         "x": {
          "bdata": "qAepB6oHqwesB60HrgevB7AHsQeyB7MHtAe1B7YHtwe4B7kHuge7B7wHvQe+B78HwAfBB8IHwwfEB8UHxgfHB8gHyQfKB8sHzAfNB84HzwfQB9EH0gfTB9QH1QfWB9cH2AfZB9oH2wfcB90H3gffB+AH4Qc=",
          "dtype": "i2"
         },
         "xaxis": "x",
         "y": {
          "bdata": "kB5/ZGHmaD+vAkqi1pRkP88JxAMxUV8/kUZEBH/9Yz+iawgI3NVjP3JTj3it62M/PdJPdwzmYT+NV5hTDsJiP6c1aVhYcWM/PTy17LfcYz8XDxNawKRiPwk3gpk6sV8/FQQxXW4XYz9ujnvKo5liP8pQzSvzlmM/1NsBWDBdZD8genLzlPNkP5XKdtxrN2U/MoTXI0hLZj/7BjKJ3gFnP1VwDRAIZWY/a/644mOfZj+LagMPNflnP8pSlVvIq2g/KQZ6dbroaD/edlA0O+VoP+aVD7ToLmg/e7YSQpoBZz8dgHGbscFlPwru7VApA2U/2qrhoOQ1ZD8pAweiNKRjP2chEKrpmmM/VkezJm3mYj+R0FBmXS5iPzHg21YPQmI/wGfLHXxhYj9SHDEbhOthPykb5snhXmI/3Ozmr7dYYj836W0szTtiPw9BIzQHbWI/7D6r854LYz/d1NZbjNdjP2XDedsE0WM/ZvSnLAg3ZD80g9qmXrVjP70rDsydjGM//xQjEsymYz9mDBBKQVNkP0P0sB0oMmQ/lLpreiQlZD/YbkI/01BkPz14aw5fWGQ/k36NL2qIZD+sRWyp39RkP29VQ0vaA2U/5AgbVgDAZD8=",
          "dtype": "f8"
         },
         "yaxis": "y"
        },
        {
         "hovertemplate": "Entity=American Samoa<br>Year=%{x}<br>gdp=%{y}<extra></extra>",
         "legendgroup": "American Samoa",
         "line": {
          "color": "#ab63fa",
          "dash": "solid"
         },
         "marker": {
          "symbol": "circle"
         },
         "mode": "lines",
         "name": "American Samoa",
         "showlegend": true,
         "type": "scattergl",
         "x": {
          "bdata": "0gfTB9QH1QfWB9cH2AfZB9oH2wfcB90H3gffB+AH",
          "dtype": "i2"
         },
         "xaxis": "x",
         "y": {
          "bdata": "FyjoHwhN6T461F3f2snoPpUA2akH3ec+I9McjJ3k5j7XHfr8/QjlPjLZ8AKslOQ+qZjFseSu4z4pd1+zpC7jPjNwehEieeI+qIlbkhz24T4mnb1JpsDgPtdkTmUDwN8+If7ShjEq3z4LVMgHBtrePsiNowUIV90+",
          "dtype": "f8"
         },
         "yaxis": "y"
        },
        {
         "hovertemplate": "Entity=Andorra<br>Year=%{x}<br>gdp=%{y}<extra></extra>",
         "legendgroup": "Andorra",
         "line": {
          "color": "#FFA15A",
          "dash": "solid"
         },
         "marker": {
          "symbol": "circle"
         },
         "mode": "lines",
         "name": "Andorra",
         "showlegend": true,
         "type": "scattergl",
         "x": {
          "bdata": "sgezB7QHtQe2B7cHuAe5B7oHuwe8B70Hvge/B8AHwQfCB8MHxAfFB8YHxwfIB8kHygfLB8wHzQfOB88H0AfRB9IH0wfUB9UH1gfXB9gH2QfaB9sH3AfdB94H3wfgB+EH",
          "dtype": "i2"
         },
         "xaxis": "x",
         "y": {
          "bdata": "YEqhPuIpDz9GmrkX+UIPP0ybtRmR9w8/JvidhB8rED+eGymKO7sQPw1yV0yspRA/j7lzHP5SED+6lj3rjSYQP2zVvHpciA8//XgjDDpKDj8sOfvM8OUNP/I1VZG1SA0/OmLoypCHDT+o2wR/m1cNP5R1Mp8Ujgw/67WtQ/IoDD86Xc3xuiEMP1DpEOI/cgw/Y69JD6KODD8Rg6bibLELP5gU9N+TbAs/d49Rs5SpCz/043aYB2ALPwdJ9fC/rQo/lCis3JiDCj+OjF1R3FsKPyUp3kIarQo/mnon3ZkODD9CkKv1vz0MP4fFOSEtcww/1bXXiwYyDD/VCC65FOsMP4Pkga5qIg4/IM0rvrlsED9LZgGGC+4QP7GZsoldgxE/vSbhwZ+NET/QaV8rntkQP+NG2I+gQA4/FiG5/JemDT8m/wob0ecKPzbRQWIc3wg/mhTc4RffBz929AuTFVgHP3zhdBxhNwc/CvGsfxLkBj8deqAQ9MYGP+N/uLQ3hwY/",
          "dtype": "f8"
         },
         "yaxis": "y"
        },
        {
         "hovertemplate": "Entity=Angola<br>Year=%{x}<br>gdp=%{y}<extra></extra>",
         "legendgroup": "Angola",
         "line": {
          "color": "#19d3f3",
          "dash": "solid"
         },
         "marker": {
          "symbol": "circle"
         },
         "mode": "lines",
         "name": "Angola",
         "showlegend": true,
         "type": "scattergl",
         "x": {
          "bdata": "vAe9B74HvwfAB8EHwgfDB8QHxQfGB8cHyAfJB8oHywfMB80HzgfPB9AH0QfSB9MH1AfVB9YH1wfYB9kH2gfbB9wH3QfeB98H4AfhBw==",
          "dtype": "i2"
         },
         "xaxis": "x",
         "y": {
          "bdata": "NfkXDEGpSj8v7a2oYf9IP5Q4K8iX5Ug/KElty15UST8r8AkBvqtJPyRP5oF4m0k/Qf5CzH9+ST8q/GA/6GtJPxaEbk6WxUk/mDGMgeLZRz+x5uAnQ/lFP17eCGwe1EU/SIH850YnRD/kYH4O8Ss+Pw34rSkCrj0/wODq9bmCQD/JXXwEMCFCP8+YjqkqwUI/1d8NJcImQz+tgo0wAvBCP9fgydqnrkI/xSXX0UgZQz/Lw22LLz9FPytyLXi4lkU/Enh6csnJRj/g/FrE7IlKP6MInBTqRk4/SQshTRXlUT9u9wJpewBUP0jKV8+x2FQ/EN7U33itVD+xC+iIg9JUPwr9Uz5qXVU/d4M6xYs+Vj/U9/5Nu6VWP2yGFHTFzlY/yF06ZacXVj/RiVUUm5pVPw==",
          "dtype": "f8"
         },
         "yaxis": "y"
        },
        {
         "hovertemplate": "Entity=Antigua and Barbuda<br>Year=%{x}<br>gdp=%{y}<extra></extra>",
         "legendgroup": "Antigua and Barbuda",
         "line": {
          "color": "#FF6692",
          "dash": "solid"
         },
         "marker": {
          "symbol": "circle"
         },
         "mode": "lines",
         "name": "Antigua and Barbuda",
         "showlegend": true,
         "type": "scattergl",
         "x": {
          "bdata": "uQe6B7sHvAe9B74HvwfAB8EHwgfDB8QHxQfGB8cHyAfJB8oHywfMB80HzgfPB9AH0QfSB9MH1AfVB9YH1wfYB9kH2gfbB9wH3QfeB98H4AfhBw==",
          "dtype": "i2"
         },
         "xaxis": "x",
         "y": {
          "bdata": "NCs8M0Og7T5kO2jL7cDtPoEAl9ah4O4+2TCBuGgg8D55Ku72bWvwPlvDESv5VvA+165sSzfP8D7zu9aHj7TxPmaNlXdbXvI+c+OnNZDQ8z4633DDuT30Pm5d3zfPV/Q+Yhu/crfO8z6zKUqsOnjzPgzHutdwkfM++IaFO6po8z4BR6OiEh/0PmAL1a7v1fQ++iYwmnFH8z518H/wLeDzPulquZgXN/Q+uFHFp5+m9D5YYm+Brbn0PgSsxIziKvU+H5lITL288z5N3qmj3oPzPn0L0wZJHfQ+VX1JdGld9D6hXAlwlt/0PiEJngqIj/Y+bRt2Lxyn9z7nmGSBpjj3PpK977M4xfQ+EIvhBg978j6cdYmMJ4vxPm2NjfD4tvE+6R6zgKY+8T4RYFlcup/xPlYWnwxy7vE+J6pNkHJy8j7Ghgv38YHyPg==",
          "dtype": "f8"
         },
         "yaxis": "y"
        },
        {
         "hovertemplate": "Entity=Argentina<br>Year=%{x}<br>gdp=%{y}<extra></extra>",
         "legendgroup": "Argentina",
         "line": {
          "color": "#B6E880",
          "dash": "solid"
         },
         "marker": {
          "symbol": "circle"
         },
         "mode": "lines",
         "name": "Argentina",
         "showlegend": true,
         "type": "scattergl",
         "x": {
          "bdata": "qAepB6oHqwesB60HrgevB7AHsQeyB7MHtAe1B7YHtwe4B7kHuge7B7wHvQe+B78HwAfBB8IHwwfEB8UHxgfHB8gHyQfKB8sHzAfNB84HzwfQB9EH0gfTB9QH1QfWB9cH2AfZB9oH2wfcB90H3gffB+AH4Qc=",
          "dtype": "i2"
         },
         "xaxis": "x",
         "y": {
          "bdata": "7CCsDmU5ij+ZYbKAjHOKPwEYqebv14g/I7AOPCNchj+YlM3gERaHPxSikYtEI4g/X+MkLdKhhj8MKKqjrVyGP/KqWo657YU/M8/Z6ryohj+JlBv95SGEP0yY9lTwY4Q/A2sv996Xgz+lrDlaoueCPy2GN2oajIM/lei1ZahWgz+rzPhOgvyBP8fw38H4gII/mTe0bjcAgT/988qYKf6BPyDxh/kFGYI/M6kZFFi9gD/W0spP/7B/P7Tfh9UiEoA/wTFDFB5pfz846zy1/vl7P/3bjU8iM30/QM/mcdrJfD+uGXil78t6P85kKTpU7nY/emJQvCBbdT8OoDadDqt3P/5HpIJQ+nk/l6YNO4IXez8gy7tOK9V7Pzh5b6o9KXo/Vy/Ixquyej/wQqt/aNV7Pw1LCWS7MXw/kQOj70pcej/JOmqGBgl5P5BJW1pCenc/YYXkU4R5dD/Ym+y8Cqh1P7aUV9Lmm3Y/eJpQrGi0dz8xTIumkI54P4Cgv6mxr3k/aRQL0q8/ej9Rm6zrryF5P5yw5zYuiXo/AptJCwhFez+KcmtzbVR6P/OplMBoRno/1W7BWUjoeD/1Cec4rAR5P/zhrcyx/Hc/yWbtn6P0dz8=",
          "dtype": "f8"
         },
         "yaxis": "y"
        },
        {
         "hovertemplate": "Entity=Armenia<br>Year=%{x}<br>gdp=%{y}<extra></extra>",
         "legendgroup": "Armenia",
         "line": {
          "color": "#FF97FF",
          "dash": "solid"
         },
         "marker": {
          "symbol": "circle"
         },
         "mode": "lines",
         "name": "Armenia",
         "showlegend": true,
         "type": "scattergl",
         "x": {
          "bdata": "xgfHB8gHyQfKB8sHzAfNB84HzwfQB9EH0gfTB9QH1QfWB9cH2AfZB9oH2wfcB90H3gffB+AH4Qc=",
          "dtype": "i2"
         },
         "xaxis": "x",
         "y": {
          "bdata": "UaOVQXxZJj8YHkqncmkjP2mhYxioJxY/rQv1y4DlEz8NsEKSOVsUP5j2gqiRDRU/cQ+JsdGNFT9f2UrXqnkVP8LQLCDleRY/pt6Exut3Fj/mEd4KDscWP9Y+AoIjexg/GL6bjJoeGz8xvTxSaQ4eP9rMzqbSyh8/ee3R6ipvIT/fcADSCOwiP7aOP3Q2pyQ/utOnrpiuJT+gN8zyYvEiPykX9YzbjyI/OTxb9TDXIj+WvOE3CLQjP+RSO5iE1SM/wKJ5VwT7Iz92KHEuPSkkP2Rk4lZ0uiM/78EDlyeXJD8=",
          "dtype": "f8"
         },
         "yaxis": "y"
        },
        {
         "hovertemplate": "Entity=Aruba<br>Year=%{x}<br>gdp=%{y}<extra></extra>",
         "legendgroup": "Aruba",
         "line": {
          "color": "#FECB52",
          "dash": "solid"
         },
         "marker": {
          "symbol": "circle"
         },
         "mode": "lines",
         "name": "Aruba",
         "showlegend": true,
         "type": "scattergl",
         "x": {
          "bdata": "2gc=",
          "dtype": "i2"
         },
         "xaxis": "x",
         "y": {
          "bdata": "hGOczCXJAz8=",
          "dtype": "f8"
         },
         "yaxis": "y"
        },
        {
         "hovertemplate": "Entity=Australia<br>Year=%{x}<br>gdp=%{y}<extra></extra>",
         "legendgroup": "Australia",
         "line": {
          "color": "#636efa",
          "dash": "solid"
         },
         "marker": {
          "symbol": "circle"
         },
         "mode": "lines",
         "name": "Australia",
         "showlegend": true,
         "type": "scattergl",
         "x": {
          "bdata": "qAepB6oHqwesB60HrgevB7AHsQeyB7MHtAe1B7YHtwe4B7kHuge7B7wHvQe+B78HwAfBB8IHwwfEB8UHxgfHB8gHyQfKB8sHzAfNB84HzwfQB9EH0gfTB9QH1QfWB9cH2AfZB9oH2wfcB90H3gffB+AH4Qc=",
          "dtype": "i2"
         },
         "xaxis": "x",
         "y": {
          "bdata": "+PofLnualj/ZildmuCmWP0GzIYdQRJU/7lhAj054lT8C+LdscYiVPxwrPiV7lJU/RGw7A4LalD+HswBhyjmVP25jPQJf3pQ/+MzuyLMLlT99uUW1nXKTPx7TiDR3Y5M/pQHKGqAMkz9wcB70OFiSP8vzE/z2tZI/9bd6TSnEkj96LEvLT0aSP46NVEy3NpI/gGDysF+ukT9qBDOR66mRP6j2XH58k5E/pZB4ojLQkT/DO/hi+lSSP48z1DFegJE/5ECcG/V/kT/laGs3ZMCRPxv3KMEY35E/OdKtYeyMkT9AOerCnbeRP4IsYJceBpE/RKkXdsfSkD/3/Qsn7XuQP3ryxKT2O5A/jkzDp7+hkD+jdKvJZ8mQP2+BIa/P3JA/TTFHy5fwkD8cWMQTvvuQP4jfLlnjUpE/kFk+9RmbkT/0tR+BroSRPwmw3iKrhJE/+L6R0PHUkT+2Bbya1diRP7vGKobQxZE/wn1OOTeqkT/N6aTxwmqRP6CTvfwMWJE/N5GsDdynkT+8GTbrKVCSP+B3yV1E65E/2sKmch7MkT8KH++RsgmSPzGV4HahCpI/1sHkgPX9kT9SnI1DWgGSP6rEHCGuFJI/Z5ilvODlkT8=",
          "dtype": "f8"
         },
         "yaxis": "y"
        },
        {
         "hovertemplate": "Entity=Austria<br>Year=%{x}<br>gdp=%{y}<extra></extra>",
         "legendgroup": "Austria",
         "line": {
          "color": "#EF553B",
          "dash": "solid"
         },
         "marker": {
          "symbol": "circle"
         },
         "mode": "lines",
         "name": "Austria",
         "showlegend": true,
         "type": "scattergl",
         "x": {
          "bdata": "qAepB6oHqwesB60HrgevB7AHsQeyB7MHtAe1B7YHtwe4B7kHuge7B7wHvQe+B78HwAfBB8IHwwfEB8UHxgfHB8gHyQfKB8sHzAfNB84HzwfQB9EH0gfTB9QH1QfWB9cH2AfZB9oH2wfcB90H3gffB+AH4Qc=",
          "dtype": "i2"
         },
         "xaxis": "x",
         "y": {
          "bdata": "dJT7CZDWhD8wjkzSZAqFP7lNr86ZdYQ/KK4NGEVAhD/xT48M9yWEP5YgzGQit4M/BqyNs4uogz/NEcTBn2ODP3PbFv0o84I/UuS+mzX5gj8D+eDwwmSBP/uzdUaihoE/KLpZOoCZgT+JPUjkFlOBP2d02qOlpIE/UjiygWtlgT9hE3Fg50SBP+P/AEo5dYE/JJp8pOvCgD/uGoGZzfSAP8oJPCOoqIA/9bjQNo5QgD9/dvAiY5OAP3m+5L9OqoA/JfwUWUjifz+FXZk8TX9/P33lDWX3LH8/Zm9K3NRFfj/kWLpu5t59P8bIvDkGtXw/yFw2SzmVfD9iyNCIRBV9P9QGm2vvHH0/xv/ZcrPRfD+KtgOshaV8P0cGeBM9dHw/DtxrI+cpfD/lRXyEOrp7P7k7U9aXA3w/uip5HOwSfD8Pk/OWIch7P+V2UoClmXs/I/GDzYJ1ez9GOUeH2O96PwV9MtiLf3o/IYEUBJIYej+HuHMIiOJ5P/8vXcuMw3k//u5ED8ereT+cKzJ3ICR5P14hfJpKjHg/YpIVcFt+eD8Kx+wMqA54P4uJgfgFc3c/ZwIjt5f9dj/7pbpGdrl2PxmQC8Kog3Y/bdIn2K+Fdj8=",
          "dtype": "f8"
         },
         "yaxis": "y"
        },
        {
         "hovertemplate": "Entity=Azerbaijan<br>Year=%{x}<br>gdp=%{y}<extra></extra>",
         "legendgroup": "Azerbaijan",
         "line": {
          "color": "#00cc96",
          "dash": "solid"
         },
         "marker": {
          "symbol": "circle"
         },
         "mode": "lines",
         "name": "Azerbaijan",
         "showlegend": true,
         "type": "scattergl",
         "x": {
          "bdata": "xgfHB8gHyQfKB8sHzAfNB84HzwfQB9EH0gfTB9QH1QfWB9cH2AfZB9oH2wfcB90H3gffB+AH4Qc=",
          "dtype": "i2"
         },
         "xaxis": "x",
         "y": {
          "bdata": "S/s7FcOeQz83d3aDCCpDPxCXdpF3Fj0/rq/MidIGNj/m7+rDRysxP446aRoLTS0/oI2rfly0LD8jmuNjL0ktP3KdqWMMbC8/LttCgTlUMD8wS0sQ0l0xP8kTv4FIuTI/DrZ8H5FEND9zV728L+c1P3mg8AWqHDc/jovoDXwjPD/YgdYPuiRCP9/F4BdKxUU/tKm+Qd+uRz8HeGtMo15KP8QdXF2sgko/H8fIe6m3ST9VybXq+aNJP8GwWnZAb0o/nkfy0fE3Sj/66yhoyOpJP6RUcm2Mhkg/rzQ+ttTVRz8=",
          "dtype": "f8"
         },
         "yaxis": "y"
        },
        {
         "hovertemplate": "Entity=Bahamas<br>Year=%{x}<br>gdp=%{y}<extra></extra>",
         "legendgroup": "Bahamas",
         "line": {
          "color": "#ab63fa",
          "dash": "solid"
         },
         "marker": {
          "symbol": "circle"
         },
         "mode": "lines",
         "name": "Bahamas",
         "showlegend": true,
         "type": "scattergl",
         "x": {
          "bdata": "qAepB6oHqwesB60HrgevB7AHsQeyB7MHtAe1B7YHtwe4B7kHuge7B7wHvQe+B78HwAfBB8IHwwfEB8UHxgfHB8gHyQfKB8sHzAfNB84HzwfQB9EH0gfTB9QH1QfWB9cH2AfZB9oH2wfcB90H3gffB+AH4Qc=",
          "dtype": "i2"
         },
         "xaxis": "x",
         "y": {
          "bdata": "DQxbvpM1LD9kux+ZHt4tP15W/v0ZQC8/EffVjhtqMD/75N4vOgExP9MYsHOXwTE/g5XaYJJHMj93w1Pzwy4zP3N6VD/wdDM/A89tex/6Mz+rXU6ybEAwP1Pa16LmqS8/54+2UCnkLD9PrHzsZSotP1TGKpexySc/JEZPiEYOJD//mNvKWwYkP9+J8gdcByU/dv2BsewZJz+8pd9G0PorPwbRBaaxxiw/fwPXMlWeKT9AFPweeDkrP4b4qOaSiSs/tQJCI08PLj+Rm24y1l4uP6/+Jz+B6S0/n8bIex+DLT+mEMg/m9csP9T4xXD9eSw/6EjHJx69Kj8wOUZimjMpP6U1nMPQwyc/U98aJUh5Jz/Orsb824AnP2rrZ4sCvCc/TD93hB7sJz+eAnEqaYsnP/qYlWtwDCg/EjPXQ1nvKD//cV7nL9woPw9QLs9oByk/w3In56woKT9Xh/11HSQoPxKRKEvcUSc/236FHnA5Jz8tQY7Z69MmPxCZCXyyOCY/IIylOsZQJT+m/Ck9VckkP9XNUJKTPCQ/Eo0gVRS9Iz9fnj77rdkjP5sw+8usQyM/Tm/bFF20Ij+d024hvXoiP+q55AHmvSE/cwJoyQZ5IT8=",
          "dtype": "f8"
         },
         "yaxis": "y"
        },
        {
         "hovertemplate": "Entity=Bahrain<br>Year=%{x}<br>gdp=%{y}<extra></extra>",
         "legendgroup": "Bahrain",
         "line": {
          "color": "#FFA15A",
          "dash": "solid"
         },
         "marker": {
          "symbol": "circle"
         },
         "mode": "lines",
         "name": "Bahrain",
         "showlegend": true,
         "type": "scattergl",
         "x": {
          "bdata": "vAe9B74HvwfAB8EHwgfDB8QHxQfGB8cHyAfJB8oHywfMB80HzgfPB9AH0QfSB9MH1AfVB9YH1wfYB9kH2gfbB9wH3QfeB98H4AfhBw==",
          "dtype": "i2"
         },
         "xaxis": "x",
         "y": {
          "bdata": "IgnwHESCMz8sSWBYvR0yP9QJBlQGrjA/tLACC/pSMT+VXg5qfGQxP7sNz54n7i8/k8+yqDxCLz/rugww1ocwP+/QU4ld5TA/fxm/4c9fLz+qlmGXIkQvPyUoPKqyGjE/R4VhhIzkMT+Hp6NXDuMzP0x2HYOBQTM/5RhAopBcMz+7lRBzXn4zP3lkgOQqYTM/uuVbvO3OMz+aizfqQv4zP49UhpRHJzQ/sxUB6YBDND8ELNvqnYw0P3KkmSZtLDU/npaPYIWwNT9DfBl4O042P8LQpPMVxTY/WKDbpiupNz/OxYx89K84P7hLKIL5wjk/FdwQeE3FOT+BhWW2nno5Px+E2KSdyDk/a1m+kZJ8Oj+sdOShFuA6PyYYZGqFBzs/5VmX9cs+Oz+QlVazx3o7Pw==",
          "dtype": "f8"
         },
         "yaxis": "y"
        },
        {
         "hovertemplate": "Entity=Bangladesh<br>Year=%{x}<br>gdp=%{y}<extra></extra>",
         "legendgroup": "Bangladesh",
         "line": {
          "color": "#19d3f3",
          "dash": "solid"
         },
         "marker": {
          "symbol": "circle"
         },
         "mode": "lines",
         "name": "Bangladesh",
         "showlegend": true,
         "type": "scattergl",
         "x": {
          "bdata": "qAepB6oHqwesB60HrgevB7AHsQeyB7MHtAe1B7YHtwe4B7kHuge7B7wHvQe+B78HwAfBB8IHwwfEB8UHxgfHB8gHyQfKB8sHzAfNB84HzwfQB9EH0gfTB9QH1QfWB9cH2AfZB9oH2wfcB90H3gffB+AH4Qc=",
          "dtype": "i2"
         },
         "xaxis": "x",
         "y": {
          "bdata": "AKr2Z1w2YD8AAj5zV3NgPxfxmSnibmA/K3HNcrEYXz+T0iMzVCxgP9hJUj//E18/vx8BAwMWXj++cpmKW0RcP1enrpAK9Fw/0UkPbUqcWz+CNcfN/SRZP9nLX1o+yFY/i7E0C96HUj8MPWZUEfhRP1864LNLS1M/k7yGJxpQUj/pFghLEF5SP00k/16TJFI/uTA3QsywUj+I4Bik685SP5+uH6EIUFI/AUaJnWxCUz9XdQbcXJdTP8IophPq3lM/tAho/EDpUz/HthMz39RTP7UHXbX7/FM/47q9SDHfUz+b7WZ14XBTP7KDgaelflI/Px2XttWjUj9C8vovYvlSPx19OUvlnVM/lhv23iQ6VD9ZSoT+7WVUP/HSEz3HvlQ/DTKrcDT4VD/FnF35GiFVP21FtD4yrVU/aRpt9970VT8wGYF/jiFWP7R/vPJL0FY/6Wc0kiAvVz/XAFYwWJlXPwUBxZ/Vx1c/rWrQkBZnWD9J1pr1SvVYPyL/T4Cno1k/daHHF4CxWj9aErOGGIlcP8muLrtX4lw/D7WLvdLPXT8fdDE+vvpePzmI9gCOAGA/5RitJtiAYD8LQKWZgzFhP/TNiTw1/GE/RTZ96sK7Yj8=",
          "dtype": "f8"
         },
         "yaxis": "y"
        },
        {
         "hovertemplate": "Entity=Barbados<br>Year=%{x}<br>gdp=%{y}<extra></extra>",
         "legendgroup": "Barbados",
         "line": {
          "color": "#FF6692",
          "dash": "solid"
         },
         "marker": {
          "symbol": "circle"
         },
         "mode": "lines",
         "name": "Barbados",
         "showlegend": true,
         "type": "scattergl",
         "x": {
          "bdata": "tge3B7gHuQe6B7sHvAe9B74HvwfAB8EHwgfDB8QHxQfGB8cHyAfJB8oHywfMB80HzgfPB9AH0QfSB9MH1AfVB9YH1wfYB9kH2gfbB9wH3QfeB98H4AfhBw==",
          "dtype": "i2"
         },
         "xaxis": "x",
         "y": {
          "bdata": "NOAbxezXID+zJaWLAlogP+MCvw9bNCA/HWYMoaEmID/e3H9J+0wgP4nYFUxm4yA/3n5m4fkGIT8JD19G3mEgP6aXPKOXCB8/Y2JefqtzHj8ah4yO0ykePw73QwgYZB0/ilkB2f7iHT8Wa2b/g2AdPwDwtCxLCx0//p6KNOrVGz91tuoLNa8ZP5ElAyJvRxg/xVeiJacjFj//cUPoAhAWPz2q6jXUOhY/NWQuws7vFT8hEtojIhAWP01iXzacRhY/n4pKNyWIFj+VrFohSuQVP7R/Q9dBcBU/Hbk9lPCGFD9YcUC2REAUPyJprhwZHRQ/Z01Y/WqHEz/pV7X0FJATP8D4wYxq0xM/JMuEltFdEz/bGAZUtgkTP1qcS35vmRI/fZ7Llu/iET8DsUWzHHYRPzpAiwLkFRE/RUy7y0WmED9X2CMQjDAQP7oZBIyX8Q8/6yx42M/RDz9wObSVyWgPPw==",
          "dtype": "f8"
         },
         "yaxis": "y"
        },
        {
         "hovertemplate": "Entity=Belarus<br>Year=%{x}<br>gdp=%{y}<extra></extra>",
         "legendgroup": "Belarus",
         "line": {
          "color": "#B6E880",
          "dash": "solid"
         },
         "marker": {
          "symbol": "circle"
         },
         "mode": "lines",
         "name": "Belarus",
         "showlegend": true,
         "type": "scattergl",
         "x": {
          "bdata": "xgfHB8gHyQfKB8sHzAfNB84HzwfQB9EH0gfTB9QH1QfWB9cH2AfZB9oH2wfcB90H3gffB+AH4Qc=",
          "dtype": "i2"
         },
         "xaxis": "x",
         "y": {
          "bdata": "Bn7AmL7HSz9gwGOxff9KP/Wbn10r7kc/i6a2DxPGRT/qI8FJq6lCP6YVRyaHLUA/vZfIPk4VQD9YaD/6CEdBP6pzqE+iREI/Xkd/I45HQj/YkUXJdINCP+QMf3FEBUM/ZDvE/hiOQz+5VC8sw1dEP4YptIyDtUU/SKfNVjXgRj/89HnaYiBIP82oZdFJJEk/l+E2zX81Sz+1LoHkwL5LPxOd8V/XrEw/i4l9UBVXTT8mD5ybSR5NP8nM+Hpxqkw/gMUiPLVaTD/UzE9HZqlKP95k7jQpYUk/ZwNHcsE8ST8=",
          "dtype": "f8"
         },
         "yaxis": "y"
        },
        {
         "hovertemplate": "Entity=Belgium<br>Year=%{x}<br>gdp=%{y}<extra></extra>",
         "legendgroup": "Belgium",
         "line": {
          "color": "#FF97FF",
          "dash": "solid"
         },
         "marker": {
          "symbol": "circle"
         },
         "mode": "lines",
         "name": "Belgium",
         "showlegend": true,
         "type": "scattergl",
         "x": {
          "bdata": "qAepB6oHqwesB60HrgevB7AHsQeyB7MHtAe1B7YHtwe4B7kHuge7B7wHvQe+B78HwAfBB8IHwwfEB8UHxgfHB8gHyQfKB8sHzAfNB84HzwfQB9EH0gfTB9QH1QfWB9cH2AfZB9oH2wfcB90H3gffB+AH4Qc=",
          "dtype": "i2"
         },
         "xaxis": "x",
         "y": {
          "bdata": "GpCjMu1miz9p5Qe9h4WLP4OObjz8bYs/6sAn+7g0iz/Zd3YSu0eLP7/iOAL8too/S60d+a4Cij/46IU3VN6JPxDjHHYMN4k/pD+wRp9UiT+h+Wlt4g+HP7JMYtbk/IY/guK6feHihj9YnB+lUNmGP0rx+vyWaIc/ANKWsa+1hj/c/kc/hsaGP0xvUkNsDIY/ZUO8EwLRhT9GdtZvN3CFPwPQG4u2n4U/e0jDYAYmhT/LY1BESjCFPyhVF2GlwIQ/S9TesL1UhD8h8zGTJOuDP5XusCV2n4M/EQeXjaw7gz+CR3r5aD2DP1DCkEKBaoI/UKELHsAfgj+5nGJwhyeCP9tpPHOqEoI/uK1XRSOggT85zgIGP6mBP38MTyR5foE/C7wWuAUwgT8tWnxMeTCBP3okyvMDGYE/D5hcvqoigT9/98kY2f+AP4zYxM3zz4A/bIV8e1+/gD9pFUoV5WaAP5TqismuRoA/cF0GcmsBgD+r467LEnZ/P20ycxnmOn8/G+iDqejofj/7VcjcSL9+P1UeRVENSn4/t9eKM1TkfT/8qwi3vTp9P2WsVzZrinw/Nf9fjX4cfD8EuzyaxOB7P42NDFgSnHs/MZbYjPhEez8=",
          "dtype": "f8"
         },
         "yaxis": "y"
        },
        {
         "hovertemplate": "Entity=Belize<br>Year=%{x}<br>gdp=%{y}<extra></extra>",
         "legendgroup": "Belize",
         "line": {
          "color": "#FECB52",
          "dash": "solid"
         },
         "marker": {
          "symbol": "circle"
         },
         "mode": "lines",
         "name": "Belize",
         "showlegend": true,
         "type": "scattergl",
         "x": {
          "bdata": "qAepB6oHqwesB60HrgevB7AHsQeyB7MHtAe1B7YHtwe4B7kHuge7B7wHvQe+B78HwAfBB8IHwwfEB8UHxgfHB8gHyQfKB8sHzAfNB84HzwfQB9EH0gfTB9QH1QfWB9cH2AfZB9oH2wfcB90H3gffB+AH4Qc=",
          "dtype": "i2"
         },
         "xaxis": "x",
         "y": {
          "bdata": "WKzzKPLw5j4H7bwmugXnPoFj06oz4OY+QQgn9hzS5j4m4uzt4XbmPnbeovMuSuY+JjlOlbkK5j7XzqBkYCTmPlE36qR0PeY+4xXBGNMF5j6YBB12zubjPtPEHzgh1eM+oIFcCACr5D7JZWECOm/kPr7/ghBgvOY+JSjPIMpO5z5l1gNg+h3mPm2EdiAHqeY+f0YMsG+H5z6TSY6zZ0roPv0W5yskBOs+chTCxZjW6j46+F97iKfqPmRbtAkBeuk+UeiQuNTV6D6ttJGu/jDoPoBP3MXxeeg+FcG0gEoU6j7D6pb1izbrPu9P6DtTeOw+2uE997wN7j4oGdS7KFXwPtQBaogP8fE+Ndpg3r/G8j6N1MJKQUHyPq3MztpWxvE+wUTu8GFv8T5GT3AvumjxPlyMUpu5nfE+t8ZCnVmL8j4iMnM4FhH0PnzJrfxrrPQ+IhZMgfBE9T6nV2uNG5n2PrcrcMX+pPY+33gDwa5f9j5MUtR3U2/2Pj0dgMrpw/U+WDyU4ZMQ9j4DK7/fYJ32Ptzmc1FcZ/Y+cHP8Ux0t9j5dd/vg0nT2Pl2FjxcUCvY+VcH/ZS1M9j7UWvWJ96D2Ph5NznbI/fU+tB32CyiK9T4=",
          "dtype": "f8"
         },
         "yaxis": "y"
        },
        {
         "hovertemplate": "Entity=Benin<br>Year=%{x}<br>gdp=%{y}<extra></extra>",
         "legendgroup": "Benin",
         "line": {
          "color": "#636efa",
          "dash": "solid"
         },
         "marker": {
          "symbol": "circle"
         },
         "mode": "lines",
         "name": "Benin",
         "showlegend": true,
         "type": "scattergl",
         "x": {
          "bdata": "qAepB6oHqwesB60HrgevB7AHsQeyB7MHtAe1B7YHtwe4B7kHuge7B7wHvQe+B78HwAfBB8IHwwfEB8UHxgfHB8gHyQfKB8sHzAfNB84HzwfQB9EH0gfTB9QH1QfWB9cH2AfZB9oH2wfcB90H3gffB+AH4Qc=",
          "dtype": "i2"
         },
         "xaxis": "x",
         "y": {
          "bdata": "P+s/1VhgIj8x9EwtLyIiP9nA0YTMliA/9EP4cXGDID9MPZ0m24IgP3h9pjWGcCA/WyKgBkESID94AY2TyBsfPxtkY6loOB4/FH1kg1xKHT+3IK6w78gZP7bBv6LJWBg/QazB2t9/GD/igtrsJtgXPxNJ93hZJBg/T8rwCq24Fj9l/K6EPcIVP1+0LPv1+RU/z6X06thoFT+0htDAnOYVP4OE6H+1lRY/XqpxS+ZaGD9rJ0IAkcwYP0GqWekQKRc/r54Q1FrmFz/Rklfo3cQYP5mchfAgfBg/G5j93AUbFz+hCbLxo9IWP7Nm9tCvghQ/JGHcA/dTFT83YiS9n90VPwxJjMbREhY/CQnS2jYBFz8hJc+YIMgWPxd+1Up9Xxc/h1NsObKUFz82Y9o8JwsYP6RV90SPYRg/aKD8SrnaGD8v2/X50i8ZPz1CwN+zBho/BUmYTcunGj90mh9aAMwaP9eCBnSXyxo/1ChrXEdAGj+gqUK9rikaP/+gN4SOmxo/+Cgg+mloGz/PKrxXtoocP9/h4rV48Rs/POded2HkGz/LdoXYSYUcP64BxfSCyh0/pClBZOjOHj+dR8KBB8EePyiFihWBOR8/DKm15hABID8=",
          "dtype": "f8"
         },
         "yaxis": "y"
        },
        {
         "hovertemplate": "Entity=Bermuda<br>Year=%{x}<br>gdp=%{y}<extra></extra>",
         "legendgroup": "Bermuda",
         "line": {
          "color": "#EF553B",
          "dash": "solid"
         },
         "marker": {
          "symbol": "circle"
         },
         "mode": "lines",
         "name": "Bermuda",
         "showlegend": true,
         "type": "scattergl",
         "x": {
          "bdata": "qAepB6oHqwesB60HrgevB7AHsQeyB7MHtAe1B7YHtwe4B7kHuge7B7wHvQe+B78HwAfBB8IHwwfEB8UHxgfHB8gHyQfKB8sHzAfNB84HzwfQB9EH0gfTB9QH1QfWB9cH2AfZB9oH2wfcB90H",
          "dtype": "i2"
         },
         "xaxis": "x",
         "y": {
          "bdata": "+8JiLAvzIT/8Y0WK+PkhP18bG8A+yiE/xFPyGg4XIT/Hc4ypWc0hP6qIwRuUoiE/mAfd7iAJIz+m1AWYc6UkP6YSsdOnuCM/35QADuU3Iz9JyY8L2p0hP7hVSQ6kdyE/0GxHLp7QID/Guw1juAMgP+0Yh4j/px8/4DCeP/VAID9tCTY7ys4gP1FIFGSoHyE/aJWiHe22ID+B61QL1mQgPz5UXvwBFyE/a6leBvsoIT+3+1SqBjAgP2XsmBFmHyA/GAfcXHj6Hj81stSLL0IdP5wMRvIMMh4/6EBrQ2MDHj8axtDXJNUdP63JLQ5iuBs/hYb1HLd0Gj/U0agOfhoZP87Mo/ZtmRg/pmc9GMLzGD9Kv2bnvV0YP2FH9HVLnBg/hMIMKEprGD8z+OVGjqEYPzF8pCtS9hg/6X/nWT35GD9UDOuQVCIaP9yHGOt4fRs/KZqcxfCBGj/UrR6Ov6MaP4ZhbcCpGRo/X52vCI+PGT/CA4P2vd0ZP/66dXvFhhk/4vLgQYxzGT+eW01bTIgYP5lweq5rBxc/XIHUknCUFT8gKH4DzggUP+I1dZlqCBM/",
          "dtype": "f8"
         },
         "yaxis": "y"
        },
        {
         "hovertemplate": "Entity=Bhutan<br>Year=%{x}<br>gdp=%{y}<extra></extra>",
         "legendgroup": "Bhutan",
         "line": {
          "color": "#00cc96",
          "dash": "solid"
         },
         "marker": {
          "symbol": "circle"
         },
         "mode": "lines",
         "name": "Bhutan",
         "showlegend": true,
         "type": "scattergl",
         "x": {
          "bdata": "vAe9B74HvwfAB8EHwgfDB8QHxQfGB8cHyAfJB8oHywfMB80HzgfPB9AH0QfSB9MH1AfVB9YH1wfYB9kH2gfbB9wH3QfeB98H4AfhBw==",
          "dtype": "i2"
         },
         "xaxis": "x",
         "y": {
          "bdata": "G7iUoEoM2z499w6MhjfePs6zh+ZfH98+y5ZOlIDp4D7nvnWOAeXgPrlt/5b39+A+4BEBf+hX4j72Rbdw253mPr5QIwqBruY+BSje0MSK5j6sjbGGatnnPptfmfcRXec+ijmR8UX25z7CzqXngxDoPtW+sOsThOg+UdnNz29l6T45w6m6RO3pPgAkkRdqWOo+lEoukpI36z5peODQAXHsPnUsMtotHe0+MlzlHqjn7j7HVRL6/77wPkOiUDSThfE+dXkRV07E8T5ko7Zn/FTyPrMrcv3Mx/I+ZPcwx1hA9T5j3leheN31PpPohcCYu/c+jIBuW5ps+T6oeFmmpZf6PuzZYdABQvs+K5JjX58h+z7cogdE0eX7PtKfc2CYE/0+jzX8HSaq/j6/7iD2Rc3/Pg==",
          "dtype": "f8"
         },
         "yaxis": "y"
        },
        {
         "hovertemplate": "Entity=Bolivia<br>Year=%{x}<br>gdp=%{y}<extra></extra>",
         "legendgroup": "Bolivia",
         "line": {
          "color": "#ab63fa",
          "dash": "solid"
         },
         "marker": {
          "symbol": "circle"
         },
         "mode": "lines",
         "name": "Bolivia",
         "showlegend": true,
         "type": "scattergl",
         "x": {
          "bdata": "qAepB6oHqwesB60HrgevB7AHsQeyB7MHtAe1B7YHtwe4B7kHuge7B7wHvQe+B78HwAfBB8IHwwfEB8UHxgfHB8gHyQfKB8sHzAfNB84HzwfQB9EH0gfTB9QH1QfWB9cH2AfZB9oH2wfcB90H3gffB+AH4Qc=",
          "dtype": "i2"
         },
         "xaxis": "x",
         "y": {
          "bdata": "FxeudaB+QT+jNq3F+BVBP+dbGYEyFkE/0jKvao1IQT9OszsR8fpAP6xVdX2z9UA/++wfXioMQT9Rlo2oZnNBP0U93CxjrTw/Gh2ztZvaOz84utejzOU3PxrR91RPETg/Q1VxOLqROD/Ph5DQh2E4PywGd2D/ljg/x7siNfocOj/TNiW/de45PyeUhzoSMDo/PGZP4Zi2OT9qRAzq+bg4P61XXURHjDc/gvTH2JEoNz/BRGrPGyg2P89j6rs8wjQ/n5BajMnOMz/RqTC2QMUyP7Qq/XSGsTE/S6zWxFpeMT+UVTZ14xIxPwRAkrS0ZDA/RqTNNipeMD+GuVFJtPIwPwWLp8gn5DA/qT6K0dxXMT8QqAv85Z4xP+G4MNNQ2DE/cK/PW5MCMj+ia1zxWDoyPzVpVOZ6rDI/Q0Z4w+wlMj/jMXwO+s4xP93wbjDQwzE/DtC2S63RMT98BGQpZskxP3y/dm7zvTE/aEljVELYMT/Jblv5IO4xP0rmNFKI/TE/m95X9ffAMj9g4S/o0LkzPx6TBgWLsTM/6dLj6dwVND8aKi7NEpk0P05uGgO5bzU/svqos4j7NT/KGrAxkok2P1ftq3G18jY/Os3kJO82Nz8=",
          "dtype": "f8"
         },
         "yaxis": "y"
        },
        {
         "hovertemplate": "Entity=Bosnia and Herzegovina<br>Year=%{x}<br>gdp=%{y}<extra></extra>",
         "legendgroup": "Bosnia and Herzegovina",
         "line": {
          "color": "#FFA15A",
          "dash": "solid"
         },
         "marker": {
          "symbol": "circle"
         },
         "mode": "lines",
         "name": "Bosnia and Herzegovina",
         "showlegend": true,
         "type": "scattergl",
         "x": {
          "bdata": "ygfLB8wHzQfOB88H0AfRB9IH0wfUB9UH1gfXB9gH2QfaB9sH3AfdB94H3wfgB+EH",
          "dtype": "i2"
         },
         "xaxis": "x",
         "y": {
          "bdata": "S+noDwbhET9Ak0kzLOUUP9fUlvhtFyM/EbwtBdu9KD8+Y8Bo1eUrP6XCWcTLli0/ckW6/QDiLT8nogWTHpsuP9sYkZLTii8/+eF9u0zhLz+SkMFGrDEwP502XRrc9jA/EigLudwjMT93m92tnGMxP/0JddPMBzI/JnJdlezMMT8+NgFKFDcxP1Hu+r9D2TA/T7itEThNMD+Oz13hQ0IwP7agvF6p+y8/7U6HMOQdMD+K/qGE9DswP92RDbBCPTA/",
          "dtype": "f8"
         },
         "yaxis": "y"
        },
        {
         "hovertemplate": "Entity=Botswana<br>Year=%{x}<br>gdp=%{y}<extra></extra>",
         "legendgroup": "Botswana",
         "line": {
          "color": "#19d3f3",
          "dash": "solid"
         },
         "marker": {
          "symbol": "circle"
         },
         "mode": "lines",
         "name": "Botswana",
         "showlegend": true,
         "type": "scattergl",
         "x": {
          "bdata": "qAepB6oHqwesB60HrgevB7AHsQeyB7MHtAe1B7YHtwe4B7kHuge7B7wHvQe+B78HwAfBB8IHwwfEB8UHxgfHB8gHyQfKB8sHzAfNB84HzwfQB9EH0gfTB9QH1QfWB9cH2AfZB9oH2wfcB90H3gffB+AH4Qc=",
          "dtype": "i2"
         },
         "xaxis": "x",
         "y": {
          "bdata": "yxArsSzR9z6wQPNHZDv4Pi0X2IkkfPg+qKWbRIim+D70sN1xZbD4PlprepARtPg+R6HDEaTL+D4HwvqQ+CX5PhD+5jgsA/o+vwREa4w2/D4LsmXfqH38PhzJLcRoLgE/kjyucw+HBD/BeDnnXl4HP80jGLb86Ag/46Yr5a+7Cj9G9Ylb+RMMP/s50hnoQQ4/NzkNqV6kED+PGczUvOsRPx390mKhYRM/vfqaGUO7FD+AczXr7SgXP78Mo/rjlRk/BwkFG4yNGj+jmx4xOWobPx3mNeBAsRw/iwpAxSjBHj/0HXAdv4shP4m+2vPoWSI/V4/X52KyIj83vEuQRcMjP1hqAMhV8SM/bRxCqqQDJD94gW5P7SEkP85NmBbQ2CQ//hsKYPhVJT9YjxI13TkmP4w3zef51SU/fjtnP38sJz+4mFP57p8mP58CqVJQQCY/eVXuDH0ZJz95SDgpyXwnP1QafSMuGSc/lhygzCFDJz87uzrBTCsoPwc/uVl4HCk/a98E82EzKj9ikm5tj58oP3gCgmRkoSk/VQdsy6dZKj/5qTEC9dkqPyttsRhiIi0/PvfdrEyBLT/VCQPz1FssP0F4xJ3I4yw/uPavH9e1LD8=",
          "dtype": "f8"
         },
         "yaxis": "y"
        },
        {
         "hovertemplate": "Entity=Brazil<br>Year=%{x}<br>gdp=%{y}<extra></extra>",
         "legendgroup": "Brazil",
         "line": {
          "color": "#FF6692",
          "dash": "solid"
         },
         "marker": {
          "symbol": "circle"
         },
         "mode": "lines",
         "name": "Brazil",
         "showlegend": true,
         "type": "scattergl",
         "x": {
          "bdata": "qAepB6oHqwesB60HrgevB7AHsQeyB7MHtAe1B7YHtwe4B7kHuge7B7wHvQe+B78HwAfBB8IHwwfEB8UHxgfHB8gHyQfKB8sHzAfNB84HzwfQB9EH0gfTB9QH1QfWB9cH2AfZB9oH2wfcB90H3gffB+AH4Qc=",
          "dtype": "i2"
         },
         "xaxis": "x",
         "y": {
          "bdata": "U8k1ALwPnD9hTzmNKpudPypfIxEhgp0/R8m5xOFKnD84xDOz83KbP3YrjxOcv5o/LKjq0VpLmj+myCnkF2qaPye+v2PZiJs/gqJhB2l3nD8CDy1mebKaP/+i8rJYe5w/NE9Zx/Usnj8KT/6QjSOgP9nHWET5PaE/T6ofvJvzoT95RyPAarWiP3l1N5nw06I/hPCV8Uezoj/XiCJ3uiujP+5mSH9kM6Q/wXPiYA3xoj8m8i/IiPmiP0XnT/4L5aE/vfe98cICoj9PcsE/6byiPymtIH7dk6M/DhskBmRuoz+6Cvwo1YqiPx/e1V8+t6E/JMq/aU1hoD9TETUlFlugPx92eOqP7J8/zDx8cI1zoD8QD7b7NtKgPwKW3nIh/qA/mnsJh8PLoD9BurZuIL+gPzrBJm3SY6A/WzVPAt/enz/md7JBgsOfP+EKRo6Wl58/mwkoBD3dnz9Sgkre21GfP2J74vHat58/QUwY5xSHnz9JVztDvWyfP3MA8kk3+58/2mZESs2AoD8I1Ip0C8agP4HzKL+cS6E/NVa8bmZvoT+eB3LUblahP7fWM11eZ6E/OTIms1MCoT/eaAvSTgqgP1fH1QkjPp4/BFLr1xOmnT8=",
          "dtype": "f8"
         },
         "yaxis": "y"
        },
        {
         "hovertemplate": "Entity=Brunei<br>Year=%{x}<br>gdp=%{y}<extra></extra>",
         "legendgroup": "Brunei",
         "line": {
          "color": "#B6E880",
          "dash": "solid"
         },
         "marker": {
          "symbol": "circle"
         },
         "mode": "lines",
         "name": "Brunei",
         "showlegend": true,
         "type": "scattergl",
         "x": {
          "bdata": "tge3B7gHuQe6B7sHvAe9B74HvwfAB8EHwgfDB8QHxQfGB8cHyAfJB8oHywfMB80HzgfPB9AH0QfSB9MH1AfVB9YH1wfYB9kH2gfbB9wH3QfeB98H4AfhBw==",
          "dtype": "i2"
         },
         "xaxis": "x",
         "y": {
          "bdata": "rYG6hgh1Nj9arvaweE02P2jdBhUAcDk/boJhXtckOz9Xj3D4tOI7P+ysEmWIaEA/WTPQtY55PT+n1PPJGy03P1XanG4B/zc/Nlg3K/GLNz9EOeNm76U2P9WozFSygDU/X7PMJUs9ND+oXJwTmsczP3L7MwECGjM/Mz6DjRd7MT/N0it9rtwwP6wzBf2pGzE/MfD7g56SMT/QE7vbXFsxPyGOUFvQYDE/CwEy/tmQMT9GjEfu9HkxP7BgRBHdmjA/lytA+CQbMD9kzsk91w8wP4aSZU+roC8/rwgbCw/hLz+nb1CyVzQwP39HGX2UNDA//xb0A88wLz8px1EnzyguPx4sRY02MC4/Jlb5pyEDLT9uXAhrXPArP3XuT+RN7is/oU4oH9p5Kz9cJtzTV6IrP9qAwM9bNCs/7/EaKFnyKT+RDvHkHaMoP1eZ1P7R8yc/EAZp4JXQJj/hXU0a33EmPw==",
          "dtype": "f8"
         },
         "yaxis": "y"
        },
        {
         "hovertemplate": "Entity=Bulgaria<br>Year=%{x}<br>gdp=%{y}<extra></extra>",
         "legendgroup": "Bulgaria",
         "line": {
          "color": "#FF97FF",
          "dash": "solid"
         },
         "marker": {
          "symbol": "circle"
         },
         "mode": "lines",
         "name": "Bulgaria",
         "showlegend": true,
         "type": "scattergl",
         "x": {
          "bdata": "vAe9B74HvwfAB8EHwgfDB8QHxQfGB8cHyAfJB8oHywfMB80HzgfPB9AH0QfSB9MH1AfVB9YH1wfYB9kH2gfbB9wH3QfeB98H4AfhBw==",
          "dtype": "i2"
         },
         "xaxis": "x",
         "y": {
          "bdata": "Wwh3bl5GUj/BtGKHLc1SP+x4RwayKVM/9wzXyxdaUz8Tuv0whiFTPy8Yxdra7lI/xPjp7sAWUz/lm68NJWVTPzuZtwr5jVQ/3G6Z46NjUj+c6BtCAeVPP07EvEAvuUw/cV4w9X0dSj+g8Z054FVJP3033F9DCkk/VvwcsRrrSD/YNJyMiERIP1FoqwunJUc/VrKcdQlcRz9nz34mOT9FP7b05x4ZWEU/edqaSo+6RT/hCIGocodGP8KHEIMEBkc/HxaMwtx2Rz9LAkVU/jVIP3+nyB4dz0g/9XqckdmNST++VbPJUZtKP1nhV78XG0o/AKBOJI9cST9MXcpzuQ5JP/nuZAPPc0g/dHtZ/KcISD9sC6SeNq5HP0GqlCq9/Uc/BIFCx0taSD+/DxpoWXxIPw==",
          "dtype": "f8"
         },
         "yaxis": "y"
        },
        {
         "hovertemplate": "Entity=Burkina Faso<br>Year=%{x}<br>gdp=%{y}<extra></extra>",
         "legendgroup": "Burkina Faso",
         "line": {
          "color": "#FECB52",
          "dash": "solid"
         },
         "marker": {
          "symbol": "circle"
         },
         "mode": "lines",
         "name": "Burkina Faso",
         "showlegend": true,
         "type": "scattergl",
         "x": {
          "bdata": "qAepB6oHqwesB60HrgevB7AHsQeyB7MHtAe1B7YHtwe4B7kHuge7B7wHvQe+B78HwAfBB8IHwwfEB8UHxgfHB8gHyQfKB8sHzAfNB84HzwfQB9EH0gfTB9QH1QfWB9cH2AfZB9oH2wfcB90H3gffB+AH4Qc=",
          "dtype": "i2"
         },
         "xaxis": "x",
         "y": {
          "bdata": "4B1Fnz3AID+1vjH6m6wgPw3X/XFqwyA/ZHMv+GZ2Hz9eIkcBdSseP/Jmh/hEmh0/X+V8/TIXHD8oab9EIUUdP6C42Y0bORw/pNL1ZdYgGz/jmqJeDWsXP0i+blTvwxY/2y3bCb0FFj+dp/6WqMIUP1LQM1yaBhY/YJU9a0ZzFj8a0KBNKCEXP3zQfGOXVRY/bUODJo16Fj/FCnMo9F8WP/cJWkLGxxU/79syti1FFj9pGlslKk0YP/o182Ixzxc/cBpCNwFcFj9Ae7eooGIXP1hgBYj8bBg/XROBTm9YFz8DhiVpw5cXPzsAqWdzSxY/uGiSEUAlFT8Dlyu7q68WPyYW8WCwSxY/WqpMTAK3Fj8LxZIh01YWP1JY8pgN2RY/W9BMAIKHGD/s+EAy+yUZP+qq9b2EUho/LdKSO9dbGz8ZPCFxqqoaP2tEyfMX5Bs/97/rAFx8HD8R8N1g7tcdP9PD1U0M2x0/T7QWw30/Hz/TD/jWeNUfP9KxmIkNIyA/XMWov9gAIT+fw3pC+NAhP9u9nZsDACI/GlzEDkSbIj+ud7koo1IjP/kdzSSh6yM/3OoFglU1JD8ALAH9NockP07nk/k0PCU/zZ+bwcoBJj8=",
          "dtype": "f8"
         },
         "yaxis": "y"
        },
        {
         "hovertemplate": "Entity=Burundi<br>Year=%{x}<br>gdp=%{y}<extra></extra>",
         "legendgroup": "Burundi",
         "line": {
          "color": "#636efa",
          "dash": "solid"
         },
         "marker": {
          "symbol": "circle"
         },
         "mode": "lines",
         "name": "Burundi",
         "showlegend": true,
         "type": "scattergl",
         "x": {
          "bdata": "qAepB6oHqwesB60HrgevB7AHsQeyB7MHtAe1B7YHtwe4B7kHuge7B7wHvQe+B78HwAfBB8IHwwfEB8UHxgfHB8gHyQfKB8sHzAfNB84HzwfQB9EH0gfTB9QH1QfWB9cH2AfZB9oH2wfcB90H3gffB+AH4Qc=",
          "dtype": "i2"
         },
         "xaxis": "x",
         "y": {
          "bdata": "w2EHcOZTET+Almv8LJkMP/GQpO7Liw0/VDBd8pI+DT+97TDnBSMNP9XFdhgapQw/hq+FAKBIDD+3dkH/JtMOP9UBZEU2wAw/6z7vLQCxCj/2m5rsCuwLP6/Le5QngAs/14Yw2j9WCD8lcerdvWkIP3LYK0zGvgc/0QLRWoupBz+71baTwj4IP2R+eZohAAo//Y7RstXHCD95wmE8tTAIPxRL1T/Llwc/7YxEgxH0CT9yR0nwkpMJP7gP5wFk5gk/8UXQdjrNCD9sRYATYrgKP6640vpTsQo/91xhoNj6Cj/n+EkPlxELP5JMGVn8YAk/PW1ElG8QCT+/6dC33+IJPwZWFW5Lowk/kzeH1rOrBz/4YW7X1RgGP1ghjBtcrwM/hh3RRI6DAT+xGoGh2J4AP6dNkAhS+wA/1eSx4oFEAD9WULHO3eD+PoQHsNBb6v4+HPuoMmGa/z4NZ2GMTVb+PjiM5mTic/4+eWqiT52Y/T7UVGNJk+f9PioktKOIEf4+1CF1Sf8E/z5I7duCzVQAP5u1PKVKQAA/kDmmuD1qAD9KGoe4QqgAP0N6VuxX+gA/bxjZsUdHAT9HPJujRTsAP6x3DPahhf8+EC9xQ1fD/j4=",
          "dtype": "f8"
         },
         "yaxis": "y"
        },
        {
         "hovertemplate": "Entity=Cambodia<br>Year=%{x}<br>gdp=%{y}<extra></extra>",
         "legendgroup": "Cambodia",
         "line": {
          "color": "#EF553B",
          "dash": "solid"
         },
         "marker": {
          "symbol": "circle"
         },
         "mode": "lines",
         "name": "Cambodia",
         "showlegend": true,
         "type": "scattergl",
         "x": {
          "bdata": "yQfKB8sHzAfNB84HzwfQB9EH0gfTB9QH1QfWB9cH2AfZB9oH2wfcB90H3gffB+AH4Qc=",
          "dtype": "i2"
         },
         "xaxis": "x",
         "y": {
          "bdata": "AWn28fD5ID+g+p84TXwVP5ccZkxd2BY/DnGRDVllFz9XioyMEXcXP2vnKZSe9Rc/ZMc73cghGj9n8oUd+7EbPwFh86xzMR0/+Pj8IqRzHj9cF7BaPw4gPw1H8KCi9iA/y7CS9xOBIj8QFoJdF6cjPxmLoO6lyCQ/F0pZm87GJT/nh9bqOi4mP7/F+1HniCY/h6F4zwZkJz8tv8rE0nwoP20s3nVBnik/Nt1YrpqwKj+reJCnnu4rP5iDCq62LC0/eIDz/WVBLj8=",
          "dtype": "f8"
         },
         "yaxis": "y"
        },
        {
         "hovertemplate": "Entity=Cameroon<br>Year=%{x}<br>gdp=%{y}<extra></extra>",
         "legendgroup": "Cameroon",
         "line": {
          "color": "#00cc96",
          "dash": "solid"
         },
         "marker": {
          "symbol": "circle"
         },
         "mode": "lines",
         "name": "Cameroon",
         "showlegend": true,
         "type": "scattergl",
         "x": {
          "bdata": "qAepB6oHqwesB60HrgevB7AHsQeyB7MHtAe1B7YHtwe4B7kHuge7B7wHvQe+B78HwAfBB8IHwwfEB8UHxgfHB8gHyQfKB8sHzAfNB84HzwfQB9EH0gfTB9QH1QfWB9cH2AfZB9oH2wfcB90H3gffB+AH4Qc=",
          "dtype": "i2"
         },
         "xaxis": "x",
         "y": {
          "bdata": "xe6+7lb5QT8kzeUKXGZBP70Ebw7k+0A/eHkxDUS/QD9ZAUoC7UFAP8dR6y2KXj8/a44dkmr5Pj9OxZkQ8ms6P80qT7hFSTo/eLd/xYf6OT+thzG6lxc3P2S3tp/l5zY/CnWq2Z08Nj9wfzAbgvw1Pxjd0k6S2jc/9r2Vb51COj8rpIPXso43P6TY18EMxzk/fyX+ZSdCPj/jHindqc4+PxToP8TAKj0/XDjetAW/QD9TeL1Cq+5BP5omrJ79tUI/RwmmURA6Qz84dlSXWAZEP/VBXiC4r0Q/W0uPyZVkQz9ASTE0UhNBP+oPBSuVBD8/AbwgQVTKOz8zrKAKdEs6Pw7lAx2a+zg/4+YbCFCmNj+Vq88m73M2PxpNmvTkeTY/3tKTexuvNj8tn+X93gQ3P2fe2DG1djc/tDLTrE+uNz+y515/iHk3P2swdSYSCTg/q1CUd1CFOD9EEUrQI+s4P8eHTeFhejk/9wuy+VUJOT/qoPa6ttU4P9k2HH6o/zg/In9lQhJoOT9A/D9nhmw6P7ZGpNjEMzo/JrZX3VlzOj8JTNUV5fk6P36J891ZtTs/wn/ka0eHPD/8ha4nVHg9P5UzvvaMDz4/lVL9edocPj8=",
          "dtype": "f8"
         },
         "yaxis": "y"
        },
        {
         "hovertemplate": "Entity=Canada<br>Year=%{x}<br>gdp=%{y}<extra></extra>",
         "legendgroup": "Canada",
         "line": {
          "color": "#ab63fa",
          "dash": "solid"
         },
         "marker": {
          "symbol": "circle"
         },
         "mode": "lines",
         "name": "Canada",
         "showlegend": true,
         "type": "scattergl",
         "x": {
          "bdata": "qAepB6oHqwesB60HrgevB7AHsQeyB7MHtAe1B7YHtwe4B7kHuge7B7wHvQe+B78HwAfBB8IHwwfEB8UHxgfHB8gHyQfKB8sHzAfNB84HzwfQB9EH0gfTB9QH1QfWB9cH2AfZB9oH2wfcB90H3gffB+AH4Qc=",
          "dtype": "i2"
         },
         "xaxis": "x",
         "y": {
          "bdata": "OezTafjxoT+IQWzMO7ahPwY49Cnl+KE/X21JS673oT+l5O9aJPmhP4jR0+qaH6I/vd/5NHM7oj/TTCFHYvehP9f52OiVsqE/YuLn0t+MoT+RkwBXBECfP8DX+rlkMJ8/pO/qYHEYnz9IOSVy9jafP0+5AiE/tp8/Nx9/OUf0nz818sC3wuifP1RBtAWYwp8/SMM2MfnDnz9NocGlV6mfPwIECefnPJ8/tt+d+sS1nz/tzZCmK5KeP44SKknTn54/AGNtgt0Dnz+oiGidpE6fPybTBTT78Z4/9hUgd3Tcnj+DSbtFEcmeP7RQbP0bJJ0/Wxwbr3jZmz94hbMBzc+aP96X811mhZo/skF7pynPmj+3IfpSZDGbP+LgK5xDA5s/BXcBlk6Lmj++hb9pULGaPwRpa0n1C5s/IYTsMW2Gmz86tpwP/LabP1mgvQCrq5s/9MOzOJ/lmz/hebmXkZmbP07cAsk9Pps/FFUB860Umz8Ul32kY6WaP8E8qiKJGJo/UGhsF0bimT8y9Ni+dJCZP9wecndGRJk/pl8lKKFDmT9Ti++/nBOZP5lrV72eCpk/2oWjDpILmT8bi3D6pbuYPzmK+FbQfpg/eHbyWMGBmD8=",
          "dtype": "f8"
         },
         "yaxis": "y"
        },
        {
         "hovertemplate": "Entity=Cape Verde<br>Year=%{x}<br>gdp=%{y}<extra></extra>",
         "legendgroup": "Cape Verde",
         "line": {
          "color": "#FFA15A",
          "dash": "solid"
         },
         "marker": {
          "symbol": "circle"
         },
         "mode": "lines",
         "name": "Cape Verde",
         "showlegend": true,
         "type": "scattergl",
         "x": {
          "bdata": "vAe9B74HvwfAB8EHwgfDB8QHxQfGB8cHyAfJB8oHywfMB80HzgfPB9AH0QfSB9MH1AfVB9YH1wfYB9kH2gfbB9wH3QfeB98H4AfhBw==",
          "dtype": "i2"
         },
         "xaxis": "x",
         "y": {
          "bdata": "kXorxr+h3z60BVezkdLgPn42a8liOuE+gfAkmSls4j53svrRwEfiPjZNWxAXJOM+vTyjwBQN4z4me9UcwwnjPqQLrrrGRuM+YoJ6WjfZ4j63KgooHxziPvFrqXZVEOI+JhGCnRqm4z6614R2kwjlPjk5DMdpVeg+ekj75kHj6j4k+w6d6PPsPkZCPfImBu8+TqQ6mz0G8T6DZSdr41LyPiSDnjLyC/Q+6TWPN/Ya9D4fZegk9LX0Pqko33PQ9/Q+26ZWBu4f9j61DduZosj2PqLi7hHFlvc+SQZnXJ8R+j4hODRSuE37PsIguW7bbvs+t58P6j6w+j4yhm9fYub6PsjrZzquhvo+w6FdKIMO+j5G/+xO6n35Ps7D/QrzLPk+PdKGdUuG+T5VRckH5775Pg==",
          "dtype": "f8"
         },
         "yaxis": "y"
        },
        {
         "hovertemplate": "Entity=Central African Republic<br>Year=%{x}<br>gdp=%{y}<extra></extra>",
         "legendgroup": "Central African Republic",
         "line": {
          "color": "#19d3f3",
          "dash": "solid"
         },
         "marker": {
          "symbol": "circle"
         },
         "mode": "lines",
         "name": "Central African Republic",
         "showlegend": true,
         "type": "scattergl",
         "x": {
          "bdata": "qAepB6oHqwesB60HrgevB7AHsQeyB7MHtAe1B7YHtwe4B7kHuge7B7wHvQe+B78HwAfBB8IHwwfEB8UHxgfHB8gHyQfKB8sHzAfNB84HzwfQB9EH0gfTB9QH1QfWB9cH2AfZB9oH2wfcB90H3gffB+AH4Qc=",
          "dtype": "i2"
         },
         "xaxis": "x",
         "y": {
          "bdata": "NYr2JwpIGj9+2Rx7ymMaP8OdFCz+ERg/3r6QsHe3Fj+SALYrer0VPy4hijebwBQ/mTOSt6G2Ez/G/s4aJcITPyizZ9ZavhI/G/P+QTbpEj91gG7ana8QPwAvfbDyLBA/+U7pm4qWDj+3nF3klz8NP+wDn0sfeQ4/w2kIIkNHDj+MyQsegk0OP91xjjE8Qw4/LSeBRv13DT/MisD8GZkLP06mu3lydQk/sozArk6VCD+vanRBkV8KP17v1i1YqAc/sZNYFY/DCD/ERJks980IP/LzuiuO2wg//YaDV2qjBj9h8tI+qP4FPxvo/MbXvwQ/e46pwr5fAz8UTDS9rPMCP48OaWZ7YwE/6mK6fyYuAT9X/jjWc34BP88kBhy4JAI/tMoNtRvYAD9K+iVYpRoBPwEvoG2udwE/x+F90CCDAT9e0NPjw1gAP5JXILavwAA/EKGRbDv9AD8Ax9upMz3/PvFLsHuVtP8+XGhvk+/Q/j7OdoHpvfT+PnuZywmeEv8+yT03blMk/z5kqCwI7x0AP/N5I8jk2P8+6S7ds6/k/z6z8I9qUDIAP4i5Qw9I+/M+DEE827mh8z4U43wFwh30PvQmtxIMifQ+Syk84XHL9D4=",
          "dtype": "f8"
         },
         "yaxis": "y"
        },
        {
         "hovertemplate": "Entity=Chad<br>Year=%{x}<br>gdp=%{y}<extra></extra>",
         "legendgroup": "Chad",
         "line": {
          "color": "#FF6692",
          "dash": "solid"
         },
         "marker": {
          "symbol": "circle"
         },
         "mode": "lines",
         "name": "Chad",
         "showlegend": true,
         "type": "scattergl",
         "x": {
          "bdata": "qAepB6oHqwesB60HrgevB7AHsQeyB7MHtAe1B7YHtwe4B7kHuge7B7wHvQe+B78HwAfBB8IHwwfEB8UHxgfHB8gHyQfKB8sHzAfNB84HzwfQB9EH0gfTB9QH1QfWB9cH2AfZB9oH2wfcB90H3gffB+AH4Qc=",
          "dtype": "i2"
         },
         "xaxis": "x",
         "y": {
          "bdata": "meBl3Y5ZLj+AWavCSXEtPxbitc2sYi0/gSgstNF7Kz+9zIXYhR4pP54z/GaX5Sc/tkPX8b0lJj9QvUZgcV4lP5MDy4845iM/NImLe6EJJD+1DjXKK5khP5sbhxx8fSA/LXq+v62KHz/eLTBAzR4bP2Dz3JzW4xs/g3rf+jcWHj/hkgzsK2kdP6Zf5H1c7Rw/fIy9WXezGz+I/8+aM+UUPwZU40OA9RI/zQWoab/JEj8J79a5fLYTP+cEmbrIQxY/bGhVwkO5FT/OCE4j+H8ZP1pwdf0oqhc/IpgW/0shFj8h5iLOi2kYP6gbwvLHrxc/4aNhDlSoFT8XHQl8IR8XP2cEUB4bfBg/Mi5mqqdSFD/lfBkAH7oVP+ujKcS2RxU/OcHkIwEJFT/s6Vqvc24VP5pxlNuCWxY/KV9KXPJ8FT/Be3IsnWMUPxbRWWKUVRY/GTMejxS3Fz9z5z4Fr3AaP5h29HZi6iA/9lJY0/4dIz+jENphwHIiP0Z2e40CSCI/mzhkmVKAIj9KBZsNTp8jP93VXHDvXCU/NOxWhz26JD9+CwIQTAQmP/t6rLaIrSY/5QVzKrOSJz/JNClEua8nP0ccqABKryU/+u41FHRuJD8=",
          "dtype": "f8"
         },
         "yaxis": "y"
        },
        {
         "hovertemplate": "Entity=Chile<br>Year=%{x}<br>gdp=%{y}<extra></extra>",
         "legendgroup": "Chile",
         "line": {
          "color": "#B6E880",
          "dash": "solid"
         },
         "marker": {
          "symbol": "circle"
         },
         "mode": "lines",
         "name": "Chile",
         "showlegend": true,
         "type": "scattergl",
         "x": {
          "bdata": "qAepB6oHqwesB60HrgevB7AHsQeyB7MHtAe1B7YHtwe4B7kHuge7B7wHvQe+B78HwAfBB8IHwwfEB8UHxgfHB8gHyQfKB8sHzAfNB84HzwfQB9EH0gfTB9QH1QfWB9cH2AfZB9oH2wfcB90H3gffB+AH4Qc=",
          "dtype": "i2"
         },
         "xaxis": "x",
         "y": {
          "bdata": "BK7UkXCpaj++VZtspNhqP6d5oreBdGo/fmNhYhmdaj9crlM8r5ZpPxoQp4o3bWg/PHzy0USlaT+bWRreknFpP+46n8xZqGg/cyLIMjAlaD+hZHmpFDNlP0/+XcN2PGY/IOKDg2HPZD+yO8yyLYxiPzNC49rrmmI/dq98DssIYD+WYMZphZtfPw+8qcvJymA/5E2swYNmYT/TVlvkPx1iP5ofh88H5GI/limFOHe8Yz9Jos+F2n1hP0ZwBeOwOGA/hnhtfFolYD9pEWLRbi9gP3L06s5ygGA/PtJvFqXUYD8cgd5OE0JhP8Z1ZlWvjGE/YFaFadtNYT/8py2CelliP8MAmpc3AGQ/pAbVbyz+ZD9zmyM5F2dlP99dcUhijmY/8dG09CRMZz+yCT9PjyJoP6OdxJc0j2g/dDVU0DGrZz+herP8UN1nP492A7FnL2g/tJ4VKO9naD9MyLUmX7BoP96orWY7WGk/EHmJ6WTQaT/LQzaMWVBqP4MC03n+fGo/7Gt5Vlfuaj+vURVmafpqP6M8dPbSYGs/EyC5/ecpbD+2lJ0vs+9sPx21tCWoVm0/2603DD0IbT9NlCdkYQptPwLfdEUwuGw/nGwnDndMbD8=",
          "dtype": "f8"
         },
         "yaxis": "y"
        },
        {
         "hovertemplate": "Entity=China<br>Year=%{x}<br>gdp=%{y}<extra></extra>",
         "legendgroup": "China",
         "line": {
          "color": "#FF97FF",
          "dash": "solid"
         },
         "marker": {
          "symbol": "circle"
         },
         "mode": "lines",
         "name": "China",
         "showlegend": true,
         "type": "scattergl",
         "x": {
          "bdata": "qAepB6oHqwesB60HrgevB7AHsQeyB7MHtAe1B7YHtwe4B7kHuge7B7wHvQe+B78HwAfBB8IHwwfEB8UHxgfHB8gHyQfKB8sHzAfNB84HzwfQB9EH0gfTB9QH1QfWB9cH2AfZB9oH2wfcB90H3gffB+AH4Qc=",
          "dtype": "i2"
         },
         "xaxis": "x",
         "y": {
          "bdata": "16YRsZoHjT97mOP8JDOEPx4JuS42EYI/rKnJbP/wgj8J/IEKcfyEP8rWavdLNYc/YRTkh+g8iD+k9Et7aN6FP4mO9t2ZnoM/RoUH2HqdhT/N+ZJz9TuGPwBx0tVh0YY/39T1ooJlhj96U2bpT6aGP51moH03tIY/ZohJVVRtiD+rRya3tNKGPwLQxM2Hnoc/Qg3vd0RgiT+mPqSJtzeKPyp9LHvCS4s/B2gZ2sUnjD+RvYbHGoyOP/nVsHpSh5A/wxFJ+xEykj/IPLPE7+STP8CwX3wJ+JQ/nNiqDupvlj8eOmV2M9eXPyXB9PdT+pY/mNfNgELIlj8VF5fqEH6YP/fybA7NbZs/Xf9YfF3Bnj9r+5qzFOCgP8PkJpgqHaI/NZ+6KrdBoz9UkrL4pUikP2Ro/8rjVaU/fWDmCt06pj+BJ3gAVhanP+w4TNDMiag/RhsbiH81qj+aCRJF5wasP6yvuxzPjK0/Bu3yHM+0rz+iDRxFHCKxPwlt3/Wvx7I/8eLjfTk5tD84uEXJ84O2PyDI2ro/4rc/cmM/P7ZcuT+DHd0akK+6Px4VuqirBbw/gT7LBZU8vT+rLYDP/46+P9qCLPmq178/DTjMfzOGwD8=",
          "dtype": "f8"
         },
         "yaxis": "y"
        },
        {
         "hovertemplate": "Entity=Colombia<br>Year=%{x}<br>gdp=%{y}<extra></extra>",
         "legendgroup": "Colombia",
         "line": {
          "color": "#FECB52",
          "dash": "solid"
         },
         "marker": {
          "symbol": "circle"
         },
         "mode": "lines",
         "name": "Colombia",
         "showlegend": true,
         "type": "scattergl",
         "x": {
          "bdata": "qAepB6oHqwesB60HrgevB7AHsQeyB7MHtAe1B7YHtwe4B7kHuge7B7wHvQe+B78HwAfBB8IHwwfEB8UHxgfHB8gHyQfKB8sHzAfNB84HzwfQB9EH0gfTB9QH1QfWB9cH2AfZB9oH2wfcB90H3gffB+AH4Qc=",
          "dtype": "i2"
         },
         "xaxis": "x",
         "y": {
          "bdata": "xWpkLnSNcD+fDrLXkqtwPwkC/bWZp3A/153yWSxKcD8V6GCBs0dwP6znTCBvt28/T4YJaWeHbz8qeeFxQnRvPyB8ksoXUW8/0APNqJltbz9mLc9WvftsP278/9uob20/ETQH/MT3bT+Bm0WdIwRuPz1ozx39GG8/JJj5kk53bz+7BepIv05vP/uYipt8Xm8/ZKbCKSZecD/8JW6Y6Y9wP0jyZ79xpnA/65FwagizcD98LpGGMMpwP/26mnIgp3A/+loqQcN0cD/nbk9anVlwPxxJnZobvnA/NR7tUdHmcD/2sJqw7MxwP8fpyoCzEnA/cNNhWIBDcD+kM+/rq1xwP5G2qkey2XA/qtGQ4UL8cD/NPetVJ3NxPztqRu6qwnE/8xp5HVuHcT/8bzqJsXtxP5F8stx5JnE/3uZ6wkjMbz8Co/do8shvPxHgBQONtG8//XIFqcHObz9yL6avvg9wP/IS6BYRM3A//1CQDXpWcD+npT5itrZwP2zX+lj9JHE/Vqj3FBlvcT8jMYLD+AhyPxmKLcWM+nE/iBO0avOTcj/SKztiSNtyP4MTkQxgRXM/R/b9ROGPcz+qVCFO47VzP55TeXZmpHM/C5e2/k1ocz8=",
          "dtype": "f8"
         },
         "yaxis": "y"
        },
        {
         "hovertemplate": "Entity=Comoros<br>Year=%{x}<br>gdp=%{y}<extra></extra>",
         "legendgroup": "Comoros",
         "line": {
          "color": "#636efa",
          "dash": "solid"
         },
         "marker": {
          "symbol": "circle"
         },
         "mode": "lines",
         "name": "Comoros",
         "showlegend": true,
         "type": "scattergl",
         "x": {
          "bdata": "vAe9B74HvwfAB8EHwgfDB8QHxQfGB8cHyAfJB8oHywfMB80HzgfPB9AH0QfSB9MH1AfVB9YH1wfYB9kH2gfbB9wH3QfeB98H4AfhBw==",
          "dtype": "i2"
         },
         "xaxis": "x",
         "y": {
          "bdata": "tQqW5BEC5j6Qdu/FNmvmPj5yC6n6wOc+DyYT/opP6D4UJTww9DLoPjYz9rLL2uc+OF16+siC5z5zKbhYq+TmPpgHzHfFdOY+Eynft/Yc5D4hManFUivkPmgTnBTYxOI+nRJ7lRH54z4PIFjZRkLkPhnyObmloOI+Zx1OChGs4j4JAR8I99LhPmjjf1WC4eE+PMbhtS6q4T6Vxtxwa2zhPqAVzLQPfeI+mP7W3ZyP4j64o2HRnpbiPhN9Hh3nceI+KV30QyIA4j5gqHBjhNThPo2OaFhFjOE+mhLd4xX54D7oL0i3L7zgPhep3GjnXOE+WCSNhIID4T52t7ftOOzgPg0ukzMUAeE+CYtaMnYm4T61VLwCNgXhPt1rmuWAz+A+P0rZOy/H4D6iuPnBX7LgPg==",
          "dtype": "f8"
         },
         "yaxis": "y"
        },
        {
         "hovertemplate": "Entity=Congo<br>Year=%{x}<br>gdp=%{y}<extra></extra>",
         "legendgroup": "Congo",
         "line": {
          "color": "#EF553B",
          "dash": "solid"
         },
         "marker": {
          "symbol": "circle"
         },
         "mode": "lines",
         "name": "Congo",
         "showlegend": true,
         "type": "scattergl",
         "x": {
          "bdata": "qAepB6oHqwesB60HrgevB7AHsQeyB7MHtAe1B7YHtwe4B7kHuge7B7wHvQe+B78HwAfBB8IHwwfEB8UHxgfHB8gHyQfKB8sHzAfNB84HzwfQB9EH0gfTB9QH1QfWB9cH2AfZB9oH2wfcB90H3gffB+AH4Qc=",
          "dtype": "i2"
         },
         "xaxis": "x",
         "y": {
          "bdata": "golEqwaKJT8oP1tm/FMmP4Hqx/JbQCY/1QSw9yNMJD+3ufRDXcEjP0cBcR8VXiM/ZQ2lgEeHIj+8LWVB0R0iP4sBMKLLPSI/SADs+5t7Ij8lRkGGJPMgP8y3g+XggSE/y/6QBNf6IT8yUxFiN0MiP+FIYyXSTSM/sPAX3ImUJD8soTc47LYjP7dbw+GzRCE/ix27LMurIT/8/Bs19qEiP9CpC+j1KiU/Uh44Oh1rKD/2+/wEGQ8uP1A4E1IcES8/3N+pcX/GLz99c8rQAEMuPzrO+6oZRSs/vvrNjtEsKj9/YnVR6XEpP5GS1KKaJig/PAY7v3lGJz9CJ2vTa3EnP0Fh96Ablic/19o8DJX/Jj/quVXTHBklP3Nh5tqmOSU/eN4YaTFoJT+wjN+5poMkP43YvHbtwSQ/iCKCNJ6RIz/CADul6SYkP5E/+I6DhSQ/BlYpsFABJT+gayPEXZQkP8gj0gr6YyQ/PaZh49spJT8vlYG2i44lPw2zwHSUWyQ/gLvkez0bJT9diE6saBUnPwFdxufEESg/GBQTyNghKD9ItW0ezW8oP3ui3MbooSg/yNPT5naTKT9yh3I1MqspP8H2lW2gXSg/uAt29xaSJj8=",
          "dtype": "f8"
         },
         "yaxis": "y"
        },
        {
         "hovertemplate": "Entity=Costa Rica<br>Year=%{x}<br>gdp=%{y}<extra></extra>",
         "legendgroup": "Costa Rica",
         "line": {
          "color": "#00cc96",
          "dash": "solid"
         },
         "marker": {
          "symbol": "circle"
         },
         "mode": "lines",
         "name": "Costa Rica",
         "showlegend": true,
         "type": "scattergl",
         "x": {
          "bdata": "qAepB6oHqwesB60HrgevB7AHsQeyB7MHtAe1B7YHtwe4B7kHuge7B7wHvQe+B78HwAfBB8IHwwfEB8UHxgfHB8gHyQfKB8sHzAfNB84HzwfQB9EH0gfTB9QH1QfWB9cH2AfZB9oH2wfcB90H3gffB+AH4Qc=",
          "dtype": "i2"
         },
         "xaxis": "x",
         "y": {
          "bdata": "QkcCIBGmOz8uuMLyFDM6P7e5Ujo61zo/BfMZTXu7Oj/SZESnBho6P4Jj592jGzs/tVCZLoGZOz+uy07ve+s7P/WwJXspTzw/FAe9SIgoPD/mRh7dwhk6P6DP6osjtzo/iGGkw0xTOz/OPA9bAp87P7VEpdETkDw/WFAuAADcPD/Qohjj6uc8P91tMa8RST4/2yxT+QD3Pj8vDE58XzM/P930lSmyWz4/s9p7oMEZPT9yR6Q+Kt86P+wi+Xrt/Do/gdACClhnOz+svLSuva86P5USiVI9UDs/rFUI9WX3Oz/8g+mHHLw7P/k+DLby9Do/KOKIrBC6Oj8gig/xQvc6P3ezbtQm3zw/4mes3wpyPj/DhZ0SIOE+P5FJaxEqGz8/SiG3gUl0Pj+TwbDIggA/PyhKbqYbLEA/698fpHZEQD/aNpIObidAP/IqxZKZZkA/SeQVBYeUQD9AiqE4hcxAP2oWMYNuyEA/tYtynIjKQD8s2gBKtENBPwCZqhRc60E//AgMrH9qQj+k3HaoPI9CP4TqBscKrUI/ivyQZZriQj/Bi8PAoE5DP8aal6nIPUM/PxXkcBteQz/+gKm31p9DP4D4aTAc9kM/Swoxg6z/Qz8=",
          "dtype": "f8"
         },
         "yaxis": "y"
        },
        {
         "hovertemplate": "Entity=Cote d'Ivoire<br>Year=%{x}<br>gdp=%{y}<extra></extra>",
         "legendgroup": "Cote d'Ivoire",
         "line": {
          "color": "#ab63fa",
          "dash": "solid"
         },
         "marker": {
          "symbol": "circle"
         },
         "mode": "lines",
         "name": "Cote d'Ivoire",
         "showlegend": true,
         "type": "scattergl",
         "x": {
          "bdata": "qAepB6oHqwesB60HrgevB7AHsQeyB7MHtAe1B7YHtwe4B7kHuge7B7wHvQe+B78HwAfBB8IHwwfEB8UHxgfHB8gHyQfKB8sHzAfNB84HzwfQB9EH0gfTB9QH1QfWB9cH2AfZB9oH2wfcB90H3gffB+AH4Qc=",
          "dtype": "i2"
         },
         "xaxis": "x",
         "y": {
          "bdata": "5GOavlUlPz9o2QDmBGFAPw2PuA5yaT8/WcRRvWYXQT9HBU1gd9hCPyVm79orREE/+yG7EfsuQj8NnK1zGjZCP7i+7jqyLEM/Y2ki1LvJQz+eO1ND/dRCP1uj9MJNwkM/naXgBEx5Qz+kYvpZdFxDP318cL5OykM/N+6eEGQzRT9ejLpFU7lGPzRhLHz2dUc/ANfbkO0IST+49nW1I51IPwh/ig9wKkU/LjzwDTF8RT82hjoaB3FFP2v0mLhPHkQ/cEHhVjy3Qj+bElxTm9lCPyipP8gO1UI/RavTQKL6QT9jb7cUkF5BP4OKTVu5ikA/Xrzj7wg5Pz/z+s7sh7k+P4xJAGZQDT4/SviXTimJPT9/pDEiHuc8P+CZh39/9D0/n4gU0zQ1Pz8906mqkzg/Pxf0W0Jf9D8/HX6WJmBsPz8HVdjrbHU9PwzOeUNd7zw/WvwTHtnYOz8kOITs4LE6P3zE7A834Dk/YdnWrExaOT9BURYwMK04P+79pBCzGDg/U7J8zAlEOD+axzFVWn85P4l6Jxyq8Dg/UGUAeQseNz8Xl+ZTdfc4P91V76sEfjo/gWtMn6MGPD8WwgvVUdM9P6pZkTWMjj8/ewm8Fm+DQD8=",
          "dtype": "f8"
         },
         "yaxis": "y"
        },
        {
         "hovertemplate": "Entity=Croatia<br>Year=%{x}<br>gdp=%{y}<extra></extra>",
         "legendgroup": "Croatia",
         "line": {
          "color": "#FFA15A",
          "dash": "solid"
         },
         "marker": {
          "symbol": "circle"
         },
         "mode": "lines",
         "name": "Croatia",
         "showlegend": true,
         "type": "scattergl",
         "x": {
          "bdata": "ywfMB80HzgfPB9AH0QfSB9MH1AfVB9YH1wfYB9kH2gfbB9wH3QfeB98H4AfhBw==",
          "dtype": "i2"
         },
         "xaxis": "x",
         "y": {
          "bdata": "RuMELB8ETz961ZG0s8FPPwvvLutQVFA/y2MSYWg5UD/TKiinfBtPP2HYltmk5U4/F3HEpB1aTz/5UiYTuyVQP4/SMrOVkFA/xEvDvz+CUD+BJ/qnPJBQP2wWxQQPpFA/phc5KkvKUD+al2yF1NNQP/Tnazh+uE8/iFxtIkv7TT8RNJaAivhMPxPSyF3IoEs/wwpPc6C/Sj+OejTEFvxJP3diq2i+AEo/1vXO36IySj+RJMAZQyRKPw==",
          "dtype": "f8"
         },
         "yaxis": "y"
        },
        {
         "hovertemplate": "Entity=Cuba<br>Year=%{x}<br>gdp=%{y}<extra></extra>",
         "legendgroup": "Cuba",
         "line": {
          "color": "#19d3f3",
          "dash": "solid"
         },
         "marker": {
          "symbol": "circle"
         },
         "mode": "lines",
         "name": "Cuba",
         "showlegend": true,
         "type": "scattergl",
         "x": {
          "bdata": "sgezB7QHtQe2B7cHuAe5B7oHuwe8B70Hvge/B8AHwQfCB8MHxAfFB8YHxwfIB8kHygfLB8wHzQfOB88H0AfRB9IH0wfUB9UH1gfXB9gH2QfaB9sH3AfdB94H3wc=",
          "dtype": "i2"
         },
         "xaxis": "x",
         "y": {
          "bdata": "lJGAIiupUj96pi3fW2xTPycMgm1VQFM/rHWVkfmvUj8fVgN1UX1SP321bQj7B1Q/u3JJEOQLVD+F+JN8LfdUPwjZslWKgFU/Ff5US+zeVD/ZY0GRoS1TPyMhb18tg1Y/046r29prWD8dh8hadyJZP4xQrPDh71k/loR6zaNlWT9ExtYoephYP0kZS25a/1Y/BzIPhDLIVj+xd+kJ/DdVP2CIrU5nplM/vagYjAtDUT9GCy4xOe5NP6Xln9yMFkk/EdF53AeHSD+iPOhzB1BIP5TtguzpWkk/KUQY940hST8gehVeSo1IP07wrxnXOkk/F7giw5yUST+Axw2UBeVJPxvRL8JotEk/b/0z1p/tST9pGNazc0JKPyP1n4xqIEw/anHQNLU4Tj/x3P+D8hpPPyv8LWr6zU8/L1pPVwxrUD9mME5rMB5QP2FLB1Y4EFA/iSV2fZ0kUD8LQq70zSlQP56PxCFVw08/yr5KzaE3UD8=",
          "dtype": "f8"
         },
         "yaxis": "y"
        },
        {
         "hovertemplate": "Entity=Cyprus<br>Year=%{x}<br>gdp=%{y}<extra></extra>",
         "legendgroup": "Cyprus",
         "line": {
          "color": "#FF6692",
          "dash": "solid"
         },
         "marker": {
          "symbol": "circle"
         },
         "mode": "lines",
         "name": "Cyprus",
         "showlegend": true,
         "type": "scattergl",
         "x": {
          "bdata": "twe4B7kHuge7B7wHvQe+B78HwAfBB8IHwwfEB8UHxgfHB8gHyQfKB8sHzAfNB84HzwfQB9EH0gfTB9QH1QfWB9cH2AfZB9oH2wfcB90H3gffB+AH4Qc=",
          "dtype": "i2"
         },
         "xaxis": "x",
         "y": {
          "bdata": "WkZy480CKD9S8NqTRmkrPy39DCCgry4/276ArffRLz+++A9dO8owP4/ejx/GJTE/39HjIao9MT+DtazLlTQyPzY4sid8xDI/H5+fjeiDMz8hjrWzG7ozP212sDsSyzM/UKzxp2tNND+DfIR6DBI1PwOV6UmKCjU/zULXZm2QNT9yo0LCTF41P1a+h6PT6zY/Rwy0xpm6Nj8uyWc7Ul03P/r9GHPEhDg/zPdyVQIHOD9EN1XRu8M3P0L6exXFZDg/6HIlLQC/OD/B0ejtgQs5P8xXD2NgdDk/E8S5FIHCOT//BEhYcqc5P9s5KpPmrzk/rMuWyNWpOT/ELq8vOLc5PziRBPuA3Tk/32uEp+5hOj+b06Ivcl86P4EXJCOOnjk/IIMyM5nqOD9Y0s6sUpA3P7yapvOPmTU/u0MjBFu1ND/v0nq5+aU0PwBzZ6mJ2TQ/Hx9zeC0HNT8=",
          "dtype": "f8"
         },
         "yaxis": "y"
        },
        {
         "hovertemplate": "Entity=Czechia<br>Year=%{x}<br>gdp=%{y}<extra></extra>",
         "legendgroup": "Czechia",
         "line": {
          "color": "#B6E880",
          "dash": "solid"
         },
         "marker": {
          "symbol": "circle"
         },
         "mode": "lines",
         "name": "Czechia",
         "showlegend": true,
         "type": "scattergl",
         "x": {
          "bdata": "xgfHB8gHyQfKB8sHzAfNB84HzwfQB9EH0gfTB9QH1QfWB9cH2AfZB9oH2wfcB90H3gffB+AH4Qc=",
          "dtype": "i2"
         },
         "xaxis": "x",
         "y": {
          "bdata": "tknsRxfCbz+tA2YcRJxrPzx6zk5Z72o/u6MbHy2Kaj8FaWr28IJqP77HkGCnPms/HKZ4hdR1az8L0aontVJqPx4R7CNYl2k/uwd/j7geaT+l0sB9phJpPw9ta18RUGk/+wYxrvwuaT8nEelHJ1tpP+WUncloeGk/CyW5x9Iiaj+1cppByMZqP93jGvcTIms/IJkw5WNcaz9y3lrw0YFqP+VgtI4f/mk/WHTRZIKlaT+6O04dvdFoP5UFhVGmEWg/wg4LSiMKaD9B0evBqsBoP9/cXQPCzGg/IaYnVkYcaT8=",
          "dtype": "f8"
         },
         "yaxis": "y"
        },
        {
         "hovertemplate": "Entity=Democratic Republic of Congo<br>Year=%{x}<br>gdp=%{y}<extra></extra>",
         "legendgroup": "Democratic Republic of Congo",
         "line": {
          "color": "#FF97FF",
          "dash": "solid"
         },
         "marker": {
          "symbol": "circle"
         },
         "mode": "lines",
         "name": "Democratic Republic of Congo",
         "showlegend": true,
         "type": "scattergl",
         "x": {
          "bdata": "qAepB6oHqwesB60HrgevB7AHsQeyB7MHtAe1B7YHtwe4B7kHuge7B7wHvQe+B78HwAfBB8IHwwfEB8UHxgfHB8gHyQfKB8sHzAfNB84HzwfQB9EH0gfTB9QH1QfWB9cH2AfZB9oH2wfcB90H3gffB+AH4Qc=",
          "dtype": "i2"
         },
         "xaxis": "x",
         "y": {
          "bdata": "VlGq97rBXD+QLVPs64ZYP1/+wWfvKFw/93neYj0pXD8+vvSwzcFZP/xV4SpQmVg/oRIqS27KWD9huFPp0oBXP5x3NGyj8FY/ZJAsyd+gVz9vSTHmvFJUP9cAbkG0plQ/E3YtsS6OUz+YTKYnfdhTP8AHtLCEDVQ/HstWgg/bUj+MF7U+xfJQP+nm5E3nbVA/7sbrzqbsTT8TqOhjUttMP/KD9JzLekw/K7RPFZKWTD/6Eyemt1dMP6pBuLJLEEw/M2NNMZNRTD9f6RhCxGtLPzBWFfopyEs/hPnFAQdUSz+xaOS1SDpKP83+tD6p9Ec/YTDlanVbRT/07/9eJz1DP5mHMHkR4kA/N1ULhovFPD/RVLdh29Y6PzwA8DfdJTo/4x8D8TgHOT/aTRKxkcc2P9QSX+G92zU/YGrjt+M/ND8UBNHNeQsyP/7wfgmuVDE/KqZhVkZ2MT+kIx2BseoxP9dFSA3RTzI/abSrf1m4Mj+1zvMtXucyP6R8tYRSRjM/3R4fDHYbND8UnC6F+Qs1P1b+f30onTU/XtcXRd9kNj/7nJwYCmU3P2Krin06uzg/ghtz6GFTOj88RAuNKIU7P0mxkthBhTs/bsPvGEO1Oz8=",
          "dtype": "f8"
         },
         "yaxis": "y"
        },
        {
         "hovertemplate": "Entity=Denmark<br>Year=%{x}<br>gdp=%{y}<extra></extra>",
         "legendgroup": "Denmark",
         "line": {
          "color": "#FECB52",
          "dash": "solid"
         },
         "marker": {
          "symbol": "circle"
         },
         "mode": "lines",
         "name": "Denmark",
         "showlegend": true,
         "type": "scattergl",
         "x": {
          "bdata": "qAepB6oHqwesB60HrgevB7AHsQeyB7MHtAe1B7YHtwe4B7kHuge7B7wHvQe+B78HwAfBB8IHwwfEB8UHxgfHB8gHyQfKB8sHzAfNB84HzwfQB9EH0gfTB9QH1QfWB9cH2AfZB9oH2wfcB90H3gffB+AH4Qc=",
          "dtype": "i2"
         },
         "xaxis": "x",
         "y": {
          "bdata": "kwBI93rmhT8Ip1tYDkqGP4s34FCST4Y/2rJ4H1dXhT9e62P2u9yFP3PX4zlfnYU/QNvFi9H1hD9CD8WQlMGEPzL3Mr12MIQ/LV5Ywy05hD8FXFjcA+qBP3M41b0lsIE/1H4t7qJhgT9rAVSCy/qAP8b14bAJc4A/j5GWiYwKgD8BeT3yCSGAP0sER+1VnX8/Jy1SQDUYfz+cEy+aCgN/P8CAV4b9zX0/YkUzAFEJfT+X9uQzJvx9P76IdqRaCX4/+DIT5iPqfT+9EKzsWvx9Py+ZhV5Jb34/Qj7iT1E7fT9/+Kv5Wet7P35dRO2V/nk/8+v8NIYreT+IDdvWeRp5P+Rddwh+GHk/7+eZivy2eD/chwFdEUV5P7plO1AaMHk/XGw/RKEQeT+Bd7R6ePV4P7T95O+L4ng/S+ZTNanKeD+PXZREKp94P7vdAOCCWng/VYEIkk7ydz+0YIy641x3P2RXLVCo93Y/mcpInaWjdj97opu+RI52P9Lff+Qf13U/HApTYatWdT+iOFfobaZ0P/4UX0pvK3Q/fRUcNJjQcz9a0rv+w19zP2pVWqFODnM/6ZU19mHUcj/sjzMA2LRyP7RidJuNoHI/Brq/G2t9cj8=",
          "dtype": "f8"
         },
         "yaxis": "y"
        },
        {
         "hovertemplate": "Entity=Djibouti<br>Year=%{x}<br>gdp=%{y}<extra></extra>",
         "legendgroup": "Djibouti",
         "line": {
          "color": "#636efa",
          "dash": "solid"
         },
         "marker": {
          "symbol": "circle"
         },
         "mode": "lines",
         "name": "Djibouti",
         "showlegend": true,
         "type": "scattergl",
         "x": {
          "bdata": "2gc=",
          "dtype": "i2"
         },
         "xaxis": "x",
         "y": {
          "bdata": "N+FU3x4Z8j4=",
          "dtype": "f8"
         },
         "yaxis": "y"
        },
        {
         "hovertemplate": "Entity=Dominica<br>Year=%{x}<br>gdp=%{y}<extra></extra>",
         "legendgroup": "Dominica",
         "line": {
          "color": "#EF553B",
          "dash": "solid"
         },
         "marker": {
          "symbol": "circle"
         },
         "mode": "lines",
         "name": "Dominica",
         "showlegend": true,
         "type": "scattergl",
         "x": {
          "bdata": "uQe6B7sHvAe9B74HvwfAB8EHwgfDB8QHxQfGB8cHyAfJB8oHywfMB80HzgfPB9AH0QfSB9MH1AfVB9YH1wfYB9kH2gfbB9wH3QfeB98H4AfhBw==",
          "dtype": "i2"
         },
         "xaxis": "x",
         "y": {
          "bdata": "j7KQeD754D6aFC2o3UDiPriDQl2Qltw+ytrTj7iL3z5MA/AMuFbhPn9/0H2b++E++sfJSNMH4j4rrHWUtCziPuOyBgLXveE+dsOr3Vlh4j4L7PD61e7iPuaHmDkjouM+WAHxYU8e4j4LizBuezLiPksSFwgnAuI+iXWnNtAE4j4hcFpjrAriPkU9QQV+w+E+GVvsX26G4T63GW2uU2XhPtp7Iph2BuE+wfFX1OJu4T5f+oADWPzgPlZn/rkyUuA+fVY1VFcW4D645OL9FvDePuchxBlbMOA+eUYpcU0B4D7JQL0oHs7ePgiTCBGuZt4+moqoEPsD3z7U7mPMXFDgPg9By8dwaOA+Ff87v+Ss3z7fkSTt/KLePlbMvNwSkd0+Pg76TRmj3D7X/OJtPhTdPvYQUFxztds++WulhBzG2z7bN0vGONTZPg==",
          "dtype": "f8"
         },
         "yaxis": "y"
        },
        {
         "hovertemplate": "Entity=Dominican Republic<br>Year=%{x}<br>gdp=%{y}<extra></extra>",
         "legendgroup": "Dominican Republic",
         "line": {
          "color": "#00cc96",
          "dash": "solid"
         },
         "marker": {
          "symbol": "circle"
         },
         "mode": "lines",
         "name": "Dominican Republic",
         "showlegend": true,
         "type": "scattergl",
         "x": {
          "bdata": "qAepB6oHqwesB60HrgevB7AHsQeyB7MHtAe1B7YHtwe4B7kHuge7B7wHvQe+B78HwAfBB8IHwwfEB8UHxgfHB8gHyQfKB8sHzAfNB84HzwfQB9EH0gfTB9QH1QfWB9cH2AfZB9oH2wfcB90H3gffB+AH4Qc=",
          "dtype": "i2"
         },
         "xaxis": "x",
         "y": {
          "bdata": "4lYYlpe8Pz8vWt8zQKk9P2pQaTiXcUA/VWYSA1elQD8u8duCTqlAP++rfJq5kzs/fkMdMmyIPT/UV7iEAjg9P+FBu55KZjs/GzIAxQygPD/ovVqyGy49P7O0NyojAz8/z2ObZGIvQD9r1c6s6iVBPz4ECGY8z0E/1cTsWyKKQj9lQvwQVMhCPx2JXSNX+EI/PdnGHnWkQj9n5U1zHrZCP6x9DyWggkM//ETqkin0Qz9hOFIXADZEP5QpCPeLpUQ/6fjzMN78Qz8cy/IN69pCP2CIXEOi4kI/gHJP017sQz/G20hZF3FDP40SaxHbxkI/1OQV1Y7wQD+vIw7U6NFAP1dRqfiyV0I/m/fRHXhkQz8fpTBMS1BDPwQaSqRnv0M/abNBGDM9RD9dLaCESEBFP9TajhTEHkY/ubZNWH+tRj+pXIO5jbhGPwU1eCKT1kY/pGIqB2NbRz/n0BE3yGRGPxQ7BeBd/kU/n0YZDIIuRz94DTTx/ENIP4TVCEjPAkk/RCJpXbZZST/pJU3d3gpKPwbobN4+DUs/dgQB5AcMSz8z0DsnRhpLP8SgUpTWsks/uLDxc339TD+mnbast1ZOP4yrb9Zclk8/xmPfiiIIUD8=",
          "dtype": "f8"
         },
         "yaxis": "y"
        },
        {
         "hovertemplate": "Entity=Ecuador<br>Year=%{x}<br>gdp=%{y}<extra></extra>",
         "legendgroup": "Ecuador",
         "line": {
          "color": "#ab63fa",
          "dash": "solid"
         },
         "marker": {
          "symbol": "circle"
         },
         "mode": "lines",
         "name": "Ecuador",
         "showlegend": true,
         "type": "scattergl",
         "x": {
          "bdata": "qAepB6oHqwesB60HrgevB7AHsQeyB7MHtAe1B7YHtwe4B7kHuge7B7wHvQe+B78HwAfBB8IHwwfEB8UHxgfHB8gHyQfKB8sHzAfNB84HzwfQB9EH0gfTB9QH1QfWB9cH2AfZB9oH2wfcB90H3gffB+AH4Qc=",
          "dtype": "i2"
         },
         "xaxis": "x",
         "y": {
          "bdata": "M0QSFfuEUj9sTXSK1/1RP5Q3J0H00VE/H1borh2YUT9uEFxchchRP/Hay0D8m1E/8odVuGmQUD8BRU741JdQP7wDBWd7o08/T1Q6K/wyTz/ICXrj279MP0UCmI3tSk0/OChNZRIWTT93cAgM1RpPPytgveIU8lA/M8zrHACcUj+lEAhcr/hSP3xG9i9li1I/XOO9IUjcUj+5JPEdL8lSPzezSoKm0FI/it5GoBx9Uz8cTWHhjodTP8U/VVP9AFM/HnYkTZGlUj8A5gX3wq1SP25WTRvCslI/EOhxggLeUT94Gf19nxJSP/a7xv0T41A/8IbSzei0UD+L+kKEfyNRP+pjWinpKFE/Gkm4dSI7UT9oPwR1MnBRP5Q3ivhAQFE/+UaxGc34UD+bh8aVHRNRP3K/DBreMlE/u/DsM6O1Tz/AZ0pcrq9OPxhg58kmUE8/upB8RP/mTz/b526vF9lPPx2IJM7nf1A/4NoXHcO7UD9HIZXMG8BQPwchOo3NbFA/6j5oZtknUT+KO/05xY5RP4cVQu18bVE/eJmQjX05Uj91jVCrMshSP1nURe9DNVM/QBibjJxiUz9aEsfd+/hSPx7zxdl4PFI/O1k9l248Uj8=",
          "dtype": "f8"
         },
         "yaxis": "y"
        },
        {
         "hovertemplate": "Entity=Egypt<br>Year=%{x}<br>gdp=%{y}<extra></extra>",
         "legendgroup": "Egypt",
         "line": {
          "color": "#FFA15A",
          "dash": "solid"
         },
         "marker": {
          "symbol": "circle"
         },
         "mode": "lines",
         "name": "Egypt",
         "showlegend": true,
         "type": "scattergl",
         "x": {
          "bdata": "qAepB6oHqwesB60HrgevB7AHsQeyB7MHtAe1B7YHtwe4B7kHuge7B7wHvQe+B78HwAfBB8IHwwfEB8UHxgfHB8gHyQfKB8sHzAfNB84HzwfQB9EH0gfTB9QH1QfWB9cH2AfZB9oH2wfcB90H3gffB+AH4Qc=",
          "dtype": "i2"
         },
         "xaxis": "x",
         "y": {
          "bdata": "WnH+aq/tXj+26yi8cOReP64jsiQ4RV8/BTs9he00YD8HoEbRXW5gP1QHSKAJVmA/0/9ppdgpXz8dmtjDnwZeP28JAQOP2lw/SNfDUh0JXT8C1nUe3W9aP1Ncfpe+Nlo/hqpuWM5JWT+80cSVXOZXP8rrAO+N/1c/Jj/iFiPfWT9xfZPsiiZcP4JPbY4bj14/dvZUnOIZXz8nQALTl6pfP9ZZIxlN0mA/5lIN9xEeYT8jPU/9zLxiP+e1QrIYpmM/mrKFQUbuYz+mU9RQL3pkP2e98AkqVmQ/evqy4Fv5Yz82DLTpXhdkP6jso/+ngmM/PlO+t6ytYz8Wm8rsvpBjPwxIU5a/CGQ/j5tb1d5MZD9j+RX1AH1kPymQoMLyvWQ/e+zfKUkPZT9MhlhTamxlPxM4ivNvvWU/bg6Z3p9SZj86R3BhJIRmP0lX3jq53mY/Nb6MwfnpZj+AcXaVv/pmP8w1QkJD52Y/QhSaG3kMZz/KItkRFp1nP+/tQ7LjQ2g/YSWnQg2JaT834kgxfTNrP4oesuoSbGs/y2Ec1rQOaz9PfMiwDPtqPx+HuPPi3Wo/+bGsOe7iaj87DKKuAHBrP0F5MJCs9Ws/jx9+v9NHbD8=",
          "dtype": "f8"
         },
         "yaxis": "y"
        },
        {
         "hovertemplate": "Entity=El Salvador<br>Year=%{x}<br>gdp=%{y}<extra></extra>",
         "legendgroup": "El Salvador",
         "line": {
          "color": "#19d3f3",
          "dash": "solid"
         },
         "marker": {
          "symbol": "circle"
         },
         "mode": "lines",
         "name": "El Salvador",
         "showlegend": true,
         "type": "scattergl",
         "x": {
          "bdata": "rQeuB68HsAexB7IHswe0B7UHtge3B7gHuQe6B7sHvAe9B74HvwfAB8EHwgfDB8QHxQfGB8cHyAfJB8oHywfMB80HzgfPB9AH0QfSB9MH1AfVB9YH1wfYB9kH2gfbB9wH3QfeB98H4AfhBw==",
          "dtype": "i2"
         },
         "xaxis": "x",
         "y": {
          "bdata": "HWKPT8wDRT96Aod5V0FFP/FwZ0xddUU/RAWtBma5RD+dxN3eiTREP+Cw4X6z8EE/LqIL3E/cQT/9GgZeoutBP4vF1W2zokE/S01MvmAzQj/vdEPouYlCP3o7bQNJfEI/V5MlnWj9Qj8XguspRj5DP/eoPstttEE/weDoasUrPj9m1U6gd386P3/sfG0aujg/Nss3AGqDOD/EYYxgMMA3P3eb4IcqCDc/bMz/JHpTNj9z6D0hRu01P7ApZv2pVjU/slLbtBDuMz9YIOzxpO8zP0a3O08y5zM/pM8GO3fiND+k6xsAIcM1P2b5k2N7HTY/eOXpSKZoNj/h0juWH9k1P9gZ/TCoujU/OBQFztbBNT/9OJpogoI1PxKDIbCe0jQ/gGi2SGSbND9GVeEow3w0P/NIKZysODQ/DYdRp/OIMz9TtP+bW1MzP66mc2WAVTM/BTLr1rLlMj+rzeLd8PMyP48ZRyzN4jI/BsHI4zd9Mj82ZBRNhJsyP2/WwkfPqTI/Vbx2ZHieMj/mA+G4jXYyPxO0lqdCezI/CX7j7LKDMj+9iIs9kmQyPw==",
          "dtype": "f8"
         },
         "yaxis": "y"
        },
        {
         "hovertemplate": "Entity=Equatorial Guinea<br>Year=%{x}<br>gdp=%{y}<extra></extra>",
         "legendgroup": "Equatorial Guinea",
         "line": {
          "color": "#FF6692",
          "dash": "solid"
         },
         "marker": {
          "symbol": "circle"
         },
         "mode": "lines",
         "name": "Equatorial Guinea",
         "showlegend": true,
         "type": "scattergl",
         "x": {
          "bdata": "vAe9B74HvwfAB8EHwgfDB8QHxQfGB8cHyAfJB8oHywfMB80HzgfPB9AH0QfSB9MH1AfVB9YH1wfYB9kH2gfbB9wH3QfeB98H4AfhBw==",
          "dtype": "i2"
         },
         "xaxis": "x",
         "y": {
          "bdata": "VeigJvb92j4buTP5+//bPkDATjRHgNw+VxsvX2U43T6muzozZjjcPr5/nnpgtd4+YgFOcMsE3T4y+GBv0wjdPmxuydaeeNw+1NcuZLsD2j41t/ewAWPYPvkpCokhvtc+C+6WnlBe3z6EdY8rBybhPj73s8eya+M+X/csQAoT5j4ByyPzxcfxPgD0VBUgbgU/7kQN5GTfCT8FUfAYkXYPP5eqnCpqzRE/wPsSbquIHD+ITxppV64gP6aBYus4eSI/f1aY+xBpKD90a3vAQXMrPxdU+A3TWCw/ITnfUn1bLz/1wlFJTSMyP/d8mEnTtDI/bsCLa79VMD8tZJjxdt4wP06ktEkU0zE/QZ6watimMD8fyYgMT0IwP8q54vaW5yw/Y77dYJbOKT/u3ql+qz8oPw==",
          "dtype": "f8"
         },
         "yaxis": "y"
        },
        {
         "hovertemplate": "Entity=Eritrea<br>Year=%{x}<br>gdp=%{y}<extra></extra>",
         "legendgroup": "Eritrea",
         "line": {
          "color": "#B6E880",
          "dash": "solid"
         },
         "marker": {
          "symbol": "circle"
         },
         "mode": "lines",
         "name": "Eritrea",
         "showlegend": true,
         "type": "scattergl",
         "x": {
          "bdata": "yAfJB8oHywfMB80HzgfPB9AH0QfSB9MH1AfVB9YH1wfYB9kH2gfbBw==",
          "dtype": "i2"
         },
         "xaxis": "x",
         "y": {
          "bdata": "lIHV/lb9/z4yoypsmt4BP0D0sXTjBgU/yI7xD6HsBD81tWtU4hsGP+3N4EuaAQc/HgK614/WBj8U+DscnBoGP9CuyfGqfgQ/C7bm3M7dBT/KYsS4WgsGP7q+PunF2gQ/+kbPVDlCBD/GNATu/wMEP6cAx0s+AQM/oh0rAxh/Aj+z2hKCMWMAP6kduSvSUgE/WkdB9GH5AD8wpoisROIBPw==",
          "dtype": "f8"
         },
         "yaxis": "y"
        },
        {
         "hovertemplate": "Entity=Estonia<br>Year=%{x}<br>gdp=%{y}<extra></extra>",
         "legendgroup": "Estonia",
         "line": {
          "color": "#FF97FF",
          "dash": "solid"
         },
         "marker": {
          "symbol": "circle"
         },
         "mode": "lines",
         "name": "Estonia",
         "showlegend": true,
         "type": "scattergl",
         "x": {
          "bdata": "ywfMB80HzgfPB9AH0QfSB9MH1AfVB9YH1wfYB9kH2gfbB9wH3QfeB98H4AfhBw==",
          "dtype": "i2"
         },
         "xaxis": "x",
         "y": {
          "bdata": "lTGbvrF4MD9liF9t88YwPwEb/3dhFjI/xfSGZ3BeMj85TWEhrp8xP9WlM7RcpzI/kaRm1kV1Mz8JjqdXhTM0P3vEZDKYFjU/O+I2dq92NT+TUu6XnJw2PyYx6xAv6Dc/XQ/qYrK3OD8UfvtWXfU2P10CC1OE7DM/OEKhjdOIMz9ip4EWXGA0P9tVNCT/uzQ/IzVno7WYND+AswfISJs0P6rADIJCfDQ/I8Gdix5rND8KSYKfQ8k0Pw==",
          "dtype": "f8"
         },
         "yaxis": "y"
        },
        {
         "hovertemplate": "Entity=Eswatini<br>Year=%{x}<br>gdp=%{y}<extra></extra>",
         "legendgroup": "Eswatini",
         "line": {
          "color": "#FECB52",
          "dash": "solid"
         },
         "marker": {
          "symbol": "circle"
         },
         "mode": "lines",
         "name": "Eswatini",
         "showlegend": true,
         "type": "scattergl",
         "x": {
          "bdata": "sgezB7QHtQe2B7cHuAe5B7oHuwe8B70Hvge/B8AHwQfCB8MHxAfFB8YHxwfIB8kHygfLB8wHzQfOB88H0AfRB9IH0wfUB9UH1gfXB9gH2QfaB9sH3AfdB94H3wfgB+EH",
          "dtype": "i2"
         },
         "xaxis": "x",
         "y": {
          "bdata": "KiEzHdsaAD89I4bOOo8BP6m4ND7UgAE/qRFK42boAT9h8QSGnY0CP9zWVIrz6QQ/9IXoPnZuAz8EVxfuCOICP3GIp/GyaAI/jZH8dK45Aj+6fy0PwMoDP5QmuKrRQAY/C/WMO2RsBj/NMcUHJygGP/Q9Vj9afQY/dexoxFJ/Bj8SKB1Dr28IP6OXcZ2T1Ao/a5x3FChQCz9EMn/nfYcMP7UAB1DleBA/kSlaMfN8ED/u6+O5LLAQPwr9W6yO8RA/wNwE84XXED+Bk8vljBQRPypr828KJxE/Scbo9sINET/4oKFuQxERPxR56aoAARE/Cgrl42GQED+P1tHU1GsQP4ctDUaYxhA/PveJDpbvED/lqEbj4M0QP7By15gnKBE/Gqoq7oJvET9KkGUB93gRP0YLSrvITBE/rDRYg5PhET/pOHuMdssRP4tQzfaGoxE/RtiD8vMEEj+iVztM3a8SP0x1RcuOhRI/2d1rMC8uEj9skdcpZ/8RP2FWW9e90hE/",
          "dtype": "f8"
         },
         "yaxis": "y"
        },
        {
         "hovertemplate": "Entity=Ethiopia<br>Year=%{x}<br>gdp=%{y}<extra></extra>",
         "legendgroup": "Ethiopia",
         "line": {
          "color": "#636efa",
          "dash": "solid"
         },
         "marker": {
          "symbol": "circle"
         },
         "mode": "lines",
         "name": "Ethiopia",
         "showlegend": true,
         "type": "scattergl",
         "x": {
          "bdata": "vQe+B78HwAfBB8IHwwfEB8UHxgfHB8gHyQfKB8sHzAfNB84HzwfQB9EH0gfTB9QH1QfWB9cH2AfZB9oH2wfcB90H3gffB+AH4Qc=",
          "dtype": "i2"
         },
         "xaxis": "x",
         "y": {
          "bdata": "/1gSKM2lND+0LoFTucA0P2mUks9d7jU/huZMJw9fND+s0xuSFnIxP+6HmsCFgjI/JG4+c9kwND/9wQB4VWIzP+2rOK4E3jE/+EzQI46DMT8oPNRj5v4vP+ZiGCuypiw/C182a9zrLz8nh3Xsa/kvPzTS41IwajA/x1grZM3YMT/RjWi53r8xPz3rKDTVtjA/cIOzm3gCMT+2pB5/mUUxPzZ483vSWTI/lnWRX4E7Mj9Pv2TnAVYxP2mdnANG2jI/NOSnhxtOND9IzOE86JM1PyEW2n6+Ezc/njhBE6QbOT+uii8vAs07P2vDa04rAD4/4ZEmBOcqQD/KrEaq3iJBP9pd2d5Nd0I/CrJEeD7MQz/c2MSvdl5FPw1HQWFVckY/yMn12aEGSD8=",
          "dtype": "f8"
         },
         "yaxis": "y"
        },
        {
         "hovertemplate": "Entity=Faeroe Islands<br>Year=%{x}<br>gdp=%{y}<extra></extra>",
         "legendgroup": "Faeroe Islands",
         "line": {
          "color": "#EF553B",
          "dash": "solid"
         },
         "marker": {
          "symbol": "circle"
         },
         "mode": "lines",
         "name": "Faeroe Islands",
         "showlegend": true,
         "type": "scattergl",
         "x": {
          "bdata": "2gc=",
          "dtype": "i2"
         },
         "xaxis": "x",
         "y": {
          "bdata": "09LhEFJzAj8=",
          "dtype": "f8"
         },
         "yaxis": "y"
        },
        {
         "hovertemplate": "Entity=Fiji<br>Year=%{x}<br>gdp=%{y}<extra></extra>",
         "legendgroup": "Fiji",
         "line": {
          "color": "#00cc96",
          "dash": "solid"
         },
         "marker": {
          "symbol": "circle"
         },
         "mode": "lines",
         "name": "Fiji",
         "showlegend": true,
         "type": "scattergl",
         "x": {
          "bdata": "qAepB6oHqwesB60HrgevB7AHsQeyB7MHtAe1B7YHtwe4B7kHuge7B7wHvQe+B78HwAfBB8IHwwfEB8UHxgfHB8gHyQfKB8sHzAfNB84HzwfQB9EH0gfTB9QH1QfWB9cH2AfZB9oH2wfcB90H3gffB+AH4Qc=",
          "dtype": "i2"
         },
         "xaxis": "x",
         "y": {
          "bdata": "zP5CAWFFFD/bd4VmfRMUP9qCFVYhtBM/ucl+dzrrEz+7bGHdvJUTPz3yYp/9BBI/vrSA8vcBET+AaG7WkHUSPxONtlK+ohI/EpFkpFADEj/STXv3EoERP5NoxCpd7xE/2vz2TyA6Ej/HFplNlRcTP6LDyQA/MRM/2asqpu4XEz8Cc57ew54SP9971pGn+BI/b8wiPs+XEj9TTA/ZCQkUP9jNog/gCRM/R3oPM6raEz9qrBBiipcSPz8L4HkObxE/3NSElU4REj9QgGZ8K5wQP9Q3cfrnUBE/QyI/aen7Dj+OCnopQeENPyDawnWasg0/xUSYJTb7DT9LOj2P2LEMP0WeJoL72Q0/iNmcRnwFDj9UtKiGu6AOP7GVxCxMXw4/Dm3WQjXIDj9zUAPi4AcNP0ZncR1Prww/Q41Gl6IzDj85mYw3gWsMPzeXWglCcAw/46KGelu5DD/ak5J3tzEMP66joixwbQw/15+8JLuSCz85ZKLkPe0KP1gLO9syngk/F5fS8ARrCT9CvHFWNoIJPz3xolshLgk/VPhjTjwSCT/tipeTqc0IP8i9DWSPUAk/tTtjfaz+CT+fn5nqvGQKP8UMqoKV3wk/4/RrfBcTCj8=",
          "dtype": "f8"
         },
         "yaxis": "y"
        },
        {
         "hovertemplate": "Entity=Finland<br>Year=%{x}<br>gdp=%{y}<extra></extra>",
         "legendgroup": "Finland",
         "line": {
          "color": "#ab63fa",
          "dash": "solid"
         },
         "marker": {
          "symbol": "circle"
         },
         "mode": "lines",
         "name": "Finland",
         "showlegend": true,
         "type": "scattergl",
         "x": {
          "bdata": "qAepB6oHqwesB60HrgevB7AHsQeyB7MHtAe1B7YHtwe4B7kHuge7B7wHvQe+B78HwAfBB8IHwwfEB8UHxgfHB8gHyQfKB8sHzAfNB84HzwfQB9EH0gfTB9QH1QfWB9cH2AfZB9oH2wfcB90H3gffB+AH4Qc=",
          "dtype": "i2"
         },
         "xaxis": "x",
         "y": {
          "bdata": "+mRwb96DeD/2JpjS7zx5P19D5Krbnng/q5Ehr5EreD++GR/6y9h3P59lu/LWvnc/06Bpbqbxdj8c3sLrAnJ2P1BP0fg5e3U/WMvdEPUtdj/6Lzfr1SR0P8L5E0G6w3M/hmifGxYidD/dpf/IyzZ0P98oTHUucnQ/r5tzWj2ZdD/mzliUzJ5zP7VzKqXL63I/PzgCRG+8cj9AgjvHfUVzP5TeK/o1nXM/Z7FsOVl8cz8i64ExogF0PyIGpHWyJHQ/8tbNedPgcz+7AsujBtZzP/DMCLMKt3M/ZS3qKViPcz/9q8QlY6hzP/aHpCpAHHM/Eg8jm8Nbcj+6dnrke/1wPz4y3XLlGnA/hsMdxiN8bz9ZfcmtI8RvP7fcbY9KA3A/r2ga11wNcD9pH/L8fXJwP4vw9E3e6XA/+YXyyFIYcT+GaMZ/bElxP/LbULGHZXE/qMfr/wFQcT8SO0lAESlxPwigLlOfE3E/Cm/8N9PncD+HQqknw91wP6cj2PH0BXE/LmAQ9ZbWcD/QZGHtBnBvP8R2kPJOC28/rkePhJHebj89wPBHYq9tP3rBrGZRtWw/nAdyiS69az8ct4mljChrP7wYseG4Fms/90Y8gCn+aj8=",
          "dtype": "f8"
         },
         "yaxis": "y"
        },
        {
         "hovertemplate": "Entity=France<br>Year=%{x}<br>gdp=%{y}<extra></extra>",
         "legendgroup": "France",
         "line": {
          "color": "#FFA15A",
          "dash": "solid"
         },
         "marker": {
          "symbol": "circle"
         },
         "mode": "lines",
         "name": "France",
         "showlegend": true,
         "type": "scattergl",
         "x": {
          "bdata": "qAepB6oHqwesB60HrgevB7AHsQeyB7MHtAe1B7YHtwe4B7kHuge7B7wHvQe+B78HwAfBB8IHwwfEB8UHxgfHB8gHyQfKB8sHzAfNB84HzwfQB9EH0gfTB9QH1QfWB9cH2AfZB9oH2wfcB90H3gffB+AH4Qc=",
          "dtype": "i2"
         },
         "xaxis": "x",
         "y": {
          "bdata": "U6n1r+0/sT+ZEF+ZfmmxP+eSTB9BmLE/Z9ZxhyWesT9oK8HM65exP/b7GkBrbrE/TRrjLnVPsT/e42e0DlqxP0XQgTKM7LA/expBCh8PsT8sU666gg2vP9Cp8uyQW68/Fq/qpdn+rj9V6jfOluyuP9C2T0dBma8/wdOOnKv2rj/f7ARh6qiuP9fcPJy5g64/WL96E/KGrj/E2YVW6FquP9UCJiPWx60/Dp4kkbaFrT896Q+LFCSuPwwJlkBrzK0/ZwWHbcfsrD/kpl3fgVSsP7udtfPyDaw/FbcIa+iRqz89zVzwHpWrP8hJv2+DoKo/un9wD+Ylqj8HabXB1/ypPxZElcJ646k/X+Xi3jZWqT8ZYn5IzSupPzHZ1pgo3Kg/JX4OqghgqD8L4PZpDA6oP7QwWiQuTKg/v9XZM35QqD8GAFUaei2oPyiEWzvBLqg/qoZ5Icvupz99/6heCHOnP9P6MsY4FKc/vIBt3FGWpj+ixKaduCumP3L1x3nLxqU/+BuwWHBtpT8woFL6KiqlP343XqcGsaQ/MnfFRPZ5pD8JLZCTIAOkPzCh0VUonaM/4YkmrLxAoz/Ro1/dgQajP4BqvLjwzKI/RV5Xd9GVoj8=",
          "dtype": "f8"
         },
         "yaxis": "y"
        },
        {
         "hovertemplate": "Entity=Gabon<br>Year=%{x}<br>gdp=%{y}<extra></extra>",
         "legendgroup": "Gabon",
         "line": {
          "color": "#19d3f3",
          "dash": "solid"
         },
         "marker": {
          "symbol": "circle"
         },
         "mode": "lines",
         "name": "Gabon",
         "showlegend": true,
         "type": "scattergl",
         "x": {
          "bdata": "qAepB6oHqwesB60HrgevB7AHsQeyB7MHtAe1B7YHtwe4B7kHuge7B7wHvQe+B78HwAfBB8IHwwfEB8UHxgfHB8gHyQfKB8sHzAfNB84HzwfQB9EH0gfTB9QH1QfWB9cH2AfZB9oH2wfcB90H3gffB+AH4Qc=",
          "dtype": "i2"
         },
         "xaxis": "x",
         "y": {
          "bdata": "0wNYV4C7Lz8e6G962WsxP31oTEN2uzE/b/icUY7hMT8XRicM9YYxP1yU5Wx19DE/RGfhQPC1MT8JwCNb6KcxP645i+l47jA/Puztbqs9MT9PEiHV5ScwP6cXIbpJEzE/iOa9LKn5MT9CD1bCSJYyPw8t+FPkZjk/UV5U3TP2PT+UqjerVklDP0iuzZ9aOEA/stUZCaK0Nz9xD2g1sN42P0ivHFZupjY/HGKJJp1YNz9RdiTvJYg2PyfzbXC2Ozc/v4GQ0ajhNz/fKNPq03o2P8zr01gukzU/QQQI9iQgMT/m6Lwg1nUyP7aR2ntliTI/Seg/ZTKbMj+Xxy64r2szP70ekosddDI/TLL044LjMj/psLb+EgQzP0bSLmf1TzM/Vc/gbn1aMz98hWsK47szP9v/QQ//6jM/Wr+cmKONMT+/EZQnqnwwP/DOy4cFhTA/bThtProgMD+c1EX8nQYwP4mdGmPl5i4/CL5kPryPLj8AOQEt0XosP/aCBG9J+Cw/oh2qbTuCKz8GWJGBAQgsP/WkYOIKyCw/b4w2YILhLT8tMVEKa64uP9eMXhqVlS8/QjNKbrcEMD97tnvmAUUwPxbDTAgsODA/6kYZIJ3XLz8=",
          "dtype": "f8"
         },
         "yaxis": "y"
        },
        {
         "hovertemplate": "Entity=Gambia<br>Year=%{x}<br>gdp=%{y}<extra></extra>",
         "legendgroup": "Gambia",
         "line": {
          "color": "#FF6692",
          "dash": "solid"
         },
         "marker": {
          "symbol": "circle"
         },
         "mode": "lines",
         "name": "Gambia",
         "showlegend": true,
         "type": "scattergl",
         "x": {
          "bdata": "rgevB7AHsQeyB7MHtAe1B7YHtwe4B7kHuge7B7wHvQe+B78HwAfBB8IHwwfEB8UHxgfHB8gHyQfKB8sHzAfNB84HzwfQB9EH0gfTB9QH1QfWB9cH2AfZB9oH2wfcB90H3gffB+AH4Qc=",
          "dtype": "i2"
         },
         "xaxis": "x",
         "y": {
          "bdata": "yljtTDHf7D5zl2cvFqXrPungOZqkVuw+hGDMITZZ6z4F9mx/IwjpPlwlWnmk+uc+oboLFCy65j4bxfteTk3nPjJ65GQxLOg+99UjgMvi6j42jKm6smXrPgQv6F+rQ+s+t0flIIfj6z6jVby3QWzqPsodk9IUHus+nSg+7ql66z7mS8n8vijrPin2G1BHZ+0+NJxJYlEb7T4aeqrFLtPrPjdXn+zJBew+vsv9j2+B6z5lwyynWHPrPo9Fgk4v5Oo+JHPcvbaS6j5++5SSXfPqPrzuRQVpUes+78rwFfe16z46brW/s/DqPthiu1ktS+o+84ySu0j+6T4oECSQTEvqPhNTokeGi+o+ergh/g1V6z63AUq9hprrPk6uLeqTpuw+DIMYaDUh6z5o/NtgTC3sPtu3CbXa4ew+RZ9aUbuO6z60yghwEbjqPnIVVQrDkeo+s1jGNsCW6z5DaKsfH+PtPoRGM8Wdhu4+e3eAIHhS7D6prlzFQi3tPiyLKHI4y+0+eV+ziU077T7fgbwhac/tPs2Ibjngwe0+3B2ua+3m7T4=",
          "dtype": "f8"
         },
         "yaxis": "y"
        },
        {
         "hovertemplate": "Entity=Georgia<br>Year=%{x}<br>gdp=%{y}<extra></extra>",
         "legendgroup": "Georgia",
         "line": {
          "color": "#B6E880",
          "dash": "solid"
         },
         "marker": {
          "symbol": "circle"
         },
         "mode": "lines",
         "name": "Georgia",
         "showlegend": true,
         "type": "scattergl",
         "x": {
          "bdata": "rQeuB68HsAexB7IHswe0B7UHtge3B7gHuQe6B7sHvAe9B74HvwfAB8EHwgfDB8QHxQfGB8cHyAfJB8oHywfMB80HzgfPB9AH0QfSB9MH1AfVB9YH1wfYB9kH2gfbB9wH3QfeB98H4AfhBw==",
          "dtype": "i2"
         },
         "xaxis": "x",
         "y": {
          "bdata": "M3HmvzlpQz96kQAIo7NDP+JEG3EgC0Q/JlUJwRmWQz9xKftCmlVDP+0O/q8KrkI/M8LwwzdZQj/RckiHQddBP7XeCHQh1EE/BsA/NqoBQz9zjQyqdjJEP20M3TZFV0Q/aCB+ljDrRD+QBzD5K59FP+B0MGyKSkY/kwJTgDaDRj8pKzl0Cj5HP8L3bOusnEc/mu6Dyr8LSD999drZ9jxIP5iZkO7Qg0g/AcyFKpfHRT+cJDCuGiJFPwFDU+IGT0U/gIlsi0dLQj/antjs6b89P0hkZMyuFjc/EF5KcJPyKD96OQstTl4hP62ANupHNh4/rObxfTf9HT/z4jPa+x8gP200pwBwLyE/Hm/ko3VIIT8Rx+ipfzQhP/W5a4zXxSA/L2Bv99I+IT/0OGv2Zs0hP1MBSV/QNiM/3CPEZcN5Iz+zXWjSUI8kP3e+FrP0jyU/35cnU4s+Jz87jSHv+lonP8xcVACI5iY/fRFgJz5UJz9vxcsX4z8oP3DhI4+uKCk/NjCAHudYKT/4t3vtZMkpP5FDGQRq8Ck/LSMVvakNKj9NvqGNVY4qPw==",
          "dtype": "f8"
         },
         "yaxis": "y"
        },
        {
         "hovertemplate": "Entity=Germany<br>Year=%{x}<br>gdp=%{y}<extra></extra>",
         "legendgroup": "Germany",
         "line": {
          "color": "#FF97FF",
          "dash": "solid"
         },
         "marker": {
          "symbol": "circle"
         },
         "mode": "lines",
         "name": "Germany",
         "showlegend": true,
         "type": "scattergl",
         "x": {
          "bdata": "sgezB7QHtQe2B7cHuAe5B7oHuwe8B70Hvge/B8AHwQfCB8MHxAfFB8YHxwfIB8kHygfLB8wHzQfOB88H0AfRB9IH0wfUB9UH1gfXB9gH2QfaB9sH3AfdB94H3wfgB+EH",
          "dtype": "i2"
         },
         "xaxis": "x",
         "y": {
          "bdata": "mNMp8N7Rtj9zLgU+To+2PzSUmfltP7Y/ewL5iWLgtT+492wA55+1Py6FPdHZNrU/JaP3bFAitT86qIfkQQO1P7SC5I5B07Q/70JX7HrTtD/K9KSoV2W0P4G7X+T3G7Q/5agnePrysz9bo0ieuMizPyHTUDwec7M/UmrJZ4susz9bgzAWvPuyP7pBVmEWcbI/Ri8VJ+9Esj/G+8/sKI+xPwfR5Me2orE/+wop5Lo7sj/KR+kExTiyPwDO7n6PxbE/Gc1h1cGssT/wDsqBn2WxP/2rzN009rA/sweRabeosD9AYUaYKZKwP7p1o5fPWrA/lLoGJKkesD+Bp7Q6BxWwP8HJQXnZeq8/Vhm5E0dgrj+FzRd5GW2tP6oHEzcyi6w/Ec/R6VRhrD9FRROr0B6sP7u9JC4j6qs/VGkAwcfPqj9b/03SdMGqPyO1p3g446o/WiGHqfJbqj/jftyT8M+pP1qDT7lqlak/CU18+k9zqT8u6DPHZ1apP3/NxOmFJak/",
          "dtype": "f8"
         },
         "yaxis": "y"
        },
        {
         "hovertemplate": "Entity=Ghana<br>Year=%{x}<br>gdp=%{y}<extra></extra>",
         "legendgroup": "Ghana",
         "line": {
          "color": "#FECB52",
          "dash": "solid"
         },
         "marker": {
          "symbol": "circle"
         },
         "mode": "lines",
         "name": "Ghana",
         "showlegend": true,
         "type": "scattergl",
         "x": {
          "bdata": "qAepB6oHqwesB60HrgevB7AHsQeyB7MHtAe1B7YHtwe4B7kHuge7B7wHvQe+B78HwAfBB8IHwwfEB8UHxgfHB8gHyQfKB8sHzAfNB84HzwfQB9EH0gfTB9QH1QfWB9cH2AfZB9oH2wfcB90H3gffB+AH4Qc=",
          "dtype": "i2"
         },
         "xaxis": "x",
         "y": {
          "bdata": "4bWirQtwST9oI/DC9itJP5oTVM8b00g/rvfYzJGiSD8M/+VsGJtHP3DqFeuaoEY/ZnI1C4hyRD8nS1usNy5EP0oBZb7X8kI/7BQ1BpHsQj8iKbGBSudBPyQZAsGZDkI/I6AzwfulQD/ybQftJRNAP4Hz408q1EA/ojjihbcqPT+avKUcfLU6P+GzIVelRzo/RbERXYNtOz+FFkYbb6w5PxvO+7Yt6Tg/F5U33VyTNz+LZjeO29o1P2E1T7pdXTQ/XwZlzpQnNT+E8vgrP201Pw7sxg8GzzU/co7j3zXlNT/xMl8WpBc2P/jHAIwNejU/yCgBn+osNT/K8Jqy5u01P+46hXr8VTY/+zJd8q8PNz8prTktyh83Pzy7oZG7Sjc/s+erscuPNz9+UsWbraw3P3NDo6Z3LTg/BRvJ8jptOD9t2K02kT84P0yJLVdrvTg/z7aPGphNOT9n2Hgqgd45Pzuf/yFTKDo/6J5IdXquOj/5mVQJJzg7P7Iy20f9QDs/xTPBbrM2PT8TNNiIjSs/Pw/CSjeSH0A/LEP4Eo7TQT+oySaWrQFDP8TYjPE74EM/y/cUXecYRD89CB8UcWdEP2mqsX76qkQ/4H1tGu3FRT8=",
          "dtype": "f8"
         },
         "yaxis": "y"
        },
        {
         "hovertemplate": "Entity=Greece<br>Year=%{x}<br>gdp=%{y}<extra></extra>",
         "legendgroup": "Greece",
         "line": {
          "color": "#636efa",
          "dash": "solid"
         },
         "marker": {
          "symbol": "circle"
         },
         "mode": "lines",
         "name": "Greece",
         "showlegend": true,
         "type": "scattergl",
         "x": {
          "bdata": "qAepB6oHqwesB60HrgevB7AHsQeyB7MHtAe1B7YHtwe4B7kHuge7B7wHvQe+B78HwAfBB8IHwwfEB8UHxgfHB8gHyQfKB8sHzAfNB84HzwfQB9EH0gfTB9QH1QfWB9cH2AfZB9oH2wfcB90H3gffB+AH4Qc=",
          "dtype": "i2"
         },
         "xaxis": "x",
         "y": {
          "bdata": "GQftQIKieT+5sNaemEJ7P5JYTrgZOHo/kHllN2Zyez/rPHjoUdt7PywxTUPK0Hw/X8hYSDfbfD/sxhoS/yR9P//3v0HuFH0/9KKrmWQcfj8TJRv54AZ8P/Lxq0L1+Hw/aHMIV1Atfj/pEZ+luZx+P5OfxpHQD3w/9WsWiruJfT89d+AQtfV9P1M96hu1q30/x8r4taudfj8+Dv35p1x+P9mKHDYqhX0/muwDGZWAfD9KAunh3RB8P1ELmH9xG3s/Ehn9MEFwej9u49Fg4x56P74NX4c0Z3k/pxGpzZPJdz9dPK+BZrJ3P++n41g0wXY/fGJ3lXK2dT87ItQ9CQV2PyhncsrRvXU/CZvCyxERdT/zuwhWudt0PzwVo5Z7mnQ/q/DHls1+dD+l9WeJfaZ0P8kQmipL7XQ/0ki9jarfdD9idmkg48N0P4jtymeGNnU/CjUK2niTdT/Lx/Cg8y52P8eFYMLxUHY/NucJYrSfdT/OPea5m+d1P5hAYMn6tHU/+4zA1PU+dT+zGlkbBLF0P2GvoT98wHI/FRaDRc+EcD+U1alVduBtPzrlq/qvK2w/EHMP9l+Yaz//CyneFudqPyMIt0pgNWo/FZVuSQvKaT8=",
          "dtype": "f8"
         },
         "yaxis": "y"
        },
        {
         "hovertemplate": "Entity=Greenland<br>Year=%{x}<br>gdp=%{y}<extra></extra>",
         "legendgroup": "Greenland",
         "line": {
          "color": "#EF553B",
          "dash": "solid"
         },
         "marker": {
          "symbol": "circle"
         },
         "mode": "lines",
         "name": "Greenland",
         "showlegend": true,
         "type": "scattergl",
         "x": {
          "bdata": "sgezB7QHtQe2B7cHuAe5B7oHuwe8B70Hvge/B8AHwQfCB8MHxAfFB8YHxwfIB8kHygfLB8wHzQfOB88H0AfRB9IH0wfUB9UH1gfXB9gH2QfaB9sH3AfdB94H3wfgBw==",
          "dtype": "i2"
         },
         "xaxis": "x",
         "y": {
          "bdata": "DxtECbMhBj/+drUCV/wHP2UvaZliFAg/AU+0BN4iCD8KMmvLSf8IP2RS/nSq5Qg/kSbozKoKCT+1Znx6ijcKP1l4RVTnvQo/MmqbseDsCj+T+DIxPUIMPxkw4vI65gs/CMwgzg6PCj8gy3DD69MKP6IfKbpaUgg/WKUCpVJMCD+O6CuecC0JP1wbWeOScwk/+p7mm6qsCT98fXXaNVUJP1xT13P/VgU/jhabb473BD/3MmlP4YEDP3f8SqFPPgI/UFYEGwbCAj/XZxDOB9MCP0e0EGGkewI/AlcP3NkVAj+Rg4+kUAIDPyXpBeIgpgI/14kGnLkeAz/PgN2g0v4CPyhrr9cgaQI//1XAgGOvAj+e2Ol1oycDPxHc8/mEVwM/tAFCED6TAz/cew89sjkDPyDQgbFmCwQ/RhtNn0qTBD+szWx16hEEPzdL8JY1XAM/+AaWyW0mAz9mSU4GXVgCP4KfdPlCyQI/qdTqsNRsAj+TOjTiW18DPw==",
          "dtype": "f8"
         },
         "yaxis": "y"
        },
        {
         "hovertemplate": "Entity=Grenada<br>Year=%{x}<br>gdp=%{y}<extra></extra>",
         "legendgroup": "Grenada",
         "line": {
          "color": "#00cc96",
          "dash": "solid"
         },
         "marker": {
          "symbol": "circle"
         },
         "mode": "lines",
         "name": "Grenada",
         "showlegend": true,
         "type": "scattergl",
         "x": {
          "bdata": "uQe6B7sHvAe9B74HvwfAB8EHwgfDB8QHxQfGB8cHyAfJB8oHywfMB80HzgfPB9AH0QfSB9MH1AfVB9YH1wfYB9kH2gfbB9wH3QfeB98H4AfhBw==",
          "dtype": "i2"
         },
         "xaxis": "x",
         "y": {
          "bdata": "q4RMgPNh6D5KdpFrW7boPslAGLzODuk+rwuoB+IR6D50F8YUBvjnPpwEjLxX2+g+t9EFFbAm6T46ZY3TwefoPg+FwotYcOk+IjRvASRi6j435hyuYpPrPisWy9tuH+s+ulAbQksJ6j5qNeVkRdfpPgsbnp89xek+MlexLI4N6T6dnCwf1S/oPlk03uQq4Oc+aNHAgz+X5z46qbcZm9PnPvr1vpr+IOg+naCHgJNM6j7xxj45XTXrPptbfwm2Ues+2Fc6tDJC6j7rJWHWTpXqPgCTaLONR+w+dgFH0Szn6j6pPWplQ1rtPqazH8z4BOs+b57Vj6CD6z6IALTt3UbrPqj0LxBA7Ok+VjMRqkW66D6/obbUzSfoPujziAPnSuc+gGg8ims75z56T2e40D/oPpCBrllyPOk+9+FSnpKN6T5VhdZsBLzpPg==",
          "dtype": "f8"
         },
         "yaxis": "y"
        },
        {
         "hovertemplate": "Entity=Guam<br>Year=%{x}<br>gdp=%{y}<extra></extra>",
         "legendgroup": "Guam",
         "line": {
          "color": "#ab63fa",
          "dash": "solid"
         },
         "marker": {
          "symbol": "circle"
         },
         "mode": "lines",
         "name": "Guam",
         "showlegend": true,
         "type": "scattergl",
         "x": {
          "bdata": "0gfTB9QH1QfWB9cH2AfZB9oH2wfcB90H3gffB+AH",
          "dtype": "i2"
         },
         "xaxis": "x",
         "y": {
          "bdata": "xM1A8XsbFj+6ldPDuK4VPzA04FLDGBY/XZ/eUUEJFj9vCI6ht1EUP2IjhDsqqBM/z4se1UujEz9hXmB3OgwUPzACynetnxM/sF4D7C0MEz+HmafKT/USPx6pPcO50BI//ZRnLI2UEj82JMbOQUESP5rWdwes4xE/",
          "dtype": "f8"
         },
         "yaxis": "y"
        },
        {
         "hovertemplate": "Entity=Guatemala<br>Year=%{x}<br>gdp=%{y}<extra></extra>",
         "legendgroup": "Guatemala",
         "line": {
          "color": "#FFA15A",
          "dash": "solid"
         },
         "marker": {
          "symbol": "circle"
         },
         "mode": "lines",
         "name": "Guatemala",
         "showlegend": true,
         "type": "scattergl",
         "x": {
          "bdata": "qAepB6oHqwesB60HrgevB7AHsQeyB7MHtAe1B7YHtwe4B7kHuge7B7wHvQe+B78HwAfBB8IHwwfEB8UHxgfHB8gHyQfKB8sHzAfNB84HzwfQB9EH0gfTB9QH1QfWB9cH2AfZB9oH2wfcB90H3gffB+AH4Qc=",
          "dtype": "i2"
         },
         "xaxis": "x",
         "y": {
          "bdata": "mbtlCJBYRj+5brrUTkxGP7389XSh3kU/TgehpCDFRj8dMeW/DFZGP73TsjHaCkY/Cvgn35PzRT/WWMPkBuJFP2zQ3sAeREY/gzGdOZX4RT8wli0ffwZEP/xeW+iHREQ/JtONk4yRRD+c7Ow9xpxEP53pfyWXe0U/3zgAkoasRT9nbFBj8xdGPw7vdfFG6kY/aZ2lcyUmRz+ex7DIb0ZHP00aupGjUkc/Y+BTY58FRz9YzUcTqR5GPw4f+UWpCkU/lhKcQc83RD+8ar4QAV5DP0K7SpTXw0I/SXvyr1ydQj+bCVUROXlCP+KMuDJuw0E/l20rPdB5QT/3OSshotFBP9CX4ScZUUI/5NOdhsW+Qj9RazkCCu5CP0Hj1NJkOEM/xmaWsR8jQz8tyMHBgUJDP9BGNatguUM/GyTcfGDSQz86bK875ahDP40T5qqavEM/SrWTLU0QRD/X/VXq9/1DP7j5gjAOv0M/Vfu4ScqjQz/MOjXq89dDPxU5FgLNPUQ/2Tnx+saHRD/wKw7YwgBFPwAxpSgpt0Q/l6fauhvrRD+7p/nJUgNFP6cFL/naO0U/GR46q1yCRT8N9h4bu+ZFP5QSZZ7CDEY/1MZil63/RT8=",
          "dtype": "f8"
         },
         "yaxis": "y"
        },
        {
         "hovertemplate": "Entity=Guinea<br>Year=%{x}<br>gdp=%{y}<extra></extra>",
         "legendgroup": "Guinea",
         "line": {
          "color": "#19d3f3",
          "dash": "solid"
         },
         "marker": {
          "symbol": "circle"
         },
         "mode": "lines",
         "name": "Guinea",
         "showlegend": true,
         "type": "scattergl",
         "x": {
          "bdata": "wgfDB8QHxQfGB8cHyAfJB8oHywfMB80HzgfPB9AH0QfSB9MH1AfVB9YH1wfYB9kH2gfbB9wH3QfeB98H4AfhBw==",
          "dtype": "i2"
         },
         "xaxis": "x",
         "y": {
          "bdata": "zdkzvyOmGT8cM4n1MGIZP7p1JcXcxhk/nJOP2OrMGD/0WQsgI7AYP8gTgdo+6xg/l3geIHY7GT+SY7uUlxkaP3w/RQ1HVxo/NB5dC4GoGj80FYgTQO4aPxXXEbDDUBs/pXremVCdGz/bL6OZ6r0bPzHNypOuOBs/gL60j5uuGz9wdrs5Bn4cPyZpkL0ZCRw/hFU/QxN5Gz+kRsD2VUEbPzSJ2LjGcBo/R6tuzHoaGz/7E25n07cbP8CsOcN/5Bs/sJnLSFAIHD/ZkzuIf7McP0CAx1bzpx0/d0x3XVAJHj+j3jnMIkoeP0clpVfUvh4/N/VNngiVID+e8KMocW0hPw==",
          "dtype": "f8"
         },
         "yaxis": "y"
        },
        {
         "hovertemplate": "Entity=Guinea-Bissau<br>Year=%{x}<br>gdp=%{y}<extra></extra>",
         "legendgroup": "Guinea-Bissau",
         "line": {
          "color": "#FF6692",
          "dash": "solid"
         },
         "marker": {
          "symbol": "circle"
         },
         "mode": "lines",
         "name": "Guinea-Bissau",
         "showlegend": true,
         "type": "scattergl",
         "x": {
          "bdata": "sgezB7QHtQe2B7cHuAe5B7oHuwe8B70Hvge/B8AHwQfCB8MHxAfFB8YHxwfIB8kHygfLB8wHzQfOB88H0AfRB9IH0wfUB9UH1gfXB9gH2QfaB9sH3AfdB94H3wfgB+EH",
          "dtype": "i2"
         },
         "xaxis": "x",
         "y": {
          "bdata": "9e/lPO0u9T4AqiYq/ILzPs4fwXXgn/M+AW1rmh6f8j4RozYOmxPzPnWlUb37W/Q+0wD7ufxH9D5HIlme2BzyPshnuNjWtvM+AcfRA5BO8z6hSuFzhFfvPkfZcBZfKfI+Wt6wKCDZ8j62NW9gBsfxPsISSheji/I+ecSHBWGe8j6r/ucw+N7xPt/kh9gYnvE+KWv1EGGa8T4A/gREF0fxPsu4v6z+ffE+pzoiCGcV8j5rt8aTEu3xPo/YQuDWBfI+14wo8/EN8j5ys3MuVTzyPq91rNFQrvM+spRLZl029D6U4ZectlnsPs0B/EZ6t+s+wNMhnff46z4OKuan6grsPgVAOOzwLOs+demBmHCP6j71F1LmayLqPkZ+GfopP+o+rtcFpxG/6T7bwAzo4ILpPv/sJH8j2+k+2F4FkAgz6z6qctp/9EfrPim49C33lew+G99xs8Fo6z4STKPdUpTrPoac0/2IE+s+fCg5FAYZ7D7/HwqZgyjtPhDCOX4g/O0+",
          "dtype": "f8"
         },
         "yaxis": "y"
        },
        {
         "hovertemplate": "Entity=Guyana<br>Year=%{x}<br>gdp=%{y}<extra></extra>",
         "legendgroup": "Guyana",
         "line": {
          "color": "#B6E880",
          "dash": "solid"
         },
         "marker": {
          "symbol": "circle"
         },
         "mode": "lines",
         "name": "Guyana",
         "showlegend": true,
         "type": "scattergl",
         "x": {
          "bdata": "qAepB6oHqwesB60HrgevB7AHsQeyB7MHtAe1B7YHtwe4B7kHuge7B7wHvQe+B78HwAfBB8IHwwfEB8UHxgfHB8gHyQfKB8sHzAfNB84HzwfQB9EH0gfTB9QH1QfWB9cH2AfZB9oH2wfcB90H3gffB+AH4Qc=",
          "dtype": "i2"
         },
         "xaxis": "x",
         "y": {
          "bdata": "rH+5yaXkGz+flgAnEPAbP9CusN3nwRo/yD3B9ktPFj/OwZOKq0oXP5gEwGqpWBg/6a/iNo0uGD9ApSOKKCcYP4tOCr+l0xY/sXnM630CFz/7CpP7Fq8UP8Q+EVS/cRQ/C36tOGGwEj+MExmV6sERP/TsrNQCvRI/wmWqc9MdFD+IZ6rhimMTP3hn7P81KRI/PeW2MFsoET9BXeMsFCwQP6r9SXMZxw8/fXiJ/uyhDz9+P+UpeFkLP4OZPwy34wg/ot4wbbGZBj/A9nTYAk4GP0LBPyzPYgU/qlHUgT6sBD8oHaSUnQQDPyo6rxw0uQA/xrNCTBXy/j7UriHfbyEAP6Owl4oDDgE/Bk/os20sAj+FZEbjASUDP6sVpAj/cQM/fjoHoppJBD/HSX/QK8gEP9+bvOWk7AM/pomJepnaAz8SK0aAer4CP3uO4NBhzQI/Ng7aPXmYAj+76Xr24+MBPz76xerPsQE/ojzXDMG1AD+c0rDa4dcAP1ZOu5HzSwE/gWGOh3BSAT8i2W+JGEECP3YDHhX3OQI/RvJogHWWAj/8xw07CRcDPw9/BE93iAM/ZZhN/ma5Az/DId7rLOUDP3+jhGXYEgQ/Ke8+hyIPBD8=",
          "dtype": "f8"
         },
         "yaxis": "y"
        },
        {
         "hovertemplate": "Entity=Haiti<br>Year=%{x}<br>gdp=%{y}<extra></extra>",
         "legendgroup": "Haiti",
         "line": {
          "color": "#FF97FF",
          "dash": "solid"
         },
         "marker": {
          "symbol": "circle"
         },
         "mode": "lines",
         "name": "Haiti",
         "showlegend": true,
         "type": "scattergl",
         "x": {
          "bdata": "zAfNB84HzwfQB9EH0gfTB9QH1QfWB9cH2AfZB9oH2wfcB90H3gffB+AH4Qc=",
          "dtype": "i2"
         },
         "xaxis": "x",
         "y": {
          "bdata": "2vu9U85IIj+JlN224xsiP6Dv5UyEDCI/y7KzwY/wIT9G1o5inFIhP5AogQgQ0SA/Rxya3NxqID9AiEfVWQMgP2LJWgjnlR0/iUHjEeYCHT/sYAN0B3EcP6Jx5lYmNBw/saVIAWruGz97u76QHk0dP1UVHcqhjBo/XVL85+8oGz/ks8XenUIbPwKxfFh3sBs/Qf9j7l+uGz+RcXdLnWQbP1TwJIbhIxs/snbvGLmoGj8=",
          "dtype": "f8"
         },
         "yaxis": "y"
        },
        {
         "hovertemplate": "Entity=Honduras<br>Year=%{x}<br>gdp=%{y}<extra></extra>",
         "legendgroup": "Honduras",
         "line": {
          "color": "#FECB52",
          "dash": "solid"
         },
         "marker": {
          "symbol": "circle"
         },
         "mode": "lines",
         "name": "Honduras",
         "showlegend": true,
         "type": "scattergl",
         "x": {
          "bdata": "qAepB6oHqwesB60HrgevB7AHsQeyB7MHtAe1B7YHtwe4B7kHuge7B7wHvQe+B78HwAfBB8IHwwfEB8UHxgfHB8gHyQfKB8sHzAfNB84HzwfQB9EH0gfTB9QH1QfWB9cH2AfZB9oH2wfcB90H3gffB+AH4Qc=",
          "dtype": "i2"
         },
         "xaxis": "x",
         "y": {
          "bdata": "hOwSMio5MD9uiNE7Z54vP2tlF1m+rS8/+Q8SQCswLz/2/jgQr9IuP6O1ijvExy8/mD+eqpebLz/krI8hbAkwP6CVIboZ/C8/pX1jsL1ULj/1EvN7zBkrP5bevLwXBCs/MOt/QAoEKz/h4MdUVlkrPyTU4Mx0dyo/bFgVBdy/Kj8KHoJO0g4sP6YMQiDYyy0/iEkNTU2JLz8Ex1uVfbEvP8okwkLfzy4/cKHR3Q38Lj8QsjaKLm4uPzqvKtnQby0//G9LQyleLT8iqJpZan0tPyxDh7IDvSw/oYb0CmcxLT/nh2/48SstP1qb7HRaJyw/c+eFN/fjKj/c2xoFl08rP4QFY5DVSCw/gGMuGGSWLT+mzfp7mVgsP09IXMvEiSw/Zj2vyDmXLD9cWFMljfIsP2LGnLsADi0/Jg79memVKz94whmwzewrP5UE7mcxJCw/Y14ESZ2TLD/hGvpu2QgtP98SMUm0iC0/bs/cUSQrLj+dl+H4MtMuP+6oc5ClaC8/9qEGYD4TMD+hfffUPuwvPweJEXXcvy8/hPzPWMX1Lz/QGrzYnzswP9CJy2ifQjA/aNCcD25LMD9QZahHO4swPzRL5AE+wzA/HzvGv6kNMT8=",
          "dtype": "f8"
         },
         "yaxis": "y"
        },
        {
         "hovertemplate": "Entity=Hong Kong<br>Year=%{x}<br>gdp=%{y}<extra></extra>",
         "legendgroup": "Hong Kong",
         "line": {
          "color": "#636efa",
          "dash": "solid"
         },
         "marker": {
          "symbol": "circle"
         },
         "mode": "lines",
         "name": "Hong Kong",
         "showlegend": true,
         "type": "scattergl",
         "x": {
          "bdata": "qQeqB6sHrAetB64HrwewB7EHsgezB7QHtQe2B7cHuAe5B7oHuwe8B70Hvge/B8AHwQfCB8MHxAfFB8YHxwfIB8kHygfLB8wHzQfOB88H0AfRB9IH0wfUB9UH1gfXB9gH2QfaB9sH3AfdB94H3wfgB+EH",
          "dtype": "i2"
         },
         "xaxis": "x",
         "y": {
          "bdata": "27/wLK6ZUj8DJWFXRiNUPz9UzqJwKFY/XI8yKMmQVj9pj3aZY3ZYP3aEG57ZgFc/KuWCy4XdVj/P0rATCB5WP/APVx1uM1c/DPDAFajYVT+KlMIT9HdWP4CgtKynf1c/4Zf0/83CWD9nyWVPidhYP55K0HpdtVg/N1Riy88+Wz/Mvbmu+khdP/gc80LugF4/oQiO1EpWYD9m2JVNQl9hP5NKU6ObnWI/8lEEBWkWYz80joaxHsBjP+iBdWlYxGQ//XT4uKMqZD/oAY7MOKtlP4BdDIR/imc/RcresrZmaD9KWqc/VxZnPxsNofG232Y/kGSS32DIZz8nnWOP4MVoP5oXK1Y46Gk/i6UUCHWqaj8m6pzEJmlqPxcdy7X6oGo/blfifwH9aj94thmAn8ZoP4IlLUbBk2g/GmrgXIdUaT/4vgHsNv1oP0ZhGuzQ3Gg/NcK+35rmaD8Obkj14eppPw9y9Ufqzmo/6MBzH+KCaz8iZ3uW8xpsP6+nxyYvMGw/3OzWKhv7az/EaQAzwKRsP+/uARv7Gm0/+TSfT2HgbD/5/NDeJwNtP3B7ymOE/Ww/p114IqYFbT9yZE7DmPRsP/5H0BSeLW0/",
          "dtype": "f8"
         },
         "yaxis": "y"
        },
        {
         "hovertemplate": "Entity=Hungary<br>Year=%{x}<br>gdp=%{y}<extra></extra>",
         "legendgroup": "Hungary",
         "line": {
          "color": "#EF553B",
          "dash": "solid"
         },
         "marker": {
          "symbol": "circle"
         },
         "mode": "lines",
         "name": "Hungary",
         "showlegend": true,
         "type": "scattergl",
         "x": {
          "bdata": "xwfIB8kHygfLB8wHzQfOB88H0AfRB9IH0wfUB9UH1gfXB9gH2QfaB9sH3AfdB94H3wfgB+EH",
          "dtype": "i2"
         },
         "xaxis": "x",
         "y": {
          "bdata": "4O3lOD/YYz+jhUo+kNxiP3/Nyj9hd2I/MF0aGhV0Yj+LFe6ReR5iP8xJoEhhhmE/YA1TIdJ2YT8Z6NxOkcFhP7fJsWoIu2E/HN34DAOwYT9vCStdugRiP1GxYJQBb2I/qOz5epmaYj/fIeTNjLRiPw0EvR7BzmI/HB2bFSS6Yj/qWIKSQQxiP3oCjgko4GE/4QztQqf9YD8oGDI04mZgPxnAans/KmA/DL5/pmUFXz8n9+DD9dxeP2SQ4r+JR18/+SwAIfycXz/Fh+j+YY5fPx6zzyUB3F8/",
          "dtype": "f8"
         },
         "yaxis": "y"
        },
        {
         "hovertemplate": "Entity=Iceland<br>Year=%{x}<br>gdp=%{y}<extra></extra>",
         "legendgroup": "Iceland",
         "line": {
          "color": "#00cc96",
          "dash": "solid"
         },
         "marker": {
          "symbol": "circle"
         },
         "mode": "lines",
         "name": "Iceland",
         "showlegend": true,
         "type": "scattergl",
         "x": {
          "bdata": "zAfNB84HzwfQB9EH0gfTB9QH1QfWB9cH2AfZB9oH2wfcB90H3gffB+AH4Qc=",
          "dtype": "i2"
         },
         "xaxis": "x",
         "y": {
          "bdata": "G1O4mDF/KT9b6Qt2k9cpP/vuhXK/+So/S1knlhsfKz/BZ3+dbCgrP2Mbq2BvsCs/jc9z/8s/Kz9Bh6rJGBsrP+49SsLYDCw/5ubygqK+LD9aoRy9ZfEsP30LQKkSZC4/YB8/TzJXLj+frMNXPN4sP1R0OC48rio/iBRD0olfKj/0zAhSVxEqP+0PQP0zfyo/jti35/pUKj9sa5hYJNsqP7bh3q90MCw/RFfXEoVdLD8=",
          "dtype": "f8"
         },
         "yaxis": "y"
        },
        {
         "hovertemplate": "Entity=India<br>Year=%{x}<br>gdp=%{y}<extra></extra>",
         "legendgroup": "India",
         "line": {
          "color": "#ab63fa",
          "dash": "solid"
         },
         "marker": {
          "symbol": "circle"
         },
         "mode": "lines",
         "name": "India",
         "showlegend": true,
         "type": "scattergl",
         "x": {
          "bdata": "qAepB6oHqwesB60HrgevB7AHsQeyB7MHtAe1B7YHtwe4B7kHuge7B7wHvQe+B78HwAfBB8IHwwfEB8UHxgfHB8gHyQfKB8sHzAfNB84HzwfQB9EH0gfTB9QH1QfWB9cH2AfZB9oH2wfcB90H3gffB+AH4Qc=",
          "dtype": "i2"
         },
         "xaxis": "x",
         "y": {
          "bdata": "PypFAkAHjz8WZ+A2esqOP0xN0tHSBY4/1NQo4Sc/jj+O7LFSUHiOP6fSnPOXDYw/FJpIqpd2ij8L62UcVlKLP3aa+lnobIo/UW8RiiiGij+p/zR9nQyIPyh+eyqLboc/A8pgC0wIhj/gJn5MuluFP3HYUx+XLIU/UYU81Arfhj/Hg2Y8QxKGP6GsUOo8xoY/TCIr5+Qphz/6HEJekxOFP58gowmwuYU/sa5+10eWhj87ZV5HJUeHP1R2yy5xYog/WOUjanw0iD8ynjqb6Y2IP8TT66VC5Ig/1P2h6PDKiD/UA33LiPaJP34P+wVOcok/KQVZWvOfiT9+NQku3HiJP8OYmCZAWIo/rLpcDLEsiz+OTk0GfSKMP98CFsD6R40/CGPQPXB0jj/oeC/vwI6OP3Wd5BM5po8/afzreSKrkD8YMW7mu5GQP7JAT7EECpE/LyF965lPkT9n7YZTUSWSPwK5RVVswJI/7Zte+hm9kz/sUKAGtq2UP/v7f5l+yZU/UQoNfIU6lj8Z0noMJIqYP1TDq35F8Zk/7zfxdMTRmj+pFpreWJebPxoRBYeompw/0Ga8vQrgnT8q5neKo5efP+aSDKcChqA/WsnRKuQaoT8=",
          "dtype": "f8"
         },
         "yaxis": "y"
        },
        {
         "hovertemplate": "Entity=Indonesia<br>Year=%{x}<br>gdp=%{y}<extra></extra>",
         "legendgroup": "Indonesia",
         "line": {
          "color": "#FFA15A",
          "dash": "solid"
         },
         "marker": {
          "symbol": "circle"
         },
         "mode": "lines",
         "name": "Indonesia",
         "showlegend": true,
         "type": "scattergl",
         "x": {
          "bdata": "qAepB6oHqwesB60HrgevB7AHsQeyB7MHtAe1B7YHtwe4B7kHuge7B7wHvQe+B78HwAfBB8IHwwfEB8UHxgfHB8gHyQfKB8sHzAfNB84HzwfQB9EH0gfTB9QH1QfWB9cH2AfZB9oH2wfcB90H3gffB+AH4Qc=",
          "dtype": "i2"
         },
         "xaxis": "x",
         "y": {
          "bdata": "1lcozfJ9ez83lfrv+c97P3LBj9ji1Ho/OJzdc7fueD89bkMCEjN4P2R2JqZxIXc/JRM3V/Vwdj8t+jYSv8h1P/xQteeEmnY/WOMeKYa/dj9De2e+jBh1PxGYtZl1pHU/1Enr+jnndT+Unouvszh2P8SUVYkeb3c/MFtiADlYeD/JIzSXQ7N4P54Z5E9T2Hk/kRJvNYyMej8Dhk/p9lt7PzAMeTtFCH0/ZZ1OTxS7fj976QDCZEt/P6pSezwW1n8/32tesvVHgD/iqrzo8hOAP7fzT6Y7eIA/crm75EeOgD8RHGeDlLqAP2QI90IsoYA/ZjN0yGkEgT+DIaRCW+WBP6FdIiXnr4I/Y9gIstOYgz9N8oQn/XSEP5nm4DEYa4U/4ZzHIx5Vhj+v6rnVQIyGP7Gy++oyG4M/k4BbjcSigj/bxABrpreCP5Xg5joJCIM/hHbRNOt2gz/MxXUgEtKDPzf22MH67oM/ju27NARLhD+o5kMc84aEP925oTFf8oQ/oVTrd9POhT8pmFfUdTiHP4eA2nw/poc/5czDAWZXiD97Cb6EmC2JP3bfZ9oq5ok/T0XKWNJxij8L6KTM9B2LP3IKd7Kd0Is/r7LOjqBfjD8=",
          "dtype": "f8"
         },
         "yaxis": "y"
        },
        {
         "hovertemplate": "Entity=Iran<br>Year=%{x}<br>gdp=%{y}<extra></extra>",
         "legendgroup": "Iran",
         "line": {
          "color": "#19d3f3",
          "dash": "solid"
         },
         "marker": {
          "symbol": "circle"
         },
         "mode": "lines",
         "name": "Iran",
         "showlegend": true,
         "type": "scattergl",
         "x": {
          "bdata": "qAepB6oHqwesB60HrgevB7AHsQeyB7MHtAe1B7YHtwe4B7kHuge7B7wHvQe+B78HwAfBB8IHwwfEB8UHxgfHB8gHyQfKB8sHzAfNB84HzwfQB9EH0gfTB9QH1QfWB9cH2AfZB9oH2wfcB90H3gffB+AH4Qc=",
          "dtype": "i2"
         },
         "xaxis": "x",
         "y": {
          "bdata": "8bMo0aqhfT8DMSyMb5p/P3mWSvsoQYA/TmYCatSSgD8zVAmBZveAPy4KGFZKzoI/MA8WVbS+gz+YpcFA6RqFP9aSF8voqoY/820CGgXYiD/Usw//vM2HP4ak8AykG4o/tvvzAmo+jD8hCXOdpMaMP9jHf4p/Bo4/sF6XgIn+jD+bD1p3/yGQP89K2zuSx40/JUkvNCqgiD9HzZx+xCiFPzxjDSdtnn0/P6pgQpmLez906Nf2G3OBP1/B6mEGf4I/5g68pnghgD9R+SwTNsN/P3a+pOIwmHs/DluzlaWbej+Hqskemwt4PwsDnpFUlXc/7Ntm2M2deT9YOMsKWlF8P2wJgJSAjXw/TGbjdqdofD9oyMqz0Ch7Pwn5HMIr4Ho/FRYiK9dVez+AZcFhs3x6P7L9vzTzZXo/vqT2UsPDeT9vJcvM2xt6P60OCr4j0Hk/u6aVXG4Zez/iafaD7qJ8P7nqFOmfnnw/1M8HUCVyfD/9UHeXKqN8P8c8qk1puH0/Dh2yZJxCfT/Cx+RvwhN+P2hv5sOFgn4/WND0VTlcfj9B1xqHt2l7P3E3stJbqXo/c1ldgFweez8GoPV1PSp6P6O/vAuu+Xw/hj63U19XfT8=",
          "dtype": "f8"
         },
         "yaxis": "y"
        },
        {
         "hovertemplate": "Entity=Iraq<br>Year=%{x}<br>gdp=%{y}<extra></extra>",
         "legendgroup": "Iraq",
         "line": {
          "color": "#FF6692",
          "dash": "solid"
         },
         "marker": {
          "symbol": "circle"
         },
         "mode": "lines",
         "name": "Iraq",
         "showlegend": true,
         "type": "scattergl",
         "x": {
          "bdata": "sAexB7IHswe0B7UHtge3B7gHuQe6B7sHvAe9B74HvwfAB8EHwgfDB8QHxQfGB8cHyAfJB8oHywfMB80HzgfPB9AH0QfSB9MH1AfVB9YH1wfYB9kH2gfbB9wH3QfeB98H4AfhBw==",
          "dtype": "i2"
         },
         "xaxis": "x",
         "y": {
          "bdata": "zM7TCQmTTz+aQwgZP7ZOP2hY9Ykgr0s/7EOPo6z2Sz8JoG2Fa21LP7zJxvib4Eo/1TnwqqWTTj91lkfj5gRRP3i6yCMO7lI/6HaYhcOOUj+OHX6XgeZUP2HyJkmqQVg/bfxFJls5XT/R/SCp63NcP7Qs1wmwT10/9MjyWJjgWD9qrtYzoG5XP9oxnL566VY/Qj3ykrsyVz8EzhvU80pYP7RCUuBtM1c/GC0krCTLVD8B4tjRKVBfP+GsPiPRJUY/r0rrGSnLTD8zVBVmjXhSPyy6MQnnnlI/uz1tqphlUj9DTi4feMBTP0tZ18ijF1c/Ue5EdypgXj/TNu2aIUhhPw7GvvOwxmA/1iXoWFzWYD9hfyFPGa9ePyvH+8398lM/h8aP+W1yXT+DMG8nlZxdP5DNMEKJRl8/bJArkZJsXj+NALa3EitgPz80fEuNAmE/hbtE6m9aYT/9AKMStxdiP3q0ZPQrHGQ/60BhMRIWZT83MJuat6VkPytwn+ErKGU/kGd8winvZj/MRiS2vhdmPw==",
          "dtype": "f8"
         },
         "yaxis": "y"
        },
        {
         "hovertemplate": "Entity=Ireland<br>Year=%{x}<br>gdp=%{y}<extra></extra>",
         "legendgroup": "Ireland",
         "line": {
          "color": "#B6E880",
          "dash": "solid"
         },
         "marker": {
          "symbol": "circle"
         },
         "mode": "lines",
         "name": "Ireland",
         "showlegend": true,
         "type": "scattergl",
         "x": {
          "bdata": "sgezB7QHtQe2B7cHuAe5B7oHuwe8B70Hvge/B8AHwQfCB8MHxAfFB8YHxwfIB8kHygfLB8wHzQfOB88H0AfRB9IH0wfUB9UH1gfXB9gH2QfaB9sH3AfdB94H3wfgB+EH",
          "dtype": "i2"
         },
         "xaxis": "x",
         "y": {
          "bdata": "u2gQuqp/YT/uU+c9GlthPzB0AY2heWE/SnXQPp8sYT/Bm+CvLIthP0QgsMvgV2I/7ROXSq6nYT9Q9g16PGFiP9eCJ4Vm9GI/ghBdxmjCYj/B0Ww0raxiP7xNIeOW7GI/rYzryT5HYz8aaGdF3sZiP2Oep4EBvGI/UcH7DvqcYj847ISJee5hP1nApKPr+mE/6x1/4EUSYj9tHm99hrBhP+W5hc3/TmI/ttQIHU9bYj/iTlSwu5liP7LyQxE4z2I/RIfWASRPYz/o8tZIFHtkP4l01BBoWmU/dU76Qcy1Zj9Vvzv20QhoPwisaihuumk/6QkBjc37aj+Jgx2BFAJsP95CX1JEJG0/dtGEaFI0bT8ndTnjD9VtP1oSLj3jdW4/oCT47GXRbj8Q6rTfphxvPy4H73vbWW0/8YA7DdV8bD/GAMpQT85rPy1qoPrPwms/vEr/ipwXaz8IUeNBYtVqP/PD05f0Q2w/WWc60I1ZcT/4p94fjtBxP1nQoWg8pXI/",
          "dtype": "f8"
         },
         "yaxis": "y"
        },
        {
         "hovertemplate": "Entity=Isle of Man<br>Year=%{x}<br>gdp=%{y}<extra></extra>",
         "legendgroup": "Isle of Man",
         "line": {
          "color": "#FF97FF",
          "dash": "solid"
         },
         "marker": {
          "symbol": "circle"
         },
         "mode": "lines",
         "name": "Isle of Man",
         "showlegend": true,
         "type": "scattergl",
         "x": {
          "bdata": "wAfBB8IHwwfEB8UHxgfHB8gHyQfKB8sHzAfNB84HzwfQB9EH0gfTB9QH1QfWB9cH2AfZB9oH2wfcB90H3gffBw==",
          "dtype": "i2"
         },
         "xaxis": "x",
         "y": {
          "bdata": "1w2t3K3cAz98rnBsGTkDP8961tXwJgY/g+0HGqNSBz+cqQQRCOoIP+1bgr8eoAg/pkIa9Ut7CD/2hg8rvncIP3zXhVL4LQg/YE14fOtrCD8ahGXtrKcIPx563NC/3wg/RjZGwzzpCT/3VzQkgCELP7WYEuHcCQ4/P6DFYFOGED84onYfyKkQP/5ftFvbORE/z0ojKVTZET+igLo+oXESP+5jQEEtlBI/hpiJKnbzEj+7ZYmkuJETP6gVo3KWLRQ/4ow3sH7EFT/KkhCglp8WP93vAgLOuxc/k/Ch1MUdGD/Knd5vNf8YPy7qDA0edBk/5hTghuv+GT/1FiYpm40YPw==",
          "dtype": "f8"
         },
         "yaxis": "y"
        },
        {
         "hovertemplate": "Entity=Israel<br>Year=%{x}<br>gdp=%{y}<extra></extra>",
         "legendgroup": "Israel",
         "line": {
          "color": "#FECB52",
          "dash": "solid"
         },
         "marker": {
          "symbol": "circle"
         },
         "mode": "lines",
         "name": "Israel",
         "showlegend": true,
         "type": "scattergl",
         "x": {
          "bdata": "qAepB6oHqwesB60HrgevB7AHsQeyB7MHtAe1B7YHtwe4B7kHuge7B7wHvQe+B78HwAfBB8IHwwfEB8UHxgfHB8gHyQfKB8sHzAfNB84HzwfQB9EH0gfTB9QH1QfWB9cH2AfZB9oH2wfcB90H3gffB+AH4Qc=",
          "dtype": "i2"
         },
         "xaxis": "x",
         "y": {
          "bdata": "pgeUc3jJYD+FiVg8LtxhPz3eGOgJo2I/QjDyRNObYz9VIOJdq9djPy3mW+IreGQ/CIp8Vv5NYz9ksj0NsgljPydnGL7js2Q/5D2Gan0mZj+6p/IWin5kPyO7R0gHqGQ/FuV6ZzHnZT9ik39ZPrRlP71+caVdpGY/pkZ7fBkiZz8k7bPpnAdmP4DVI8DNaWU/JbJPPTO/ZT9IqEiyai1mP32klgN6xmU/JPlQbyZ/Zj94muZ/ZN9mP0M937EWFWc/2hkJD3NGZj/se/sm11VmP9IQ8Xnxg2Y/P5bbylQcZz9Xgd3l8bdmP2s1uxQuI2U/2MOpMRilZT+OGAA0le9mPxH56/DPO2g/Ob+bVX/YaD8IwIYCtOhpPwPsrrChuGo/D8zrnfU2az/8cK36YDRrPxqXcS0cpGs/cdHbZU+3az/Q+u5ZC7NsP1DK7IKDKWw/qt3Is4abaz/t2CuEMQlrP8yyZ1cQEms/2zBEL/smaz/AYBok1mNrP0J7XCS5zGs/z1oau9wdbD9zPhywPwJtPwGvWV80RG0/hEkm25yxbT+NQpHFyYdtP4RbLmy79W0/PZUQMjcgbj/Zdtfyr1luP/b8ErZn2m4/bMAxlOfzbj8=",
          "dtype": "f8"
         },
         "yaxis": "y"
        },
        {
         "hovertemplate": "Entity=Italy<br>Year=%{x}<br>gdp=%{y}<extra></extra>",
         "legendgroup": "Italy",
         "line": {
          "color": "#636efa",
          "dash": "solid"
         },
         "marker": {
          "symbol": "circle"
         },
         "mode": "lines",
         "name": "Italy",
         "showlegend": true,
         "type": "scattergl",
         "x": {
          "bdata": "qAepB6oHqwesB60HrgevB7AHsQeyB7MHtAe1B7YHtwe4B7kHuge7B7wHvQe+B78HwAfBB8IHwwfEB8UHxgfHB8gHyQfKB8sHzAfNB84HzwfQB9EH0gfTB9QH1QfWB9cH2AfZB9oH2wfcB90H3gffB+AH4Qc=",
          "dtype": "i2"
         },
         "xaxis": "x",
         "y": {
          "bdata": "8KRGSXzyrj+R0oBM5ASwP2qILsK1HbA/8TvdImctsD+JGdofdS6vP5npFybscq4/zU+RVYx1rj9ubY4QJEKvP4KPnsb1J68/NSYagIskrz+4sMrxV0SsP1b3jIGzlqs/VDt3YEsMqz9CBy/IWDGrPyDaPKOfG6w/L37bgvU7qz8mvZignLGrP2qciaZBU6s/5Cam8mwkqz8Cdz+qZZ2rPw5n1/RYlas/soW/Pe5Hqz9+yfr1jUirP/Q8W8FD86o/+IMJWTuZqj+qlKXYTlqqP4JG4lfhOao/Dm07KnXtqT9qdPGtRM6pP33vWL9zrqg/oTxJCtUEqD9lvl8qUv2nPzaSHqLRt6c/d7U38Akopz9LHYCNF/amP8SDTAYJ26Y/zEw43ipjpj+tpwAgIPylP5RwQ15nyqU/CHvE+YxqpT+auPe6C0OlP+8PUOxvOqU/CdkNbQXUpD8Fp9FesEWkP95tkK7et6M/F/aVdU4soz8KvN08fMCiP3bdGjc8QqI/VQkvziG+oT8E7UTY/BChPz1juWuco6A/q5WgE0g5oD88ccEqA8OeP/Ha4MJtdZ0/LDEasnetnD+zzuAvcU6cP08HmZ174Zs/N9qXc8N5mz8=",
          "dtype": "f8"
         },
         "yaxis": "y"
        },
        {
         "hovertemplate": "Entity=Jamaica<br>Year=%{x}<br>gdp=%{y}<extra></extra>",
         "legendgroup": "Jamaica",
         "line": {
          "color": "#EF553B",
          "dash": "solid"
         },
         "marker": {
          "symbol": "circle"
         },
         "mode": "lines",
         "name": "Jamaica",
         "showlegend": true,
         "type": "scattergl",
         "x": {
          "bdata": "rgevB7AHsQeyB7MHtAe1B7YHtwe4B7kHuge7B7wHvQe+B78HwAfBB8IHwwfEB8UHxgfHB8gHyQfKB8sHzAfNB84HzwfQB9EH0gfTB9QH1QfWB9cH2AfZB9oH2wfcB90H3gffB+AH4Qc=",
          "dtype": "i2"
         },
         "xaxis": "x",
         "y": {
          "bdata": "UBOXuxSmQT844nRTUTRBP9+BorLtBEE/Gy8bSpTtQD9HHpsMVVtAP9t+zX2KEEA/J3P4zLLsQT+IBVgwUcw/P1cVn+RK1j0/IVhv0IBzPT8YxkQxsRU6P3aBx/1ycTg/ZxTtpECBNz/FhJqgdlQ2P4ELwiUkVTQ/oIKpa7h3ND+XGQwRl840Pz2eRmMGtDQ/BEI6+Dx9Mz9CzzCMCTsyP06tTH14+DE/XnnUa2uRMj9X//8qF3EyP18LxKa1SDI/7JKybvktMj8r52NbWb8yPw244mzMvTI/BvPs/WIxND83lmkWUN8zP8g5sMl4rTM/o877VRACMz/NIQjN7x4yP6iNDtwxQzE/YO8MU1vhMD/+87JSF00wP4sEjNH/NDA/bd+P39EtMD/DudBGvkwwP+XtUnbLoC8/abvx5JO8Lj+OC3BvEFMuPwhPFxbHgy0/1+nwI/K/LD9ICG3OL/0rP0hT3P81cSo/mS4BgwUUKj9l+9AyJEgpPwMywOluwig//JKG33E9KD/OR2h5huknPyv5vLFIrCc/4uCA4ScYJz8=",
          "dtype": "f8"
         },
         "yaxis": "y"
        },
        {
         "hovertemplate": "Entity=Japan<br>Year=%{x}<br>gdp=%{y}<extra></extra>",
         "legendgroup": "Japan",
         "line": {
          "color": "#00cc96",
          "dash": "solid"
         },
         "marker": {
          "symbol": "circle"
         },
         "mode": "lines",
         "name": "Japan",
         "showlegend": true,
         "type": "scattergl",
         "x": {
          "bdata": "qAepB6oHqwesB60HrgevB7AHsQeyB7MHtAe1B7YHtwe4B7kHuge7B7wHvQe+B78HwAfBB8IHwwfEB8UHxgfHB8gHyQfKB8sHzAfNB84HzwfQB9EH0gfTB9QH1QfWB9cH2AfZB9oH2wfcB90H3gffB+AH4Qc=",
          "dtype": "i2"
         },
         "xaxis": "x",
         "y": {
          "bdata": "OavFlkCVtj/+o6LRQDW4P3PoxYGT+bg/PXUzaO+/uT/y3YOen/W6P3RXLE4C+ro/SLKJva0rvD9EV5Qlcva9P2m6t1IkpL8/bUvO8cTDwD94zKH1gwa9P94hVDVpIb0/dm6GbEvcvT/a6eLAP0a+P5mE8n1jTL0/GHP7H9zjvT+67FudKIC9P9tEi5qYoL0/6lSfhhYCvj86kF1eyWS+P+/wqnvoLb4/gj0YCTDYvj9lcYvz3ry/P/FY2zMxCsA/A8zTcrUGwD9F+u9WF0HAP8F/roPfP8A/1KltLNhNwD+YfZBAhaHAP/3uiYLqIcA/IzW/qJolwD+CAfHx9GzAPy7fQALwPcA/X3AqDGHSvz92Xa+nLDK/P2C7agQ8Ar8/bZTmNdbqvj9daX1ilCK+P6bCiFXoD70/9/qtcJ8NvD85nX0n6Jm7PxVJKlwNMLs/IiHE0/2juj9eO9IMM0m6PwW/vKFvubk/wMMNvpYwuT/z2lQoqn64P8qyRXGZ5Lc/jU9gFCQ1tz+BTEi7ola2P4Pwg/LUULY/y+kLNuabtT+6ZSIgUWW1P2BG2TJORLU/oV3P58TBtD/ClPJY3pG0Pw9fNdjMRrQ/qU/8mPcFtD8=",
          "dtype": "f8"
         },
         "yaxis": "y"
        },
        {
         "hovertemplate": "Entity=Jordan<br>Year=%{x}<br>gdp=%{y}<extra></extra>",
         "legendgroup": "Jordan",
         "line": {
          "color": "#ab63fa",
          "dash": "solid"
         },
         "marker": {
          "symbol": "circle"
         },
         "mode": "lines",
         "name": "Jordan",
         "showlegend": true,
         "type": "scattergl",
         "x": {
          "bdata": "twe4B7kHuge7B7wHvQe+B78HwAfBB8IHwwfEB8UHxgfHB8gHyQfKB8sHzAfNB84HzwfQB9EH0gfTB9QH1QfWB9cH2AfZB9oH2wfcB90H3gffB+AH4Qc=",
          "dtype": "i2"
         },
         "xaxis": "x",
         "y": {
          "bdata": "8JHq0mmMJT9wEt+0VW0pP1+uIdQHDio/VBFVwl5VLj+lSM7bP8gvPwZDtl+oQzI/Bw+N7I3BMj9zC8YvXw80P16eMGzW+TM/KXxlh9q/ND+k2x0TeLA0Pweq3rvjazU/moiM5OUdNT+kszPeQswzP1FvIMW9sy8/Nia5S4CLLj94v9Cb55cuPzETufNBzDE/1CpxamZWMj+tgZ9nDbAyP1OR/w6/MjM/5fvnNiH0Mj8NKVzKyuEyP01C3n0N+DI/ELgDAIj7Mj90pqzxaPEyPyzL3Y0UkDM/18H2QgtBND9DQNyZr4A0P+JE+EJSUDU/N1sA+rMzNj+/4Da4iwI3P89Wtg9w4jc//ZVZcP0mOT+EUmO2of86P3kC3XECfDo/M4Za9ONWOj806CsVaGA6P0ZP9Oo5bjo/an/tCA9/Oj/p6N0Pv4Y6P5LeIn2abDo/hgKhhwUpOj8=",
          "dtype": "f8"
         },
         "yaxis": "y"
        },
        {
         "hovertemplate": "Entity=Kazakhstan<br>Year=%{x}<br>gdp=%{y}<extra></extra>",
         "legendgroup": "Kazakhstan",
         "line": {
          "color": "#FFA15A",
          "dash": "solid"
         },
         "marker": {
          "symbol": "circle"
         },
         "mode": "lines",
         "name": "Kazakhstan",
         "showlegend": true,
         "type": "scattergl",
         "x": {
          "bdata": "xgfHB8gHyQfKB8sHzAfNB84HzwfQB9EH0gfTB9QH1QfWB9cH2AfZB9oH2wfcB90H3gffB+AH4Qc=",
          "dtype": "i2"
         },
         "xaxis": "x",
         "y": {
          "bdata": "cevX1f4nZT+KqvlXZ4ViP+WHeo2QMmE/jvaRJ+DAXj/o/gb6PhdaPw+B/TkTLFc/pSRKXW+FVj+qUkVNQBZWP/9+9JBhIlU/NGHyRxwBVT/oiwYG1hNWP4X/Bl8plVg/5sY0SdxqWj9pPh7ang9cP3UaRdrVcl0/oj+4Ys0dXz/zQ44PZINgP7icRspyQWE/8J8jmFSBYT/39/plPQdiP8OiCzcZjGI/nVBuV6hPYz9+Kc6GRL5jPx5Y1uHNZGQ/ay7pMdKpZD8oXHEwLnJkP1Z+zq3VL2Q/5JNAfg5iZD8=",
          "dtype": "f8"
         },
         "yaxis": "y"
        },
        {
         "hovertemplate": "Entity=Kenya<br>Year=%{x}<br>gdp=%{y}<extra></extra>",
         "legendgroup": "Kenya",
         "line": {
          "color": "#19d3f3",
          "dash": "solid"
         },
         "marker": {
          "symbol": "circle"
         },
         "mode": "lines",
         "name": "Kenya",
         "showlegend": true,
         "type": "scattergl",
         "x": {
          "bdata": "qAepB6oHqwesB60HrgevB7AHsQeyB7MHtAe1B7YHtwe4B7kHuge7B7wHvQe+B78HwAfBB8IHwwfEB8UHxgfHB8gHyQfKB8sHzAfNB84HzwfQB9EH0gfTB9QH1QfWB9cH2AfZB9oH2wfcB90H3gffB+AH4Qc=",
          "dtype": "i2"
         },
         "xaxis": "x",
         "y": {
          "bdata": "fpJRpDiwPz8c8jiH0fU7P7fjXynB/Tw//F0ytIH5PT9eD9ofIX89P2M5OdrVczw/KgMq22jPPj8U1cUyEH4+PwaREpaLzT4/i9i58G9UPz9yFvd4g8E5P2J4RkTcKT4/OUE5piWyQD8nONOitZdAP/j7btT16kA/pZT1hrvjQD+NEAMPqGBAP5AOJSvnPkE/Z1uMfFa9QT+i0XmknVRCP2RN4bM/sUI/qtiaeUMGQz+0ey3+tTtDP9uY9jRPBkM/bdxR30WCQj/t11a1GZtCP893+V4tS0M/PAq8jNqUQz8BdM4zfd1DP74CeR4uPUM/YR17W6YgQz9yx6XI2BVDP73YDzRJkEI/g3oEbDBYQj+SdjArlUZCPwkcQ/TRdUI/NfUW2LuXQj8DFQ+ltgNCP/DLyFBHJkI/2yHGufb3QT//OkZp2k1BP9PwhFgZnkE/pViZTkVWQT+nrAJEwVdBP4nEItQrdEE/gzDwD/nNQT/5lVPCAy1CPxwN8Am2okI/Gabi8flXQj8aLjRG/UhDP9XHnfpyC0Q/kgb9nomeRD+szullcghFPytxTFx/s0U/ABrKaHI7Rj8Kn9UhB/tGP2vbqM51wkc/511s+NsxSD8=",
          "dtype": "f8"
         },
         "yaxis": "y"
        },
        {
         "hovertemplate": "Entity=Kiribati<br>Year=%{x}<br>gdp=%{y}<extra></extra>",
         "legendgroup": "Kiribati",
         "line": {
          "color": "#FF6692",
          "dash": "solid"
         },
         "marker": {
          "symbol": "circle"
         },
         "mode": "lines",
         "name": "Kiribati",
         "showlegend": true,
         "type": "scattergl",
         "x": {
          "bdata": "sgezB7QHtQe2B7cHuAe5B7oHuwe8B70Hvge/B8AHwQfCB8MHxAfFB8YHxwfIB8kHygfLB8wHzQfOB88H0AfRB9IH0wfUB9UH1gfXB9gH2QfaB9sH3AfdB94H3wfgB+EH",
          "dtype": "i2"
         },
         "xaxis": "x",
         "y": {
          "bdata": "2/1j5Qj+3T6pRCjobhfcPnb66drmxN0+lnzHkMLj4D7Mvb0DawvoPt123RH1EOk+zklThrVs4T5AjOP7BPvfPvQo3uZyGN8+BDeiMwtm2j4tJfUYHUnVPotXONGVL9Q+vML8BK161T7LdoH/zs3UPlVzhatv2tQ+ozJuyO+00j4i8O1gHPPRPnvddbV8Pc8+Dtl0iyxK0D7pAr1NNCDNPoQkbgLkjMs+GcNuaYsZyz40GcBu883KPj4V/LnXn8o+UEVIJixKyj5mU/CjOW/JPplEUsmOA8k+yaMgeAKGyD5IxS6cIX3JPpKS8ApeScg+FvGTYbyzyD6J/Rcqj+DHPnTU6jMUQcg+WU2D/EQLyD7pMFKjy6XGPpH9Oov85MY+Bs5SUKKaxT5KB88N1S/FPmQCpQkXbMQ+34CJo+DXxD6mWC/kw6nDPit5cug9J8M+TMH1VX+nwz5Y4F9jmkLEPv3aE5li4MM+rBsz2GdvxT43SRzIASzFPlIv8K93McU+",
          "dtype": "f8"
         },
         "yaxis": "y"
        },
        {
         "hovertemplate": "Entity=Kosovo<br>Year=%{x}<br>gdp=%{y}<extra></extra>",
         "legendgroup": "Kosovo",
         "line": {
          "color": "#B6E880",
          "dash": "solid"
         },
         "marker": {
          "symbol": "circle"
         },
         "mode": "lines",
         "name": "Kosovo",
         "showlegend": true,
         "type": "scattergl",
         "x": {
          "bdata": "0AfRB9IH0wfUB9UH1gfXB9gH2QfaB9sH3AfdB94H3wfgB+EH",
          "dtype": "i2"
         },
         "xaxis": "x",
         "y": {
          "bdata": "4Ox2ctQ+ET+GfWWMW3sVP3bmOfCc4BQ/FJuB7LKAFT+vXEVTkiAVP0Inq+/dkxU/6SOV3b2eFT/pMxW83EEWP8PzuHCZbxY/7Yyi22iYFz+Cd1VCMF8XP4Pf6yCJvxc/aTr19ZjWFz9rx2M46gYYP1FbCGyupBc//lEveE8QGD+PwlL21XQYP1DKcQIDzhg/",
          "dtype": "f8"
         },
         "yaxis": "y"
        },
        {
         "hovertemplate": "Entity=Kuwait<br>Year=%{x}<br>gdp=%{y}<extra></extra>",
         "legendgroup": "Kuwait",
         "line": {
          "color": "#FF97FF",
          "dash": "solid"
         },
         "marker": {
          "symbol": "circle"
         },
         "mode": "lines",
         "name": "Kuwait",
         "showlegend": true,
         "type": "scattergl",
         "x": {
          "bdata": "yAfJB8oHywfMB80HzgfPB9AH0QfSB9MH1AfVB9YH1wfYB9kH2gfbB9wH3QfeB98H4AfhBw==",
          "dtype": "i2"
         },
         "xaxis": "x",
         "y": {
          "bdata": "xl2JDs2UUj9cQ1isQYRYPzx7ZIxJzlk/byXAsuEtWj9ZrCAdbnhZPxBMPshPK1k/VV43a/lyWT8kjHmm5C9YP2/zVmuhPVg/gkeTEk/0Vz+DMcHX4CVYP3d27ptQiFs/nKVYY0YzXT9uBPUdtvVeP6VcKL+Y6l8/+27aV/U6YD9rcBUylFVgP15WiWSw5F4/B8UGLlLrXD+qNE2XLbxePzP/q1Np+F8/stz1vTGDXz8aKRCIqsteP7FO5Wv0SV4//W/vTvegXj/luACrcuJcPw==",
          "dtype": "f8"
         },
         "yaxis": "y"
        },
        {
         "hovertemplate": "Entity=Kyrgyzstan<br>Year=%{x}<br>gdp=%{y}<extra></extra>",
         "legendgroup": "Kyrgyzstan",
         "line": {
          "color": "#FECB52",
          "dash": "solid"
         },
         "marker": {
          "symbol": "circle"
         },
         "mode": "lines",
         "name": "Kyrgyzstan",
         "showlegend": true,
         "type": "scattergl",
         "x": {
          "bdata": "wgfDB8QHxQfGB8cHyAfJB8oHywfMB80HzgfPB9AH0QfSB9MH1AfVB9YH1wfYB9kH2gfbB9wH3QfeB98H4AfhBw==",
          "dtype": "i2"
         },
         "xaxis": "x",
         "y": {
          "bdata": "RPyrtIh7ID+JKO3E3k8gP3xawEJ6oyE/izL9ur7FID8EgOr+xOogP1K/j5D7qh4/tLpGH8XkGT9h6c2UXY4VP0pZO6rBuBA/ogJ3z7uZDj8DfFJxgLAPPwKuTeZdyxA//sE39pe6ED+0kKWa3scQP6cNhauB7xA/DWD0dJ1/ET/+NgsYiR8RP6z+h1qSzxE/pjZGJrFAEj8X16e724wRP8d9zrJjWRE/Mn8MJNkREj9ezA1zgDwTP14bjqkpJBQ/+wO2x2M4Ez/FvH+rLb4TP1uR+Rs/PhM/TvtvlYjMFD+IAsuwzwkVP/zjcrIRXhU/yIsYhpfFFT+DPA/pVhsWPw==",
          "dtype": "f8"
         },
         "yaxis": "y"
        },
        {
         "hovertemplate": "Entity=Laos<br>Year=%{x}<br>gdp=%{y}<extra></extra>",
         "legendgroup": "Laos",
         "line": {
          "color": "#636efa",
          "dash": "solid"
         },
         "marker": {
          "symbol": "circle"
         },
         "mode": "lines",
         "name": "Laos",
         "showlegend": true,
         "type": "scattergl",
         "x": {
          "bdata": "wAfBB8IHwwfEB8UHxgfHB8gHyQfKB8sHzAfNB84HzwfQB9EH0gfTB9QH1QfWB9cH2AfZB9oH2wfcB90H3gffB+AH4Qc=",
          "dtype": "i2"
         },
         "xaxis": "x",
         "y": {
          "bdata": "91wf/2tQDD/sFETyJqwMP2phNyuxGA0/eB13c2B6Cz/1joMfaLgJP7obbE6GKws/bCvrWv2pCz+gkDY4eWEMPwKLCB/kXw0/eeDlP8uiDj84MN3aDBUQP5gnPiYtpxA/NDpI8nE4ET9BkR3aTb8RP9lLvSRg/xE/mKGs72ywEj+9S4PrnO0SPwoOmxscoxM/jE+VElpbFD8OvUFZ2PsUP5hTn6GyXhU/gPgQwO0LFj/rgiDEyPUWP/KhhpOKtBc/XQFEx/cZGT9jQUptF3YbP2Qcjjcqkxw/iY7tk77tHT8pRowETYofP15SAfbjmSA/SvU4ZhJfIT8MU1xqNTgiP9Wd2SXiCiM/JARVoCvDIz8=",
          "dtype": "f8"
         },
         "yaxis": "y"
        },
        {
         "hovertemplate": "Entity=Latvia<br>Year=%{x}<br>gdp=%{y}<extra></extra>",
         "legendgroup": "Latvia",
         "line": {
          "color": "#EF553B",
          "dash": "solid"
         },
         "marker": {
          "symbol": "circle"
         },
         "mode": "lines",
         "name": "Latvia",
         "showlegend": true,
         "type": "scattergl",
         "x": {
          "bdata": "ywfMB80HzgfPB9AH0QfSB9MH1AfVB9YH1wfYB9kH2gfbB9wH3QfeB98H4AfhBw==",
          "dtype": "i2"
         },
         "xaxis": "x",
         "y": {
          "bdata": "H7TiTpwGND8Mp3+Bw9IzP1qPfqnf1DQ/Nm/EjfCkNT/bdVQ6hX41PwGmGUM/sDU/M9dzFOGmNj82boPTnr43PzH+ibJ0BTk/CfH+ZqP0OT+o6bMLxqw7P16PlNp2sD0/8Aro6eFUPz9oqyuFfa09PxWZL/I72jk/nlMhD3nPNz+nKVDnT444P71OsZoG7Dg/EAY1K0jgOD9cvZsRdaM4P5jUmCZgzjg/mPogk6XCOD95OIu2DSI5Pw==",
          "dtype": "f8"
         },
         "yaxis": "y"
        },
        {
         "hovertemplate": "Entity=Lebanon<br>Year=%{x}<br>gdp=%{y}<extra></extra>",
         "legendgroup": "Lebanon",
         "line": {
          "color": "#00cc96",
          "dash": "solid"
         },
         "marker": {
          "symbol": "circle"
         },
         "mode": "lines",
         "name": "Lebanon",
         "showlegend": true,
         "type": "scattergl",
         "x": {
          "bdata": "xAfFB8YHxwfIB8kHygfLB8wHzQfOB88H0AfRB9IH0wfUB9UH1gfXB9gH2QfaB9sH3AfdB94H3wfgB+EH",
          "dtype": "i2"
         },
         "xaxis": "x",
         "y": {
          "bdata": "k/VNXmxFPz/Rao0e6KUwP8lPnuvFGTQ/KA+svzBTOz+JdvcNcv87P3jahFjSfz0/tEoIMS/tPj8MCadJLOA/PxZvb3JqNEA/RNfE/9qJPj+3lGtFg9s+P3DgwcvluT0/+8yM9rPWPD94HIQwDmM9P9CvW0Zuvj0/FfrG2m/WPT/m6onXh0I+P9CfrFdd8T0/GZmp8uUnPT+w8U19qJc+PwmRvQlVmEA/oG9T8heWQj9QXG23skBDP673AbP21UI/alzjOPjjQj9AXXQ4y+RCP6c+aLZmvUI/TlYgRuh4Qj8OakmXh2ZCP/Tfr+7KOUI/",
          "dtype": "f8"
         },
         "yaxis": "y"
        },
        {
         "hovertemplate": "Entity=Lesotho<br>Year=%{x}<br>gdp=%{y}<extra></extra>",
         "legendgroup": "Lesotho",
         "line": {
          "color": "#ab63fa",
          "dash": "solid"
         },
         "marker": {
          "symbol": "circle"
         },
         "mode": "lines",
         "name": "Lesotho",
         "showlegend": true,
         "type": "scattergl",
         "x": {
          "bdata": "qAepB6oHqwesB60HrgevB7AHsQeyB7MHtAe1B7YHtwe4B7kHuge7B7wHvQe+B78HwAfBB8IHwwfEB8UHxgfHB8gHyQfKB8sHzAfNB84HzwfQB9EH0gfTB9QH1QfWB9cH2AfZB9oH2wfcB90H3gffB+AH4Qc=",
          "dtype": "i2"
         },
         "xaxis": "x",
         "y": {
          "bdata": "yfgKhYZy+T47z8Fg4sz4Pgi9tDRLGPs+WTF516t8/D7R5CYAE+n8PsY2r4w97fs+O0/MSXFA+j5ZWB39A+H7PpX76G8x/Pk+BO1D4ifc+D5XF8vu0+b1PnxCjH1pEfY+Y+moXL7S9D67tz5WwbP4Ppq4LNkZ3Po+zOYIew799j5dpleHjzv4PiH9xQrJZfw+0IcJDNQpAD9cdcEtKvD/PiZtM7JK//0+n3wDcdWf/T4KyOnN79H+PlyomKCGsP4+M3vZCXP3/j7AEfM115/+PgzpKP6TBP8+KxOwl+Hu/T5O6Hq1fw3/PmfzUoApZP4+6xllgbDA/j7eFxF7ti0AP39az8p09wA/zPLLujFLAT+GXUCWb8oBP7U9nBhHxwE/sHU/m8QnAj/ULvYy8CcCP7E/ah5S+wE/dCHy3PB7AT9MjJwgx2IBPx62vLLeqQE/2XaSwK9pAT9zSC2XrLEBP4M4/WWuOgE/RWsky6QrAT+8qepbyygBP3BWs13bQgE/k4l/DQUYAj9gdKexas8CPzHtEs1XIQM/0dvOq1/TAz+TpJMoQIAEPxLsWDGUWAQ/CvzDh9JmBD8janiSHnMEP5cNqEAUcwQ/gsFHLtD2BD8=",
          "dtype": "f8"
         },
         "yaxis": "y"
        },
        {
         "hovertemplate": "Entity=Liberia<br>Year=%{x}<br>gdp=%{y}<extra></extra>",
         "legendgroup": "Liberia",
         "line": {
          "color": "#FFA15A",
          "dash": "solid"
         },
         "marker": {
          "symbol": "circle"
         },
         "mode": "lines",
         "name": "Liberia",
         "showlegend": true,
         "type": "scattergl",
         "x": {
          "bdata": "qAepB6oHqwesB60HrgevB7AHsQeyB7MHtAe1B7YHtwe4B7kHuge7B7wHvQe+B78HwAfBB8IHwwfEB8UHxgfHB8gHyQfKB8sHzAfNB84HzwfQB9EH0gfTB9QH1QfWB9cH2AfZB9oH2wfcB90H3gffB+AH4Qc=",
          "dtype": "i2"
         },
         "xaxis": "x",
         "y": {
          "bdata": "3gFdqOa3JD9g7vSuOk4kPwL400FrfiM/WwIJ4DLzIj/iE1voW64iP803VuIAgyI/Qc7rKHDRIj8TcHGn3zsjP/vkq4P42SI/y0j4OwcOIz+ZLAq+O4YhP/BuvNdSnyE/KrxuahxaIT/KmLzvidUfPwkdn8oUViA/pqKNsBQ2Hz8bZdBTSDMfP6CWUu8/fh4/zoYH/FzAHj88cDCSwX0eP3KyWhxbPRw/nAcdF70aGz/v0yBEpFYaPzhbTAd1Ohk/5bW8xNqcFz/rsLfO2JAWP288ynVodxU/PXBqfxJcFD9d8Y6MFw0TP7cIVVwN2Qk/hlS2/ton+D4ZNoAecWH0PvvlrS2q8ek+TwJiPYUf4T63BDMPHgLaPi3LKaK0Ftg+CM2HB4Ye2j6sQM/ia/rpPq2yEakxf/A+K8cvs2xv8z5T1rcdzu33Pr0Z6sQEKfg+YWzC+i+J+D7YK7XVIajwPr/7pMYDXvA+V2QntwOZ8D67438TmjHxPqvVB5VOEvI+4c59lPwD8z5umGelkWD0Ppphiz+3uvQ+YU/Ra3C+9T54PNbec+j2PrYlZ5k0RPg+Ae2CtPnC9z726tvdnjv3PhV6jQ1oU/Y+onTxCzI19j4=",
          "dtype": "f8"
         },
         "yaxis": "y"
        },
        {
         "hovertemplate": "Entity=Libya<br>Year=%{x}<br>gdp=%{y}<extra></extra>",
         "legendgroup": "Libya",
         "line": {
          "color": "#19d3f3",
          "dash": "solid"
         },
         "marker": {
          "symbol": "circle"
         },
         "mode": "lines",
         "name": "Libya",
         "showlegend": true,
         "type": "scattergl",
         "x": {
          "bdata": "zwfQB9EH0gfTB9QH1QfWB9cH2AfZB9oH2wfcB90H3gffB+AH4Qc=",
          "dtype": "i2"
         },
         "xaxis": "x",
         "y": {
          "bdata": "/NzZBgP2Tz9BPHjYorhPP7coBO4qkk4/sf+ODDKiTT9/pjtpEkZQP2DULYEZR1A/L+Pi8DuKUT+zL7s5EulRP0M1tuAeR1I/b5EoQrdtUj8Rynr+I5tSP2PK3eYwvFI/dhRGjFuNOz+UmkXB/fxNP/rE6WKnP0k/LHC5/rGoQj9B7MyDg6BAP2yelqpDkT8//NkaP3hpQz8=",
          "dtype": "f8"
         },
         "yaxis": "y"
        },
        {
         "hovertemplate": "Entity=Liechtenstein<br>Year=%{x}<br>gdp=%{y}<extra></extra>",
         "legendgroup": "Liechtenstein",
         "line": {
          "color": "#FF6692",
          "dash": "solid"
         },
         "marker": {
          "symbol": "circle"
         },
         "mode": "lines",
         "name": "Liechtenstein",
         "showlegend": true,
         "type": "scattergl",
         "x": {
          "bdata": "2gc=",
          "dtype": "i2"
         },
         "xaxis": "x",
         "y": {
          "bdata": "EwnQMPhfFD8=",
          "dtype": "f8"
         },
         "yaxis": "y"
        },
        {
         "hovertemplate": "Entity=Lithuania<br>Year=%{x}<br>gdp=%{y}<extra></extra>",
         "legendgroup": "Lithuania",
         "line": {
          "color": "#B6E880",
          "dash": "solid"
         },
         "marker": {
          "symbol": "circle"
         },
         "mode": "lines",
         "name": "Lithuania",
         "showlegend": true,
         "type": "scattergl",
         "x": {
          "bdata": "ywfMB80HzgfPB9AH0QfSB9MH1AfVB9YH1wfYB9kH2gfbB9wH3QfeB98H4AfhBw==",
          "dtype": "i2"
         },
         "xaxis": "x",
         "y": {
          "bdata": "RkhT0qhHPj9igLY8fMo+P6obeFLSE0A/AauOhVvaQD/Yr6kDuh9APxwFn4/JBkA/fNRrH5O/QD9m0LHkC4BBP9PXASq0zEI/If/HBCIuQz/H9i+x7eZDPwnHRkLKfkQ/CtohYsjYRT+t3jPGwQRGP+CDbRqQFkM/LbzragqaQj8xtOiRiB9DP9DwPomYXkM/RbzKKxyJQz+vhlFzAqtDP4xdPoEjn0M/N8PrJImcQz+Pl5/o/MRDPw==",
          "dtype": "f8"
         },
         "yaxis": "y"
        },
        {
         "hovertemplate": "Entity=Luxembourg<br>Year=%{x}<br>gdp=%{y}<extra></extra>",
         "legendgroup": "Luxembourg",
         "line": {
          "color": "#FF97FF",
          "dash": "solid"
         },
         "marker": {
          "symbol": "circle"
         },
         "mode": "lines",
         "name": "Luxembourg",
         "showlegend": true,
         "type": "scattergl",
         "x": {
          "bdata": "qAepB6oHqwesB60HrgevB7AHsQeyB7MHtAe1B7YHtwe4B7kHuge7B7wHvQe+B78HwAfBB8IHwwfEB8UHxgfHB8gHyQfKB8sHzAfNB84HzwfQB9EH0gfTB9QH1QfWB9cH2AfZB9oH2wfcB90H3gffB+AH4Qc=",
          "dtype": "i2"
         },
         "xaxis": "x",
         "y": {
          "bdata": "1rpwZazfTj8HuF0TUKtOPwYq9Id8ck0/JKECh6HzTD9DfVfOB0dNP9zz43A+e0s/S3R5KKU5Sj9Re8fuQypJP1i3YFHqhkg/n9qyuXBpST/ptA/x/eVGPyiSKtMKiUY/t22R6Je2Rj/AButweBZHP2wSJUXQkkc/Y3NxU5zLRT+zPXyVmzZFP7BimC6SukQ/mDu9LKvBRD/su7ucz2VEP45Df0BM3UM/BQXBMvZfQz+PXIMK3INDP5gbjM6fn0M/mJWx40rsQz8WcaXs2LxDPw565PTUAEU/LZj5JbrqRD/3RVG366tFP3Ykh60tA0Y/N9tRzi4fRj8CPZNHGKRHP+cCmmYTmkc/Ldyj2qo3SD+AHJQW7WdIP0DBqjU980c/7s9frK57Rz9CG7pvM/BHP8MKLBXHwkg/lm2XLmr+ST9KDyZeA+9KP2LCTHiAF0s/GwrcTzCHSz9yCrE2SzBLP1XtMcxl+Uo/R8EzOlLOSj8MokrURQhLPxqvDrotG0w/KxyuaaI/Sz/C3x9reoVKPyFQWLJpqko/Ih3ZmeSBSj/FbgdqoMRJPxNVjBozB0o/3V8hmyHFSj+n66HOY+xKPwiVQBl6Gks/C5QifD/rSj8=",
          "dtype": "f8"
         },
         "yaxis": "y"
        },
        {
         "hovertemplate": "Entity=Macao<br>Year=%{x}<br>gdp=%{y}<extra></extra>",
         "legendgroup": "Macao",
         "line": {
          "color": "#FECB52",
          "dash": "solid"
         },
         "marker": {
          "symbol": "circle"
         },
         "mode": "lines",
         "name": "Macao",
         "showlegend": true,
         "type": "scattergl",
         "x": {
          "bdata": "vge/B8AHwQfCB8MHxAfFB8YHxwfIB8kHygfLB8wHzQfOB88H0AfRB9IH0wfUB9UH1gfXB9gH2QfaB9sH3AfdB94H3wfgB+EH",
          "dtype": "i2"
         },
         "xaxis": "x",
         "y": {
          "bdata": "DWB4bDCoJD/8H7EhtDAmP5U1WtfYAic/TDFTryRXJj8bYoV0wA8nPx6JrLx4QCk/zxE7q3kBKj8m2WNtNkQpPx2+ELFuCCo/cnw/pFyLKj99vY8NBH0tPztV2+sniy4/m0KUe9ToLj97KZHvreMuPxMKSuxLvy0/XvRj/RWbLD+QU9w6Z6AqP7iN+HvOKCk/JlMDBgF4KT8ApQ/EFrUpP3fxXLZVaSs/+GHKmGu+LT/kPgqT3wwyP+ArmMiPyTI/jwOcvFtpND8JyTCycWo2P83jtDO0wjY/QqyLZ/13Nz+WLbpYvC88PyCP3Rysn0A/rhp7fBq3QT/+vtx0WTJDPyBTln03cUI/ia8UnaZGPD+iFb01H2A7P3tiU2b4/jw/",
          "dtype": "f8"
         },
         "yaxis": "y"
        },
        {
         "hovertemplate": "Entity=Madagascar<br>Year=%{x}<br>gdp=%{y}<extra></extra>",
         "legendgroup": "Madagascar",
         "line": {
          "color": "#636efa",
          "dash": "solid"
         },
         "marker": {
          "symbol": "circle"
         },
         "mode": "lines",
         "name": "Madagascar",
         "showlegend": true,
         "type": "scattergl",
         "x": {
          "bdata": "qAepB6oHqwesB60HrgevB7AHsQeyB7MHtAe1B7YHtwe4B7kHuge7B7wHvQe+B78HwAfBB8IHwwfEB8UHxgfHB8gHyQfKB8sHzAfNB84HzwfQB9EH0gfTB9QH1QfWB9cH2AfZB9oH2wfcB90H3gffB+AH4Qc=",
          "dtype": "i2"
         },
         "xaxis": "x",
         "y": {
          "bdata": "kzn7RoiDOj8tvY9A4+I5P8JxeYAfFDk/aa2rwIKdNz/QDQ0jTwQ3PwxfRLiXqjU/o3v/BTvfND9M+CD3ARc1P31YBRWzEzU/b+DWpZCYND+sBkHOCbIyP0b7JJQNoDI/chEMkN1iMT/pERHtUMcvPw//vgOqwi8/s5ioTWPTLz/RRy36eEgtP1yV99WH1iw/xdMi5+QBKz9dmpZt33wsP0tAfkS+uys/lUq6UMiPKD+XaQ/MFAUoP1CscyH1qSc/C1UV0csCJz+KLEuJH28mP6MFCMB1ISY/ePQr76lzJT+h7t22XTAlP4w2mx2xZiQ/y1nqEoMTJD83e1h3e4AiP1sTcnc4WyI/oE2bMWx0Ij9BzS0JsOYhP2aB0/WDnSE/zyMTKr9mIT/B033AeWYhP0AdUAfDoyE/sUTYIJvdIT8HPg+4nuohP/2uVk1noiI/wlX8oFfaHz+t7D73DP4gP/KfI9lAICE/BvRFrU9BIT/vmg1WA2AhP5g45GF7tiE/pMz0TYuiIj/YpR+k+DMiP/kv12G2fyE/V6SYRwI2IT+ERM4tZ0whPxcdLAC3PCE/+mPNohxRIT9nHay5jnUhP+wlRIhXwyE/tfe4AxP3IT8=",
          "dtype": "f8"
         },
         "yaxis": "y"
        },
        {
         "hovertemplate": "Entity=Malawi<br>Year=%{x}<br>gdp=%{y}<extra></extra>",
         "legendgroup": "Malawi",
         "line": {
          "color": "#EF553B",
          "dash": "solid"
         },
         "marker": {
          "symbol": "circle"
         },
         "mode": "lines",
         "name": "Malawi",
         "showlegend": true,
         "type": "scattergl",
         "x": {
          "bdata": "qAepB6oHqwesB60HrgevB7AHsQeyB7MHtAe1B7YHtwe4B7kHuge7B7wHvQe+B78HwAfBB8IHwwfEB8UHxgfHB8gHyQfKB8sHzAfNB84HzwfQB9EH0gfTB9QH1QfWB9cH2AfZB9oH2wfcB90H3gffB+AH4Qc=",
          "dtype": "i2"
         },
         "xaxis": "x",
         "y": {
          "bdata": "UOVsnBpZGT/xAf7ZoBoaP87EfOWq5Bg/910cJtxUFz/YgHwKoHQWP9g+TvMaIBg/fB0cIaTJGT+7HyC/XH0aP4Z2+F39TRg/ZHxmea4+GD9cZLEvPAEVPwTsn0F5Zhc/sm7Zsv6AFz/tAkfwuJAWPyVxFQ37sRc//K/IG0ngGD+HElxaIssYP7+PbFaeBhk/VxG3SbFsGj/0wqEh8XwaP18QlCE9rxk/i2ForpDbFz+oQvGIPFsYP4RtnfZOqhg/Av8O8sTYGD/u94QjrQoZP2fNwFomLRg/4l3Bas2JFz9gF19x8TIXP7jQN0frvxU/x/+dY1/vFT+pof/8wHUXP3H6ICfYUBU/pHnTAT0GFz+vdGngnA8UPz8Ik9C3pxY/VtuadiCDFz8fpuCkgIgXP4dJ7us12Rc/fSSMtePHFz/3hV3hpx8XP4CEB/t1jhU/mARM2Np0FT9yqHU5ugoWPzOvIHXtPxY/8YJdpq0hFj9AmRUviDcWP1JhOSFwXRc/s4SbhtuyGD9zjZdqdTobP7IhX5Gm5hs/Qp1hqopcHD/iFIW6kzAcPxEvIgka5hw/6ieZ1s6zHT8R0TwWyNodP68aHS814R0/kGXX3osrHj8=",
          "dtype": "f8"
         },
         "yaxis": "y"
        },
        {
         "hovertemplate": "Entity=Malaysia<br>Year=%{x}<br>gdp=%{y}<extra></extra>",
         "legendgroup": "Malaysia",
         "line": {
          "color": "#00cc96",
          "dash": "solid"
         },
         "marker": {
          "symbol": "circle"
         },
         "mode": "lines",
         "name": "Malaysia",
         "showlegend": true,
         "type": "scattergl",
         "x": {
          "bdata": "qAepB6oHqwesB60HrgevB7AHsQeyB7MHtAe1B7YHtwe4B7kHuge7B7wHvQe+B78HwAfBB8IHwwfEB8UHxgfHB8gHyQfKB8sHzAfNB84HzwfQB9EH0gfTB9QH1QfWB9cH2AfZB9oH2wfcB90H3gffB+AH4Qc=",
          "dtype": "i2"
         },
         "xaxis": "x",
         "y": {
          "bdata": "Pxo6KeULVD+X4fed5qJUP/vWTELAzVQ/Kkcm9Yg5VT93Wa72+fZUP7/zikYLWVU/Z7yf5GC5VT+kxOLdbZpVP0lyPF5/0lU/4CFHPnKQVT9aFVhv2LRTPxw3PrchyVQ/CdhZXod/VT87wkEYSYlWP8jvl1DD6lc/MY1R/6DbVz/jUkPU/0NZP4gULEYHMVo/j8PimV3gWj9QK3N/GzhcP/iUtdfER10/gCRjUuC1Xj8+9qD2xjNgPybjBKj6zmA/JkByvXBRYT+J7a93GoVgPwZ296iDLmA/WUx3x7tOYD8x9qYCJyBhPxLeKggoR2E/mzmIjNH4YT+I1f7ej11jP5HmqeLMrGQ/eCf+gaFfZj9ooLMg87dnP35mIDPRM2k/hin7hnzPaj9X0dZJRr9rPyGbDjWmEmk/SdHsXLTAaT91dis5JNZqP1j96UO5dmo/wrLypgVMaz/qZr5GURBsP8jDQ4/PsWw/Q3QZ+MscbT+7kgqsxXhtP0838uGnD24/hye9jbXybj9fcRg6qwRvP/+Riv3C8m8/h5PVmlBOcD+3XtviIsdwP3YZTy38HXE/O+DIiuWkcT+EJi0Uch5yPwybco/5cHI/RwxinwX2cj8=",
          "dtype": "f8"
         },
         "yaxis": "y"
        },
        {
         "hovertemplate": "Entity=Maldives<br>Year=%{x}<br>gdp=%{y}<extra></extra>",
         "legendgroup": "Maldives",
         "line": {
          "color": "#ab63fa",
          "dash": "solid"
         },
         "marker": {
          "symbol": "circle"
         },
         "mode": "lines",
         "name": "Maldives",
         "showlegend": true,
         "type": "scattergl",
         "x": {
          "bdata": "ywfMB80HzgfPB9AH0QfSB9MH1AfVB9YH1wfYB9kH2gfbB9wH3QfeB98H4AfhBw==",
          "dtype": "i2"
         },
         "xaxis": "x",
         "y": {
          "bdata": "FI2AB+BR/T6yRxdTK5X+PpXb/Pre9/8+sr7+yGrCAD/695snVzgBP4OZR3ZNHgE/qGKEUqMhAD+oYDuQie8APwFhyi/HuAI/y+qkwBsCAz8gMwWNYs//PhYQ/7hIOwM/tvT0zZfgAz8zTSpKR18FP0wHDIN0LQQ/KKjb/2zABD/DJWzdUNcFPzZnEMfo1wU/L7kqJ/jVBj+FRSI0J9UHPwoPGj9f0wc/flqyBaazCD/zeNIGjBkKPw==",
          "dtype": "f8"
         },
         "yaxis": "y"
        },
        {
         "hovertemplate": "Entity=Mali<br>Year=%{x}<br>gdp=%{y}<extra></extra>",
         "legendgroup": "Mali",
         "line": {
          "color": "#FFA15A",
          "dash": "solid"
         },
         "marker": {
          "symbol": "circle"
         },
         "mode": "lines",
         "name": "Mali",
         "showlegend": true,
         "type": "scattergl",
         "x": {
          "bdata": "rwewB7EHsgezB7QHtQe2B7cHuAe5B7oHuwe8B70Hvge/B8AHwQfCB8MHxAfFB8YHxwfIB8kHygfLB8wHzQfOB88H0AfRB9IH0wfUB9UH1gfXB9gH2QfaB9sH3AfdB94H3wfgB+EH",
          "dtype": "i2"
         },
         "xaxis": "x",
         "y": {
          "bdata": "CXG6r+d7Iz+j8k/lPuciP5s8v3Cv2SE/L3OD7utVID9eK8RtrA8gP3k9l6HREiA/AJe9Q/C6HT8nLDdf7q4cP2+SVzlQrx8/7avj7EEWIT+WKJzvdHshPwvCCWT1kiA/GZ7P9JKRIT8/beBXlDsgP2g6TwAbKSA/fT2J+dHQHT/Qtp8JLqQdP97eImZLQhw/ai3rHmdhID9n2gLZdEYgPxnu8ykhJB8/QgATjADyHz868xCyZskeP4pg6J1KpBw/7eJI9Ht7Hz+CHacv/98dP0su3sIEWh4/87PS4WiTHj/doRqEg9odP4rAwc5a6B4/6/chzYM+Hz+KgU0pP2QgP7DZEfxNxCA/dco9SG4KID+03Hcr+yciP+1SemdjUiI/g25ZTvVtIz+KZYtO/eQiP52CpYB3YyM/rylD+M90Iz8+ARPoWVIjP8B7+d9z4SM/LjROT7otJT9R4vDeu2clPyP0v6NybCU/aT2qUpq5JD+FnJD0TqkkPyJF5YZ4gSU/iFsDFu5HJj/IrnbMbwUnPwfOqxMYiSc/",
          "dtype": "f8"
         },
         "yaxis": "y"
        },
        {
         "hovertemplate": "Entity=Malta<br>Year=%{x}<br>gdp=%{y}<extra></extra>",
         "legendgroup": "Malta",
         "line": {
          "color": "#19d3f3",
          "dash": "solid"
         },
         "marker": {
          "symbol": "circle"
         },
         "mode": "lines",
         "name": "Malta",
         "showlegend": true,
         "type": "scattergl",
         "x": {
          "bdata": "sgezB7QHtQe2B7cHuAe5B7oHuwe8B70Hvge/B8AHwQfCB8MHxAfFB8YHxwfIB8kHygfLB8wHzQfOB88H0AfRB9IH0wfUB9UH1gfXB9gH2QfaB9sH3AfdB94H3wfgB+EH",
          "dtype": "i2"
         },
         "xaxis": "x",
         "y": {
          "bdata": "FxIKiDpBET+VnJGMKPIQP2DH8Fw+9RA/NNTCRxOTED8C9r0ydN4RP8TMoHZYJBU/Ybk2XOB7Fz/pPM+9eVgZP9AzoB+HGxs/5IPXUEzCHD9zM47URrsdPx/+MwgHIB4/UQ/7rmqwHj9UtEtp0ccdP9FzmffhvRw/rxjBN8xqHD/quUpt/Y8cPyBmsPkafRw/v+UJJtGAHT+U9MetfYYdP4io+FQe8h0/Hvu+h4dMHz8CwTS1axAgP6gITnkGhyA/lrhGTiDzID/9HvdzOHAhPzAgUfZNgCE/rpcE5pTDIT9PQoMpFDciP4ONOGaOdSI/pmLjLe/dIj/36NoqJp8iPyBZGcDhxCI/BwGzd1a0Ij+7ZeIWSf0hP4zd52mr+yE/90sjdLCOIT9iocXN2IQhP3Py24/AxyE/29euYx+mIT8iiEGda4UhP+PRZOnmNSE/SCDp68Q+IT+FiN6Xe5QhP+/qdnhFeyI/dP8PORfPIz+RZs5nX1skP8/5wTaWCCU/",
          "dtype": "f8"
         },
         "yaxis": "y"
        },
        {
         "hovertemplate": "Entity=Marshall Islands<br>Year=%{x}<br>gdp=%{y}<extra></extra>",
         "legendgroup": "Marshall Islands",
         "line": {
          "color": "#FF6692",
          "dash": "solid"
         },
         "marker": {
          "symbol": "circle"
         },
         "mode": "lines",
         "name": "Marshall Islands",
         "showlegend": true,
         "type": "scattergl",
         "x": {
          "bdata": "vQe+B78HwAfBB8IHwwfEB8UHxgfHB8gHyQfKB8sHzAfNB84HzwfQB9EH0gfTB9QH1QfWB9cH2AfZB9oH2wfcB90H3gffB+AH4Qc=",
          "dtype": "i2"
         },
         "xaxis": "x",
         "y": {
          "bdata": "X6wIuN7exj50ZIB6/+DHPmisHvAr7so+nD0sGme+yj4vKoGunSnIPmUdv7OFHc0+v2Hmk2SBzj4smkwU2mjPPiIKYQmpkMw+mZN2wYf8yz4dkMRfjY3LPh+nnSrj8cw+flvvIOc2zj63k4Nzig3PPu/w7IlMQdA+93jt81IzzD5cy2JoBXHJPnsLWL4gHMg+ktABi7nFxj626prjaBXHPgqhrmNB3Mc+xB/nQKr2xz5me3VjB1THPr6oKu0lXcY+gqTdOEMrxj7JUMh9lY/FPjwu84LYccU+p7L/VaS2xD441D8YDrzEPnHsNZXIKcU+FWgZmKDDxD4qJNsr9vTEPhec+iaUAcU+LVlhlndFxD40L/M+f7/DPiWfhGRup8M+lp36uA2Pwz4=",
          "dtype": "f8"
         },
         "yaxis": "y"
        },
        {
         "hovertemplate": "Entity=Mauritania<br>Year=%{x}<br>gdp=%{y}<extra></extra>",
         "legendgroup": "Mauritania",
         "line": {
          "color": "#B6E880",
          "dash": "solid"
         },
         "marker": {
          "symbol": "circle"
         },
         "mode": "lines",
         "name": "Mauritania",
         "showlegend": true,
         "type": "scattergl",
         "x": {
          "bdata": "qAepB6oHqwesB60HrgevB7AHsQeyB7MHtAe1B7YHtwe4B7kHuge7B7wHvQe+B78HwAfBB8IHwwfEB8UHxgfHB8gHyQfKB8sHzAfNB84HzwfQB9EH0gfTB9QH1QfWB9cH2AfZB9oH2wfcB90H3gffB+AH4Qc=",
          "dtype": "i2"
         },
         "xaxis": "x",
         "y": {
          "bdata": "6odyNqO3Ez8z2oscN8sVP3j0zy6DyxQ/3aLQeolfEz+91Q0GIjEXPzbDwBQ2eBk/rBQRp08YGD9J42EC2+QXP3YP5/nQoRg/4z52egN/Fz+rGpXQ868WP4eExw33JRY/w4rWlbbJFD+5dmmGU50SP05hyzLDdBQ/gz53yDk0Ez/S1MbufMkTP/VJ9tu9rRI/2YwpA3HhET/Bdre/v/0RPyL9r5Pj9RE/fFxGhv84Ej+w+YQ5e7kRP7p/TpvC8xE/ox8CjECcED++y119BH0QP+kcaHtE3RA/szeXQLR2ED9IYkaQl/4PP5G8TvACAw8/VxftfEURDT+WfmQ2dBoNP4Q5xWwZEg0/gIfrRM9ODj8HWvPq6oQMP2yIXsoDTQ4/YOUKWxsCDz+nNfAURrEMP25XDnadwww/YelwNYv7DT8zi4jsAZQMP/Wy4yhrmQw/VQjqY0gtDD+quiQzNQUNP5Gc0OWBYg0/Bd8sMJ3XDj9H0NCQWpMRP3sQujEMVxE/EZsqWnY2ET8pQ/mjl1URPxyLhXTZaRE/5DFn+vGsET/AR03cHD4SPwM6cl8Z3BI/iJ1CzbBcEz8d6V0iPzITPykpxQwmHxM/G+XlHPU2Ez8=",
          "dtype": "f8"
         },
         "yaxis": "y"
        },
        {
         "hovertemplate": "Entity=Mauritius<br>Year=%{x}<br>gdp=%{y}<extra></extra>",
         "legendgroup": "Mauritius",
         "line": {
          "color": "#FF97FF",
          "dash": "solid"
         },
         "marker": {
          "symbol": "circle"
         },
         "mode": "lines",
         "name": "Mauritius",
         "showlegend": true,
         "type": "scattergl",
         "x": {
          "bdata": "uAe5B7oHuwe8B70Hvge/B8AHwQfCB8MHxAfFB8YHxwfIB8kHygfLB8wHzQfOB88H0AfRB9IH0wfUB9UH1gfXB9gH2QfaB9sH3AfdB94H3wfgB+EH",
          "dtype": "i2"
         },
         "xaxis": "x",
         "y": {
          "bdata": "SiKDH+xUGT+r2yWnXfcZPywkDQ6k8Bk/c8xtM4HIGT9HmNQXAmUWPwjEerhuQRc/9RNCDGNvGD/dRRQTCPMXP/ftB7pX+Rc/o0r3q3u2GD85csNFUz0aPx9UDuyfXxs/C0eT/ojsGz+rTbr4TPwaP6RpJ9CwmRs/JyTInmdaHD9+/eYtY5wdP3e88znlox4/uVTMOvT4Hj+25OOa6z8fPzKvxyrQ6B8/gAj92LFCID/pH9qhydIgP5IHYr2VtCA/yk0B2WtvIT8t9+bdc4shPxpHVd/HiCE/K9dlxuGpIT//YwwlmeIhP0xxB+LfcCE/j0e8emgmIj9BMQMw1mkiP+QqtomdDiM/GvkM8WcJJD8yK+9GUg0kP7r7lZtnOyQ/pHy/UGhtJD8Mk5jGM5MkPyVF77+BwSQ/POUQ+Xr/JD/W/C0tFUklP9GYvv90cyU/",
          "dtype": "f8"
         },
         "yaxis": "y"
        },
        {
         "hovertemplate": "Entity=Mexico<br>Year=%{x}<br>gdp=%{y}<extra></extra>",
         "legendgroup": "Mexico",
         "line": {
          "color": "#FECB52",
          "dash": "solid"
         },
         "marker": {
          "symbol": "circle"
         },
         "mode": "lines",
         "name": "Mexico",
         "showlegend": true,
         "type": "scattergl",
         "x": {
          "bdata": "qAepB6oHqwesB60HrgevB7AHsQeyB7MHtAe1B7YHtwe4B7kHuge7B7wHvQe+B78HwAfBB8IHwwfEB8UHxgfHB8gHyQfKB8sHzAfNB84HzwfQB9EH0gfTB9QH1QfWB9cH2AfZB9oH2wfcB90H3gffB+AH4Qc=",
          "dtype": "i2"
         },
         "xaxis": "x",
         "y": {
          "bdata": "/UzPgsB+kD/Y+ZXNC5KQP46oso7dbZA/Uw+VmrDhkD9Uv43I/bWRPzo3OVvD75E/lvMnriL2kT8Qj7PcgDSSPzvGhffDopI/UJKrqUookj9FWLf9gayQPwrlRW6jlZA/0FPXXp74kD90gYaG2C2RPwpax83FzZE/dgNDPXmhkj/ZypRXXHeSP//JhvgyXpI/89ay6VpBkz8oX3+OJUiUP1lTchs5ZZU/GtAPaBLTlj8VfYX1+5aWP/iHRH5pIZU/xCiA27LulD8jaaxjm7KUP8k+yk4TRpM/wtE2sL/Okj+xEbUHfzCSP1ZLrKWDiJE/BsgWDQuUkT/lUizbVwWSPxo+wNCIT5I/npN5u17Dkj9dEVoO/RyTP+48Knb+U5E/qfg11X/kkT+lqeDAgW+SP9UWhHgi6ZI/SP+knN/Nkj9EpSDe+eOSP9MA7rAQdZI/a/qRW64Okj8n8oHmds2RP97veXb6tpE/NLMqqOt0kT+l/oyqYH2RP7PdVivAKpE/N6ftdDwNkT+sl4hLjm+QP0POHkyokJA/4ULGb6+lkD/8EL8b6NSQPw+6nfnNn5A/ZmTDvQCgkD8iYeUcZcmQP4TRf0IG35A/5+Wmkqq2kD8=",
          "dtype": "f8"
         },
         "yaxis": "y"
        },
        {
         "hovertemplate": "Entity=Moldova<br>Year=%{x}<br>gdp=%{y}<extra></extra>",
         "legendgroup": "Moldova",
         "line": {
          "color": "#636efa",
          "dash": "solid"
         },
         "marker": {
          "symbol": "circle"
         },
         "mode": "lines",
         "name": "Moldova",
         "showlegend": true,
         "type": "scattergl",
         "x": {
          "bdata": "ywfMB80HzgfPB9AH0QfSB9MH1AfVB9YH1wfYB9kH2gfbB9wH3QfeB98H4AfhBw==",
          "dtype": "i2"
         },
         "xaxis": "x",
         "y": {
          "bdata": "mmRi8mEMGT88XYUAy8wWP7YuYOdAWRY/ycjrXG9fFD9+a/7BFw0TP6q6cKQjnxI/OBjfy/9hEz94wNlyN3MUP1tOygCQLxU/9hQ97n7JFT/f97vnMI8WP5KZVBoBqxY/u87NT15nFj/szejfxLcXP9Rj/LRPsBY/b92Bf2BMFz9FPBt5Vh8YP5cJI8cqXhc/RknfG3vpGD8AGMMa/2IZP9VbGZH3uBg/71vY2+M6GT9+NdxIA5kZPw==",
          "dtype": "f8"
         },
         "yaxis": "y"
        },
        {
         "hovertemplate": "Entity=Monaco<br>Year=%{x}<br>gdp=%{y}<extra></extra>",
         "legendgroup": "Monaco",
         "line": {
          "color": "#EF553B",
          "dash": "solid"
         },
         "marker": {
          "symbol": "circle"
         },
         "mode": "lines",
         "name": "Monaco",
         "showlegend": true,
         "type": "scattergl",
         "x": {
          "bdata": "2gc=",
          "dtype": "i2"
         },
         "xaxis": "x",
         "y": {
          "bdata": "l6rau1RzFT8=",
          "dtype": "f8"
         },
         "yaxis": "y"
        },
        {
         "hovertemplate": "Entity=Mongolia<br>Year=%{x}<br>gdp=%{y}<extra></extra>",
         "legendgroup": "Mongolia",
         "line": {
          "color": "#00cc96",
          "dash": "solid"
         },
         "marker": {
          "symbol": "circle"
         },
         "mode": "lines",
         "name": "Mongolia",
         "showlegend": true,
         "type": "scattergl",
         "x": {
          "bdata": "vQe+B78HwAfBB8IHwwfEB8UHxgfHB8gHyQfKB8sHzAfNB84HzwfQB9EH0gfTB9QH1QfWB9cH2AfZB9oH2wfcB90H3gffB+AH4Qc=",
          "dtype": "i2"
         },
         "xaxis": "x",
         "y": {
          "bdata": "v6nS/H8RGT+XlB5o1gwbPy+XBEOt8xs/8lF66olPHD+hEVdsKtgcP4pmV7Aghh4/LwIBZyVBHj8pjjrpV2AeP8SCIzFeRh0/nSeuo3ILGz+Z4h1WK0oYP+d4amSSnBU/5tYdvGKbFD8UXsTtFW4UP1sirDOVBhU/M6tkS7LJFD/laHgvzdMUP/HzsIJZ/hQ/o3SsIZDwFD9oQqekXEYUPyPi2JlDehQ/9l//nY39FD/WNbjCAdQVPw+VOx8wHxc/l0+gNPPiFz+rk6dyoNwYPzJypgsZTRo/WdUFOccgHD8JzbXCDEMcP0LTnMt50hw/SV1+i+5iID+3MkIVh/QhP9QSdnkCiSM/WKsiOlR+JD8XTRalqoMkPwCSuI9xSCQ/nnbs1OnZJD8=",
          "dtype": "f8"
         },
         "yaxis": "y"
        },
        {
         "hovertemplate": "Entity=Montenegro<br>Year=%{x}<br>gdp=%{y}<extra></extra>",
         "legendgroup": "Montenegro",
         "line": {
          "color": "#ab63fa",
          "dash": "solid"
         },
         "marker": {
          "symbol": "circle"
         },
         "mode": "lines",
         "name": "Montenegro",
         "showlegend": true,
         "type": "scattergl",
         "x": {
          "bdata": "zQfOB88H0AfRB9IH0wfUB9UH1gfXB9gH2QfaB9sH3AfdB94H3wfgB+EH",
          "dtype": "i2"
         },
         "xaxis": "x",
         "y": {
          "bdata": "lCSZZTHfET+pzg7cUkkSP/9kHjdhCBA/fcvg/6qlDz/jbfiVamMPP6X7XlcrTg8/Pqvy5dAtDz/WF7fEEC0PPw0bXsbHSA8/8hq4XEhIED/S0i3IF7AQP6x71mpzkhE/KCr7/qPYED8fxytWAJgQP7SAqmErmxA//mxza4SEDz9690o5qc0PP9OiJ+j+eQ8/gLVod9DRDz+eJOiqrf0PPwfTe4CPMhA/",
          "dtype": "f8"
         },
         "yaxis": "y"
        },
        {
         "hovertemplate": "Entity=Morocco<br>Year=%{x}<br>gdp=%{y}<extra></extra>",
         "legendgroup": "Morocco",
         "line": {
          "color": "#FFA15A",
          "dash": "solid"
         },
         "marker": {
          "symbol": "circle"
         },
         "mode": "lines",
         "name": "Morocco",
         "showlegend": true,
         "type": "scattergl",
         "x": {
          "bdata": "rgevB7AHsQeyB7MHtAe1B7YHtwe4B7kHuge7B7wHvQe+B78HwAfBB8IHwwfEB8UHxgfHB8gHyQfKB8sHzAfNB84HzwfQB9EH0gfTB9QH1QfWB9cH2AfZB9oH2wfcB90H3gffB+AH4Qc=",
          "dtype": "i2"
         },
         "xaxis": "x",
         "y": {
          "bdata": "CgsjBj5DTz9+ayIG03dQPwbAGKMK7lA/zC+UL6JIUT8DpZsWvjVPPy6TADVul08/Prm7DxyZTj93RtZV17xNP4q+OWoyxE4/eEmJVLNfUD9tgX2ZJzlRP/m7hMnhklE/pPLsnCdJUT8ERhQFrmRRP0CbF3i7aFE/edPC3cPGUD+vIZYKmzRSP+rlpNCVBVI/xAa6ezRWUj/T1jXLCLxSP8mSN5t5zlM/gEyZTurpUj9iKWxkajZUP0Yz8TIHO1M/hgGcntv5Uj+4BBaCOQNUP/vpa6X1NVM/l08l5O/GUj8m1sJ2HChUP5Jumm9jclI/bu8Ds/MLVD93j4v9nQdTP2RjwTS/51M/ClkVG5d4Uz9Scb176v5SP4N4DD/k/1M/WWBi81wvVD99LGjAL8lUPzwQLnqW21Q/EW1z0WjAVD90VRXrUWdVPyi3Xg9oQ1U/mKSks1seVj+g5n3P83ZXP9JBJwAzW1c/ueWEvZbUVz+T5Zk2jfJXPw2Db1sOZVg/pw+gEKxaWD+dfMLdRuVYPybanggdnFg/sEvOqHTfWD8=",
          "dtype": "f8"
         },
         "yaxis": "y"
        },
        {
         "hovertemplate": "Entity=Mozambique<br>Year=%{x}<br>gdp=%{y}<extra></extra>",
         "legendgroup": "Mozambique",
         "line": {
          "color": "#19d3f3",
          "dash": "solid"
         },
         "marker": {
          "symbol": "circle"
         },
         "mode": "lines",
         "name": "Mozambique",
         "showlegend": true,
         "type": "scattergl",
         "x": {
          "bdata": "vAe9B74HvwfAB8EHwgfDB8QHxQfGB8cHyAfJB8oHywfMB80HzgfPB9AH0QfSB9MH1AfVB9YH1wfYB9kH2gfbB9wH3QfeB98H4AfhBw==",
          "dtype": "i2"
         },
         "xaxis": "x",
         "y": {
          "bdata": "AWBWVnUZFz9Lqze4pckXP+lVWVadDhY/Oj81FKEnEj+883pOzDoQP5fzAbzNmA8/LF86RBneDT+DnnlPB2kQPw3g8DkI9hA//YOePNm1ED/z6wUVxRoQP2OE21sOnhA/ZxBec9HhDj+h9NzUwokQPyK+sJPMChE/fuNtNE3bED9cxad0hq0UPznYq6AcGhY/cKAcgHIdGD/vmLo7iikZP1Q7SG3ZfRg/PsZnY2IVGz92NU74mtYcP7LM03wT2R0/6NtMPAjQHj9PHYwqLyIgP+zxTMQY/iA/DQ9/cCWEIT+sGWYoemIiP9GrJAXg5SM/z1I+jpVaJD+qRQNE7SIlPzQhDS6VGiY/yA4OWvwTJz/2YvXKcxwoP26G7YAPISk/zAjaw9B2KT/A0FFE26MpPw==",
          "dtype": "f8"
         },
         "yaxis": "y"
        },
        {
         "hovertemplate": "Entity=Myanmar<br>Year=%{x}<br>gdp=%{y}<extra></extra>",
         "legendgroup": "Myanmar",
         "line": {
          "color": "#FF6692",
          "dash": "solid"
         },
         "marker": {
          "symbol": "circle"
         },
         "mode": "lines",
         "name": "Myanmar",
         "showlegend": true,
         "type": "scattergl",
         "x": {
          "bdata": "qAepB6oHqwesB60HrgevB7AHsQeyB7MHtAe1B7YHtwe4B7kHuge7B7wHvQe+B78HwAfBB8IHwwfEB8UHxgfHB8gHyQfKB8sHzAfNB84HzwfQB9EH0gfTB9QH1QfWB9cH2AfZB9oH2wfcB90H3gffB+AH4Qc=",
          "dtype": "i2"
         },
         "xaxis": "x",
         "y": {
          "bdata": "PaPNaM0zOD9r0VaYrUM3P/fHdWZM8DY/IHSS6Z62OD9Fb/CBrc01PwNXWdFr0jY/ByzfJ9J+ND87FhxTK3YyP51MWs+IWjM/c7QMpWvVMj/QX2XTKwwxP5oN6LspBDE/Sp61pR57MD9eNlJFbKIuP8BcrKc6ni8/4D+8XlhLMD+4fTQfXGgwP8SQ/eGEuTA/UQF/NOAjMT8fhGlaVlAxP3k/7bpGDDI/q+f9ml7TMj9jVEpt7swzPxvLKIJ9LjQ/uYtOZ2I/ND/x1obeIBI0P4ak9dawNjM/Wv+5+YerMT/Udj7I++wtP69QNrv3tCw/7KuWwfcpLD/fIEUk6YUrP64sDvT2ly0/WBQnI73mLj846raTkR4wP2r/3v61rTA/fVMWpSYrMT8/4De9330xP3js8NjyDzI/RL3Xa3VkMz93WRlYoB01PwhY5ditEDc/xBU/Df9JOT9uswJWrfo7P5jd2j7FbD4/Wv5P+xKkQD+N94h3oQpCP7+/lxJJY0M/y4X5yxP+RD9SwVnKBJ5HPz0m7tpj00g/3frOvrhpST+vz/1pBZxKP3rTR32EHUw/r7rHEgGGTT/H424PkOJOP+ttl7bO7k8//aCPdCF9UD8=",
          "dtype": "f8"
         },
         "yaxis": "y"
        },
        {
         "hovertemplate": "Entity=Namibia<br>Year=%{x}<br>gdp=%{y}<extra></extra>",
         "legendgroup": "Namibia",
         "line": {
          "color": "#B6E880",
          "dash": "solid"
         },
         "marker": {
          "symbol": "circle"
         },
         "mode": "lines",
         "name": "Namibia",
         "showlegend": true,
         "type": "scattergl",
         "x": {
          "bdata": "vAe9B74HvwfAB8EHwgfDB8QHxQfGB8cHyAfJB8oHywfMB80HzgfPB9AH0QfSB9MH1AfVB9YH1wfYB9kH2gfbB9wH3QfeB98H4AfhBw==",
          "dtype": "i2"
         },
         "xaxis": "x",
         "y": {
          "bdata": "39Y/52CVJj8ORq5ONV0mPwffUdFvLyY/uUPkRSJEJT9xnGAT2UgkP5xZJoQNpCM/G8UCa6voIz+F1q5dUsAjP7F2Luc/BSM/pM/OeDTsIT9D1QQEvHMhP3ELncSEkSI/vjrK/+uDIz9GHkfk3ekiPzudxiBHrSI/dOTLHxfGIj+X5BhPK7wiP5CqMq471CI/vf0p9Wz4Ij8rbXXuA/oiPyphoUvgzCI/k2Le5TSpIj+iQN3BcyMjP8GOv41WYyM/Uvots6LXJD8USRTgS5UkPyP9KZiEISU/ypLr8DieJT+RPyba6solPwGWllpMPiY/x+4HEGOdJj8FZ3Z0QgonP2TidQ1JnSc/v9ehWcdNKD8fcD37MyIpP8TwZ5s1Eyo/QI2uYYekKT/m7ZLFSrQoPw==",
          "dtype": "f8"
         },
         "yaxis": "y"
        },
        {
         "hovertemplate": "Entity=Nauru<br>Year=%{x}<br>gdp=%{y}<extra></extra>",
         "legendgroup": "Nauru",
         "line": {
          "color": "#FF97FF",
          "dash": "solid"
         },
         "marker": {
          "symbol": "circle"
         },
         "mode": "lines",
         "name": "Nauru",
         "showlegend": true,
         "type": "scattergl",
         "x": {
          "bdata": "1wfYB9kH2gfbB9wH3QfeB98H4AfhBw==",
          "dtype": "i2"
         },
         "xaxis": "x",
         "y": {
          "bdata": "Swm96brNnz4iGWwK0/2kPq31NnRbNqc+sFcYf49FqT4tH4P8vVyrPoC+oL+4Yq0+1L72LHs3sz7uxj9xxYK5PkAMSJ7EpLk+tN9icciluz6WDhwUMvW7Pg==",
          "dtype": "f8"
         },
         "yaxis": "y"
        },
        {
         "hovertemplate": "Entity=Nepal<br>Year=%{x}<br>gdp=%{y}<extra></extra>",
         "legendgroup": "Nepal",
         "line": {
          "color": "#FECB52",
          "dash": "solid"
         },
         "marker": {
          "symbol": "circle"
         },
         "mode": "lines",
         "name": "Nepal",
         "showlegend": true,
         "type": "scattergl",
         "x": {
          "bdata": "qAepB6oHqwesB60HrgevB7AHsQeyB7MHtAe1B7YHtwe4B7kHuge7B7wHvQe+B78HwAfBB8IHwwfEB8UHxgfHB8gHyQfKB8sHzAfNB84HzwfQB9EH0gfTB9QH1QfWB9cH2AfZB9oH2wfcB90H3gffB+AH4Qc=",
          "dtype": "i2"
         },
         "xaxis": "x",
         "y": {
          "bdata": "ktuRt6SDMz+6PQYfswYzPxVafLgVXjI/pMezTvTJMT9EMYTr9u4xP3s0eVcAwTA/kMIVTDDtMD+Q9r7jrOcvP7QIXO6ADC4/sysWRr6SLT+xMBaE3ycqPzoOcVzHxSg/6sCLDyknKD8NAClBGY8mPwQYGLGcgCc/y5oYbMOYJz8MOsFZV2InP+NIyVr1LCc/UGx8bcZHJz/dq7FpFOImPwxnlPskliU/gZCE/+vvJj9FlhZXSbUnP3bEmCJzdSY/AVVdMkaNJz+2/R1UChgoPxAOk6guYCg//pDXCbK/Jz+tS4QwiG4oPzb8dF6AlCc/yvdwvgyLJz/bPBrsA6IoP7Fk5ab3JCk/NAbmfp+2KT+0pYorsgIrP7Lapr3GCSs/oH34coiKKz9E3CP+POYrP0KUl5exCCw/SI11EoBTLD81xCUWF8wsPxAWLYZkmy0/ccFnkgkDLT/Ytf48m04tP/seWe5UYC0/N8kgZaNHLT9JeoRPlAQtPzPei11Vyyw/h2SmKvYALj/ofMpqBOsvP3F0a/HUCTA/vCh7XJcUMD+iigLv8G8wP+PJRnPdrTA/tlf7l5YwMT8eVIx9pF0xPyi+dfp1BzE/8RfaofDFMT8=",
          "dtype": "f8"
         },
         "yaxis": "y"
        },
        {
         "hovertemplate": "Entity=Netherlands<br>Year=%{x}<br>gdp=%{y}<extra></extra>",
         "legendgroup": "Netherlands",
         "line": {
          "color": "#636efa",
          "dash": "solid"
         },
         "marker": {
          "symbol": "circle"
         },
         "mode": "lines",
         "name": "Netherlands",
         "showlegend": true,
         "type": "scattergl",
         "x": {
          "bdata": "qAepB6oHqwesB60HrgevB7AHsQeyB7MHtAe1B7YHtwe4B7kHuge7B7wHvQe+B78HwAfBB8IHwwfEB8UHxgfHB8gHyQfKB8sHzAfNB84HzwfQB9EH0gfTB9QH1QfWB9cH2AfZB9oH2wfcB90H3gffB+AH4Qc=",
          "dtype": "i2"
         },
         "xaxis": "x",
         "y": {
          "bdata": "vLlQhx1QlT+PvkdneHOUPw17k3TjspQ/mwLoThBjlD9/2OCazrGUP28nSVedQpU/5gDYv9GdlD/OV4NhWsiUP7Bny/aNsJQ/IT0QrtK+lD/X7xwi7OeSP8FI4cG355I/BAw+QLWBkj8C3u9QSlCSP+bxiDxhj5I/jvo0nxBekj/G/X0uSDaSP7Cez1lv9pE/LDvIKJa/kT+W1dnalGKRP3k5b+nDA5E/Oe2Yd3iOkD/0oc9RA0mQPw07CgTFOpA/E8ZhPA/8jz8G7/ugMp+PP4hdSaqRco8/eJizGrK1jj9DpZ11MViOPxx0QP/lT40/PFbvUcwjjT8dX7mqxlyNP9OC2gT2R40/OT1KRDsyjT8eyId/By6NP0tEGYo1HI0/bomGNeEnjT+ouMHbEVONP8x4H0bI5Y0/t0nPVuZkjj8imh7+NVSOPxsWsqK/Yo4/9J32jx7FjT9bHwrqgAONPwzLn61yWIw/Lm/hbXHkiz+Od5lHG6+LP6TIOuwAjIs/G5cD0hyDiz/Q8Zd+hPGKP9M8QC0RMoo/KHD6LVbRiT+IKkO7keuIP30n3F/vPIg/BX1M0zXnhz+8NEy0T+aHP4TqoAQU24c/ZrxJ1sDkhz8=",
          "dtype": "f8"
         },
         "yaxis": "y"
        },
        {
         "hovertemplate": "Entity=New Zealand<br>Year=%{x}<br>gdp=%{y}<extra></extra>",
         "legendgroup": "New Zealand",
         "line": {
          "color": "#EF553B",
          "dash": "solid"
         },
         "marker": {
          "symbol": "circle"
         },
         "mode": "lines",
         "name": "New Zealand",
         "showlegend": true,
         "type": "scattergl",
         "x": {
          "bdata": "sgezB7QHtQe2B7cHuAe5B7oHuwe8B70Hvge/B8AHwQfCB8MHxAfFB8YHxwfIB8kHygfLB8wHzQfOB88H0AfRB9IH0wfUB9UH1gfXB9gH2QfaB9sH3AfdB94H3wfgB+EH",
          "dtype": "i2"
         },
         "xaxis": "x",
         "y": {
          "bdata": "dhvZ3JsHaz/Hu9eED+RqP74Y6pIkumo/DSisqQ8Kaz+NZP6qeBRsP2I6jcaHTms/CQzM108paj9kjXLGki1oPzJpySUfVmc/CtoLKgbmZj+iRjsm4GVmP0OIqCxL/WY/LebFrBgcZz/nY4Q+CVpnP7VsdR2ZZWc/BIl+w+7pZj/4amGd/MRmPzDT5vSi32Q/ZkaE3rhWZD+H4rM3AepiP8xQMIhJKmI/d4lTuxmTYT9jP58nQHNhP6wE6PNbTmI//2zxhlGyYj8cnlLgj+piP5sgTXte6GI/IWxzsBjIYj/s/zKx04NiP97pWUMQ2WI/lGjFNq10Yj8vWxraFctiP07LgpQAU2M/mMsrQPShYz9q4/FF1GljPwCrw47WUWM/216fQgwAYz+hZ7Ta2OpiP95P50xuSmI/HpdnnHj4Yj/Q/JlNKV1iP4rmo09kSGI/qjAMdRFIYj+Hts6+qyxiP4J+tCiLTGI/iQdX/WivYj/H5urjjuFiP4NvdLvy4mI/",
          "dtype": "f8"
         },
         "yaxis": "y"
        },
        {
         "hovertemplate": "Entity=Nicaragua<br>Year=%{x}<br>gdp=%{y}<extra></extra>",
         "legendgroup": "Nicaragua",
         "line": {
          "color": "#00cc96",
          "dash": "solid"
         },
         "marker": {
          "symbol": "circle"
         },
         "mode": "lines",
         "name": "Nicaragua",
         "showlegend": true,
         "type": "scattergl",
         "x": {
          "bdata": "qAepB6oHqwesB60HrgevB7AHsQeyB7MHtAe1B7YHtwe4B7kHuge7B7wHvQe+B78HwAfBB8IHwwfEB8UHxgfHB8gHyQfKB8sHzAfNB84HzwfQB9EH0gfTB9QH1QfWB9cH2AfZB9oH2wfcB90H3gffB+AH4Qc=",
          "dtype": "i2"
         },
         "xaxis": "x",
         "y": {
          "bdata": "SzWIm36vMz88sfLSPjo0P9uCR3n3ZjU/7ANyj3pdNj8nqohWGkw3P3+dVPx3Azg/7RUdddNpNz8xET6UF/s3PwKRwIlFvDY/3Syuzm/BNj/30lmI3eIzPxevJvpAsTM/SuzzcGcIMz+4zANGEAIzP8+7kj09RDU/GklGD14DNT+8vyLTT/w0P59qH+z+4DU/xq0wi3dmMz8eZ1HLF2QrP7VUGuQhrCs/NTN/DnGYLD9mCwi8az8sP/o+A2hI2iw/SeclwHsnKz8lP4jtTRopP0j/+1xXCig/9T8emXDeJj/VtMYeICAjP7HSaf1zZCE/6AvJ/5qUID/rGvWGOUcgPw9oDry5BSA/w26P73xuHz9tkItwX4cfP2PYpJI4JyA/l9Z028WcID8x4xlkt6cgPzP9WI4z2SA/24PECalzIT8YnzEUNmQhP5A5vFwWkSE/bcnyp5RSIT/qXB+hUUIhP71SRWhkZyE/gVuDezt7IT+rAZHkFWYhP/ypUfzpiiE/OiEREdjRIT8zCabslokhP6lXCL1ujiE/M3QvulcYIj/hawcTo8wiP+Xb5v7kOCM/6OVM+PWVIz+ImP9EKxAkP22nO7CRgSQ/8utoEHngJD8=",
          "dtype": "f8"
         },
         "yaxis": "y"
        },
        {
         "hovertemplate": "Entity=Niger<br>Year=%{x}<br>gdp=%{y}<extra></extra>",
         "legendgroup": "Niger",
         "line": {
          "color": "#ab63fa",
          "dash": "solid"
         },
         "marker": {
          "symbol": "circle"
         },
         "mode": "lines",
         "name": "Niger",
         "showlegend": true,
         "type": "scattergl",
         "x": {
          "bdata": "qAepB6oHqwesB60HrgevB7AHsQeyB7MHtAe1B7YHtwe4B7kHuge7B7wHvQe+B78HwAfBB8IHwwfEB8UHxgfHB8gHyQfKB8sHzAfNB84HzwfQB9EH0gfTB9QH1QfWB9cH2AfZB9oH2wfcB90H3gffB+AH4Qc=",
          "dtype": "i2"
         },
         "xaxis": "x",
         "y": {
          "bdata": "7df5ATshLj+Ynkq9/yIuPwRN8e6Bey8/fwSRq1ZfMD/T0Ih9I70uPzJncrL+Ey8/yX600Yk4LT/khUClbwMsP9yb0CqiTio/gpzUccNsJz9lCKLUltAkPw0iHkrzFSU/vbJlnCLoIj+JPfTK+28dP+SjCnJqXx8//kKAVeUtHj8cnfQTdNccP8+BpWDZ5h0/irMGQpxSID+RLWXPBMsgP0XZyIERth8/JlJxu1RKHz/ZOzrciqsfP4IVfczmcx0/H4zvhAZsFz/uTe9hMlEYPyPYrzMVBhk/6yR5Kdf9Fz/mJK0lqn8YP2VhcNMF4BY/qIigMBaMFT+88fDDv7kVP8TcI9Hy6RM/MDBenM3kEz/kzZo7hhUUP2J6/FXg7xM/IC50LJXwEz9BnIMvBsITP/Razj/NRxU/HNtXMvl5FD+fymFdTFMTP7Wz0IVEThQ/HJO4BD54FD/s4zmCkPIUP1mvGj7tExQ/wy9PkpY1FD9EIcWxG4AUP51CJyNSShQ/VATTlC3WFT+oyAEeaRAWP2dLM+bq7BY/dkce7Tu7Fj/tB5IHps0YP+m0HJCZcRk/5kZp6Y6aGj+Qgeu82iMbP/ZycBdezxs/4T0ja2JSHD8=",
          "dtype": "f8"
         },
         "yaxis": "y"
        },
        {
         "hovertemplate": "Entity=Nigeria<br>Year=%{x}<br>gdp=%{y}<extra></extra>",
         "legendgroup": "Nigeria",
         "line": {
          "color": "#FFA15A",
          "dash": "solid"
         },
         "marker": {
          "symbol": "circle"
         },
         "mode": "lines",
         "name": "Nigeria",
         "showlegend": true,
         "type": "scattergl",
         "x": {
          "bdata": "qAepB6oHqwesB60HrgevB7AHsQeyB7MHtAe1B7YHtwe4B7kHuge7B7wHvQe+B78HwAfBB8IHwwfEB8UHxgfHB8gHyQfKB8sHzAfNB84HzwfQB9EH0gfTB9QH1QfWB9cH2AfZB9oH2wfcB90H3gffB+AH4Qc=",
          "dtype": "i2"
         },
         "xaxis": "x",
         "y": {
          "bdata": "xyFSS8igej8WPK94WIZ5P+7NtsTcK3k/bbeJCDb6eT8hVPklSI95P4qs6cCaWXk/hg5FQdvodj+4hP2ag3tyP/x8v50XE3E/DEmWe5H6cz8xMa0wvIh1P80iZsq9lHc/vAoW7dELdz8BpIplbst2PxXC+wFz03g/h5K+9ZBIdz9QWRITnRl4P2HnERIWlXg/JfFWLcRJdj93l/N28th2P/tWIIoN/nY/I9kFA/GWcz+zU/bNIE5zP/cG/nOo5XE/kaHDCwHEcD/JxzfS4IBxP2Ci582m524/dBsYr7Zsaj+0xr+YRyVrP2QMLFByvGo/uIFZz8PEbD+1wicojx9sPwrNLCrOsWs/cMnDhWXXaz8MtIa2d0VrP63JbN+TTWo/N0rg0gu1aj/bKwqt3nlqPx2IPj2vhmo/0oDq8qjKaT/fGpndtwBqP5BgFlOFomo/yuMhBAAOaz+/nNfR3QNtP/xpOnDkk3I/oBUL67GCcj+k0NLKfTRzP/TTB3/Mr3M/xhowjrCLdD9B/t2uzFt2P5UXqt0wHnc/w6a7xciBdz9pUoF32+l3P6tJTZVxj3g/sp++botjeT+1y+xCf3t5P9hKSmm5e3g/OXil/Mr2dz8=",
          "dtype": "f8"
         },
         "yaxis": "y"
        },
        {
         "hovertemplate": "Entity=North Macedonia<br>Year=%{x}<br>gdp=%{y}<extra></extra>",
         "legendgroup": "North Macedonia",
         "line": {
          "color": "#19d3f3",
          "dash": "solid"
         },
         "marker": {
          "symbol": "circle"
         },
         "mode": "lines",
         "name": "North Macedonia",
         "showlegend": true,
         "type": "scattergl",
         "x": {
          "bdata": "xgfHB8gHyQfKB8sHzAfNB84HzwfQB9EH0gfTB9QH1QfWB9cH2AfZB9oH2wfcB90H3gffB+AH4Qc=",
          "dtype": "i2"
         },
         "xaxis": "x",
         "y": {
          "bdata": "RN4ROkQLKz8vebr/zvUoPxLS9I/m3SY/cuUR7+DVJD+PKE95id4jP6PrVlA0AiM/wnPrMb+ZIj9b2mGg+jEiP7PBSq3pWCI/LtpqRYeGIj8RFCJzcooiPyN2ZIaYoSE/WzP7tI2DIT9hjx7uGmYhP4vtS5ZHcCE/d1tRHB+XIT8Ev3IcXLshPw7PXd6/HSI/049fd7rDIj/23T+xEwcjPz5weug62yI/pSixhT+1Ij/GfTu+0yoiP396FBa4OCI/AIsNkoNcIj+PpoOUeqQiP3k2+y35vCI/AG7Hez0yIj8=",
          "dtype": "f8"
         },
         "yaxis": "y"
        },
        {
         "hovertemplate": "Entity=Northern Mariana Islands<br>Year=%{x}<br>gdp=%{y}<extra></extra>",
         "legendgroup": "Northern Mariana Islands",
         "line": {
          "color": "#FF6692",
          "dash": "solid"
         },
         "marker": {
          "symbol": "circle"
         },
         "mode": "lines",
         "name": "Northern Mariana Islands",
         "showlegend": true,
         "type": "scattergl",
         "x": {
          "bdata": "0gfTB9QH1QfWB9cH2AfZB9oH2wfcB90H3gffB+AH",
          "dtype": "i2"
         },
         "xaxis": "x",
         "y": {
          "bdata": "0SSq13uN/T4sXKO9b9b8Ptb/OvhqwPo+23vHeumA9j4Cc1BJ5hb0PkHjZKum+/E+90jt3Bhp7z74xMipk1zqPqTzzLMHoOk+jspa02fu5j44s2mtpn3mPhBcjWu9gOY+G//u8I6m5j4fDOwQevvmPvWWFPFQ3ew+",
          "dtype": "f8"
         },
         "yaxis": "y"
        },
        {
         "hovertemplate": "Entity=Norway<br>Year=%{x}<br>gdp=%{y}<extra></extra>",
         "legendgroup": "Norway",
         "line": {
          "color": "#B6E880",
          "dash": "solid"
         },
         "marker": {
          "symbol": "circle"
         },
         "mode": "lines",
         "name": "Norway",
         "showlegend": true,
         "type": "scattergl",
         "x": {
          "bdata": "qAepB6oHqwesB60HrgevB7AHsQeyB7MHtAe1B7YHtwe4B7kHuge7B7wHvQe+B78HwAfBB8IHwwfEB8UHxgfHB8gHyQfKB8sHzAfNB84HzwfQB9EH0gfTB9QH1QfWB9cH2AfZB9oH2wfcB90H3gffB+AH4Qc=",
          "dtype": "i2"
         },
         "xaxis": "x",
         "y": {
          "bdata": "Xq6xcsPWgj+65clOjSeDP/8M4xjGp4I/1N72iBxngj/xPBBk+R2CP8as1VN/CYI/u/wKLz+rgT8OvBUX+fmBP0u8PUZ0MoE/O2g9hXrugD8P2HAE48N9Pwm8TUuSJn4/mrGKvAEHfj8R8VEqFnV9P8V9ZU5Z/n0/iesB7ccmfz+c7Pmh9Up/P5MErK6sW38/k4D4W4dWfz9vUKpv+md/P3c+TWzrtn8/IUqrJPOZfz9Zl0xsT4x/P20twMRhA4A/GhmpZKw8gD8nnVkUpISAP66fPEywoIA/AbGiwJE1gD/9VCMMYuN+P3FK5on43nw/yT7TI8wUfD+Qo/tfWnl8P4y8u6iz6nw/mEy6yftIfT8ReNlbLt19P5lv4ky2F34/WgBYdqSQfj9K5nqrOgh/P2Qo4MUtEH8/FYOi5W6qfj/H45DG7Ut+P7ynUgZ9V34/Ji5dv4Effj8VApmkQIt9P1k3h3O4aH0/s8rSWwkSfT+H22UwR4p8P3JvOcASNHw/sT72yJbUez9APj1n3td7P58q1ghv4Xo/iJa7mAdQej8xXmeAKl56PxKOVDyb9nk/J8snUq2+eT+3htKM+qp5PyKv3wUkV3k/LWFE6hkTeT8=",
          "dtype": "f8"
         },
         "yaxis": "y"
        },
        {
         "hovertemplate": "Entity=Oman<br>Year=%{x}<br>gdp=%{y}<extra></extra>",
         "legendgroup": "Oman",
         "line": {
          "color": "#FF97FF",
          "dash": "solid"
         },
         "marker": {
          "symbol": "circle"
         },
         "mode": "lines",
         "name": "Oman",
         "showlegend": true,
         "type": "scattergl",
         "x": {
          "bdata": "rQeuB68HsAexB7IHswe0B7UHtge3B7gHuQe6B7sHvAe9B74HvwfAB8EHwgfDB8QHxQfGB8cHyAfJB8oHywfMB80HzgfPB9AH0QfSB9MH1AfVB9YH1wfYB9kH2gfbB9wH3QfeB98H4AfhBw==",
          "dtype": "i2"
         },
         "xaxis": "x",
         "y": {
          "bdata": "MNSqnaVKID/mKiSbVS0gPzFzh1Ymvyk/nK/ETaTnNT/8QsXpCe85P4BZRqvIdzk/Mg+XktihOD9LwsTtCZQ5Pykpsq9dlTQ/fMPghWV8Nj+JzTbjZbA7P4XGUwujrj8/TiZ03X3JPj8z2DYT8oY8Pyb0laD4kzw/VKfn2bhDPT/hbTbcDMxAP0ciBcA5qkI/irsMv+JCRT9ZYllyp7lHP4ZTuuytEUo/Y843Xza6ST8Lv3JNusxHPyOPMWgXF0g/JWJGwdbnSD8uhot67rtHP2cb64+Vw0g/7h7uPPxSSj/1SsWAAn1LP1r4u4mIt0s/r/dBfLcnTD9IkEw/tA5MPyyFCtJYsEw/FqKbRfu4TD/+N1YKw8JLP2CG4u6cAkw/9uLct+21TD8EwCNmXcpLPws5OOF1SUo/vh72eON+ST+TuTp8TCtJP69SlL2rbUk/a8w2Kop8ST92+k6l1hRLP3HYFteXPk0/YRpTqf5iTT8/YBqVSSxMP1fHqnaSDE4/pzxvBQyQTj9UZYiqPYlOP6gaBDSCRU8/iJN6fnwXUD+4mRAMRClPPw==",
          "dtype": "f8"
         },
         "yaxis": "y"
        },
        {
         "hovertemplate": "Entity=Pakistan<br>Year=%{x}<br>gdp=%{y}<extra></extra>",
         "legendgroup": "Pakistan",
         "line": {
          "color": "#FECB52",
          "dash": "solid"
         },
         "marker": {
          "symbol": "circle"
         },
         "mode": "lines",
         "name": "Pakistan",
         "showlegend": true,
         "type": "scattergl",
         "x": {
          "bdata": "qAepB6oHqwesB60HrgevB7AHsQeyB7MHtAe1B7YHtwe4B7kHuge7B7wHvQe+B78HwAfBB8IHwwfEB8UHxgfHB8gHyQfKB8sHzAfNB84HzwfQB9EH0gfTB9QH1QfWB9cH2AfZB9oH2wfcB90H3gffB+AH4Qc=",
          "dtype": "i2"
         },
         "xaxis": "x",
         "y": {
          "bdata": "iut8P/jWWD8xc8THFzBZP4sJu8gB7lg/NRN9dQ/BWT9SX7jW8vhZP6AO3NZdHls/1kHeHfATWz/XfCqAzlNbP7W63B79aVs/PDicr/Y/Wz/+Rf3DxylaP6wUOV5nMlk/W5/zhIYEWD/6SidM3yFYP4H+bh8me1g/fXOQuio/WT88jz4EbDNZP0D/tJaoM1k/teZ/tPAyWj9lPSl0+xlaP+Ob7qVByFs/PzqgzOVnXT9USRyhtjNfPyHuJPnQQ2A/oErBq7RWYD9llLwmUPFgPxi52FBSS2E/UEqjejejYT+6h9hI+iFiP13xVRE4m2E/WoPus5KMYT/KIAx3xiJiP/Acr80LJ2M/JQu+qPswYz9aQd9kPlNjP7XzLQfTn2M/bmAycd/lYz/QXhtE9mFjP4er6IBWY2M/a2DNyO5yYz+zO4MkRWljP+7EXqepa2M/G8mPTsWeYz9+TzT/3v1jPwPTvoeWjWQ/mu4BlZBQZT/0QiCn6bJlP1Sj3MDc02U/wNbGJ/LMZT9Ls1d1YtBmP+vXZ5WzOWY/B2f1W3cjZj+3E8/IyFpmP68iuzrsvWY/QhFMi8IlZz+eHb9/BbRnP61nl2hubWg/N34PMnQRaT8=",
          "dtype": "f8"
         },
         "yaxis": "y"
        },
        {
         "hovertemplate": "Entity=Palau<br>Year=%{x}<br>gdp=%{y}<extra></extra>",
         "legendgroup": "Palau",
         "line": {
          "color": "#636efa",
          "dash": "solid"
         },
         "marker": {
          "symbol": "circle"
         },
         "mode": "lines",
         "name": "Palau",
         "showlegend": true,
         "type": "scattergl",
         "x": {
          "bdata": "0AfRB9IH0wfUB9UH1gfXB9gH2QfaB9sH3AfdB94H3wfgB+EH",
          "dtype": "i2"
         },
         "xaxis": "x",
         "y": {
          "bdata": "neIrqrVKzj4X69ulSWDPPvCiBdjdnc8+u0sNHLn1zT5VTO/wYVXOPkIJ0zJS/84+Dr8lSVvtzD68iNFzReTLPilpviBaosk+LAY4qAaxyD7it5Vmz3THPh0PjvxmLsg+ccX9nHWGyD4ef2u3eInHPvN3shwUgcc+Gku5OJ9PyT4tOEftmrvIPlZJajuKHsc+",
          "dtype": "f8"
         },
         "yaxis": "y"
        },
        {
         "hovertemplate": "Entity=Palestine<br>Year=%{x}<br>gdp=%{y}<extra></extra>",
         "legendgroup": "Palestine",
         "line": {
          "color": "#EF553B",
          "dash": "solid"
         },
         "marker": {
          "symbol": "circle"
         },
         "mode": "lines",
         "name": "Palestine",
         "showlegend": true,
         "type": "scattergl",
         "x": {
          "bdata": "ygfLB8wHzQfOB88H0AfRB9IH0wfUB9UH1gfXB9gH2QfaB9sH3AfdB94H3wfgB+EH",
          "dtype": "i2"
         },
         "xaxis": "x",
         "y": {
          "bdata": "xZXI57gRHT8GZDEMIiAeP4brTnnTfB0/EPrQhJlNID/Z/nujeS4iP22z4m41DSM/f6f5FV+tID+VXot42qwdP7Ons6ebahk/pJkPO6ApHD8gnzl6bMEdP2wsAZJ1wR8/IcMi1HFCHT/PoQgtN+0dP21IKe8cLR8/Zf6SAtw8IT93ZgKrs90hP1LWTYJheCM/4c76uhIwJD9QALag3BskPzbzwDWShCM/FaRstOW8Iz+BpuD96C4kPxNaX0z+NSQ/",
          "dtype": "f8"
         },
         "yaxis": "y"
        },
        {
         "hovertemplate": "Entity=Panama<br>Year=%{x}<br>gdp=%{y}<extra></extra>",
         "legendgroup": "Panama",
         "line": {
          "color": "#00cc96",
          "dash": "solid"
         },
         "marker": {
          "symbol": "circle"
         },
         "mode": "lines",
         "name": "Panama",
         "showlegend": true,
         "type": "scattergl",
         "x": {
          "bdata": "qAepB6oHqwesB60HrgevB7AHsQeyB7MHtAe1B7YHtwe4B7kHuge7B7wHvQe+B78HwAfBB8IHwwfEB8UHxgfHB8gHyQfKB8sHzAfNB84HzwfQB9EH0gfTB9QH1QfWB9cH2AfZB9oH2wfcB90H3gffB+AH4Qc=",
          "dtype": "i2"
         },
         "xaxis": "x",
         "y": {
          "bdata": "i6/LTZ2ZMT8QuhtDra0yP1jXRoERJzM/QCFghDjCMz8G6FzbTlgzPw+Lxz7h9zM/dmyluaJGND+yJmjbIRM1P3KxHqNTFzU/k7vZODeMNT+SQiAmPt8zP/IraA9x4TQ//2jHlcmlND8AQIZPsGo0P2g5G0hOfjQ/4+W/AiKiND+Sy6BvdekzP8ghmkCzXTM/bNKFyw91ND/Heb/3moc0P0Xb8d+iazY/9QMCjHQDOD8AcBWgJjI5Pw7ecuzlfjc/8v80p7USNz+k8OBQMFY3P7KCbqJiYjc/8gHnKG3/NT85BhOSljMyP0x4qgDeGTE/+np9KrejMT937H8sPvwyP68XV8xUJDQ/AEpwZIzqND90mPd6xeE0PwEG68N0jjQ/qQM62c2wND9rOG4z1z01P7vRiDN7PTY/yBaww4hdNj/OkIQGwv01P0oA44GxsjU/8jXQvK+1NT+TeEeITfw1P68kclqgojY/M87AbMleNz/QvsNZllg4Pyhj7vk7KTo/z4Ba0kA5PD/cpP4OURQ9P7Z8RNyMgT0/93gzLD7XPz+dfEMvxAxBP0iyx7kCw0E/VXgp1G8lQj/mYnMJU7tCPynR+iulNEM/ICF67C2lQz8=",
          "dtype": "f8"
         },
         "yaxis": "y"
        },
        {
         "hovertemplate": "Entity=Papua New Guinea<br>Year=%{x}<br>gdp=%{y}<extra></extra>",
         "legendgroup": "Papua New Guinea",
         "line": {
          "color": "#ab63fa",
          "dash": "solid"
         },
         "marker": {
          "symbol": "circle"
         },
         "mode": "lines",
         "name": "Papua New Guinea",
         "showlegend": true,
         "type": "scattergl",
         "x": {
          "bdata": "qAepB6oHqwesB60HrgevB7AHsQeyB7MHtAe1B7YHtwe4B7kHuge7B7wHvQe+B78HwAfBB8IHwwfEB8UHxgfHB8gHyQfKB8sHzAfNB84HzwfQB9EH0gfTB9QH1QfWB9cH2AfZB9oH2wfcB90H3gffB+AH4Qc=",
          "dtype": "i2"
         },
         "xaxis": "x",
         "y": {
          "bdata": "BcVkhjyVMD/ExKLSmtgwP0d1zeOq+TA/8FOd9LPKMD+rVa3TdhcxP0omj+dP0jE/4Gpd4HvMMT9T+hH3brwxP/pT/x/FUDE/Jhrzl7ipMT8CsEVRf+EwPy77nwRDMzE/Nlf5w0guMT+DSEivMS0xP9VfY7SvRDE/9c/a+TjwMD+v9IK0RREvP4PvZ69hIy4/4iY5l+F5Lz/253NZ4MYuP7g37XCmCS0/vvnwyJBmLD/02WPp0mIsP0hpV3rRmyw/ZESXKYVBKz/Lp16W4VErPwQ4+bBNrCs/6vPsOQ8/Kz+oOIlHqMgqPwRy3of2bCg/rEQ2luSaJj8Z57tYr1soP9lQH7HaMCs//KTVHCamLz8ym3FgBUYwP9IUoWn3cS4/yEtPVUC4Lz/8k99VzWQtP7Rj8iQRlys/lcsLKOoxKz/ZpOHROGIpP6QSYGQ83yg/DCv8dtlNKD874lo2eCEoP65DdkwLvCc/j0eVbM1PKD+/MxgtQ9gnP9NQkyBvayk/7B0OrNfjKD8/TCFOuw0rP9qXYOurkCw/XgsSrcD/Kz+175CahpUsP6xoo5nk6yw/9r1qsdI6MD8LAgsLo7UwPxkmYuPVoDA/s5lb689/MD8=",
          "dtype": "f8"
         },
         "yaxis": "y"
        },
        {
         "hovertemplate": "Entity=Paraguay<br>Year=%{x}<br>gdp=%{y}<extra></extra>",
         "legendgroup": "Paraguay",
         "line": {
          "color": "#FFA15A",
          "dash": "solid"
         },
         "marker": {
          "symbol": "circle"
         },
         "mode": "lines",
         "name": "Paraguay",
         "showlegend": true,
         "type": "scattergl",
         "x": {
          "bdata": "qAepB6oHqwesB60HrgevB7AHsQeyB7MHtAe1B7YHtwe4B7kHuge7B7wHvQe+B78HwAfBB8IHwwfEB8UHxgfHB8gHyQfKB8sHzAfNB84HzwfQB9EH0gfTB9QH1QfWB9cH2AfZB9oH2wfcB90H3gffB+AH4Qc=",
          "dtype": "i2"
         },
         "xaxis": "x",
         "y": {
          "bdata": "YynqHaJWLD8ikr6arPssP1C/7tGCXCw/ganDuw46LD/4TGVn35MrP6fb/8Sbrys/SfSO/tumKj+zYnvjsNorPxA0AYnHPCs/HMepMgfeKj8I7PlXyHMoP8NqW0vLvCg/f0QdWMfwKD/N8aoAjB0pPyvT/RNwqyo/n711Y2szLD9naS3dssgsP9Sjw8Xw3y4/Gs2Xz66jMD+t45E6SN8xP7JRbwwFSDM/b2Hiw/qkND/rBWKeHUY0P/UMTvVNMTM/ZdXMY/bdMj/2qsWgoQEzPzE0yg5VTTM/on0yluzkMz90yVXGtyA0P5RGa6hL6TM/gcleZGzIMz9UsYUeoyM0Pyuvln7fFDQ/HIOr/zPAND9qQ4g0vzY1P1jSDE2M7DU/dBvOnSqJNT/OjdXwBKY1Pyl7vzlgITU/iiWzB0MrND8UjD1UTNwyP1dVjRQ2WTI/SewDTkf0MT97zZbQ0zMyP8sTvADxIjI/sarT4IPXMT9oEHD30u0xP4WdvTj7IjI/caiWL5zxMj/CkJrnlIMyP+K7mDtFEzQ/2nGchppOND/trh4Gp5AzP9z/GWrsvTU/hYEfusUjNj9hzZc30Ek2P63EXTgspDY/Oi1f69kmNj8=",
          "dtype": "f8"
         },
         "yaxis": "y"
        },
        {
         "hovertemplate": "Entity=Peru<br>Year=%{x}<br>gdp=%{y}<extra></extra>",
         "legendgroup": "Peru",
         "line": {
          "color": "#19d3f3",
          "dash": "solid"
         },
         "marker": {
          "symbol": "circle"
         },
         "mode": "lines",
         "name": "Peru",
         "showlegend": true,
         "type": "scattergl",
         "x": {
          "bdata": "qAepB6oHqwesB60HrgevB7AHsQeyB7MHtAe1B7YHtwe4B7kHuge7B7wHvQe+B78HwAfBB8IHwwfEB8UHxgfHB8gHyQfKB8sHzAfNB84HzwfQB9EH0gfTB9QH1QfWB9cH2AfZB9oH2wfcB90H3gffB+AH4Qc=",
          "dtype": "i2"
         },
         "xaxis": "x",
         "y": {
          "bdata": "1cf2wDGDaD/9EzRIxyxpP6p9s4a0PWo/U1G4Em8Faj/v+tVBFf5pP4Nv9bva9Wk/sXmkwnyFaj9wL4zZZ19qP1EVQJWUtWg/eJGLOucYaD++NVPqC3plP9Azt0U7iGU/8PLoQxwRZT9klhCiAANlP5OQFbXchGY/ZjAG4kU+Zz8MI0Z/9mFmPwhc0t3Lm2U/zT+gk6s9ZD9lbFkL7DpkP0icY166smQ/g6nLHUptZT9QmgxNBEtlP2Wa+KhIoGI/MDnZoH5zYj8kblCkSyZiPwbzpQ8hN2M/Pa2sqhIzZD91lk+cOnlhP+YplHhHWVw/Z9K/H+ezWT+84WXb7ddZP64/atvfM1k/CCvtKmoeWj/J8atNVnlcP30NsoPdll0/dVzIsnxqXT9yZN0tJjReP2VukhRtWF0/n2V2rZ7SXD81OxIVtVVcP7mPBgcY+Fs/cNOneOjdXD9I8ILu5ThdPxKCzlpQXl0/OsKx19EQXj/Mr7FmRf9ePxehy3d8I2A/Joht96JLYT/yGRFaP8thPzDvN+d4e2I/zr6/RyMNYz882pqJALpjP5FXTOwjWWQ/cWFWH51BZD9P4jsLFHNkPy802G9+wmQ/ObwoASmqZD8=",
          "dtype": "f8"
         },
         "yaxis": "y"
        },
        {
         "hovertemplate": "Entity=Philippines<br>Year=%{x}<br>gdp=%{y}<extra></extra>",
         "legendgroup": "Philippines",
         "line": {
          "color": "#FF6692",
          "dash": "solid"
         },
         "marker": {
          "symbol": "circle"
         },
         "mode": "lines",
         "name": "Philippines",
         "showlegend": true,
         "type": "scattergl",
         "x": {
          "bdata": "qAepB6oHqwesB60HrgevB7AHsQeyB7MHtAe1B7YHtwe4B7kHuge7B7wHvQe+B78HwAfBB8IHwwfEB8UHxgfHB8gHyQfKB8sHzAfNB84HzwfQB9EH0gfTB9QH1QfWB9cH2AfZB9oH2wfcB90H3gffB+AH4Qc=",
          "dtype": "i2"
         },
         "xaxis": "x",
         "y": {
          "bdata": "Rpyk+r5CaT/X+b3HcIZpP4aCYNhvVWk/H/U334jHaT95ppp5ZQBpP+cjta/w4mg/AYdKM1qHaD+gh3prnLxoP68jQh0oSWg/+vBMuAzyZz8m7XVJfWxlP6rLik2zpmU/U9nKhR+WZT8okeIVxhBmP1u31HhlY2Y/VDqK02pjZz+6y3FXAihoPwtYluqoimg/aX1lumHVaD+lfBKgjzBpP1tfHa9DlGk/ZlCe9RryaT872On0xMZqP5/5JbtGomo/xRevTpOZZz/4j9gTXhVlPy5RPjaAGGU/FInucPUUZT9FqlA0e39lP8DPyDYgH2U/E3fr+zTEZD+n3MhOBU9kP2+cFTjd+mM/D4kyOEoXZD8AcD5inltkP03GLvP5nWQ/jbbVB5MaZT8nkpMg+GdlP9/ViAZZwmQ/JOZQFE+1ZD/Igxy+sLJkP3SSHY+f5GQ/mtVhdKsxZT/oaJ178J5lPxMgMRnPFmY/QpvqWvdKZj8KlGVZsH5mPx8lNDhrA2c/H/hNSvSJZz+UNv7b2TpoP+wKAD0sAWk/dBzAOrYgaT8U088S2yZqP5aNaL/dSGs/3OUXp1MpbD8SwLnWiDRtP8uwVg96e24/c/LszLKSbz8=",
          "dtype": "f8"
         },
         "yaxis": "y"
        },
        {
         "hovertemplate": "Entity=Poland<br>Year=%{x}<br>gdp=%{y}<extra></extra>",
         "legendgroup": "Poland",
         "line": {
          "color": "#B6E880",
          "dash": "solid"
         },
         "marker": {
          "symbol": "circle"
         },
         "mode": "lines",
         "name": "Poland",
         "showlegend": true,
         "type": "scattergl",
         "x": {
          "bdata": "xgfHB8gHyQfKB8sHzAfNB84HzwfQB9EH0gfTB9QH1QfWB9cH2AfZB9oH2wfcB90H3gffB+AH4Qc=",
          "dtype": "i2"
         },
         "xaxis": "x",
         "y": {
          "bdata": "zvuxlznmeD+MnyNTGsZ2P5SiKvgy5HY/CTqB+F1idz+MiCzYfuZ3P1Qc33j1ung/nF+ms1BdeT+a6UvpHgp6P1WGNlEzkno/FqLjPDjoej8hyAZyme56P3oQuHs9wHo/My/vJ1y3ej+jyVZ0heN6PxiS7B2lEXs/IL6MfNv7ej8F5hXpf3h7P6cwWEDONnw/zSmlIJ/ifD/HMjCRgzl+PxOmJZxGBn4/gx3RekyRfj9jwe0+s0x+PzyEhSb3730/tpqxC/QQfj8qQYVnBId+P6/YUp6cqn4/A6ILJtsgfz8=",
          "dtype": "f8"
         },
         "yaxis": "y"
        },
        {
         "hovertemplate": "Entity=Portugal<br>Year=%{x}<br>gdp=%{y}<extra></extra>",
         "legendgroup": "Portugal",
         "line": {
          "color": "#FF97FF",
          "dash": "solid"
         },
         "marker": {
          "symbol": "circle"
         },
         "mode": "lines",
         "name": "Portugal",
         "showlegend": true,
         "type": "scattergl",
         "x": {
          "bdata": "qAepB6oHqwesB60HrgevB7AHsQeyB7MHtAe1B7YHtwe4B7kHuge7B7wHvQe+B78HwAfBB8IHwwfEB8UHxgfHB8gHyQfKB8sHzAfNB84HzwfQB9EH0gfTB9QH1QfWB9cH2AfZB9oH2wfcB90H3gffB+AH4Qc=",
          "dtype": "i2"
         },
         "xaxis": "x",
         "y": {
          "bdata": "9eZNge0ccj9K76Mc2ElyP8ApP7VleHI/chAhDj+Wcj/tMaH8aoZyPwpe7n1k03I/XWrXpEZ+cj9F9zlXFAtzP4S2CbNvZXM/Dm+n6D+pcj+t3hROnB5yP1bq/OFVhXI/QyksgVHqcj/C5xHYZ71zPyKZZ7C8j3M/01ZMADWEcj8WBIFUEcpyPwRtW1nTFnM/Dg6qkSricj+EocMFdydzP5ANeOLHWHM/LSu/axJIcz/5NHTBKJ1zP2bKMZEJHnM/HeUfL0LvcT8+//2rPsVxP5qjV57C53E/2oaxPqU/cj8PlFCuuLxyPyMppbEuc3I/85L80u9Mcj+9d+A7nslyP8xPs9E4n3I/sOfjEnP2cT9qK0vtwZpxP5vN/c3gwnE/1uHRUOvGcT/QcDtDzOZxPz0pJFxETHI/PBtp91Jlcj+4X+cl4UZyP23kVHxVR3I/KdGVfPkGcj/BYEftGFtxP+npT0xz63A/LYZRiRBscD+t92dl3fpvP1jPY4CJc28/+i4BCczybj+nsuPSq45uP9hBh+C+2m0/nfM63eJpbD+ech+NLZpqP7vsnelioWk/K5YEMiUlaT/5shTDlghpP4qBZ1fd12g/a5IJhyfEaD8=",
          "dtype": "f8"
         },
         "yaxis": "y"
        },
        {
         "hovertemplate": "Entity=Puerto Rico<br>Year=%{x}<br>gdp=%{y}<extra></extra>",
         "legendgroup": "Puerto Rico",
         "line": {
          "color": "#FECB52",
          "dash": "solid"
         },
         "marker": {
          "symbol": "circle"
         },
         "mode": "lines",
         "name": "Puerto Rico",
         "showlegend": true,
         "type": "scattergl",
         "x": {
          "bdata": "qAepB6oHqwesB60HrgevB7AHsQeyB7MHtAe1B7YHtwe4B7kHuge7B7wHvQe+B78HwAfBB8IHwwfEB8UHxgfHB8gHyQfKB8sHzAfNB84HzwfQB9EH0gfTB9QH1QfWB9cH2AfZB9oH2wfcB90H3gffB+AH",
          "dtype": "i2"
         },
         "xaxis": "x",
         "y": {
          "bdata": "/r0ulS32WD8yle1tM5BZPzXyXFw1O1o/CdrAgt4WWz/OqcOukjBbP8q0ibzNE1w/5tB6NfZ8XD/4Ve+WmflcPzGBMzWsglw/wTUPw+RgXT/8JjYXUnVbP4iW51oN/1s/Ctpg66FeXD++c84hRFBcPxQLgwnIjFw/HMPv024RXD/03k9mgk5cPy5J+RJq2lw/uHo4kVSvXT/nUKdewMFePyt6suuj9l4/9K4+LFm3Xj+LUIHJvx1ePz43tfJLt1w/OJs7VVYVXT/rh3crBOZcP+M2coUDWl0/GID6Lf+9XT+1c5TxbBVeP5mgRLRVCV0/wrKoSHXrWj8VOLoO9hZbPztUZcAXxls/a8hQYp6eXD/AooJfnPFcP+zv/iaoRl0/MF0rvJP3XD9cVEaq+ktdP1e5T7sYKF4/zHZhTZHBXj+nxS97z2deP6IZ9KhHtl8/NJYDplpSXz/74bE6r3ReP6X8Eoiotl8/deLWf4rwXT+aCd/bIE1cP+N8VUFQ11o/MHRy4ovfWT8QWdMV+tBZP48icYt3plg/7VZEM7zPVz+SeiYVbDxXP01yLX7WklY/+9Ihx1WwVT/pNSu5YfhUP/cE8QAJ8lM/",
          "dtype": "f8"
         },
         "yaxis": "y"
        },
        {
         "hovertemplate": "Entity=Qatar<br>Year=%{x}<br>gdp=%{y}<extra></extra>",
         "legendgroup": "Qatar",
         "line": {
          "color": "#636efa",
          "dash": "solid"
         },
         "marker": {
          "symbol": "circle"
         },
         "mode": "lines",
         "name": "Qatar",
         "showlegend": true,
         "type": "scattergl",
         "x": {
          "bdata": "0AfRB9IH0wfUB9UH1gfXB9gH2QfaB9sH3AfdB94H3wfgB+EH",
          "dtype": "i2"
         },
         "xaxis": "x",
         "y": {
          "bdata": "gQTPYKDORz9KipLwGURIP2h1Yk6WdEk/HXCBWKOoST+L9xE0cEpNPwpqs9ayU04/nZveCOxXUj/qhgbQccRUP6rcCNpA/1c//ZLvdE1XWz9MvgJ3t1lfP2krDbuVOmE/M7BmwGqYYT950uQ+DudhP95JAKXJGWI/S9gLgJBTYj8E2cb8jUtiP1EOSA/DC2I/",
          "dtype": "f8"
         },
         "yaxis": "y"
        },
        {
         "hovertemplate": "Entity=Romania<br>Year=%{x}<br>gdp=%{y}<extra></extra>",
         "legendgroup": "Romania",
         "line": {
          "color": "#EF553B",
          "dash": "solid"
         },
         "marker": {
          "symbol": "circle"
         },
         "mode": "lines",
         "name": "Romania",
         "showlegend": true,
         "type": "scattergl",
         "x": {
          "bdata": "xgfHB8gHyQfKB8sHzAfNB84HzwfQB9EH0gfTB9QH1QfWB9cH2AfZB9oH2wfcB90H3gffB+AH4Qc=",
          "dtype": "i2"
         },
         "xaxis": "x",
         "y": {
          "bdata": "+w/UBedNaz8JMVU8YmNnP3phRhT062Q/mVQPM7zqZD+HAH0DMBplP31dqmGE32U/puBK4LL4ZT88FEuyyipkP/ksOm2wQmM/qkx4uGCQYj/ZgmZNTzJiPyxMaYmB2WI/zFLf8KpnYz9hzFNzdOZjP41H4ODOpWQ/1Htvl7i3ZD/MrDaP0HZlP5ckzLN9AmY/7V9ry2tmZz+gmJ0z9WdmP1TvIfP64GQ/Uchw+dqmZD8iHuTMcGVkP7ZBaG3jk2Q/zWh01vefZD+JIwnfoPdkP/hUH6yhdmU/8mafyT5JZj8=",
          "dtype": "f8"
         },
         "yaxis": "y"
        },
        {
         "hovertemplate": "Entity=Russia<br>Year=%{x}<br>gdp=%{y}<extra></extra>",
         "legendgroup": "Russia",
         "line": {
          "color": "#00cc96",
          "dash": "solid"
         },
         "marker": {
          "symbol": "circle"
         },
         "mode": "lines",
         "name": "Russia",
         "showlegend": true,
         "type": "scattergl",
         "x": {
          "bdata": "xQfGB8cHyAfJB8oHywfMB80HzgfPB9AH0QfSB9MH1AfVB9YH1wfYB9kH2gfbB9wH3QfeB98H4AfhBw==",
          "dtype": "i2"
         },
         "xaxis": "x",
         "y": {
          "bdata": "DQDe09D5pD+Ef00QMmqjP0Hr36ArIqI/3TFr+IJknj8dlaR5dVWbP/76qambMpc/z/z9a1mDlT/HkdAfRg6UP4EVKZFonJM/4LTLjmEdkj8c3+yf6KaSP/GSqDICpJM/MyyRWc8/lD/bf1F1LcKUPwl+wjtNpZU/6+CAULA2lj/MwVWzssKWP6E0RDAampc/ju+S7paUmD/6A3Qr92eZP1wN5XM71Zc/mR3Qb0rhlz88ICOmuV+YP/J1i9GwpZg/Xsq1wnJymD9R44MuifKXP83XHjKYwJY/PTrbxmYrlj/wULUKUduVPw==",
          "dtype": "f8"
         },
         "yaxis": "y"
        },
        {
         "hovertemplate": "Entity=Rwanda<br>Year=%{x}<br>gdp=%{y}<extra></extra>",
         "legendgroup": "Rwanda",
         "line": {
          "color": "#ab63fa",
          "dash": "solid"
         },
         "marker": {
          "symbol": "circle"
         },
         "mode": "lines",
         "name": "Rwanda",
         "showlegend": true,
         "type": "scattergl",
         "x": {
          "bdata": "qAepB6oHqwesB60HrgevB7AHsQeyB7MHtAe1B7YHtwe4B7kHuge7B7wHvQe+B78HwAfBB8IHwwfEB8UHxgfHB8gHyQfKB8sHzAfNB84HzwfQB9EH0gfTB9QH1QfWB9cH2AfZB9oH2wfcB90H3gffB+AH4Qc=",
          "dtype": "i2"
         },
         "xaxis": "x",
         "y": {
          "bdata": "Ut1Ises/HD+sA9+3qt0ZP5ZWOOOIRxs/FfUBIeJhFz/kBkRRTzATPy4PYRyzahM/EMRL4WucEz+NaHBGhhMUP0Rfzh5FGRQ/dNUZRQsFFT+u0gfOJDYTP6qSdjFNoxI/qy/1di2rET+zxcvY1iYRP1QnNaWkChE/2WlWBgSCED87rpDN67kSP+5kazL/XxI/AIdY6wNMEz9KUZJyY7oUP+W4y/JNzxU/a5RRzoqNFj/Nl16CZ94WP1FWTI/sqRc/nXx3vmaqFT/b/1P67MwVP3tis+ElPxY/0RNE9NlOFT8+kVEyFUUVP2mSTEVWqxM/1WYQk3hREj/pyMZpy5ARP3qtGxoOPBI/Ws7Hw/t/ED8r5HkBtt//PujogPN32QQ/nykA5p67Bj8voEgNPPUIP7mQ/xEngAo/1mEQMPLACj8lvyWFLMELP+MOg1HRiQ0/0SYhzp9cED98QgkUTkAQP5fbVIpIuBA/CYct02udET+IR0M+jHISPwjo1w93DRM/T+qSPozMFD9iueFaM30WP8V19UnYJBc/SQQX41A8GD+M9RMq5q8ZP51B3t6hMho/j1m5B59qGz+obLfVAS8dPwnjVKxzNB4/UfMjkUsdHz8=",
          "dtype": "f8"
         },
         "yaxis": "y"
        },
        {
         "hovertemplate": "Entity=Saint Kitts and Nevis<br>Year=%{x}<br>gdp=%{y}<extra></extra>",
         "legendgroup": "Saint Kitts and Nevis",
         "line": {
          "color": "#FFA15A",
          "dash": "solid"
         },
         "marker": {
          "symbol": "circle"
         },
         "mode": "lines",
         "name": "Saint Kitts and Nevis",
         "showlegend": true,
         "type": "scattergl",
         "x": {
          "bdata": "uQe6B7sHvAe9B74HvwfAB8EHwgfDB8QHxQfGB8cHyAfJB8oHywfMB80HzgfPB9AH0QfSB9MH1AfVB9YH1wfYB9kH2gfbB9wH3QfeB98H4AfhBw==",
          "dtype": "i2"
         },
         "xaxis": "x",
         "y": {
          "bdata": "x6DBkQZV4D7zswnw5mbgPlCSx2wX7eA+RaCR8Ryz4T5pn73k/Y3hPmYAtyIckeE+vxY0wY9d4T4rNJF96gjiPtRFmIAN4eI+GLfgA/wy5D59qYKzipTkPjIisVFBh+U+reqQPz4K5T4VALOv9A7lPiV7seLdROQ+KBARMFC55D4FfAu7NtblPjFRZ++zUuY+OP6lQtrW5j6IlKNzKGPnPuJbHw62G+g+Zbbotbpb5z5cIQmQzF7nPvLC2puww+g+kx1kcEKf6T7EHXLpdLnpPo4oH+6bGOg+Hn3d06Hn5z723K7OfAvpPmEg8p+vcug+GgmqNPhq5z7ohudfz3HoPp/naBwOIOg+bf5lVmOc5j6HQhAoJXLmPnp/BY75w+U+jFNNa4KH5j5wqoogoTbnPtrX9IFwmec+NHn5jEyO5z52qpNoxETnPg==",
          "dtype": "f8"
         },
         "yaxis": "y"
        },
        {
         "hovertemplate": "Entity=Saint Lucia<br>Year=%{x}<br>gdp=%{y}<extra></extra>",
         "legendgroup": "Saint Lucia",
         "line": {
          "color": "#19d3f3",
          "dash": "solid"
         },
         "marker": {
          "symbol": "circle"
         },
         "mode": "lines",
         "name": "Saint Lucia",
         "showlegend": true,
         "type": "scattergl",
         "x": {
          "bdata": "uQe6B7sHvAe9B74HvwfAB8EHwgfDB8QHxQfGB8cHyAfJB8oHywfMB80HzgfPB9AH0QfSB9MH1AfVB9YH1wfYB9kH2gfbB9wH3QfeB98H4AfhBw==",
          "dtype": "i2"
         },
         "xaxis": "x",
         "y": {
          "bdata": "HkqYbOcp8T5kyZMUdjbyPi0exYnnJ/I+Oyxv2iks8T4LJb7CMuTxPhehajE2MvI+zPTYhsak8j67J4kfRhnzPgHkdX/+7PM+51GhOhAD9j4xKXiHdPb1PvxJlWJJ1Pc+A+LaL9gO+D4opRVDujv5PgCGpnbL9vg+zXR7Dqth+j7fHmMgACP6PquArBxF0fk+pbSmsldm+T6wurkgYEn5Pmq7/Tg1Qfg+gE0k+gYm+T78hQaxqP/4PgYqmUq58Pc+/L6vehq19j4wbzU9vEz2PqohUxLxm/Y+XqC2QNo39z6VbBboZEj2PiRxROmnsfY+cYjlPaL99T4vC5LkNNH2Pt2AljWQfvc+eDMm9S8p9j6P9+lciJ71Ps8QWqD/IPU+IQCt6uRJ9T6rO61f8qf0PtIM4HjOl/Q+KFkXXHxx9D6/gK+UzGH0Pg==",
          "dtype": "f8"
         },
         "yaxis": "y"
        },
        {
         "hovertemplate": "Entity=Saint Vincent and the Grenadines<br>Year=%{x}<br>gdp=%{y}<extra></extra>",
         "legendgroup": "Saint Vincent and the Grenadines",
         "line": {
          "color": "#FF6692",
          "dash": "solid"
         },
         "marker": {
          "symbol": "circle"
         },
         "mode": "lines",
         "name": "Saint Vincent and the Grenadines",
         "showlegend": true,
         "type": "scattergl",
         "x": {
          "bdata": "qAepB6oHqwesB60HrgevB7AHsQeyB7MHtAe1B7YHtwe4B7kHuge7B7wHvQe+B78HwAfBB8IHwwfEB8UHxgfHB8gHyQfKB8sHzAfNB84HzwfQB9EH0gfTB9QH1QfWB9cH2AfZB9oH2wfcB90H3gffB+AH4Qc=",
          "dtype": "i2"
         },
         "xaxis": "x",
         "y": {
          "bdata": "7tUH6gx78D6qt2sVP3vwPmk5rx98MPA+SYXPyurY7D6jan50gAnsPrbziMciv+o+1UqyRKo+6T6MJ78Ir97lPgU6h4eKyuU+BbJz+QMe5T5NW/kLHirkPpJC/nkm5+M+cw1DYfKt5z7G78C8cMHjPgrWLioJpuE++3e129wi4D54GIzmEOjgPr0vu3azauI+0my+p6lz4z5URHCjLE/jPjeQX9FvGuM+YHakraGZ4z4oUgfpHWXkPoWzkz5FWOQ+iyA19LW75D5josDgjjflPqjMYDd7reU+VK6uNebb5D710Tx4w7rmPluzM3h/UuU+yFjuGK8w5T6VlG2hkRTlPvrzdCLJ/OU++bc6z2OS5j65wWLQEKPlPgcN//Ucj+Y+D2jyydcY5j4m8tffQg7mPv/F4GCZZOY+Urle5fNB5j4ANIZt16flPjAnds2om+U+brk+zEt85j7m1Q6CWojnPrlQutM5eOc+nc0J+SIr5z75P6JV9OvnPpgtd+VZl+Y+q6c8qjeq5z7ntinX2ZPnPvhA8uER2eU+I+XyXHMX5T5fHHmQJdzkPiQyQHA4s+Q+bV/vYZFT5D6GFx/3gDzkPv+X+hRzA+Q+8KjkGK294z4=",
          "dtype": "f8"
         },
         "yaxis": "y"
        },
        {
         "hovertemplate": "Entity=Samoa<br>Year=%{x}<br>gdp=%{y}<extra></extra>",
         "legendgroup": "Samoa",
         "line": {
          "color": "#B6E880",
          "dash": "solid"
         },
         "marker": {
          "symbol": "circle"
         },
         "mode": "lines",
         "name": "Samoa",
         "showlegend": true,
         "type": "scattergl",
         "x": {
          "bdata": "vge/B8AHwQfCB8MHxAfFB8YHxwfIB8kHygfLB8wHzQfOB88H0AfRB9IH0wfUB9UH1gfXB9gH2QfaB9sH3AfdB94H3wfgB+EH",
          "dtype": "i2"
         },
         "xaxis": "x",
         "y": {
          "bdata": "MlMJrXXE6z4DDT6YbDrrPky83xtJXuo+wn28K91o6j40icmHW/XqPuEg/4qy8+k+a/UBP8Ju6D7/gLb4tXDnPjS7qY6/YOU+rLSi9W2L5D5/0ftvkhrkPvKFM5S0m+Q+fTZhXup+4z4EvvhJyh7kPnDEtB/K2uQ+IC6hBXA95D68xmlG6izkPnMnSWZv8+M+JL8rbINr5D4V4sT1QWzlPl4nV3y64OU+G3XLm8M45j7s58QHEUPmPgg1qYqIVeY+8uVcZd3V5T7T1iTW7kbmPqBoFqgZGeY+/Q9DZj5o5T5ebz9em5/kPmyPmu0QJuU+Ws2GGuu25D5FPi2NqMvjPicIvFeheuM+1fkEf2Bb4z6dBXFpHEHkPtnHiiD9J+Q+",
          "dtype": "f8"
         },
         "yaxis": "y"
        },
        {
         "hovertemplate": "Entity=San Marino<br>Year=%{x}<br>gdp=%{y}<extra></extra>",
         "legendgroup": "San Marino",
         "line": {
          "color": "#FF97FF",
          "dash": "solid"
         },
         "marker": {
          "symbol": "circle"
         },
         "mode": "lines",
         "name": "San Marino",
         "showlegend": true,
         "type": "scattergl",
         "x": {
          "bdata": "zQfOB88H0AfRB9IH0wfUB9UH1gfXB9gH2QfaB9sH3AfdB94H3wfgB+EH",
          "dtype": "i2"
         },
         "xaxis": "x",
         "y": {
          "bdata": "2H96Ul/cAj84pgeLb8cDP0ndhzzN3AQ/op1FfalpBD+4v1DeJSMFP0zhVF4YwgQ/rU2f+9D0BD9N4e6ElvwEPwExQk0dsgQ/4EyPqqebBD8kE1P8Py8FP2H/terOJQU/gzf0h+XCAj8zQ9qSmyYBP6r1hrZMHf4+hSv58RQp+z5nPLmqKar5PpmICDRWvPg+UC3RHn1N+D4kp1h8f/b3PuRp+Ax/jfc+",
          "dtype": "f8"
         },
         "yaxis": "y"
        },
        {
         "hovertemplate": "Entity=Sao Tome and Principe<br>Year=%{x}<br>gdp=%{y}<extra></extra>",
         "legendgroup": "Sao Tome and Principe",
         "line": {
          "color": "#FECB52",
          "dash": "solid"
         },
         "marker": {
          "symbol": "circle"
         },
         "mode": "lines",
         "name": "Sao Tome and Principe",
         "showlegend": true,
         "type": "scattergl",
         "x": {
          "bdata": "0QfSB9MH1AfVB9YH1wfYB9kH2gfbB9wH3QfeB98H4AfhBw==",
          "dtype": "i2"
         },
         "xaxis": "x",
         "y": {
          "bdata": "GDuqDIRFxD5A6Ca80E/EPjsZCBKMCcU+UMZ4LGvqxD7vs5yGQZPFPp+Aj+dlksY+UTH/Txxdxj5e02Een8LHPp5Wm8NJxMg+nvP74KBUyT67JEJaAKPJPnab7wKwy8k+scHSzAFZyj4pp45mTEzLPmBlkp7Ptcs+YyqeKzYxzD7xhgGPlm7MPg==",
          "dtype": "f8"
         },
         "yaxis": "y"
        },
        {
         "hovertemplate": "Entity=Saudi Arabia<br>Year=%{x}<br>gdp=%{y}<extra></extra>",
         "legendgroup": "Saudi Arabia",
         "line": {
          "color": "#636efa",
          "dash": "solid"
         },
         "marker": {
          "symbol": "circle"
         },
         "mode": "lines",
         "name": "Saudi Arabia",
         "showlegend": true,
         "type": "scattergl",
         "x": {
          "bdata": "sAexB7IHswe0B7UHtge3B7gHuQe6B7sHvAe9B74HvwfAB8EHwgfDB8QHxQfGB8cHyAfJB8oHywfMB80HzgfPB9AH0QfSB9MH1AfVB9YH1wfYB9kH2gfbB9wH3QfeB98H4AfhBw==",
          "dtype": "i2"
         },
         "xaxis": "x",
         "y": {
          "bdata": "GHmSfNd/dj+rDLE2HHp2P6nNcpISv34/GGdFSFbCgT8jjF0WTaSEP2cC0QfbDYg/1Uzvq1Vkiz9qeyaq0a+IP7SyLcMYnIs/O5mqH0JyjD+h57ZHxPCJPxlGJtBu4Is/kmR7wXlxjD/TXFHqHHCMP+QWK5Oyc4Y/vrZ7CBxngj8oK1F3XMaAP6jH0B/5Kn0/d8D8jcWCgD9+JMGep4l9Pxf/fPIP6n8/gJPh2gBgfT+9WeQi7iSAP0wfRad1Q4I/wHfCGxqfgj92N9ueOxaCPyQOnW2np4E/ZjSeyOQdgT+0OZpFYP2AP1EghWR+kIA/zJwCrdyfgD+8ZQ2SAPd+P/JseFw5T38/V5d/VP5Xfj+UeTC9Xtx8PwZegRB+M38/Dm+hFnQggD/8I1xiMWaAPzo+EMVwKYA/A2q84uSWfz8esylyDXuAP/cmpEQvbYA/rNoh9RiLgD/M5MWjJaSBP4VVOGchJII/elGRKcYngj9q23mdeEyCP6kuXnVRoII/nqVMSHN+gj9DDrtYytKBPw==",
          "dtype": "f8"
         },
         "yaxis": "y"
        },
        {
         "hovertemplate": "Entity=Senegal<br>Year=%{x}<br>gdp=%{y}<extra></extra>",
         "legendgroup": "Senegal",
         "line": {
          "color": "#EF553B",
          "dash": "solid"
         },
         "marker": {
          "symbol": "circle"
         },
         "mode": "lines",
         "name": "Senegal",
         "showlegend": true,
         "type": "scattergl",
         "x": {
          "bdata": "qAepB6oHqwesB60HrgevB7AHsQeyB7MHtAe1B7YHtwe4B7kHuge7B7wHvQe+B78HwAfBB8IHwwfEB8UHxgfHB8gHyQfKB8sHzAfNB84HzwfQB9EH0gfTB9QH1QfWB9cH2AfZB9oH2wfcB90H3gffB+AH4Qc=",
          "dtype": "i2"
         },
         "xaxis": "x",
         "y": {
          "bdata": "heH5knwnOT9xXU/ISck4PxQAjoWccjc/fNfPMMOzNj/d+/XDMxw2P8G0hOucLzU/KUS0X1aSND82YdQQBnUzPxPMXMvmWDM/noI0V2YIMT/h3ocQJOMvP369UZQAhi4/E9niAtGzLj8mVvpVazQrPz9i6yQjxis/Xi+pDGyOLT/R1EW5CY8uP8unGqRKnCw/7vweBExwKj/X8bt94ikrP8phEAxKXSk/j0cZUC4jKj8pNw8t5RIsP2LOoClV8yk/Bop+wam9KT8e0JNrmJ8pP+yKWS8lkCk/eBQGYJ/7KT80N0QsOKwoP8QriKt7uyc/OvAftRh+Jj8KqgGmr7AmP0DXogE1hiY/Q+ruQ/J3Jj9Gw5pwas4lPw3wuHZ6OiY/mRrExtbtJT8oSchYq84lPym2vC6NhiY/eEwHQFMvJz/bhCrQ0OYmPyNJNx8Xfyc/JcBN76UlJz9NT6FgoP8nP7VRQI4JVCg/8KmiKSvAKD8haGBAn1AoPxl8OAbbeyg/x68d7gruKD/Md4P/MPwpP6NL0pWm9Ck/WAuYEhabKT/szKrr4hQqPyfKQPtTSyo/r3Q3GCOcKj+biDeYn7IrP9hxphlr3yw/Nr6th0HvLT8=",
          "dtype": "f8"
         },
         "yaxis": "y"
        },
        {
         "hovertemplate": "Entity=Serbia<br>Year=%{x}<br>gdp=%{y}<extra></extra>",
         "legendgroup": "Serbia",
         "line": {
          "color": "#00cc96",
          "dash": "solid"
         },
         "marker": {
          "symbol": "circle"
         },
         "mode": "lines",
         "name": "Serbia",
         "showlegend": true,
         "type": "scattergl",
         "x": {
          "bdata": "ywfMB80HzgfPB9AH0QfSB9MH1AfVB9YH1wfYB9kH2gfbB9wH3QfeB98H4AfhBw==",
          "dtype": "i2"
         },
         "xaxis": "x",
         "y": {
          "bdata": "1gOexPTYQj8cixfmSqtCP4TK5eXoS0M/z023GYJHQz9kN80TDmRAP610jdB26EA/6vTYoF9qQT89exQ0AUJCP+joU5/thkI/MTTYy1FYQz/TFy23YapDP2pMYgKqx0M/YFddvQEZRD9cu9NA1ctEP6uDzSQVgUQ/zbKpkzXGQz/aqbMfU3BDP/MIRudaxUI/yx/hWifDQj/5k01K9ehBP1ljT3vnpEE//9jde4W2QT99XWzWs4RBPw==",
          "dtype": "f8"
         },
         "yaxis": "y"
        },
        {
         "hovertemplate": "Entity=Seychelles<br>Year=%{x}<br>gdp=%{y}<extra></extra>",
         "legendgroup": "Seychelles",
         "line": {
          "color": "#ab63fa",
          "dash": "solid"
         },
         "marker": {
          "symbol": "circle"
         },
         "mode": "lines",
         "name": "Seychelles",
         "showlegend": true,
         "type": "scattergl",
         "x": {
          "bdata": "qAepB6oHqwesB60HrgevB7AHsQeyB7MHtAe1B7YHtwe4B7kHuge7B7wHvQe+B78HwAfBB8IHwwfEB8UHxgfHB8gHyQfKB8sHzAfNB84HzwfQB9EH0gfTB9QH1QfWB9cH2AfZB9oH2wfcB90H3gffB+AH4Qc=",
          "dtype": "i2"
         },
         "xaxis": "x",
         "y": {
          "bdata": "GyAi4JZq6z7IeaVaEvPoPvHFFuIhn+k+l0xbeT3S6j5RnlapMqLqPnt0D+Xv6ug+J9RmSG7J6j6F3llJJsfpPtjZNIXU7+k+gQ1ii4Vv6D7kn5jbN/DmPj/uBo1Ceek+LOJLWeCa6T4SwR0ekzTqPiUtUL92Auo+yKz2eJaO6j6e8idO9E/tPmfoLktZdOo+b8KHTRvW7j4B9vNehCTxPjvOhRgvtO8+exrp0RKK7D4PFQlXTRvsPjhwGhg4+eo+UmiV5/bz6j5BYnVjAN7sPhpfbcVZ4es+BZBNGP7i6z4nTNjicBPsPncLFyyf4ew+tp8xfZR87T5VKhamF87tPiKb+nsZUe8+OfVn5ONf8D6/FQx9F4nvPszLP0v4Qe4+ZHOk0Emz7j4uQdftt5LwPtloIKsehvE+Q3gyRZZG8T5SiLw6wsnwPktvEeZ7GPA+Tc5hq2/j7z5cQOQddirtPmjFstuJIes+y2Bwk3V87D4gwPl5o+HtPgpF46s7qe8+t2u2kOJs7j7t9e5m557uPr0SJGd4G+8+bDj9IYpE8D7w/Ixw7hHwPjPM8HU1mvA+L1t/tP3e8D5Cujc7Y0/xPr4Q69t8qvE+DxLFPDjf8T4=",
          "dtype": "f8"
         },
         "yaxis": "y"
        },
        {
         "hovertemplate": "Entity=Sierra Leone<br>Year=%{x}<br>gdp=%{y}<extra></extra>",
         "legendgroup": "Sierra Leone",
         "line": {
          "color": "#FFA15A",
          "dash": "solid"
         },
         "marker": {
          "symbol": "circle"
         },
         "mode": "lines",
         "name": "Sierra Leone",
         "showlegend": true,
         "type": "scattergl",
         "x": {
          "bdata": "qAepB6oHqwesB60HrgevB7AHsQeyB7MHtAe1B7YHtwe4B7kHuge7B7wHvQe+B78HwAfBB8IHwwfEB8UHxgfHB8gHyQfKB8sHzAfNB84HzwfQB9EH0gfTB9QH1QfWB9cH2AfZB9oH2wfcB90H3gffB+AH4Qc=",
          "dtype": "i2"
         },
         "xaxis": "x",
         "y": {
          "bdata": "y56ao6YWGT+29cyE628YP0gGFEo/Mxg/lC3FTJJkFz/W8tz1rGUXP/r9QBiJthc/mkQvZRPDFj8+v9wFd80VP546IH/zzhQ/znWI6n1GFT+ylKTN9OwTPytMdGUgwxM/OfaOZYPaEj9rynLTyBcSP/0CmQjjWBI/Ym/PD6F1Ej+fx6FcmXERPz9jSCYryhA/kZx1mOmKED95CW4UxJkQP2PLhkfwzhA/t7zAcbz1ED/OoW2cA7MRP498esju6hA/UZYuBFPWED8ZClubNrsOPx4Mbg7KGQ4/mdWBc0bsDj/vmxzwhHILP79avWKYkwk/XhU2qQ45CT8D+ufl1mQJPzbD8eMwKgQ/iLzdiiwhBD891Qs5vygDPzO4wOmUDQE/aSr3fuHHAD96TU+OS3b+Pgq/ZFVAPv4+4lAqfQ2w/D7lJmKFAkr9PqU8kbkI6fo+HQRbbM+lAD9nvp72ga8BP7S27vY8DQI/PEbUwLorAj9D1vVAcCgCPxeoshDg0wI/mh72ieV8Az+5+0ZB6HYEPzbBNbeXqwQ/IM/FEeFNBT9bMlPnRPAHPz3MJnoAKQw/X84gqk+hDD8MBvzTEToGP97itONPBQc/uoZU9JpHBz8=",
          "dtype": "f8"
         },
         "yaxis": "y"
        },
        {
         "hovertemplate": "Entity=Singapore<br>Year=%{x}<br>gdp=%{y}<extra></extra>",
         "legendgroup": "Singapore",
         "line": {
          "color": "#19d3f3",
          "dash": "solid"
         },
         "marker": {
          "symbol": "circle"
         },
         "mode": "lines",
         "name": "Singapore",
         "showlegend": true,
         "type": "scattergl",
         "x": {
          "bdata": "qAepB6oHqwesB60HrgevB7AHsQeyB7MHtAe1B7YHtwe4B7kHuge7B7wHvQe+B78HwAfBB8IHwwfEB8UHxgfHB8gHyQfKB8sHzAfNB84HzwfQB9EH0gfTB9QH1QfWB9cH2AfZB9oH2wfcB90H3gffB+AH4Qc=",
          "dtype": "i2"
         },
         "xaxis": "x",
         "y": {
          "bdata": "TpeeNpNCRD8LPPWQ9/VEPzvnsyYcRUU//MFzM0I8Rj9/Nr4KIxREP9QPQPrMbUQ/ehxkC8xgRT/Em/nh5vtGP6jy6HICbkg/AP4qxLEsSj8X0m8kybNJP56RzH43nUs/+0R34SCkTT9Co4Wxu+lOP8ZuxWCMH1A/nFnQzuKwUD+vf4ODngVRP3EVEvQemlE/0ZO9ms1oUj8AtYw1cVdTP/t+L0o/jVQ/bNoUSkpPVj9dZUdsQ9BXPyiVc3CTPFk/Te/WEZ5AWj+yaEF2xSBZP7x6jPJ6olg/a7+9bMEjWj8IHBj4s75bPxG7Dwa4R1w/iS8nHw+yXT+ZMSP0xSlfPyqTi5FRXGA/E/ZxXyb4YT9d3cUUM1ljPxQC52zZCGQ/el5uEo7VZD+FtsDGssFlP4x6FWzOv2Q/sEfy1qpNZT/FCQilMDVmPzu/SJg+lGU/sEzLNWkCZj87rm1TllZmP9Ka74WTbmc/LyPw/JFCaD+tEElGQFJpP/WTyFTXgmo/ciLR2y+Aaj83WOACZ85qP/7XcN9lnm0/+furPo+Jbj+KnY7nzwFvP8kmrdmZwm8/w9Coy4sKcD+gYEfhJglwP2nKKmwdCXA/QDimS84hcD8=",
          "dtype": "f8"
         },
         "yaxis": "y"
        },
        {
         "hovertemplate": "Entity=Slovakia<br>Year=%{x}<br>gdp=%{y}<extra></extra>",
         "legendgroup": "Slovakia",
         "line": {
          "color": "#FF6692",
          "dash": "solid"
         },
         "marker": {
          "symbol": "circle"
         },
         "mode": "lines",
         "name": "Slovakia",
         "showlegend": true,
         "type": "scattergl",
         "x": {
          "bdata": "yAfJB8oHywfMB80HzgfPB9AH0QfSB9MH1AfVB9YH1wfYB9kH2gfbB9wH3QfeB98H4AfhBw==",
          "dtype": "i2"
         },
         "xaxis": "x",
         "y": {
          "bdata": "qfgf8qxBUT9M5pbv31BRP+N6XlX92VE/XVMSYq1HUj9dNyxCZN9SP6Ectnm0TVM/xge3joaVUz+MtUkKwOlSP5Ij4j7+UlI/Q24BWKSSUj86IPMd8P9SP7BUi3oWd1M/RfC28FqeUz/IbmhhIyxUPw48/C3g+VQ/Zvj+aC1NVj/aOP0XXSJXPxwiqzMxRFY/iwpha9xsVj87hzFGXFpWP5/p3RfyKlY/6vMueY/sVT9lE9zdo+dVP82IVjb1PVY/5cr5sn1xVj+szDHm3YdWPw==",
          "dtype": "f8"
         },
         "yaxis": "y"
        },
        {
         "hovertemplate": "Entity=Slovenia<br>Year=%{x}<br>gdp=%{y}<extra></extra>",
         "legendgroup": "Slovenia",
         "line": {
          "color": "#B6E880",
          "dash": "solid"
         },
         "marker": {
          "symbol": "circle"
         },
         "mode": "lines",
         "name": "Slovenia",
         "showlegend": true,
         "type": "scattergl",
         "x": {
          "bdata": "ywfMB80HzgfPB9AH0QfSB9MH1AfVB9YH1wfYB9kH2gfbB9wH3QfeB98H4AfhBw==",
          "dtype": "i2"
         },
         "xaxis": "x",
         "y": {
          "bdata": "1nPzV1Z+Rz8bODyK0oRHP+N7Ae/z1kc/WiG4EmwESD8cCkk/yXdIP7qnOMxaZUg/3MEC/5mjSD8vnxVdNwpJP9196o+6Bkk/b6pgQJIBST9o3Uq/2QxJP5TXwOZdYEk/DbVqh1sKSj8IqPQvxWpKPwqJBOSiyUg/vqoQjngPSD+LvqF3D3pHP6bZysiUSkY/rYQYPwB6RT82GEaSaoFFPwDuu/mBgEU/4wjWz9ioRT8J8C82nBRGPw==",
          "dtype": "f8"
         },
         "yaxis": "y"
        },
        {
         "hovertemplate": "Entity=Solomon Islands<br>Year=%{x}<br>gdp=%{y}<extra></extra>",
         "legendgroup": "Solomon Islands",
         "line": {
          "color": "#FF97FF",
          "dash": "solid"
         },
         "marker": {
          "symbol": "circle"
         },
         "mode": "lines",
         "name": "Solomon Islands",
         "showlegend": true,
         "type": "scattergl",
         "x": {
          "bdata": "xgfHB8gHyQfKB8sHzAfNB84HzwfQB9EH0gfTB9QH1QfWB9cH2AfZB9oH2wfcB90H3gffB+AH4Qc=",
          "dtype": "i2"
         },
         "xaxis": "x",
         "y": {
          "bdata": "F0PDgEnH5j7TdUiGUMDnPleUVAxXPuo+0AdxEr3e6j79AVk8CnvsPtteMw3t0e0+UG3AtxFN7T7kV0LPTtnrPgX6zvL9pes+1NbdLXmg6j48BqOaRdrlPmXn1WxJuuM+9hPyCG3E4j5hSWe4mmzjPoVGGEKgguM+1lsRMKfP4z5vVr9udlDkPo2lqIJs6+Q+M8M6RG8A5j5iC2cv9VTlPrPa0Lh02OU+fvjRzwH55z5RUs1FrHPoPqoor6AEjOg+HEsCIfFn6D7L8qU7OHjoPprgctD7uOg+RmyyXbHH6D4=",
          "dtype": "f8"
         },
         "yaxis": "y"
        },
        {
         "hovertemplate": "Entity=South Africa<br>Year=%{x}<br>gdp=%{y}<extra></extra>",
         "legendgroup": "South Africa",
         "line": {
          "color": "#FECB52",
          "dash": "solid"
         },
         "marker": {
          "symbol": "circle"
         },
         "mode": "lines",
         "name": "South Africa",
         "showlegend": true,
         "type": "scattergl",
         "x": {
          "bdata": "qAepB6oHqwesB60HrgevB7AHsQeyB7MHtAe1B7YHtwe4B7kHuge7B7wHvQe+B78HwAfBB8IHwwfEB8UHxgfHB8gHyQfKB8sHzAfNB84HzwfQB9EH0gfTB9QH1QfWB9cH2AfZB9oH2wfcB90H3gffB+AH4Qc=",
          "dtype": "i2"
         },
         "xaxis": "x",
         "y": {
          "bdata": "bpRQur7ugT/LMHUO+9CBPwySwVJ464E/5ru1i9RJgj8WNoQ1woGCP3raU5ZYkoI/YtmA/YxOgj/uJ3yrUsqCP8N3kK77ToI/kPZb7PAPgj+DtgucKGSAPy3+Js5zYoA/sIpbDgp/fz+XTRJW7+h+P2aY57hMEYA/4A983YkrgD/i2qruoWN/P/7pQJx4K34/4Mb+YADnfT9dIwxk38x9PzLV2xxAr34/dyfq6hW1fz8gvvNTYXV/P0k9rkToJX4/SYW0HmxLfj/SW5EfDth8P73RA0yD6Xs/+KtIuXlNez/sV38mBC17P2cLdfL4vXk/GomFDDZ8eD8WCNfs6tZ3P045lD4M4HY/pK6ksq/Ndj/kD+994Nl2PwysHSLmy3Y/JVq1b83+dj/lsy0IB8N2P9FRDtUZUXY/ZTqoCBEbdj/+oJTHXQp2P2Y4i8rDNnY/+ISPleaJdj+QklLfwox2PyouaJVSk3Y/9ERaQm7kdj+9Jq/dzy13P5XFQG8Nb3c/Iv9CVGO/dz92kmgdpst3P9QMQTovgnc/33jpcOyJdz/rqifDsHh3P5TacMLecHc/rugsMOY2dz/g9e7HAv12P4HfI1uwk3Y/2niejXk1dj8=",
          "dtype": "f8"
         },
         "yaxis": "y"
        },
        {
         "hovertemplate": "Entity=South Korea<br>Year=%{x}<br>gdp=%{y}<extra></extra>",
         "legendgroup": "South Korea",
         "line": {
          "color": "#636efa",
          "dash": "solid"
         },
         "marker": {
          "symbol": "circle"
         },
         "mode": "lines",
         "name": "South Korea",
         "showlegend": true,
         "type": "scattergl",
         "x": {
          "bdata": "qAepB6oHqwesB60HrgevB7AHsQeyB7MHtAe1B7YHtwe4B7kHuge7B7wHvQe+B78HwAfBB8IHwwfEB8UHxgfHB8gHyQfKB8sHzAfNB84HzwfQB9EH0gfTB9QH1QfWB9cH2AfZB9oH2wfcB90H3gffB+AH4Qc=",
          "dtype": "i2"
         },
         "xaxis": "x",
         "y": {
          "bdata": "SMV0Ld9vZT/gHMfMx+tlP40s4c0IkGU/N34tv+VgZj+be5S38vZmP/C0SJuCRmc/IZOR4+GZaD+UAnV7ArRpP/TNbEV3N2s/REJXf7VebT+H89yp+NprP91HxNc3fm0/5Jd4xUbhbT8mqF8jixlwPxprlJowRHE/S+nF9TBucj+SdlccE8pzP3+RNjRAYHU/UzfUGk3Idj+n8EW0KsN3P2lg/E3KjnY/+HdiJli2dz9+Nh48k5F5P8Mz6IA2RXw/Bu+miCjafT/MVe7wPQB/P94BsYoqroA/gQBYsAL5gT9haAltQzaDP5zdFqapBYM/241h7I7ugz+E8IjuyKKFPyrbaUkshoY/Y/AFrdCyhz/m2+o7LR+JP8vYJWlvoYo/vodsiKm1iz+4MAqVr02MP1vNnjzIGIo/XgweQEIcjD88mRlmnE+NPwRmmoVoDo4/PyGqsGWajz/ZqoE/KZ2PPxi5NsYdwY8/D9DVVzrJjz8UPdDJ4QaQPy0v+FcLOJA/iemLZ+RgkD/eWtALK8mQP68ybw7HI5E/kwH+X1Q6kT/KEgwfHjGRP5Nam3QEPZE/XY8RmoNSkT91qwrs0WiRP7cBSIDyf5E/AR/LIbiCkT8=",
          "dtype": "f8"
         },
         "yaxis": "y"
        },
        {
         "hovertemplate": "Entity=Spain<br>Year=%{x}<br>gdp=%{y}<extra></extra>",
         "legendgroup": "Spain",
         "line": {
          "color": "#EF553B",
          "dash": "solid"
         },
         "marker": {
          "symbol": "circle"
         },
         "mode": "lines",
         "name": "Spain",
         "showlegend": true,
         "type": "scattergl",
         "x": {
          "bdata": "qAepB6oHqwesB60HrgevB7AHsQeyB7MHtAe1B7YHtwe4B7kHuge7B7wHvQe+B78HwAfBB8IHwwfEB8UHxgfHB8gHyQfKB8sHzAfNB84HzwfQB9EH0gfTB9QH1QfWB9cH2AfZB9oH2wfcB90H3gffB+AH4Qc=",
          "dtype": "i2"
         },
         "xaxis": "x",
         "y": {
          "bdata": "x47/SBdumT+UwPLyxjWbP+fTirldV5w/Q0qbM+WFnT/RjflEvSWdPxLEbQ0QSZ0/pelFJtaknT/Iegjytp2dP7btvmyhiJ0/d/3m1XlNnj98xXEStz+bP8PXPTunVZs/guGdsY/zmz+ralDeWEacPzyz9TZcQp0/FJq2UqgcnT/bDJXAEYycPyYgAXZbPpw/GAvSOFOSmz8clWJDJ3yaP59IgQ53JJo/9fyWN/yamT+FXGwZ8tGZP1NEpQMDqJk/hQbB6cz3mD8oRVTnXp+YP5zG4KMPmZg/tW0bOXffmD+ZVqOaSPiYP/QlGQjdNpg//ByFIqr6lz+yEm4qATCYPyH0N2Wx75c/Glbsy85Tlz8sKl9j8y6XP/jvOqA0DJc/JSXBaY3ilj+GDRAI+uGWP+BKsxjsR5c/q/t7wTWKlz8ao2JG4LmXPy4xKOgUNZg/L/rrjeNfmD+g2Z7pcXGYP74HZE5nJZg/EUx7nJ8fmD+HDuReThiYP5/0A5Ht/Zc/k24WHR7Tlz8pJDdaEWGXP+cpMXZCa5Y/gdxtcleElT9DXOfcUmCUPw1YYMGAhJM/8CbZe4s9kz9O1qZqPXWTP3bJLQbhn5M/5QwE2nKikz8=",
          "dtype": "f8"
         },
         "yaxis": "y"
        },
        {
         "hovertemplate": "Entity=Sri Lanka<br>Year=%{x}<br>gdp=%{y}<extra></extra>",
         "legendgroup": "Sri Lanka",
         "line": {
          "color": "#00cc96",
          "dash": "solid"
         },
         "marker": {
          "symbol": "circle"
         },
         "mode": "lines",
         "name": "Sri Lanka",
         "showlegend": true,
         "type": "scattergl",
         "x": {
          "bdata": "qQeqB6sHrAetB64HrwewB7EHsgezB7QHtQe2B7cHuAe5B7oHuwe8B70Hvge/B8AHwQfCB8MHxAfFB8YHxwfIB8kHygfLB8wHzQfOB88H0AfRB9IH0wfUB9UH1gfXB9gH2QfaB9sH3AfdB94H3wfgB+EH",
          "dtype": "i2"
         },
         "xaxis": "x",
         "y": {
          "bdata": "pPEC4DCURD8PvWTfBD1EP+sYULZpuEM/jy+9HtM1Qz99BlOMSqBCPy4ZSJyldkI/sp5PZTHRQj+KU5Ko7Z9CP5g/mNaZ5kI/axz8V3fsQD/w13tQRm9AP0n9gFlg8z4/2F+QG68YPz+V7D8TkKM/P9DLhKgvnUA/u4s+U+9LQD9h0dheXHpAP4ENIUAVwEA/SE4pJQkdQT+NNGxNRH5BP2WeDiNrIkI/k7n+czPPQj/Rl7w+wj9DP7FJz4e2V0M/BElXugKTQz/wmxn4bsNDP5qvnmzEQkM/YnmzVYHaQj9Ex570mddBP7ElaM5fHUI/emiQzFyjQj8+0581LhRDP+wLLqJmFUQ/uU5H/DSWRD/4jY0DMQNFP2kst9K/F0U/CPkB3aGkRT/UjeiiQxpGP1sAEd4bT0Y/aYXxcCajRj8CKHkgX91FP0aW/uZ2P0Y/n1KtJNrnRj9ItHknhCBHP1e7TKudqkc/4rIVhWluSD/WSoRgYQlJP/4zEtLfDEo/lR6H3+JySz8jFOrLZ21MPyC/GAkG4E0/aItRikrPTz8bGftceQZQP1UmxYkNW1A/C76y0OTKUD+T2lGR1SFRP7WT3QmrJlE/",
          "dtype": "f8"
         },
         "yaxis": "y"
        },
        {
         "hovertemplate": "Entity=Sudan<br>Year=%{x}<br>gdp=%{y}<extra></extra>",
         "legendgroup": "Sudan",
         "line": {
          "color": "#ab63fa",
          "dash": "solid"
         },
         "marker": {
          "symbol": "circle"
         },
         "mode": "lines",
         "name": "Sudan",
         "showlegend": true,
         "type": "scattergl",
         "x": {
          "bdata": "qAepB6oHqwesB60HrgevB7AHsQeyB7MHtAe1B7YHtwe4B7kHuge7B7wHvQe+B78HwAfBB8IHwwfEB8UHxgfHB8gHyQfKB8sHzAfNB84HzwfQB9EH0gfTB9QH1QfWB9cH2AfZB9oH2wfcB90H3gffB+AH4Qc=",
          "dtype": "i2"
         },
         "xaxis": "x",
         "y": {
          "bdata": "LAnvmrXrUD+WQxoHNzFQP+2o51xEZlA/+jBg149JTj+4RAnMlxNMP47Xh4o6WUw/nYMsztfMST97ajZHNw5JP5GjDY5T5kc/orhDgEnURj9yMtJ3sNlEPy8Ta0mRb0Q/aHvpzqhXQj/VcTofoFJBP7bLhq0t6kI/SFYoGsmoRT92SZaEd/xHPzSyvtIng0g/T7rT0W8vRj/N6mMeqTtEPwUTzI1v1kM/X1x6RyfnRD80Sa9XKQ9GP/CgzPh0+0U/SaZEA/T2Qz/fP4KzfghCP8G1d5pfZEI/hFZYekUgRD/63UeGVSlDP9Wvai0oT0M/T8iA9cdqQT/OEPI7R2tCPzstuuh1P0M/ne2XW9fRQz84EwdmtW5DP51Poq6A7UM/wz5WaIxpRD8vWoKvlMNFP7Vb8PStJEY//8Uo7fwXRj+A7ulg8X1GPw3WS/rqf0c/ErHfW1d6SD/tS0Lt4KBJPzFKi2gqfkk/AQ/0b9dkSj+0H0YlbdpLP+hNLJJkzk0/8woIQBeOTz8l5/K/qpNQP2MCjIT3cVA/f5Cm2BBCTz9p+NbwHKdOP9mDSjTrLk8/2vH2QGoiTz+jzkilZO9PPxpbkBKYU1A/9l8t5LKHUD8=",
          "dtype": "f8"
         },
         "yaxis": "y"
        },
        {
         "hovertemplate": "Entity=Suriname<br>Year=%{x}<br>gdp=%{y}<extra></extra>",
         "legendgroup": "Suriname",
         "line": {
          "color": "#FFA15A",
          "dash": "solid"
         },
         "marker": {
          "symbol": "circle"
         },
         "mode": "lines",
         "name": "Suriname",
         "showlegend": true,
         "type": "scattergl",
         "x": {
          "bdata": "twe4B7kHuge7B7wHvQe+B78HwAfBB8IHwwfEB8UHxgfHB8gHyQfKB8sHzAfNB84HzwfQB9EH0gfTB9QH1QfWB9cH2AfZB9oH2wfcB90H3gffB+AH4Qc=",
          "dtype": "i2"
         },
         "xaxis": "x",
         "y": {
          "bdata": "TQXX5VdWIT9Qp75JGr0fP3Div8HQziA/WmIBnA9nIT+ZhroDz2cfP3svh6BvwBw/ThUaVTJFHD/nnalToZYbPxRBQqv2HRo/T/j80ur+Fz9Efie8fbIWP6yBxYN2LhU/+J+qCCRrET+bjIBUMBkSP9MDt41elhI/60WBvUemET9UnRG0CNgRP/EzjbnydRE/nA75iKHkDz9YGHu0tvYPP8JP8c9QQw8/u246Q22eDj/zT6wRYDgPP6WEffi47Q4/0/A2y2mrDT9Md7BG7mEMPwOWk/+pHA0/7ZwYsbm3DT9UUJ/+0J0OPypySF3IAxA/xW3xt2whED/peUs7Yw8QP53yicfEMhA/2qncMRWRED++9EDCF14RP5/MGYo7gxE/W9RI+Xz4ET9sm4I4vQASPzGKnWHfDhI/2/12KayaET/YlY5u78MQP/Wv+lrGDw8/Exjz/JwvDj8=",
          "dtype": "f8"
         },
         "yaxis": "y"
        },
        {
         "hovertemplate": "Entity=Sweden<br>Year=%{x}<br>gdp=%{y}<extra></extra>",
         "legendgroup": "Sweden",
         "line": {
          "color": "#19d3f3",
          "dash": "solid"
         },
         "marker": {
          "symbol": "circle"
         },
         "mode": "lines",
         "name": "Sweden",
         "showlegend": true,
         "type": "scattergl",
         "x": {
          "bdata": "qAepB6oHqwesB60HrgevB7AHsQeyB7MHtAe1B7YHtwe4B7kHuge7B7wHvQe+B78HwAfBB8IHwwfEB8UHxgfHB8gHyQfKB8sHzAfNB84HzwfQB9EH0gfTB9QH1QfWB9cH2AfZB9oH2wfcB90H3gffB+AH4Qc=",
          "dtype": "i2"
         },
         "xaxis": "x",
         "y": {
          "bdata": "wlcLRuLPjj8XAARuWyePP/BpUFuwxI4/nDNSs4zNjj8BKnjkEtmOP4EyYj/fSI4/m9zCo4oujT/cuPm6zOGMP51hthmVAIw/OMO6XQG0iz9ErZIPZ1SJP7LP3tmCgog/fkQG6WO0hz8ypLkdBSGHPyn5E7W+Yoc/P0/TYbu7hz+xYWpsV8SGPwgHdsuxjYU/MFKC2boZhT9rZ64J3AmFP/vcH969qYQ/mGJ+yItbhD8Dso1TW4eEP9JLQLu2bIQ/yH8OQ6hahD8WUs/gegqEP01RQphy6YM/+ohZhFS3gz/7bU5LxFCDPzRB1fvHV4I/EQRZRo+igT+7T9JC1iWBP1Tmze9gnoA/4pnajNMGgD8X/oZIYjGAP+5S4NrrS4A/4tTGwpX/fz999ZypccB/P8e17drPI4A/2rB71pRTgD/yS1Wde16AP+fMlLtFT4A/PRQJMypLgD+UAHKUZTaAP/MpYCvQMYA/Ej5FgM8JgD9h02AaLhmAPx27aP1R8n8/FlvJC88yfz/QJUPZhhp+PwYCasp/l34/dap9SoRyfj95KdAFJ559P1cg9uVeOH0/kc7BTjEnfT9nRxCLGct9PwCb4IxxCX4/SJGhj17UfT8=",
          "dtype": "f8"
         },
         "yaxis": "y"
        },
        {
         "hovertemplate": "Entity=Switzerland<br>Year=%{x}<br>gdp=%{y}<extra></extra>",
         "legendgroup": "Switzerland",
         "line": {
          "color": "#FF6692",
          "dash": "solid"
         },
         "marker": {
          "symbol": "circle"
         },
         "mode": "lines",
         "name": "Switzerland",
         "showlegend": true,
         "type": "scattergl",
         "x": {
          "bdata": "vAe9B74HvwfAB8EHwgfDB8QHxQfGB8cHyAfJB8oHywfMB80HzgfPB9AH0QfSB9MH1AfVB9YH1wfYB9kH2gfbB9wH3QfeB98H4AfhBw==",
          "dtype": "i2"
         },
         "xaxis": "x",
         "y": {
          "bdata": "4uh2bsy8iz84O97lrKOLP38X7nniKos/j+cubvWxij+hdbDMkkqKP1z/wm8rRYo/6AlrWrDjiT+OK3IePjKJP0SiYA9y24g/G4dvj6/9hz83WCUBybuHPxEMG6KvIYc/gq1NwLCrhj80VRMpzEuGP7MApynh6oU/FoiuyXJOhT/7Ay8+VreEP42HVm7NcYQ/Cgk/1bKJhD94Ah/gNzaEP5g3mC4qHIQ/gEqoUM38gz/C4e6LEZiDP4oJKh65DIM/uIiygDm/gj/bRuyDpJ6CP7oRRnqEkII/NKulmtSLgj/zH0PfFpuCPxmSvT6Kg4I/fiSiarJIgj91dwtZgQaCP+4yS2T1woE/id7miPyggT/XeGPp0I+BP7wN4NivYYE/tImyBEY1gT/LSMaYfOOAPw==",
          "dtype": "f8"
         },
         "yaxis": "y"
        },
        {
         "hovertemplate": "Entity=Tajikistan<br>Year=%{x}<br>gdp=%{y}<extra></extra>",
         "legendgroup": "Tajikistan",
         "line": {
          "color": "#B6E880",
          "dash": "solid"
         },
         "marker": {
          "symbol": "circle"
         },
         "mode": "lines",
         "name": "Tajikistan",
         "showlegend": true,
         "type": "scattergl",
         "x": {
          "bdata": "wQfCB8MHxAfFB8YHxwfIB8kHygfLB8wHzQfOB88H0AfRB9IH0wfUB9UH1gfXB9gH2QfaB9sH3AfdB94H3wfgB+EH",
          "dtype": "i2"
         },
         "xaxis": "x",
         "y": {
          "bdata": "/3yrAx0MLD+jyfUIEBYsP9EPyLKvlSo/9QoA/KvsLD/kyTFouAQpP1m4Or/Buic/0GccWCevJT9ULr3Y8jAeP2Hndiao2hg/jPjKuqr8Ej+9Hq2FbBcQP2wHP0n87Ak/5tDQcf5sCT+KW5bfYB0KP5CU/JD2NAo/87locWYrCz+kZb0ieF8NPzwckD5K2g8/ohYTRisuET871cz3ICUSP7pGtHb7pRI/FZchdawhEz9Hd2OtK8oTP9bt9qJL+BQ/DmOnMsAmFj928apof54WP549F2f9jBc/m6zDhK+yGD9aRoFeRtkZP8QMKR2R0Ro/3sFi7pDLGz/HhQZHaQQdP7y6BHMtLB4/",
          "dtype": "f8"
         },
         "yaxis": "y"
        },
        {
         "hovertemplate": "Entity=Tanzania<br>Year=%{x}<br>gdp=%{y}<extra></extra>",
         "legendgroup": "Tanzania",
         "line": {
          "color": "#FF97FF",
          "dash": "solid"
         },
         "marker": {
          "symbol": "circle"
         },
         "mode": "lines",
         "name": "Tanzania",
         "showlegend": true,
         "type": "scattergl",
         "x": {
          "bdata": "xAfFB8YHxwfIB8kHygfLB8wHzQfOB88H0AfRB9IH0wfUB9UH1gfXB9gH2QfaB9sH3AfdB94H3wfgB+EH",
          "dtype": "i2"
         },
         "xaxis": "x",
         "y": {
          "bdata": "rQBpYwDuNT+W7tEv8gw1P4HmcbNvgDU/l953spmWNT9N8VG1gko1Pw8FHdHuNzU/jqimJGjrND+Fdnm4JfY0P1KhDSBJMTU/ahjNqCcoNT8MlVgH2WY1P7uGJ6OjtjU/CgZDDLTPNT9Ooe0ZWK42PyKgCYjiyTc/yc50Peu1OD/++Fj9Z4M5P4crKOVFlTo/mpRRG/OsOj9WgNCqbMM7P4kvPpxpyDw/Wrge3TXePj+98jvwYno/P57RiXTZdkA/RWamwSzjQD/9VqI91aZBPxseNRcSXEI/IJXyRE0zQz8TXFoDrg5EP+NbRMdT20Q/",
          "dtype": "f8"
         },
         "yaxis": "y"
        },
        {
         "hovertemplate": "Entity=Thailand<br>Year=%{x}<br>gdp=%{y}<extra></extra>",
         "legendgroup": "Thailand",
         "line": {
          "color": "#FECB52",
          "dash": "solid"
         },
         "marker": {
          "symbol": "circle"
         },
         "mode": "lines",
         "name": "Thailand",
         "showlegend": true,
         "type": "scattergl",
         "x": {
          "bdata": "qAepB6oHqwesB60HrgevB7AHsQeyB7MHtAe1B7YHtwe4B7kHuge7B7wHvQe+B78HwAfBB8IHwwfEB8UHxgfHB8gHyQfKB8sHzAfNB84HzwfQB9EH0gfTB9QH1QfWB9cH2AfZB9oH2wfcB90H3gffB+AH4Qc=",
          "dtype": "i2"
         },
         "xaxis": "x",
         "y": {
          "bdata": "kw/1XNhjXD91zoPmO55cPx24XNZNKF0/UJguPUTuXT9rl0tSJvpdP192pxZtql4/7fWJ0eAUYD9dsRqjjrlgP0bcqTy+6mA/ayZk8Fr7YD9imT9TCVBgPwKwpWUDZ2A/ZJ2pTRIsYD/KYsAIFbtgP/yn1KrWH2E/Zmq+BeHJYT/h8RVD43ViP0R35tIdgmM/11u9PbSzZD85o+CnFPJkP0+qNtJCRmU/5TfSSPgYZj8jFrHSuy9nPxxnrzwf52c/VsQglBYraD8xnKcHLmBoP4jIaIqe42g/zIgWtU4daj+NNORsn0JsP5U47ueGVG0/UMqf3MYcbz8roxcDgpxwPzkjVfGjmnE/hSbacO7Dcj+Vcr7ZDqxzPwvJa3/ck3Q/7Zya41wGdT/UM6gJabdzP3Bmelttw3E/V3d/Pdv5cT9PxZasivlxP190NrS+PXI/HyCoY2jzcj/SDBEnu71zP02hpWZrF3Q/Gl8ZgKMpdD8e1/Okzkp0PzkHPX2kh3Q/bIVFvWOCdD+icKQ5Qbp0P0/M/k/fXXU/6QV6zEvjdD9Fy9/DXdp1P0IidaYb3nU/GzPjmhJ5dT8kUjv7FKF1P5Xsd2zs0HU/HNCGFPABdj8=",
          "dtype": "f8"
         },
         "yaxis": "y"
        },
        {
         "hovertemplate": "Entity=Timor<br>Year=%{x}<br>gdp=%{y}<extra></extra>",
         "legendgroup": "Timor",
         "line": {
          "color": "#636efa",
          "dash": "solid"
         },
         "marker": {
          "symbol": "circle"
         },
         "mode": "lines",
         "name": "Timor",
         "showlegend": true,
         "type": "scattergl",
         "x": {
          "bdata": "0AfRB9IH0wfUB9UH1gfXB9gH2QfaB9sH3AfdB94H3wfgB+EH",
          "dtype": "i2"
         },
         "xaxis": "x",
         "y": {
          "bdata": "FkUhUfPI+D6b0mlLgo36PjxmLIMJNPg+zs9ZVlI+9z6v6AMnA0ICP1zwtFBY5Qc/MQUclss6ED9hAXzNPWEQPwxzxPv6sRE/nDx4pbvqED/IOncI0AcQPxaneIUjYRE/1tG/EdjLET+3C2nVVt4OP4rcEwFlMgY/dqt+FhQ8Cj8PKq+04dQJP+30wPC0Egc/",
          "dtype": "f8"
         },
         "yaxis": "y"
        },
        {
         "hovertemplate": "Entity=Togo<br>Year=%{x}<br>gdp=%{y}<extra></extra>",
         "legendgroup": "Togo",
         "line": {
          "color": "#EF553B",
          "dash": "solid"
         },
         "marker": {
          "symbol": "circle"
         },
         "mode": "lines",
         "name": "Togo",
         "showlegend": true,
         "type": "scattergl",
         "x": {
          "bdata": "qAepB6oHqwesB60HrgevB7AHsQeyB7MHtAe1B7YHtwe4B7kHuge7B7wHvQe+B78HwAfBB8IHwwfEB8UHxgfHB8gHyQfKB8sHzAfNB84HzwfQB9EH0gfTB9QH1QfWB9cH2AfZB9oH2wfcB90H3gffB+AH4Qc=",
          "dtype": "i2"
         },
         "xaxis": "x",
         "y": {
          "bdata": "ZWSXf9QFED9PWEnL6zERP09KMrE75xA/yBFmI5reED9c6t4XIhMSPzY3/JjduxM/Gt4zstNgFD8aQOtP4JUUPx6yqwCoORQ/8NIx+00eFT8F/iVmJasSP5GuI/Us5RE/J5q6vNQ1Ej9rCZ/b6L4RPx05OmkYOhI/PfHFBER6Ej8oe5tiCC4RP0V6dFWcrRE/+0hbeizjEj/zGZIuxDIRP+axWwy2BxM/77q6pJALEj/JgdrTH1QRP/5WO4DQABA/XZ94XpsmED+UQ3YKSG4QP7Skpqk8JhA/BeSkv+oZDz+jXoGgr64PPxE/rmq4fw4/6lApMgYIDT8pgJ1/TlsMP3D9zChvsgo/zGkxqwpSBj+5iYU6mukIP5wNiAI5/gk/P4gm5r1bCz+++cju4ywOPyqt0iaVwQw/lcfu6cOEDD+O45TGGxYLPzd6PAvsIwo/3REZ8CFZCT9PuUoA0NoJP6c4yiH7Rwk/zG4Mh22jCD+fwzIGmJQIP5iono9oIAg/NJ1hOY04CD/vhaXRnYMJP584FpS1cAk/+vaYJhTeCT9M64tnjnMKP/gCGJ2TzAo/ZLNI+MqWCz9zJ9BGfm0MP5f5JkW4Qg0/cQ/BzGP9DT8=",
          "dtype": "f8"
         },
         "yaxis": "y"
        },
        {
         "hovertemplate": "Entity=Tonga<br>Year=%{x}<br>gdp=%{y}<extra></extra>",
         "legendgroup": "Tonga",
         "line": {
          "color": "#00cc96",
          "dash": "solid"
         },
         "marker": {
          "symbol": "circle"
         },
         "mode": "lines",
         "name": "Tonga",
         "showlegend": true,
         "type": "scattergl",
         "x": {
          "bdata": "vQe+B78HwAfBB8IHwwfEB8UHxgfHB8gHyQfKB8sHzAfNB84HzwfQB9EH0gfTB9QH1QfWB9cH2AfZB9oH2wfcB90H3gffB+AH4Qc=",
          "dtype": "i2"
         },
         "xaxis": "x",
         "y": {
          "bdata": "nzPKgKCL4D4wniwvkkLhPovOKqCyL+E+aj6lSLa34D6+kMUBRSvhPovgS0Se9uA+ngfndZq84D4Owqfxj1/fPkN1o8/dIt0+oADXc9A72z4CXrOut4HcPgbZPoZ2Bdw+JVWK8OKf3D4lmLCIayndPhZ3MkSlQt0+C8hHPr5M3D7oK9d9EkHbPk6N4716Tts+vZLnvW5z2z4V2YrP5ynbPmE+bgm5m9s+kPtyHNTx2z71pqLh8LrbPu3ue3KHddo++3aDY4Xj2T4HtQKK0J7YPj+j/yD5o9Y+Zj0EFWHs1j5BRuo33tzXPni/fkQrs9c+RccBq56d1z7QexP9TD7XPqGnFt2B8dU+npMCEJDH1T6WKe6O2RXWPq6+/2cLTNY+1zFb7ng71j4=",
          "dtype": "f8"
         },
         "yaxis": "y"
        },
        {
         "hovertemplate": "Entity=Trinidad and Tobago<br>Year=%{x}<br>gdp=%{y}<extra></extra>",
         "legendgroup": "Trinidad and Tobago",
         "line": {
          "color": "#ab63fa",
          "dash": "solid"
         },
         "marker": {
          "symbol": "circle"
         },
         "mode": "lines",
         "name": "Trinidad and Tobago",
         "showlegend": true,
         "type": "scattergl",
         "x": {
          "bdata": "qAepB6oHqwesB60HrgevB7AHsQeyB7MHtAe1B7YHtwe4B7kHuge7B7wHvQe+B78HwAfBB8IHwwfEB8UHxgfHB8gHyQfKB8sHzAfNB84HzwfQB9EH0gfTB9QH1QfWB9cH2AfZB9oH2wfcB90H3gffB+AH4Qc=",
          "dtype": "i2"
         },
         "xaxis": "x",
         "y": {
          "bdata": "unjWe2gLPz+0kczWbe9AP+iBBv+Ee0A/sAHbCl2LQD9Ji9qBrbFAP3DmpWV+yj8//OKOQiM5Pz/fZ4sJxoE+P6h3GEIYBz4/nL6wlu4PPT/tJkBLnPE5P5UC0em4IDk/3qXFTMUhOT9OmyLy9Pk3P2Rux/K8Yjg/WfGp9R99OD/4kUCFDrw4P/eKbwl89zk/xw/hIGF8Oz+1Ld7Zclc7P+3pz2eXHzo/C8b502ezOj8pNNITMJs7Pz6KLJuQLDg/KNooSKjINT+EZwV1OSE0PwF62JM71jI/NKLMPyU5MT8PY4R2iZ0vP1ExU71OAS0/kw5B1SYYLD9rtC09RWAsPzIU4CJQXSs/5SsE7f2NKj+qI0lvFLIqP64Ts+2rBys/oIsKqUEBLD+5ujDejwktP+T+PkvNny4/bc8YQ8kBMD/VIKt8cWEwP+75kNxkvTA/C0HTDhevMT8xHNEq86ozPxFaqZFZVDQ/PB6rQRrMND9bsfhx85I2P4sEZZHesDY/DGxDCggKNz/cqsGCtmo2PxEzz1AbNTY/MyemwzB3NT/uAFRrMDY1PyHfmZ+E3zQ/imK+cdM+ND9TRekJYhg0Px69ioaidDI/obvJmOl/MT8=",
          "dtype": "f8"
         },
         "yaxis": "y"
        },
        {
         "hovertemplate": "Entity=Tunisia<br>Year=%{x}<br>gdp=%{y}<extra></extra>",
         "legendgroup": "Tunisia",
         "line": {
          "color": "#FFA15A",
          "dash": "solid"
         },
         "marker": {
          "symbol": "circle"
         },
         "mode": "lines",
         "name": "Tunisia",
         "showlegend": true,
         "type": "scattergl",
         "x": {
          "bdata": "rQeuB68HsAexB7IHswe0B7UHtge3B7gHuQe6B7sHvAe9B74HvwfAB8EHwgfDB8QHxQfGB8cHyAfJB8oHywfMB80HzgfPB9AH0QfSB9MH1AfVB9YH1wfYB9kH2gfbB9wH3QfeB98H4AfhBw==",
          "dtype": "i2"
         },
         "xaxis": "x",
         "y": {
          "bdata": "fiKeemoOPD8xmEogVGU7P4FPaA4oRjo/3ib1QVwjOz8ET6k9Asg6P66IKlZ/Kzg//p3oY4idOT8S01oaS4Q8P1IcF6VNljo/bKqq5Q0nPD/O7tHffNo9P304VKz4kT4/28C6f9tpPj/XnsSgeCU/P6UtiH7d3j8/qBvO9O2HQD/f4NLAWhtBP/rQtcMr9EA/agZLIwdUQT/uJXTCJYVBP4QAbnbr1kE/h3g8GqkCQT8gzFGhgGNBPyNxfnRMn0A/5nzIf5BKPz9CopiQsh1APwI6jeKteEA/5e/Y3zBpQT9+1OhIMIVBP6WiO+EgjEE/6reHZTFgQT9KqeUsIgFCP2O5qY6FTkI/obkV2eu1Qj8RS9rB9jNDP71F6eaWP0M/gqIfeKOZQz8gi+sr0m9DP8IgDcsSx0M/7QQikVUeRD92SBOjyQ1EP4dJSlVgPEQ/K5Rf1GW4RD9BQgn79DVFP4zmSHwUPkY/fDLMdR0TRj8Bgzq8bf1EPzsvPqaYS0U/SdO11TxZRT96MVnDMWBFP3ObOVknJEU/bYwe5P7fRD+9kKVb1alEPw==",
          "dtype": "f8"
         },
         "yaxis": "y"
        },
        {
         "hovertemplate": "Entity=Turkey<br>Year=%{x}<br>gdp=%{y}<extra></extra>",
         "legendgroup": "Turkey",
         "line": {
          "color": "#19d3f3",
          "dash": "solid"
         },
         "marker": {
          "symbol": "circle"
         },
         "mode": "lines",
         "name": "Turkey",
         "showlegend": true,
         "type": "scattergl",
         "x": {
          "bdata": "qAepB6oHqwesB60HrgevB7AHsQeyB7MHtAe1B7YHtwe4B7kHuge7B7wHvQe+B78HwAfBB8IHwwfEB8UHxgfHB8gHyQfKB8sHzAfNB84HzwfQB9EH0gfTB9QH1QfWB9cH2AfZB9oH2wfcB90H3gffB+AH4Qc=",
          "dtype": "i2"
         },
         "xaxis": "x",
         "y": {
          "bdata": "8NCuervKgz92Ku0/jCeDP3AXokfbJ4M/hepfJJ/bgz/JwK6qHqKDP5XUQOHpFoM/mk4u6LMJhD9QiryoJhiEP/imAAmOEoQ/EXZ+hbaugz9e3lUzAoWBP3ydAgiMuoE/dK3LfuUBgj8G4UDVanOBP6HrGXzkDYI/+KwA3vUlgz/3MaWG5hOEP+/9bfZV+YM/filqbqOBgz+QLsRm65yCP1qx+KUJiYE/wcAUrHkIgj+wte9FtJmCPxjGwZtQEIM/FWOf80tzgz8PwzZ5i4qDP+YyhS12O4Q/xr3Atsw4hT8ovPdYCb6EPwme6FOBPoM/E0162X4QhD9dkQQO4uCDP+AwP9zseIQ/0tSIlrOzhT+NJLk3JBWEP9Pfpr2+9YQ/0sw6JgHEhT9IlsivXpSGP9XvdsBTiIY/z1OdJPEQhT91pvjSV4GFPwb4UtTm1oM/+J/4K3iqhD8J7a4b0DWFPz/bCDCcRIY/imRGrpJhhz9sBGKk8wKIP4jIpxQSM4g/qCR0r1D3hz/B0kxh/T2HP2IDzl0CLYg/+i1svrgKij8802jFOp+KP76AOK8+JYw/n1FCSjnIjD8siL3NttqNPxQM3uheFY4/QkWXl9Rfjz8=",
          "dtype": "f8"
         },
         "yaxis": "y"
        },
        {
         "hovertemplate": "Entity=Turkmenistan<br>Year=%{x}<br>gdp=%{y}<extra></extra>",
         "legendgroup": "Turkmenistan",
         "line": {
          "color": "#FF6692",
          "dash": "solid"
         },
         "marker": {
          "symbol": "circle"
         },
         "mode": "lines",
         "name": "Turkmenistan",
         "showlegend": true,
         "type": "scattergl",
         "x": {
          "bdata": "wwfEB8UHxgfHB8gHyQfKB8sHzAfNB84HzwfQB9EH0gfTB9QH1QfWB9cH2AfZB9oH2wfcB90H3gffB+AH4Qc=",
          "dtype": "i2"
         },
         "xaxis": "x",
         "y": {
          "bdata": "jHmdSG3QMz8ecAM1fgM1P6njYSe8nDI/NHW7alALOD9KrgKh0I82P6bgwQOmzzI/08Tpji/NMj/8PJbIuC8uP2cGEhcGGis/X0MRVh73Kz9412WLrOQnP+Vwea7R9Sg/N/hzo9sjLD85i77hP2ksPxl6yNo9FS0/3NVwPo+JLD8pWG4N4qMsP1WYkjCEyyw/wksgpi5aLz80L28Ntq0wP+e9NXsjxjE/EV3NoFgFND+scH1RFJ41PylaARk0ojY//lMR++YqOT9UOE7JCEc7P1gdjxbtSj0/MByt2NtqPz9Xqb/+hVtAPxmrM80B90A/1LlFfqCKQT8=",
          "dtype": "f8"
         },
         "yaxis": "y"
        },
        {
         "hovertemplate": "Entity=Tuvalu<br>Year=%{x}<br>gdp=%{y}<extra></extra>",
         "legendgroup": "Tuvalu",
         "line": {
          "color": "#B6E880",
          "dash": "solid"
         },
         "marker": {
          "symbol": "circle"
         },
         "mode": "lines",
         "name": "Tuvalu",
         "showlegend": true,
         "type": "scattergl",
         "x": {
          "bdata": "xgfHB8gHyQfKB8sHzAfNB84HzwfQB9EH0gfTB9QH1QfWB9cH2AfZB9oH2wfcB90H3gffB+AH4Qc=",
          "dtype": "i2"
         },
         "xaxis": "x",
         "y": {
          "bdata": "P6OLDblLoz4kFoKxTaqjPsR2xKnP0aM+dUSGVqdRpD6D6MHnc8ClPjCsyNux/aM+mFYhnyUuoj5WexvuDEmjPi/f1qgWuqU+pXHxTWKypD5VI3ClzJ6jPkzrVSsNkKM+BdgKRQeopD404VzQx2ejPtp5hL10VKI+2aHyxfX8oD4Zihjg8aKgPlgoCq07+qA+YLp3UfoAoj4qjvpPf4KhPtT2OYt9VKA+GD4d7l0FoT5ScGytju+fPumQnVDFRaA+m3znp08JoD4Tk6CG9ByhPnn/7mw1OKE+OwKq7ZZCoT4=",
          "dtype": "f8"
         },
         "yaxis": "y"
        },
        {
         "hovertemplate": "Entity=Uganda<br>Year=%{x}<br>gdp=%{y}<extra></extra>",
         "legendgroup": "Uganda",
         "line": {
          "color": "#FF97FF",
          "dash": "solid"
         },
         "marker": {
          "symbol": "circle"
         },
         "mode": "lines",
         "name": "Uganda",
         "showlegend": true,
         "type": "scattergl",
         "x": {
          "bdata": "vge/B8AHwQfCB8MHxAfFB8YHxwfIB8kHygfLB8wHzQfOB88H0AfRB9IH0wfUB9UH1gfXB9gH2QfaB9sH3AfdB94H3wfgB+EH",
          "dtype": "i2"
         },
         "xaxis": "x",
         "y": {
          "bdata": "tgp01fsyJD+uXpg019okP9q/7rDp3iM/A8LLsJ6EIj+x/wI/jPwhPylat5gZ6iE/jHNfefeGIj8Umy1/zDoiP1G4RIJjhSI/FWUFYuE6Iz+SongG5n8jP2btTFLmzCQ/8r3GiNh7JT+32q4YES4nP5+8j/dLcyg/k4Ub9s/HKD8TJaObS1spPxD/pE+zgyo/QuCfCd8tKj/SFo5PkQMrP79fKfp6vyw/kiHMfy+/LT/42MFoGWwuP7SZLPmSKC8/lFxxFFmMMD+cD637/DYxP3jlPOXNYDI/xDROqJb5Mz/5QSaeSTs0P3uhAMubdDU/NUJSyOy7NT8NwUEFa/A1P0LZkispbDY/ypBlbJkPNz9mAY8/0ZE3P8HMmk9kyjc/",
          "dtype": "f8"
         },
         "yaxis": "y"
        },
        {
         "hovertemplate": "Entity=Ukraine<br>Year=%{x}<br>gdp=%{y}<extra></extra>",
         "legendgroup": "Ukraine",
         "line": {
          "color": "#FECB52",
          "dash": "solid"
         },
         "marker": {
          "symbol": "circle"
         },
         "mode": "lines",
         "name": "Ukraine",
         "showlegend": true,
         "type": "scattergl",
         "x": {
          "bdata": "wwfEB8UHxgfHB8gHyQfKB8sHzAfNB84HzwfQB9EH0gfTB9QH1QfWB9cH2AfZB9oH2wfcB90H3gffB+AH4Qc=",
          "dtype": "i2"
         },
         "xaxis": "x",
         "y": {
          "bdata": "7Z4Z5fbdej9vusKVsFJ6P3DQWD1SS3k/HOoR97uadj9L98aCWl10P/v6NljsB3I/avQjhYB1bj91yu7oHclmP6XI4BrdWmM/1oc3a4vYYD8pGFCX14NfP3QqFHvfJ14/F/QEEcAfXT9UZ3M4U4ZdPwZI9/YjoV8/4wCiLXhIYD8mHU7/3U9hP+EN/bEalWI/1VinC8hhYj/bkujFPeliP/WbnDRxlGM/Qk+OKrSrYz9hXVLCOg5hP7kuPuEkCmE/bpH8MQBsYT+z7gk7VAlhP02Df0LlmGA/Zr8thaEpXj8f09rs+JtaPyxokmT2lVo/JxMknQR1Wj8=",
          "dtype": "f8"
         },
         "yaxis": "y"
        },
        {
         "hovertemplate": "Entity=United Arab Emirates<br>Year=%{x}<br>gdp=%{y}<extra></extra>",
         "legendgroup": "United Arab Emirates",
         "line": {
          "color": "#636efa",
          "dash": "solid"
         },
         "marker": {
          "symbol": "circle"
         },
         "mode": "lines",
         "name": "United Arab Emirates",
         "showlegend": true,
         "type": "scattergl",
         "x": {
          "bdata": "twe4B7kHuge7B7wHvQe+B78HwAfBB8IHwwfEB8UHxgfHB8gHyQfKB8sHzAfNB84HzwfQB9EH0gfTB9QH1QfWB9cH2AfZB9oH2wfcB90H3gffB+AH4Qc=",
          "dtype": "i2"
         },
         "xaxis": "x",
         "y": {
          "bdata": "lJtwkPxMZj/xhIRbz6poP64zxO+x0Ww/09UpTHlJaz9feIC6z65vPwcFW1J/83I/V1E+JNRzcz8v2N+pfxJyP9tUQ43PznA/b/ECwjS3cD+8To1ACBBvP3dymrvsjmk/g7/w/FtQaT/xYxTSJYxnP5V8FveXeGg/AF9IdE+haz/F1z++eGlrP+j+yPDNxms/QtU7PXKyaz8i8WLXS71sPwmwusr8qW0/6jVDE8ZZbj+aoO7+O6pvP7SCJkHt+W4/LtzVIq7Ybj97d/wl211wP0GC47jkR3A/tLAIMHlScD9K7P0UKUJxP/4v35I1G3I/j+sm0GtJcj9mdu5dEUJzP0U2zkZUEXM/8gklCLxScz8ozDqDNKJyP6um6Y/0JnI/j5I+/i/Rcj/OBXSxJS5zP3FCHJ6jonM/8WamFM3ucz+uEw6O8nl0P3Ei0R4tmHQ/tKcdnx8ndD8=",
          "dtype": "f8"
         },
         "yaxis": "y"
        },
        {
         "hovertemplate": "Entity=United Kingdom<br>Year=%{x}<br>gdp=%{y}<extra></extra>",
         "legendgroup": "United Kingdom",
         "line": {
          "color": "#EF553B",
          "dash": "solid"
         },
         "marker": {
          "symbol": "circle"
         },
         "mode": "lines",
         "name": "United Kingdom",
         "showlegend": true,
         "type": "scattergl",
         "x": {
          "bdata": "qAepB6oHqwesB60HrgevB7AHsQeyB7MHtAe1B7YHtwe4B7kHuge7B7wHvQe+B78HwAfBB8IHwwfEB8UHxgfHB8gHyQfKB8sHzAfNB84HzwfQB9EH0gfTB9QH1QfWB9cH2AfZB9oH2wfcB90H3gffB+AH4Qc=",
          "dtype": "i2"
         },
         "xaxis": "x",
         "y": {
          "bdata": "iQAenfiMtD8oVgTi4Cq0P+O8eT6rW7M/yBYpgKIgsz9GKbGE7tWyP8hE1SrOTrI/d1nK5EqisT8Jg1liVkaxPw5qFVz3zbA/muVbGSgosD9uW5R/H7OtP3bPRpIedq0/8Z8R8+sNrT8DCRPipAqtP2m1yX/EwKs/uTOxmOQOqz9atFm5nW6qP9mGb5rqDKo/b4/wJfodqj8vsMPFAQSqP6IsOZZjnag/V5HSPHv0pz+bG5yXkVaoP0mVvogxxKg/NW9sNOQ3qD9zlaPTFlKoP1vumWEVRKg/7W9cnTh7qD+0L7VnwrqoP7Gs4pr7dqc/hYwwBtmNpj+IS0TZtfGlP4domanHmKU/3GtOe9zNpT+6eoaag/ylPyBiwKnky6U/UUFO0yedpT/DFHzNNq+lPzZsXY6R0KU/+v2N9SbKpT8Roc7ZgJ+lP8eKhTmrwKU/15pesyLQpT9JILWjWuelP1x9TtoieKU/06JbBs9RpT/jqhEXb/GkP/jasI/ZkaQ/0q6r5egapD+a+Is5gZqjP5hKsvFAHaM/3PPykqnMoj+zrQzWh5yiP66WtCo8gqI/RCPjbBWMoj+kWLQ6V4+iPzQvzIPleaI/wO9Fnj5Coj8=",
          "dtype": "f8"
         },
         "yaxis": "y"
        },
        {
         "hovertemplate": "Entity=United States<br>Year=%{x}<br>gdp=%{y}<extra></extra>",
         "legendgroup": "United States",
         "line": {
          "color": "#00cc96",
          "dash": "solid"
         },
         "marker": {
          "symbol": "circle"
         },
         "mode": "lines",
         "name": "United States",
         "showlegend": true,
         "type": "scattergl",
         "x": {
          "bdata": "qAepB6oHqwesB60HrgevB7AHsQeyB7MHtAe1B7YHtwe4B7kHuge7B7wHvQe+B78HwAfBB8IHwwfEB8UHxgfHB8gHyQfKB8sHzAfNB84HzwfQB9EH0gfTB9QH1QfWB9cH2AfZB9oH2wfcB90H3gffB+AH4Qc=",
          "dtype": "i2"
         },
         "xaxis": "x",
         "y": {
          "bdata": "0mBfImvT1T8tH0psnVzVP4gW8ExXeNU/JmnIhQxO1T97jCVPyiHVP7z2AqvpQtU/l1F8vTZf1T+pOQpfq/nUP5NCnmB3kNQ/sCn4+IP50z/nub7uacbRP6FjAw+qmdE/AFpFu16E0T9DGOwu913RP2DNCup57dA/zGIBPO+30D8QMkE/f7nQPytnynfg1NA/05eBVUYY0T/+bs+bgO/QP/QtAyC2UNA/lnvHtJ1q0D+egd1BsgnQPyKb6lVkYtA/RpLwrmbN0D90JrJfYOHQP2Znn5/Z59A/h4Qq78XB0D9hEBA7Aq7QPzzCeIMI/88/aLvTEfQdzz9PcPih3pXOP9n1UwgqDs8/5Bi76KFrzz9rjBOPKrvPPw37zFuViM8/KU96oB2nzz8DofsdoeTPP2HqNgMXP9A/9uVNRWp10D8mUKotd2bQP94JB+kHP9A/Dk6ZFD0v0D9MRkMTkCvQP8dt4ifLEdA/Av5lbvT9zz/4oXH0333PPzgv81hswc4/0c9zF5Mdzj+kcyV7CczNPy+JvZrmSs0/sz6m6TbazD/+6DtM3MXMPzf5WXZJgsw/ibKdoghvzD/ZddPUuZjMP4Bssxd6V8w/BQnrbFskzD8=",
          "dtype": "f8"
         },
         "yaxis": "y"
        },
        {
         "hovertemplate": "Entity=United States Virgin Islands<br>Year=%{x}<br>gdp=%{y}<extra></extra>",
         "legendgroup": "United States Virgin Islands",
         "line": {
          "color": "#ab63fa",
          "dash": "solid"
         },
         "marker": {
          "symbol": "circle"
         },
         "mode": "lines",
         "name": "United States Virgin Islands",
         "showlegend": true,
         "type": "scattergl",
         "x": {
          "bdata": "0gfTB9QH1QfWB9cH2AfZB9oH2wfcB90H3gffBw==",
          "dtype": "i2"
         },
         "xaxis": "x",
         "y": {
          "bdata": "z1xLaWsyFD/KNw11ApATP/fM9xJDSBM/NeKU/1Q/Ez9w7+cPlx8TPzlYcgcsFxM/zpocSansEj8IjKE90voRP6dYPM0PZRE/SW/IR575Dj+kHzPK360JPyLDOGWFkgc/ejW6O2OzBj96+W3GHT0GPw==",
          "dtype": "f8"
         },
         "yaxis": "y"
        },
        {
         "hovertemplate": "Entity=Uruguay<br>Year=%{x}<br>gdp=%{y}<extra></extra>",
         "legendgroup": "Uruguay",
         "line": {
          "color": "#FFA15A",
          "dash": "solid"
         },
         "marker": {
          "symbol": "circle"
         },
         "mode": "lines",
         "name": "Uruguay",
         "showlegend": true,
         "type": "scattergl",
         "x": {
          "bdata": "qAepB6oHqwesB60HrgevB7AHsQeyB7MHtAe1B7YHtwe4B7kHuge7B7wHvQe+B78HwAfBB8IHwwfEB8UHxgfHB8gHyQfKB8sHzAfNB84HzwfQB9EH0gfTB9QH1QfWB9cH2AfZB9oH2wfcB90H3gffB+AH4Qc=",
          "dtype": "i2"
         },
         "xaxis": "x",
         "y": {
          "bdata": "Ah7gOng6WT8ciDa0Er1YP4MZG6rEEFc/xE2hhfT1VT+Vc8CdRBdVPz759ST0JlQ/1fM1DWqaUz8q2PnLbRVSP/Wy6GKnPFE/qanjlBAxUT8G99MdiVZOP6Dq+ZsTAk0/f4XHhcUQSz/kH95fYnhJP2O6FTVqrUk/OFqIK6r1Sj+xwdtNJplKP/Wxs1Yj9kk/LmY2mhdSSj/z0hk/7dZKP77AaEo+b0s/gW0DWIRTSz+SeI2cdo9IP/J9xmIshEU/gVODeztWRD9eT73tTuNDPyALdwbs70Q/nR6SqXOpRT9k7UE8qP9EP568jVfZo0M/v0TsF9/LQj/hpOmMrCRDP04zDEo/QkQ/TrjB8rV6RD9wL46tn1NFP4yvbECMVUQ/aJD63/LCRD+3SCQKa7tFP8YjapTKJ0Y/nfesp0cGRT+Qp9RU57xDP6KyHvCBnkI/OmtRLWHQQD+J4yrf1XhAPyCJqBTIj0A/cB8G5G4kQT8eSicEDhxBP7XvarvZfUE/qMRwIA9pQj+7aON/3odDPy3KA8zuL0Q/RCRYXaqURD9O6D0bsclEP4YiYltiMkU/fdI1h2ZHRT98llg67+FEP3Uebcz2vEQ/8ZQ+YVGrRD8=",
          "dtype": "f8"
         },
         "yaxis": "y"
        },
        {
         "hovertemplate": "Entity=Uzbekistan<br>Year=%{x}<br>gdp=%{y}<extra></extra>",
         "legendgroup": "Uzbekistan",
         "line": {
          "color": "#19d3f3",
          "dash": "solid"
         },
         "marker": {
          "symbol": "circle"
         },
         "mode": "lines",
         "name": "Uzbekistan",
         "showlegend": true,
         "type": "scattergl",
         "x": {
          "bdata": "wwfEB8UHxgfHB8gHyQfKB8sHzAfNB84HzwfQB9EH0gfTB9QH1QfWB9cH2AfZB9oH2wfcB90H3gffB+AH4Qc=",
          "dtype": "i2"
         },
         "xaxis": "x",
         "y": {
          "bdata": "cRThDhinQj8a5Gx5LXJDP/gXdGuci0I/t5QXJ6/6QT/+o8WPIplBP0Wp/cUepT4/ud5Eqox7PT9zKloCZSE7P8qcrHn4Ajo/JSRzBTCVOT/fPDvN7vM5PxqxBDkrZzo/Ge/AiEKmOj+Nz47x+Ho6P3AqW761ETs/vriXLYyNOz/Kr18zy+Y7PxAhxYMKxjw/HFFxEainPT/W4WJQMII+PwEweRztFkA/qCubfA45QT9hsNMgaPJCP2h/D3nXtUM/Ie+4YbCxRD/LLljz79dFP9pVf7Ms/UY/u+5bio8YSD+/Iy87znFJPyKhK99xyUo/x9buQ6NiSz8=",
          "dtype": "f8"
         },
         "yaxis": "y"
        },
        {
         "hovertemplate": "Entity=Vanuatu<br>Year=%{x}<br>gdp=%{y}<extra></extra>",
         "legendgroup": "Vanuatu",
         "line": {
          "color": "#FF6692",
          "dash": "solid"
         },
         "marker": {
          "symbol": "circle"
         },
         "mode": "lines",
         "name": "Vanuatu",
         "showlegend": true,
         "type": "scattergl",
         "x": {
          "bdata": "uwe8B70Hvge/B8AHwQfCB8MHxAfFB8YHxwfIB8kHygfLB8wHzQfOB88H0AfRB9IH0wfUB9UH1gfXB9gH2QfaB9sH3AfdB94H3wfgB+EH",
          "dtype": "i2"
         },
         "xaxis": "x",
         "y": {
          "bdata": "VDiYe6zo5j7LAPkrE5rjPpB4HW8yCOQ+wSPp/AoW5j4N6qnIGozoPm/iS7U8uOk+oO6f4kUI6T4PmVuy9C/oPoJ4j5xygOY+s/ppLmcg5T6dwzUG99fjPqrSRqzJJuU+iplwg3B15T64UEiG8pXlPqu/4bRZauU+pxk7AqSr5j6w/ejmpCfmPliv1Nib7OU+sHWYx0gu5j6Nb2hP2pDmPp/7jaEa6eU+qEPt6nQ35j4QU7bM7wjlPpTrC5X5iOM+FXaxncrM4z5oahuR5bbjPvhjeib6/uM+ZRdTjITL5D7V5ICTf/zkPr2Jx2hP8OU+vKPWw+QQ5z7N00lT0HnmPpbALtZADuY+kiBpXdjk5T6sAOyFXcHlPuTESCHGpeU+MdEY/A3/5D7sLFP/LVPlPtcwFSfFouU+",
          "dtype": "f8"
         },
         "yaxis": "y"
        },
        {
         "hovertemplate": "Entity=Venezuela<br>Year=%{x}<br>gdp=%{y}<extra></extra>",
         "legendgroup": "Venezuela",
         "line": {
          "color": "#B6E880",
          "dash": "solid"
         },
         "marker": {
          "symbol": "circle"
         },
         "mode": "lines",
         "name": "Venezuela",
         "showlegend": true,
         "type": "scattergl",
         "x": {
          "bdata": "qAepB6oHqwesB60HrgevB7AHsQeyB7MHtAe1B7YHtwe4B7kHuge7B7wHvQe+B78HwAfBB8IHwwfEB8UHxgfHB8gHyQfKB8sHzAfNB84HzwfQB9EH0gfTB9QH1QfWB9cH2AfZB9oH2wfcB90H3gc=",
          "dtype": "i2"
         },
         "xaxis": "x",
         "y": {
          "bdata": "ZTjx0n8Dhz99wuquibiGP/dyE6YUXIc/4vJ+WbMRhz/vdDMY2AiIP5wseTJbrIc/STBfbnOuhj9VTWYlP1WGPzKEQRXwbIY/KDQN+tdGhT9/frduncKDP5G7r7bMOIM/eA9coVhogj/kH/bi24CCP1fwJ3sMgYI/qqT20o7Xgj9ilQhDiUSDP6ce8NX0soM/Bb5cANtlgz9ysKkXncSCP7gAomnXUoE/h3JHVrjtgD+tMmuq3YKAP0yeh2Q/B38/O9+CkiAYfj+Odvsfhg99PyElHraD8n0/K2lFx963fT/1ZQn3Wwp+P7N9ziqSaHk/pkJCPSbQeT+t5afnhtx7Py1Nq6pM+Xw/YQXkrg+cfD9X/xfmYx57P6tJdjj0RXs/3yLx9bNSej+yP4i/RwB7P3BmSGYUano/NsBoRR4JeD8N2FbQatt3P1SR0K3xMng/1DhyajKWdT/D9RNYDVpzP3EZ74AU63U/LuzgYUNKdz/VPvBT7oh4P3H9gfN8mnk/eE6eD5Z4ej8uDu4AfBN6PzNffbAhoXg/tRwZcsffeD8uZJ7Nj6F5Pz1KWcP+T3k/n7YtJKGndz8=",
          "dtype": "f8"
         },
         "yaxis": "y"
        },
        {
         "hovertemplate": "Entity=Vietnam<br>Year=%{x}<br>gdp=%{y}<extra></extra>",
         "legendgroup": "Vietnam",
         "line": {
          "color": "#FF97FF",
          "dash": "solid"
         },
         "marker": {
          "symbol": "circle"
         },
         "mode": "lines",
         "name": "Vietnam",
         "showlegend": true,
         "type": "scattergl",
         "x": {
          "bdata": "wAfBB8IHwwfEB8UHxgfHB8gHyQfKB8sHzAfNB84HzwfQB9EH0gfTB9QH1QfWB9cH2AfZB9oH2wfcB90H3gffB+AH4Qc=",
          "dtype": "i2"
         },
         "xaxis": "x",
         "y": {
          "bdata": "wTM5M9Y1Sj+K+jewADlKP4Syy/QkFEo/QsJTNTHhST8dzfPulv1JPxpaU9Zy0Ek/d6MfpXrjST+KqyPkrvtKP3z8636Zvkw/oRrXHhuXTj9KA0s5wihQPyuZHRMCIFE/iYw3SqQbUj8LWxR7q+JSP/8LYcWVe1M/cPSZff/AUz8ib/CchjFUP9lfvW+LCVU/Qz/U1R3kVT+QmvOoBb5WP0qew4Healc/3bweIhZCWD99vZt/rOFYP+IbINnUk1k/beTIHGSKWj/RiPAErndcPy0hYAA1DF0/AVklx+DqXT/iWGUTqrdeP9GNGfZ3jl8/HAyB9a9CYD+/Vsut6fVgPz1gdl6Wl2E/85fgd1E+Yj8=",
          "dtype": "f8"
         },
         "yaxis": "y"
        },
        {
         "hovertemplate": "Entity=Yemen<br>Year=%{x}<br>gdp=%{y}<extra></extra>",
         "legendgroup": "Yemen",
         "line": {
          "color": "#FECB52",
          "dash": "solid"
         },
         "marker": {
          "symbol": "circle"
         },
         "mode": "lines",
         "name": "Yemen",
         "showlegend": true,
         "type": "scattergl",
         "x": {
          "bdata": "xgfHB8gHyQfKB8sHzAfNB84HzwfQB9EH0gfTB9QH1QfWB9cH2AfZB9oH2wfcB90H3gffB+AH",
          "dtype": "i2"
         },
         "xaxis": "x",
         "y": {
          "bdata": "iT8awV6cND8uG2gdt4w1P/wPMMsd3TY/IU8zAFRqNz9h+A8cykE4P7scdc9fzDg/zg+DS+YXOT+3dHN2wnY5P8w4j99XVDo/oOqHcQxxOj+ypsyTceA6P9MXYw6vXjs/k1CPmHTXOz/kpOxMSRI8P3ctoFFq8js/hkvh+4BsPD/n3X832x08P/qMuVxW4Ts/UkTuHupgPD8W1/iwH/89P3ZuBpHN+T4/6aSOWxE2Oj9kwBfPoi46P2rXm9Kivjo/mx/dUvn0OT+8ubtRS+cvP7u9F0sVdSQ/",
          "dtype": "f8"
         },
         "yaxis": "y"
        },
        {
         "hovertemplate": "Entity=Zambia<br>Year=%{x}<br>gdp=%{y}<extra></extra>",
         "legendgroup": "Zambia",
         "line": {
          "color": "#636efa",
          "dash": "solid"
         },
         "marker": {
          "symbol": "circle"
         },
         "mode": "lines",
         "name": "Zambia",
         "showlegend": true,
         "type": "scattergl",
         "x": {
          "bdata": "qAepB6oHqwesB60HrgevB7AHsQeyB7MHtAe1B7YHtwe4B7kHuge7B7wHvQe+B78HwAfBB8IHwwfEB8UHxgfHB8gHyQfKB8sHzAfNB84HzwfQB9EH0gfTB9QH1QfWB9cH2AfZB9oH2wfcB90H3gffB+AH4Qc=",
          "dtype": "i2"
         },
         "xaxis": "x",
         "y": {
          "bdata": "3LzhyrWsQD9zYnHRnCtAP6Y4ZIZw3z0/pgHd6KFSPT+cQFLRG9k+P7jX9rBYA0E/kbTNXZ1TPj+gl/0paFY/P50dBratrj0/yKCeKJjXOz+GT5aZbyg5P7u+CzNWGDg/NO46+kzhOD8qcMPr7h83P/vsRR/9HDg/X565kipSNz+FIZToqIM3PwstNLHuljU/olfOcBTjND+JMLP49XIzP3WnT9xTWjM/g9OLwrAmND+dvDg5YoEzP6uPG12FqzI/Cw25M1jKMT/9lSpBV2wxP8O1Fhm4+jA/UNsKuL2zMD+J8dwk3fQwPw/F0M4nDS8/Ipf9NaV8LT9dan4tgv4sP7ZYAT/R7ys/ZZm2uzhhLT+OFxoLFQ8qP2ruxA4T8Sk/M2M/LcmlKj+bwtVvTK0qP5Qa0RGe6yk/p5uo3wpAKj8X8BERqhsqP2g7FbCD+So/jVvYdx6XKz9xQQwT6KwsP0tDXFFrYy0/eHKPi+1aLj9VVcukmWcvP8CgqGFnUzA/ZhS8TnhHMT8WVORksjQzP/A0tHOSTzQ/nZKfvTXJND+AoOqPftE1P2e2y0FWVjY//zimOIC9Nj9R7t6sKeI2P1+aZZ/sLzc/HH5KJwhuNz8=",
          "dtype": "f8"
         },
         "yaxis": "y"
        },
        {
         "hovertemplate": "Entity=Zimbabwe<br>Year=%{x}<br>gdp=%{y}<extra></extra>",
         "legendgroup": "Zimbabwe",
         "line": {
          "color": "#EF553B",
          "dash": "solid"
         },
         "marker": {
          "symbol": "circle"
         },
         "mode": "lines",
         "name": "Zimbabwe",
         "showlegend": true,
         "type": "scattergl",
         "x": {
          "bdata": "qAepB6oHqwesB60HrgevB7AHsQeyB7MHtAe1B7YHtwe4B7kHuge7B7wHvQe+B78HwAfBB8IHwwfEB8UHxgfHB8gHyQfKB8sHzAfNB84HzwfQB9EH0gfTB9QH1QfWB9cH2AfZB9oH2wfcB90H3gffB+AH4Qc=",
          "dtype": "i2"
         },
         "xaxis": "x",
         "y": {
          "bdata": "Yhrq0strOD/g5q6dFdc4P4wfI6VH3jc//KEP0WAaOD8l6waYzFg2P2qe3OlAKzY/cHlDJiw+NT/sYD+AvQo2Pyf8JNfNBjU/DD7vtIRFNj/+/QVLU4k3P0eeIxfKkjg/fdGKYHQrOT9rCHnsiTw4PxkE7kK8UTk/qajvsXSSOD8LQmLF5W43P4hDIn1V/zQ/5Gx7esenMz/fHcMvw34zP44dTbfNijU/D7dMDyTGNz+Q3umnS004P31sxe2ZGjg/I1YZ4zqbNj9j7eWcBE03P/t6lfVtBDc/lhVHfCBONj+kQ8IXdeo2P1IyJxotTTY/Adk/SHPENj/mtocDRqI3PwWHuXt6FTU/rbM60+D6ND/F+MA/9T42P1HW1y1ljjU/A5Y2bZwBNz+WCOClucc2P9dprpFl3DY/c1ZHKS3xNT+i2gHqs1w0P4GE04JzQzQ/chCa2YMRMj+0ooKTiiYtP2DqCl6XSio/ZvP4GLHgJz+Ur7CX8BkmP16E/gnHbiQ/fjfpS0SFID93Mm5MUdUiPx5cJHM7VCQ/eAZp+oDAJj8s7M3y3nkpPxeHYWPhMio/MeZxxVoEKj8Ur1djLt4pP9wd9i7saik/N6NHfTqHKT8=",
          "dtype": "f8"
         },
         "yaxis": "y"
        }
       ],
       "layout": {
        "legend": {
         "title": {
          "text": "Entity"
         },
         "tracegroupgap": 0
        },
        "margin": {
         "t": 60
        },
        "template": {
         "data": {
          "bar": [
           {
            "error_x": {
             "color": "#2a3f5f"
            },
            "error_y": {
             "color": "#2a3f5f"
            },
            "marker": {
             "line": {
              "color": "#E5ECF6",
              "width": 0.5
             },
             "pattern": {
              "fillmode": "overlay",
              "size": 10,
              "solidity": 0.2
             }
            },
            "type": "bar"
           }
          ],
          "barpolar": [
           {
            "marker": {
             "line": {
              "color": "#E5ECF6",
              "width": 0.5
             },
             "pattern": {
              "fillmode": "overlay",
              "size": 10,
              "solidity": 0.2
             }
            },
            "type": "barpolar"
           }
          ],
          "carpet": [
           {
            "aaxis": {
             "endlinecolor": "#2a3f5f",
             "gridcolor": "white",
             "linecolor": "white",
             "minorgridcolor": "white",
             "startlinecolor": "#2a3f5f"
            },
            "baxis": {
             "endlinecolor": "#2a3f5f",
             "gridcolor": "white",
             "linecolor": "white",
             "minorgridcolor": "white",
             "startlinecolor": "#2a3f5f"
            },
            "type": "carpet"
           }
          ],
          "choropleth": [
           {
            "colorbar": {
             "outlinewidth": 0,
             "ticks": ""
            },
            "type": "choropleth"
           }
          ],
          "contour": [
           {
            "colorbar": {
             "outlinewidth": 0,
             "ticks": ""
            },
            "colorscale": [
             [
              0,
              "#0d0887"
             ],
             [
              0.1111111111111111,
              "#46039f"
             ],
             [
              0.2222222222222222,
              "#7201a8"
             ],
             [
              0.3333333333333333,
              "#9c179e"
             ],
             [
              0.4444444444444444,
              "#bd3786"
             ],
             [
              0.5555555555555556,
              "#d8576b"
             ],
             [
              0.6666666666666666,
              "#ed7953"
             ],
             [
              0.7777777777777778,
              "#fb9f3a"
             ],
             [
              0.8888888888888888,
              "#fdca26"
             ],
             [
              1,
              "#f0f921"
             ]
            ],
            "type": "contour"
           }
          ],
          "contourcarpet": [
           {
            "colorbar": {
             "outlinewidth": 0,
             "ticks": ""
            },
            "type": "contourcarpet"
           }
          ],
          "heatmap": [
           {
            "colorbar": {
             "outlinewidth": 0,
             "ticks": ""
            },
            "colorscale": [
             [
              0,
              "#0d0887"
             ],
             [
              0.1111111111111111,
              "#46039f"
             ],
             [
              0.2222222222222222,
              "#7201a8"
             ],
             [
              0.3333333333333333,
              "#9c179e"
             ],
             [
              0.4444444444444444,
              "#bd3786"
             ],
             [
              0.5555555555555556,
              "#d8576b"
             ],
             [
              0.6666666666666666,
              "#ed7953"
             ],
             [
              0.7777777777777778,
              "#fb9f3a"
             ],
             [
              0.8888888888888888,
              "#fdca26"
             ],
             [
              1,
              "#f0f921"
             ]
            ],
            "type": "heatmap"
           }
          ],
          "histogram": [
           {
            "marker": {
             "pattern": {
              "fillmode": "overlay",
              "size": 10,
              "solidity": 0.2
             }
            },
            "type": "histogram"
           }
          ],
          "histogram2d": [
           {
            "colorbar": {
             "outlinewidth": 0,
             "ticks": ""
            },
            "colorscale": [
             [
              0,
              "#0d0887"
             ],
             [
              0.1111111111111111,
              "#46039f"
             ],
             [
              0.2222222222222222,
              "#7201a8"
             ],
             [
              0.3333333333333333,
              "#9c179e"
             ],
             [
              0.4444444444444444,
              "#bd3786"
             ],
             [
              0.5555555555555556,
              "#d8576b"
             ],
             [
              0.6666666666666666,
              "#ed7953"
             ],
             [
              0.7777777777777778,
              "#fb9f3a"
             ],
             [
              0.8888888888888888,
              "#fdca26"
             ],
             [
              1,
              "#f0f921"
             ]
            ],
            "type": "histogram2d"
           }
          ],
          "histogram2dcontour": [
           {
            "colorbar": {
             "outlinewidth": 0,
             "ticks": ""
            },
            "colorscale": [
             [
              0,
              "#0d0887"
             ],
             [
              0.1111111111111111,
              "#46039f"
             ],
             [
              0.2222222222222222,
              "#7201a8"
             ],
             [
              0.3333333333333333,
              "#9c179e"
             ],
             [
              0.4444444444444444,
              "#bd3786"
             ],
             [
              0.5555555555555556,
              "#d8576b"
             ],
             [
              0.6666666666666666,
              "#ed7953"
             ],
             [
              0.7777777777777778,
              "#fb9f3a"
             ],
             [
              0.8888888888888888,
              "#fdca26"
             ],
             [
              1,
              "#f0f921"
             ]
            ],
            "type": "histogram2dcontour"
           }
          ],
          "mesh3d": [
           {
            "colorbar": {
             "outlinewidth": 0,
             "ticks": ""
            },
            "type": "mesh3d"
           }
          ],
          "parcoords": [
           {
            "line": {
             "colorbar": {
              "outlinewidth": 0,
              "ticks": ""
             }
            },
            "type": "parcoords"
           }
          ],
          "pie": [
           {
            "automargin": true,
            "type": "pie"
           }
          ],
          "scatter": [
           {
            "fillpattern": {
             "fillmode": "overlay",
             "size": 10,
             "solidity": 0.2
            },
            "type": "scatter"
           }
          ],
          "scatter3d": [
           {
            "line": {
             "colorbar": {
              "outlinewidth": 0,
              "ticks": ""
             }
            },
            "marker": {
             "colorbar": {
              "outlinewidth": 0,
              "ticks": ""
             }
            },
            "type": "scatter3d"
           }
          ],
          "scattercarpet": [
           {
            "marker": {
             "colorbar": {
              "outlinewidth": 0,
              "ticks": ""
             }
            },
            "type": "scattercarpet"
           }
          ],
          "scattergeo": [
           {
            "marker": {
             "colorbar": {
              "outlinewidth": 0,
              "ticks": ""
             }
            },
            "type": "scattergeo"
           }
          ],
          "scattergl": [
           {
            "marker": {
             "colorbar": {
              "outlinewidth": 0,
              "ticks": ""
             }
            },
            "type": "scattergl"
           }
          ],
          "scattermap": [
           {
            "marker": {
             "colorbar": {
              "outlinewidth": 0,
              "ticks": ""
             }
            },
            "type": "scattermap"
           }
          ],
          "scattermapbox": [
           {
            "marker": {
             "colorbar": {
              "outlinewidth": 0,
              "ticks": ""
             }
            },
            "type": "scattermapbox"
           }
          ],
          "scatterpolar": [
           {
            "marker": {
             "colorbar": {
              "outlinewidth": 0,
              "ticks": ""
             }
            },
            "type": "scatterpolar"
           }
          ],
          "scatterpolargl": [
           {
            "marker": {
             "colorbar": {
              "outlinewidth": 0,
              "ticks": ""
             }
            },
            "type": "scatterpolargl"
           }
          ],
          "scatterternary": [
           {
            "marker": {
             "colorbar": {
              "outlinewidth": 0,
              "ticks": ""
             }
            },
            "type": "scatterternary"
           }
          ],
          "surface": [
           {
            "colorbar": {
             "outlinewidth": 0,
             "ticks": ""
            },
            "colorscale": [
             [
              0,
              "#0d0887"
             ],
             [
              0.1111111111111111,
              "#46039f"
             ],
             [
              0.2222222222222222,
              "#7201a8"
             ],
             [
              0.3333333333333333,
              "#9c179e"
             ],
             [
              0.4444444444444444,
              "#bd3786"
             ],
             [
              0.5555555555555556,
              "#d8576b"
             ],
             [
              0.6666666666666666,
              "#ed7953"
             ],
             [
              0.7777777777777778,
              "#fb9f3a"
             ],
             [
              0.8888888888888888,
              "#fdca26"
             ],
             [
              1,
              "#f0f921"
             ]
            ],
            "type": "surface"
           }
          ],
          "table": [
           {
            "cells": {
             "fill": {
              "color": "#EBF0F8"
             },
             "line": {
              "color": "white"
             }
            },
            "header": {
             "fill": {
              "color": "#C8D4E3"
             },
             "line": {
              "color": "white"
             }
            },
            "type": "table"
           }
          ]
         },
         "layout": {
          "annotationdefaults": {
           "arrowcolor": "#2a3f5f",
           "arrowhead": 0,
           "arrowwidth": 1
          },
          "autotypenumbers": "strict",
          "coloraxis": {
           "colorbar": {
            "outlinewidth": 0,
            "ticks": ""
           }
          },
          "colorscale": {
           "diverging": [
            [
             0,
             "#8e0152"
            ],
            [
             0.1,
             "#c51b7d"
            ],
            [
             0.2,
             "#de77ae"
            ],
            [
             0.3,
             "#f1b6da"
            ],
            [
             0.4,
             "#fde0ef"
            ],
            [
             0.5,
             "#f7f7f7"
            ],
            [
             0.6,
             "#e6f5d0"
            ],
            [
             0.7,
             "#b8e186"
            ],
            [
             0.8,
             "#7fbc41"
            ],
            [
             0.9,
             "#4d9221"
            ],
            [
             1,
             "#276419"
            ]
           ],
           "sequential": [
            [
             0,
             "#0d0887"
            ],
            [
             0.1111111111111111,
             "#46039f"
            ],
            [
             0.2222222222222222,
             "#7201a8"
            ],
            [
             0.3333333333333333,
             "#9c179e"
            ],
            [
             0.4444444444444444,
             "#bd3786"
            ],
            [
             0.5555555555555556,
             "#d8576b"
            ],
            [
             0.6666666666666666,
             "#ed7953"
            ],
            [
             0.7777777777777778,
             "#fb9f3a"
            ],
            [
             0.8888888888888888,
             "#fdca26"
            ],
            [
             1,
             "#f0f921"
            ]
           ],
           "sequentialminus": [
            [
             0,
             "#0d0887"
            ],
            [
             0.1111111111111111,
             "#46039f"
            ],
            [
             0.2222222222222222,
             "#7201a8"
            ],
            [
             0.3333333333333333,
             "#9c179e"
            ],
            [
             0.4444444444444444,
             "#bd3786"
            ],
            [
             0.5555555555555556,
             "#d8576b"
            ],
            [
             0.6666666666666666,
             "#ed7953"
            ],
            [
             0.7777777777777778,
             "#fb9f3a"
            ],
            [
             0.8888888888888888,
             "#fdca26"
            ],
            [
             1,
             "#f0f921"
            ]
           ]
          },
          "colorway": [
           "#636efa",
           "#EF553B",
           "#00cc96",
           "#ab63fa",
           "#FFA15A",
           "#19d3f3",
           "#FF6692",
           "#B6E880",
           "#FF97FF",
           "#FECB52"
          ],
          "font": {
           "color": "#2a3f5f"
          },
          "geo": {
           "bgcolor": "white",
           "lakecolor": "white",
           "landcolor": "#E5ECF6",
           "showlakes": true,
           "showland": true,
           "subunitcolor": "white"
          },
          "hoverlabel": {
           "align": "left"
          },
          "hovermode": "closest",
          "mapbox": {
           "style": "light"
          },
          "paper_bgcolor": "white",
          "plot_bgcolor": "#E5ECF6",
          "polar": {
           "angularaxis": {
            "gridcolor": "white",
            "linecolor": "white",
            "ticks": ""
           },
           "bgcolor": "#E5ECF6",
           "radialaxis": {
            "gridcolor": "white",
            "linecolor": "white",
            "ticks": ""
           }
          },
          "scene": {
           "xaxis": {
            "backgroundcolor": "#E5ECF6",
            "gridcolor": "white",
            "gridwidth": 2,
            "linecolor": "white",
            "showbackground": true,
            "ticks": "",
            "zerolinecolor": "white"
           },
           "yaxis": {
            "backgroundcolor": "#E5ECF6",
            "gridcolor": "white",
            "gridwidth": 2,
            "linecolor": "white",
            "showbackground": true,
            "ticks": "",
            "zerolinecolor": "white"
           },
           "zaxis": {
            "backgroundcolor": "#E5ECF6",
            "gridcolor": "white",
            "gridwidth": 2,
            "linecolor": "white",
            "showbackground": true,
            "ticks": "",
            "zerolinecolor": "white"
           }
          },
          "shapedefaults": {
           "line": {
            "color": "#2a3f5f"
           }
          },
          "ternary": {
           "aaxis": {
            "gridcolor": "white",
            "linecolor": "white",
            "ticks": ""
           },
           "baxis": {
            "gridcolor": "white",
            "linecolor": "white",
            "ticks": ""
           },
           "bgcolor": "#E5ECF6",
           "caxis": {
            "gridcolor": "white",
            "linecolor": "white",
            "ticks": ""
           }
          },
          "title": {
           "x": 0.05
          },
          "xaxis": {
           "automargin": true,
           "gridcolor": "white",
           "linecolor": "white",
           "ticks": "",
           "title": {
            "standoff": 15
           },
           "zerolinecolor": "white",
           "zerolinewidth": 2
          },
          "yaxis": {
           "automargin": true,
           "gridcolor": "white",
           "linecolor": "white",
           "ticks": "",
           "title": {
            "standoff": 15
           },
           "zerolinecolor": "white",
           "zerolinewidth": 2
          }
         }
        },
        "xaxis": {
         "anchor": "y",
         "domain": [
          0,
          1
         ],
         "title": {
          "text": "Year"
         }
        },
        "yaxis": {
         "anchor": "x",
         "domain": [
          0,
          1
         ],
         "title": {
          "text": "gdp"
         }
        }
       }
      }
     },
     "metadata": {},
     "output_type": "display_data"
    }
   ],
   "source": [
    "px.line(share_of_world_economy, x='Year', y='gdp', color='Entity')"
   ]
  },
  {
   "cell_type": "code",
   "execution_count": 267,
   "id": "3e097fdb-3605-472a-8756-ca7f14b94101",
   "metadata": {},
   "outputs": [
    {
     "data": {
      "application/vnd.plotly.v1+json": {
       "config": {
        "plotlyServerURL": "https://plot.ly"
       },
       "data": [
        {
         "hovertemplate": "Entity=China<br>Year=%{x}<br>gdp=%{y}<extra></extra>",
         "legendgroup": "China",
         "line": {
          "color": "#636efa",
          "dash": "solid"
         },
         "marker": {
          "symbol": "circle"
         },
         "mode": "lines",
         "name": "China",
         "orientation": "v",
         "showlegend": true,
         "type": "scatter",
         "x": {
          "bdata": "qAepB6oHqwesB60HrgevB7AHsQeyB7MHtAe1B7YHtwe4B7kHuge7B7wHvQe+B78HwAfBB8IHwwfEB8UHxgfHB8gHyQfKB8sHzAfNB84HzwfQB9EH0gfTB9QH1QfWB9cH2AfZB9oH2wfcB90H3gffB+AH4Qc=",
          "dtype": "i2"
         },
         "xaxis": "x",
         "y": {
          "bdata": "16YRsZoHjT97mOP8JDOEPx4JuS42EYI/rKnJbP/wgj8J/IEKcfyEP8rWavdLNYc/YRTkh+g8iD+k9Et7aN6FP4mO9t2ZnoM/RoUH2HqdhT/N+ZJz9TuGPwBx0tVh0YY/39T1ooJlhj96U2bpT6aGP51moH03tIY/ZohJVVRtiD+rRya3tNKGPwLQxM2Hnoc/Qg3vd0RgiT+mPqSJtzeKPyp9LHvCS4s/B2gZ2sUnjD+RvYbHGoyOP/nVsHpSh5A/wxFJ+xEykj/IPLPE7+STP8CwX3wJ+JQ/nNiqDupvlj8eOmV2M9eXPyXB9PdT+pY/mNfNgELIlj8VF5fqEH6YP/fybA7NbZs/Xf9YfF3Bnj9r+5qzFOCgP8PkJpgqHaI/NZ+6KrdBoz9UkrL4pUikP2Ro/8rjVaU/fWDmCt06pj+BJ3gAVhanP+w4TNDMiag/RhsbiH81qj+aCRJF5wasP6yvuxzPjK0/Bu3yHM+0rz+iDRxFHCKxPwlt3/Wvx7I/8eLjfTk5tD84uEXJ84O2PyDI2ro/4rc/cmM/P7ZcuT+DHd0akK+6Px4VuqirBbw/gT7LBZU8vT+rLYDP/46+P9qCLPmq178/DTjMfzOGwD8=",
          "dtype": "f8"
         },
         "yaxis": "y"
        },
        {
         "hovertemplate": "Entity=Germany<br>Year=%{x}<br>gdp=%{y}<extra></extra>",
         "legendgroup": "Germany",
         "line": {
          "color": "#EF553B",
          "dash": "solid"
         },
         "marker": {
          "symbol": "circle"
         },
         "mode": "lines",
         "name": "Germany",
         "orientation": "v",
         "showlegend": true,
         "type": "scatter",
         "x": {
          "bdata": "sgezB7QHtQe2B7cHuAe5B7oHuwe8B70Hvge/B8AHwQfCB8MHxAfFB8YHxwfIB8kHygfLB8wHzQfOB88H0AfRB9IH0wfUB9UH1gfXB9gH2QfaB9sH3AfdB94H3wfgB+EH",
          "dtype": "i2"
         },
         "xaxis": "x",
         "y": {
          "bdata": "mNMp8N7Rtj9zLgU+To+2PzSUmfltP7Y/ewL5iWLgtT+492wA55+1Py6FPdHZNrU/JaP3bFAitT86qIfkQQO1P7SC5I5B07Q/70JX7HrTtD/K9KSoV2W0P4G7X+T3G7Q/5agnePrysz9bo0ieuMizPyHTUDwec7M/UmrJZ4susz9bgzAWvPuyP7pBVmEWcbI/Ri8VJ+9Esj/G+8/sKI+xPwfR5Me2orE/+wop5Lo7sj/KR+kExTiyPwDO7n6PxbE/Gc1h1cGssT/wDsqBn2WxP/2rzN009rA/sweRabeosD9AYUaYKZKwP7p1o5fPWrA/lLoGJKkesD+Bp7Q6BxWwP8HJQXnZeq8/Vhm5E0dgrj+FzRd5GW2tP6oHEzcyi6w/Ec/R6VRhrD9FRROr0B6sP7u9JC4j6qs/VGkAwcfPqj9b/03SdMGqPyO1p3g446o/WiGHqfJbqj/jftyT8M+pP1qDT7lqlak/CU18+k9zqT8u6DPHZ1apP3/NxOmFJak/",
          "dtype": "f8"
         },
         "yaxis": "y"
        },
        {
         "hovertemplate": "Entity=India<br>Year=%{x}<br>gdp=%{y}<extra></extra>",
         "legendgroup": "India",
         "line": {
          "color": "#00cc96",
          "dash": "solid"
         },
         "marker": {
          "symbol": "circle"
         },
         "mode": "lines",
         "name": "India",
         "orientation": "v",
         "showlegend": true,
         "type": "scatter",
         "x": {
          "bdata": "qAepB6oHqwesB60HrgevB7AHsQeyB7MHtAe1B7YHtwe4B7kHuge7B7wHvQe+B78HwAfBB8IHwwfEB8UHxgfHB8gHyQfKB8sHzAfNB84HzwfQB9EH0gfTB9QH1QfWB9cH2AfZB9oH2wfcB90H3gffB+AH4Qc=",
          "dtype": "i2"
         },
         "xaxis": "x",
         "y": {
          "bdata": "PypFAkAHjz8WZ+A2esqOP0xN0tHSBY4/1NQo4Sc/jj+O7LFSUHiOP6fSnPOXDYw/FJpIqpd2ij8L62UcVlKLP3aa+lnobIo/UW8RiiiGij+p/zR9nQyIPyh+eyqLboc/A8pgC0wIhj/gJn5MuluFP3HYUx+XLIU/UYU81Arfhj/Hg2Y8QxKGP6GsUOo8xoY/TCIr5+Qphz/6HEJekxOFP58gowmwuYU/sa5+10eWhj87ZV5HJUeHP1R2yy5xYog/WOUjanw0iD8ynjqb6Y2IP8TT66VC5Ig/1P2h6PDKiD/UA33LiPaJP34P+wVOcok/KQVZWvOfiT9+NQku3HiJP8OYmCZAWIo/rLpcDLEsiz+OTk0GfSKMP98CFsD6R40/CGPQPXB0jj/oeC/vwI6OP3Wd5BM5po8/afzreSKrkD8YMW7mu5GQP7JAT7EECpE/LyF965lPkT9n7YZTUSWSPwK5RVVswJI/7Zte+hm9kz/sUKAGtq2UP/v7f5l+yZU/UQoNfIU6lj8Z0noMJIqYP1TDq35F8Zk/7zfxdMTRmj+pFpreWJebPxoRBYeompw/0Ga8vQrgnT8q5neKo5efP+aSDKcChqA/WsnRKuQaoT8=",
          "dtype": "f8"
         },
         "yaxis": "y"
        },
        {
         "hovertemplate": "Entity=Japan<br>Year=%{x}<br>gdp=%{y}<extra></extra>",
         "legendgroup": "Japan",
         "line": {
          "color": "#ab63fa",
          "dash": "solid"
         },
         "marker": {
          "symbol": "circle"
         },
         "mode": "lines",
         "name": "Japan",
         "orientation": "v",
         "showlegend": true,
         "type": "scatter",
         "x": {
          "bdata": "qAepB6oHqwesB60HrgevB7AHsQeyB7MHtAe1B7YHtwe4B7kHuge7B7wHvQe+B78HwAfBB8IHwwfEB8UHxgfHB8gHyQfKB8sHzAfNB84HzwfQB9EH0gfTB9QH1QfWB9cH2AfZB9oH2wfcB90H3gffB+AH4Qc=",
          "dtype": "i2"
         },
         "xaxis": "x",
         "y": {
          "bdata": "OavFlkCVtj/+o6LRQDW4P3PoxYGT+bg/PXUzaO+/uT/y3YOen/W6P3RXLE4C+ro/SLKJva0rvD9EV5Qlcva9P2m6t1IkpL8/bUvO8cTDwD94zKH1gwa9P94hVDVpIb0/dm6GbEvcvT/a6eLAP0a+P5mE8n1jTL0/GHP7H9zjvT+67FudKIC9P9tEi5qYoL0/6lSfhhYCvj86kF1eyWS+P+/wqnvoLb4/gj0YCTDYvj9lcYvz3ry/P/FY2zMxCsA/A8zTcrUGwD9F+u9WF0HAP8F/roPfP8A/1KltLNhNwD+YfZBAhaHAP/3uiYLqIcA/IzW/qJolwD+CAfHx9GzAPy7fQALwPcA/X3AqDGHSvz92Xa+nLDK/P2C7agQ8Ar8/bZTmNdbqvj9daX1ilCK+P6bCiFXoD70/9/qtcJ8NvD85nX0n6Jm7PxVJKlwNMLs/IiHE0/2juj9eO9IMM0m6PwW/vKFvubk/wMMNvpYwuT/z2lQoqn64P8qyRXGZ5Lc/jU9gFCQ1tz+BTEi7ola2P4Pwg/LUULY/y+kLNuabtT+6ZSIgUWW1P2BG2TJORLU/oV3P58TBtD/ClPJY3pG0Pw9fNdjMRrQ/qU/8mPcFtD8=",
          "dtype": "f8"
         },
         "yaxis": "y"
        },
        {
         "hovertemplate": "Entity=United Kingdom<br>Year=%{x}<br>gdp=%{y}<extra></extra>",
         "legendgroup": "United Kingdom",
         "line": {
          "color": "#FFA15A",
          "dash": "solid"
         },
         "marker": {
          "symbol": "circle"
         },
         "mode": "lines",
         "name": "United Kingdom",
         "orientation": "v",
         "showlegend": true,
         "type": "scatter",
         "x": {
          "bdata": "qAepB6oHqwesB60HrgevB7AHsQeyB7MHtAe1B7YHtwe4B7kHuge7B7wHvQe+B78HwAfBB8IHwwfEB8UHxgfHB8gHyQfKB8sHzAfNB84HzwfQB9EH0gfTB9QH1QfWB9cH2AfZB9oH2wfcB90H3gffB+AH4Qc=",
          "dtype": "i2"
         },
         "xaxis": "x",
         "y": {
          "bdata": "iQAenfiMtD8oVgTi4Cq0P+O8eT6rW7M/yBYpgKIgsz9GKbGE7tWyP8hE1SrOTrI/d1nK5EqisT8Jg1liVkaxPw5qFVz3zbA/muVbGSgosD9uW5R/H7OtP3bPRpIedq0/8Z8R8+sNrT8DCRPipAqtP2m1yX/EwKs/uTOxmOQOqz9atFm5nW6qP9mGb5rqDKo/b4/wJfodqj8vsMPFAQSqP6IsOZZjnag/V5HSPHv0pz+bG5yXkVaoP0mVvogxxKg/NW9sNOQ3qD9zlaPTFlKoP1vumWEVRKg/7W9cnTh7qD+0L7VnwrqoP7Gs4pr7dqc/hYwwBtmNpj+IS0TZtfGlP4domanHmKU/3GtOe9zNpT+6eoaag/ylPyBiwKnky6U/UUFO0yedpT/DFHzNNq+lPzZsXY6R0KU/+v2N9SbKpT8Roc7ZgJ+lP8eKhTmrwKU/15pesyLQpT9JILWjWuelP1x9TtoieKU/06JbBs9RpT/jqhEXb/GkP/jasI/ZkaQ/0q6r5egapD+a+Is5gZqjP5hKsvFAHaM/3PPykqnMoj+zrQzWh5yiP66WtCo8gqI/RCPjbBWMoj+kWLQ6V4+iPzQvzIPleaI/wO9Fnj5Coj8=",
          "dtype": "f8"
         },
         "yaxis": "y"
        },
        {
         "hovertemplate": "Entity=United States<br>Year=%{x}<br>gdp=%{y}<extra></extra>",
         "legendgroup": "United States",
         "line": {
          "color": "#19d3f3",
          "dash": "solid"
         },
         "marker": {
          "symbol": "circle"
         },
         "mode": "lines",
         "name": "United States",
         "orientation": "v",
         "showlegend": true,
         "type": "scatter",
         "x": {
          "bdata": "qAepB6oHqwesB60HrgevB7AHsQeyB7MHtAe1B7YHtwe4B7kHuge7B7wHvQe+B78HwAfBB8IHwwfEB8UHxgfHB8gHyQfKB8sHzAfNB84HzwfQB9EH0gfTB9QH1QfWB9cH2AfZB9oH2wfcB90H3gffB+AH4Qc=",
          "dtype": "i2"
         },
         "xaxis": "x",
         "y": {
          "bdata": "0mBfImvT1T8tH0psnVzVP4gW8ExXeNU/JmnIhQxO1T97jCVPyiHVP7z2AqvpQtU/l1F8vTZf1T+pOQpfq/nUP5NCnmB3kNQ/sCn4+IP50z/nub7uacbRP6FjAw+qmdE/AFpFu16E0T9DGOwu913RP2DNCup57dA/zGIBPO+30D8QMkE/f7nQPytnynfg1NA/05eBVUYY0T/+bs+bgO/QP/QtAyC2UNA/lnvHtJ1q0D+egd1BsgnQPyKb6lVkYtA/RpLwrmbN0D90JrJfYOHQP2Znn5/Z59A/h4Qq78XB0D9hEBA7Aq7QPzzCeIMI/88/aLvTEfQdzz9PcPih3pXOP9n1UwgqDs8/5Bi76KFrzz9rjBOPKrvPPw37zFuViM8/KU96oB2nzz8DofsdoeTPP2HqNgMXP9A/9uVNRWp10D8mUKotd2bQP94JB+kHP9A/Dk6ZFD0v0D9MRkMTkCvQP8dt4ifLEdA/Av5lbvT9zz/4oXH0333PPzgv81hswc4/0c9zF5Mdzj+kcyV7CczNPy+JvZrmSs0/sz6m6TbazD/+6DtM3MXMPzf5WXZJgsw/ibKdoghvzD/ZddPUuZjMP4Bssxd6V8w/BQnrbFskzD8=",
          "dtype": "f8"
         },
         "yaxis": "y"
        }
       ],
       "layout": {
        "legend": {
         "title": {
          "text": "Entity"
         },
         "tracegroupgap": 0
        },
        "margin": {
         "t": 60
        },
        "template": {
         "data": {
          "bar": [
           {
            "error_x": {
             "color": "#2a3f5f"
            },
            "error_y": {
             "color": "#2a3f5f"
            },
            "marker": {
             "line": {
              "color": "#E5ECF6",
              "width": 0.5
             },
             "pattern": {
              "fillmode": "overlay",
              "size": 10,
              "solidity": 0.2
             }
            },
            "type": "bar"
           }
          ],
          "barpolar": [
           {
            "marker": {
             "line": {
              "color": "#E5ECF6",
              "width": 0.5
             },
             "pattern": {
              "fillmode": "overlay",
              "size": 10,
              "solidity": 0.2
             }
            },
            "type": "barpolar"
           }
          ],
          "carpet": [
           {
            "aaxis": {
             "endlinecolor": "#2a3f5f",
             "gridcolor": "white",
             "linecolor": "white",
             "minorgridcolor": "white",
             "startlinecolor": "#2a3f5f"
            },
            "baxis": {
             "endlinecolor": "#2a3f5f",
             "gridcolor": "white",
             "linecolor": "white",
             "minorgridcolor": "white",
             "startlinecolor": "#2a3f5f"
            },
            "type": "carpet"
           }
          ],
          "choropleth": [
           {
            "colorbar": {
             "outlinewidth": 0,
             "ticks": ""
            },
            "type": "choropleth"
           }
          ],
          "contour": [
           {
            "colorbar": {
             "outlinewidth": 0,
             "ticks": ""
            },
            "colorscale": [
             [
              0,
              "#0d0887"
             ],
             [
              0.1111111111111111,
              "#46039f"
             ],
             [
              0.2222222222222222,
              "#7201a8"
             ],
             [
              0.3333333333333333,
              "#9c179e"
             ],
             [
              0.4444444444444444,
              "#bd3786"
             ],
             [
              0.5555555555555556,
              "#d8576b"
             ],
             [
              0.6666666666666666,
              "#ed7953"
             ],
             [
              0.7777777777777778,
              "#fb9f3a"
             ],
             [
              0.8888888888888888,
              "#fdca26"
             ],
             [
              1,
              "#f0f921"
             ]
            ],
            "type": "contour"
           }
          ],
          "contourcarpet": [
           {
            "colorbar": {
             "outlinewidth": 0,
             "ticks": ""
            },
            "type": "contourcarpet"
           }
          ],
          "heatmap": [
           {
            "colorbar": {
             "outlinewidth": 0,
             "ticks": ""
            },
            "colorscale": [
             [
              0,
              "#0d0887"
             ],
             [
              0.1111111111111111,
              "#46039f"
             ],
             [
              0.2222222222222222,
              "#7201a8"
             ],
             [
              0.3333333333333333,
              "#9c179e"
             ],
             [
              0.4444444444444444,
              "#bd3786"
             ],
             [
              0.5555555555555556,
              "#d8576b"
             ],
             [
              0.6666666666666666,
              "#ed7953"
             ],
             [
              0.7777777777777778,
              "#fb9f3a"
             ],
             [
              0.8888888888888888,
              "#fdca26"
             ],
             [
              1,
              "#f0f921"
             ]
            ],
            "type": "heatmap"
           }
          ],
          "histogram": [
           {
            "marker": {
             "pattern": {
              "fillmode": "overlay",
              "size": 10,
              "solidity": 0.2
             }
            },
            "type": "histogram"
           }
          ],
          "histogram2d": [
           {
            "colorbar": {
             "outlinewidth": 0,
             "ticks": ""
            },
            "colorscale": [
             [
              0,
              "#0d0887"
             ],
             [
              0.1111111111111111,
              "#46039f"
             ],
             [
              0.2222222222222222,
              "#7201a8"
             ],
             [
              0.3333333333333333,
              "#9c179e"
             ],
             [
              0.4444444444444444,
              "#bd3786"
             ],
             [
              0.5555555555555556,
              "#d8576b"
             ],
             [
              0.6666666666666666,
              "#ed7953"
             ],
             [
              0.7777777777777778,
              "#fb9f3a"
             ],
             [
              0.8888888888888888,
              "#fdca26"
             ],
             [
              1,
              "#f0f921"
             ]
            ],
            "type": "histogram2d"
           }
          ],
          "histogram2dcontour": [
           {
            "colorbar": {
             "outlinewidth": 0,
             "ticks": ""
            },
            "colorscale": [
             [
              0,
              "#0d0887"
             ],
             [
              0.1111111111111111,
              "#46039f"
             ],
             [
              0.2222222222222222,
              "#7201a8"
             ],
             [
              0.3333333333333333,
              "#9c179e"
             ],
             [
              0.4444444444444444,
              "#bd3786"
             ],
             [
              0.5555555555555556,
              "#d8576b"
             ],
             [
              0.6666666666666666,
              "#ed7953"
             ],
             [
              0.7777777777777778,
              "#fb9f3a"
             ],
             [
              0.8888888888888888,
              "#fdca26"
             ],
             [
              1,
              "#f0f921"
             ]
            ],
            "type": "histogram2dcontour"
           }
          ],
          "mesh3d": [
           {
            "colorbar": {
             "outlinewidth": 0,
             "ticks": ""
            },
            "type": "mesh3d"
           }
          ],
          "parcoords": [
           {
            "line": {
             "colorbar": {
              "outlinewidth": 0,
              "ticks": ""
             }
            },
            "type": "parcoords"
           }
          ],
          "pie": [
           {
            "automargin": true,
            "type": "pie"
           }
          ],
          "scatter": [
           {
            "fillpattern": {
             "fillmode": "overlay",
             "size": 10,
             "solidity": 0.2
            },
            "type": "scatter"
           }
          ],
          "scatter3d": [
           {
            "line": {
             "colorbar": {
              "outlinewidth": 0,
              "ticks": ""
             }
            },
            "marker": {
             "colorbar": {
              "outlinewidth": 0,
              "ticks": ""
             }
            },
            "type": "scatter3d"
           }
          ],
          "scattercarpet": [
           {
            "marker": {
             "colorbar": {
              "outlinewidth": 0,
              "ticks": ""
             }
            },
            "type": "scattercarpet"
           }
          ],
          "scattergeo": [
           {
            "marker": {
             "colorbar": {
              "outlinewidth": 0,
              "ticks": ""
             }
            },
            "type": "scattergeo"
           }
          ],
          "scattergl": [
           {
            "marker": {
             "colorbar": {
              "outlinewidth": 0,
              "ticks": ""
             }
            },
            "type": "scattergl"
           }
          ],
          "scattermap": [
           {
            "marker": {
             "colorbar": {
              "outlinewidth": 0,
              "ticks": ""
             }
            },
            "type": "scattermap"
           }
          ],
          "scattermapbox": [
           {
            "marker": {
             "colorbar": {
              "outlinewidth": 0,
              "ticks": ""
             }
            },
            "type": "scattermapbox"
           }
          ],
          "scatterpolar": [
           {
            "marker": {
             "colorbar": {
              "outlinewidth": 0,
              "ticks": ""
             }
            },
            "type": "scatterpolar"
           }
          ],
          "scatterpolargl": [
           {
            "marker": {
             "colorbar": {
              "outlinewidth": 0,
              "ticks": ""
             }
            },
            "type": "scatterpolargl"
           }
          ],
          "scatterternary": [
           {
            "marker": {
             "colorbar": {
              "outlinewidth": 0,
              "ticks": ""
             }
            },
            "type": "scatterternary"
           }
          ],
          "surface": [
           {
            "colorbar": {
             "outlinewidth": 0,
             "ticks": ""
            },
            "colorscale": [
             [
              0,
              "#0d0887"
             ],
             [
              0.1111111111111111,
              "#46039f"
             ],
             [
              0.2222222222222222,
              "#7201a8"
             ],
             [
              0.3333333333333333,
              "#9c179e"
             ],
             [
              0.4444444444444444,
              "#bd3786"
             ],
             [
              0.5555555555555556,
              "#d8576b"
             ],
             [
              0.6666666666666666,
              "#ed7953"
             ],
             [
              0.7777777777777778,
              "#fb9f3a"
             ],
             [
              0.8888888888888888,
              "#fdca26"
             ],
             [
              1,
              "#f0f921"
             ]
            ],
            "type": "surface"
           }
          ],
          "table": [
           {
            "cells": {
             "fill": {
              "color": "#EBF0F8"
             },
             "line": {
              "color": "white"
             }
            },
            "header": {
             "fill": {
              "color": "#C8D4E3"
             },
             "line": {
              "color": "white"
             }
            },
            "type": "table"
           }
          ]
         },
         "layout": {
          "annotationdefaults": {
           "arrowcolor": "#2a3f5f",
           "arrowhead": 0,
           "arrowwidth": 1
          },
          "autotypenumbers": "strict",
          "coloraxis": {
           "colorbar": {
            "outlinewidth": 0,
            "ticks": ""
           }
          },
          "colorscale": {
           "diverging": [
            [
             0,
             "#8e0152"
            ],
            [
             0.1,
             "#c51b7d"
            ],
            [
             0.2,
             "#de77ae"
            ],
            [
             0.3,
             "#f1b6da"
            ],
            [
             0.4,
             "#fde0ef"
            ],
            [
             0.5,
             "#f7f7f7"
            ],
            [
             0.6,
             "#e6f5d0"
            ],
            [
             0.7,
             "#b8e186"
            ],
            [
             0.8,
             "#7fbc41"
            ],
            [
             0.9,
             "#4d9221"
            ],
            [
             1,
             "#276419"
            ]
           ],
           "sequential": [
            [
             0,
             "#0d0887"
            ],
            [
             0.1111111111111111,
             "#46039f"
            ],
            [
             0.2222222222222222,
             "#7201a8"
            ],
            [
             0.3333333333333333,
             "#9c179e"
            ],
            [
             0.4444444444444444,
             "#bd3786"
            ],
            [
             0.5555555555555556,
             "#d8576b"
            ],
            [
             0.6666666666666666,
             "#ed7953"
            ],
            [
             0.7777777777777778,
             "#fb9f3a"
            ],
            [
             0.8888888888888888,
             "#fdca26"
            ],
            [
             1,
             "#f0f921"
            ]
           ],
           "sequentialminus": [
            [
             0,
             "#0d0887"
            ],
            [
             0.1111111111111111,
             "#46039f"
            ],
            [
             0.2222222222222222,
             "#7201a8"
            ],
            [
             0.3333333333333333,
             "#9c179e"
            ],
            [
             0.4444444444444444,
             "#bd3786"
            ],
            [
             0.5555555555555556,
             "#d8576b"
            ],
            [
             0.6666666666666666,
             "#ed7953"
            ],
            [
             0.7777777777777778,
             "#fb9f3a"
            ],
            [
             0.8888888888888888,
             "#fdca26"
            ],
            [
             1,
             "#f0f921"
            ]
           ]
          },
          "colorway": [
           "#636efa",
           "#EF553B",
           "#00cc96",
           "#ab63fa",
           "#FFA15A",
           "#19d3f3",
           "#FF6692",
           "#B6E880",
           "#FF97FF",
           "#FECB52"
          ],
          "font": {
           "color": "#2a3f5f"
          },
          "geo": {
           "bgcolor": "white",
           "lakecolor": "white",
           "landcolor": "#E5ECF6",
           "showlakes": true,
           "showland": true,
           "subunitcolor": "white"
          },
          "hoverlabel": {
           "align": "left"
          },
          "hovermode": "closest",
          "mapbox": {
           "style": "light"
          },
          "paper_bgcolor": "white",
          "plot_bgcolor": "#E5ECF6",
          "polar": {
           "angularaxis": {
            "gridcolor": "white",
            "linecolor": "white",
            "ticks": ""
           },
           "bgcolor": "#E5ECF6",
           "radialaxis": {
            "gridcolor": "white",
            "linecolor": "white",
            "ticks": ""
           }
          },
          "scene": {
           "xaxis": {
            "backgroundcolor": "#E5ECF6",
            "gridcolor": "white",
            "gridwidth": 2,
            "linecolor": "white",
            "showbackground": true,
            "ticks": "",
            "zerolinecolor": "white"
           },
           "yaxis": {
            "backgroundcolor": "#E5ECF6",
            "gridcolor": "white",
            "gridwidth": 2,
            "linecolor": "white",
            "showbackground": true,
            "ticks": "",
            "zerolinecolor": "white"
           },
           "zaxis": {
            "backgroundcolor": "#E5ECF6",
            "gridcolor": "white",
            "gridwidth": 2,
            "linecolor": "white",
            "showbackground": true,
            "ticks": "",
            "zerolinecolor": "white"
           }
          },
          "shapedefaults": {
           "line": {
            "color": "#2a3f5f"
           }
          },
          "ternary": {
           "aaxis": {
            "gridcolor": "white",
            "linecolor": "white",
            "ticks": ""
           },
           "baxis": {
            "gridcolor": "white",
            "linecolor": "white",
            "ticks": ""
           },
           "bgcolor": "#E5ECF6",
           "caxis": {
            "gridcolor": "white",
            "linecolor": "white",
            "ticks": ""
           }
          },
          "title": {
           "x": 0.05
          },
          "xaxis": {
           "automargin": true,
           "gridcolor": "white",
           "linecolor": "white",
           "ticks": "",
           "title": {
            "standoff": 15
           },
           "zerolinecolor": "white",
           "zerolinewidth": 2
          },
          "yaxis": {
           "automargin": true,
           "gridcolor": "white",
           "linecolor": "white",
           "ticks": "",
           "title": {
            "standoff": 15
           },
           "zerolinecolor": "white",
           "zerolinewidth": 2
          }
         }
        },
        "xaxis": {
         "anchor": "y",
         "domain": [
          0,
          1
         ],
         "title": {
          "text": "Year"
         }
        },
        "yaxis": {
         "anchor": "x",
         "domain": [
          0,
          1
         ],
         "title": {
          "text": "gdp"
         }
        }
       }
      }
     },
     "metadata": {},
     "output_type": "display_data"
    }
   ],
   "source": [
    "top6_share = share_of_world_economy.query('Entity in @list_of_countries')\n",
    "px.line(top6_share, x='Year', y='gdp', color='Entity')\n",
    "\n",
    "# Note: looking at the data, Germany (and presumably others) were added later,\n",
    "# which is skewing results (note how US and Japan seemingly dropped in 1970 when\n",
    "# Germany was added"
   ]
  },
  {
   "cell_type": "code",
   "execution_count": 279,
   "id": "0234a870-3bcc-4149-96e3-8946b201415d",
   "metadata": {},
   "outputs": [
    {
     "data": {
      "text/html": [
       "<div>\n",
       "<style scoped>\n",
       "    .dataframe tbody tr th:only-of-type {\n",
       "        vertical-align: middle;\n",
       "    }\n",
       "\n",
       "    .dataframe tbody tr th {\n",
       "        vertical-align: top;\n",
       "    }\n",
       "\n",
       "    .dataframe thead th {\n",
       "        text-align: right;\n",
       "    }\n",
       "</style>\n",
       "<table border=\"1\" class=\"dataframe\">\n",
       "  <thead>\n",
       "    <tr style=\"text-align: right;\">\n",
       "      <th></th>\n",
       "      <th>gdp</th>\n",
       "    </tr>\n",
       "    <tr>\n",
       "      <th>Entity</th>\n",
       "      <th></th>\n",
       "    </tr>\n",
       "  </thead>\n",
       "  <tbody>\n",
       "    <tr>\n",
       "      <th>Algeria</th>\n",
       "      <td>27.434399</td>\n",
       "    </tr>\n",
       "    <tr>\n",
       "      <th>Argentina</th>\n",
       "      <td>115.573869</td>\n",
       "    </tr>\n",
       "    <tr>\n",
       "      <th>Australia</th>\n",
       "      <td>199.233335</td>\n",
       "    </tr>\n",
       "    <tr>\n",
       "      <th>Austria</th>\n",
       "      <td>91.836703</td>\n",
       "    </tr>\n",
       "    <tr>\n",
       "      <th>Bahamas</th>\n",
       "      <td>1.942538</td>\n",
       "    </tr>\n",
       "    <tr>\n",
       "      <th>...</th>\n",
       "      <td>...</td>\n",
       "    </tr>\n",
       "    <tr>\n",
       "      <th>United States</th>\n",
       "      <td>3078.071080</td>\n",
       "    </tr>\n",
       "    <tr>\n",
       "      <th>Uruguay</th>\n",
       "      <td>13.898153</td>\n",
       "    </tr>\n",
       "    <tr>\n",
       "      <th>Venezuela</th>\n",
       "      <td>101.424598</td>\n",
       "    </tr>\n",
       "    <tr>\n",
       "      <th>Zambia</th>\n",
       "      <td>4.592976</td>\n",
       "    </tr>\n",
       "    <tr>\n",
       "      <th>Zimbabwe</th>\n",
       "      <td>3.363352</td>\n",
       "    </tr>\n",
       "  </tbody>\n",
       "</table>\n",
       "<p>90 rows × 1 columns</p>\n",
       "</div>"
      ],
      "text/plain": [
       "                       gdp\n",
       "Entity                    \n",
       "Algeria          27.434399\n",
       "Argentina       115.573869\n",
       "Australia       199.233335\n",
       "Austria          91.836703\n",
       "Bahamas           1.942538\n",
       "...                    ...\n",
       "United States  3078.071080\n",
       "Uruguay          13.898153\n",
       "Venezuela       101.424598\n",
       "Zambia            4.592976\n",
       "Zimbabwe          3.363352\n",
       "\n",
       "[90 rows x 1 columns]"
      ]
     },
     "execution_count": 279,
     "metadata": {},
     "output_type": "execute_result"
    }
   ],
   "source": [
    "gdp1960_values_by_entity = df.query('Year == 1960').set_index(['Entity'])[['gdp']]\n",
    "gdp1960_values_by_entity"
   ]
  },
  {
   "cell_type": "code",
   "execution_count": 283,
   "id": "5b0c5f11-7b29-4c11-87bc-369e22027717",
   "metadata": {},
   "outputs": [
    {
     "data": {
      "text/html": [
       "<div>\n",
       "<style scoped>\n",
       "    .dataframe tbody tr th:only-of-type {\n",
       "        vertical-align: middle;\n",
       "    }\n",
       "\n",
       "    .dataframe tbody tr th {\n",
       "        vertical-align: top;\n",
       "    }\n",
       "\n",
       "    .dataframe thead th {\n",
       "        text-align: right;\n",
       "    }\n",
       "</style>\n",
       "<table border=\"1\" class=\"dataframe\">\n",
       "  <thead>\n",
       "    <tr style=\"text-align: right;\">\n",
       "      <th></th>\n",
       "      <th>Code</th>\n",
       "      <th>Year</th>\n",
       "      <th>GDP (constant 2010 US$)</th>\n",
       "      <th>gdp</th>\n",
       "      <th>gdp_ratio</th>\n",
       "    </tr>\n",
       "    <tr>\n",
       "      <th>Entity</th>\n",
       "      <th></th>\n",
       "      <th></th>\n",
       "      <th></th>\n",
       "      <th></th>\n",
       "      <th></th>\n",
       "    </tr>\n",
       "  </thead>\n",
       "  <tbody>\n",
       "    <tr>\n",
       "      <th>China</th>\n",
       "      <td>CHN</td>\n",
       "      <td>1960</td>\n",
       "      <td>1.279381e+11</td>\n",
       "      <td>127.938142</td>\n",
       "      <td>1.000000</td>\n",
       "    </tr>\n",
       "    <tr>\n",
       "      <th>China</th>\n",
       "      <td>CHN</td>\n",
       "      <td>1961</td>\n",
       "      <td>9.304941e+10</td>\n",
       "      <td>93.049411</td>\n",
       "      <td>0.727300</td>\n",
       "    </tr>\n",
       "    <tr>\n",
       "      <th>China</th>\n",
       "      <td>CHN</td>\n",
       "      <td>1962</td>\n",
       "      <td>8.785725e+10</td>\n",
       "      <td>87.857254</td>\n",
       "      <td>0.686717</td>\n",
       "    </tr>\n",
       "    <tr>\n",
       "      <th>China</th>\n",
       "      <td>CHN</td>\n",
       "      <td>1963</td>\n",
       "      <td>9.690655e+10</td>\n",
       "      <td>96.906551</td>\n",
       "      <td>0.757448</td>\n",
       "    </tr>\n",
       "    <tr>\n",
       "      <th>China</th>\n",
       "      <td>CHN</td>\n",
       "      <td>1964</td>\n",
       "      <td>1.145242e+11</td>\n",
       "      <td>114.524162</td>\n",
       "      <td>0.895153</td>\n",
       "    </tr>\n",
       "    <tr>\n",
       "      <th>...</th>\n",
       "      <td>...</td>\n",
       "      <td>...</td>\n",
       "      <td>...</td>\n",
       "      <td>...</td>\n",
       "      <td>...</td>\n",
       "    </tr>\n",
       "    <tr>\n",
       "      <th>United States</th>\n",
       "      <td>USA</td>\n",
       "      <td>2013</td>\n",
       "      <td>1.580286e+13</td>\n",
       "      <td>15802.855301</td>\n",
       "      <td>5.134012</td>\n",
       "    </tr>\n",
       "    <tr>\n",
       "      <th>United States</th>\n",
       "      <td>USA</td>\n",
       "      <td>2014</td>\n",
       "      <td>1.620886e+13</td>\n",
       "      <td>16208.861247</td>\n",
       "      <td>5.265915</td>\n",
       "    </tr>\n",
       "    <tr>\n",
       "      <th>United States</th>\n",
       "      <td>USA</td>\n",
       "      <td>2015</td>\n",
       "      <td>1.667269e+13</td>\n",
       "      <td>16672.691918</td>\n",
       "      <td>5.416604</td>\n",
       "    </tr>\n",
       "    <tr>\n",
       "      <th>United States</th>\n",
       "      <td>USA</td>\n",
       "      <td>2016</td>\n",
       "      <td>1.692033e+13</td>\n",
       "      <td>16920.327942</td>\n",
       "      <td>5.497056</td>\n",
       "    </tr>\n",
       "    <tr>\n",
       "      <th>United States</th>\n",
       "      <td>USA</td>\n",
       "      <td>2017</td>\n",
       "      <td>1.730498e+13</td>\n",
       "      <td>17304.984279</td>\n",
       "      <td>5.622022</td>\n",
       "    </tr>\n",
       "  </tbody>\n",
       "</table>\n",
       "<p>338 rows × 5 columns</p>\n",
       "</div>"
      ],
      "text/plain": [
       "              Code  Year  GDP (constant 2010 US$)           gdp  gdp_ratio\n",
       "Entity                                                                    \n",
       "China          CHN  1960             1.279381e+11    127.938142   1.000000\n",
       "China          CHN  1961             9.304941e+10     93.049411   0.727300\n",
       "China          CHN  1962             8.785725e+10     87.857254   0.686717\n",
       "China          CHN  1963             9.690655e+10     96.906551   0.757448\n",
       "China          CHN  1964             1.145242e+11    114.524162   0.895153\n",
       "...            ...   ...                      ...           ...        ...\n",
       "United States  USA  2013             1.580286e+13  15802.855301   5.134012\n",
       "United States  USA  2014             1.620886e+13  16208.861247   5.265915\n",
       "United States  USA  2015             1.667269e+13  16672.691918   5.416604\n",
       "United States  USA  2016             1.692033e+13  16920.327942   5.497056\n",
       "United States  USA  2017             1.730498e+13  17304.984279   5.622022\n",
       "\n",
       "[338 rows x 5 columns]"
      ]
     },
     "execution_count": 283,
     "metadata": {},
     "output_type": "execute_result"
    }
   ],
   "source": [
    "temp = df.set_index('Entity')\n",
    "temp['gdp_ratio'] = temp['gdp'] / gdp1960_values_by_entity['gdp']\n",
    "temp.reset_index()\n",
    "temp.query('Entity in @list_of_countries')"
   ]
  },
  {
   "cell_type": "code",
   "execution_count": 286,
   "id": "ac6d6e8e-185e-4344-9c3a-2daffe72ceef",
   "metadata": {},
   "outputs": [
    {
     "data": {
      "application/vnd.plotly.v1+json": {
       "config": {
        "plotlyServerURL": "https://plot.ly"
       },
       "data": [
        {
         "hovertemplate": "Entity=China<br>Year=%{x}<br>gdp_ratio=%{y}<extra></extra>",
         "legendgroup": "China",
         "line": {
          "color": "#636efa",
          "dash": "solid"
         },
         "marker": {
          "symbol": "circle"
         },
         "mode": "lines",
         "name": "China",
         "orientation": "v",
         "showlegend": true,
         "type": "scatter",
         "x": {
          "bdata": "qAepB6oHqwesB60HrgevB7AHsQeyB7MHtAe1B7YHtwe4B7kHuge7B7wHvQe+B78HwAfBB8IHwwfEB8UHxgfHB8gHyQfKB8sHzAfNB84HzwfQB9EH0gfTB9QH1QfWB9cH2AfZB9oH2wfcB90H3gffB+AH4Qc=",
          "dtype": "i2"
         },
         "xaxis": "x",
         "y": {
          "bdata": "AAAAAAAA8D8ew0amCkbnPyftjjeV+eU/yWsYlgQ96D/goIEVF6XsP8GlMkQGwPA/2qY/97KI8j83EQ8R7nbxP9tNnS+fv/A/xfaq6PGV8z/hYLbmol33P1jxi5rwA/k/ut1LEu73+T9TM2Uwz/v7P80TiBdLofw/jy5sX2gg/z8KhZm/TaP+PxO3i1mFegBAegA0Q65mAkAn7jZEscwDQHB7mL5jWAVAiynezAdzBkApaoeifnQIQJ6lLivVGgtAnEpcglA1D0C2ibLCrLMRQPa+axvLSBNAIq3kDdqJFUD/DuhoTvUXQEWvvNMJ9hhAnZHPV7TvGUCACT27zVgcQEav3ao4MCBAZLPApexuIkBuNmON2NYkQHTinWb4HidAcG05s6BqKUB3f41RPcMrQMUojAtH8C1A4NkTrPcdMEALj28IU3wxQKXtwFKl8TJAs8LYJHOsNEACXmY7lL82QCjezANqDDlAxK87kSjnO0A5A2Eju3M/QEAW41LN9kFASuDFoMiyQ0CnEWDDy4xFQPFkI/OR10dAR+S6M6IdSkDItlHf3ypMQA5K5pBEWk5A4QqRc6hIUEA1SvXPTWhRQO2kd1bgklJAFwkbefbaU0A=",
          "dtype": "f8"
         },
         "yaxis": "y"
        },
        {
         "hovertemplate": "Entity=Germany<br>Year=%{x}<br>gdp_ratio=%{y}<extra></extra>",
         "legendgroup": "Germany",
         "line": {
          "color": "#EF553B",
          "dash": "solid"
         },
         "marker": {
          "symbol": "circle"
         },
         "mode": "lines",
         "name": "Germany",
         "orientation": "v",
         "showlegend": true,
         "type": "scatter",
         "x": {
          "bdata": "sgezB7QHtQe2B7cHuAe5B7oHuwe8B70Hvge/B8AHwQfCB8MHxAfFB8YHxwfIB8kHygfLB8wHzQfOB88H0AfRB9IH0wfUB9UH1gfXB9gH2QfaB9sH3AfdB94H3wfgB+EH",
          "dtype": "i2"
         },
         "xaxis": "x",
         "y": {
          "bdata": "AAAAAAAA+H8AAAAAAAD4fwAAAAAAAPh/AAAAAAAA+H8AAAAAAAD4fwAAAAAAAPh/AAAAAAAA+H8AAAAAAAD4fwAAAAAAAPh/AAAAAAAA+H8AAAAAAAD4fwAAAAAAAPh/AAAAAAAA+H8AAAAAAAD4fwAAAAAAAPh/AAAAAAAA+H8AAAAAAAD4fwAAAAAAAPh/AAAAAAAA+H8AAAAAAAD4fwAAAAAAAPh/AAAAAAAA+H8AAAAAAAD4fwAAAAAAAPh/AAAAAAAA+H8AAAAAAAD4fwAAAAAAAPh/AAAAAAAA+H8AAAAAAAD4fwAAAAAAAPh/AAAAAAAA+H8AAAAAAAD4fwAAAAAAAPh/AAAAAAAA+H8AAAAAAAD4fwAAAAAAAPh/AAAAAAAA+H8AAAAAAAD4fwAAAAAAAPh/AAAAAAAA+H8AAAAAAAD4fwAAAAAAAPh/AAAAAAAA+H8AAAAAAAD4fwAAAAAAAPh/AAAAAAAA+H8AAAAAAAD4fwAAAAAAAPh/",
          "dtype": "f8"
         },
         "yaxis": "y"
        },
        {
         "hovertemplate": "Entity=India<br>Year=%{x}<br>gdp_ratio=%{y}<extra></extra>",
         "legendgroup": "India",
         "line": {
          "color": "#00cc96",
          "dash": "solid"
         },
         "marker": {
          "symbol": "circle"
         },
         "mode": "lines",
         "name": "India",
         "orientation": "v",
         "showlegend": true,
         "type": "scatter",
         "x": {
          "bdata": "qAepB6oHqwesB60HrgevB7AHsQeyB7MHtAe1B7YHtwe4B7kHuge7B7wHvQe+B78HwAfBB8IHwwfEB8UHxgfHB8gHyQfKB8sHzAfNB84HzwfQB9EH0gfTB9QH1QfWB9cH2AfZB9oH2wfcB90H3gffB+AH4Qc=",
          "dtype": "i2"
         },
         "xaxis": "x",
         "y": {
          "bdata": "AAAAAAAA8D/NsuTIe5jwP3JWTxMDFfE/JVFBUyUb8j9pCv/UmXTzP4fgEt9S8fI/zoZSAaTu8j+DRPnb72n0P+X3Gu38GvU/FhVYxFN89j/KKkq5MaX3P3+dPN2kCPg/iYp48Znm9z+Te227PbD4PwSenEEo+/g/xKay+k5E+z960IT1Zbj7PxnCE6s5u/0/i5sQ2gRu/z8XPXzEjcj9P10YK08hyv8/pICoHXbZAEB7QuHDYm8BQMZiOJu3tAJAGZ+jea5rA0CBie6X6HAEQPiSMJ/cagVACJqg2kZEBkB1gbdIFmkIQN0YnuC93AlA910D8hhLC0B1Cvl08JQLQHb5v0UMGA1AzO/oVeN5DkAHtkl1tEAQQMJabG/bexFArNUUVMPNEkAvuCw3tpATQBz28Kl4xhRAL+xMKe6cFkDHp7xZSHsXQDkIL85DnRhAi4oJo/aMGUDacJ2sG48bQIcoOpAUvh1AV7vtZIRAIEATeaUt8sEhQA3r7rOCfyNAJhImZLpBJEA50dB0d/klQBu9PC6jOihAcnyeHGTWKUCYPVpBTD8rQFc94HC//CxAqNTtYaQiL0A0VWsTTdYwQDJBYhfhCDJAf2iQOrY6M0A=",
          "dtype": "f8"
         },
         "yaxis": "y"
        },
        {
         "hovertemplate": "Entity=Japan<br>Year=%{x}<br>gdp_ratio=%{y}<extra></extra>",
         "legendgroup": "Japan",
         "line": {
          "color": "#ab63fa",
          "dash": "solid"
         },
         "marker": {
          "symbol": "circle"
         },
         "mode": "lines",
         "name": "Japan",
         "orientation": "v",
         "showlegend": true,
         "type": "scatter",
         "x": {
          "bdata": "qAepB6oHqwesB60HrgevB7AHsQeyB7MHtAe1B7YHtwe4B7kHuge7B7wHvQe+B78HwAfBB8IHwwfEB8UHxgfHB8gHyQfKB8sHzAfNB84HzwfQB9EH0gfTB9QH1QfWB9cH2AfZB9oH2wfcB90H3gffB+AH4Qc=",
          "dtype": "i2"
         },
         "xaxis": "x",
         "y": {
          "bdata": "AAAAAAAA8D9hGOChTe3xPxkI5rwphvM/VQcWg7At9T8xP0Ktw6b3P96kQEsiB/k/TYsnx8Kw+z8yKmLwWML+P+uez/xgXAFAPSV4mvGGA0DwsmRf5JoDQHnrRbu6hgRA9ckPrNZABkBkRmJccQoIQA/f5z8JvwdApkHJYfl6CEAPlQ3bFXQJQABR8N0pkgpAVi8wBsX4C0BRrUofeIENQF23eoxLVg5AOzH1YDSdD0DRrMDtpFQQQAZBliPu5xBAJpcw/8WqEUBvs7qmd5cSQMZPf9PKNRNAaMG2xW8eFEC3/qsP5XsVQPo/U+wUhxZA8LgynT+hF0Aoeac6+28YQAjmC1QJpRhALpL4VVyEGECKR8BpsMIYQCiIvz6BcBlAMGbNeGQ6GkCUYEJypIIaQMrcsqwPNhpAwh9YqiclGkAbxho4M98aQBpKnRkn+xpAVf0qfE0DG0DSyWHV+2wbQAgBxUXGBxxAgtvIfxV/HEDydvy1rOYcQMB6NvUPYR1Au63cA9EOHUB6EuVC5nsbQOnA6nXTohxA6yayW12aHECN5wwx1wcdQK8Irk9/nB1AR9wRJee4HUDpPJ/76R8eQC3giUZEaB5AJ6UVHpTtHkA=",
          "dtype": "f8"
         },
         "yaxis": "y"
        },
        {
         "hovertemplate": "Entity=United Kingdom<br>Year=%{x}<br>gdp_ratio=%{y}<extra></extra>",
         "legendgroup": "United Kingdom",
         "line": {
          "color": "#FFA15A",
          "dash": "solid"
         },
         "marker": {
          "symbol": "circle"
         },
         "mode": "lines",
         "name": "United Kingdom",
         "orientation": "v",
         "showlegend": true,
         "type": "scatter",
         "x": {
          "bdata": "qAepB6oHqwesB60HrgevB7AHsQeyB7MHtAe1B7YHtwe4B7kHuge7B7wHvQe+B78HwAfBB8IHwwfEB8UHxgfHB8gHyQfKB8sHzAfNB84HzwfQB9EH0gfTB9QH1QfWB9cH2AfZB9oH2wfcB90H3gffB+AH4Qc=",
          "dtype": "i2"
         },
         "xaxis": "x",
         "y": {
          "bdata": "AAAAAAAA8D/pGUTWaWnwPwyojDk1ofA/M2ZXIaJJ8T9KyV/2myjyPyURRANCqvI/OuxU4i0M8z8U23q03XzzPyt+SMaoQ/Q/v1D0FiKu9D+F3lNvWQv2P6gnsQL8z/Y/FV6ypjfL9z9UuQ5/rVf5PwvvOw/ct/g/NCb5Q0Ra+D9PomMAsA/5P5ZnrsNtrPk/lwnIopfA+j+4RV5I1MD7P1FvC37CMPs/6Od2zRf7+j8IPrrW9oX7P9XVSWNwr/w/GM4IzpdW/T9LIKfSr5H+P3XTVN8uhv8/w8HaUDeZAEB3NUn2cY0BQDr+xmLmAAJA+zTuvaAiAkAwkXIJL/ABQNkXJIBbAQJAoUK1GdV1AkC3mZBQMi0DQDqcGs9wpgNAb/AcayUmBEAIrF7mcfYEQAWxOGzVngVAt9kAwd9QBkDKkAB8MyIHQI1RuaDeuAdAiK/NIiJOCEDvUE1rEx0JQLvt1qYWtQlAL2InR9iACkA6Zq4IeycLQHZM+4ROywtAfEQtHK+pC0CAkwLBHoEKQMS+juEY9ApAEyFvZFRYC0BzLq8SB8ALQCwuuXLUUQxASp5IBEIvDUAsWA5xh94NQDYQXcWMcg5A3mK+qtn9DkA=",
          "dtype": "f8"
         },
         "yaxis": "y"
        },
        {
         "hovertemplate": "Entity=United States<br>Year=%{x}<br>gdp_ratio=%{y}<extra></extra>",
         "legendgroup": "United States",
         "line": {
          "color": "#19d3f3",
          "dash": "solid"
         },
         "marker": {
          "symbol": "circle"
         },
         "mode": "lines",
         "name": "United States",
         "orientation": "v",
         "showlegend": true,
         "type": "scatter",
         "x": {
          "bdata": "qAepB6oHqwesB60HrgevB7AHsQeyB7MHtAe1B7YHtwe4B7kHuge7B7wHvQe+B78HwAfBB8IHwwfEB8UHxgfHB8gHyQfKB8sHzAfNB84HzwfQB9EH0gfTB9QH1QfWB9cH2AfZB9oH2wfcB90H3gffB+AH4Qc=",
          "dtype": "i2"
         },
         "xaxis": "x",
         "y": {
          "bdata": "AAAAAAAA8D+H7Xw/NV7wPzavP4nPXfE/k9LQJW0h8j+zWdkLoS7zP8dEEsvoaPQ/YjfpSIe89T9gclVEpEf2P1w6oZ1qWfc/UXeQZLcS+D8Aya3CV9j4P7FvV0nyqfk/dXsab70D+z+BFDD6AIr8P7ntvHE4ZPw/xi1fT9pV/D+FzdJDjdz9Pz8VQsLbPP8/nm4cK898AEDqaqde2QIBQO+FhIIy+ABAHFfR/edoAUCFhwZWvRMBQKVr5jBC3gFAP0LO1k4qA0Bu8OYCRvoDQK0ZDPfdrQRAlGpomyBlBUBMqppfYksGQCIR4idyHQdAeET9CwaPB0AmRIA5jooHQN+mMdDSYAhArhT1AzAMCUBw2Iy9Fg8KQLCW7F95xApAfdV2/ZXIC0AstFPBugcNQGmH51JvUg5Ah1ND1B6+D0CEqB3rU4UQQNoFdvOarhBA8KbUPOL6EEARzm8a5HQRQFJdRV4SHhJASGpwqzm5EkB9xnPrCjkTQGfbbh2RkBNAZxT39vWBE0DQhskYWvcSQLjm6hxJchNAk5mvtQLCE0CnGcmWgDIUQCcka5A6iRRALuMTEkwQFUDFHZ84mqoVQHk9OSb8/BVAS2h1avN8FkA=",
          "dtype": "f8"
         },
         "yaxis": "y"
        }
       ],
       "layout": {
        "legend": {
         "title": {
          "text": "Entity"
         },
         "tracegroupgap": 0
        },
        "margin": {
         "t": 60
        },
        "template": {
         "data": {
          "bar": [
           {
            "error_x": {
             "color": "#2a3f5f"
            },
            "error_y": {
             "color": "#2a3f5f"
            },
            "marker": {
             "line": {
              "color": "#E5ECF6",
              "width": 0.5
             },
             "pattern": {
              "fillmode": "overlay",
              "size": 10,
              "solidity": 0.2
             }
            },
            "type": "bar"
           }
          ],
          "barpolar": [
           {
            "marker": {
             "line": {
              "color": "#E5ECF6",
              "width": 0.5
             },
             "pattern": {
              "fillmode": "overlay",
              "size": 10,
              "solidity": 0.2
             }
            },
            "type": "barpolar"
           }
          ],
          "carpet": [
           {
            "aaxis": {
             "endlinecolor": "#2a3f5f",
             "gridcolor": "white",
             "linecolor": "white",
             "minorgridcolor": "white",
             "startlinecolor": "#2a3f5f"
            },
            "baxis": {
             "endlinecolor": "#2a3f5f",
             "gridcolor": "white",
             "linecolor": "white",
             "minorgridcolor": "white",
             "startlinecolor": "#2a3f5f"
            },
            "type": "carpet"
           }
          ],
          "choropleth": [
           {
            "colorbar": {
             "outlinewidth": 0,
             "ticks": ""
            },
            "type": "choropleth"
           }
          ],
          "contour": [
           {
            "colorbar": {
             "outlinewidth": 0,
             "ticks": ""
            },
            "colorscale": [
             [
              0,
              "#0d0887"
             ],
             [
              0.1111111111111111,
              "#46039f"
             ],
             [
              0.2222222222222222,
              "#7201a8"
             ],
             [
              0.3333333333333333,
              "#9c179e"
             ],
             [
              0.4444444444444444,
              "#bd3786"
             ],
             [
              0.5555555555555556,
              "#d8576b"
             ],
             [
              0.6666666666666666,
              "#ed7953"
             ],
             [
              0.7777777777777778,
              "#fb9f3a"
             ],
             [
              0.8888888888888888,
              "#fdca26"
             ],
             [
              1,
              "#f0f921"
             ]
            ],
            "type": "contour"
           }
          ],
          "contourcarpet": [
           {
            "colorbar": {
             "outlinewidth": 0,
             "ticks": ""
            },
            "type": "contourcarpet"
           }
          ],
          "heatmap": [
           {
            "colorbar": {
             "outlinewidth": 0,
             "ticks": ""
            },
            "colorscale": [
             [
              0,
              "#0d0887"
             ],
             [
              0.1111111111111111,
              "#46039f"
             ],
             [
              0.2222222222222222,
              "#7201a8"
             ],
             [
              0.3333333333333333,
              "#9c179e"
             ],
             [
              0.4444444444444444,
              "#bd3786"
             ],
             [
              0.5555555555555556,
              "#d8576b"
             ],
             [
              0.6666666666666666,
              "#ed7953"
             ],
             [
              0.7777777777777778,
              "#fb9f3a"
             ],
             [
              0.8888888888888888,
              "#fdca26"
             ],
             [
              1,
              "#f0f921"
             ]
            ],
            "type": "heatmap"
           }
          ],
          "histogram": [
           {
            "marker": {
             "pattern": {
              "fillmode": "overlay",
              "size": 10,
              "solidity": 0.2
             }
            },
            "type": "histogram"
           }
          ],
          "histogram2d": [
           {
            "colorbar": {
             "outlinewidth": 0,
             "ticks": ""
            },
            "colorscale": [
             [
              0,
              "#0d0887"
             ],
             [
              0.1111111111111111,
              "#46039f"
             ],
             [
              0.2222222222222222,
              "#7201a8"
             ],
             [
              0.3333333333333333,
              "#9c179e"
             ],
             [
              0.4444444444444444,
              "#bd3786"
             ],
             [
              0.5555555555555556,
              "#d8576b"
             ],
             [
              0.6666666666666666,
              "#ed7953"
             ],
             [
              0.7777777777777778,
              "#fb9f3a"
             ],
             [
              0.8888888888888888,
              "#fdca26"
             ],
             [
              1,
              "#f0f921"
             ]
            ],
            "type": "histogram2d"
           }
          ],
          "histogram2dcontour": [
           {
            "colorbar": {
             "outlinewidth": 0,
             "ticks": ""
            },
            "colorscale": [
             [
              0,
              "#0d0887"
             ],
             [
              0.1111111111111111,
              "#46039f"
             ],
             [
              0.2222222222222222,
              "#7201a8"
             ],
             [
              0.3333333333333333,
              "#9c179e"
             ],
             [
              0.4444444444444444,
              "#bd3786"
             ],
             [
              0.5555555555555556,
              "#d8576b"
             ],
             [
              0.6666666666666666,
              "#ed7953"
             ],
             [
              0.7777777777777778,
              "#fb9f3a"
             ],
             [
              0.8888888888888888,
              "#fdca26"
             ],
             [
              1,
              "#f0f921"
             ]
            ],
            "type": "histogram2dcontour"
           }
          ],
          "mesh3d": [
           {
            "colorbar": {
             "outlinewidth": 0,
             "ticks": ""
            },
            "type": "mesh3d"
           }
          ],
          "parcoords": [
           {
            "line": {
             "colorbar": {
              "outlinewidth": 0,
              "ticks": ""
             }
            },
            "type": "parcoords"
           }
          ],
          "pie": [
           {
            "automargin": true,
            "type": "pie"
           }
          ],
          "scatter": [
           {
            "fillpattern": {
             "fillmode": "overlay",
             "size": 10,
             "solidity": 0.2
            },
            "type": "scatter"
           }
          ],
          "scatter3d": [
           {
            "line": {
             "colorbar": {
              "outlinewidth": 0,
              "ticks": ""
             }
            },
            "marker": {
             "colorbar": {
              "outlinewidth": 0,
              "ticks": ""
             }
            },
            "type": "scatter3d"
           }
          ],
          "scattercarpet": [
           {
            "marker": {
             "colorbar": {
              "outlinewidth": 0,
              "ticks": ""
             }
            },
            "type": "scattercarpet"
           }
          ],
          "scattergeo": [
           {
            "marker": {
             "colorbar": {
              "outlinewidth": 0,
              "ticks": ""
             }
            },
            "type": "scattergeo"
           }
          ],
          "scattergl": [
           {
            "marker": {
             "colorbar": {
              "outlinewidth": 0,
              "ticks": ""
             }
            },
            "type": "scattergl"
           }
          ],
          "scattermap": [
           {
            "marker": {
             "colorbar": {
              "outlinewidth": 0,
              "ticks": ""
             }
            },
            "type": "scattermap"
           }
          ],
          "scattermapbox": [
           {
            "marker": {
             "colorbar": {
              "outlinewidth": 0,
              "ticks": ""
             }
            },
            "type": "scattermapbox"
           }
          ],
          "scatterpolar": [
           {
            "marker": {
             "colorbar": {
              "outlinewidth": 0,
              "ticks": ""
             }
            },
            "type": "scatterpolar"
           }
          ],
          "scatterpolargl": [
           {
            "marker": {
             "colorbar": {
              "outlinewidth": 0,
              "ticks": ""
             }
            },
            "type": "scatterpolargl"
           }
          ],
          "scatterternary": [
           {
            "marker": {
             "colorbar": {
              "outlinewidth": 0,
              "ticks": ""
             }
            },
            "type": "scatterternary"
           }
          ],
          "surface": [
           {
            "colorbar": {
             "outlinewidth": 0,
             "ticks": ""
            },
            "colorscale": [
             [
              0,
              "#0d0887"
             ],
             [
              0.1111111111111111,
              "#46039f"
             ],
             [
              0.2222222222222222,
              "#7201a8"
             ],
             [
              0.3333333333333333,
              "#9c179e"
             ],
             [
              0.4444444444444444,
              "#bd3786"
             ],
             [
              0.5555555555555556,
              "#d8576b"
             ],
             [
              0.6666666666666666,
              "#ed7953"
             ],
             [
              0.7777777777777778,
              "#fb9f3a"
             ],
             [
              0.8888888888888888,
              "#fdca26"
             ],
             [
              1,
              "#f0f921"
             ]
            ],
            "type": "surface"
           }
          ],
          "table": [
           {
            "cells": {
             "fill": {
              "color": "#EBF0F8"
             },
             "line": {
              "color": "white"
             }
            },
            "header": {
             "fill": {
              "color": "#C8D4E3"
             },
             "line": {
              "color": "white"
             }
            },
            "type": "table"
           }
          ]
         },
         "layout": {
          "annotationdefaults": {
           "arrowcolor": "#2a3f5f",
           "arrowhead": 0,
           "arrowwidth": 1
          },
          "autotypenumbers": "strict",
          "coloraxis": {
           "colorbar": {
            "outlinewidth": 0,
            "ticks": ""
           }
          },
          "colorscale": {
           "diverging": [
            [
             0,
             "#8e0152"
            ],
            [
             0.1,
             "#c51b7d"
            ],
            [
             0.2,
             "#de77ae"
            ],
            [
             0.3,
             "#f1b6da"
            ],
            [
             0.4,
             "#fde0ef"
            ],
            [
             0.5,
             "#f7f7f7"
            ],
            [
             0.6,
             "#e6f5d0"
            ],
            [
             0.7,
             "#b8e186"
            ],
            [
             0.8,
             "#7fbc41"
            ],
            [
             0.9,
             "#4d9221"
            ],
            [
             1,
             "#276419"
            ]
           ],
           "sequential": [
            [
             0,
             "#0d0887"
            ],
            [
             0.1111111111111111,
             "#46039f"
            ],
            [
             0.2222222222222222,
             "#7201a8"
            ],
            [
             0.3333333333333333,
             "#9c179e"
            ],
            [
             0.4444444444444444,
             "#bd3786"
            ],
            [
             0.5555555555555556,
             "#d8576b"
            ],
            [
             0.6666666666666666,
             "#ed7953"
            ],
            [
             0.7777777777777778,
             "#fb9f3a"
            ],
            [
             0.8888888888888888,
             "#fdca26"
            ],
            [
             1,
             "#f0f921"
            ]
           ],
           "sequentialminus": [
            [
             0,
             "#0d0887"
            ],
            [
             0.1111111111111111,
             "#46039f"
            ],
            [
             0.2222222222222222,
             "#7201a8"
            ],
            [
             0.3333333333333333,
             "#9c179e"
            ],
            [
             0.4444444444444444,
             "#bd3786"
            ],
            [
             0.5555555555555556,
             "#d8576b"
            ],
            [
             0.6666666666666666,
             "#ed7953"
            ],
            [
             0.7777777777777778,
             "#fb9f3a"
            ],
            [
             0.8888888888888888,
             "#fdca26"
            ],
            [
             1,
             "#f0f921"
            ]
           ]
          },
          "colorway": [
           "#636efa",
           "#EF553B",
           "#00cc96",
           "#ab63fa",
           "#FFA15A",
           "#19d3f3",
           "#FF6692",
           "#B6E880",
           "#FF97FF",
           "#FECB52"
          ],
          "font": {
           "color": "#2a3f5f"
          },
          "geo": {
           "bgcolor": "white",
           "lakecolor": "white",
           "landcolor": "#E5ECF6",
           "showlakes": true,
           "showland": true,
           "subunitcolor": "white"
          },
          "hoverlabel": {
           "align": "left"
          },
          "hovermode": "closest",
          "mapbox": {
           "style": "light"
          },
          "paper_bgcolor": "white",
          "plot_bgcolor": "#E5ECF6",
          "polar": {
           "angularaxis": {
            "gridcolor": "white",
            "linecolor": "white",
            "ticks": ""
           },
           "bgcolor": "#E5ECF6",
           "radialaxis": {
            "gridcolor": "white",
            "linecolor": "white",
            "ticks": ""
           }
          },
          "scene": {
           "xaxis": {
            "backgroundcolor": "#E5ECF6",
            "gridcolor": "white",
            "gridwidth": 2,
            "linecolor": "white",
            "showbackground": true,
            "ticks": "",
            "zerolinecolor": "white"
           },
           "yaxis": {
            "backgroundcolor": "#E5ECF6",
            "gridcolor": "white",
            "gridwidth": 2,
            "linecolor": "white",
            "showbackground": true,
            "ticks": "",
            "zerolinecolor": "white"
           },
           "zaxis": {
            "backgroundcolor": "#E5ECF6",
            "gridcolor": "white",
            "gridwidth": 2,
            "linecolor": "white",
            "showbackground": true,
            "ticks": "",
            "zerolinecolor": "white"
           }
          },
          "shapedefaults": {
           "line": {
            "color": "#2a3f5f"
           }
          },
          "ternary": {
           "aaxis": {
            "gridcolor": "white",
            "linecolor": "white",
            "ticks": ""
           },
           "baxis": {
            "gridcolor": "white",
            "linecolor": "white",
            "ticks": ""
           },
           "bgcolor": "#E5ECF6",
           "caxis": {
            "gridcolor": "white",
            "linecolor": "white",
            "ticks": ""
           }
          },
          "title": {
           "x": 0.05
          },
          "xaxis": {
           "automargin": true,
           "gridcolor": "white",
           "linecolor": "white",
           "ticks": "",
           "title": {
            "standoff": 15
           },
           "zerolinecolor": "white",
           "zerolinewidth": 2
          },
          "yaxis": {
           "automargin": true,
           "gridcolor": "white",
           "linecolor": "white",
           "ticks": "",
           "title": {
            "standoff": 15
           },
           "zerolinecolor": "white",
           "zerolinewidth": 2
          }
         }
        },
        "xaxis": {
         "anchor": "y",
         "domain": [
          0,
          1
         ],
         "title": {
          "text": "Year"
         }
        },
        "yaxis": {
         "anchor": "x",
         "domain": [
          0,
          1
         ],
         "title": {
          "text": "gdp_ratio"
         }
        }
       }
      },
      "image/png": "[encoded data removed]"
     },
     "metadata": {},
     "output_type": "display_data"
    }
   ],
   "source": [
    "px.line(temp.reset_index().query('Entity in @list_of_countries'), x='Year', y='gdp_ratio', color='Entity')"
   ]
  }
 ],
 "metadata": {
  "kernelspec": {
   "display_name": "Python 3 (ipykernel)",
   "language": "python",
   "name": "python3"
  },
  "language_info": {
   "codemirror_mode": {
    "name": "ipython",
    "version": 3
   },
   "file_extension": ".py",
   "mimetype": "text/x-python",
   "name": "python",
   "nbconvert_exporter": "python",
   "pygments_lexer": "ipython3",
   "version": "3.9.23"
  }
 },
 "nbformat": 4,
 "nbformat_minor": 5
}
