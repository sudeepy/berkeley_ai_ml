{
 "cells": [
  {
   "cell_type": "markdown",
   "metadata": {
    "id": "vl52AMNK-Jex",
    "nbgrader": {
     "grade": false,
     "grade_id": "cell-b4aeafcc08060cad",
     "locked": true,
     "schema_version": 1,
     "solution": false
    }
   },
   "source": [
    "### Required Assignment 3.1: Replicating Data Visualizations\n",
    "\n",
    "**Expected Time: 30 Minutes**\n",
    "\n",
    "**Total Points: 10**\n",
    "\n",
    "This activity focuses on duplicating a given plot using the appropriate plotting library.  The `gapminder` dataset from plotly is used.  For each Problem, you will be shown an image of a plot produced using `matplotlib`, and `seaborn`.  You are asked to replicate the plot and enter the appropriate code for each Problem.  \n",
    "\n",
    "## Index:\n",
    "\n",
    "- [Problem 1](#Problem-1)\n",
    "- [Problem 2](#Problem-2)\n",
    "- [Problem 3](#Problem-3)\n",
    "- [Problem 4](#Problem-4)"
   ]
  },
  {
   "cell_type": "code",
   "execution_count": null,
   "metadata": {
    "id": "3MRKt1HL-Je2"
   },
   "outputs": [],
   "source": [
    "import plotly.express as px\n",
    "import pandas as pd\n",
    "import numpy as np\n",
    "import matplotlib.pyplot as plt\n",
    "import seaborn as sns"
   ]
  },
  {
   "cell_type": "code",
   "execution_count": null,
   "metadata": {
    "id": "LJC6zEd6-Je3"
   },
   "outputs": [],
   "source": [
    "gapminder = px.data.gapminder()"
   ]
  },
  {
   "cell_type": "code",
   "execution_count": null,
   "metadata": {
    "id": "tHFIxjuF-Je4",
    "outputId": "34c39fb9-0a9a-489c-e797-2a11a7d61631"
   },
   "outputs": [],
   "source": [
    "gapminder.head()"
   ]
  },
  {
   "cell_type": "code",
   "execution_count": null,
   "metadata": {
    "id": "rbmYEtT0-Je5",
    "outputId": "1d2c7214-b8e1-4aa1-fe5b-fd112b57db87"
   },
   "outputs": [],
   "source": [
    "gapminder.continent.unique()"
   ]
  },
  {
   "cell_type": "code",
   "execution_count": null,
   "metadata": {
    "id": "YTyqHNCp-Je5",
    "outputId": "78eb5e22-2010-4070-8144-36a1f877049c"
   },
   "outputs": [],
   "source": [
    "gapminder.info()"
   ]
  },
  {
   "cell_type": "markdown",
   "metadata": {
    "id": "mgwBRcM6-Je6",
    "nbgrader": {
     "grade": false,
     "grade_id": "cell-432dc6897398b609",
     "locked": true,
     "schema_version": 1,
     "solution": false
    }
   },
   "source": [
    "[Back to top](#Index:) \n",
    "\n",
    "### Problem 1\n",
    "\n",
    "**Basic Histogram**\n",
    "\n",
    "**2 Points**\n",
    "\n",
    "Use the `pandas` method `hist` to create a histogram plot of the column `lifeExp`. \n",
    "\n",
    "Set the title of your plot equal to `Histogram of Life Expentancy`.\n",
    "\n",
    "\n",
    "Save your plot as a png file with the name `plot1.png` in the folder `images`.\n",
    "\n",
    "\n",
    "![](images/np1.png)"
   ]
  },
  {
   "cell_type": "code",
   "execution_count": null,
   "metadata": {
    "id": "6zx6-BF6-Je7",
    "nbgrader": {
     "grade": false,
     "grade_id": "cell-2140b3188953158c",
     "locked": false,
     "schema_version": 1,
     "solution": true
    }
   },
   "outputs": [],
   "source": [
    "### GRADED\n",
    "\n",
    "### BEGIN SOLUTION\n",
    "gapminder.hist(\"lifeExp\")\n",
    "plt.title(\"Histogram of Life Expentancy\")\n",
    "plt.savefig(\"images/plot1.png\")\n",
    "### END SOLUTION"
   ]
  },
  {
   "cell_type": "markdown",
   "metadata": {
    "id": "hLmdOjgs-Je-",
    "nbgrader": {
     "grade": false,
     "grade_id": "cell-d4187855285aa28e",
     "locked": true,
     "schema_version": 1,
     "solution": false
    }
   },
   "source": [
    "[Back to top](#Index:) \n",
    "\n",
    "### Problem 2\n",
    "\n",
    "**Boxplots**\n",
    "\n",
    "**3 Points**\n",
    "\n",
    "Use `Seaborn` to create a boxplot of the `gapminder` dataframe. Sr the argument `x` equal to `lifeExp` and the variable `y` equal to `continent`.\n",
    "\n",
    "Save your plot as a png file with the name `plot2.png` in the folder `images`.\n",
    "\n",
    "![](images/np2.png)"
   ]
  },
  {
   "cell_type": "code",
   "execution_count": null,
   "metadata": {
    "id": "sqlOmKoV-Je-",
    "nbgrader": {
     "grade": false,
     "grade_id": "cell-ac53bf634aecaed8",
     "locked": false,
     "schema_version": 1,
     "solution": true
    }
   },
   "outputs": [],
   "source": [
    "### GRADED\n",
    "\n",
    "### BEGIN SOLUTION\n",
    "sns.boxplot(data=gapminder, x=\"lifeExp\", y=\"continent\")\n",
    "plt.savefig(\"images/plot2.png\")\n",
    "### END SOLUTION"
   ]
  },
  {
   "cell_type": "markdown",
   "metadata": {
    "id": "1Xtf2axK-Je_",
    "nbgrader": {
     "grade": false,
     "grade_id": "cell-6176c90c745e5625",
     "locked": true,
     "schema_version": 1,
     "solution": false
    }
   },
   "source": [
    "[Back to top](#Index:) \n",
    "\n",
    "### Problem 3\n",
    "\n",
    "**3 Points**\n",
    "\n",
    "**Bar Plot**\n",
    "\n",
    "Use `Seaborn` to create a barplot of the `gapminder` dataframe. Sr the argument `x` equal to `gdpPercap` and the variable `y` equal to `continent`.\n",
    "\n",
    "Save your plot as a png file with the name `plot3.png` in the folder `images`.\n",
    "\n",
    "![](images/p4.png)\n",
    " \n"
   ]
  },
  {
   "cell_type": "code",
   "execution_count": null,
   "metadata": {
    "id": "4zKh8qBK-JfA",
    "nbgrader": {
     "grade": false,
     "grade_id": "cell-5f15b3c5fb914a2b",
     "locked": false,
     "schema_version": 1,
     "solution": true
    }
   },
   "outputs": [],
   "source": [
    "### GRADED\n",
    "\n",
    "### BEGIN SOLUTION\n",
    "sns.barplot(data=gapminder, x=\"gdpPercap\", y=\"continent\")\n",
    "plt.savefig(\"images/plot3.png\")\n",
    "### END SOLUTION"
   ]
  },
  {
   "cell_type": "markdown",
   "metadata": {
    "id": "0nLi0k-8-JfA",
    "nbgrader": {
     "grade": false,
     "grade_id": "cell-d6fa701102b3ba71",
     "locked": true,
     "schema_version": 1,
     "solution": false
    }
   },
   "source": [
    "[Back to top](#Index:) \n",
    "\n",
    "### Problem 4\n",
    "\n",
    "**2 Points**\n",
    "\n",
    "**Scatterplot**\n",
    "\n",
    "Use `Seaborn` to create a scatterplot of the `gapminder` dataframe. Sr the argument `x` equal to `gdpPercap` and the variable `y` equal to `lifeExp`.\n",
    "\n",
    "Save your plot as a png file with the name `plot4.png` in the folder `images`.\n",
    "\n",
    "![](images/np4.png)\n",
    " \n",
    "\n"
   ]
  },
  {
   "cell_type": "code",
   "execution_count": null,
   "metadata": {
    "id": "lgvdSnCC-JfB",
    "nbgrader": {
     "grade": false,
     "grade_id": "cell-e518261a77800f7e",
     "locked": false,
     "schema_version": 1,
     "solution": true
    }
   },
   "outputs": [],
   "source": [
    "### GRADED\n",
    "\n",
    "### BEGIN SOLUTION\n",
    "sns.scatterplot(data=gapminder, x=\"gdpPercap\", y=\"lifeExp\")\n",
    "plt.savefig(\"images/plot4.png\")\n",
    "### END SOLUTION"
   ]
  },
  {
   "cell_type": "code",
   "execution_count": null,
   "metadata": {},
   "outputs": [],
   "source": []
  }
 ],
 "metadata": {
  "celltoolbar": "Create Assignment",
  "colab": {
   "name": "coding_activity_3.3.ipynb",
   "provenance": []
  },
  "kernelspec": {
   "display_name": "Python 3 (ipykernel)",
   "language": "python",
   "name": "python3"
  },
  "language_info": {
   "codemirror_mode": {
    "name": "ipython",
    "version": 3
   },
   "file_extension": ".py",
   "mimetype": "text/x-python",
   "name": "python",
   "nbconvert_exporter": "python",
   "pygments_lexer": "ipython3",
   "version": "3.11.9"
  }
 },
 "nbformat": 4,
 "nbformat_minor": 4
}
