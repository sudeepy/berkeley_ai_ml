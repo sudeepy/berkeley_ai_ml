{
 "cells": [
  {
   "cell_type": "markdown",
   "metadata": {
    "id": "v5GikoGtwLzu",
    "nbgrader": {
     "grade": false,
     "grade_id": "cell-310567357bf856d2",
     "locked": true,
     "schema_version": 1,
     "solution": false
    }
   },
   "source": [
    "### Self-Study Colab Activity 3.3: Filtering\n",
    "\n",
    "**Expected Time**: 60 Minutes\n",
    "\n",
    "\n",
    "\n",
    "This activity focuses on using the `filter` method that pandas groupby objects make available.  This function returns group elements filtered by a function passed to the argument.  Gapminder from plotly continues as our example dataset.\n",
    "\n",
    "#### Index:\n",
    "\n",
    "- [Problem 1](#Problem-1:-Counting-the-Original-Group-Size)\n",
    "- [Problem 2](#Problem-2:-Filtering-by-Population)\n",
    "- [Problem 3](#Problem-3:-What-continents-have-average-population-over-20M?)\n",
    "- [Problem 4](#Problem-4:-What-countries-have-an-average-life-expectancy-over-60?)\n",
    "- [Problem 5](#Problem-5:-Determining-the-percent-by-of-countries-with-average-life-expectancy-over-60-by-continent.)"
   ]
  },
  {
   "cell_type": "code",
   "execution_count": 1,
   "metadata": {
    "id": "rMVfSc2ewLzv",
    "nbgrader": {
     "grade": false,
     "grade_id": "cell-46b862477da8a251",
     "locked": true,
     "schema_version": 1,
     "solution": false
    }
   },
   "outputs": [],
   "source": [
    "import plotly.express as px\n",
    "import matplotlib.pyplot as plt\n",
    "import numpy as np\n",
    "import pandas as pd\n",
    "import seaborn as sns"
   ]
  },
  {
   "cell_type": "code",
   "execution_count": 2,
   "metadata": {
    "id": "_NIJSs9TwLzx",
    "nbgrader": {
     "grade": false,
     "grade_id": "cell-517f81d2250a18fd",
     "locked": true,
     "schema_version": 1,
     "solution": false
    }
   },
   "outputs": [],
   "source": [
    "gapminder = px.data.gapminder()"
   ]
  },
  {
   "cell_type": "code",
   "execution_count": 3,
   "metadata": {
    "colab": {
     "base_uri": "https://localhost:8080/",
     "height": 204
    },
    "id": "4TO4Ccw-wLzx",
    "nbgrader": {
     "grade": false,
     "grade_id": "cell-bb89d205fa3b9be8",
     "locked": true,
     "schema_version": 1,
     "solution": false
    },
    "outputId": "44c75b87-9310-41e1-c0e9-d294f7cebfb6"
   },
   "outputs": [
    {
     "data": {
      "text/html": [
       "<div>\n",
       "<style scoped>\n",
       "    .dataframe tbody tr th:only-of-type {\n",
       "        vertical-align: middle;\n",
       "    }\n",
       "\n",
       "    .dataframe tbody tr th {\n",
       "        vertical-align: top;\n",
       "    }\n",
       "\n",
       "    .dataframe thead th {\n",
       "        text-align: right;\n",
       "    }\n",
       "</style>\n",
       "<table border=\"1\" class=\"dataframe\">\n",
       "  <thead>\n",
       "    <tr style=\"text-align: right;\">\n",
       "      <th></th>\n",
       "      <th>country</th>\n",
       "      <th>continent</th>\n",
       "      <th>year</th>\n",
       "      <th>lifeExp</th>\n",
       "      <th>pop</th>\n",
       "      <th>gdpPercap</th>\n",
       "      <th>iso_alpha</th>\n",
       "      <th>iso_num</th>\n",
       "    </tr>\n",
       "  </thead>\n",
       "  <tbody>\n",
       "    <tr>\n",
       "      <th>0</th>\n",
       "      <td>Afghanistan</td>\n",
       "      <td>Asia</td>\n",
       "      <td>1952</td>\n",
       "      <td>28.801</td>\n",
       "      <td>8425333</td>\n",
       "      <td>779.445314</td>\n",
       "      <td>AFG</td>\n",
       "      <td>4</td>\n",
       "    </tr>\n",
       "    <tr>\n",
       "      <th>1</th>\n",
       "      <td>Afghanistan</td>\n",
       "      <td>Asia</td>\n",
       "      <td>1957</td>\n",
       "      <td>30.332</td>\n",
       "      <td>9240934</td>\n",
       "      <td>820.853030</td>\n",
       "      <td>AFG</td>\n",
       "      <td>4</td>\n",
       "    </tr>\n",
       "    <tr>\n",
       "      <th>2</th>\n",
       "      <td>Afghanistan</td>\n",
       "      <td>Asia</td>\n",
       "      <td>1962</td>\n",
       "      <td>31.997</td>\n",
       "      <td>10267083</td>\n",
       "      <td>853.100710</td>\n",
       "      <td>AFG</td>\n",
       "      <td>4</td>\n",
       "    </tr>\n",
       "    <tr>\n",
       "      <th>3</th>\n",
       "      <td>Afghanistan</td>\n",
       "      <td>Asia</td>\n",
       "      <td>1967</td>\n",
       "      <td>34.020</td>\n",
       "      <td>11537966</td>\n",
       "      <td>836.197138</td>\n",
       "      <td>AFG</td>\n",
       "      <td>4</td>\n",
       "    </tr>\n",
       "    <tr>\n",
       "      <th>4</th>\n",
       "      <td>Afghanistan</td>\n",
       "      <td>Asia</td>\n",
       "      <td>1972</td>\n",
       "      <td>36.088</td>\n",
       "      <td>13079460</td>\n",
       "      <td>739.981106</td>\n",
       "      <td>AFG</td>\n",
       "      <td>4</td>\n",
       "    </tr>\n",
       "  </tbody>\n",
       "</table>\n",
       "</div>"
      ],
      "text/plain": [
       "       country continent  year  lifeExp       pop   gdpPercap iso_alpha  \\\n",
       "0  Afghanistan      Asia  1952   28.801   8425333  779.445314       AFG   \n",
       "1  Afghanistan      Asia  1957   30.332   9240934  820.853030       AFG   \n",
       "2  Afghanistan      Asia  1962   31.997  10267083  853.100710       AFG   \n",
       "3  Afghanistan      Asia  1967   34.020  11537966  836.197138       AFG   \n",
       "4  Afghanistan      Asia  1972   36.088  13079460  739.981106       AFG   \n",
       "\n",
       "   iso_num  \n",
       "0        4  \n",
       "1        4  \n",
       "2        4  \n",
       "3        4  \n",
       "4        4  "
      ]
     },
     "execution_count": 3,
     "metadata": {},
     "output_type": "execute_result"
    }
   ],
   "source": [
    "gapminder.head()"
   ]
  },
  {
   "cell_type": "markdown",
   "metadata": {
    "id": "sq13HgFkwLzy",
    "nbgrader": {
     "grade": false,
     "grade_id": "cell-74ba41658ab41830",
     "locked": true,
     "schema_version": 1,
     "solution": false
    }
   },
   "source": [
    "### Example Usage\n",
    "\n",
    "The example below separates the pandas `groupby` object from the `filter` operation.  The result of grouping on the `continent` column is bound to the `groups` variable below.  Then, a filter is applied to limit the continents to those with a mean life expectancy greater than 70.  The result is a DataFrame, and in this example, only Europe and Oceania remain."
   ]
  },
  {
   "cell_type": "code",
   "execution_count": 4,
   "metadata": {
    "colab": {
     "base_uri": "https://localhost:8080/"
    },
    "id": "1cr5aCOiwLzy",
    "nbgrader": {
     "grade": false,
     "grade_id": "cell-c11ae7b07811f9a8",
     "locked": true,
     "schema_version": 1,
     "solution": false
    },
    "outputId": "6eae644f-5040-4baa-a64f-860141aa1cab"
   },
   "outputs": [
    {
     "data": {
      "text/plain": [
       "(1704, 8)"
      ]
     },
     "execution_count": 4,
     "metadata": {},
     "output_type": "execute_result"
    }
   ],
   "source": [
    "#there are 1704 rows to begin with\n",
    "gapminder.shape"
   ]
  },
  {
   "cell_type": "code",
   "execution_count": 5,
   "metadata": {
    "id": "c07RbZsKwLzz",
    "nbgrader": {
     "grade": false,
     "grade_id": "cell-2d987d9e1526ee8b",
     "locked": true,
     "schema_version": 1,
     "solution": false
    }
   },
   "outputs": [],
   "source": [
    "#create groupby object\n",
    "groups = gapminder.groupby('continent')"
   ]
  },
  {
   "cell_type": "code",
   "execution_count": 6,
   "metadata": {
    "colab": {
     "base_uri": "https://localhost:8080/",
     "height": 204
    },
    "id": "VLivxD_HwLzz",
    "nbgrader": {
     "grade": false,
     "grade_id": "cell-2adf782b5bcbaf42",
     "locked": true,
     "schema_version": 1,
     "solution": false
    },
    "outputId": "9c33e6c5-33b3-4d16-a346-a282d40c37f1"
   },
   "outputs": [
    {
     "data": {
      "text/html": [
       "<div>\n",
       "<style scoped>\n",
       "    .dataframe tbody tr th:only-of-type {\n",
       "        vertical-align: middle;\n",
       "    }\n",
       "\n",
       "    .dataframe tbody tr th {\n",
       "        vertical-align: top;\n",
       "    }\n",
       "\n",
       "    .dataframe thead th {\n",
       "        text-align: right;\n",
       "    }\n",
       "</style>\n",
       "<table border=\"1\" class=\"dataframe\">\n",
       "  <thead>\n",
       "    <tr style=\"text-align: right;\">\n",
       "      <th></th>\n",
       "      <th>country</th>\n",
       "      <th>continent</th>\n",
       "      <th>year</th>\n",
       "      <th>lifeExp</th>\n",
       "      <th>pop</th>\n",
       "      <th>gdpPercap</th>\n",
       "      <th>iso_alpha</th>\n",
       "      <th>iso_num</th>\n",
       "    </tr>\n",
       "  </thead>\n",
       "  <tbody>\n",
       "    <tr>\n",
       "      <th>12</th>\n",
       "      <td>Albania</td>\n",
       "      <td>Europe</td>\n",
       "      <td>1952</td>\n",
       "      <td>55.23</td>\n",
       "      <td>1282697</td>\n",
       "      <td>1601.056136</td>\n",
       "      <td>ALB</td>\n",
       "      <td>8</td>\n",
       "    </tr>\n",
       "    <tr>\n",
       "      <th>13</th>\n",
       "      <td>Albania</td>\n",
       "      <td>Europe</td>\n",
       "      <td>1957</td>\n",
       "      <td>59.28</td>\n",
       "      <td>1476505</td>\n",
       "      <td>1942.284244</td>\n",
       "      <td>ALB</td>\n",
       "      <td>8</td>\n",
       "    </tr>\n",
       "    <tr>\n",
       "      <th>14</th>\n",
       "      <td>Albania</td>\n",
       "      <td>Europe</td>\n",
       "      <td>1962</td>\n",
       "      <td>64.82</td>\n",
       "      <td>1728137</td>\n",
       "      <td>2312.888958</td>\n",
       "      <td>ALB</td>\n",
       "      <td>8</td>\n",
       "    </tr>\n",
       "    <tr>\n",
       "      <th>15</th>\n",
       "      <td>Albania</td>\n",
       "      <td>Europe</td>\n",
       "      <td>1967</td>\n",
       "      <td>66.22</td>\n",
       "      <td>1984060</td>\n",
       "      <td>2760.196931</td>\n",
       "      <td>ALB</td>\n",
       "      <td>8</td>\n",
       "    </tr>\n",
       "    <tr>\n",
       "      <th>16</th>\n",
       "      <td>Albania</td>\n",
       "      <td>Europe</td>\n",
       "      <td>1972</td>\n",
       "      <td>67.69</td>\n",
       "      <td>2263554</td>\n",
       "      <td>3313.422188</td>\n",
       "      <td>ALB</td>\n",
       "      <td>8</td>\n",
       "    </tr>\n",
       "  </tbody>\n",
       "</table>\n",
       "</div>"
      ],
      "text/plain": [
       "    country continent  year  lifeExp      pop    gdpPercap iso_alpha  iso_num\n",
       "12  Albania    Europe  1952    55.23  1282697  1601.056136       ALB        8\n",
       "13  Albania    Europe  1957    59.28  1476505  1942.284244       ALB        8\n",
       "14  Albania    Europe  1962    64.82  1728137  2312.888958       ALB        8\n",
       "15  Albania    Europe  1967    66.22  1984060  2760.196931       ALB        8\n",
       "16  Albania    Europe  1972    67.69  2263554  3313.422188       ALB        8"
      ]
     },
     "execution_count": 6,
     "metadata": {},
     "output_type": "execute_result"
    }
   ],
   "source": [
    "#apply the filtering operation\n",
    "filtered_lifeExp = groups.filter(lambda x: x['lifeExp'].mean() > 70)\n",
    "filtered_lifeExp.head()"
   ]
  },
  {
   "cell_type": "code",
   "execution_count": 7,
   "metadata": {
    "colab": {
     "base_uri": "https://localhost:8080/"
    },
    "id": "vN-74ASSwLz0",
    "nbgrader": {
     "grade": false,
     "grade_id": "cell-ac872f89d117ea3d",
     "locked": true,
     "schema_version": 1,
     "solution": false
    },
    "outputId": "b557a331-3602-4ce3-cd59-473549275cfb"
   },
   "outputs": [
    {
     "data": {
      "text/plain": [
       "array(['Europe', 'Oceania'], dtype=object)"
      ]
     },
     "execution_count": 7,
     "metadata": {},
     "output_type": "execute_result"
    }
   ],
   "source": [
    "#only Europe and Oceania remain\n",
    "filtered_lifeExp.continent.unique()"
   ]
  },
  {
   "cell_type": "markdown",
   "metadata": {
    "id": "msLuttIewLz0",
    "nbgrader": {
     "grade": false,
     "grade_id": "cell-8f64d6bf7ffd7c18",
     "locked": true,
     "schema_version": 1,
     "solution": false
    }
   },
   "source": [
    "[Back to top](#Index:)\n",
    "\n",
    "\n",
    "### Problem 1: Counting the Original Group Size\n",
    "\n",
    "\n",
    "\n",
    "Use the `groupby` method on the `gapminder` DataFrame to group the `continent` column. Next, use the `size()` method on these groups to determine the count of countries in each continent. Save your result as a series to `ans1` below.  "
   ]
  },
  {
   "cell_type": "code",
   "execution_count": 8,
   "metadata": {
    "colab": {
     "base_uri": "https://localhost:8080/"
    },
    "id": "vANYt1N_wLz0",
    "nbgrader": {
     "grade": false,
     "grade_id": "cell-689c47bd3c85f8a6",
     "locked": false,
     "schema_version": 1,
     "solution": true
    },
    "outputId": "d9fc46ef-4cfe-4538-e75d-b3fee259d9f0"
   },
   "outputs": [
    {
     "name": "stdout",
     "output_type": "stream",
     "text": [
      "continent\n",
      "Africa      624\n",
      "Americas    300\n",
      "Asia        396\n",
      "Europe      360\n",
      "Oceania      24\n",
      "dtype: int64\n",
      "<class 'pandas.core.series.Series'>\n"
     ]
    }
   ],
   "source": [
    "\n",
    "\n",
    "ans1 = gapminder.groupby('continent').size()\n",
    "\n",
    "\n",
    "\n",
    "# Answer check\n",
    "print(ans1)\n",
    "print(type(ans1))"
   ]
  },
  {
   "cell_type": "markdown",
   "metadata": {
    "id": "sYXiTV81wLz1",
    "nbgrader": {
     "grade": false,
     "grade_id": "cell-a7e4aafa01ccec82",
     "locked": true,
     "schema_version": 1,
     "solution": false
    }
   },
   "source": [
    "[Back to top](#Index:)\n",
    "\n",
    "### Problem 2: Filtering by Population\n",
    "\n",
    "\n",
    "\n",
    "Use the `groupby` method on the `gapminder` DataFrame to group the `country` column.  Next, use the `filter` method to limit the data to countries with an average population greater than 20,000,000.  Assign the resulting DataFrame to `ans2` below."
   ]
  },
  {
   "cell_type": "code",
   "execution_count": 9,
   "metadata": {
    "colab": {
     "base_uri": "https://localhost:8080/"
    },
    "id": "Q7qAkJCcwLz1",
    "nbgrader": {
     "grade": false,
     "grade_id": "cell-141718f9b9a53993",
     "locked": false,
     "schema_version": 1,
     "solution": true
    },
    "outputId": "49a7e730-47f5-4b5f-cd17-645d212ea715"
   },
   "outputs": [
    {
     "name": "stdout",
     "output_type": "stream",
     "text": [
      "        country continent  year  lifeExp       pop    gdpPercap iso_alpha  \\\n",
      "48    Argentina  Americas  1952   62.485  17876956  5911.315053       ARG   \n",
      "49    Argentina  Americas  1957   64.399  19610538  6856.856212       ARG   \n",
      "50    Argentina  Americas  1962   65.142  21283783  7133.166023       ARG   \n",
      "51    Argentina  Americas  1967   65.634  22934225  8052.953021       ARG   \n",
      "52    Argentina  Americas  1972   67.065  24779799  9443.038526       ARG   \n",
      "...         ...       ...   ...      ...       ...          ...       ...   \n",
      "1651    Vietnam      Asia  1987   62.820  62826491   820.799445       VNM   \n",
      "1652    Vietnam      Asia  1992   67.662  69940728   989.023149       VNM   \n",
      "1653    Vietnam      Asia  1997   70.672  76048996  1385.896769       VNM   \n",
      "1654    Vietnam      Asia  2002   73.017  80908147  1764.456677       VNM   \n",
      "1655    Vietnam      Asia  2007   74.249  85262356  2441.576404       VNM   \n",
      "\n",
      "      iso_num  \n",
      "48         32  \n",
      "49         32  \n",
      "50         32  \n",
      "51         32  \n",
      "52         32  \n",
      "...       ...  \n",
      "1651      704  \n",
      "1652      704  \n",
      "1653      704  \n",
      "1654      704  \n",
      "1655      704  \n",
      "\n",
      "[408 rows x 8 columns]\n",
      "<class 'pandas.core.frame.DataFrame'>\n"
     ]
    }
   ],
   "source": [
    "\n",
    "\n",
    "ans2 = gapminder.groupby('country').filter(lambda s: s['pop'].mean() > 20_000_000)\n",
    "\n",
    "\n",
    "\n",
    "# Answer check\n",
    "print(ans2)\n",
    "print(type(ans2))"
   ]
  },
  {
   "cell_type": "markdown",
   "metadata": {
    "id": "0a8UMqhGwLz2",
    "nbgrader": {
     "grade": false,
     "grade_id": "cell-17e9dc342c490639",
     "locked": true,
     "schema_version": 1,
     "solution": false
    }
   },
   "source": [
    "[Back to top](#Index:)\n",
    "\n",
    "\n",
    "### Problem 3: What continents have average population over 20M?\n",
    "\n",
    "\n",
    "\n",
    "Use the `groupby` method on the `gapminder` DataFrame to group the `continent` column. Next, use the `filter` method to limit the data to countries with an average population greater than 20,000,000. Use another `group by` method with an argument equal to `continent`. To this method, chain the following `size().index.tolist()` to get a list of continent names.\n",
    "\n",
    "Assign your answer  to `ans3` below."
   ]
  },
  {
   "cell_type": "code",
   "execution_count": 12,
   "metadata": {
    "colab": {
     "base_uri": "https://localhost:8080/"
    },
    "id": "Q_9x6xd4wLz2",
    "nbgrader": {
     "grade": false,
     "grade_id": "cell-ae93ad232626fc4f",
     "locked": false,
     "schema_version": 1,
     "solution": true
    },
    "outputId": "48bbd65a-83fb-4e5f-8896-f65fec05eb59"
   },
   "outputs": [
    {
     "name": "stdout",
     "output_type": "stream",
     "text": [
      "['Africa', 'Americas', 'Asia', 'Europe']\n",
      "<class 'list'>\n"
     ]
    }
   ],
   "source": [
    "\n",
    "\n",
    "ans3 = gapminder.groupby('country').filter(lambda s: s['pop'].mean() > 20_000_000).reset_index().groupby('continent').size().index.tolist()\n",
    "\n",
    "\n",
    "\n",
    "# Answer check\n",
    "print(ans3)\n",
    "print(type(ans3))"
   ]
  },
  {
   "cell_type": "markdown",
   "metadata": {
    "id": "VLfiNfzFwLz3",
    "nbgrader": {
     "grade": false,
     "grade_id": "cell-5d098cb462004395",
     "locked": true,
     "schema_version": 1,
     "solution": false
    }
   },
   "source": [
    "[Back to top](#Index:)\n",
    "\n",
    "\n",
    "### Problem 4: What countries have an average life expectancy over 60?\n",
    "\n",
    "\n",
    "\n",
    "Use the `groupby` method on the `gapminder` DataFrame to group the `country` column. Next, use the `filter` method to limit the data to countries with average life expectancy greater than 60.\n",
    "\n",
    "Assign your solution as a DataFrame to `ans4` below.  "
   ]
  },
  {
   "cell_type": "code",
   "execution_count": 13,
   "metadata": {
    "colab": {
     "base_uri": "https://localhost:8080/"
    },
    "id": "9X0xPELfwLz3",
    "nbgrader": {
     "grade": false,
     "grade_id": "cell-0bf7eae0f4a8f940",
     "locked": false,
     "schema_version": 1,
     "solution": true
    },
    "outputId": "1fe135a9-d44d-49c7-c82d-5ae0a2bef94a"
   },
   "outputs": [
    {
     "name": "stdout",
     "output_type": "stream",
     "text": [
      "                 country continent  year  lifeExp      pop    gdpPercap  \\\n",
      "12               Albania    Europe  1952   55.230  1282697  1601.056136   \n",
      "13               Albania    Europe  1957   59.280  1476505  1942.284244   \n",
      "14               Albania    Europe  1962   64.820  1728137  2312.888958   \n",
      "15               Albania    Europe  1967   66.220  1984060  2760.196931   \n",
      "16               Albania    Europe  1972   67.690  2263554  3313.422188   \n",
      "...                  ...       ...   ...      ...      ...          ...   \n",
      "1663  West Bank and Gaza      Asia  1987   67.046  1691210  5107.197384   \n",
      "1664  West Bank and Gaza      Asia  1992   69.718  2104779  6017.654756   \n",
      "1665  West Bank and Gaza      Asia  1997   71.096  2826046  7110.667619   \n",
      "1666  West Bank and Gaza      Asia  2002   72.370  3389578  4515.487575   \n",
      "1667  West Bank and Gaza      Asia  2007   73.422  4018332  3025.349798   \n",
      "\n",
      "     iso_alpha  iso_num  \n",
      "12         ALB        8  \n",
      "13         ALB        8  \n",
      "14         ALB        8  \n",
      "15         ALB        8  \n",
      "16         ALB        8  \n",
      "...        ...      ...  \n",
      "1663       PSE      275  \n",
      "1664       PSE      275  \n",
      "1665       PSE      275  \n",
      "1666       PSE      275  \n",
      "1667       PSE      275  \n",
      "\n",
      "[828 rows x 8 columns]\n",
      "<class 'pandas.core.frame.DataFrame'>\n"
     ]
    }
   ],
   "source": [
    "\n",
    "\n",
    "ans4 = gapminder.groupby('country').filter(lambda s: s['lifeExp'].mean() > 60)\n",
    "\n",
    "\n",
    "\n",
    "# Answer check\n",
    "print(ans4)\n",
    "print(type(ans4))"
   ]
  },
  {
   "cell_type": "markdown",
   "metadata": {
    "id": "SiGKnQHtwLz3",
    "nbgrader": {
     "grade": false,
     "grade_id": "cell-d2a12acfefef0275",
     "locked": true,
     "schema_version": 1,
     "solution": false
    }
   },
   "source": [
    "[Back to top](#Index:)\n",
    "\n",
    "\n",
    "### Problem 5: Determining the percent by of countries with average life expectancy over 60 by continent.\n",
    "\n",
    "\n",
    "\n",
    "Determine the percent of countries with life expectancy over 60 as follows:\n",
    "\n",
    "- Use the `groupby` method on the `gapminder` DataFrame to group the `continent` column. Use a double square bracket notation to apply this grouping on the `country` column. Next, use the `size` method to count the countries in each continent. Assign your result to `ans5a` below.\n",
    "\n",
    "\n",
    "- Use the `groupby` method on the `gapminder` DataFrame to group the `country` column. Next, use the `filter` method to select the countries for which the average life expectancy  is greater than 60. Chain `.groupby('continent')[['country']].size()` to count the number of countries in each continent. Save your result as `ans5b` below.\n",
    "\n",
    "\n",
    "- Divide answer `ans5b` by `ans5a` to determine the percent and assign your answer to `ans5c` below."
   ]
  },
  {
   "cell_type": "code",
   "execution_count": 20,
   "metadata": {
    "colab": {
     "base_uri": "https://localhost:8080/"
    },
    "id": "s6KRqZUvwLz4",
    "nbgrader": {
     "grade": false,
     "grade_id": "cell-2ea0d90a39d9eb7f",
     "locked": false,
     "schema_version": 1,
     "solution": true
    },
    "outputId": "36e58187-addc-412c-979c-8eabdd2ce759"
   },
   "outputs": [
    {
     "name": "stdout",
     "output_type": "stream",
     "text": [
      "continent\n",
      "Africa      624\n",
      "Americas    300\n",
      "Asia        396\n",
      "Europe      360\n",
      "Oceania      24\n",
      "dtype: int64\n",
      "continent\n",
      "Africa       36\n",
      "Americas    216\n",
      "Asia        204\n",
      "Europe      348\n",
      "Oceania      24\n",
      "dtype: int64\n",
      "continent\n",
      "Africa      0.057692\n",
      "Americas    0.720000\n",
      "Asia        0.515152\n",
      "Europe      0.966667\n",
      "Oceania     1.000000\n",
      "dtype: float64\n",
      "<class 'pandas.core.series.Series'>\n"
     ]
    }
   ],
   "source": [
    "\n",
    "\n",
    "ans5a = gapminder.groupby('continent')[['country']].size()\n",
    "ans5b = gapminder.groupby('country').filter(lambda s: s['lifeExp'].mean() > 60).groupby('continent')[['country']].size()\n",
    "ans5c = ans5b / ans5a\n",
    "\n",
    "\n",
    "\n",
    "# Answer check\n",
    "print(ans5a)\n",
    "print(ans5b)\n",
    "print(ans5c)\n",
    "print(type(ans5c))"
   ]
  },
  {
   "cell_type": "code",
   "execution_count": null,
   "metadata": {
    "id": "cdpZrCiywLz4"
   },
   "outputs": [],
   "source": []
  }
 ],
 "metadata": {
  "celltoolbar": "Create Assignment",
  "colab": {
   "provenance": []
  },
  "kernelspec": {
   "display_name": "Python 3 (ipykernel)",
   "language": "python",
   "name": "python3"
  },
  "language_info": {
   "codemirror_mode": {
    "name": "ipython",
    "version": 3
   },
   "file_extension": ".py",
   "mimetype": "text/x-python",
   "name": "python",
   "nbconvert_exporter": "python",
   "pygments_lexer": "ipython3",
   "version": "3.9.23"
  }
 },
 "nbformat": 4,
 "nbformat_minor": 4
}
