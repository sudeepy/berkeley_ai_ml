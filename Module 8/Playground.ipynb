{
 "cells": [
  {
   "cell_type": "code",
   "execution_count": 1,
   "id": "f4ecf2b3-5560-4759-a8a7-6107778fea51",
   "metadata": {},
   "outputs": [],
   "source": [
    "import pandas as pd\n",
    "\n",
    "from sklearn.preprocessing import PolynomialFeatures"
   ]
  },
  {
   "cell_type": "code",
   "execution_count": 2,
   "id": "cd498862-fe0a-4ae2-91fb-e68526ba5b79",
   "metadata": {},
   "outputs": [],
   "source": [
    "df = pd.DataFrame({\n",
    "    'alpha': [1, 2, 3, 4],\n",
    "    'beta': [5, 6, 7, 8],\n",
    "})"
   ]
  },
  {
   "cell_type": "code",
   "execution_count": 4,
   "id": "a69c733f-a4db-44d1-8998-320e30c5543e",
   "metadata": {},
   "outputs": [
    {
     "data": {
      "text/html": [
       "<style>#sk-container-id-1 {color: black;background-color: white;}#sk-container-id-1 pre{padding: 0;}#sk-container-id-1 div.sk-toggleable {background-color: white;}#sk-container-id-1 label.sk-toggleable__label {cursor: pointer;display: block;width: 100%;margin-bottom: 0;padding: 0.3em;box-sizing: border-box;text-align: center;}#sk-container-id-1 label.sk-toggleable__label-arrow:before {content: \"▸\";float: left;margin-right: 0.25em;color: #696969;}#sk-container-id-1 label.sk-toggleable__label-arrow:hover:before {color: black;}#sk-container-id-1 div.sk-estimator:hover label.sk-toggleable__label-arrow:before {color: black;}#sk-container-id-1 div.sk-toggleable__content {max-height: 0;max-width: 0;overflow: hidden;text-align: left;background-color: #f0f8ff;}#sk-container-id-1 div.sk-toggleable__content pre {margin: 0.2em;color: black;border-radius: 0.25em;background-color: #f0f8ff;}#sk-container-id-1 input.sk-toggleable__control:checked~div.sk-toggleable__content {max-height: 200px;max-width: 100%;overflow: auto;}#sk-container-id-1 input.sk-toggleable__control:checked~label.sk-toggleable__label-arrow:before {content: \"▾\";}#sk-container-id-1 div.sk-estimator input.sk-toggleable__control:checked~label.sk-toggleable__label {background-color: #d4ebff;}#sk-container-id-1 div.sk-label input.sk-toggleable__control:checked~label.sk-toggleable__label {background-color: #d4ebff;}#sk-container-id-1 input.sk-hidden--visually {border: 0;clip: rect(1px 1px 1px 1px);clip: rect(1px, 1px, 1px, 1px);height: 1px;margin: -1px;overflow: hidden;padding: 0;position: absolute;width: 1px;}#sk-container-id-1 div.sk-estimator {font-family: monospace;background-color: #f0f8ff;border: 1px dotted black;border-radius: 0.25em;box-sizing: border-box;margin-bottom: 0.5em;}#sk-container-id-1 div.sk-estimator:hover {background-color: #d4ebff;}#sk-container-id-1 div.sk-parallel-item::after {content: \"\";width: 100%;border-bottom: 1px solid gray;flex-grow: 1;}#sk-container-id-1 div.sk-label:hover label.sk-toggleable__label {background-color: #d4ebff;}#sk-container-id-1 div.sk-serial::before {content: \"\";position: absolute;border-left: 1px solid gray;box-sizing: border-box;top: 0;bottom: 0;left: 50%;z-index: 0;}#sk-container-id-1 div.sk-serial {display: flex;flex-direction: column;align-items: center;background-color: white;padding-right: 0.2em;padding-left: 0.2em;position: relative;}#sk-container-id-1 div.sk-item {position: relative;z-index: 1;}#sk-container-id-1 div.sk-parallel {display: flex;align-items: stretch;justify-content: center;background-color: white;position: relative;}#sk-container-id-1 div.sk-item::before, #sk-container-id-1 div.sk-parallel-item::before {content: \"\";position: absolute;border-left: 1px solid gray;box-sizing: border-box;top: 0;bottom: 0;left: 50%;z-index: -1;}#sk-container-id-1 div.sk-parallel-item {display: flex;flex-direction: column;z-index: 1;position: relative;background-color: white;}#sk-container-id-1 div.sk-parallel-item:first-child::after {align-self: flex-end;width: 50%;}#sk-container-id-1 div.sk-parallel-item:last-child::after {align-self: flex-start;width: 50%;}#sk-container-id-1 div.sk-parallel-item:only-child::after {width: 0;}#sk-container-id-1 div.sk-dashed-wrapped {border: 1px dashed gray;margin: 0 0.4em 0.5em 0.4em;box-sizing: border-box;padding-bottom: 0.4em;background-color: white;}#sk-container-id-1 div.sk-label label {font-family: monospace;font-weight: bold;display: inline-block;line-height: 1.2em;}#sk-container-id-1 div.sk-label-container {text-align: center;}#sk-container-id-1 div.sk-container {/* jupyter's `normalize.less` sets `[hidden] { display: none; }` but bootstrap.min.css set `[hidden] { display: none !important; }` so we also need the `!important` here to be able to override the default hidden behavior on the sphinx rendered scikit-learn.org. See: https://github.com/scikit-learn/scikit-learn/issues/21755 */display: inline-block !important;position: relative;}#sk-container-id-1 div.sk-text-repr-fallback {display: none;}</style><div id=\"sk-container-id-1\" class=\"sk-top-container\"><div class=\"sk-text-repr-fallback\"><pre>PolynomialFeatures()</pre><b>In a Jupyter environment, please rerun this cell to show the HTML representation or trust the notebook. <br />On GitHub, the HTML representation is unable to render, please try loading this page with nbviewer.org.</b></div><div class=\"sk-container\" hidden><div class=\"sk-item\"><div class=\"sk-estimator sk-toggleable\"><input class=\"sk-toggleable__control sk-hidden--visually\" id=\"sk-estimator-id-1\" type=\"checkbox\" checked><label for=\"sk-estimator-id-1\" class=\"sk-toggleable__label sk-toggleable__label-arrow\">PolynomialFeatures</label><div class=\"sk-toggleable__content\"><pre>PolynomialFeatures()</pre></div></div></div></div></div>"
      ],
      "text/plain": [
       "PolynomialFeatures()"
      ]
     },
     "execution_count": 4,
     "metadata": {},
     "output_type": "execute_result"
    }
   ],
   "source": [
    "poly_transform = PolynomialFeatures(degree=2)\n",
    "poly_transform.fit(df[['alpha', 'beta']])"
   ]
  },
  {
   "cell_type": "code",
   "execution_count": 6,
   "id": "313a5184-28b0-46fe-8865-86b2136a88fc",
   "metadata": {},
   "outputs": [
    {
     "data": {
      "text/plain": [
       "array([[ 1.,  1.,  5.,  1.,  5., 25.],\n",
       "       [ 1.,  2.,  6.,  4., 12., 36.],\n",
       "       [ 1.,  3.,  7.,  9., 21., 49.],\n",
       "       [ 1.,  4.,  8., 16., 32., 64.]])"
      ]
     },
     "execution_count": 6,
     "metadata": {},
     "output_type": "execute_result"
    }
   ],
   "source": [
    "transformed_data = poly_transform.transform(df[['alpha', 'beta']])\n",
    "transformed_data"
   ]
  },
  {
   "cell_type": "code",
   "execution_count": 7,
   "id": "cc1a70fe-27df-4630-88b2-35e40d178616",
   "metadata": {},
   "outputs": [
    {
     "data": {
      "text/plain": [
       "array(['1', 'alpha', 'beta', 'alpha^2', 'alpha beta', 'beta^2'],\n",
       "      dtype=object)"
      ]
     },
     "execution_count": 7,
     "metadata": {},
     "output_type": "execute_result"
    }
   ],
   "source": [
    "poly_transform.get_feature_names_out()"
   ]
  },
  {
   "cell_type": "code",
   "execution_count": 10,
   "id": "c33ca9e9-21a3-445c-96c5-97ea8e61bc52",
   "metadata": {},
   "outputs": [
    {
     "data": {
      "text/html": [
       "<div>\n",
       "<style scoped>\n",
       "    .dataframe tbody tr th:only-of-type {\n",
       "        vertical-align: middle;\n",
       "    }\n",
       "\n",
       "    .dataframe tbody tr th {\n",
       "        vertical-align: top;\n",
       "    }\n",
       "\n",
       "    .dataframe thead th {\n",
       "        text-align: right;\n",
       "    }\n",
       "</style>\n",
       "<table border=\"1\" class=\"dataframe\">\n",
       "  <thead>\n",
       "    <tr style=\"text-align: right;\">\n",
       "      <th></th>\n",
       "      <th>1</th>\n",
       "      <th>alpha</th>\n",
       "      <th>beta</th>\n",
       "      <th>alpha^2</th>\n",
       "      <th>alpha beta</th>\n",
       "      <th>beta^2</th>\n",
       "    </tr>\n",
       "  </thead>\n",
       "  <tbody>\n",
       "    <tr>\n",
       "      <th>0</th>\n",
       "      <td>1.0</td>\n",
       "      <td>1.0</td>\n",
       "      <td>5.0</td>\n",
       "      <td>1.0</td>\n",
       "      <td>5.0</td>\n",
       "      <td>25.0</td>\n",
       "    </tr>\n",
       "    <tr>\n",
       "      <th>1</th>\n",
       "      <td>1.0</td>\n",
       "      <td>2.0</td>\n",
       "      <td>6.0</td>\n",
       "      <td>4.0</td>\n",
       "      <td>12.0</td>\n",
       "      <td>36.0</td>\n",
       "    </tr>\n",
       "    <tr>\n",
       "      <th>2</th>\n",
       "      <td>1.0</td>\n",
       "      <td>3.0</td>\n",
       "      <td>7.0</td>\n",
       "      <td>9.0</td>\n",
       "      <td>21.0</td>\n",
       "      <td>49.0</td>\n",
       "    </tr>\n",
       "    <tr>\n",
       "      <th>3</th>\n",
       "      <td>1.0</td>\n",
       "      <td>4.0</td>\n",
       "      <td>8.0</td>\n",
       "      <td>16.0</td>\n",
       "      <td>32.0</td>\n",
       "      <td>64.0</td>\n",
       "    </tr>\n",
       "  </tbody>\n",
       "</table>\n",
       "</div>"
      ],
      "text/plain": [
       "     1  alpha  beta  alpha^2  alpha beta  beta^2\n",
       "0  1.0    1.0   5.0      1.0         5.0    25.0\n",
       "1  1.0    2.0   6.0      4.0        12.0    36.0\n",
       "2  1.0    3.0   7.0      9.0        21.0    49.0\n",
       "3  1.0    4.0   8.0     16.0        32.0    64.0"
      ]
     },
     "execution_count": 10,
     "metadata": {},
     "output_type": "execute_result"
    }
   ],
   "source": [
    "transformed_data = pd.DataFrame(\n",
    "    poly_transform.transform(df[['alpha', 'beta']]),\n",
    "    columns=poly_transform.get_feature_names_out(),\n",
    ")\n",
    "transformed_data"
   ]
  },
  {
   "cell_type": "code",
   "execution_count": 11,
   "id": "79f94e0e-16e6-4d7a-92af-66f985cbbad1",
   "metadata": {},
   "outputs": [
    {
     "data": {
      "text/plain": [
       "array([[ 1.,  1.,  5.,  1.,  5., 25.],\n",
       "       [ 1.,  2.,  6.,  4., 12., 36.],\n",
       "       [ 1.,  3.,  7.,  9., 21., 49.],\n",
       "       [ 1.,  4.,  8., 16., 32., 64.]])"
      ]
     },
     "execution_count": 11,
     "metadata": {},
     "output_type": "execute_result"
    }
   ],
   "source": [
    "transformed_data2 = poly_transform.fit_transform(df[[\"alpha\", \"beta\"]])\n",
    "transformed_data2"
   ]
  },
  {
   "cell_type": "markdown",
   "id": "9641415b-c5c6-4962-8944-70015e61b86d",
   "metadata": {},
   "source": [
    "# Data pipelines"
   ]
  },
  {
   "cell_type": "code",
   "execution_count": 15,
   "id": "8e5833c6-d288-4576-898a-2f9098113a35",
   "metadata": {},
   "outputs": [
    {
     "data": {
      "text/plain": [
       "array([66.39181554])"
      ]
     },
     "execution_count": 15,
     "metadata": {},
     "output_type": "execute_result"
    }
   ],
   "source": [
    "from sklearn.pipeline import Pipeline\n",
    "from sklearn.linear_model import LinearRegression\n",
    "\n",
    "df2 = pd.DataFrame({\n",
    "    \"alpha\": [1, 2, 3, 4],\n",
    "    \"beta\": [5, 6, 7, 8],\n",
    "    \"y\": [7.9, 16.1, 29.9, 42.1]\n",
    "\n",
    "})\n",
    "\n",
    "# this first transforms the features into polynomial ones and then trains the model\n",
    "# on the data. Similar to the builder construct\n",
    "pipelined_model = Pipeline([\n",
    "    ('polynomial_transform', PolynomialFeatures(degree=3)),\n",
    "    ('linear_regression', LinearRegression()),\n",
    "])\n",
    "pipelined_model.fit(df2[['alpha', 'beta']].values, df2['y'])\n",
    "\n",
    "pipelined_model.predict([[3, 5]])\n",
    "\n",
    "\n",
    "# poly_transform = PolynomialFeatures(degree=2)\n",
    "# transformed_data = poly_transform.fit_transform(df[[\"alpha\", \"beta\"]])\n",
    "# model = LinearRegression()\n",
    "# model.fit(transformed_data, df[\"y\"])\n"
   ]
  },
  {
   "cell_type": "markdown",
   "id": "737d92d3-05ad-4e49-9fb4-6809793c227a",
   "metadata": {},
   "source": [
    "# Horsepower"
   ]
  },
  {
   "cell_type": "code",
   "execution_count": 17,
   "id": "2cce6e4b-dd8a-4489-ac7f-7fb891db7e04",
   "metadata": {},
   "outputs": [
    {
     "data": {
      "text/html": [
       "<div>\n",
       "<style scoped>\n",
       "    .dataframe tbody tr th:only-of-type {\n",
       "        vertical-align: middle;\n",
       "    }\n",
       "\n",
       "    .dataframe tbody tr th {\n",
       "        vertical-align: top;\n",
       "    }\n",
       "\n",
       "    .dataframe thead th {\n",
       "        text-align: right;\n",
       "    }\n",
       "</style>\n",
       "<table border=\"1\" class=\"dataframe\">\n",
       "  <thead>\n",
       "    <tr style=\"text-align: right;\">\n",
       "      <th></th>\n",
       "      <th>mpg</th>\n",
       "      <th>cylinders</th>\n",
       "      <th>displacement</th>\n",
       "      <th>horsepower</th>\n",
       "      <th>weight</th>\n",
       "      <th>acceleration</th>\n",
       "      <th>year</th>\n",
       "      <th>origin</th>\n",
       "      <th>name</th>\n",
       "    </tr>\n",
       "  </thead>\n",
       "  <tbody>\n",
       "    <tr>\n",
       "      <th>0</th>\n",
       "      <td>18.0</td>\n",
       "      <td>8</td>\n",
       "      <td>307.0</td>\n",
       "      <td>130.0</td>\n",
       "      <td>3504</td>\n",
       "      <td>12.0</td>\n",
       "      <td>70</td>\n",
       "      <td>1</td>\n",
       "      <td>chevrolet chevelle malibu</td>\n",
       "    </tr>\n",
       "    <tr>\n",
       "      <th>1</th>\n",
       "      <td>15.0</td>\n",
       "      <td>8</td>\n",
       "      <td>350.0</td>\n",
       "      <td>165.0</td>\n",
       "      <td>3693</td>\n",
       "      <td>11.5</td>\n",
       "      <td>70</td>\n",
       "      <td>1</td>\n",
       "      <td>buick skylark 320</td>\n",
       "    </tr>\n",
       "    <tr>\n",
       "      <th>2</th>\n",
       "      <td>18.0</td>\n",
       "      <td>8</td>\n",
       "      <td>318.0</td>\n",
       "      <td>150.0</td>\n",
       "      <td>3436</td>\n",
       "      <td>11.0</td>\n",
       "      <td>70</td>\n",
       "      <td>1</td>\n",
       "      <td>plymouth satellite</td>\n",
       "    </tr>\n",
       "    <tr>\n",
       "      <th>3</th>\n",
       "      <td>16.0</td>\n",
       "      <td>8</td>\n",
       "      <td>304.0</td>\n",
       "      <td>150.0</td>\n",
       "      <td>3433</td>\n",
       "      <td>12.0</td>\n",
       "      <td>70</td>\n",
       "      <td>1</td>\n",
       "      <td>amc rebel sst</td>\n",
       "    </tr>\n",
       "    <tr>\n",
       "      <th>4</th>\n",
       "      <td>17.0</td>\n",
       "      <td>8</td>\n",
       "      <td>302.0</td>\n",
       "      <td>140.0</td>\n",
       "      <td>3449</td>\n",
       "      <td>10.5</td>\n",
       "      <td>70</td>\n",
       "      <td>1</td>\n",
       "      <td>ford torino</td>\n",
       "    </tr>\n",
       "    <tr>\n",
       "      <th>...</th>\n",
       "      <td>...</td>\n",
       "      <td>...</td>\n",
       "      <td>...</td>\n",
       "      <td>...</td>\n",
       "      <td>...</td>\n",
       "      <td>...</td>\n",
       "      <td>...</td>\n",
       "      <td>...</td>\n",
       "      <td>...</td>\n",
       "    </tr>\n",
       "    <tr>\n",
       "      <th>387</th>\n",
       "      <td>27.0</td>\n",
       "      <td>4</td>\n",
       "      <td>140.0</td>\n",
       "      <td>86.0</td>\n",
       "      <td>2790</td>\n",
       "      <td>15.6</td>\n",
       "      <td>82</td>\n",
       "      <td>1</td>\n",
       "      <td>ford mustang gl</td>\n",
       "    </tr>\n",
       "    <tr>\n",
       "      <th>388</th>\n",
       "      <td>44.0</td>\n",
       "      <td>4</td>\n",
       "      <td>97.0</td>\n",
       "      <td>52.0</td>\n",
       "      <td>2130</td>\n",
       "      <td>24.6</td>\n",
       "      <td>82</td>\n",
       "      <td>2</td>\n",
       "      <td>vw pickup</td>\n",
       "    </tr>\n",
       "    <tr>\n",
       "      <th>389</th>\n",
       "      <td>32.0</td>\n",
       "      <td>4</td>\n",
       "      <td>135.0</td>\n",
       "      <td>84.0</td>\n",
       "      <td>2295</td>\n",
       "      <td>11.6</td>\n",
       "      <td>82</td>\n",
       "      <td>1</td>\n",
       "      <td>dodge rampage</td>\n",
       "    </tr>\n",
       "    <tr>\n",
       "      <th>390</th>\n",
       "      <td>28.0</td>\n",
       "      <td>4</td>\n",
       "      <td>120.0</td>\n",
       "      <td>79.0</td>\n",
       "      <td>2625</td>\n",
       "      <td>18.6</td>\n",
       "      <td>82</td>\n",
       "      <td>1</td>\n",
       "      <td>ford ranger</td>\n",
       "    </tr>\n",
       "    <tr>\n",
       "      <th>391</th>\n",
       "      <td>31.0</td>\n",
       "      <td>4</td>\n",
       "      <td>119.0</td>\n",
       "      <td>82.0</td>\n",
       "      <td>2720</td>\n",
       "      <td>19.4</td>\n",
       "      <td>82</td>\n",
       "      <td>1</td>\n",
       "      <td>chevy s-10</td>\n",
       "    </tr>\n",
       "  </tbody>\n",
       "</table>\n",
       "<p>392 rows × 9 columns</p>\n",
       "</div>"
      ],
      "text/plain": [
       "      mpg  cylinders  displacement  horsepower  weight  acceleration  year  \\\n",
       "0    18.0          8         307.0       130.0    3504          12.0    70   \n",
       "1    15.0          8         350.0       165.0    3693          11.5    70   \n",
       "2    18.0          8         318.0       150.0    3436          11.0    70   \n",
       "3    16.0          8         304.0       150.0    3433          12.0    70   \n",
       "4    17.0          8         302.0       140.0    3449          10.5    70   \n",
       "..    ...        ...           ...         ...     ...           ...   ...   \n",
       "387  27.0          4         140.0        86.0    2790          15.6    82   \n",
       "388  44.0          4          97.0        52.0    2130          24.6    82   \n",
       "389  32.0          4         135.0        84.0    2295          11.6    82   \n",
       "390  28.0          4         120.0        79.0    2625          18.6    82   \n",
       "391  31.0          4         119.0        82.0    2720          19.4    82   \n",
       "\n",
       "     origin                       name  \n",
       "0         1  chevrolet chevelle malibu  \n",
       "1         1          buick skylark 320  \n",
       "2         1         plymouth satellite  \n",
       "3         1              amc rebel sst  \n",
       "4         1                ford torino  \n",
       "..      ...                        ...  \n",
       "387       1            ford mustang gl  \n",
       "388       2                  vw pickup  \n",
       "389       1              dodge rampage  \n",
       "390       1                ford ranger  \n",
       "391       1                 chevy s-10  \n",
       "\n",
       "[392 rows x 9 columns]"
      ]
     },
     "execution_count": 17,
     "metadata": {},
     "output_type": "execute_result"
    }
   ],
   "source": [
    "auto = pd.read_csv('data/auto.csv')\n",
    "auto"
   ]
  },
  {
   "cell_type": "code",
   "execution_count": 27,
   "id": "2f12a183-2b1b-4763-bc9d-5c884e73fd07",
   "metadata": {},
   "outputs": [
    {
     "data": {
      "text/html": [
       "<div>\n",
       "<style scoped>\n",
       "    .dataframe tbody tr th:only-of-type {\n",
       "        vertical-align: middle;\n",
       "    }\n",
       "\n",
       "    .dataframe tbody tr th {\n",
       "        vertical-align: top;\n",
       "    }\n",
       "\n",
       "    .dataframe thead th {\n",
       "        text-align: right;\n",
       "    }\n",
       "</style>\n",
       "<table border=\"1\" class=\"dataframe\">\n",
       "  <thead>\n",
       "    <tr style=\"text-align: right;\">\n",
       "      <th></th>\n",
       "      <th>horsepower</th>\n",
       "      <th>mpg</th>\n",
       "    </tr>\n",
       "  </thead>\n",
       "  <tbody>\n",
       "    <tr>\n",
       "      <th>19</th>\n",
       "      <td>46.0</td>\n",
       "      <td>26.0</td>\n",
       "    </tr>\n",
       "    <tr>\n",
       "      <th>101</th>\n",
       "      <td>46.0</td>\n",
       "      <td>26.0</td>\n",
       "    </tr>\n",
       "    <tr>\n",
       "      <th>324</th>\n",
       "      <td>48.0</td>\n",
       "      <td>43.4</td>\n",
       "    </tr>\n",
       "    <tr>\n",
       "      <th>323</th>\n",
       "      <td>48.0</td>\n",
       "      <td>44.3</td>\n",
       "    </tr>\n",
       "    <tr>\n",
       "      <th>242</th>\n",
       "      <td>48.0</td>\n",
       "      <td>43.1</td>\n",
       "    </tr>\n",
       "    <tr>\n",
       "      <th>...</th>\n",
       "      <td>...</td>\n",
       "      <td>...</td>\n",
       "    </tr>\n",
       "    <tr>\n",
       "      <th>6</th>\n",
       "      <td>220.0</td>\n",
       "      <td>14.0</td>\n",
       "    </tr>\n",
       "    <tr>\n",
       "      <th>8</th>\n",
       "      <td>225.0</td>\n",
       "      <td>14.0</td>\n",
       "    </tr>\n",
       "    <tr>\n",
       "      <th>94</th>\n",
       "      <td>225.0</td>\n",
       "      <td>12.0</td>\n",
       "    </tr>\n",
       "    <tr>\n",
       "      <th>13</th>\n",
       "      <td>225.0</td>\n",
       "      <td>14.0</td>\n",
       "    </tr>\n",
       "    <tr>\n",
       "      <th>115</th>\n",
       "      <td>230.0</td>\n",
       "      <td>16.0</td>\n",
       "    </tr>\n",
       "  </tbody>\n",
       "</table>\n",
       "<p>392 rows × 2 columns</p>\n",
       "</div>"
      ],
      "text/plain": [
       "     horsepower   mpg\n",
       "19         46.0  26.0\n",
       "101        46.0  26.0\n",
       "324        48.0  43.4\n",
       "323        48.0  44.3\n",
       "242        48.0  43.1\n",
       "..          ...   ...\n",
       "6         220.0  14.0\n",
       "8         225.0  14.0\n",
       "94        225.0  12.0\n",
       "13        225.0  14.0\n",
       "115       230.0  16.0\n",
       "\n",
       "[392 rows x 2 columns]"
      ]
     },
     "execution_count": 27,
     "metadata": {},
     "output_type": "execute_result"
    }
   ],
   "source": [
    "auto_hp = auto[['horsepower', 'mpg']].sort_values(['horsepower'])\n",
    "auto_hp"
   ]
  },
  {
   "cell_type": "code",
   "execution_count": 44,
   "id": "7d04c09f-f8fd-4a28-a0ca-45e2e5eb5719",
   "metadata": {},
   "outputs": [],
   "source": [
    "def auto_pipeline_w_degree(degree):\n",
    "    return Pipeline([\n",
    "        ('polynomial_transform', PolynomialFeatures(degree=degree, include_bias=False)),\n",
    "        ('linear_regression', LinearRegression()),\n",
    "    ]).fit(auto_hp[['horsepower']].values, auto_hp['mpg'])"
   ]
  },
  {
   "cell_type": "code",
   "execution_count": 46,
   "id": "437a074c-9c38-4a8c-a9b1-374c5a6af567",
   "metadata": {},
   "outputs": [
    {
     "data": {
      "application/vnd.plotly.v1+json": {
       "config": {
        "plotlyServerURL": "https://plot.ly"
       },
       "data": [
        {
         "mode": "markers",
         "name": "actual",
         "type": "scatter",
         "x": {
          "bdata": "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",
          "dtype": "f8"
         },
         "y": {
          "bdata": "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",
          "dtype": "f8"
         }
        },
        {
         "mode": "lines",
         "name": "predicted^1",
         "type": "scatter",
         "x": {
          "bdata": "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",
          "dtype": "f8"
         },
         "y": {
          "bdata": "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",
          "dtype": "f8"
         }
        },
        {
         "mode": "lines",
         "name": "predicted^2",
         "type": "scatter",
         "x": {
          "bdata": "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",
          "dtype": "f8"
         },
         "y": {
          "bdata": "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",
          "dtype": "f8"
         }
        },
        {
         "mode": "lines",
         "name": "predicted^3",
         "type": "scatter",
         "x": {
          "bdata": "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",
          "dtype": "f8"
         },
         "y": {
          "bdata": "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",
          "dtype": "f8"
         }
        },
        {
         "mode": "lines",
         "name": "predicted^4",
         "type": "scatter",
         "x": {
          "bdata": "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",
          "dtype": "f8"
         },
         "y": {
          "bdata": "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",
          "dtype": "f8"
         }
        }
       ],
       "layout": {
        "template": {
         "data": {
          "bar": [
           {
            "error_x": {
             "color": "#2a3f5f"
            },
            "error_y": {
             "color": "#2a3f5f"
            },
            "marker": {
             "line": {
              "color": "#E5ECF6",
              "width": 0.5
             },
             "pattern": {
              "fillmode": "overlay",
              "size": 10,
              "solidity": 0.2
             }
            },
            "type": "bar"
           }
          ],
          "barpolar": [
           {
            "marker": {
             "line": {
              "color": "#E5ECF6",
              "width": 0.5
             },
             "pattern": {
              "fillmode": "overlay",
              "size": 10,
              "solidity": 0.2
             }
            },
            "type": "barpolar"
           }
          ],
          "carpet": [
           {
            "aaxis": {
             "endlinecolor": "#2a3f5f",
             "gridcolor": "white",
             "linecolor": "white",
             "minorgridcolor": "white",
             "startlinecolor": "#2a3f5f"
            },
            "baxis": {
             "endlinecolor": "#2a3f5f",
             "gridcolor": "white",
             "linecolor": "white",
             "minorgridcolor": "white",
             "startlinecolor": "#2a3f5f"
            },
            "type": "carpet"
           }
          ],
          "choropleth": [
           {
            "colorbar": {
             "outlinewidth": 0,
             "ticks": ""
            },
            "type": "choropleth"
           }
          ],
          "contour": [
           {
            "colorbar": {
             "outlinewidth": 0,
             "ticks": ""
            },
            "colorscale": [
             [
              0,
              "#0d0887"
             ],
             [
              0.1111111111111111,
              "#46039f"
             ],
             [
              0.2222222222222222,
              "#7201a8"
             ],
             [
              0.3333333333333333,
              "#9c179e"
             ],
             [
              0.4444444444444444,
              "#bd3786"
             ],
             [
              0.5555555555555556,
              "#d8576b"
             ],
             [
              0.6666666666666666,
              "#ed7953"
             ],
             [
              0.7777777777777778,
              "#fb9f3a"
             ],
             [
              0.8888888888888888,
              "#fdca26"
             ],
             [
              1,
              "#f0f921"
             ]
            ],
            "type": "contour"
           }
          ],
          "contourcarpet": [
           {
            "colorbar": {
             "outlinewidth": 0,
             "ticks": ""
            },
            "type": "contourcarpet"
           }
          ],
          "heatmap": [
           {
            "colorbar": {
             "outlinewidth": 0,
             "ticks": ""
            },
            "colorscale": [
             [
              0,
              "#0d0887"
             ],
             [
              0.1111111111111111,
              "#46039f"
             ],
             [
              0.2222222222222222,
              "#7201a8"
             ],
             [
              0.3333333333333333,
              "#9c179e"
             ],
             [
              0.4444444444444444,
              "#bd3786"
             ],
             [
              0.5555555555555556,
              "#d8576b"
             ],
             [
              0.6666666666666666,
              "#ed7953"
             ],
             [
              0.7777777777777778,
              "#fb9f3a"
             ],
             [
              0.8888888888888888,
              "#fdca26"
             ],
             [
              1,
              "#f0f921"
             ]
            ],
            "type": "heatmap"
           }
          ],
          "histogram": [
           {
            "marker": {
             "pattern": {
              "fillmode": "overlay",
              "size": 10,
              "solidity": 0.2
             }
            },
            "type": "histogram"
           }
          ],
          "histogram2d": [
           {
            "colorbar": {
             "outlinewidth": 0,
             "ticks": ""
            },
            "colorscale": [
             [
              0,
              "#0d0887"
             ],
             [
              0.1111111111111111,
              "#46039f"
             ],
             [
              0.2222222222222222,
              "#7201a8"
             ],
             [
              0.3333333333333333,
              "#9c179e"
             ],
             [
              0.4444444444444444,
              "#bd3786"
             ],
             [
              0.5555555555555556,
              "#d8576b"
             ],
             [
              0.6666666666666666,
              "#ed7953"
             ],
             [
              0.7777777777777778,
              "#fb9f3a"
             ],
             [
              0.8888888888888888,
              "#fdca26"
             ],
             [
              1,
              "#f0f921"
             ]
            ],
            "type": "histogram2d"
           }
          ],
          "histogram2dcontour": [
           {
            "colorbar": {
             "outlinewidth": 0,
             "ticks": ""
            },
            "colorscale": [
             [
              0,
              "#0d0887"
             ],
             [
              0.1111111111111111,
              "#46039f"
             ],
             [
              0.2222222222222222,
              "#7201a8"
             ],
             [
              0.3333333333333333,
              "#9c179e"
             ],
             [
              0.4444444444444444,
              "#bd3786"
             ],
             [
              0.5555555555555556,
              "#d8576b"
             ],
             [
              0.6666666666666666,
              "#ed7953"
             ],
             [
              0.7777777777777778,
              "#fb9f3a"
             ],
             [
              0.8888888888888888,
              "#fdca26"
             ],
             [
              1,
              "#f0f921"
             ]
            ],
            "type": "histogram2dcontour"
           }
          ],
          "mesh3d": [
           {
            "colorbar": {
             "outlinewidth": 0,
             "ticks": ""
            },
            "type": "mesh3d"
           }
          ],
          "parcoords": [
           {
            "line": {
             "colorbar": {
              "outlinewidth": 0,
              "ticks": ""
             }
            },
            "type": "parcoords"
           }
          ],
          "pie": [
           {
            "automargin": true,
            "type": "pie"
           }
          ],
          "scatter": [
           {
            "fillpattern": {
             "fillmode": "overlay",
             "size": 10,
             "solidity": 0.2
            },
            "type": "scatter"
           }
          ],
          "scatter3d": [
           {
            "line": {
             "colorbar": {
              "outlinewidth": 0,
              "ticks": ""
             }
            },
            "marker": {
             "colorbar": {
              "outlinewidth": 0,
              "ticks": ""
             }
            },
            "type": "scatter3d"
           }
          ],
          "scattercarpet": [
           {
            "marker": {
             "colorbar": {
              "outlinewidth": 0,
              "ticks": ""
             }
            },
            "type": "scattercarpet"
           }
          ],
          "scattergeo": [
           {
            "marker": {
             "colorbar": {
              "outlinewidth": 0,
              "ticks": ""
             }
            },
            "type": "scattergeo"
           }
          ],
          "scattergl": [
           {
            "marker": {
             "colorbar": {
              "outlinewidth": 0,
              "ticks": ""
             }
            },
            "type": "scattergl"
           }
          ],
          "scattermap": [
           {
            "marker": {
             "colorbar": {
              "outlinewidth": 0,
              "ticks": ""
             }
            },
            "type": "scattermap"
           }
          ],
          "scattermapbox": [
           {
            "marker": {
             "colorbar": {
              "outlinewidth": 0,
              "ticks": ""
             }
            },
            "type": "scattermapbox"
           }
          ],
          "scatterpolar": [
           {
            "marker": {
             "colorbar": {
              "outlinewidth": 0,
              "ticks": ""
             }
            },
            "type": "scatterpolar"
           }
          ],
          "scatterpolargl": [
           {
            "marker": {
             "colorbar": {
              "outlinewidth": 0,
              "ticks": ""
             }
            },
            "type": "scatterpolargl"
           }
          ],
          "scatterternary": [
           {
            "marker": {
             "colorbar": {
              "outlinewidth": 0,
              "ticks": ""
             }
            },
            "type": "scatterternary"
           }
          ],
          "surface": [
           {
            "colorbar": {
             "outlinewidth": 0,
             "ticks": ""
            },
            "colorscale": [
             [
              0,
              "#0d0887"
             ],
             [
              0.1111111111111111,
              "#46039f"
             ],
             [
              0.2222222222222222,
              "#7201a8"
             ],
             [
              0.3333333333333333,
              "#9c179e"
             ],
             [
              0.4444444444444444,
              "#bd3786"
             ],
             [
              0.5555555555555556,
              "#d8576b"
             ],
             [
              0.6666666666666666,
              "#ed7953"
             ],
             [
              0.7777777777777778,
              "#fb9f3a"
             ],
             [
              0.8888888888888888,
              "#fdca26"
             ],
             [
              1,
              "#f0f921"
             ]
            ],
            "type": "surface"
           }
          ],
          "table": [
           {
            "cells": {
             "fill": {
              "color": "#EBF0F8"
             },
             "line": {
              "color": "white"
             }
            },
            "header": {
             "fill": {
              "color": "#C8D4E3"
             },
             "line": {
              "color": "white"
             }
            },
            "type": "table"
           }
          ]
         },
         "layout": {
          "annotationdefaults": {
           "arrowcolor": "#2a3f5f",
           "arrowhead": 0,
           "arrowwidth": 1
          },
          "autotypenumbers": "strict",
          "coloraxis": {
           "colorbar": {
            "outlinewidth": 0,
            "ticks": ""
           }
          },
          "colorscale": {
           "diverging": [
            [
             0,
             "#8e0152"
            ],
            [
             0.1,
             "#c51b7d"
            ],
            [
             0.2,
             "#de77ae"
            ],
            [
             0.3,
             "#f1b6da"
            ],
            [
             0.4,
             "#fde0ef"
            ],
            [
             0.5,
             "#f7f7f7"
            ],
            [
             0.6,
             "#e6f5d0"
            ],
            [
             0.7,
             "#b8e186"
            ],
            [
             0.8,
             "#7fbc41"
            ],
            [
             0.9,
             "#4d9221"
            ],
            [
             1,
             "#276419"
            ]
           ],
           "sequential": [
            [
             0,
             "#0d0887"
            ],
            [
             0.1111111111111111,
             "#46039f"
            ],
            [
             0.2222222222222222,
             "#7201a8"
            ],
            [
             0.3333333333333333,
             "#9c179e"
            ],
            [
             0.4444444444444444,
             "#bd3786"
            ],
            [
             0.5555555555555556,
             "#d8576b"
            ],
            [
             0.6666666666666666,
             "#ed7953"
            ],
            [
             0.7777777777777778,
             "#fb9f3a"
            ],
            [
             0.8888888888888888,
             "#fdca26"
            ],
            [
             1,
             "#f0f921"
            ]
           ],
           "sequentialminus": [
            [
             0,
             "#0d0887"
            ],
            [
             0.1111111111111111,
             "#46039f"
            ],
            [
             0.2222222222222222,
             "#7201a8"
            ],
            [
             0.3333333333333333,
             "#9c179e"
            ],
            [
             0.4444444444444444,
             "#bd3786"
            ],
            [
             0.5555555555555556,
             "#d8576b"
            ],
            [
             0.6666666666666666,
             "#ed7953"
            ],
            [
             0.7777777777777778,
             "#fb9f3a"
            ],
            [
             0.8888888888888888,
             "#fdca26"
            ],
            [
             1,
             "#f0f921"
            ]
           ]
          },
          "colorway": [
           "#636efa",
           "#EF553B",
           "#00cc96",
           "#ab63fa",
           "#FFA15A",
           "#19d3f3",
           "#FF6692",
           "#B6E880",
           "#FF97FF",
           "#FECB52"
          ],
          "font": {
           "color": "#2a3f5f"
          },
          "geo": {
           "bgcolor": "white",
           "lakecolor": "white",
           "landcolor": "#E5ECF6",
           "showlakes": true,
           "showland": true,
           "subunitcolor": "white"
          },
          "hoverlabel": {
           "align": "left"
          },
          "hovermode": "closest",
          "mapbox": {
           "style": "light"
          },
          "paper_bgcolor": "white",
          "plot_bgcolor": "#E5ECF6",
          "polar": {
           "angularaxis": {
            "gridcolor": "white",
            "linecolor": "white",
            "ticks": ""
           },
           "bgcolor": "#E5ECF6",
           "radialaxis": {
            "gridcolor": "white",
            "linecolor": "white",
            "ticks": ""
           }
          },
          "scene": {
           "xaxis": {
            "backgroundcolor": "#E5ECF6",
            "gridcolor": "white",
            "gridwidth": 2,
            "linecolor": "white",
            "showbackground": true,
            "ticks": "",
            "zerolinecolor": "white"
           },
           "yaxis": {
            "backgroundcolor": "#E5ECF6",
            "gridcolor": "white",
            "gridwidth": 2,
            "linecolor": "white",
            "showbackground": true,
            "ticks": "",
            "zerolinecolor": "white"
           },
           "zaxis": {
            "backgroundcolor": "#E5ECF6",
            "gridcolor": "white",
            "gridwidth": 2,
            "linecolor": "white",
            "showbackground": true,
            "ticks": "",
            "zerolinecolor": "white"
           }
          },
          "shapedefaults": {
           "line": {
            "color": "#2a3f5f"
           }
          },
          "ternary": {
           "aaxis": {
            "gridcolor": "white",
            "linecolor": "white",
            "ticks": ""
           },
           "baxis": {
            "gridcolor": "white",
            "linecolor": "white",
            "ticks": ""
           },
           "bgcolor": "#E5ECF6",
           "caxis": {
            "gridcolor": "white",
            "linecolor": "white",
            "ticks": ""
           }
          },
          "title": {
           "x": 0.05
          },
          "xaxis": {
           "automargin": true,
           "gridcolor": "white",
           "linecolor": "white",
           "ticks": "",
           "title": {
            "standoff": 15
           },
           "zerolinecolor": "white",
           "zerolinewidth": 2
          },
          "yaxis": {
           "automargin": true,
           "gridcolor": "white",
           "linecolor": "white",
           "ticks": "",
           "title": {
            "standoff": 15
           },
           "zerolinecolor": "white",
           "zerolinewidth": 2
          }
         }
        }
       }
      },
      "image/png": "[encoded data removed]"
     },
     "metadata": {},
     "output_type": "display_data"
    }
   ],
   "source": [
    "import plotly.express as px\n",
    "import plotly.graph_objects as go\n",
    "\n",
    "fig = go.Figure()\n",
    "fig.add_trace(go.Scatter(x=auto_hp['horsepower'], y=auto_hp['mpg'], mode='markers', name='actual'))\n",
    "for degree in range(1, 5):\n",
    "    fig.add_trace(go.Scatter(x=auto_hp['horsepower'], y=auto_pipeline_w_degree(degree).predict(auto_hp[['horsepower']].values), mode='lines', name=f'predicted^{degree}'))\n",
    "\n",
    "fig.show()"
   ]
  },
  {
   "cell_type": "code",
   "execution_count": null,
   "id": "3c481eeb-aa79-44d6-a174-bbff3aa588a5",
   "metadata": {},
   "outputs": [],
   "source": []
  }
 ],
 "metadata": {
  "kernelspec": {
   "display_name": "Python 3 (ipykernel)",
   "language": "python",
   "name": "python3"
  },
  "language_info": {
   "codemirror_mode": {
    "name": "ipython",
    "version": 3
   },
   "file_extension": ".py",
   "mimetype": "text/x-python",
   "name": "python",
   "nbconvert_exporter": "python",
   "pygments_lexer": "ipython3",
   "version": "3.9.23"
  }
 },
 "nbformat": 4,
 "nbformat_minor": 5
}
