{
 "cells": [
  {
   "cell_type": "markdown",
   "metadata": {
    "nbgrader": {
     "grade": false,
     "grade_id": "cell-cef8255da77ad378",
     "locked": true,
     "schema_version": 3,
     "solution": false
    }
   },
   "source": [
    "## Colab Activity 8.2: Using Polynomial Features\n",
    "\n",
    "**Estimated time: 60 minutes**\n",
    "\n",
    "\n",
    "\n",
    "This activity focuses on using the scikit-learn transformer `PolynomialFeatures`.  As seen in video 8.4, you can use this transformer to create the modified DataFrame with appropriate column names using the `.get_feature_names_out()` method on the fit transformer.  You will focus on building second, third, and fourth-degree polynomial models using `PolynomialFeatures`, and converting the results to pandas DataFrames.\n",
    "\n",
    "## Index:\n",
    "\n",
    " - [Problem 1](#Problem-1)\n",
    " - [Problem 2](#Problem-2)\n",
    " - [Problem 3](#Problem-3)\n",
    " - [Problem 4](#Problem-4)"
   ]
  },
  {
   "cell_type": "code",
   "execution_count": 1,
   "metadata": {},
   "outputs": [],
   "source": [
    "import numpy as np\n",
    "import pandas as pd\n",
    "from sklearn.preprocessing import PolynomialFeatures\n",
    "from sklearn.feature_extraction.text import CountVectorizer"
   ]
  },
  {
   "cell_type": "markdown",
   "metadata": {
    "nbgrader": {
     "grade": false,
     "grade_id": "cell-4daeaff5780c149a",
     "locked": true,
     "schema_version": 3,
     "solution": false
    }
   },
   "source": [
    "### The Data\n",
    "\n",
    "Again, the automobile dataset is used.  You will build the additional features using the `horsepower` column of the data.  "
   ]
  },
  {
   "cell_type": "code",
   "execution_count": 2,
   "metadata": {},
   "outputs": [],
   "source": [
    "auto = pd.read_csv('data/auto.csv')"
   ]
  },
  {
   "cell_type": "code",
   "execution_count": 3,
   "metadata": {},
   "outputs": [
    {
     "data": {
      "text/html": [
       "<div>\n",
       "<style scoped>\n",
       "    .dataframe tbody tr th:only-of-type {\n",
       "        vertical-align: middle;\n",
       "    }\n",
       "\n",
       "    .dataframe tbody tr th {\n",
       "        vertical-align: top;\n",
       "    }\n",
       "\n",
       "    .dataframe thead th {\n",
       "        text-align: right;\n",
       "    }\n",
       "</style>\n",
       "<table border=\"1\" class=\"dataframe\">\n",
       "  <thead>\n",
       "    <tr style=\"text-align: right;\">\n",
       "      <th></th>\n",
       "      <th>mpg</th>\n",
       "      <th>cylinders</th>\n",
       "      <th>displacement</th>\n",
       "      <th>horsepower</th>\n",
       "      <th>weight</th>\n",
       "      <th>acceleration</th>\n",
       "      <th>year</th>\n",
       "      <th>origin</th>\n",
       "      <th>name</th>\n",
       "    </tr>\n",
       "  </thead>\n",
       "  <tbody>\n",
       "    <tr>\n",
       "      <th>0</th>\n",
       "      <td>18.0</td>\n",
       "      <td>8</td>\n",
       "      <td>307.0</td>\n",
       "      <td>130.0</td>\n",
       "      <td>3504</td>\n",
       "      <td>12.0</td>\n",
       "      <td>70</td>\n",
       "      <td>1</td>\n",
       "      <td>chevrolet chevelle malibu</td>\n",
       "    </tr>\n",
       "    <tr>\n",
       "      <th>1</th>\n",
       "      <td>15.0</td>\n",
       "      <td>8</td>\n",
       "      <td>350.0</td>\n",
       "      <td>165.0</td>\n",
       "      <td>3693</td>\n",
       "      <td>11.5</td>\n",
       "      <td>70</td>\n",
       "      <td>1</td>\n",
       "      <td>buick skylark 320</td>\n",
       "    </tr>\n",
       "    <tr>\n",
       "      <th>2</th>\n",
       "      <td>18.0</td>\n",
       "      <td>8</td>\n",
       "      <td>318.0</td>\n",
       "      <td>150.0</td>\n",
       "      <td>3436</td>\n",
       "      <td>11.0</td>\n",
       "      <td>70</td>\n",
       "      <td>1</td>\n",
       "      <td>plymouth satellite</td>\n",
       "    </tr>\n",
       "    <tr>\n",
       "      <th>3</th>\n",
       "      <td>16.0</td>\n",
       "      <td>8</td>\n",
       "      <td>304.0</td>\n",
       "      <td>150.0</td>\n",
       "      <td>3433</td>\n",
       "      <td>12.0</td>\n",
       "      <td>70</td>\n",
       "      <td>1</td>\n",
       "      <td>amc rebel sst</td>\n",
       "    </tr>\n",
       "    <tr>\n",
       "      <th>4</th>\n",
       "      <td>17.0</td>\n",
       "      <td>8</td>\n",
       "      <td>302.0</td>\n",
       "      <td>140.0</td>\n",
       "      <td>3449</td>\n",
       "      <td>10.5</td>\n",
       "      <td>70</td>\n",
       "      <td>1</td>\n",
       "      <td>ford torino</td>\n",
       "    </tr>\n",
       "  </tbody>\n",
       "</table>\n",
       "</div>"
      ],
      "text/plain": [
       "    mpg  cylinders  displacement  horsepower  weight  acceleration  year  \\\n",
       "0  18.0          8         307.0       130.0    3504          12.0    70   \n",
       "1  15.0          8         350.0       165.0    3693          11.5    70   \n",
       "2  18.0          8         318.0       150.0    3436          11.0    70   \n",
       "3  16.0          8         304.0       150.0    3433          12.0    70   \n",
       "4  17.0          8         302.0       140.0    3449          10.5    70   \n",
       "\n",
       "   origin                       name  \n",
       "0       1  chevrolet chevelle malibu  \n",
       "1       1          buick skylark 320  \n",
       "2       1         plymouth satellite  \n",
       "3       1              amc rebel sst  \n",
       "4       1                ford torino  "
      ]
     },
     "execution_count": 3,
     "metadata": {},
     "output_type": "execute_result"
    }
   ],
   "source": [
    "auto.head()"
   ]
  },
  {
   "cell_type": "markdown",
   "metadata": {
    "nbgrader": {
     "grade": false,
     "grade_id": "cell-7b68a9367135ea82",
     "locked": true,
     "schema_version": 3,
     "solution": false
    }
   },
   "source": [
    "[Back to top](#Index:) \n",
    "\n",
    "## Problem 1\n",
    "\n",
    "### Creating Quadratic Features\n",
    "\n",
    "\n",
    "Complete the code below according to the instructions below:\n",
    "\n",
    "- Instantiate a `PolynomialFeatures()` transformer and assign it to the variable `pfeatures`.\n",
    "- Apply the transformation to the `horsepower` column by applying the `fit_transform` function with an argument equal to `auto[['horsepower']]` on `pfeatures`. Assign your result to `quad_features` below.\n",
    "\n"
   ]
  },
  {
   "cell_type": "code",
   "execution_count": 6,
   "metadata": {
    "nbgrader": {
     "grade": false,
     "grade_id": "cell-a7876f7339eeaf11",
     "locked": false,
     "schema_version": 3,
     "solution": true
    }
   },
   "outputs": [
    {
     "name": "stdout",
     "output_type": "stream",
     "text": [
      "<class 'numpy.ndarray'>\n"
     ]
    }
   ],
   "source": [
    "\n",
    "\n",
    "pfeatures = PolynomialFeatures(degree=2, include_bias=False)\n",
    "quad_features = pfeatures.fit_transform(auto[['horsepower']])\n",
    "\n",
    "\n",
    "# Answer check\n",
    "print(type(quad_features))"
   ]
  },
  {
   "cell_type": "markdown",
   "metadata": {
    "nbgrader": {
     "grade": false,
     "grade_id": "cell-f2a8a484b49a4ae4",
     "locked": true,
     "schema_version": 3,
     "solution": false
    }
   },
   "source": [
    "[Back to top](#Index:) \n",
    "\n",
    "## Problem 2\n",
    "\n",
    "### Creating the DataFrame\n",
    "\n",
    "\n",
    "\n",
    "Use the transformed array `quad_features` to create a DataFrame of the transformed data.  As shown in the lectures, use the `get_feature_names_out()` method of your fit transformer `pfeatures` from above to define the column names.  Use `iloc[:, 1:]` to drop the bias term from the DataFrame so that you only have the columns `horsepower` and `horsepower^2`.  \n",
    "\n",
    "Assign your response as a DataFrame to the variable `poly_features_df` below."
   ]
  },
  {
   "cell_type": "code",
   "execution_count": 7,
   "metadata": {
    "nbgrader": {
     "grade": false,
     "grade_id": "cell-65b5a0fa623f1373",
     "locked": false,
     "schema_version": 3,
     "solution": true
    }
   },
   "outputs": [
    {
     "name": "stdout",
     "output_type": "stream",
     "text": [
      "(392, 2)\n"
     ]
    },
    {
     "data": {
      "text/html": [
       "<div>\n",
       "<style scoped>\n",
       "    .dataframe tbody tr th:only-of-type {\n",
       "        vertical-align: middle;\n",
       "    }\n",
       "\n",
       "    .dataframe tbody tr th {\n",
       "        vertical-align: top;\n",
       "    }\n",
       "\n",
       "    .dataframe thead th {\n",
       "        text-align: right;\n",
       "    }\n",
       "</style>\n",
       "<table border=\"1\" class=\"dataframe\">\n",
       "  <thead>\n",
       "    <tr style=\"text-align: right;\">\n",
       "      <th></th>\n",
       "      <th>horsepower</th>\n",
       "      <th>horsepower^2</th>\n",
       "    </tr>\n",
       "  </thead>\n",
       "  <tbody>\n",
       "    <tr>\n",
       "      <th>0</th>\n",
       "      <td>130.0</td>\n",
       "      <td>16900.0</td>\n",
       "    </tr>\n",
       "    <tr>\n",
       "      <th>1</th>\n",
       "      <td>165.0</td>\n",
       "      <td>27225.0</td>\n",
       "    </tr>\n",
       "    <tr>\n",
       "      <th>2</th>\n",
       "      <td>150.0</td>\n",
       "      <td>22500.0</td>\n",
       "    </tr>\n",
       "    <tr>\n",
       "      <th>3</th>\n",
       "      <td>150.0</td>\n",
       "      <td>22500.0</td>\n",
       "    </tr>\n",
       "    <tr>\n",
       "      <th>4</th>\n",
       "      <td>140.0</td>\n",
       "      <td>19600.0</td>\n",
       "    </tr>\n",
       "  </tbody>\n",
       "</table>\n",
       "</div>"
      ],
      "text/plain": [
       "   horsepower  horsepower^2\n",
       "0       130.0       16900.0\n",
       "1       165.0       27225.0\n",
       "2       150.0       22500.0\n",
       "3       150.0       22500.0\n",
       "4       140.0       19600.0"
      ]
     },
     "execution_count": 7,
     "metadata": {},
     "output_type": "execute_result"
    }
   ],
   "source": [
    "\n",
    "\n",
    "poly_features_df = pd.DataFrame(\n",
    "    data=quad_features,\n",
    "    columns=pfeatures.get_feature_names_out(),\n",
    ")\n",
    "\n",
    "\n",
    "\n",
    "# Answer check\n",
    "print(poly_features_df.shape)\n",
    "poly_features_df.head()"
   ]
  },
  {
   "cell_type": "markdown",
   "metadata": {
    "nbgrader": {
     "grade": false,
     "grade_id": "cell-65ec89ca45eee9e5",
     "locked": true,
     "schema_version": 3,
     "solution": false
    }
   },
   "source": [
    "[Back to top](#Index:) \n",
    "\n",
    "## Problem 3\n",
    "\n",
    "### DataFrame with Cubic Features\n",
    "\n",
    "\n",
    "\n",
    "Complete the code below according to the instructions below:\n",
    "\n",
    "- Instantiate a `PolynomialFeatures()` transformer with `degree` equal to `3` and assign it to the variable `pfeatures`.\n",
    "- Apply the transformation to the `horsepower` column by applying the `fit_transform` function with an argument equal to `auto[['horsepower']]` on `pfeatures`. Assign your result to `cubic_features` below.\n",
    "- Use the transformed array `cubic_features` to create a DataFrame of the transformed data.  As shown in the lectures, use the `get_feature_names_out()` method of your fit transformer `pfeatures` from above to define the column names.  Use `iloc[:, 1:]` to drop the bias term from the DataFrame so that you only have the columns `horsepower`,`horsepower^2`, and `horsepower^3`.  \n",
    "\n",
    "Assign your response as a DataFrame to the variable `cubic_features_df` below.\n"
   ]
  },
  {
   "cell_type": "code",
   "execution_count": 10,
   "metadata": {
    "nbgrader": {
     "grade": false,
     "grade_id": "cell-ea5b3099f652d9c4",
     "locked": false,
     "schema_version": 3,
     "solution": true
    }
   },
   "outputs": [
    {
     "name": "stdout",
     "output_type": "stream",
     "text": [
      "(392, 3)\n"
     ]
    },
    {
     "data": {
      "text/html": [
       "<div>\n",
       "<style scoped>\n",
       "    .dataframe tbody tr th:only-of-type {\n",
       "        vertical-align: middle;\n",
       "    }\n",
       "\n",
       "    .dataframe tbody tr th {\n",
       "        vertical-align: top;\n",
       "    }\n",
       "\n",
       "    .dataframe thead th {\n",
       "        text-align: right;\n",
       "    }\n",
       "</style>\n",
       "<table border=\"1\" class=\"dataframe\">\n",
       "  <thead>\n",
       "    <tr style=\"text-align: right;\">\n",
       "      <th></th>\n",
       "      <th>horsepower</th>\n",
       "      <th>horsepower^2</th>\n",
       "      <th>horsepower^3</th>\n",
       "    </tr>\n",
       "  </thead>\n",
       "  <tbody>\n",
       "    <tr>\n",
       "      <th>0</th>\n",
       "      <td>130.0</td>\n",
       "      <td>16900.0</td>\n",
       "      <td>2197000.0</td>\n",
       "    </tr>\n",
       "    <tr>\n",
       "      <th>1</th>\n",
       "      <td>165.0</td>\n",
       "      <td>27225.0</td>\n",
       "      <td>4492125.0</td>\n",
       "    </tr>\n",
       "    <tr>\n",
       "      <th>2</th>\n",
       "      <td>150.0</td>\n",
       "      <td>22500.0</td>\n",
       "      <td>3375000.0</td>\n",
       "    </tr>\n",
       "    <tr>\n",
       "      <th>3</th>\n",
       "      <td>150.0</td>\n",
       "      <td>22500.0</td>\n",
       "      <td>3375000.0</td>\n",
       "    </tr>\n",
       "    <tr>\n",
       "      <th>4</th>\n",
       "      <td>140.0</td>\n",
       "      <td>19600.0</td>\n",
       "      <td>2744000.0</td>\n",
       "    </tr>\n",
       "  </tbody>\n",
       "</table>\n",
       "</div>"
      ],
      "text/plain": [
       "   horsepower  horsepower^2  horsepower^3\n",
       "0       130.0       16900.0     2197000.0\n",
       "1       165.0       27225.0     4492125.0\n",
       "2       150.0       22500.0     3375000.0\n",
       "3       150.0       22500.0     3375000.0\n",
       "4       140.0       19600.0     2744000.0"
      ]
     },
     "execution_count": 10,
     "metadata": {},
     "output_type": "execute_result"
    }
   ],
   "source": [
    "\n",
    "\n",
    "pfeatures3 = PolynomialFeatures(degree=3, include_bias=False)\n",
    "cubic_features_df = pd.DataFrame(\n",
    "    data=pfeatures3.fit_transform(auto[['horsepower']]),\n",
    "    columns=pfeatures3.get_feature_names_out(),\n",
    ")\n",
    "\n",
    "\n",
    "\n",
    "# Answer check\n",
    "print(cubic_features_df.shape)\n",
    "cubic_features_df.head()"
   ]
  },
  {
   "cell_type": "markdown",
   "metadata": {
    "nbgrader": {
     "grade": false,
     "grade_id": "cell-1b4761c92049bf73",
     "locked": true,
     "schema_version": 3,
     "solution": false
    }
   },
   "source": [
    "[Back to top](#Index:) \n",
    "\n",
    "## Problem 4\n",
    "\n",
    "### Experimenting with Multiple Features\n",
    "\n",
    "\n",
    "\n",
    "Complete the code below according to the instructions below:\n",
    "\n",
    "- Instantiate a `PolynomialFeatures()` transformer with `degree` equal to `2` and assign it to the variable `pfeatures`.\n",
    "- Apply the transformation to the `horsepower` and `weight` columns by applying the `fit_transform` function with an argument equal to `auto[['horsepower', 'weight']]` on `pfeatures`. Assign your result to `two_features` below.\n",
    "- Use the transformed array `two_features` to create a DataFrame of the transformed data.  As shown in the lectures, use the `get_feature_names_out()` method of your fit transformer `pfeatures` from above to define the column names.  Use `iloc[:, 1:]` to drop the bias term from the DataFrame.\n",
    "\n",
    "Assign your response as a DataFrame to the variable `two_feature_poly_df` below."
   ]
  },
  {
   "cell_type": "code",
   "execution_count": 12,
   "metadata": {
    "nbgrader": {
     "grade": false,
     "grade_id": "cell-e77b6a15eb3bf2c5",
     "locked": false,
     "schema_version": 3,
     "solution": true
    }
   },
   "outputs": [
    {
     "name": "stdout",
     "output_type": "stream",
     "text": [
      "(392, 9)\n"
     ]
    },
    {
     "data": {
      "text/html": [
       "<div>\n",
       "<style scoped>\n",
       "    .dataframe tbody tr th:only-of-type {\n",
       "        vertical-align: middle;\n",
       "    }\n",
       "\n",
       "    .dataframe tbody tr th {\n",
       "        vertical-align: top;\n",
       "    }\n",
       "\n",
       "    .dataframe thead th {\n",
       "        text-align: right;\n",
       "    }\n",
       "</style>\n",
       "<table border=\"1\" class=\"dataframe\">\n",
       "  <thead>\n",
       "    <tr style=\"text-align: right;\">\n",
       "      <th></th>\n",
       "      <th>horsepower</th>\n",
       "      <th>weight</th>\n",
       "      <th>horsepower^2</th>\n",
       "      <th>horsepower weight</th>\n",
       "      <th>weight^2</th>\n",
       "      <th>horsepower^3</th>\n",
       "      <th>horsepower^2 weight</th>\n",
       "      <th>horsepower weight^2</th>\n",
       "      <th>weight^3</th>\n",
       "    </tr>\n",
       "  </thead>\n",
       "  <tbody>\n",
       "    <tr>\n",
       "      <th>0</th>\n",
       "      <td>130.0</td>\n",
       "      <td>3504.0</td>\n",
       "      <td>16900.0</td>\n",
       "      <td>455520.0</td>\n",
       "      <td>12278016.0</td>\n",
       "      <td>2197000.0</td>\n",
       "      <td>59217600.0</td>\n",
       "      <td>1.596142e+09</td>\n",
       "      <td>4.302217e+10</td>\n",
       "    </tr>\n",
       "    <tr>\n",
       "      <th>1</th>\n",
       "      <td>165.0</td>\n",
       "      <td>3693.0</td>\n",
       "      <td>27225.0</td>\n",
       "      <td>609345.0</td>\n",
       "      <td>13638249.0</td>\n",
       "      <td>4492125.0</td>\n",
       "      <td>100541925.0</td>\n",
       "      <td>2.250311e+09</td>\n",
       "      <td>5.036605e+10</td>\n",
       "    </tr>\n",
       "    <tr>\n",
       "      <th>2</th>\n",
       "      <td>150.0</td>\n",
       "      <td>3436.0</td>\n",
       "      <td>22500.0</td>\n",
       "      <td>515400.0</td>\n",
       "      <td>11806096.0</td>\n",
       "      <td>3375000.0</td>\n",
       "      <td>77310000.0</td>\n",
       "      <td>1.770914e+09</td>\n",
       "      <td>4.056575e+10</td>\n",
       "    </tr>\n",
       "    <tr>\n",
       "      <th>3</th>\n",
       "      <td>150.0</td>\n",
       "      <td>3433.0</td>\n",
       "      <td>22500.0</td>\n",
       "      <td>514950.0</td>\n",
       "      <td>11785489.0</td>\n",
       "      <td>3375000.0</td>\n",
       "      <td>77242500.0</td>\n",
       "      <td>1.767823e+09</td>\n",
       "      <td>4.045958e+10</td>\n",
       "    </tr>\n",
       "    <tr>\n",
       "      <th>4</th>\n",
       "      <td>140.0</td>\n",
       "      <td>3449.0</td>\n",
       "      <td>19600.0</td>\n",
       "      <td>482860.0</td>\n",
       "      <td>11895601.0</td>\n",
       "      <td>2744000.0</td>\n",
       "      <td>67600400.0</td>\n",
       "      <td>1.665384e+09</td>\n",
       "      <td>4.102793e+10</td>\n",
       "    </tr>\n",
       "  </tbody>\n",
       "</table>\n",
       "</div>"
      ],
      "text/plain": [
       "   horsepower  weight  horsepower^2  horsepower weight    weight^2  \\\n",
       "0       130.0  3504.0       16900.0           455520.0  12278016.0   \n",
       "1       165.0  3693.0       27225.0           609345.0  13638249.0   \n",
       "2       150.0  3436.0       22500.0           515400.0  11806096.0   \n",
       "3       150.0  3433.0       22500.0           514950.0  11785489.0   \n",
       "4       140.0  3449.0       19600.0           482860.0  11895601.0   \n",
       "\n",
       "   horsepower^3  horsepower^2 weight  horsepower weight^2      weight^3  \n",
       "0     2197000.0           59217600.0         1.596142e+09  4.302217e+10  \n",
       "1     4492125.0          100541925.0         2.250311e+09  5.036605e+10  \n",
       "2     3375000.0           77310000.0         1.770914e+09  4.056575e+10  \n",
       "3     3375000.0           77242500.0         1.767823e+09  4.045958e+10  \n",
       "4     2744000.0           67600400.0         1.665384e+09  4.102793e+10  "
      ]
     },
     "execution_count": 12,
     "metadata": {},
     "output_type": "execute_result"
    }
   ],
   "source": [
    "\n",
    "pfeatures2 = PolynomialFeatures(degree=2, include_bias=False)\n",
    "two_feature_poly_df = pd.DataFrame(\n",
    "    data=pfeatures3.fit_transform(auto[['horsepower', 'weight']]),\n",
    "    columns=pfeatures3.get_feature_names_out(),\n",
    ")\n",
    "\n",
    "\n",
    "# Answer check\n",
    "print(two_feature_poly_df.shape)\n",
    "two_feature_poly_df.head()"
   ]
  },
  {
   "cell_type": "markdown",
   "metadata": {
    "nbgrader": {
     "grade": false,
     "grade_id": "cell-2fd941447cd10a97",
     "locked": true,
     "schema_version": 3,
     "solution": false
    }
   },
   "source": [
    "#### Summary\n",
    "\n",
    "Now that you have the hang of using `PolynomialFeatures`, you will combine the transformer with an estimator using scikitlearn's pipeline utilities.  As demonstrated in the videos, the pipeline is a handy abstraction for combining the data transformations with the model in a single object.  This is especially handy when making predictions with new data points."
   ]
  }
 ],
 "metadata": {
  "celltoolbar": "Create Assignment",
  "kernelspec": {
   "display_name": "Python 3 (ipykernel)",
   "language": "python",
   "name": "python3"
  },
  "language_info": {
   "codemirror_mode": {
    "name": "ipython",
    "version": 3
   },
   "file_extension": ".py",
   "mimetype": "text/x-python",
   "name": "python",
   "nbconvert_exporter": "python",
   "pygments_lexer": "ipython3",
   "version": "3.9.23"
  },
  "widgets": {
   "application/vnd.jupyter.widget-state+json": {
    "state": {},
    "version_major": 2,
    "version_minor": 0
   }
  }
 },
 "nbformat": 4,
 "nbformat_minor": 4
}
