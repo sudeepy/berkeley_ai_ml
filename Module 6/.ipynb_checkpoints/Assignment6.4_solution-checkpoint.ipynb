{
 "cells": [
  {
   "cell_type": "markdown",
   "metadata": {
    "nbgrader": {
     "grade": false,
     "grade_id": "cell-982ae725fa7cabe3",
     "locked": true,
     "schema_version": 1,
     "solution": false
    }
   },
   "source": [
    "## Required Assignment 6.4: Running DBSCAN\n",
    "\n",
    "**Expected Time: 60 Minutes**\n",
    "\n",
    "**Total Points: 20 Points**\n",
    "\n",
    "This activity focuses on using the `DBSCAN` clustering algorithm with `sklearn`.  Contrary to the `KMeans` clusterer, `DBSCAN` does not take a number of clusters as argument.  Instead, the algorithm separates data based on areas of high and low density.  The parameters that determine this density are the `min_samples` and `eps` values.  We will explore how different values for these affect the clustering for our sample dataset.\n",
    "\n",
    "## Index:\n",
    "\n",
    "- [Problem 1](#Problem-1)\n",
    "- [Problem 2](#Problem-2)\n",
    "- [Problem 3](#Problem-3)\n",
    "- [Problem 4](#Problem-4)\n",
    "- [Problem 5](#Problem-5)"
   ]
  },
  {
   "cell_type": "code",
   "execution_count": null,
   "metadata": {},
   "outputs": [],
   "source": [
    "import numpy as np\n",
    "from sklearn.datasets import make_blobs\n",
    "import matplotlib.pyplot as plt\n",
    "import pandas as pd\n",
    "import seaborn as sns\n",
    "from sklearn.cluster import DBSCAN\n",
    "from mpl_toolkits import mplot3d"
   ]
  },
  {
   "cell_type": "markdown",
   "metadata": {
    "nbgrader": {
     "grade": false,
     "grade_id": "cell-84a8ac3d2cd3964f",
     "locked": true,
     "schema_version": 1,
     "solution": false
    }
   },
   "source": [
    "### The Dataset\n",
    "\n",
    "Again, data is generated using the `sklearn` datasets `make_blobs` function.  "
   ]
  },
  {
   "cell_type": "code",
   "execution_count": null,
   "metadata": {},
   "outputs": [],
   "source": [
    "X, y = make_blobs(n_samples=200, n_features=3, centers = 4, random_state=42)\n",
    "ax = plt.axes(projection = '3d')\n",
    "ax.scatter3D(X[:, 0], X[:, 1], X[:, 2], c = y)\n",
    "ax.set_xlabel('X')\n",
    "ax.set_ylabel('Y')\n",
    "ax.set_zlabel('Z')\n",
    "plt.title('Artificial Dataset with 4 Clusters')\n",
    "plt.tight_layout();"
   ]
  },
  {
   "cell_type": "markdown",
   "metadata": {
    "nbgrader": {
     "grade": false,
     "grade_id": "cell-14c712b826cc2957",
     "locked": true,
     "schema_version": 1,
     "solution": false
    }
   },
   "source": [
    "[Back to top](#Index:) \n",
    "\n",
    "## Problem 1\n",
    "\n",
    "### Instantiate a `DBSCAN` object\n",
    "\n",
    "**4 Points**\n",
    "\n",
    "The `DBSCAN` clusterer has been imported explicitly from the `sklearn` library.  Create a new instance of this clusterer and assign it to the variable `dbscan` below.   Leave all the arguments to their default setting.\n"
   ]
  },
  {
   "cell_type": "code",
   "execution_count": null,
   "metadata": {
    "nbgrader": {
     "grade": false,
     "grade_id": "cell-f9636c991ee288cb",
     "locked": false,
     "schema_version": 1,
     "solution": true
    }
   },
   "outputs": [],
   "source": [
    "### GRADED\n",
    "\n",
    "dbscan = ''\n",
    "\n",
    "### BEGIN SOLUTION\n",
    "dbscan = DBSCAN()\n",
    "### END SOLUTION\n",
    "\n",
    "# Answer check\n",
    "print(dbscan)\n",
    "print(type(dbscan))"
   ]
  },
  {
   "cell_type": "markdown",
   "metadata": {
    "nbgrader": {
     "grade": false,
     "grade_id": "cell-6b89d83297d21995",
     "locked": true,
     "schema_version": 1,
     "solution": false
    }
   },
   "source": [
    "[Back to top](#Index:) \n",
    "\n",
    "## Problem 2\n",
    "\n",
    "### Cluster the data\n",
    "\n",
    "**4 Points**\n",
    "\n",
    "Now, use your clusterer `dbscan` to fit the data using the function `fit()` with argument equal to `X`.  \n",
    "\n",
    "Again, you will not receive an output from the fit, but information will be stored in the instance.  To examine the labels, use the `.labels_` attribute of the fit model to access the predicted labels.  Assign your predicted labels as an array to the variable `predictions` below."
   ]
  },
  {
   "cell_type": "code",
   "execution_count": null,
   "metadata": {
    "nbgrader": {
     "grade": false,
     "grade_id": "cell-36b0e9d066d89a76",
     "locked": false,
     "schema_version": 1,
     "solution": true
    }
   },
   "outputs": [],
   "source": [
    "### GRADED\n",
    "\n",
    "predictions = ''\n",
    "\n",
    "### BEGIN SOLUTION\n",
    "dbscan = DBSCAN().fit(X)\n",
    "predictions = dbscan.labels_\n",
    "### END SOLUTION\n",
    "\n",
    "# Answer check\n",
    "print(predictions[:10])\n",
    "print(type(predictions))"
   ]
  },
  {
   "cell_type": "markdown",
   "metadata": {
    "nbgrader": {
     "grade": false,
     "grade_id": "cell-d7374ce75562feed",
     "locked": true,
     "schema_version": 1,
     "solution": false
    }
   },
   "source": [
    "[Back to top](#Index:) \n",
    "\n",
    "## Problem 3\n",
    "\n",
    "### Examining the predicted labels\n",
    "\n",
    "**4 Points**\n",
    "\n",
    "Use `np.unique` function with argument equal to `predictons` to examine the unique values of the predicted values.  Assign the unique values of the labels to `unique_labels` below.  \n",
    "\n",
    "How many cluster labels were determined by the algorithm?  Assign your answer as an integer to `n_clusters_default` below."
   ]
  },
  {
   "cell_type": "code",
   "execution_count": null,
   "metadata": {
    "nbgrader": {
     "grade": false,
     "grade_id": "cell-219deed3b0319e18",
     "locked": false,
     "schema_version": 1,
     "solution": true
    }
   },
   "outputs": [],
   "source": [
    "### GRADED\n",
    "\n",
    "unique_labels = ''\n",
    "n_clusters_default = ''\n",
    "\n",
    "### BEGIN SOLUTION\n",
    "unique_labels = np.unique(predictions)\n",
    "n_clusters_default = 0\n",
    "### END SOLUTION\n",
    "\n",
    "# Answer check\n",
    "print(unique_labels)"
   ]
  },
  {
   "cell_type": "markdown",
   "metadata": {
    "nbgrader": {
     "grade": false,
     "grade_id": "cell-bc01ac36ce597d0f",
     "locked": true,
     "schema_version": 1,
     "solution": false
    }
   },
   "source": [
    "[Back to top](#Index:) \n",
    "\n",
    "## Problem 4\n",
    "\n",
    "### Recognizing the limitations\n",
    "\n",
    "**4 Points**\n",
    "\n",
    "Here, the predictions of the DBSCAN algorithm don't seem to be very good.  This is due to you using an inappropriate value for the `eps` attribute.  The default value is `eps = 0.5`, and this is used to determine the density of a cluster.  Our points are seperated by larger distances, so we should increase `eps` to a larger value in hopes of getting a better performing clustering. \n",
    "\n",
    "Below, instantiate and fit a `DBSCAN` clusterer with argument `eps` equal to `2.0` as `dbscan_eps_2` and examine the unique labels by chaining the `fit(X)` function.  \n",
    "\n",
    "Next, use the `labels_` method on `dbscan_eps_2` and assign the new clusters labels as a NumPy array to `predictions_eps_2` below.  \n",
    "\n",
    "Finally, use the NumPy function `unique` to assign the unique values of `predictions_eps_2` to `unique_labels_eps_2`."
   ]
  },
  {
   "cell_type": "code",
   "execution_count": null,
   "metadata": {
    "nbgrader": {
     "grade": false,
     "grade_id": "cell-1b5668e955e903af",
     "locked": false,
     "schema_version": 1,
     "solution": true
    }
   },
   "outputs": [],
   "source": [
    "### GRADED\n",
    "\n",
    "dbscan_eps_2 = ''\n",
    "predictions_eps_2 = ''\n",
    "unique_labels_eps_2 = ''\n",
    "\n",
    "### BEGIN SOLUTION\n",
    "dbscan_eps_2 = DBSCAN(eps = 2.0).fit(X)\n",
    "predictions_eps_2 = dbscan_eps_2.labels_\n",
    "unique_labels_eps_2 = np.unique(predictions_eps_2)\n",
    "### END SOLUTION\n",
    "\n",
    "# Answer check\n",
    "print(unique_labels_eps_2)"
   ]
  },
  {
   "cell_type": "markdown",
   "metadata": {
    "nbgrader": {
     "grade": false,
     "grade_id": "cell-708bca5eb75be797",
     "locked": true,
     "schema_version": 1,
     "solution": false
    }
   },
   "source": [
    "[Back to top](#Index:) \n",
    "\n",
    "## Problem 5\n",
    "\n",
    "### How many non-cluster points\n",
    "\n",
    "**4 Points**\n",
    "\n",
    "Below, you can examine the results of the clustering.  Note that `DBSCAN` will always return the same clustering of a given dataset.  Also, while increasing `eps` led to a much more coherent clustering, some points were not identified as belonging to a cluster. Determine how many points were labeled as noise with your `dbscan_eps_2` predictions and assign this as an integer to `noise_eps_2` below.\n",
    "\n",
    "![](images/eps2.png)"
   ]
  },
  {
   "cell_type": "code",
   "execution_count": null,
   "metadata": {
    "nbgrader": {
     "grade": false,
     "grade_id": "cell-5bce818c242833c4",
     "locked": false,
     "schema_version": 1,
     "solution": true
    }
   },
   "outputs": [],
   "source": [
    "### GRADED\n",
    "\n",
    "noise_eps_2 = ''\n",
    "\n",
    "### BEGIN SOLUTION\n",
    "unique_labels, counts = np.unique(predictions_eps_2, return_counts = True)\n",
    "noise_eps_2 = counts[0]\n",
    "### END SOLUTION\n",
    "\n",
    "# Answer check\n",
    "print(noise_eps_2)"
   ]
  },
  {
   "cell_type": "markdown",
   "metadata": {},
   "source": [
    "### Examining the difference across multiple epsilons"
   ]
  },
  {
   "cell_type": "code",
   "execution_count": null,
   "metadata": {},
   "outputs": [],
   "source": [
    "#various epsilon values\n",
    "epsilons = np.arange(0.1, 10, 0.2)"
   ]
  },
  {
   "cell_type": "code",
   "execution_count": null,
   "metadata": {},
   "outputs": [],
   "source": [
    "#examine the number of clusters created with \n",
    "#each epsilon value. \n",
    "#Plot the results\n",
    "n_clusters_list = []\n",
    "for eps in epsilons:\n",
    "    db = DBSCAN(eps = eps).fit(X)\n",
    "    n_clusters = len(np.unique(db.labels_))\n",
    "    n_clusters_list.append(n_clusters)\n",
    "plt.plot(epsilons, n_clusters_list)\n",
    "plt.xlabel('Epsilon')\n",
    "plt.ylabel('Number of Clusters')\n",
    "plt.title('How the Number of Clusters varies with eps');"
   ]
  },
  {
   "cell_type": "code",
   "execution_count": null,
   "metadata": {},
   "outputs": [],
   "source": []
  }
 ],
 "metadata": {
  "celltoolbar": "Create Assignment",
  "kernelspec": {
   "display_name": "Python 3 (ipykernel)",
   "language": "python",
   "name": "python3"
  },
  "language_info": {
   "codemirror_mode": {
    "name": "ipython",
    "version": 3
   },
   "file_extension": ".py",
   "mimetype": "text/x-python",
   "name": "python",
   "nbconvert_exporter": "python",
   "pygments_lexer": "ipython3",
   "version": "3.12.1"
  }
 },
 "nbformat": 4,
 "nbformat_minor": 4
}
