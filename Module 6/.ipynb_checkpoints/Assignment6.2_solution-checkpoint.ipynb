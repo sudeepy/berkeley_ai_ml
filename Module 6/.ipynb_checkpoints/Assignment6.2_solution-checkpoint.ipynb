{
 "cells": [
  {
   "cell_type": "markdown",
   "metadata": {
    "nbgrader": {
     "grade": false,
     "grade_id": "cell-39494bfb12322155",
     "locked": true,
     "schema_version": 1,
     "solution": false
    }
   },
   "source": [
    "## Required Assignment 6.2: Conducting the K-Means Algorithm in Python\n",
    "\n",
    "**Expected Time: 120 Minutes**\n",
    "\n",
    "**Total Points: 28 Points**\n",
    "\n",
    "This exercise focuses on initially choosing the center points for each of the clusters.  Given three different datasets, you should choose cluster centers that make sense given the data.  Here, we will choose the centers given specific options.  Think about a more general approach to selecting the centers as you work through these examples. \n",
    "\n",
    "Next, you will be asked to compute the within-cluster sum of squares is computed.  Once the sum of squares for each cluster center and observation are determined, a label is chosen based on the smallest sum of squares.  Finally, within each of these clusters, the centers are updated based on the within-cluster mean.  Formally, the KMeans objective function is:\n",
    "\n",
    "$${\\displaystyle {\\underset {\\mathbf {S} }{\\operatorname {arg\\,min} }}\\sum _{i=1}^{k}\\sum _{\\mathbf {x} \\in S_{i}}\\left\\|\\mathbf {x} -{\\boldsymbol {\\mu }}_{i}\\right\\|^{2}={\\underset {\\mathbf {S} }{\\operatorname {arg\\,min} }}\\sum _{i=1}^{k}|S_{i}|\\operatorname {Var} S_{i}}$$\n",
    "\n",
    "\n",
    "In the last part of this assignment, you will focus on using `sklearn` to perform `KMeans` clustering.  You will compare initialization methods and determine the \"right\" number of clusters using an elbow plot.  The data are again produced using `sklearn`.  \n",
    "\n",
    "## Index:\n",
    "\n",
    "- [Problem 1](#Problem-1)\n",
    "- [Problem 2](#Problem-2)\n",
    "- [Problem 3](#Problem-3)\n",
    "- [Problem 4](#Problem-4)\n",
    "- [Problem 5](#Problem-5)\n",
    "- [Problem 6](#Problem-6)\n",
    "- [Problem 7](#Problem-7)\n",
    "- [Problem 8](#Problem-8)\n",
    "- [Problem 9](#Problem-9)\n",
    "- [Problem 10](#Problem-10)"
   ]
  },
  {
   "cell_type": "code",
   "execution_count": null,
   "metadata": {},
   "outputs": [],
   "source": [
    "from sklearn.datasets import make_blobs, make_circles, make_moons\n",
    "import numpy as np\n",
    "import pandas as pd\n",
    "import matplotlib.pyplot as plt\n",
    "import seaborn as sns\n",
    "from sklearn.cluster import KMeans\n",
    "from mpl_toolkits import mplot3d"
   ]
  },
  {
   "cell_type": "markdown",
   "metadata": {
    "nbgrader": {
     "grade": false,
     "grade_id": "cell-29903dfa4fbab064",
     "locked": true,
     "schema_version": 1,
     "solution": false
    }
   },
   "source": [
    "### Creating Data\n",
    "\n",
    "Using the `sklearn` dataset utilities, we create and plot three datasets below.  Your task will be to determine a starting place for the clusters by choosing appropriate cluster centers.  The clusters have been colored according to the labels created for demonstration purposes.  Recall that in a real clustering scenario, you won't have labels on your data."
   ]
  },
  {
   "cell_type": "code",
   "execution_count": null,
   "metadata": {},
   "outputs": [],
   "source": [
    "n_samples = 1500"
   ]
  },
  {
   "cell_type": "markdown",
   "metadata": {
    "nbgrader": {
     "grade": false,
     "grade_id": "cell-9c04807e5f29c7de",
     "locked": true,
     "schema_version": 1,
     "solution": false
    }
   },
   "source": [
    "[Back to top](#Index:) \n",
    "\n",
    "## Problem 1\n",
    "\n",
    "### Choosing Initial Centers\n",
    "\n",
    "**6 Points**\n",
    "\n",
    "Which of the following options do you think would serve as good initial cluster centers for the dataset \"Cluster Group I\" visualized below?  Enter your answer as a string to `ans1` below.  \n",
    "\n",
    "```\n",
    "a) (-2, -5), (2, -5), (10, -5)\n",
    "b) (-5, -5), (2, 2), (2, -7)\n",
    "c) (-2, 5), (8, 5), (10, -5)\n",
    "```"
   ]
  },
  {
   "cell_type": "code",
   "execution_count": null,
   "metadata": {},
   "outputs": [],
   "source": [
    "X1, Y1 = make_blobs(n_samples=n_samples, random_state=24)\n",
    "plt.scatter(X1[:, 0], X1[:, 1], c = Y1)\n",
    "plt.title('Cluster Group I')\n",
    "plt.grid();"
   ]
  },
  {
   "cell_type": "code",
   "execution_count": null,
   "metadata": {
    "nbgrader": {
     "grade": false,
     "grade_id": "cell-86f309c710956921",
     "locked": false,
     "schema_version": 1,
     "solution": true
    }
   },
   "outputs": [],
   "source": [
    "### GRADED\n",
    "\n",
    "ans1 = ''\n",
    "\n",
    "### BEGIN SOLUTION\n",
    "ans1 = 'c'\n",
    "### END SOLUTION"
   ]
  },
  {
   "cell_type": "markdown",
   "metadata": {
    "nbgrader": {
     "grade": false,
     "grade_id": "cell-b97f37ada7d134e9",
     "locked": true,
     "schema_version": 1,
     "solution": false
    }
   },
   "source": [
    "[Back to top](#Index:) \n",
    "\n",
    "## Problem 2\n",
    "\n",
    "## Choosing Initial Centers\n",
    "\n",
    "**6 Points**\n",
    "\n",
    "Below, a second dataset is created.  Again, your task is to identify what appropriate starting centers could be.  Assign your answer as a string to `ans2` below.\n",
    "\n",
    "```\n",
    "a) (-6, 5), (-1, 5), (3, 5)\n",
    "b) (-4, -7), (1, 6), (3, -7)\n",
    "c) (-6, 6), (0, 7), (6, 7)\n",
    "```"
   ]
  },
  {
   "cell_type": "code",
   "execution_count": null,
   "metadata": {},
   "outputs": [],
   "source": [
    "X2, Y2 = make_blobs(n_samples=n_samples, random_state=111)\n",
    "plt.scatter(X2[:, 0], X2[:, 1], c = Y2)\n",
    "plt.grid()\n",
    "plt.title('Cluster Group II');"
   ]
  },
  {
   "cell_type": "code",
   "execution_count": null,
   "metadata": {
    "nbgrader": {
     "grade": false,
     "grade_id": "cell-26ca50d50e1b1d8c",
     "locked": false,
     "schema_version": 1,
     "solution": true
    }
   },
   "outputs": [],
   "source": [
    "### GRADED\n",
    "\n",
    "ans2 = ''\n",
    "\n",
    "### BEGIN SOLUTION\n",
    "ans2 = 'b'\n",
    "### END SOLUTION"
   ]
  },
  {
   "cell_type": "markdown",
   "metadata": {
    "nbgrader": {
     "grade": false,
     "grade_id": "cell-cfe40ec5b5fd2fb2",
     "locked": true,
     "schema_version": 1,
     "solution": false
    }
   },
   "source": [
    "[Back to top](#Index:) \n",
    "\n",
    "## Problem 3\n",
    "\n",
    "### Choosing Initial Centers\n",
    "\n",
    "**6 Points**\n",
    "\n",
    "Once again, given the data below, choose the best initial centers for clustering.  Assign your answer as a string to `ans3` below.  \n",
    "\n",
    "```\n",
    "a) (-5, -10), (7, 0), (10, 0)\n",
    "b) (-5, -10), (7, 10), (10, 10)\n",
    "c) (-5, -10), (7, 0), (10, 10)\n",
    "```"
   ]
  },
  {
   "cell_type": "code",
   "execution_count": null,
   "metadata": {},
   "outputs": [],
   "source": [
    "X3, Y3 = make_blobs(n_samples=n_samples, random_state=8)\n",
    "plt.scatter(X3[:, 0], X3[:, 1], c = Y3)\n",
    "plt.grid()\n",
    "plt.title('Cluster Group III');"
   ]
  },
  {
   "cell_type": "code",
   "execution_count": null,
   "metadata": {
    "nbgrader": {
     "grade": false,
     "grade_id": "cell-6b0c978c8c798aed",
     "locked": false,
     "schema_version": 1,
     "solution": true
    }
   },
   "outputs": [],
   "source": [
    "### GRADED\n",
    "\n",
    "ans3 = ''\n",
    "\n",
    "### BEGIN SOLUTION\n",
    "ans3 = 'c'\n",
    "### END SOLUTION"
   ]
  },
  {
   "cell_type": "markdown",
   "metadata": {
    "nbgrader": {
     "grade": false,
     "grade_id": "cell-530e69693f624f62",
     "locked": true,
     "schema_version": 1,
     "solution": false
    }
   },
   "source": [
    "For the next part of the assignment, you will use the built-in dataset generator from `sklearn` to create a small dataset to demonstrate a simple case of KMeans clustering.  The data is created and plotted below.  It seems there are three clusters, so we assume there should be three cluster centers."
   ]
  },
  {
   "cell_type": "code",
   "execution_count": null,
   "metadata": {},
   "outputs": [],
   "source": [
    "X1, _ = make_blobs(n_samples=20, random_state=42)\n",
    "plt.scatter(X1[:, 0], X1[:, 1])\n",
    "plt.title('Small Sample Dataset')\n",
    "plt.grid();"
   ]
  },
  {
   "cell_type": "markdown",
   "metadata": {
    "nbgrader": {
     "grade": false,
     "grade_id": "cell-283b4ea5f4d481fe",
     "locked": true,
     "schema_version": 1,
     "solution": false
    }
   },
   "source": [
    "### Creating a `DataFrame`\n",
    "\n",
    "Using `pandas`, a `DataFrame` is created to hold the small dataset.  The features are named `X1` and `X2`.  The `DataFrame` is named `df`."
   ]
  },
  {
   "cell_type": "code",
   "execution_count": null,
   "metadata": {},
   "outputs": [],
   "source": [
    "#create DataFrame of samples\n",
    "df = pd.DataFrame(X1, columns = ['X1', 'X2'])\n",
    "df.head()"
   ]
  },
  {
   "cell_type": "markdown",
   "metadata": {
    "nbgrader": {
     "grade": false,
     "grade_id": "cell-a8a3558761bb06df",
     "locked": true,
     "schema_version": 1,
     "solution": false
    }
   },
   "source": [
    "### Randomly Selecting Centers\n",
    "\n",
    "As noted, we will make initial cluster centroid assignments based on a random selection of data from the samples.  Below, the `.sample` method from the DataFrame is used to select three points at random.  These are assigned to the variable `centroids` as a DataFrame."
   ]
  },
  {
   "cell_type": "code",
   "execution_count": null,
   "metadata": {},
   "outputs": [],
   "source": [
    "centroids = df.sample(3, random_state = 11).reset_index(drop = True)\n",
    "centroids"
   ]
  },
  {
   "cell_type": "markdown",
   "metadata": {
    "nbgrader": {
     "grade": false,
     "grade_id": "cell-b0d344f63871dec2",
     "locked": true,
     "schema_version": 1,
     "solution": false
    }
   },
   "source": [
    "### Assigning initial centroid values\n",
    "\n",
    "Now, we select the individual centroid values and assign them as `c1`, `c2`, `c3` below. "
   ]
  },
  {
   "cell_type": "code",
   "execution_count": null,
   "metadata": {},
   "outputs": [],
   "source": [
    "c1 = centroids.iloc[0, :2].values\n",
    "c2 = centroids.iloc[1, :2].values\n",
    "c3 = centroids.iloc[2, :2].values"
   ]
  },
  {
   "cell_type": "markdown",
   "metadata": {
    "nbgrader": {
     "grade": false,
     "grade_id": "cell-48a678cfbfc827cc",
     "locked": true,
     "schema_version": 1,
     "solution": false
    }
   },
   "source": [
    "### Inner cluster sum of squares\n",
    "\n",
    "To find the intercluster variance, we can use the `np.linalg.norm` function.  This finds the distances squared from each of the cluster centers to each data point.  These distances are assembled into a DataFrame called `dist_df` and the three columns represent the three cluster centers.  Note that there should be a value of zero in each column because the centers were chosen as data points from the dataset.  "
   ]
  },
  {
   "cell_type": "code",
   "execution_count": null,
   "metadata": {},
   "outputs": [],
   "source": [
    "d1 = np.linalg.norm(df.iloc[:, :2] - c1, axis = 1)**2\n",
    "d2 = np.linalg.norm(df.iloc[:, :2] - c2, axis = 1)**2\n",
    "d3 = np.linalg.norm(df.iloc[:, :2] - c3, axis = 1)**2"
   ]
  },
  {
   "cell_type": "code",
   "execution_count": null,
   "metadata": {},
   "outputs": [],
   "source": [
    "dist_df = pd.DataFrame(np.array([d1, d2, d3]).T, columns = ['d1', 'd2', 'd3'])\n",
    "dist_df"
   ]
  },
  {
   "cell_type": "markdown",
   "metadata": {
    "nbgrader": {
     "grade": false,
     "grade_id": "cell-9f79f3e339da24a0",
     "locked": true,
     "schema_version": 1,
     "solution": false
    }
   },
   "source": [
    "[Back to top](#Index:) \n",
    "\n",
    "## Problem 4\n",
    "\n",
    "### What were the original centers\n",
    "\n",
    "**2 Points**\n",
    "\n",
    "In the distance data above, which data point was the original centroid of the first column?  Assign the index of the datapoint as an integer to `ans4` below."
   ]
  },
  {
   "cell_type": "code",
   "execution_count": null,
   "metadata": {
    "nbgrader": {
     "grade": false,
     "grade_id": "cell-19f93da887b9ce29",
     "locked": false,
     "schema_version": 1,
     "solution": true
    }
   },
   "outputs": [],
   "source": [
    "### GRADED\n",
    "\n",
    "ans4 = None\n",
    "\n",
    "### BEGIN SOLUTION\n",
    "ans4 = 3\n",
    "type(ans4)\n",
    "### END SOLUTION\n",
    "\n",
    "# Answer check\n",
    "print(ans4)\n",
    "print(type(ans4))"
   ]
  },
  {
   "cell_type": "markdown",
   "metadata": {
    "nbgrader": {
     "grade": false,
     "grade_id": "cell-4329758d08b7bd5f",
     "locked": true,
     "schema_version": 1,
     "solution": false
    }
   },
   "source": [
    "### Finding the `argmin`\n",
    "\n",
    "For each of the observations, we want to assign them to the cluster where the intercluster variance is minimized.  To do so, we can use the `np.argmin` function and apply it across the rows.  Note that this returns a label for which cluster the point will be assigned.  These labels are added to the original DataFrame and the points are plotted. "
   ]
  },
  {
   "cell_type": "code",
   "execution_count": null,
   "metadata": {},
   "outputs": [],
   "source": [
    "np.argmin(dist_df.values, axis = 1) #finding smallest variance\n",
    "df['cluster label'] = np.argmin(dist_df.values, axis = 1) #create new column of labels\n",
    "df.head()"
   ]
  },
  {
   "cell_type": "code",
   "execution_count": null,
   "metadata": {},
   "outputs": [],
   "source": [
    "sns.scatterplot(data = df, x = 'X1',y = 'X2', hue = 'cluster label', palette='tab10')\n",
    "plt.title('Cluster assignments after random centroids');"
   ]
  },
  {
   "cell_type": "markdown",
   "metadata": {},
   "source": [
    "[Back to top](#Index:) \n",
    "\n",
    "## Problem 5\n",
    "\n",
    "### Initial Cluster Assignments\n",
    "\n",
    "**2 Points**\n",
    "\n",
    "Now that the clusters have been assigned, what do you think of the initial assignments?  Did they end up matching with what your intuitive assignments would be?  Assign your solution to `ans5` below as a boolean value, `True` representing if the cluster assignments are \"good\", `False` if they are \"bad\". "
   ]
  },
  {
   "cell_type": "code",
   "execution_count": null,
   "metadata": {
    "nbgrader": {
     "grade": false,
     "grade_id": "cell-bce1f8abd5039090",
     "locked": false,
     "schema_version": 1,
     "solution": true
    }
   },
   "outputs": [],
   "source": [
    "### GRADED\n",
    "\n",
    "ans5 = None\n",
    "\n",
    "### BEGIN SOLUTION\n",
    "ans5 = False\n",
    "### END SOLUTION\n",
    "\n",
    "# Answer check\n",
    "print(ans5)"
   ]
  },
  {
   "cell_type": "markdown",
   "metadata": {
    "nbgrader": {
     "grade": false,
     "grade_id": "cell-16e82cc50409f6cd",
     "locked": true,
     "schema_version": 1,
     "solution": false
    }
   },
   "source": [
    "### Compute new centroids\n",
    "\n",
    "Using the new labels for the cluster centers, the final step is to update the random centroids based on the averages of each cluster.  One approach is to use the `groupby` method to group by the initial labels and aggregate based on the mean.  Below, we save these as a DataFrame named `new_centers` and plot the updated centroids in the scatterplot as red star markers.  "
   ]
  },
  {
   "cell_type": "code",
   "execution_count": null,
   "metadata": {},
   "outputs": [],
   "source": [
    "new_centers = df.groupby('cluster label').mean()"
   ]
  },
  {
   "cell_type": "code",
   "execution_count": null,
   "metadata": {},
   "outputs": [],
   "source": [
    "plt.figure(figsize = (14, 5))\n",
    "sns.scatterplot(data = df, x = 'X1',y = 'X2',s = 100, alpha = 0.4)\n",
    "plt.title('Updated Centroids');\n",
    "plt.scatter(new_centers['X1'], new_centers['X2'], marker = '*', s = 400, c = 'red', edgecolor = 'black')"
   ]
  },
  {
   "cell_type": "markdown",
   "metadata": {
    "nbgrader": {
     "grade": false,
     "grade_id": "cell-d8b1ef5dd1d8e35e",
     "locked": true,
     "schema_version": 1,
     "solution": false
    }
   },
   "source": [
    "### Creating the Data\n",
    "\n",
    "For the last part of the assignment, the data is created with a known number of cluster centers to make the evaluation of the clustering more straightforward.  A dataset with three features and four clusters is created and plotted below.  Your task is to uncover these clusters using `KMeans`.  "
   ]
  },
  {
   "cell_type": "code",
   "execution_count": null,
   "metadata": {},
   "outputs": [],
   "source": [
    "X, y = make_blobs(n_samples=200, n_features=3, centers = 4, random_state=42)\n",
    "ax = plt.axes(projection = '3d')\n",
    "ax.scatter3D(X[:, 0], X[:, 1], X[:, 2], c = y)\n",
    "ax.set_xlabel('X')\n",
    "ax.set_ylabel('Y')\n",
    "ax.set_zlabel('Z')\n",
    "plt.title('Artificial Dataset with 4 Clusters')\n",
    "plt.tight_layout();"
   ]
  },
  {
   "cell_type": "markdown",
   "metadata": {
    "nbgrader": {
     "grade": false,
     "grade_id": "cell-207199cc06f59cc2",
     "locked": true,
     "schema_version": 1,
     "solution": false
    }
   },
   "source": [
    "[Back to top](#Index:) \n",
    "\n",
    "## Problem 6\n",
    "\n",
    "### Instantiate `KMeans`\n",
    "\n",
    "**2 Points**\n",
    "\n",
    "To begin, you are to create an instance of the `KMeans` clustered.  Slightly different than the lectures, we directly import the `KMeans` object. \n",
    "\n",
    "Instantiate a `KMeans()` classifier and assign the result to `kmeans`.\n",
    "\n",
    "\n",
    "Inside the `KMeans()` classifier, set `random_state = 42`."
   ]
  },
  {
   "cell_type": "code",
   "execution_count": null,
   "metadata": {
    "nbgrader": {
     "grade": false,
     "grade_id": "cell-d247f6f03cddd8c9",
     "locked": false,
     "schema_version": 1,
     "solution": true
    }
   },
   "outputs": [],
   "source": [
    "### GRADED\n",
    "\n",
    "kmeans = '' #Don't Forget to set the random_state!!!\n",
    "\n",
    "### BEGIN SOLUTION\n",
    "kmeans = KMeans(random_state=42)\n",
    "### END SOLUTION\n",
    "\n",
    "# Answer check\n",
    "print(kmeans)"
   ]
  },
  {
   "cell_type": "markdown",
   "metadata": {
    "nbgrader": {
     "grade": false,
     "grade_id": "cell-4cf82e88d7c265f7",
     "locked": true,
     "schema_version": 1,
     "solution": false
    }
   },
   "source": [
    "[Back to top](#Index:) \n",
    "\n",
    "## Problem 7\n",
    "\n",
    "### Using `KMeans`\n",
    "\n",
    "**2 Points**\n",
    "\n",
    "To conduct the `KMeans` clustering algorithm on the data, use the `.fit()` method on `kmeans` with argument equal to `X`.  \n",
    "\n",
    "This will run the clustering algorithm on our data and make clustering assignments accordingly.  "
   ]
  },
  {
   "cell_type": "code",
   "execution_count": null,
   "metadata": {
    "nbgrader": {
     "grade": false,
     "grade_id": "cell-8c08ee574dc5bd73",
     "locked": false,
     "schema_version": 1,
     "solution": true
    }
   },
   "outputs": [],
   "source": [
    "### GRADED\n",
    "\n",
    "kmeans = '' #Don't Forget to set the random_state!!!\n",
    "\n",
    "### BEGIN SOLUTION\n",
    "kmeans = KMeans(random_state=42)\n",
    "kmeans.fit(X)\n",
    "### END SOLUTION\n",
    "\n",
    "# Answer check\n",
    "print(kmeans)"
   ]
  },
  {
   "cell_type": "markdown",
   "metadata": {},
   "source": [
    "[Back to top](#Index:) \n",
    "\n",
    "## Problem 8\n",
    "\n",
    "### Trying different numbers of clusters\n",
    "\n",
    "**2 Points**\n",
    "\n",
    "Our first cluster model used 8 cluster centers.  \n",
    "\n",
    "\n",
    "Below, use a `for` loop to create a list of inertia scores for models with $1, 2, 3, ..., 10$ cluster centers and append the `.inertia_` value for each to the list `inertias`.  Note that for each instance of `KMeans` you create, set `n_clusters` equal to `i` and the `random_state` equal to `42`.  "
   ]
  },
  {
   "cell_type": "code",
   "execution_count": null,
   "metadata": {
    "nbgrader": {
     "grade": false,
     "grade_id": "cell-f62b463672de6893",
     "locked": false,
     "schema_version": 1,
     "solution": true
    }
   },
   "outputs": [],
   "source": [
    "### GRADED\n",
    "\n",
    "inertias = [] \n",
    "#for each value 1 - 10\n",
    "\n",
    "       #instantiate new KMeans instance\n",
    "        #Don't Forget to set the random_state!!!\n",
    "        \n",
    "        #fit the model\n",
    "        \n",
    "        #append inertia score to inertias list\n",
    "\n",
    "### BEGIN SOLUTION\n",
    "inertias = []\n",
    "for i in range(1, 11):\n",
    "    kmeans = KMeans(n_clusters = i, random_state=42).fit(X)\n",
    "    inertias.append(kmeans.inertia_)\n",
    "### END SOLUTION\n",
    "\n",
    "# Answer check\n",
    "print(inertias)\n",
    "print(type(inertias))"
   ]
  },
  {
   "cell_type": "markdown",
   "metadata": {
    "nbgrader": {
     "grade": false,
     "grade_id": "cell-4dd0174a93a8155b",
     "locked": true,
     "schema_version": 1,
     "solution": false
    }
   },
   "source": [
    "[Back to top](#Index:) \n",
    "\n",
    "## Problem 9\n",
    "\n",
    "### Plotting the results\n",
    "\n",
    "**2 Points**\n",
    "\n",
    "Now that we have inertia values for `n_clusters` 1, 2, 3, ..., 10, a plot is drawn of the resulting centers and inertia scores.  The $x$-axis should contain the number of cluster centers and the $y$-axis should represent the inertia scores.  Uncomment the plotting code to examine a plot of these inertia values by cluster centers.  According to this plot, which do you feel is the \"right\" number of cluster centers for the data?  Assign your answer as an integer to `best_n_clusters` below. "
   ]
  },
  {
   "cell_type": "code",
   "execution_count": null,
   "metadata": {
    "nbgrader": {
     "grade": false,
     "grade_id": "cell-c0dcad09db2f0d98",
     "locked": false,
     "schema_version": 1,
     "solution": true
    }
   },
   "outputs": [],
   "source": [
    "### GRADED\n",
    "\n",
    "#plt.plot(list(range(1, 11)), inertias, '--o')\n",
    "#plt.xticks(list(range(1, 11)), list(range(1, 11)))\n",
    "#plt.title('Inertia Score by n cluster centers');\n",
    "best_n_clusters = ''\n",
    "\n",
    "### BEGIN SOLUTION\n",
    "best_n_clusters = 3\n",
    "### END SOLUTION\n",
    "\n",
    "# Answer check\n",
    "print(best_n_clusters)\n",
    "print(type(best_n_clusters))"
   ]
  },
  {
   "cell_type": "markdown",
   "metadata": {
    "nbgrader": {
     "grade": false,
     "grade_id": "cell-e2f629cf06e6950d",
     "locked": true,
     "schema_version": 1,
     "solution": false
    }
   },
   "source": [
    "[Back to top](#Index:) \n",
    "\n",
    "## Problem 10\n",
    "\n",
    "### Repeat with `random` initialization of centroids\n",
    "\n",
    "**2 Points**\n",
    "\n",
    "Note that by default, the `KMeans` clustered in sklearn uses `kmeans++` to initialize the center of the clusters.  \n",
    "\n",
    "Repeat the implementation of Problem 4 where you loop over values $1, 2, 3, ..., 10$ for the `n_clusters` but now initialize the centers randomly by setting the argument `init` equal to `random`.  Be sure to set `random_state = 42` and save your list of inertias to `random_inertias`.  \n",
    "\n",
    "\n",
    "Does the idea number of clusters change?  Enter your response to the best number of cluster centers when using `random` initialization to `best_n_clusters_random` as an integer below."
   ]
  },
  {
   "cell_type": "code",
   "execution_count": null,
   "metadata": {
    "nbgrader": {
     "grade": false,
     "grade_id": "cell-5082856e89f1ecac",
     "locked": false,
     "schema_version": 1,
     "solution": true
    }
   },
   "outputs": [],
   "source": [
    "### GRADED\n",
    "\n",
    "random_inertias = [] \n",
    "best_n_clusters_random = ''\n",
    "\n",
    "\n",
    "### BEGIN SOLUTION\n",
    "random_inertias = []\n",
    "for i in range(1, 11):\n",
    "    kmeans = KMeans(n_clusters = i, init='random', random_state=42).fit(X)\n",
    "    random_inertias.append(kmeans.inertia_)\n",
    "best_n_clusters_random = 3\n",
    "### END SOLUTION\n",
    "\n",
    "# Answer check\n",
    "print(random_inertias)\n",
    "print(type(random_inertias))"
   ]
  },
  {
   "cell_type": "code",
   "execution_count": null,
   "metadata": {},
   "outputs": [],
   "source": []
  },
  {
   "cell_type": "code",
   "execution_count": null,
   "metadata": {},
   "outputs": [],
   "source": []
  },
  {
   "cell_type": "code",
   "execution_count": null,
   "metadata": {},
   "outputs": [],
   "source": []
  }
 ],
 "metadata": {
  "celltoolbar": "Create Assignment",
  "kernelspec": {
   "display_name": "Python 3 (ipykernel)",
   "language": "python",
   "name": "python3"
  },
  "language_info": {
   "codemirror_mode": {
    "name": "ipython",
    "version": 3
   },
   "file_extension": ".py",
   "mimetype": "text/x-python",
   "name": "python",
   "nbconvert_exporter": "python",
   "pygments_lexer": "ipython3",
   "version": "3.11.9"
  }
 },
 "nbformat": 4,
 "nbformat_minor": 4
}
